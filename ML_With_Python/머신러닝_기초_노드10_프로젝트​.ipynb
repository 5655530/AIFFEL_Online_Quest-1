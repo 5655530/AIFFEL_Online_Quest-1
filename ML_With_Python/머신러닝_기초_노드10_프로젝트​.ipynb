{
  "nbformat": 4,
  "nbformat_minor": 0,
  "metadata": {
    "colab": {
      "provenance": [],
      "authorship_tag": "ABX9TyN/njm24D3hBBMQ6xiKvl5O",
      "include_colab_link": true
    },
    "kernelspec": {
      "name": "python3",
      "display_name": "Python 3"
    },
    "language_info": {
      "name": "python"
    }
  },
  "cells": [
    {
      "cell_type": "markdown",
      "metadata": {
        "id": "view-in-github",
        "colab_type": "text"
      },
      "source": [
        "<a href=\"https://colab.research.google.com/github/comandi1969/AIFFEL_Online_Quest/blob/main/ML_With_Python/%EB%A8%B8%EC%8B%A0%EB%9F%AC%EB%8B%9D_%EA%B8%B0%EC%B4%88_%EB%85%B8%EB%93%9C10_%ED%94%84%EB%A1%9C%EC%A0%9D%ED%8A%B8%E2%80%8B.ipynb\" target=\"_parent\"><img src=\"https://colab.research.google.com/assets/colab-badge.svg\" alt=\"Open In Colab\"/></a>"
      ]
    },
    {
      "cell_type": "code",
      "execution_count": 1,
      "metadata": {
        "id": "t3I5pNDBBwhk"
      },
      "outputs": [],
      "source": [
        "# 라이브러리\n",
        "import pandas as pd"
      ]
    },
    {
      "cell_type": "code",
      "source": [
        "# 데이터 불러오기\n",
        "train = pd.read_csv('train.csv')\n",
        "test = pd.read_csv('test.csv')\n",
        "\n",
        "# train.shape # (39116, 16)\n",
        "# test.shape # (9779, 15)\n",
        "type(train)"
      ],
      "metadata": {
        "colab": {
          "base_uri": "https://localhost:8080/",
          "height": 398
        },
        "id": "0H5H-LevGyHp",
        "outputId": "60189e98-4f93-4fa0-b09a-6d32a739dcae"
      },
      "execution_count": 2,
      "outputs": [
        {
          "output_type": "error",
          "ename": "FileNotFoundError",
          "evalue": "ignored",
          "traceback": [
            "\u001b[0;31m---------------------------------------------------------------------------\u001b[0m",
            "\u001b[0;31mFileNotFoundError\u001b[0m                         Traceback (most recent call last)",
            "\u001b[0;32m<ipython-input-2-5aa25f16aead>\u001b[0m in \u001b[0;36m<cell line: 2>\u001b[0;34m()\u001b[0m\n\u001b[1;32m      1\u001b[0m \u001b[0;31m# 데이터 불러오기\u001b[0m\u001b[0;34m\u001b[0m\u001b[0;34m\u001b[0m\u001b[0m\n\u001b[0;32m----> 2\u001b[0;31m \u001b[0mtrain\u001b[0m \u001b[0;34m=\u001b[0m \u001b[0mpd\u001b[0m\u001b[0;34m.\u001b[0m\u001b[0mread_csv\u001b[0m\u001b[0;34m(\u001b[0m\u001b[0;34m'train.csv'\u001b[0m\u001b[0;34m)\u001b[0m\u001b[0;34m\u001b[0m\u001b[0;34m\u001b[0m\u001b[0m\n\u001b[0m\u001b[1;32m      3\u001b[0m \u001b[0mtest\u001b[0m \u001b[0;34m=\u001b[0m \u001b[0mpd\u001b[0m\u001b[0;34m.\u001b[0m\u001b[0mread_csv\u001b[0m\u001b[0;34m(\u001b[0m\u001b[0;34m'test.csv'\u001b[0m\u001b[0;34m)\u001b[0m\u001b[0;34m\u001b[0m\u001b[0;34m\u001b[0m\u001b[0m\n\u001b[1;32m      4\u001b[0m \u001b[0;34m\u001b[0m\u001b[0m\n\u001b[1;32m      5\u001b[0m \u001b[0;31m# train.shape # (39116, 16)\u001b[0m\u001b[0;34m\u001b[0m\u001b[0;34m\u001b[0m\u001b[0m\n",
            "\u001b[0;32m/usr/local/lib/python3.10/dist-packages/pandas/util/_decorators.py\u001b[0m in \u001b[0;36mwrapper\u001b[0;34m(*args, **kwargs)\u001b[0m\n\u001b[1;32m    209\u001b[0m                 \u001b[0;32melse\u001b[0m\u001b[0;34m:\u001b[0m\u001b[0;34m\u001b[0m\u001b[0;34m\u001b[0m\u001b[0m\n\u001b[1;32m    210\u001b[0m                     \u001b[0mkwargs\u001b[0m\u001b[0;34m[\u001b[0m\u001b[0mnew_arg_name\u001b[0m\u001b[0;34m]\u001b[0m \u001b[0;34m=\u001b[0m \u001b[0mnew_arg_value\u001b[0m\u001b[0;34m\u001b[0m\u001b[0;34m\u001b[0m\u001b[0m\n\u001b[0;32m--> 211\u001b[0;31m             \u001b[0;32mreturn\u001b[0m \u001b[0mfunc\u001b[0m\u001b[0;34m(\u001b[0m\u001b[0;34m*\u001b[0m\u001b[0margs\u001b[0m\u001b[0;34m,\u001b[0m \u001b[0;34m**\u001b[0m\u001b[0mkwargs\u001b[0m\u001b[0;34m)\u001b[0m\u001b[0;34m\u001b[0m\u001b[0;34m\u001b[0m\u001b[0m\n\u001b[0m\u001b[1;32m    212\u001b[0m \u001b[0;34m\u001b[0m\u001b[0m\n\u001b[1;32m    213\u001b[0m         \u001b[0;32mreturn\u001b[0m \u001b[0mcast\u001b[0m\u001b[0;34m(\u001b[0m\u001b[0mF\u001b[0m\u001b[0;34m,\u001b[0m \u001b[0mwrapper\u001b[0m\u001b[0;34m)\u001b[0m\u001b[0;34m\u001b[0m\u001b[0;34m\u001b[0m\u001b[0m\n",
            "\u001b[0;32m/usr/local/lib/python3.10/dist-packages/pandas/util/_decorators.py\u001b[0m in \u001b[0;36mwrapper\u001b[0;34m(*args, **kwargs)\u001b[0m\n\u001b[1;32m    329\u001b[0m                     \u001b[0mstacklevel\u001b[0m\u001b[0;34m=\u001b[0m\u001b[0mfind_stack_level\u001b[0m\u001b[0;34m(\u001b[0m\u001b[0;34m)\u001b[0m\u001b[0;34m,\u001b[0m\u001b[0;34m\u001b[0m\u001b[0;34m\u001b[0m\u001b[0m\n\u001b[1;32m    330\u001b[0m                 )\n\u001b[0;32m--> 331\u001b[0;31m             \u001b[0;32mreturn\u001b[0m \u001b[0mfunc\u001b[0m\u001b[0;34m(\u001b[0m\u001b[0;34m*\u001b[0m\u001b[0margs\u001b[0m\u001b[0;34m,\u001b[0m \u001b[0;34m**\u001b[0m\u001b[0mkwargs\u001b[0m\u001b[0;34m)\u001b[0m\u001b[0;34m\u001b[0m\u001b[0;34m\u001b[0m\u001b[0m\n\u001b[0m\u001b[1;32m    332\u001b[0m \u001b[0;34m\u001b[0m\u001b[0m\n\u001b[1;32m    333\u001b[0m         \u001b[0;31m# error: \"Callable[[VarArg(Any), KwArg(Any)], Any]\" has no\u001b[0m\u001b[0;34m\u001b[0m\u001b[0;34m\u001b[0m\u001b[0m\n",
            "\u001b[0;32m/usr/local/lib/python3.10/dist-packages/pandas/io/parsers/readers.py\u001b[0m in \u001b[0;36mread_csv\u001b[0;34m(filepath_or_buffer, sep, delimiter, header, names, index_col, usecols, squeeze, prefix, mangle_dupe_cols, dtype, engine, converters, true_values, false_values, skipinitialspace, skiprows, skipfooter, nrows, na_values, keep_default_na, na_filter, verbose, skip_blank_lines, parse_dates, infer_datetime_format, keep_date_col, date_parser, dayfirst, cache_dates, iterator, chunksize, compression, thousands, decimal, lineterminator, quotechar, quoting, doublequote, escapechar, comment, encoding, encoding_errors, dialect, error_bad_lines, warn_bad_lines, on_bad_lines, delim_whitespace, low_memory, memory_map, float_precision, storage_options)\u001b[0m\n\u001b[1;32m    948\u001b[0m     \u001b[0mkwds\u001b[0m\u001b[0;34m.\u001b[0m\u001b[0mupdate\u001b[0m\u001b[0;34m(\u001b[0m\u001b[0mkwds_defaults\u001b[0m\u001b[0;34m)\u001b[0m\u001b[0;34m\u001b[0m\u001b[0;34m\u001b[0m\u001b[0m\n\u001b[1;32m    949\u001b[0m \u001b[0;34m\u001b[0m\u001b[0m\n\u001b[0;32m--> 950\u001b[0;31m     \u001b[0;32mreturn\u001b[0m \u001b[0m_read\u001b[0m\u001b[0;34m(\u001b[0m\u001b[0mfilepath_or_buffer\u001b[0m\u001b[0;34m,\u001b[0m \u001b[0mkwds\u001b[0m\u001b[0;34m)\u001b[0m\u001b[0;34m\u001b[0m\u001b[0;34m\u001b[0m\u001b[0m\n\u001b[0m\u001b[1;32m    951\u001b[0m \u001b[0;34m\u001b[0m\u001b[0m\n\u001b[1;32m    952\u001b[0m \u001b[0;34m\u001b[0m\u001b[0m\n",
            "\u001b[0;32m/usr/local/lib/python3.10/dist-packages/pandas/io/parsers/readers.py\u001b[0m in \u001b[0;36m_read\u001b[0;34m(filepath_or_buffer, kwds)\u001b[0m\n\u001b[1;32m    603\u001b[0m \u001b[0;34m\u001b[0m\u001b[0m\n\u001b[1;32m    604\u001b[0m     \u001b[0;31m# Create the parser.\u001b[0m\u001b[0;34m\u001b[0m\u001b[0;34m\u001b[0m\u001b[0m\n\u001b[0;32m--> 605\u001b[0;31m     \u001b[0mparser\u001b[0m \u001b[0;34m=\u001b[0m \u001b[0mTextFileReader\u001b[0m\u001b[0;34m(\u001b[0m\u001b[0mfilepath_or_buffer\u001b[0m\u001b[0;34m,\u001b[0m \u001b[0;34m**\u001b[0m\u001b[0mkwds\u001b[0m\u001b[0;34m)\u001b[0m\u001b[0;34m\u001b[0m\u001b[0;34m\u001b[0m\u001b[0m\n\u001b[0m\u001b[1;32m    606\u001b[0m \u001b[0;34m\u001b[0m\u001b[0m\n\u001b[1;32m    607\u001b[0m     \u001b[0;32mif\u001b[0m \u001b[0mchunksize\u001b[0m \u001b[0;32mor\u001b[0m \u001b[0miterator\u001b[0m\u001b[0;34m:\u001b[0m\u001b[0;34m\u001b[0m\u001b[0;34m\u001b[0m\u001b[0m\n",
            "\u001b[0;32m/usr/local/lib/python3.10/dist-packages/pandas/io/parsers/readers.py\u001b[0m in \u001b[0;36m__init__\u001b[0;34m(self, f, engine, **kwds)\u001b[0m\n\u001b[1;32m   1440\u001b[0m \u001b[0;34m\u001b[0m\u001b[0m\n\u001b[1;32m   1441\u001b[0m         \u001b[0mself\u001b[0m\u001b[0;34m.\u001b[0m\u001b[0mhandles\u001b[0m\u001b[0;34m:\u001b[0m \u001b[0mIOHandles\u001b[0m \u001b[0;34m|\u001b[0m \u001b[0;32mNone\u001b[0m \u001b[0;34m=\u001b[0m \u001b[0;32mNone\u001b[0m\u001b[0;34m\u001b[0m\u001b[0;34m\u001b[0m\u001b[0m\n\u001b[0;32m-> 1442\u001b[0;31m         \u001b[0mself\u001b[0m\u001b[0;34m.\u001b[0m\u001b[0m_engine\u001b[0m \u001b[0;34m=\u001b[0m \u001b[0mself\u001b[0m\u001b[0;34m.\u001b[0m\u001b[0m_make_engine\u001b[0m\u001b[0;34m(\u001b[0m\u001b[0mf\u001b[0m\u001b[0;34m,\u001b[0m \u001b[0mself\u001b[0m\u001b[0;34m.\u001b[0m\u001b[0mengine\u001b[0m\u001b[0;34m)\u001b[0m\u001b[0;34m\u001b[0m\u001b[0;34m\u001b[0m\u001b[0m\n\u001b[0m\u001b[1;32m   1443\u001b[0m \u001b[0;34m\u001b[0m\u001b[0m\n\u001b[1;32m   1444\u001b[0m     \u001b[0;32mdef\u001b[0m \u001b[0mclose\u001b[0m\u001b[0;34m(\u001b[0m\u001b[0mself\u001b[0m\u001b[0;34m)\u001b[0m \u001b[0;34m->\u001b[0m \u001b[0;32mNone\u001b[0m\u001b[0;34m:\u001b[0m\u001b[0;34m\u001b[0m\u001b[0;34m\u001b[0m\u001b[0m\n",
            "\u001b[0;32m/usr/local/lib/python3.10/dist-packages/pandas/io/parsers/readers.py\u001b[0m in \u001b[0;36m_make_engine\u001b[0;34m(self, f, engine)\u001b[0m\n\u001b[1;32m   1733\u001b[0m                 \u001b[0;32mif\u001b[0m \u001b[0;34m\"b\"\u001b[0m \u001b[0;32mnot\u001b[0m \u001b[0;32min\u001b[0m \u001b[0mmode\u001b[0m\u001b[0;34m:\u001b[0m\u001b[0;34m\u001b[0m\u001b[0;34m\u001b[0m\u001b[0m\n\u001b[1;32m   1734\u001b[0m                     \u001b[0mmode\u001b[0m \u001b[0;34m+=\u001b[0m \u001b[0;34m\"b\"\u001b[0m\u001b[0;34m\u001b[0m\u001b[0;34m\u001b[0m\u001b[0m\n\u001b[0;32m-> 1735\u001b[0;31m             self.handles = get_handle(\n\u001b[0m\u001b[1;32m   1736\u001b[0m                 \u001b[0mf\u001b[0m\u001b[0;34m,\u001b[0m\u001b[0;34m\u001b[0m\u001b[0;34m\u001b[0m\u001b[0m\n\u001b[1;32m   1737\u001b[0m                 \u001b[0mmode\u001b[0m\u001b[0;34m,\u001b[0m\u001b[0;34m\u001b[0m\u001b[0;34m\u001b[0m\u001b[0m\n",
            "\u001b[0;32m/usr/local/lib/python3.10/dist-packages/pandas/io/common.py\u001b[0m in \u001b[0;36mget_handle\u001b[0;34m(path_or_buf, mode, encoding, compression, memory_map, is_text, errors, storage_options)\u001b[0m\n\u001b[1;32m    854\u001b[0m         \u001b[0;32mif\u001b[0m \u001b[0mioargs\u001b[0m\u001b[0;34m.\u001b[0m\u001b[0mencoding\u001b[0m \u001b[0;32mand\u001b[0m \u001b[0;34m\"b\"\u001b[0m \u001b[0;32mnot\u001b[0m \u001b[0;32min\u001b[0m \u001b[0mioargs\u001b[0m\u001b[0;34m.\u001b[0m\u001b[0mmode\u001b[0m\u001b[0;34m:\u001b[0m\u001b[0;34m\u001b[0m\u001b[0;34m\u001b[0m\u001b[0m\n\u001b[1;32m    855\u001b[0m             \u001b[0;31m# Encoding\u001b[0m\u001b[0;34m\u001b[0m\u001b[0;34m\u001b[0m\u001b[0m\n\u001b[0;32m--> 856\u001b[0;31m             handle = open(\n\u001b[0m\u001b[1;32m    857\u001b[0m                 \u001b[0mhandle\u001b[0m\u001b[0;34m,\u001b[0m\u001b[0;34m\u001b[0m\u001b[0;34m\u001b[0m\u001b[0m\n\u001b[1;32m    858\u001b[0m                 \u001b[0mioargs\u001b[0m\u001b[0;34m.\u001b[0m\u001b[0mmode\u001b[0m\u001b[0;34m,\u001b[0m\u001b[0;34m\u001b[0m\u001b[0;34m\u001b[0m\u001b[0m\n",
            "\u001b[0;31mFileNotFoundError\u001b[0m: [Errno 2] No such file or directory: 'train.csv'"
          ]
        }
      ]
    },
    {
      "cell_type": "code",
      "source": [
        "# 데이터 크기\n",
        "train.shape, test.shape"
      ],
      "metadata": {
        "id": "dC0y-s19G6Wp"
      },
      "execution_count": null,
      "outputs": []
    },
    {
      "cell_type": "code",
      "source": [
        "# 데이터 샘플\n",
        "display(train.head(2))\n",
        "display(test.head(2))"
      ],
      "metadata": {
        "id": "2iA2yhGnHFLN"
      },
      "execution_count": null,
      "outputs": []
    },
    {
      "cell_type": "code",
      "source": [
        "# 데이터 타입\n",
        "train.info()\n",
        "test.info()"
      ],
      "metadata": {
        "id": "PmE_1dHXHOuj"
      },
      "execution_count": null,
      "outputs": []
    },
    {
      "cell_type": "code",
      "source": [
        "# 결측치(train)\n",
        "train.isnull().sum()"
      ],
      "metadata": {
        "id": "qc7LIlyvHf0L"
      },
      "execution_count": null,
      "outputs": []
    },
    {
      "cell_type": "code",
      "source": [
        "# 결측치(test)\n",
        "test.isnull().sum()"
      ],
      "metadata": {
        "id": "xRwdnrvPHouV"
      },
      "execution_count": null,
      "outputs": []
    },
    {
      "cell_type": "code",
      "source": [
        "# target(hist)\n",
        "train['price'].hist(bins=100)"
      ],
      "metadata": {
        "id": "3eFmK440HyA1"
      },
      "execution_count": null,
      "outputs": []
    },
    {
      "cell_type": "code",
      "source": [
        "# import numpy as np\n",
        "# train['price'] = np.log1p(train['price'])\n",
        "# train['price'].hist(bins=100)"
      ],
      "metadata": {
        "id": "AqU0QMgmUpjl"
      },
      "execution_count": null,
      "outputs": []
    },
    {
      "cell_type": "code",
      "source": [
        "# target(describe)\n",
        "train['price'].describe()"
      ],
      "metadata": {
        "id": "UBRArrtPIIzG"
      },
      "execution_count": null,
      "outputs": []
    },
    {
      "cell_type": "code",
      "source": [
        "train.head()"
      ],
      "metadata": {
        "id": "r8p4hVPQI0VW"
      },
      "execution_count": null,
      "outputs": []
    },
    {
      "cell_type": "code",
      "source": [
        "# 결측치 컬럼 삭제(last_review)\n",
        "display(train.columns)\n",
        "train['last_review'].isnull().sum()\n",
        "#train[['last_review', 'reviews_per_month']]\n",
        "train = train.drop('last_review', axis=1)\n",
        "test = test.drop('last_review', axis=1)\n",
        "\n",
        "# train.shape # (39116, 15)\n",
        "# test.shape # (9779, 14)"
      ],
      "metadata": {
        "id": "5RLt_sSIKapZ"
      },
      "execution_count": null,
      "outputs": []
    },
    {
      "cell_type": "code",
      "source": [
        "# 결측치 채우기\n",
        "train['reviews_per_month'] = train['reviews_per_month'].fillna(0.0)\n",
        "test['reviews_per_month'] = test['reviews_per_month'].fillna(0.0)\n",
        "\n",
        "# train.shape # (39116, 15)\n",
        "# test.shape # (9779, 14)"
      ],
      "metadata": {
        "id": "t5bzPNB6RC6g"
      },
      "execution_count": null,
      "outputs": []
    },
    {
      "cell_type": "code",
      "source": [
        "# 결측치 확인\n",
        "train.isnull().sum()\n",
        "test.isnull().sum()\n",
        "\n"
      ],
      "metadata": {
        "id": "5nrZz9L5S2iB"
      },
      "execution_count": null,
      "outputs": []
    },
    {
      "cell_type": "code",
      "source": [
        "cond = train['name'].isnull() | train['host_name'].isnull()\n",
        "train[cond]"
      ],
      "metadata": {
        "id": "4z9VFIzYSAs5"
      },
      "execution_count": null,
      "outputs": []
    },
    {
      "cell_type": "code",
      "source": [
        "# 가격 값 복사\n",
        "target = train['price']\n",
        "target.head()\n",
        "train = train.drop('price', axis=1)\n",
        "train.head()\n",
        "\n",
        "# train.shape # (39116, 14)\n",
        "# test.shape # (9779, 14)"
      ],
      "metadata": {
        "id": "5an1pxHPS9xU"
      },
      "execution_count": null,
      "outputs": []
    },
    {
      "cell_type": "code",
      "source": [
        "# 수치형 피처 선택\n",
        "\n",
        "type(train)\n",
        "train.info()\n",
        "\n",
        "cols = train.select_dtypes(exclude='object').columns\n",
        "cols\n",
        "train[cols]\n",
        "\n",
        "#display(cols)\n",
        "#train.corr()['price'] >= 0.01\n",
        "\n",
        "# cols = ['host_id', 'latitude', 'longitude', 'minimum_nights',\n",
        "#        'number_of_reviews', 'reviews_per_month',\n",
        "#        'calculated_host_listings_count', 'availability_365']\n",
        "\n",
        "cols = ['host_id', 'latitude', 'longitude', 'neighbourhood', 'minimum_nights',\n",
        "       'number_of_reviews', 'reviews_per_month',\n",
        "       'calculated_host_listings_count', 'availability_365']\n",
        "\n",
        "train = train[cols]\n",
        "test = test[cols]\n",
        "\n",
        "# 레이블 인코딩\n",
        "# from sklearn.preprocessing import LabelEncoder\n",
        "# le = LabelEncoder()\n",
        "# train['neighbourhood'] = le.fit_transform(train['neighbourhood'])\n",
        "# test['neighbourhood'] = le.fit_transform(test['neighbourhood'])\n",
        "\n",
        "# 원-핫 인코딩\n",
        "# from sklearn.preprocessing import OneHotEncoder\n",
        "# ohe = OneHotEncoder(sparse_output=False)\n",
        "\n",
        "# cat = ohe.fit_transform(train[['room_type', 'neighbourhood_group', 'neighbourhood']])\n",
        "# df_cat = pd.DataFrame(cat, columns=ohe.get_feature_names_out())\n",
        "# train = pd.concat([train, df_cat], axis=1)\n",
        "# train = train.drop(['room_type', 'neighbourhood_group', 'neighbourhood'], axis=1)\n",
        "\n",
        "\n",
        "# cat = ohe.fit_transform(test[['room_type', 'neighbourhood_group', 'neighbourhood']])\n",
        "# df_cat = pd.DataFrame(cat, columns=ohe.get_feature_names_out())\n",
        "# test = pd.concat([test, df_cat], axis=1)\n",
        "# test = test.drop(['room_type', 'neighbourhood_group', 'neighbourhood'], axis=1)\n",
        "\n",
        "# 판다스를 이용한 원핫인코딩\n",
        "# train = pd.get_dummies(train).copy()\n",
        "# test = pd.get_dummies(test).copy()\n",
        "\n",
        "\n",
        "# train.shape # (39116, 8)\n",
        "# test.shape # (9779, 8)\n",
        "\n",
        "# 표준화\n",
        "# from sklearn.preprocessing import StandardScaler\n",
        "# scaler = StandardScaler()\n",
        "# train = scaler.fit_transform(train)\n",
        "# test = scaler.fit_transform(test)\n",
        "\n",
        "# 정규화\n",
        "# from sklearn.preprocessing import MinMaxScaler\n",
        "# scaler = MinMaxScaler()\n",
        "# train = scaler.fit_transform(train)\n",
        "# test = scaler.fit_transform(test)\n",
        "\n",
        "# train.shape # (39116, 8)\n",
        "# test.shape # (9779, 8)\n"
      ],
      "metadata": {
        "id": "nd7InXFPT8eX"
      },
      "execution_count": null,
      "outputs": []
    },
    {
      "cell_type": "code",
      "source": [
        "# 검증 데이터 분리\n",
        "from sklearn.model_selection import train_test_split\n",
        "X_train, X_test, y_train, y_test = train_test_split(train, target, test_size=0.25, random_state=0)\n",
        "\n",
        "print(train.shape) # (39116, 8)\n",
        "print(target.shape) # (39116,)\n",
        "print(X_train.shape) # (29337, 8)\n",
        "print(X_test.shape) # (9779, 8)\n",
        "print(y_train.shape) # (29337,)\n",
        "print(y_test.shape) # (9779,)\n",
        "\n",
        "# train.shape # (39116, 8)\n",
        "# test.shape # (9779, 8)"
      ],
      "metadata": {
        "id": "IwOtZuW_caP-"
      },
      "execution_count": null,
      "outputs": []
    },
    {
      "cell_type": "code",
      "source": [
        "# 머신러닝(회귀)\n",
        "from sklearn.linear_model import LinearRegression\n",
        "from sklearn.metrics import mean_squared_error\n",
        "\n",
        "model = LinearRegression()\n",
        "model.fit(X_train, y_train) # 훈련, 학습\n",
        "pred = model.predict(X_test) # 예축\n",
        "mean_squared_error(y_test, pred) # 검증\n",
        "\n",
        "# train.shape # (39116, 8)\n",
        "# test.shape # (9779, 8)"
      ],
      "metadata": {
        "id": "pcEe_oQ-J-rA"
      },
      "execution_count": null,
      "outputs": []
    },
    {
      "cell_type": "code",
      "source": [
        "# 릿지 회귀 (alpha=1)\n",
        "from sklearn.metrics import mean_squared_error\n",
        "from sklearn.linear_model import Ridge\n",
        "model = Ridge(alpha=1.0) # alpha의 기본값은 1\n",
        "model.fit(X_train, y_train) # 훈련, 학습\n",
        "pred = model.predict(X_test) # 예축\n",
        "mean_squared_error(y_test, pred) # 검증\n",
        "\n",
        "# train.shape # (39116, 8)\n",
        "# test.shape # (9779, 8)"
      ],
      "metadata": {
        "id": "S5kRFDAbR2oQ"
      },
      "execution_count": null,
      "outputs": []
    },
    {
      "cell_type": "code",
      "source": [
        "# 라쏘 회귀 (alpha=1)\n",
        "from sklearn.metrics import mean_squared_error\n",
        "from sklearn.linear_model import Lasso\n",
        "model = Lasso(alpha=1) # alpha의 기본값은 1\n",
        "model.fit(X_train, y_train) # 훈련, 학습\n",
        "pred = model.predict(X_test) # 예축\n",
        "mean_squared_error(y_test, pred) # 검증\n",
        "\n",
        "# train.shape # (39116, 8)\n",
        "# test.shape # (9779, 8)"
      ],
      "metadata": {
        "id": "mZP7dZMaSOH0"
      },
      "execution_count": null,
      "outputs": []
    },
    {
      "cell_type": "code",
      "source": [
        "# 엘리스틱 회귀 (alpha=1)\n",
        "from sklearn.metrics import mean_squared_error\n",
        "from sklearn.linear_model import ElasticNet\n",
        "model = ElasticNet(alpha=1) # alpha의 기본값은 1\n",
        "model.fit(X_train, y_train) # 훈련, 학습\n",
        "pred = model.predict(X_test) # 예축\n",
        "mean_squared_error(y_test, pred) # 검증\n",
        "\n",
        "# train.shape # (39116, 8)\n",
        "# test.shape # (9779, 8)"
      ],
      "metadata": {
        "id": "_GULTce9Ssob"
      },
      "execution_count": null,
      "outputs": []
    },
    {
      "cell_type": "code",
      "source": [
        "# 랜덤포레스트 회귀\n",
        "from sklearn.ensemble import RandomForestRegressor\n",
        "from sklearn.metrics import mean_squared_error\n",
        "model = RandomForestRegressor(random_state=0)\n",
        "\n",
        "model.fit(X_train, y_train)\n",
        "pred = model.predict(X_test)\n",
        "\n",
        "mean_squared_error(y_test, pred) # MSE\n",
        "\n",
        "# train.shape # (39116, 8)\n",
        "# test.shape # (9779, 8)"
      ],
      "metadata": {
        "id": "l9_QfZi1Syk-"
      },
      "execution_count": null,
      "outputs": []
    },
    {
      "cell_type": "code",
      "source": [
        "# xgboost 회귀\n",
        "from xgboost import XGBRegressor\n",
        "from sklearn.metrics import mean_squared_error\n",
        "\n",
        "y_test.shape # (9779,)\n",
        "X_test.shape # (9779, 8)\n",
        "\n",
        "model = XGBRegressor(random_state=0)\n",
        "model.fit(X_train, y_train)\n",
        "pred = model.predict(X_test)\n",
        "mean_squared_error(y_test, pred) # MSE\n",
        "\n",
        "# train.shape # (39116, 8)\n",
        "# test.shape # (9779, 8)\n"
      ],
      "metadata": {
        "id": "HNZjZbYrS7eL"
      },
      "execution_count": null,
      "outputs": []
    },
    {
      "cell_type": "code",
      "source": [
        "# test 데이터 예측 및 평가\n",
        "y_test = pd.read_csv('y_test.csv')\n",
        "\n",
        "# y_test.shape # (9779, 1)\n",
        "# train.shape # (39116, 8)\n",
        "# test.shape # (9779, 8)\n",
        "\n",
        "# Xgboost\n",
        "pred = model.predict(test)\n",
        "my_score = mean_squared_error(y_test, pred)\n",
        "my_score"
      ],
      "metadata": {
        "id": "IVtWE38-THqm"
      },
      "execution_count": null,
      "outputs": []
    },
    {
      "cell_type": "code",
      "source": [
        "# baseline score(mse 51xxx) 보다 점수가 낮게 나오도록 도전해 보세요!\n",
        "print(f'나의 점수는 (MSE {my_score})입니다.')\n",
        "# 나의 점수는 (MSE 50491.801331459596)입니다. <= 표준화만 적용\n",
        "# 나의 점수는 (MSE 54059.38283334756)입니다. <= 정규화만 적용"
      ],
      "metadata": {
        "id": "CmX0WXTEdBG0"
      },
      "execution_count": null,
      "outputs": []
    }
  ]
}