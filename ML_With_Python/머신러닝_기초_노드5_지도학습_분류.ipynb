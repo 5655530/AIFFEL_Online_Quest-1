{
  "nbformat": 4,
  "nbformat_minor": 0,
  "metadata": {
    "colab": {
      "provenance": [],
      "authorship_tag": "ABX9TyMELbcfRQ/0pfCU5oxLSlun",
      "include_colab_link": true
    },
    "kernelspec": {
      "name": "python3",
      "display_name": "Python 3"
    },
    "language_info": {
      "name": "python"
    }
  },
  "cells": [
    {
      "cell_type": "markdown",
      "metadata": {
        "id": "view-in-github",
        "colab_type": "text"
      },
      "source": [
        "<a href=\"https://colab.research.google.com/github/comandi1969/AIFFEL_Online_Quest/blob/main/ML_With_Python/%EB%A8%B8%EC%8B%A0%EB%9F%AC%EB%8B%9D_%EA%B8%B0%EC%B4%88_%EB%85%B8%EB%93%9C5_%EC%A7%80%EB%8F%84%ED%95%99%EC%8A%B5_%EB%B6%84%EB%A5%98.ipynb\" target=\"_parent\"><img src=\"https://colab.research.google.com/assets/colab-badge.svg\" alt=\"Open In Colab\"/></a>"
      ]
    },
    {
      "cell_type": "code",
      "execution_count": 1,
      "metadata": {
        "colab": {
          "base_uri": "https://localhost:8080/"
        },
        "id": "SCZovHJauBg4",
        "outputId": "2eef69a8-b1ca-415d-81e2-77e575151018"
      },
      "outputs": [
        {
          "output_type": "execute_result",
          "data": {
            "text/plain": [
              "((284, 30), (285, 30), (284,), (285,))"
            ]
          },
          "metadata": {},
          "execution_count": 1
        }
      ],
      "source": [
        "# 데이터 로드\n",
        "import pandas as pd\n",
        "from sklearn.model_selection import train_test_split\n",
        "from sklearn.metrics import accuracy_score\n",
        "from sklearn.datasets import load_breast_cancer\n",
        "\n",
        "def make_dataset():\n",
        "    bc = load_breast_cancer()\n",
        "    df = pd.DataFrame(bc.data, columns=bc.feature_names)\n",
        "    df['target'] = bc.target\n",
        "    X_train, X_test, y_train, y_test = train_test_split(\n",
        "        df.drop('target', axis=1), df['target'], test_size=0.5, random_state=1004)\n",
        "    return X_train, X_test, y_train, y_test\n",
        "\n",
        "X_train, X_test, y_train, y_test = make_dataset()\n",
        "X_train.shape, X_test.shape, y_train.shape, y_test.shape"
      ]
    },
    {
      "cell_type": "code",
      "source": [
        "# Q. 의사결정나무의 하이퍼파라미터 값을 조절해 보세요.\n",
        "# 주피터 노트북에서 실습해 보세요.\n",
        "# 디폴트값\n",
        "\n",
        "from sklearn.tree import DecisionTreeClassifier\n",
        "model = DecisionTreeClassifier(\n",
        "    criterion = 'gini',\n",
        "    max_depth = None,\n",
        "    min_samples_split = 2,\n",
        "    min_samples_leaf=1,\n",
        "    random_state=0)\n",
        "\n",
        "model.fit(X_train, y_train)\n",
        "pred = model.predict(X_test)\n",
        "accuracy_score(y_test, pred)\n",
        "# 0.9263157894736842"
      ],
      "metadata": {
        "colab": {
          "base_uri": "https://localhost:8080/"
        },
        "id": "HI_7GC2fu-Hw",
        "outputId": "85ee1c04-fca4-4372-d81e-ed8cb7aca368"
      },
      "execution_count": 128,
      "outputs": [
        {
          "output_type": "execute_result",
          "data": {
            "text/plain": [
              "0.9026548672566371"
            ]
          },
          "metadata": {},
          "execution_count": 128
        }
      ]
    },
    {
      "cell_type": "code",
      "source": [
        "# Q. 의사결정나무의 하이퍼파라미터 값을 조절해 보세요.\n",
        "# 주피터 노트북에서 실습해 보세요.\n",
        "# 튜닝\n",
        "\n",
        "from sklearn.tree import DecisionTreeClassifier\n",
        "model = DecisionTreeClassifier(\n",
        "    criterion = 'entropy',\n",
        "    max_depth = 4,\n",
        "    min_samples_split = 5,\n",
        "    min_samples_leaf=2,\n",
        "    random_state=0)\n",
        "model.fit(X_train, y_train)\n",
        "pred = model.predict(X_test)\n",
        "accuracy_score(y_test, pred)\n",
        "# 0.9403508771929825"
      ],
      "metadata": {
        "colab": {
          "base_uri": "https://localhost:8080/"
        },
        "id": "O53oUqQnvmag",
        "outputId": "25dd3362-8982-45d0-93f6-2af6a6542995"
      },
      "execution_count": 127,
      "outputs": [
        {
          "output_type": "execute_result",
          "data": {
            "text/plain": [
              "0.9469026548672567"
            ]
          },
          "metadata": {},
          "execution_count": 127
        }
      ]
    },
    {
      "cell_type": "code",
      "source": [
        "# Q. 랜덤포레스트의 하이퍼파라미터 값을 조절해 보세요.\n",
        "# 주피터 노트북에서 실습해 보세요.\n",
        "# 기본값\n",
        "from sklearn.ensemble import RandomForestClassifier\n",
        "model = RandomForestClassifier(\n",
        "    n_estimators=100,\n",
        "    criterion = 'gini',\n",
        "    max_depth = None,\n",
        "    min_samples_split = 2,\n",
        "    min_samples_leaf=1,\n",
        "    random_state=0)\n",
        "model.fit(X_train, y_train)\n",
        "pred = model.predict(X_test)\n",
        "accuracy_score(y_test, pred)\n",
        "# 0.9438596491228071"
      ],
      "metadata": {
        "colab": {
          "base_uri": "https://localhost:8080/"
        },
        "id": "y9B8hWR-5Fjg",
        "outputId": "61578b38-108d-4927-b58c-4053518ecf0c"
      },
      "execution_count": 126,
      "outputs": [
        {
          "output_type": "execute_result",
          "data": {
            "text/plain": [
              "0.9734513274336283"
            ]
          },
          "metadata": {},
          "execution_count": 126
        }
      ]
    },
    {
      "cell_type": "code",
      "source": [
        "# Q. 랜덤포레스트의 하이퍼파라미터 값을 조절해 보세요.\n",
        "# 주피터 노트북에서 실습해 보세요.\n",
        "# 튜닝\n",
        "from sklearn.ensemble import RandomForestClassifier\n",
        "model = RandomForestClassifier(\n",
        "    n_estimators=100,\n",
        "    criterion = 'entropy',\n",
        "    max_depth = 5,\n",
        "    min_samples_split = 5,\n",
        "    min_samples_leaf=2,\n",
        "    random_state=0)\n",
        "model.fit(X_train, y_train)\n",
        "pred = model.predict(X_test)\n",
        "accuracy_score(y_test, pred)\n",
        "# 0.9473684210526315\n",
        "# 0.9508771929824561"
      ],
      "metadata": {
        "colab": {
          "base_uri": "https://localhost:8080/"
        },
        "id": "wdByByap9M03",
        "outputId": "acc13b13-8963-41cd-c668-2d40a7bd8d29"
      },
      "execution_count": 125,
      "outputs": [
        {
          "output_type": "execute_result",
          "data": {
            "text/plain": [
              "0.9734513274336283"
            ]
          },
          "metadata": {},
          "execution_count": 125
        }
      ]
    },
    {
      "cell_type": "code",
      "source": [
        "# Q. xgboost의 하이퍼파라미터 값을 조절해 보세요.\n",
        "# 주피터 노트북에서 실습해 보세요.\n",
        "# 기본값\n",
        "from xgboost import XGBClassifier\n",
        "model = XGBClassifier(random_state=0, eval_metric='logloss',\n",
        "                      booster = 'gbtree',\n",
        "                      objective = 'binary:logistic',\n",
        "                      max_depth = 6,\n",
        "                      learning_rate = 0.1,\n",
        "                      n_estimators = 100,\n",
        "                      subsample = 1,\n",
        "                      colsample_bytree = 1,\n",
        "                      n_jobs = -1\n",
        "                    )\n",
        "\n",
        "# xgboost 하이퍼파라미터\n",
        "# - booster(기본값 gbtree): 부스팅 알고리즘 (또는 dart, gblinear)\n",
        "# - objective(기본값 binary:logistic): 이진분류 (다중분류: multi:softmax)\n",
        "# - max_depth(기본값 6): 최대 한도 깊이\n",
        "# - learning_rate(기본값 0.1): 학습률\n",
        "# - n_estimators(기본값 100): 트리의 수\n",
        "# - subsample(기본값 1): 훈련 샘플 개수의 비율\n",
        "# - colsample_bytree(기본값 1): 특성 개수의 비율\n",
        "# - n_jobs(기본값 1): 사용 코어 수 (-1: 모든 코어를 다 사용)\n",
        "\n",
        "model.fit(X_train, y_train)\n",
        "pred = model.predict(X_test)\n",
        "accuracy_score(y_test, pred)\n",
        "\n",
        "# 0.9614035087719298"
      ],
      "metadata": {
        "colab": {
          "base_uri": "https://localhost:8080/"
        },
        "id": "T_gjjo2ZFp4F",
        "outputId": "85695101-37fa-4d1e-bb52-6f619bda2acb"
      },
      "execution_count": 123,
      "outputs": [
        {
          "output_type": "execute_result",
          "data": {
            "text/plain": [
              "0.9734513274336283"
            ]
          },
          "metadata": {},
          "execution_count": 123
        }
      ]
    },
    {
      "cell_type": "code",
      "source": [
        "# Q. xgboost의 하이퍼파라미터 값을 조절해 보세요.\n",
        "# 주피터 노트북에서 실습해 보세요.\n",
        "# 튜닝\n",
        "from xgboost import XGBClassifier\n",
        "model = XGBClassifier(random_state=0,\n",
        "                      eval_metric='logloss',\n",
        "                      booster = 'gbtree',\n",
        "                      objective = 'binary:logistic',\n",
        "                      max_depth = 5,\n",
        "                      learning_rate = 0.05,\n",
        "                      n_estimators = 500,\n",
        "                      subsample = 1,\n",
        "                      colsample_bytree = 1,\n",
        "                      n_jobs = -1\n",
        "                      )\n",
        "\n",
        "model.fit(X_train, y_train)\n",
        "pred = model.predict(X_test)\n",
        "accuracy_score(y_test, pred)\n",
        "# 0.9649122807017544\n"
      ],
      "metadata": {
        "colab": {
          "base_uri": "https://localhost:8080/"
        },
        "id": "aELnnLWxGLoR",
        "outputId": "390e8c23-859d-4294-b27b-fa9864c73a9c"
      },
      "execution_count": 129,
      "outputs": [
        {
          "output_type": "execute_result",
          "data": {
            "text/plain": [
              "0.9734513274336283"
            ]
          },
          "metadata": {},
          "execution_count": 129
        }
      ]
    },
    {
      "cell_type": "code",
      "source": [
        "# 조기종료\n",
        "# 단, 위와 비교해 최적화 시점까지는 도달하지 못 하는 듯\n",
        "from xgboost import XGBClassifier\n",
        "\n",
        "model = XGBClassifier(random_state=0,\n",
        "                      eval_metric='logloss',\n",
        "                      booster = 'gbtree',\n",
        "                      objective = 'binary:logistic',\n",
        "                      max_depth = 5,\n",
        "                      learning_rate = 0.05,\n",
        "                      n_estimators = 500,\n",
        "                      subsample = 1,\n",
        "                      colsample_bytree = 1,\n",
        "                      n_jobs = -1\n",
        "                      )\n",
        "#eval_set = [(X_test, y_test)]\n",
        "#model.fit(X_train, y_train, eval_set=eval_set, early_stopping_rounds=10) # early_stopping_rounds=10 지정\n",
        "#pred = model.predict(X_test)\n",
        "#accuracy_score(y_test, pred)\n",
        "# 0.9473684210526315"
      ],
      "metadata": {
        "id": "p_F7WLDmHg9X"
      },
      "execution_count": 108,
      "outputs": []
    },
    {
      "cell_type": "code",
      "source": [
        "# 데이터셋 로드\n",
        "def make_dataset2():\n",
        "    bc = load_breast_cancer()\n",
        "    df = pd.DataFrame(bc.data, columns=bc.feature_names)\n",
        "    df['target'] = bc.target\n",
        "    return df.drop('target', axis=1), df['target']\n",
        "X, y = make_dataset2() # X_train: 훈련, X_test: 예측, y_train:학습, y_test:검증"
      ],
      "metadata": {
        "id": "vh0JNKEtXQ4r"
      },
      "execution_count": 90,
      "outputs": []
    },
    {
      "cell_type": "code",
      "source": [
        "# KFold 교차검증\n",
        "from sklearn.model_selection import KFold\n",
        "model = DecisionTreeClassifier(random_state=0) # 하이퍼파라미터는 기본값을 적용\n",
        "\n",
        "kfold = KFold(n_splits=5) # 8:2\n",
        "\n",
        "for train_idx, test_idx in kfold.split(X): # X, y 위 데이터셋 로드 함수 참고\n",
        "    X_train, X_test = X.iloc[train_idx], X.iloc[test_idx]\n",
        "    y_train, y_test = y.iloc[train_idx], y.iloc[test_idx]\n",
        "    model.fit(X_train, y_train)\n",
        "    pred = model.predict(X_test)\n",
        "    print(accuracy_score(y_test, pred))\n",
        "\n",
        "'''\n",
        "0.8771929824561403\n",
        "0.9122807017543859\n",
        "0.9473684210526315\n",
        "0.9385964912280702\n",
        "0.8407079646017699\n",
        "'''"
      ],
      "metadata": {
        "colab": {
          "base_uri": "https://localhost:8080/",
          "height": 132
        },
        "id": "SvmV6_TqQokU",
        "outputId": "befabf1a-06e1-4b7d-f8be-28f03a5e4371"
      },
      "execution_count": 96,
      "outputs": [
        {
          "output_type": "stream",
          "name": "stdout",
          "text": [
            "0.8771929824561403\n",
            "0.9122807017543859\n",
            "0.9473684210526315\n",
            "0.9385964912280702\n",
            "0.8407079646017699\n"
          ]
        },
        {
          "output_type": "execute_result",
          "data": {
            "text/plain": [
              "'\\n0.8771929824561403\\n0.9122807017543859\\n0.9473684210526315\\n0.9385964912280702\\n0.8407079646017699\\n'"
            ],
            "application/vnd.google.colaboratory.intrinsic+json": {
              "type": "string"
            }
          },
          "metadata": {},
          "execution_count": 96
        }
      ]
    },
    {
      "cell_type": "code",
      "source": [
        "# Straightfied KFold 교차검증\n",
        "from sklearn.model_selection import StratifiedKFold\n",
        "model = DecisionTreeClassifier(random_state=0) # 하이퍼파라미터는 기본값을 적용\n",
        "\n",
        "kfold = StratifiedKFold(n_splits=5) # 8:2\n",
        "\n",
        "for train_idx, test_idx in kfold.split(X, y): # X, y 위 데이터셋 로드 함수 참고\n",
        "    X_train, X_test = X.iloc[train_idx], X.iloc[test_idx]\n",
        "    y_train, y_test = y.iloc[train_idx], y.iloc[test_idx]\n",
        "    model.fit(X_train, y_train)\n",
        "    pred = model.predict(X_test)\n",
        "    print(accuracy_score(y_test, pred))\n",
        "\n",
        "'''\n",
        "0.9035087719298246\n",
        "0.9210526315789473\n",
        "0.9122807017543859\n",
        "0.9473684210526315\n",
        "0.9026548672566371\n",
        "'''"
      ],
      "metadata": {
        "colab": {
          "base_uri": "https://localhost:8080/",
          "height": 132
        },
        "id": "0V8tQHBlbBRE",
        "outputId": "70c68297-2968-431a-ea25-dac152c46f1f"
      },
      "execution_count": 100,
      "outputs": [
        {
          "output_type": "stream",
          "name": "stdout",
          "text": [
            "0.9035087719298246\n",
            "0.9210526315789473\n",
            "0.9122807017543859\n",
            "0.9473684210526315\n",
            "0.9026548672566371\n"
          ]
        },
        {
          "output_type": "execute_result",
          "data": {
            "text/plain": [
              "'\\n0.9035087719298246\\n0.9210526315789473\\n0.9122807017543859\\n0.9473684210526315\\n0.9026548672566371\\n'"
            ],
            "application/vnd.google.colaboratory.intrinsic+json": {
              "type": "string"
            }
          },
          "metadata": {},
          "execution_count": 100
        }
      ]
    },
    {
      "cell_type": "code",
      "source": [
        "# 사이킷런 cross_val_score 에서 의사결정트리 모델을 ??? 방식으로 교차검증\n",
        "from sklearn.model_selection import cross_val_score\n",
        "from sklearn.tree import DecisionTreeClassifier\n",
        "scores = cross_val_score(model, X, y, cv=5) # 5개 데이터 세트에 대한 정확도 평가\n",
        "scores"
      ],
      "metadata": {
        "colab": {
          "base_uri": "https://localhost:8080/"
        },
        "id": "Y7rgLM5ybv7p",
        "outputId": "b926cd3a-d35e-4608-fa00-0d8ddade4be8"
      },
      "execution_count": 111,
      "outputs": [
        {
          "output_type": "execute_result",
          "data": {
            "text/plain": [
              "array([0.94736842, 0.95614035, 0.99122807, 0.96491228, 0.97345133])"
            ]
          },
          "metadata": {},
          "execution_count": 111
        }
      ]
    },
    {
      "cell_type": "code",
      "source": [
        "# 평균 확인\n",
        "from numpy import *\n",
        "scores.mean()"
      ],
      "metadata": {
        "colab": {
          "base_uri": "https://localhost:8080/"
        },
        "id": "6W6BYuOQfJl4",
        "outputId": "596d9e6b-3afa-42eb-8d65-9284d58e2640"
      },
      "execution_count": 112,
      "outputs": [
        {
          "output_type": "execute_result",
          "data": {
            "text/plain": [
              "0.9666200900481291"
            ]
          },
          "metadata": {},
          "execution_count": 112
        }
      ]
    },
    {
      "cell_type": "code",
      "source": [
        "# 사이킷런 cross_val_score에서 의사결정트리 모델을 Straightfied KFold 방식으로 교차검증\n",
        "from sklearn.model_selection import cross_val_score\n",
        "from sklearn.model_selection import StratifiedKFold\n",
        "from sklearn.tree import DecisionTreeClassifier\n",
        "model = DecisionTreeClassifier(random_state=0) # 하이퍼파라미터는 기본값을 적용\n",
        "\n",
        "kfold = StratifiedKFold(n_splits=5) # 8:2\n",
        "scores = cross_val_score(model, X, y, cv=kfold) # Straightfied KFold로 나눈 데이터 세트에 대한 정확도 평가\n",
        "scores"
      ],
      "metadata": {
        "colab": {
          "base_uri": "https://localhost:8080/"
        },
        "id": "9a2ah3AKf4Mx",
        "outputId": "a960e7f2-fccc-45e7-973e-b0a27ff4fc3f"
      },
      "execution_count": 115,
      "outputs": [
        {
          "output_type": "execute_result",
          "data": {
            "text/plain": [
              "array([0.90350877, 0.92105263, 0.9122807 , 0.94736842, 0.90265487])"
            ]
          },
          "metadata": {},
          "execution_count": 115
        }
      ]
    },
    {
      "cell_type": "code",
      "source": [
        "# 평균 확인\n",
        "scores.mean()"
      ],
      "metadata": {
        "colab": {
          "base_uri": "https://localhost:8080/"
        },
        "id": "XEGpHoor061y",
        "outputId": "1ea9d3b6-5c14-457f-dba2-a240259fd241"
      },
      "execution_count": 116,
      "outputs": [
        {
          "output_type": "execute_result",
          "data": {
            "text/plain": [
              "0.9173730787144851"
            ]
          },
          "metadata": {},
          "execution_count": 116
        }
      ]
    },
    {
      "cell_type": "code",
      "source": [
        "# 정확도 Accuracy\n",
        "from sklearn.metrics import accuracy_score\n",
        "accuracy_score(y_test, pred) # 위 Straightfied KFold 교차검증 마지막 데이터 세트에 대한 정확도 계산"
      ],
      "metadata": {
        "colab": {
          "base_uri": "https://localhost:8080/"
        },
        "id": "fHmwEL2U_wGr",
        "outputId": "e8c9d699-42fa-4173-def4-9c0141d231f5"
      },
      "execution_count": 117,
      "outputs": [
        {
          "output_type": "execute_result",
          "data": {
            "text/plain": [
              "0.9026548672566371"
            ]
          },
          "metadata": {},
          "execution_count": 117
        }
      ]
    },
    {
      "cell_type": "code",
      "source": [
        "# 정밀도 Precision\n",
        "from sklearn.metrics import precision_score\n",
        "precision_score(y_test, pred)"
      ],
      "metadata": {
        "colab": {
          "base_uri": "https://localhost:8080/"
        },
        "id": "TjAT4bllDCDW",
        "outputId": "13b42c02-5b61-4ad6-ea65-2ae88f9e710b"
      },
      "execution_count": 120,
      "outputs": [
        {
          "output_type": "execute_result",
          "data": {
            "text/plain": [
              "0.9545454545454546"
            ]
          },
          "metadata": {},
          "execution_count": 120
        }
      ]
    },
    {
      "cell_type": "code",
      "source": [
        "# 재현율 Recall\n",
        "from sklearn.metrics import recall_score\n",
        "recall_score(y_test, pred)"
      ],
      "metadata": {
        "colab": {
          "base_uri": "https://localhost:8080/"
        },
        "id": "dFIrRqg-DFMT",
        "outputId": "fd818d0d-2b7e-4cf0-bda2-f8672abe452d"
      },
      "execution_count": 121,
      "outputs": [
        {
          "output_type": "execute_result",
          "data": {
            "text/plain": [
              "0.8873239436619719"
            ]
          },
          "metadata": {},
          "execution_count": 121
        }
      ]
    },
    {
      "cell_type": "code",
      "source": [
        "# F1 스코어(F1 Score)\n",
        "from sklearn.metrics import f1_score\n",
        "f1_score(y_test, pred)"
      ],
      "metadata": {
        "colab": {
          "base_uri": "https://localhost:8080/"
        },
        "id": "Jbw67FU9Dk3-",
        "outputId": "07211e70-e0e8-442e-903e-7459a4b455fa"
      },
      "execution_count": 122,
      "outputs": [
        {
          "output_type": "execute_result",
          "data": {
            "text/plain": [
              "0.9197080291970803"
            ]
          },
          "metadata": {},
          "execution_count": 122
        }
      ]
    },
    {
      "cell_type": "code",
      "source": [
        "# ROC(Receiver Operating Characteristic) 곡선과 AUC(Area Under the Curve)\n",
        "\n",
        "from xgboost import XGBClassifier\n",
        "model = XGBClassifier(random_state=0,\n",
        "                      eval_metric='logloss',\n",
        "                      booster = 'gbtree',\n",
        "                      objective = 'binary:logistic',\n",
        "                      max_depth = 5,\n",
        "                      learning_rate = 0.05,\n",
        "                      n_estimators = 500,\n",
        "                      subsample = 1,\n",
        "                      colsample_bytree = 1,\n",
        "                      n_jobs = -1\n",
        "                      )\n",
        "\n",
        "model.fit(X_train, y_train)\n",
        "# pred = model.predict(X_test) # 0 또는 1을 리턴\n",
        "pred = model.predict_proba(X_test) # 확률값을 리턴\n",
        "\n",
        "from sklearn.metrics import roc_auc_score\n",
        "#roc_auc_score(y_test, pred[:, 0]) # 이건 또 뭘까요?\n",
        "roc_auc_score(y_test, pred[:, 1])"
      ],
      "metadata": {
        "colab": {
          "base_uri": "https://localhost:8080/"
        },
        "id": "2ikGJAwMDpQU",
        "outputId": "823a1f66-378c-4ab3-85ec-0c450806bfdb"
      },
      "execution_count": 138,
      "outputs": [
        {
          "output_type": "execute_result",
          "data": {
            "text/plain": [
              "0.9989939637826961"
            ]
          },
          "metadata": {},
          "execution_count": 138
        }
      ]
    },
    {
      "cell_type": "code",
      "source": [
        "# 다음은 이번 노드에서 학습했던 데이터를 로드하고,\n",
        "# 랜덤포레스트, xgboost 모델을 각각 돌려보는 과정입니다.\n",
        "# 다시 보며 그 과정을 복습하고 실행해보세요.\n",
        "\n",
        "# 데이터 로드\n",
        "import pandas as pd\n",
        "from sklearn.model_selection import train_test_split\n",
        "from sklearn.metrics import accuracy_score\n",
        "from sklearn.datasets import load_breast_cancer\n",
        "def make_dataset():\n",
        "    bc = load_breast_cancer()\n",
        "    df = pd.DataFrame(bc.data, columns=bc.feature_names)\n",
        "    df['target'] = bc.target\n",
        "    X_train, X_test, y_train, y_test = train_test_split(\n",
        "        df.drop('target', axis=1), df['target'], test_size=0.5, random_state=1004)\n",
        "    return X_train, X_test, y_train, y_test\n",
        "\n",
        "X_train, X_test, y_train, y_test = make_dataset()\n",
        "\n",
        "# 랜덤포레스트\n",
        "from sklearn.ensemble import RandomForestClassifier\n",
        "model1 = RandomForestClassifier(\n",
        "    n_estimators=500,\n",
        "    max_depth=5,\n",
        "    random_state=0)\n",
        "model1.fit(X_train, y_train)\n",
        "pred1 = model1.predict_proba(X_test)\n",
        "print(accuracy_score(y_test, pred1[:,1].round()))\n",
        "\n",
        "# xgboost\n",
        "from xgboost import XGBClassifier\n",
        "model2 = XGBClassifier(\n",
        "    n_estimators=500,\n",
        "    max_depth=5,\n",
        "    random_state=0,\n",
        "    eval_metric='logloss',\n",
        "    objective = 'binary:logistic'\n",
        "    )\n",
        "\n",
        "model2.fit(X_train, y_train)\n",
        "pred2 = model2.predict_proba(X_test)\n",
        "print(accuracy_score(y_test, pred2[:,1].round()))\n"
      ],
      "metadata": {
        "colab": {
          "base_uri": "https://localhost:8080/"
        },
        "id": "71iMNEnoXlD7",
        "outputId": "35b6c396-a1e3-49fc-df44-965e04ef62f9"
      },
      "execution_count": 141,
      "outputs": [
        {
          "output_type": "stream",
          "name": "stdout",
          "text": [
            "0.9473684210526315\n",
            "0.9508771929824561\n"
          ]
        }
      ]
    },
    {
      "cell_type": "code",
      "source": [
        "# Q. 위 랜덤포레스트, xgboost 모델을 앙상블하여 그 결과를 확인해보세요.\n",
        "# (각 모델의 가중치는 동일하게 해주세요.)\n",
        "# 힌트 : 앙상블은 모델을 합친 것으로, 결국 pred1,pred2을 평균 내서 pred_ensemble을 설정하면 됩니다.\n",
        "pred_ensemble = (pred1 + pred2) / 2\n",
        "print(accuracy_score(y_test, pred_ensemble[:,1].round()))"
      ],
      "metadata": {
        "colab": {
          "base_uri": "https://localhost:8080/"
        },
        "id": "ssZHn_ZKZPSf",
        "outputId": "520060f3-37b3-400a-e295-776d40cba75a"
      },
      "execution_count": 142,
      "outputs": [
        {
          "output_type": "stream",
          "name": "stdout",
          "text": [
            "0.9543859649122807\n"
          ]
        }
      ]
    }
  ]
}