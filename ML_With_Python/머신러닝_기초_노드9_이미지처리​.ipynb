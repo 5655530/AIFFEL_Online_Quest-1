{
  "nbformat": 4,
  "nbformat_minor": 0,
  "metadata": {
    "colab": {
      "provenance": [],
      "authorship_tag": "ABX9TyNefQ7JVf2qUEujShcn3Y0h",
      "include_colab_link": true
    },
    "kernelspec": {
      "name": "python3",
      "display_name": "Python 3"
    },
    "language_info": {
      "name": "python"
    }
  },
  "cells": [
    {
      "cell_type": "markdown",
      "metadata": {
        "id": "view-in-github",
        "colab_type": "text"
      },
      "source": [
        "<a href=\"https://colab.research.google.com/github/comandi1969/AIFFEL_Online_Quest/blob/main/ML_With_Python/%EB%A8%B8%EC%8B%A0%EB%9F%AC%EB%8B%9D_%EA%B8%B0%EC%B4%88_%EB%85%B8%EB%93%9C9_%EC%9D%B4%EB%AF%B8%EC%A7%80%EC%B2%98%EB%A6%AC%E2%80%8B.ipynb\" target=\"_parent\"><img src=\"https://colab.research.google.com/assets/colab-badge.svg\" alt=\"Open In Colab\"/></a>"
      ]
    },
    {
      "cell_type": "code",
      "execution_count": null,
      "metadata": {
        "id": "B_Qb9zqlBTeF"
      },
      "outputs": [],
      "source": [
        "# 라이브러리 불러오기\n",
        "import tensorflow as tf\n",
        "import matplotlib.pyplot as plt\n"
      ]
    },
    {
      "cell_type": "code",
      "source": [
        "# 버전 확인\n",
        "tf.__version__"
      ],
      "metadata": {
        "colab": {
          "base_uri": "https://localhost:8080/",
          "height": 35
        },
        "id": "b--t_xqD6XHR",
        "outputId": "e68a5928-5156-4850-9cc0-6c085b9e4f96"
      },
      "execution_count": null,
      "outputs": [
        {
          "output_type": "execute_result",
          "data": {
            "text/plain": [
              "'2.12.0'"
            ],
            "application/vnd.google.colaboratory.intrinsic+json": {
              "type": "string"
            }
          },
          "metadata": {},
          "execution_count": 29
        }
      ]
    },
    {
      "cell_type": "code",
      "source": [
        "# 데이터셋 불러오기\n",
        "mnist = tf.keras.datasets.mnist\n",
        "(X_train, y_train), (X_test, y_test) = mnist.load_data()"
      ],
      "metadata": {
        "id": "DzbYyd4A6XLA"
      },
      "execution_count": null,
      "outputs": []
    },
    {
      "cell_type": "code",
      "source": [
        "# 데이터 크기\n",
        "X_train.shape, y_train.shape, X_test.shape, y_test.shape # 2차원 훈련 및 검증 데이터"
      ],
      "metadata": {
        "colab": {
          "base_uri": "https://localhost:8080/"
        },
        "id": "b3teMq_r6XPd",
        "outputId": "9f8de82f-bed4-44b7-983c-d0f78e1b96b6"
      },
      "execution_count": null,
      "outputs": [
        {
          "output_type": "execute_result",
          "data": {
            "text/plain": [
              "((60000, 28, 28), (60000,), (10000, 28, 28), (10000,))"
            ]
          },
          "metadata": {},
          "execution_count": 31
        }
      ]
    },
    {
      "cell_type": "code",
      "source": [
        "# 데이터 확인\n",
        "import numpy as np\n",
        "np.set_printoptions(linewidth=120)\n",
        "print(X_train[0])"
      ],
      "metadata": {
        "colab": {
          "base_uri": "https://localhost:8080/"
        },
        "id": "Jxr9STmb6XSs",
        "outputId": "25138b11-3ae1-4cf4-f35c-cc590fdcffd0"
      },
      "execution_count": null,
      "outputs": [
        {
          "output_type": "stream",
          "name": "stdout",
          "text": [
            "[[  0   0   0   0   0   0   0   0   0   0   0   0   0   0   0   0   0   0   0   0   0   0   0   0   0   0   0   0]\n",
            " [  0   0   0   0   0   0   0   0   0   0   0   0   0   0   0   0   0   0   0   0   0   0   0   0   0   0   0   0]\n",
            " [  0   0   0   0   0   0   0   0   0   0   0   0   0   0   0   0   0   0   0   0   0   0   0   0   0   0   0   0]\n",
            " [  0   0   0   0   0   0   0   0   0   0   0   0   0   0   0   0   0   0   0   0   0   0   0   0   0   0   0   0]\n",
            " [  0   0   0   0   0   0   0   0   0   0   0   0   0   0   0   0   0   0   0   0   0   0   0   0   0   0   0   0]\n",
            " [  0   0   0   0   0   0   0   0   0   0   0   0   3  18  18  18 126 136 175  26 166 255 247 127   0   0   0   0]\n",
            " [  0   0   0   0   0   0   0   0  30  36  94 154 170 253 253 253 253 253 225 172 253 242 195  64   0   0   0   0]\n",
            " [  0   0   0   0   0   0   0  49 238 253 253 253 253 253 253 253 253 251  93  82  82  56  39   0   0   0   0   0]\n",
            " [  0   0   0   0   0   0   0  18 219 253 253 253 253 253 198 182 247 241   0   0   0   0   0   0   0   0   0   0]\n",
            " [  0   0   0   0   0   0   0   0  80 156 107 253 253 205  11   0  43 154   0   0   0   0   0   0   0   0   0   0]\n",
            " [  0   0   0   0   0   0   0   0   0  14   1 154 253  90   0   0   0   0   0   0   0   0   0   0   0   0   0   0]\n",
            " [  0   0   0   0   0   0   0   0   0   0   0 139 253 190   2   0   0   0   0   0   0   0   0   0   0   0   0   0]\n",
            " [  0   0   0   0   0   0   0   0   0   0   0  11 190 253  70   0   0   0   0   0   0   0   0   0   0   0   0   0]\n",
            " [  0   0   0   0   0   0   0   0   0   0   0   0  35 241 225 160 108   1   0   0   0   0   0   0   0   0   0   0]\n",
            " [  0   0   0   0   0   0   0   0   0   0   0   0   0  81 240 253 253 119  25   0   0   0   0   0   0   0   0   0]\n",
            " [  0   0   0   0   0   0   0   0   0   0   0   0   0   0  45 186 253 253 150  27   0   0   0   0   0   0   0   0]\n",
            " [  0   0   0   0   0   0   0   0   0   0   0   0   0   0   0  16  93 252 253 187   0   0   0   0   0   0   0   0]\n",
            " [  0   0   0   0   0   0   0   0   0   0   0   0   0   0   0   0   0 249 253 249  64   0   0   0   0   0   0   0]\n",
            " [  0   0   0   0   0   0   0   0   0   0   0   0   0   0  46 130 183 253 253 207   2   0   0   0   0   0   0   0]\n",
            " [  0   0   0   0   0   0   0   0   0   0   0   0  39 148 229 253 253 253 250 182   0   0   0   0   0   0   0   0]\n",
            " [  0   0   0   0   0   0   0   0   0   0  24 114 221 253 253 253 253 201  78   0   0   0   0   0   0   0   0   0]\n",
            " [  0   0   0   0   0   0   0   0  23  66 213 253 253 253 253 198  81   2   0   0   0   0   0   0   0   0   0   0]\n",
            " [  0   0   0   0   0   0  18 171 219 253 253 253 253 195  80   9   0   0   0   0   0   0   0   0   0   0   0   0]\n",
            " [  0   0   0   0  55 172 226 253 253 253 253 244 133  11   0   0   0   0   0   0   0   0   0   0   0   0   0   0]\n",
            " [  0   0   0   0 136 253 253 253 212 135 132  16   0   0   0   0   0   0   0   0   0   0   0   0   0   0   0   0]\n",
            " [  0   0   0   0   0   0   0   0   0   0   0   0   0   0   0   0   0   0   0   0   0   0   0   0   0   0   0   0]\n",
            " [  0   0   0   0   0   0   0   0   0   0   0   0   0   0   0   0   0   0   0   0   0   0   0   0   0   0   0   0]\n",
            " [  0   0   0   0   0   0   0   0   0   0   0   0   0   0   0   0   0   0   0   0   0   0   0   0   0   0   0   0]]\n"
          ]
        }
      ]
    },
    {
      "cell_type": "code",
      "source": [
        "# 데이터 확인(이미지)\n",
        "plt.imshow(X_train[0])"
      ],
      "metadata": {
        "colab": {
          "base_uri": "https://localhost:8080/",
          "height": 448
        },
        "id": "phCE9aZp6XW0",
        "outputId": "f06ca39c-258d-43cd-d21c-46bee171fbb8"
      },
      "execution_count": null,
      "outputs": [
        {
          "output_type": "execute_result",
          "data": {
            "text/plain": [
              "<matplotlib.image.AxesImage at 0x7b17184f6380>"
            ]
          },
          "metadata": {},
          "execution_count": 33
        },
        {
          "output_type": "display_data",
          "data": {
            "text/plain": [
              "<Figure size 640x480 with 1 Axes>"
            ],
            "image/png": "[encoded data removed]"
          },
          "metadata": {}
        }
      ]
    },
    {
      "cell_type": "code",
      "source": [
        "# 레이블, 정답 데이터 확인\n",
        "y_train[0]"
      ],
      "metadata": {
        "colab": {
          "base_uri": "https://localhost:8080/"
        },
        "id": "lOE8syzt6XcL",
        "outputId": "e95d8e4b-ffa2-4b36-d0b9-c5e6f0791876"
      },
      "execution_count": null,
      "outputs": [
        {
          "output_type": "execute_result",
          "data": {
            "text/plain": [
              "5"
            ]
          },
          "metadata": {},
          "execution_count": 34
        }
      ]
    },
    {
      "cell_type": "code",
      "source": [
        "# 모델\n",
        "from keras.api._v2.keras import activations\n",
        "from tensorflow.keras.layers import Flatten, Dense\n",
        "from tensorflow.keras.models import Sequential\n",
        "\n",
        "model = Sequential([\n",
        "    Flatten(input_shape=(28, 28)),\n",
        "    Dense(256, activation='relu'), # 뉴런의 개수\n",
        "    Dense(10, activation='softmax') # 0~9 숫자 따라서 예측값 개수는 10개\n",
        "])"
      ],
      "metadata": {
        "id": "ORemsnEF6Xkx"
      },
      "execution_count": null,
      "outputs": []
    },
    {
      "cell_type": "code",
      "source": [
        "# 모델 요약\n",
        "model.summary()"
      ],
      "metadata": {
        "colab": {
          "base_uri": "https://localhost:8080/"
        },
        "id": "45E9uxTY6Xpw",
        "outputId": "cdb6924b-1b32-4c87-8318-0511441464f8"
      },
      "execution_count": null,
      "outputs": [
        {
          "output_type": "stream",
          "name": "stdout",
          "text": [
            "Model: \"sequential_2\"\n",
            "_________________________________________________________________\n",
            " Layer (type)                Output Shape              Param #   \n",
            "=================================================================\n",
            " flatten_2 (Flatten)         (None, 784)               0         \n",
            "                                                                 \n",
            " dense_4 (Dense)             (None, 256)               200960    \n",
            "                                                                 \n",
            " dense_5 (Dense)             (None, 10)                2570      \n",
            "                                                                 \n",
            "=================================================================\n",
            "Total params: 203,530\n",
            "Trainable params: 203,530\n",
            "Non-trainable params: 0\n",
            "_________________________________________________________________\n"
          ]
        }
      ]
    },
    {
      "cell_type": "code",
      "source": [
        "# 모델 컴파일\n",
        "model.compile(optimizer='adam',\n",
        "            loss='sparse_categorical_crossentropy',\n",
        "            metrics=['accuracy'])"
      ],
      "metadata": {
        "id": "FowdCnC96Xtm"
      },
      "execution_count": null,
      "outputs": []
    },
    {
      "cell_type": "code",
      "source": [
        "# 학습\n",
        "#history = model.fit(X_train, y_train, epochs=5) # 60000개의 학습 데이터를 딥러닝 기본 batch_size=32 나눈 1875개 대상으로 학습하면서 가중치와 편향을 업데이트하면서 5번 훈련.\n",
        "\n",
        "history = model.fit(X_train, y_train, validation_data=(X_test, y_test), epochs=5) # 검증 내역도 기록"
      ],
      "metadata": {
        "colab": {
          "base_uri": "https://localhost:8080/"
        },
        "id": "JNUrSveRAY-I",
        "outputId": "7f152147-b23b-465d-c0c1-d32966b2efa0"
      },
      "execution_count": null,
      "outputs": [
        {
          "output_type": "stream",
          "name": "stdout",
          "text": [
            "Epoch 1/5\n",
            "1875/1875 [==============================] - 13s 7ms/step - loss: 2.5803 - accuracy: 0.8897 - val_loss: 0.4541 - val_accuracy: 0.9125\n",
            "Epoch 2/5\n",
            "1875/1875 [==============================] - 13s 7ms/step - loss: 0.3236 - accuracy: 0.9285 - val_loss: 0.3159 - val_accuracy: 0.9365\n",
            "Epoch 3/5\n",
            "1875/1875 [==============================] - 13s 7ms/step - loss: 0.2684 - accuracy: 0.9395 - val_loss: 0.3119 - val_accuracy: 0.9358\n",
            "Epoch 4/5\n",
            "1875/1875 [==============================] - 13s 7ms/step - loss: 0.2472 - accuracy: 0.9427 - val_loss: 0.3116 - val_accuracy: 0.9324\n",
            "Epoch 5/5\n",
            "1875/1875 [==============================] - 12s 6ms/step - loss: 0.2208 - accuracy: 0.9493 - val_loss: 0.2631 - val_accuracy: 0.9471\n"
          ]
        }
      ]
    },
    {
      "cell_type": "code",
      "source": [
        "# 학습 정확도(epoch에 따른 accuracy 변화)\n",
        "plt.plot(history.history['accuracy'], label='accuracy')\n",
        "plt.plot(history.history['val_accuracy'], label='val_accuracy')\n",
        "plt.xlabel('epochs')\n",
        "plt.ylabel('accuracy')\n",
        "plt.legend()\n"
      ],
      "metadata": {
        "colab": {
          "base_uri": "https://localhost:8080/",
          "height": 467
        },
        "id": "eVZEGNo1AZHV",
        "outputId": "54531eed-f0a8-4321-ffe9-22de6346e929"
      },
      "execution_count": null,
      "outputs": [
        {
          "output_type": "execute_result",
          "data": {
            "text/plain": [
              "<matplotlib.legend.Legend at 0x7b17184dbd00>"
            ]
          },
          "metadata": {},
          "execution_count": 39
        },
        {
          "output_type": "display_data",
          "data": {
            "text/plain": [
              "<Figure size 640x480 with 1 Axes>"
            ],
            "image/png": "[encoded data removed]"
          },
          "metadata": {}
        }
      ]
    },
    {
      "cell_type": "code",
      "source": [
        "# 학습 손실 (epoch에 따른 loss 변화)\n",
        "plt.plot(history.history['loss'], label='loss')\n",
        "plt.plot(history.history['val_loss'], label='val_loss')\n",
        "plt.xlabel('epochs')\n",
        "plt.ylabel('loss')\n",
        "plt.legend()"
      ],
      "metadata": {
        "colab": {
          "base_uri": "https://localhost:8080/",
          "height": 467
        },
        "id": "FPefmNP0AZRW",
        "outputId": "41ee218d-ebac-4fc7-b6af-b7716ea819bb"
      },
      "execution_count": null,
      "outputs": [
        {
          "output_type": "execute_result",
          "data": {
            "text/plain": [
              "<matplotlib.legend.Legend at 0x7b17181f7ca0>"
            ]
          },
          "metadata": {},
          "execution_count": 41
        },
        {
          "output_type": "display_data",
          "data": {
            "text/plain": [
              "<Figure size 640x480 with 1 Axes>"
            ],
            "image/png": "[encoded data removed]"
          },
          "metadata": {}
        }
      ]
    },
    {
      "cell_type": "code",
      "source": [
        "# fashion_mnist 데이터\n",
        "# 라이브러리 불러오기\n",
        "import tensorflow as tf\n",
        "import numpy as np\n",
        "import matplotlib.pyplot as plt"
      ],
      "metadata": {
        "id": "2b7NoSHmAZfI"
      },
      "execution_count": 44,
      "outputs": []
    },
    {
      "cell_type": "code",
      "source": [
        "# 데이터셋 불러오기\n",
        "mnist = tf.keras.datasets.fashion_mnist\n",
        "(X_train, y_train), (X_test, y_test) = mnist.load_data()"
      ],
      "metadata": {
        "id": "KO3KOymmE-73",
        "colab": {
          "base_uri": "https://localhost:8080/"
        },
        "outputId": "ab002554-ac51-4df2-b324-7cf891f45162"
      },
      "execution_count": 45,
      "outputs": [
        {
          "output_type": "stream",
          "name": "stdout",
          "text": [
            "Downloading data from https://storage.googleapis.com/tensorflow/tf-keras-datasets/train-labels-idx1-ubyte.gz\n",
            "29515/29515 [==============================] - 0s 0us/step\n",
            "Downloading data from https://storage.googleapis.com/tensorflow/tf-keras-datasets/train-images-idx3-ubyte.gz\n",
            "26421880/26421880 [==============================] - 0s 0us/step\n",
            "Downloading data from https://storage.googleapis.com/tensorflow/tf-keras-datasets/t10k-labels-idx1-ubyte.gz\n",
            "5148/5148 [==============================] - 0s 0us/step\n",
            "Downloading data from https://storage.googleapis.com/tensorflow/tf-keras-datasets/t10k-images-idx3-ubyte.gz\n",
            "4422102/4422102 [==============================] - 0s 0us/step\n"
          ]
        }
      ]
    },
    {
      "cell_type": "code",
      "source": [
        "# 데이터 확인\n",
        "np.set_printoptions(linewidth=120)\n",
        "print(X_train[0])"
      ],
      "metadata": {
        "colab": {
          "base_uri": "https://localhost:8080/"
        },
        "id": "ph0d1PAWGz3-",
        "outputId": "756634e2-89e3-4d0d-8e06-91cf9db47cd6"
      },
      "execution_count": 46,
      "outputs": [
        {
          "output_type": "stream",
          "name": "stdout",
          "text": [
            "[[  0   0   0   0   0   0   0   0   0   0   0   0   0   0   0   0   0   0   0   0   0   0   0   0   0   0   0   0]\n",
            " [  0   0   0   0   0   0   0   0   0   0   0   0   0   0   0   0   0   0   0   0   0   0   0   0   0   0   0   0]\n",
            " [  0   0   0   0   0   0   0   0   0   0   0   0   0   0   0   0   0   0   0   0   0   0   0   0   0   0   0   0]\n",
            " [  0   0   0   0   0   0   0   0   0   0   0   0   1   0   0  13  73   0   0   1   4   0   0   0   0   1   1   0]\n",
            " [  0   0   0   0   0   0   0   0   0   0   0   0   3   0  36 136 127  62  54   0   0   0   1   3   4   0   0   3]\n",
            " [  0   0   0   0   0   0   0   0   0   0   0   0   6   0 102 204 176 134 144 123  23   0   0   0   0  12  10   0]\n",
            " [  0   0   0   0   0   0   0   0   0   0   0   0   0   0 155 236 207 178 107 156 161 109  64  23  77 130  72  15]\n",
            " [  0   0   0   0   0   0   0   0   0   0   0   1   0  69 207 223 218 216 216 163 127 121 122 146 141  88 172  66]\n",
            " [  0   0   0   0   0   0   0   0   0   1   1   1   0 200 232 232 233 229 223 223 215 213 164 127 123 196 229   0]\n",
            " [  0   0   0   0   0   0   0   0   0   0   0   0   0 183 225 216 223 228 235 227 224 222 224 221 223 245 173   0]\n",
            " [  0   0   0   0   0   0   0   0   0   0   0   0   0 193 228 218 213 198 180 212 210 211 213 223 220 243 202   0]\n",
            " [  0   0   0   0   0   0   0   0   0   1   3   0  12 219 220 212 218 192 169 227 208 218 224 212 226 197 209  52]\n",
            " [  0   0   0   0   0   0   0   0   0   0   6   0  99 244 222 220 218 203 198 221 215 213 222 220 245 119 167  56]\n",
            " [  0   0   0   0   0   0   0   0   0   4   0   0  55 236 228 230 228 240 232 213 218 223 234 217 217 209  92   0]\n",
            " [  0   0   1   4   6   7   2   0   0   0   0   0 237 226 217 223 222 219 222 221 216 223 229 215 218 255  77   0]\n",
            " [  0   3   0   0   0   0   0   0   0  62 145 204 228 207 213 221 218 208 211 218 224 223 219 215 224 244 159   0]\n",
            " [  0   0   0   0  18  44  82 107 189 228 220 222 217 226 200 205 211 230 224 234 176 188 250 248 233 238 215   0]\n",
            " [  0  57 187 208 224 221 224 208 204 214 208 209 200 159 245 193 206 223 255 255 221 234 221 211 220 232 246   0]\n",
            " [  3 202 228 224 221 211 211 214 205 205 205 220 240  80 150 255 229 221 188 154 191 210 204 209 222 228 225   0]\n",
            " [ 98 233 198 210 222 229 229 234 249 220 194 215 217 241  65  73 106 117 168 219 221 215 217 223 223 224 229  29]\n",
            " [ 75 204 212 204 193 205 211 225 216 185 197 206 198 213 240 195 227 245 239 223 218 212 209 222 220 221 230  67]\n",
            " [ 48 203 183 194 213 197 185 190 194 192 202 214 219 221 220 236 225 216 199 206 186 181 177 172 181 205 206 115]\n",
            " [  0 122 219 193 179 171 183 196 204 210 213 207 211 210 200 196 194 191 195 191 198 192 176 156 167 177 210  92]\n",
            " [  0   0  74 189 212 191 175 172 175 181 185 188 189 188 193 198 204 209 210 210 211 188 188 194 192 216 170   0]\n",
            " [  2   0   0   0  66 200 222 237 239 242 246 243 244 221 220 193 191 179 182 182 181 176 166 168  99  58   0   0]\n",
            " [  0   0   0   0   0   0   0  40  61  44  72  41  35   0   0   0   0   0   0   0   0   0   0   0   0   0   0   0]\n",
            " [  0   0   0   0   0   0   0   0   0   0   0   0   0   0   0   0   0   0   0   0   0   0   0   0   0   0   0   0]\n",
            " [  0   0   0   0   0   0   0   0   0   0   0   0   0   0   0   0   0   0   0   0   0   0   0   0   0   0   0   0]]\n"
          ]
        }
      ]
    },
    {
      "cell_type": "code",
      "source": [
        "# 데이터 확인(이미지)\n",
        "plt.imshow(X_train[0])"
      ],
      "metadata": {
        "colab": {
          "base_uri": "https://localhost:8080/",
          "height": 448
        },
        "id": "KUIINJ5ZG9PJ",
        "outputId": "98ad1f6e-b348-4da3-d22e-61c8ac073b75"
      },
      "execution_count": 47,
      "outputs": [
        {
          "output_type": "execute_result",
          "data": {
            "text/plain": [
              "<matplotlib.image.AxesImage at 0x7b16f94deaa0>"
            ]
          },
          "metadata": {},
          "execution_count": 47
        },
        {
          "output_type": "display_data",
          "data": {
            "text/plain": [
              "<Figure size 640x480 with 1 Axes>"
            ],
            "image/png": "[encoded data removed]"
          },
          "metadata": {}
        }
      ]
    },
    {
      "cell_type": "code",
      "source": [
        "# 정규화 (0~1 사이 값으로) => 정규화 적용 전후 결과 비교할 것\n",
        "# X_train: 훈련 데이터\n",
        "# y_train: 학습 데이터\n",
        "# X_test: 예측 데이터\n",
        "# y_test: 검증 데이터\n",
        "X_train, X_test = X_train / 255.0, X_test / 255.0"
      ],
      "metadata": {
        "id": "Yto-kf6iE_HO"
      },
      "execution_count": 48,
      "outputs": []
    },
    {
      "cell_type": "code",
      "source": [
        "# 레이블, 정답 데이터 확인, 학습 데이터\n",
        "y_train[0]"
      ],
      "metadata": {
        "colab": {
          "base_uri": "https://localhost:8080/"
        },
        "id": "Z-vpDupYHK9n",
        "outputId": "980b817c-336a-42a3-a24b-2901911c4272"
      },
      "execution_count": 49,
      "outputs": [
        {
          "output_type": "execute_result",
          "data": {
            "text/plain": [
              "9"
            ]
          },
          "metadata": {},
          "execution_count": 49
        }
      ]
    },
    {
      "cell_type": "code",
      "source": [
        "# 레이블, 정답 데이터 숫자를 인덱스로 한 리스트 생성\n",
        "classes = [\"T-shirt/Top\", \"Trouser\", \"Pullover\", \"Dress\", \"Coat\" ,\"Sandal\", \"Shirt\", \"Sneaker\", \"Bag\", \"Ankle boot\"]\n",
        "print(classes[y_train[0]])"
      ],
      "metadata": {
        "colab": {
          "base_uri": "https://localhost:8080/"
        },
        "id": "Y0hR9Nj9HRPB",
        "outputId": "9fcb57c0-709f-4f5e-cea9-706aceee00d3"
      },
      "execution_count": 50,
      "outputs": [
        {
          "output_type": "stream",
          "name": "stdout",
          "text": [
            "Ankle boot\n"
          ]
        }
      ]
    },
    {
      "cell_type": "code",
      "source": [
        "# 데이터 및 정답 확인(이미지, 레이블)\n",
        "plt.imshow(X_train[1])\n",
        "print(y_train[1])\n",
        "print(classes[y_train[1]])"
      ],
      "metadata": {
        "colab": {
          "base_uri": "https://localhost:8080/",
          "height": 467
        },
        "id": "xIIFb02yE_R3",
        "outputId": "4b5d8e41-52a8-4a1e-8545-e0c7b9ea88d6"
      },
      "execution_count": 51,
      "outputs": [
        {
          "output_type": "stream",
          "name": "stdout",
          "text": [
            "0\n",
            "T-shirt/Top\n"
          ]
        },
        {
          "output_type": "display_data",
          "data": {
            "text/plain": [
              "<Figure size 640x480 with 1 Axes>"
            ],
            "image/png": "[encoded data removed]"
          },
          "metadata": {}
        }
      ]
    },
    {
      "cell_type": "code",
      "source": [
        "# 데이터 및 정답 확인(이미지, 레이블)\n",
        "plt.imshow(X_train[9])\n",
        "print(y_train[9])\n",
        "print(classes[y_train[9]])"
      ],
      "metadata": {
        "colab": {
          "base_uri": "https://localhost:8080/",
          "height": 467
        },
        "id": "h8qrkrNZE_cV",
        "outputId": "d754c4bc-24cb-4bae-94f3-3619ca939752"
      },
      "execution_count": 52,
      "outputs": [
        {
          "output_type": "stream",
          "name": "stdout",
          "text": [
            "5\n",
            "Sandal\n"
          ]
        },
        {
          "output_type": "display_data",
          "data": {
            "text/plain": [
              "<Figure size 640x480 with 1 Axes>"
            ],
            "image/png": "[encoded data removed]"
          },
          "metadata": {}
        }
      ]
    },
    {
      "cell_type": "code",
      "source": [
        "# 모델\n",
        "from tensorflow.keras.layers import Flatten, Dense, Dropout\n",
        "from tensorflow.keras.models import Sequential\n",
        "\n",
        "model = Sequential([\n",
        "    Flatten(input_shape=(28, 28)),\n",
        "    Dense(256, activation='relu'), # 뉴런의 개수\n",
        "    Dropout(0.2), # 과적합 방지를 목적으로 20% 생략\n",
        "    Dense(10, activation='softmax') # 0~9 숫자 따라서 예측값 개수는 10개\n",
        "])"
      ],
      "metadata": {
        "id": "e1jGIXE2E_m7"
      },
      "execution_count": 53,
      "outputs": []
    },
    {
      "cell_type": "code",
      "source": [
        "# 모델 요약\n",
        "model.summary()\n"
      ],
      "metadata": {
        "colab": {
          "base_uri": "https://localhost:8080/"
        },
        "id": "z96kJ9VJE_wI",
        "outputId": "4e2d4510-d9e5-44e4-9c82-c8336942327a"
      },
      "execution_count": 54,
      "outputs": [
        {
          "output_type": "stream",
          "name": "stdout",
          "text": [
            "Model: \"sequential_3\"\n",
            "_________________________________________________________________\n",
            " Layer (type)                Output Shape              Param #   \n",
            "=================================================================\n",
            " flatten_3 (Flatten)         (None, 784)               0         \n",
            "                                                                 \n",
            " dense_6 (Dense)             (None, 256)               200960    \n",
            "                                                                 \n",
            " dropout (Dropout)           (None, 256)               0         \n",
            "                                                                 \n",
            " dense_7 (Dense)             (None, 10)                2570      \n",
            "                                                                 \n",
            "=================================================================\n",
            "Total params: 203,530\n",
            "Trainable params: 203,530\n",
            "Non-trainable params: 0\n",
            "_________________________________________________________________\n"
          ]
        }
      ]
    },
    {
      "cell_type": "code",
      "source": [
        "# 모델 컴파일, 딥러닝 모델을 학습시키기 위한 데이터를 처리하고, 모델의 구조를 생성하고, 모델의 파라미터를 최적화하는 과정\n",
        "model.compile(optimizer='adam',\n",
        "            loss='sparse_categorical_crossentropy', # 원-핫 인코딩의 경우는 loss=''categorical_crossentropy'\n",
        "            metrics=['accuracy'])"
      ],
      "metadata": {
        "id": "8f7d01ymE_6y"
      },
      "execution_count": 56,
      "outputs": []
    },
    {
      "cell_type": "code",
      "source": [
        "# 학습(fit) 과정을 시각화하기 과정를 저장\n",
        "#history = model.fit(X_train, y_train, validation_split=0.2, epochs=5) # 검증 데이터를 훈련 데이터 중 20% 사용하겠다\n",
        "history = model.fit(X_train, y_train, validation_data=(X_test, y_test), epochs=10) # 검증 데이터가 있는 경우 지정"
      ],
      "metadata": {
        "colab": {
          "base_uri": "https://localhost:8080/"
        },
        "id": "cpWcCbB1FAFn",
        "outputId": "dd29fa8f-3523-4739-8676-25611529fdaa"
      },
      "execution_count": 57,
      "outputs": [
        {
          "output_type": "stream",
          "name": "stdout",
          "text": [
            "Epoch 1/10\n",
            "1875/1875 [==============================] - 59s 7ms/step - loss: 0.5075 - accuracy: 0.8186 - val_loss: 0.4529 - val_accuracy: 0.8327\n",
            "Epoch 2/10\n",
            "1875/1875 [==============================] - 13s 7ms/step - loss: 0.3910 - accuracy: 0.8569 - val_loss: 0.3818 - val_accuracy: 0.8599\n",
            "Epoch 3/10\n",
            "1875/1875 [==============================] - 13s 7ms/step - loss: 0.3543 - accuracy: 0.8690 - val_loss: 0.3554 - val_accuracy: 0.8720\n",
            "Epoch 4/10\n",
            "1875/1875 [==============================] - 13s 7ms/step - loss: 0.3327 - accuracy: 0.8768 - val_loss: 0.3459 - val_accuracy: 0.8737\n",
            "Epoch 5/10\n",
            "1875/1875 [==============================] - 13s 7ms/step - loss: 0.3176 - accuracy: 0.8831 - val_loss: 0.3498 - val_accuracy: 0.8740\n",
            "Epoch 6/10\n",
            "1875/1875 [==============================] - 13s 7ms/step - loss: 0.3046 - accuracy: 0.8873 - val_loss: 0.3470 - val_accuracy: 0.8774\n",
            "Epoch 7/10\n",
            "1875/1875 [==============================] - 12s 7ms/step - loss: 0.2932 - accuracy: 0.8909 - val_loss: 0.3414 - val_accuracy: 0.8804\n",
            "Epoch 8/10\n",
            "1875/1875 [==============================] - 13s 7ms/step - loss: 0.2829 - accuracy: 0.8940 - val_loss: 0.3438 - val_accuracy: 0.8796\n",
            "Epoch 9/10\n",
            "1875/1875 [==============================] - 12s 7ms/step - loss: 0.2753 - accuracy: 0.8970 - val_loss: 0.3270 - val_accuracy: 0.8883\n",
            "Epoch 10/10\n",
            "1875/1875 [==============================] - 13s 7ms/step - loss: 0.2691 - accuracy: 0.8983 - val_loss: 0.3416 - val_accuracy: 0.8780\n"
          ]
        }
      ]
    },
    {
      "cell_type": "code",
      "source": [
        "# [참고]\n",
        "# 검증 데이터 확인(이미지)\n",
        "plt.imshow(X_test[0])\n",
        "\n",
        "# 검중 레이블, 정답 데이터 확인\n",
        "y_test[0]\n",
        "print(classes[y_train[9]])"
      ],
      "metadata": {
        "colab": {
          "base_uri": "https://localhost:8080/",
          "height": 448
        },
        "id": "h8WL7hgMFAQv",
        "outputId": "6cb33b3d-c860-41c9-fd35-2387fdb76f9d"
      },
      "execution_count": 58,
      "outputs": [
        {
          "output_type": "stream",
          "name": "stdout",
          "text": [
            "Sandal\n"
          ]
        },
        {
          "output_type": "display_data",
          "data": {
            "text/plain": [
              "<Figure size 640x480 with 1 Axes>"
            ],
            "image/png": "[encoded data removed]"
          },
          "metadata": {}
        }
      ]
    },
    {
      "cell_type": "code",
      "source": [
        "# 학습 과정 정확성 검증을 위한 시각화\n",
        "plt.plot(history.history['accuracy'], label='accuracy')\n",
        "plt.plot(history.history['val_accuracy'], label='val_accuracy')\n",
        "plt.xlabel('epochs')\n",
        "plt.ylabel('accuracy')\n",
        "plt.legend()"
      ],
      "metadata": {
        "colab": {
          "base_uri": "https://localhost:8080/",
          "height": 467
        },
        "id": "6rUbDfDUFAZr",
        "outputId": "08d90df1-b160-4f2e-d931-acfc8498dee1"
      },
      "execution_count": 59,
      "outputs": [
        {
          "output_type": "execute_result",
          "data": {
            "text/plain": [
              "<matplotlib.legend.Legend at 0x7b171873c340>"
            ]
          },
          "metadata": {},
          "execution_count": 59
        },
        {
          "output_type": "display_data",
          "data": {
            "text/plain": [
              "<Figure size 640x480 with 1 Axes>"
            ],
            "image/png": "[encoded data removed]"
          },
          "metadata": {}
        }
      ]
    },
    {
      "cell_type": "code",
      "source": [
        "# 학습 과정 손실 확인 위한 시각화\n",
        "plt.plot(history.history['loss'], label='loss')\n",
        "plt.plot(history.history['val_loss'], label='val_loss')\n",
        "plt.xlabel('epochs')\n",
        "plt.ylabel('loss')\n",
        "plt.legend()"
      ],
      "metadata": {
        "colab": {
          "base_uri": "https://localhost:8080/",
          "height": 467
        },
        "id": "N4wOCAoEOS5v",
        "outputId": "87f0ec0e-3bc9-434c-8b9e-33d59946f282"
      },
      "execution_count": 60,
      "outputs": [
        {
          "output_type": "execute_result",
          "data": {
            "text/plain": [
              "<matplotlib.legend.Legend at 0x7b17186e7eb0>"
            ]
          },
          "metadata": {},
          "execution_count": 60
        },
        {
          "output_type": "display_data",
          "data": {
            "text/plain": [
              "<Figure size 640x480 with 1 Axes>"
            ],
            "image/png": "[encoded data removed]"
          },
          "metadata": {}
        }
      ]
    },
    {
      "cell_type": "code",
      "source": [
        "# 예측\n",
        "pred = model.predict(X_test)\n",
        "type(pred)\n",
        "pred[0] # X_test에 대한 예측치 첫 번째 값 확인"
      ],
      "metadata": {
        "colab": {
          "base_uri": "https://localhost:8080/"
        },
        "id": "OGVnC8rfOxc0",
        "outputId": "df348480-7f2a-4de7-f61f-c487ea1539e5"
      },
      "execution_count": 62,
      "outputs": [
        {
          "output_type": "stream",
          "name": "stdout",
          "text": [
            "313/313 [==============================] - 1s 3ms/step\n"
          ]
        },
        {
          "output_type": "execute_result",
          "data": {
            "text/plain": [
              "array([2.3755581e-08, 2.3887592e-10, 3.0733443e-12, 5.3837764e-11, 1.0312376e-12, 1.3239375e-04, 1.5450998e-09,\n",
              "       1.0835893e-03, 2.2837949e-11, 9.9878407e-01], dtype=float32)"
            ]
          },
          "metadata": {},
          "execution_count": 62
        }
      ]
    },
    {
      "cell_type": "code",
      "source": [
        "# 가장 높은 값 찾기, np.argmax()는 데이터 중 가장 큰 값의 인덱스를 반환\n",
        "np.argmax(pred[0])"
      ],
      "metadata": {
        "colab": {
          "base_uri": "https://localhost:8080/"
        },
        "id": "S8y8lFrdOxhY",
        "outputId": "3d23249d-0075-4805-8465-2297f8f9e675"
      },
      "execution_count": 63,
      "outputs": [
        {
          "output_type": "execute_result",
          "data": {
            "text/plain": [
              "9"
            ]
          },
          "metadata": {},
          "execution_count": 63
        }
      ]
    },
    {
      "cell_type": "code",
      "source": [
        "# 예축한 레이블(정답)\n",
        "classes[np.argmax(pred[0])]"
      ],
      "metadata": {
        "colab": {
          "base_uri": "https://localhost:8080/",
          "height": 35
        },
        "id": "9twfID62OxnF",
        "outputId": "988450a1-d8b8-4675-bd4a-ac1d353c2ce8"
      },
      "execution_count": 64,
      "outputs": [
        {
          "output_type": "execute_result",
          "data": {
            "text/plain": [
              "'Ankle boot'"
            ],
            "application/vnd.google.colaboratory.intrinsic+json": {
              "type": "string"
            }
          },
          "metadata": {},
          "execution_count": 64
        }
      ]
    },
    {
      "cell_type": "code",
      "source": [
        "# 실제 레이블(정답)\n",
        "classes[y_test[0]]"
      ],
      "metadata": {
        "colab": {
          "base_uri": "https://localhost:8080/",
          "height": 35
        },
        "id": "jXaoGrdwOxzI",
        "outputId": "b50bf13d-4068-44cb-d0a7-dc7cfcbcd7c1"
      },
      "execution_count": 65,
      "outputs": [
        {
          "output_type": "execute_result",
          "data": {
            "text/plain": [
              "'Ankle boot'"
            ],
            "application/vnd.google.colaboratory.intrinsic+json": {
              "type": "string"
            }
          },
          "metadata": {},
          "execution_count": 65
        }
      ]
    },
    {
      "cell_type": "code",
      "source": [
        "# 검증 데이터 확인(이미지)\n",
        "plt.imshow(X_test[0])"
      ],
      "metadata": {
        "colab": {
          "base_uri": "https://localhost:8080/",
          "height": 448
        },
        "id": "3w9wt0YnOx4o",
        "outputId": "abe83cf9-c05c-4679-a5d1-2080cf1517b2"
      },
      "execution_count": 66,
      "outputs": [
        {
          "output_type": "execute_result",
          "data": {
            "text/plain": [
              "<matplotlib.image.AxesImage at 0x7b1708b0f1f0>"
            ]
          },
          "metadata": {},
          "execution_count": 66
        },
        {
          "output_type": "display_data",
          "data": {
            "text/plain": [
              "<Figure size 640x480 with 1 Axes>"
            ],
            "image/png": "[encoded data removed]"
          },
          "metadata": {}
        }
      ]
    },
    {
      "cell_type": "code",
      "source": [
        "# CNN(Convolutional Neural Networks)\n",
        "# 라이브러리 불러오기\n",
        "import tensorflow as tf\n",
        "import matplotlib.pyplot as plt\n",
        "from tensorflow.keras.layers import Flatten, Dense, Dropout, Conv2D, MaxPooling2D\n",
        "from tensorflow.keras.models import Sequential\n",
        "\n",
        "# 데이터셋 불러오기\n",
        "mnist = tf.keras.datasets.fashion_mnist\n",
        "(X_train, y_train), (X_test, y_test) = mnist.load_data()\n",
        "\n",
        "# shape 변경\n",
        "X_train = X_train.reshape((60000, 28, 28, 1))\n",
        "X_test = X_test.reshape((10000, 28, 28, 1))\n",
        "\n",
        "# 정규화 (0~1 사이)\n",
        "X_train, X_test = X_train / 255.0, X_test / 255.0\n",
        "\n",
        "#모델\n",
        "model = Sequential([\n",
        "    Conv2D(32, (3, 3), activation='relu', input_shape=(28, 28, 1)), # 3*3 커널(필터) 적용, 합성곱 레이어의 크기는 28 - 3 + 1 = 26, 26 * 26이고 model.summary()에서 확인 가능\n",
        "    MaxPooling2D((2, 2)), # 플링 레이어의 크기는 26 / 2 = 13, 13 * 13이고 model.summary()에서 확인 가능\n",
        "    Conv2D(64, (3, 3), activation='relu'),\n",
        "    MaxPooling2D((2, 2)),\n",
        "    #Conv2D(64, (3, 3), activation='relu'),\n",
        "    #MaxPooling2D((2, 2)),\n",
        "    Flatten(),\n",
        "    Dense(64, activation='relu'), # 뉴런의 개수\n",
        "    Dense(10, activation='softmax') # 0~9 숫자 따라서 예측값 개수는 10개\n",
        "])\n",
        "\n",
        "# 모델 요약\n",
        "model.summary()\n",
        "\n",
        "# 모델 컴파일, 딥러닝 모델을 학습시키기 위한 데이터를 처리하고, 모델의 구조를 생성하고, 모델의 파라미터를 최적화하는 과정\n",
        "model.compile(optimizer='adam',\n",
        "            loss='sparse_categorical_crossentropy',\n",
        "            metrics=['accuracy'])\n",
        "\n",
        "# 학습(fit) 과정을 시각화하기 과정를 저장\n",
        "#history = model.fit(X_train, y_train, validation_split=0.2, epochs=5)\n",
        "history = model.fit(X_train, y_train, validation_data=(X_test, y_test), epochs=10) # epochs=10 기간 많이 걸림 epochs=5 테스트\n",
        "\n",
        "# 학습 과정 정확성 검증을 위한 시각화\n",
        "plt.plot(history.history['accuracy'], label='accuracy')\n",
        "plt.plot(history.history['val_accuracy'], label='val_accuracy')\n",
        "plt.xlabel('epochs')\n",
        "plt.ylabel('accuracy')\n",
        "plt.legend()\n",
        "\n",
        "# 학습 과정 손실 확인 위한 시각화\n",
        "# epochs=10인 경우 7 이후 증가 즉 과적합 이슈 발생하는 듯해 epochs=5로 변경\n",
        "plt.plot(history.history['loss'], label='loss')\n",
        "plt.plot(history.history['val_loss'], label='val_loss')\n",
        "plt.xlabel('epochs')\n",
        "plt.ylabel('loss')\n",
        "plt.legend()\n",
        "\n",
        "# 예측\n",
        "pred = model.predict(X_test)\n",
        "type(pred)\n",
        "pred[1]\n",
        "\n",
        "# 가장 높은 값 찾기, np.argmax()는 데이터 중 가장 큰 값의 인덱스를 반환\n",
        "np.argmax(pred[1])\n",
        "\n",
        "# 예축한 레이블(정답)\n",
        "classes[np.argmax(pred[1])]\n",
        "\n",
        "# 실제 레이블(정답)\n",
        "classes[y_test[1]]\n",
        "\n",
        "# 검증 데이터 확인(이미지)\n",
        "plt.imshow(X_test[1])\n",
        "\n",
        "# 합성곱 레이어 층 및 Epochs 조건 변경 테스트\n",
        "# model = Sequential([\n",
        "#     Conv2D(32, (3, 3), activation='relu', input_shape=(28, 28, 1)),\n",
        "#     MaxPooling2D((2, 2)),\n",
        "#     Conv2D(64, (3, 3), activation='relu'),\n",
        "#     MaxPooling2D((2, 2)),\n",
        "#     Flatten(),\n",
        "#     Dense(64, activation='relu'), # 뉴런의 개수\n",
        "#     Dense(10, activation='softmax') # 0~9 숫자 따라서 예측값 개수는 10개\n",
        "# ])\n",
        "\n",
        "# history = model.fit(X_train, y_train, validation_data=(X_test, y_test), epochs=10)\n",
        "# 합성곱 2, epochs 10\n",
        "# Epoch 1/10\n",
        "# 1875/1875 [==============================] - 70s 36ms/step - loss: 0.4575 - accuracy: 0.8342 - val_loss: 0.3937 - val_accuracy: 0.8561\n",
        "# Epoch 2/10\n",
        "# 1875/1875 [==============================] - 66s 35ms/step - loss: 0.3062 - accuracy: 0.8875 - val_loss: 0.3121 - val_accuracy: 0.8879\n",
        "# Epoch 3/10\n",
        "# 1875/1875 [==============================] - 64s 34ms/step - loss: 0.2612 - accuracy: 0.9050 - val_loss: 0.3019 - val_accuracy: 0.8900\n",
        "# Epoch 4/10\n",
        "# 1875/1875 [==============================] - 64s 34ms/step - loss: 0.2303 - accuracy: 0.9145 - val_loss: 0.2690 - val_accuracy: 0.9032\n",
        "# Epoch 5/10\n",
        "# 1875/1875 [==============================] - 64s 34ms/step - loss: 0.2055 - accuracy: 0.9229 - val_loss: 0.2690 - val_accuracy: 0.9050\n",
        "# Epoch 6/10\n",
        "# 1875/1875 [==============================] - 65s 35ms/step - loss: 0.1854 - accuracy: 0.9304 - val_loss: 0.2560 - val_accuracy: 0.9054\n",
        "# Epoch 7/10\n",
        "# 1875/1875 [==============================] - 67s 35ms/step - loss: 0.1673 - accuracy: 0.9376 - val_loss: 0.2587 - val_accuracy: 0.9086\n",
        "# Epoch 8/10\n",
        "# 1875/1875 [==============================] - 66s 35ms/step - loss: 0.1483 - accuracy: 0.9443 - val_loss: 0.2636 - val_accuracy: 0.9123\n",
        "# Epoch 9/10\n",
        "# 1875/1875 [==============================] - 65s 34ms/step - loss: 0.1345 - accuracy: 0.9499 - val_loss: 0.2673 - val_accuracy: 0.9104\n",
        "# Epoch 10/10\n",
        "# 1875/1875 [==============================] - 68s 36ms/step - loss: 0.1217 - accuracy: 0.9549 - val_loss: 0.2923 - val_accuracy: 0.9119\n",
        "#\n",
        "# 합성곱 2, epochs 5\n",
        "# history = model.fit(X_train, y_train, validation_data=(X_test, y_test), epochs=5)\n",
        "# Epoch 1/5\n",
        "# 1875/1875 [==============================] - 68s 36ms/step - loss: 0.4640 - accuracy: 0.8315 - val_loss: 0.3565 - val_accuracy: 0.8721\n",
        "# Epoch 2/5\n",
        "# 1875/1875 [==============================] - 64s 34ms/step - loss: 0.3105 - accuracy: 0.8870 - val_loss: 0.3118 - val_accuracy: 0.8884\n",
        "# Epoch 3/5\n",
        "# 1875/1875 [==============================] - 81s 43ms/step - loss: 0.2645 - accuracy: 0.9025 - val_loss: 0.2766 - val_accuracy: 0.8974\n",
        "# Epoch 4/5\n",
        "# 1875/1875 [==============================] - 67s 35ms/step - loss: 0.2332 - accuracy: 0.9141 - val_loss: 0.2708 - val_accuracy: 0.9028\n",
        "# Epoch 5/5\n",
        "# 1875/1875 [==============================] - 66s 35ms/step - loss: 0.2095 - accuracy: 0.9225 - val_loss: 0.2561 - val_accuracy: 0.9030\n",
        "#\n",
        "# 합성곱 3, epochs 5\n",
        "# Epoch 1/5\n",
        "# 1875/1875 [==============================] - 75s 39ms/step - loss: 0.6017 - accuracy: 0.7778 - val_loss: 0.4686 - val_accuracy: 0.8262\n",
        "# Epoch 2/5\n",
        "# 1875/1875 [==============================] - 70s 37ms/step - loss: 0.4066 - accuracy: 0.8499 - val_loss: 0.4000 - val_accuracy: 0.8521\n",
        "# Epoch 3/5\n",
        "# 1875/1875 [==============================] - 69s 37ms/step - loss: 0.3472 - accuracy: 0.8709 - val_loss: 0.3577 - val_accuracy: 0.8691\n",
        "# Epoch 4/5\n",
        "# 1875/1875 [==============================] - 69s 37ms/step - loss: 0.3120 - accuracy: 0.8855 - val_loss: 0.3376 - val_accuracy: 0.8754\n",
        "# Epoch 5/5\n",
        "# 1875/1875 [==============================] - 67s 36ms/step - loss: 0.2843 - accuracy: 0.8945 - val_loss: 0.3159 - val_accuracy: 0.8857\n",
        "#\n",
        "# 합성곱 3, epochs 10\n",
        "# Epoch 1/10\n",
        "# 1875/1875 [==============================] - 71s 37ms/step - loss: 0.6136 - accuracy: 0.7770 - val_loss: 0.4779 - val_accuracy: 0.8269\n",
        "# Epoch 2/10\n",
        "# 1875/1875 [==============================] - 71s 38ms/step - loss: 0.4121 - accuracy: 0.8499 - val_loss: 0.4124 - val_accuracy: 0.8504\n",
        "# Epoch 3/10\n",
        "# 1875/1875 [==============================] - 69s 37ms/step - loss: 0.3526 - accuracy: 0.8724 - val_loss: 0.3572 - val_accuracy: 0.8685\n",
        "# Epoch 4/10\n",
        "# 1875/1875 [==============================] - 67s 35ms/step - loss: 0.3146 - accuracy: 0.8846 - val_loss: 0.3335 - val_accuracy: 0.8801\n",
        "# Epoch 5/10\n",
        "# 1875/1875 [==============================] - 68s 36ms/step - loss: 0.2911 - accuracy: 0.8924 - val_loss: 0.3220 - val_accuracy: 0.8821\n",
        "# Epoch 6/10\n",
        "# 1875/1875 [==============================] - 80s 42ms/step - loss: 0.2687 - accuracy: 0.9008 - val_loss: 0.3172 - val_accuracy: 0.8860\n",
        "# Epoch 7/10\n",
        "# 1875/1875 [==============================] - 69s 37ms/step - loss: 0.2502 - accuracy: 0.9069 - val_loss: 0.2983 - val_accuracy: 0.8935\n",
        "# Epoch 8/10\n",
        "# 1875/1875 [==============================] - 68s 36ms/step - loss: 0.2362 - accuracy: 0.9124 - val_loss: 0.3325 - val_accuracy: 0.8860\n",
        "# Epoch 9/10\n",
        "# 1875/1875 [==============================] - 69s 37ms/step - loss: 0.2202 - accuracy: 0.9185 - val_loss: 0.3131 - val_accuracy: 0.8918\n",
        "# Epoch 10/10\n",
        "# 1875/1875 [==============================] - 67s 36ms/step - loss: 0.2082 - accuracy: 0.9232 - val_loss: 0.3090 - val_accuracy: 0.8948\n",
        "\n"
      ],
      "metadata": {
        "colab": {
          "base_uri": "https://localhost:8080/"
        },
        "id": "-qsHrYK_Ox87",
        "outputId": "c9138328-3363-4fb4-eba9-a85a2726f960"
      },
      "execution_count": null,
      "outputs": [
        {
          "output_type": "stream",
          "name": "stdout",
          "text": [
            "Model: \"sequential_5\"\n",
            "_________________________________________________________________\n",
            " Layer (type)                Output Shape              Param #   \n",
            "=================================================================\n",
            " conv2d_2 (Conv2D)           (None, 26, 26, 32)        320       \n",
            "                                                                 \n",
            " max_pooling2d_2 (MaxPooling  (None, 13, 13, 32)       0         \n",
            " 2D)                                                             \n",
            "                                                                 \n",
            " conv2d_3 (Conv2D)           (None, 11, 11, 64)        18496     \n",
            "                                                                 \n",
            " max_pooling2d_3 (MaxPooling  (None, 5, 5, 64)         0         \n",
            " 2D)                                                             \n",
            "                                                                 \n",
            " flatten_5 (Flatten)         (None, 1600)              0         \n",
            "                                                                 \n",
            " dense_10 (Dense)            (None, 64)                102464    \n",
            "                                                                 \n",
            " dense_11 (Dense)            (None, 10)                650       \n",
            "                                                                 \n",
            "=================================================================\n",
            "Total params: 121,930\n",
            "Trainable params: 121,930\n",
            "Non-trainable params: 0\n",
            "_________________________________________________________________\n",
            "Epoch 1/10\n",
            "1875/1875 [==============================] - 70s 37ms/step - loss: 0.4595 - accuracy: 0.8341 - val_loss: 0.3600 - val_accuracy: 0.8705\n",
            "Epoch 2/10\n",
            "1875/1875 [==============================] - 69s 37ms/step - loss: 0.3125 - accuracy: 0.8860 - val_loss: 0.3070 - val_accuracy: 0.8896\n",
            "Epoch 3/10\n",
            " 386/1875 [=====>........................] - ETA: 50s - loss: 0.2754 - accuracy: 0.9006"
          ]
        }
      ]
    },
    {
      "cell_type": "code",
      "source": [],
      "metadata": {
        "id": "PgO7zkprOyBz"
      },
      "execution_count": null,
      "outputs": []
    }
  ]
}