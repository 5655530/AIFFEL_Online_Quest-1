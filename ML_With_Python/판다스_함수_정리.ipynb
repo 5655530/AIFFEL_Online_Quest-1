{
  "nbformat": 4,
  "nbformat_minor": 0,
  "metadata": {
    "colab": {
      "provenance": [],
      "authorship_tag": "ABX9TyP/oJNnTUONC/30Emoc0tZn",
      "include_colab_link": true
    },
    "kernelspec": {
      "name": "python3",
      "display_name": "Python 3"
    },
    "language_info": {
      "name": "python"
    }
  },
  "cells": [
    {
      "cell_type": "markdown",
      "metadata": {
        "id": "view-in-github",
        "colab_type": "text"
      },
      "source": [
        "<a href=\"https://colab.research.google.com/github/comandi1969/AIFFEL_Online_Quest/blob/main/ML_With_Python/%ED%8C%90%EB%8B%A4%EC%8A%A4_%ED%95%A8%EC%88%98_%EC%A0%95%EB%A6%AC.ipynb\" target=\"_parent\"><img src=\"https://colab.research.google.com/assets/colab-badge.svg\" alt=\"Open In Colab\"/></a>"
      ]
    },
    {
      "cell_type": "code",
      "execution_count": 46,
      "metadata": {
        "colab": {
          "base_uri": "https://localhost:8080/"
        },
        "id": "R56nbO0aCyUz",
        "outputId": "96d8045b-dd81-4124-ce56-8d05e931f71b"
      },
      "outputs": [
        {
          "output_type": "stream",
          "name": "stdout",
          "text": [
            "    Name  Age\n",
            "0  Alice   30\n",
            "0   John   20\n",
            "1   Mary   25\n"
          ]
        }
      ],
      "source": [
        "import pandas as pd\n",
        "\n",
        "# 예제 데이터프레임 생성\n",
        "data = {'이름': ['Alice', 'Bob', 'Charlie', 'Dave', 'Eve'],\n",
        "        '나이': [25, 30, 35, 40, 45],\n",
        "        '성별': ['여성', '남성', '남성', '남성', '여성']}\n",
        "df = pd.DataFrame(data)\n",
        "#df\n",
        "#print(df)\n",
        "\n",
        "df.head(3) #데이터프레임의 처음 몇 개의 행을 반환합니다.\n",
        "\n",
        "df.tail(2) #데이터프레임의 마지막 몇 개의 행을 반환합니다.\n",
        "\n",
        "df.info() #데이터프레임의 요약 정보를 출력합니다.\n",
        "\n",
        "df.describe() # 데이터프레임의 주요 통계량을 요약하여 출력합니다.\n",
        "\n",
        "df.shape # 데이터프레임의 행과 열의 개수를 반환합니다.\n",
        "\n",
        "df.columns # 데이터프레임의 열 이름을 반환합니다.\n",
        "\n",
        "df.index # 데이터프레임의 인덱스 값을 반환합니다.\n",
        "\n",
        "df['성별'].unique() # 열에서 중복을 제외한 고유한 값들을 반환합니다.\n",
        "\n",
        "df['성별'].value_counts() # 열의 고유한 값들의 개수를 계산하여 반환합니다.\n",
        "\n",
        "df.sort_values(by='나이', ascending=True) # 지정된 열을 기준으로 데이터프레임을 정렬합니다.\n",
        "\n",
        "# '성별'을 기준으로 그룹화하고 '나이'의 합계와 평균을 계산\n",
        "grouped = df.groupby('성별') # groupby(): 지정된 열을 기준으로 데이터를 그룹화합니다.\n",
        "agg_result = grouped['나이'].agg(['sum', 'mean'])\n",
        "print(agg_result)\n",
        "\n",
        "# 결측치가 있는 새로운 레코드 추가\n",
        "new_record = {'이름': 'James', '성별': '남성'}\n",
        "df = df.append(new_record, ignore_index=True)\n",
        "print(df)\n",
        "\n",
        "df = df.fillna(0) # 결측값을 지정된 값으로 채웁니다.\n",
        "print(df)\n",
        "\n",
        "df = df.dropna() # 결측값이 포함된 행을 제거합니다.\n",
        "print(df)\n",
        "\n",
        "df1 = pd.DataFrame({'Name': ['Alice', 'Mary'], 'Age': [20, 25]})\n",
        "df2 = pd.DataFrame({'Name': ['Alice'], 'Sex': ['Male']})\n",
        "df = pd.merge(df1, df2, on='Name') # merge() 함수는 두 개 이상의 DataFrame을 공통 열을 기준으로 병합하는 함수\n",
        "print(df)\n",
        "\n",
        "df1 = pd.DataFrame({'Name': ['John', 'Mary'], 'Age': [20, 25]})\n",
        "df2 = pd.DataFrame({'Name': ['Alice'], 'Age': [30]})\n",
        "df = pd.concat([df1, df2]) # concat() 함수는 두 개 이상의 DataFrame을 하나로 합치는 함수\n",
        "print(df)"
      ]
    }
  ]
}