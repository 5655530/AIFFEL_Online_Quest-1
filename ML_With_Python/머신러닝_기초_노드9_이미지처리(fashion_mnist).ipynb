{
  "nbformat": 4,
  "nbformat_minor": 0,
  "metadata": {
    "colab": {
      "provenance": [],
      "authorship_tag": "ABX9TyMgPn6lPjHAm+Mth896RQjE",
      "include_colab_link": true
    },
    "kernelspec": {
      "name": "python3",
      "display_name": "Python 3"
    },
    "language_info": {
      "name": "python"
    }
  },
  "cells": [
    {
      "cell_type": "markdown",
      "metadata": {
        "id": "view-in-github",
        "colab_type": "text"
      },
      "source": [
        "<a href=\"https://colab.research.google.com/github/comandi1969/AIFFEL_Online_Quest/blob/main/ML_With_Python/%EB%A8%B8%EC%8B%A0%EB%9F%AC%EB%8B%9D_%EA%B8%B0%EC%B4%88_%EB%85%B8%EB%93%9C9_%EC%9D%B4%EB%AF%B8%EC%A7%80%EC%B2%98%EB%A6%AC(fashion_mnist).ipynb\" target=\"_parent\"><img src=\"https://colab.research.google.com/assets/colab-badge.svg\" alt=\"Open In Colab\"/></a>"
      ]
    },
    {
      "cell_type": "code",
      "execution_count": 3,
      "metadata": {
        "colab": {
          "base_uri": "https://localhost:8080/",
          "height": 469
        },
        "id": "l2sLDnOp4-7B",
        "outputId": "77f41539-98df-49b5-db1c-040a13de5b2c"
      },
      "outputs": [
        {
          "output_type": "execute_result",
          "data": {
            "text/plain": [
              "<matplotlib.legend.Legend at 0x7e68e3f4b7c0>"
            ]
          },
          "metadata": {},
          "execution_count": 3
        },
        {
          "output_type": "display_data",
          "data": {
            "text/plain": [
              "<Figure size 640x480 with 1 Axes>"
            ],
            "image/png": "[encoded data removed]"
          },
          "metadata": {}
        }
      ],
      "source": [
        "# fashion_mnist 데이터\n",
        "# 라이브러리 불러오기\n",
        "import tensorflow as tf\n",
        "import numpy as np\n",
        "import matplotlib.pyplot as plt\n",
        "\n",
        "# 데이터셋 불러오기\n",
        "mnist = tf.keras.datasets.fashion_mnist\n",
        "(X_train, y_train), (X_test, y_test) = mnist.load_data()\n",
        "\n",
        "# 데이터 확인\n",
        "np.set_printoptions(linewidth=120)\n",
        "print(X_train[0])\n",
        "\n",
        "# 데이터 확인(이미지)\n",
        "plt.imshow(X_train[0])\n",
        "\n",
        "# 정규화 (0~1 사이 값으로) => 정규화 적용 전후 결과 비교할 것\n",
        "# X_train: 훈련 데이터\n",
        "# y_train: 학습 데이터\n",
        "# X_test: 예측 데이터\n",
        "# y_test: 검증 데이터\n",
        "#X_train, X_test = X_train / 255.0, X_test / 255.0\n",
        "\n",
        "# 레이블, 정답 데이터 확인, 학습 데이터\n",
        "y_train[0]\n",
        "\n",
        "# 레이블, 정답 데이터 숫자를 인덱스로 한 리스트 생성\n",
        "classes = [\"T-shirt/Top\", \"Trouser\", \"Pullover\", \"Dress\", \"Coat\" ,\"Sandal\", \"Shirt\", \"Sneaker\", \"Bag\", \"Ankle boot\"]\n",
        "print(classes[y_train[0]])\n",
        "\n",
        "# 데이터 및 정답 확인(이미지, 레이블)\n",
        "plt.imshow(X_train[1])\n",
        "print(y_train[1])\n",
        "print(classes[y_train[1]])\n",
        "\n",
        "# 데이터 및 정답 확인(이미지, 레이블)\n",
        "plt.imshow(X_train[9])\n",
        "print(y_train[9])\n",
        "print(classes[y_train[9]])\n",
        "\n",
        "# 모델\n",
        "from tensorflow.keras.layers import Flatten, Dense, Dropout\n",
        "from tensorflow.keras.models import Sequential\n",
        "\n",
        "model = Sequential([\n",
        "    Flatten(input_shape=(28, 28)),\n",
        "    Dense(256, activation='relu'), # 뉴런의 개수\n",
        "    Dropout(0.2), # 과적합 방지를 목적으로 20% 생략\n",
        "    Dense(10, activation='softmax') # 0~9 숫자 따라서 예측값 개수는 10개\n",
        "])\n",
        "\n",
        "\n",
        "# 모델 요약\n",
        "model.summary()\n",
        "\n",
        "# 모델 컴파일, 딥러닝 모델을 학습시키기 위한 데이터를 처리하고, 모델의 구조를 생성하고, 모델의 파라미터를 최적화하는 과정\n",
        "model.compile(optimizer='adam',\n",
        "            loss='sparse_categorical_crossentropy',\n",
        "            metrics=['accuracy'])\n",
        "\n",
        "# 학습(fit) 과정을 시각화하기 과정를 저장\n",
        "#history = model.fit(X_train, y_train, validation_split=0.2, epochs=5)\n",
        "history = model.fit(X_train, y_train, validation_data=(X_test, y_test), epochs=10)\n",
        "\n",
        "\n",
        "\n",
        "\n",
        "\n",
        "\n",
        "\n",
        "\n",
        "\n",
        "\n",
        "\n",
        "\n"
      ]
    },
    {
      "cell_type": "code",
      "source": [
        "# 학습 과정 정확성 검증을 위한 시각화\n",
        "plt.plot(history.history['accuracy'], label='accuracy')\n",
        "plt.plot(history.history['val_accuracy'], label='val_accuracy')\n",
        "plt.xlabel('epochs')\n",
        "plt.ylabel('accuracy')\n",
        "plt.legend()\n"
      ],
      "metadata": {
        "id": "szuZCplHDMZl"
      },
      "execution_count": null,
      "outputs": []
    },
    {
      "cell_type": "code",
      "source": [
        "# 학습 과정 손실 확인 위한 시각화\n",
        "plt.plot(history.history['loss'], label='loss')\n",
        "plt.plot(history.history['val_loss'], label='val_loss')\n",
        "plt.xlabel('epochs')\n",
        "plt.ylabel('loss')\n",
        "plt.legend()"
      ],
      "metadata": {
        "id": "FCI-dqn1DMec"
      },
      "execution_count": null,
      "outputs": []
    },
    {
      "cell_type": "code",
      "source": [
        "# 예측\n",
        "pred = model.predict(X_test)\n",
        "type(pred)\n",
        "pred[1]"
      ],
      "metadata": {
        "colab": {
          "base_uri": "https://localhost:8080/"
        },
        "id": "QvPpzGQkC_zD",
        "outputId": "1ac5c6a7-5594-44ae-a008-c76ef3b73536"
      },
      "execution_count": 4,
      "outputs": [
        {
          "output_type": "stream",
          "name": "stdout",
          "text": [
            "313/313 [==============================] - 1s 2ms/step\n"
          ]
        },
        {
          "output_type": "execute_result",
          "data": {
            "text/plain": [
              "array([5.39566763e-02, 8.41398444e-03, 5.25403559e-01, 5.05641997e-02, 1.93296120e-01, 7.21142642e-05, 1.54585853e-01,\n",
              "       9.83134413e-16, 1.37072969e-02, 1.06546814e-07], dtype=float32)"
            ]
          },
          "metadata": {},
          "execution_count": 4
        }
      ]
    },
    {
      "cell_type": "code",
      "source": [
        "# 가장 높은 값 찾기, np.argmax()는 데이터 중 가장 큰 값의 인덱스를 반환\n",
        "np.argmax(pred[1])"
      ],
      "metadata": {
        "colab": {
          "base_uri": "https://localhost:8080/"
        },
        "id": "n3bZIeRwDAQv",
        "outputId": "65801b5f-5f69-4325-e522-e81b7f12a386"
      },
      "execution_count": 5,
      "outputs": [
        {
          "output_type": "execute_result",
          "data": {
            "text/plain": [
              "2"
            ]
          },
          "metadata": {},
          "execution_count": 5
        }
      ]
    },
    {
      "cell_type": "code",
      "source": [
        "# 예축한 레이블(정답)\n",
        "classes[np.argmax(pred[1])]"
      ],
      "metadata": {
        "colab": {
          "base_uri": "https://localhost:8080/",
          "height": 37
        },
        "id": "WIKJa8GyDAcz",
        "outputId": "4880b053-3d95-41f8-97f0-5116432f7743"
      },
      "execution_count": 6,
      "outputs": [
        {
          "output_type": "execute_result",
          "data": {
            "text/plain": [
              "'Pullover'"
            ],
            "application/vnd.google.colaboratory.intrinsic+json": {
              "type": "string"
            }
          },
          "metadata": {},
          "execution_count": 6
        }
      ]
    },
    {
      "cell_type": "code",
      "source": [
        "# 실제 레이블(정답)\n",
        "classes[y_test[1]]"
      ],
      "metadata": {
        "colab": {
          "base_uri": "https://localhost:8080/",
          "height": 37
        },
        "id": "UymNLC4SDHht",
        "outputId": "d8b28e5f-f006-4c5e-94e8-72fb827c9da5"
      },
      "execution_count": 7,
      "outputs": [
        {
          "output_type": "execute_result",
          "data": {
            "text/plain": [
              "'Pullover'"
            ],
            "application/vnd.google.colaboratory.intrinsic+json": {
              "type": "string"
            }
          },
          "metadata": {},
          "execution_count": 7
        }
      ]
    },
    {
      "cell_type": "code",
      "source": [
        "# 검증 데이터 확인(이미지)\n",
        "plt.imshow(X_test[1])"
      ],
      "metadata": {
        "colab": {
          "base_uri": "https://localhost:8080/",
          "height": 450
        },
        "id": "Ip37COWdDHtx",
        "outputId": "0e188099-194f-4f50-c447-5333d999ea1c"
      },
      "execution_count": 8,
      "outputs": [
        {
          "output_type": "execute_result",
          "data": {
            "text/plain": [
              "<matplotlib.image.AxesImage at 0x7e68e3e4e560>"
            ]
          },
          "metadata": {},
          "execution_count": 8
        },
        {
          "output_type": "display_data",
          "data": {
            "text/plain": [
              "<Figure size 640x480 with 1 Axes>"
            ],
            "image/png": "[encoded data removed]"
          },
          "metadata": {}
        }
      ]
    },
    {
      "cell_type": "code",
      "source": [],
      "metadata": {
        "id": "19MiAemjDAwr"
      },
      "execution_count": null,
      "outputs": []
    }
  ]
}