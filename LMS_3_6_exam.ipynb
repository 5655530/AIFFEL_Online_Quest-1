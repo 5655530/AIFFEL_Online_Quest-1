{
  "nbformat": 4,
  "nbformat_minor": 0,
  "metadata": {
    "colab": {
      "provenance": [],
      "authorship_tag": "ABX9TyOaQoE1TBDduteM+rRUcH68",
      "include_colab_link": true
    },
    "kernelspec": {
      "name": "python3",
      "display_name": "Python 3"
    },
    "language_info": {
      "name": "python"
    }
  },
  "cells": [
    {
      "cell_type": "markdown",
      "metadata": {
        "id": "view-in-github",
        "colab_type": "text"
      },
      "source": [
        "<a href=\"https://colab.research.google.com/github/comandi1969/AIFFEL_Online_Quest/blob/main/LMS_3_6_exam.ipynb\" target=\"_parent\"><img src=\"https://colab.research.google.com/assets/colab-badge.svg\" alt=\"Open In Colab\"/></a>"
      ]
    },
    {
      "cell_type": "code",
      "execution_count": 9,
      "metadata": {
        "colab": {
          "base_uri": "https://localhost:8080/"
        },
        "id": "r8YCxJOC3Xvh",
        "outputId": "c0105798-d947-4bf6-f453-fdbda5f6ccd1"
      },
      "outputs": [
        {
          "output_type": "stream",
          "name": "stdout",
          "text": [
            "[[1, 2], ['ㄱ', 'ㄴ'], ['a', 'b']]\n",
            "b는  b\n",
            "====================\n",
            "8은  8\n",
            "h는  h\n",
            "====================\n",
            "A [ASCII]: => 65\n",
            "I [ASCII]: => 73\n",
            "F [ASCII]: => 70\n",
            "F [ASCII]: => 70\n",
            "E [ASCII]: => 69\n",
            "L [ASCII]: => 76\n",
            "odd_num :  [1, 3, 5, 7, 9]\n"
          ]
        }
      ],
      "source": [
        "# 실습퀴즈1. 리스트\n",
        "# list_tw에서 b를 출력해보세요.\n",
        "list_tw = [[1, 2], ['ㄱ', 'ㄴ'], ['a', 'b']]\n",
        "# print(\"b는 \", list_tw[#?][#?])\n",
        "print(list_tw)\n",
        "print(\"b는 \", list_tw[2][1])\n",
        "print('=' * 20)\n",
        "# 실습퀴즈2. 리스트\n",
        "# list_th에서 8과 h를 출력해보세요.\n",
        "list_th = [[[1, 2, 3], [4, 5, 6], [7, 8, 9], [10, 11, 12]],\\\n",
        "           [['a', 'b', 'c'], ['d', 'e', 'f'], ['g', 'h', 'i'], ['j', 'k', 'l']]]\n",
        "\n",
        "print(\"8은 \", list_th[0][2][1])\n",
        "print(\"h는 \", list_th[1][2][1])\n",
        "\n",
        "print('=' * 20)\n",
        "# 실습퀴즈3. 아스키 코드\n",
        "# AIFFEL의 아스키 코드를 알 수 있는 코드를 직접 작성해보세요.\n",
        "\n",
        "str = 'AIFFEL'\n",
        "for s in str:\n",
        "  print(s, '[ASCII]: =>', ord(s))\n",
        "\n",
        "# 실습퀴즈4. 컴프리헨션\n",
        "# 1부터 10까지의 숫자 중 홀수인 수를 모은 리스트를 만들어 보세요.\n",
        "odd_num = [i for i in range(1, 11,1) if ((i % 2) != 0)]\n",
        "print('odd_num', ': ', odd_num)\n"
      ]
    }
  ]
}