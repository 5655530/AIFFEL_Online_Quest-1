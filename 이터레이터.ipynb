{
  "nbformat": 4,
  "nbformat_minor": 0,
  "metadata": {
    "colab": {
      "provenance": [],
      "authorship_tag": "ABX9TyNzxrpDd04g1FjBarYahjHS",
      "include_colab_link": true
    },
    "kernelspec": {
      "name": "python3",
      "display_name": "Python 3"
    },
    "language_info": {
      "name": "python"
    }
  },
  "cells": [
    {
      "cell_type": "markdown",
      "metadata": {
        "id": "view-in-github",
        "colab_type": "text"
      },
      "source": [
        "<a href=\"https://colab.research.google.com/github/comandi1969/AIFFEL_Online_Quest/blob/main/%EC%9D%B4%ED%84%B0%EB%A0%88%EC%9D%B4%ED%84%B0.ipynb\" target=\"_parent\"><img src=\"https://colab.research.google.com/assets/colab-badge.svg\" alt=\"Open In Colab\"/></a>"
      ]
    },
    {
      "cell_type": "code",
      "execution_count": 1,
      "metadata": {
        "colab": {
          "base_uri": "https://localhost:8080/"
        },
        "id": "lMCOlijENwo7",
        "outputId": "52a5c4dc-8414-4a32-d03b-5eb52f66ea9c"
      },
      "outputs": [
        {
          "output_type": "stream",
          "name": "stdout",
          "text": [
            "1\n",
            "2\n",
            "3\n",
            "4\n",
            "5\n"
          ]
        }
      ],
      "source": [
        "class MyIterator:\n",
        "    def __init__(self, data):\n",
        "        self.data = data\n",
        "        self.index = 0\n",
        "\n",
        "    def __iter__(self):\n",
        "        return self\n",
        "\n",
        "    def __next__(self):\n",
        "        if self.index >= len(self.data):\n",
        "            raise StopIteration\n",
        "        value = self.data[self.index]\n",
        "        self.index += 1\n",
        "        return value\n",
        "\n",
        "my_list = [1, 2, 3, 4, 5]\n",
        "my_iterator = MyIterator(my_list)\n",
        "\n",
        "for item in my_iterator:\n",
        "    print(item)\n"
      ]
    }
  ]
}