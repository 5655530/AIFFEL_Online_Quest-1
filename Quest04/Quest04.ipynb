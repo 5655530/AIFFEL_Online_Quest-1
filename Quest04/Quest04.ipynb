{
  "nbformat": 4,
  "nbformat_minor": 0,
  "metadata": {
    "colab": {
      "provenance": [],
      "include_colab_link": true
    },
    "kernelspec": {
      "name": "python3",
      "display_name": "Python 3"
    },
    "language_info": {
      "name": "python"
    }
  },
  "cells": [
    {
      "cell_type": "markdown",
      "metadata": {
        "id": "view-in-github",
        "colab_type": "text"
      },
      "source": [
        "<a href=\"https://colab.research.google.com/github/comandi1969/AIFFEL_Online_Quest/blob/main/Quest04/Quest04.ipynb\" target=\"_parent\"><img src=\"https://colab.research.google.com/assets/colab-badge.svg\" alt=\"Open In Colab\"/></a>"
      ]
    },
    {
      "cell_type": "code",
      "execution_count": null,
      "metadata": {
        "colab": {
          "base_uri": "https://localhost:8080/"
        },
        "id": "KUYB-AJNp5dQ",
        "outputId": "c770ece7-512c-4651-b77b-667880f53aff"
      },
      "outputs": [
        {
          "output_type": "stream",
          "name": "stdout",
          "text": [
            "Using Comprehension:\n",
            "Nemo is swimming at 3 m/s\n",
            "Dory is swimming at 5 m/s\n",
            "Using Generator:\n",
            "Nemo is swimming at 3 m/s\n",
            "Dory is swimming at 5 m/s\n"
          ]
        }
      ],
      "source": [
        "import time # 2초 출력 지연을 위해 time 모듈 임포트\n",
        "\n",
        "# 입력받는 물고기 리스트를 출력하는 컴프리헨션 함수\n",
        "def show_fish_movement_comprehension(fish_list):\n",
        "    movement = [f\"{fish['이름']} is swimming at {fish['speed']} m/s\" for fish in fish_list]\n",
        "    for m in movement:\n",
        "        print(m)\n",
        "        time.sleep(2) # 출력 시 2초 지연\n",
        "\n",
        "# 입력받는 물고기 리스트를 출력하는 제너레이터 함수\n",
        "# yield를 사용해 동적으로 물고기 리스트 이터레이터를 생성해 출력 for문에 전달\n",
        "def show_fish_movement_generator(fish_list):\n",
        "    def movement_generator():\n",
        "        for fish in fish_list:\n",
        "            yield f\"{fish['이름']} is swimming at {fish['speed']} m/s\"\n",
        "\n",
        "    for m in movement_generator():\n",
        "        print(m)\n",
        "        time.sleep(2) # 출력 시 2초 지연\n",
        "\n",
        "# 물고기 리스트 생성\n",
        "fish_list = [\n",
        "    {\"이름\": \"Nemo\", \"speed\": 3},\n",
        "    {\"이름\": \"Dory\", \"speed\": 5},\n",
        "]\n",
        "\n",
        "# 컴프리헨션 함수 출력\n",
        "print(\"Using Comprehension:\")\n",
        "show_fish_movement_comprehension(fish_list)\n",
        "\n",
        "# 제너레이터 함수 출력\n",
        "print(\"Using Generator:\")\n",
        "show_fish_movement_generator(fish_list)"
      ]
    }
  ]
}