{
  "nbformat": 4,
  "nbformat_minor": 0,
  "metadata": {
    "colab": {
      "provenance": [],
      "include_colab_link": true
    },
    "kernelspec": {
      "name": "python3",
      "display_name": "Python 3"
    },
    "language_info": {
      "name": "python"
    }
  },
  "cells": [
    {
      "cell_type": "markdown",
      "metadata": {
        "id": "view-in-github",
        "colab_type": "text"
      },
      "source": [
        "<a href=\"https://colab.research.google.com/github/comandi1969/AIFFEL_Online_Quest/blob/main/Quest04/Quest04.ipynb\" target=\"_parent\"><img src=\"https://colab.research.google.com/assets/colab-badge.svg\" alt=\"Open In Colab\"/></a>"
      ]
    },
    {
      "cell_type": "code",
      "execution_count": 3,
      "metadata": {
        "colab": {
          "base_uri": "https://localhost:8080/"
        },
        "id": "KUYB-AJNp5dQ",
        "outputId": "d2111eb2-9299-482b-e641-914bcc5bce24"
      },
      "outputs": [
        {
          "output_type": "stream",
          "name": "stdout",
          "text": [
            "Using Comprehension:\n",
            "Nemo is swimming at 3 m/s\n",
            "Dory is swimming at 5 m/s\n",
            "Using Generator:\n",
            "Nemo is swimming at 3 m/s\n",
            "Dory is swimming at 5 m/s\n"
          ]
        }
      ],
      "source": [
        "import time # 2초 출력 지연을 위해 time 모듈 임포트\n",
        "\n",
        "# 입력받는 물고기 리스트를 출력하는 컴프리헨션 함수\n",
        "def show_fish_movement_comprehension(fish_list):\n",
        "    movement = [f\"{fish['이름']} is swimming at {fish['speed']} m/s\" for fish in fish_list]\n",
        "    for m in movement:\n",
        "        print(m)\n",
        "        time.sleep(2) # 출력 시 2초 지연\n",
        "\n",
        "# 입력받는 물고기 리스트를 출력하는 제너레이터 함수\n",
        "# yield를 사용해 동적으로 물고기 리스트 이터레이터를 생성해 출력 for문에 전달\n",
        "def show_fish_movement_generator(fish_list):\n",
        "    def movement_generator():\n",
        "        for fish in fish_list:\n",
        "            yield f\"{fish['이름']} is swimming at {fish['speed']} m/s\"\n",
        "\n",
        "    for m in movement_generator():\n",
        "        print(m)\n",
        "        time.sleep(2) # 출력 시 2초 지연\n",
        "\n",
        "# 물고기 리스트 생성\n",
        "fish_list = [\n",
        "    {\"이름\": \"Nemo\", \"speed\": 3},\n",
        "    {\"이름\": \"Dory\", \"speed\": 5},\n",
        "]\n",
        "\n",
        "'''\n",
        "# 사용자 입력으로 물고기 리스트 생성\n",
        "def get_fish_list_from_user():\n",
        "    fish_list = [] # 빈 물고기 리스트 생성\n",
        "    while True:\n",
        "        fish_name = input(\"물고기 이름을 입력하세요 (종료하려면 'x' 입력): \") # 입력을 종료하려면 x를 입력\n",
        "        if fish_name == 'x':\n",
        "            break\n",
        "        fish_speed = int(input(\"물고기의 속도를 입력하세요: \"))\n",
        "        fish = {\"이름\": fish_name, \"speed\": fish_speed} # 입력받은 물고기 이름과 속도를 디션너리 구조로 저장\n",
        "        fish_list.append(fish) # 디션너리를 빈 리스트에 추가\n",
        "    return fish_list\n",
        "\n",
        "# 사용자로부터 물고기 리스트 입력 받기\n",
        "fish_list = get_fish_list_from_user()\n",
        "'''\n",
        "\n",
        "# 컴프리헨션 함수 출력\n",
        "print(\"Using Comprehension:\")\n",
        "show_fish_movement_comprehension(fish_list)\n",
        "\n",
        "# 제너레이터 함수 출력\n",
        "print(\"Using Generator:\")\n",
        "show_fish_movement_generator(fish_list)\n"
      ]
    }
  ]
}