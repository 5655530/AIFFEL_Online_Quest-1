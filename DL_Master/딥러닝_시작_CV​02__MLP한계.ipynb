{
  "nbformat": 4,
  "nbformat_minor": 0,
  "metadata": {
    "colab": {
      "provenance": [],
      "authorship_tag": "ABX9TyPFSMXs6rU1UZQml1j3rHgp",
      "include_colab_link": true
    },
    "kernelspec": {
      "name": "python3",
      "display_name": "Python 3"
    },
    "language_info": {
      "name": "python"
    }
  },
  "cells": [
    {
      "cell_type": "markdown",
      "metadata": {
        "id": "view-in-github",
        "colab_type": "text"
      },
      "source": [
        "<a href=\"https://colab.research.google.com/github/comandi1969/AIFFEL_Online_Quest/blob/main/DL_Master/%EB%94%A5%EB%9F%AC%EB%8B%9D_%EC%8B%9C%EC%9E%91_CV%E2%80%8B02__MLP%ED%95%9C%EA%B3%84.ipynb\" target=\"_parent\"><img src=\"https://colab.research.google.com/assets/colab-badge.svg\" alt=\"Open In Colab\"/></a>"
      ]
    },
    {
      "cell_type": "code",
      "execution_count": null,
      "metadata": {
        "id": "6-uB2XZ6qCp4"
      },
      "outputs": [],
      "source": [
        "# OpenCV 모듈 불러오기\n",
        "import cv2"
      ]
    },
    {
      "cell_type": "code",
      "source": [
        "# Q. 다시 한번 MNIST 데이터를 불러와 보세요.\n",
        "import sys\n",
        "import tensorflow as tf\n",
        "import numpy as np\n",
        "\n",
        "(X_train, Y_train), (X_test, Y_test) = tf.keras.datasets.mnist.load_data()"
      ],
      "metadata": {
        "id": "e-4jBsYZqIMj"
      },
      "execution_count": null,
      "outputs": []
    },
    {
      "cell_type": "code",
      "source": [
        "# Q. MNIST 데이터가 어떻게 생겼는지 확인해 봅시다. (이전 스텝을 참고해서 코드를 작성해 보세요.)\n",
        "# shape 확인하기\n",
        "print(X_train.shape) # 28 x 28의 이미지가 60,000장\n",
        "print(Y_train.shape) ## [ 5, 1, 2, 3, 4, 4,   .... ]\n",
        "print(\"학습셋 이미지 수 : %d 개\" % (X_train.shape[0]))\n",
        "print(\"테스트셋 이미지 수 : %d 개\" % (X_test.shape[0]))\n",
        "\n",
        "# MNIST 데이터를 시각화하기\n",
        "import matplotlib.pyplot as plt\n",
        "print(Y_train[0])\n",
        "plt.imshow(X_train[0], cmap='Greys') # 흑백 이미지로 확인\n",
        "plt.show()"
      ],
      "metadata": {
        "id": "ETRxoI6hqIQB"
      },
      "execution_count": null,
      "outputs": []
    },
    {
      "cell_type": "code",
      "source": [
        "# 이미지 회전 변환 메트릭스 구하기\n",
        "M= cv2.getRotationMatrix2D((20, 25), 20, 1)  ## 회전 변환 Matrix 생성\n",
        "\n",
        "# 이미지 이동 변환 메트릭스 구하기\n",
        "M[0, 2] = M[0, 2] + 3\n",
        "M[1, 2] = M[1, 2] + 3\n",
        "\n",
        "# 이미지 변환 메트릭스 적용\n",
        "test_image = cv2.warpAffine(X_train[5], M, (28, 28))  ## image에 matrix 곱"
      ],
      "metadata": {
        "id": "m3Vld1VzqITM"
      },
      "execution_count": null,
      "outputs": []
    },
    {
      "cell_type": "code",
      "source": [
        "plt.imshow(test_image, cmap='Greys')"
      ],
      "metadata": {
        "id": "yV1YcqruqIWI"
      },
      "execution_count": null,
      "outputs": []
    },
    {
      "cell_type": "code",
      "source": [
        "# MLP의 input 데이터를 넣어주기 위해 1x784 형태로 reshape하고 normalization\n",
        "test_image_reshape = test_image.reshape(1, 784).astype('float64')"
      ],
      "metadata": {
        "id": "vv86YiU-qIZz"
      },
      "execution_count": null,
      "outputs": []
    },
    {
      "cell_type": "code",
      "source": [
        "Y_prediction = model.predict(test_image_reshape)\n",
        "print(Y_prediction)"
      ],
      "metadata": {
        "id": "s46IwCOCqIfS"
      },
      "execution_count": null,
      "outputs": []
    },
    {
      "cell_type": "code",
      "source": [
        "index = np.argmax(Y_prediction) # 10개의 class가 각 확률 값으로 나오기 때문에 가장 높은 값을 가진 인덱스를 추출\n",
        "print(index) # 6\n",
        "value = Y_prediction[:, index]\n",
        "print(value) # 확률 값을 추출 1.0 즉 100%\n",
        "plt.imshow(test_image, cmap='Greys')\n",
        "plt.xlabel(\"prediction: \"+str(index)+\"  \" +str(value), fontsize=20)\n",
        "plt.show()\n",
        "# 분명히 숫자 2를 나타낸 이미지였지만 간단한 변환을 적용했더니 모델은 데이터를 다른 숫자로 잘못 인식했습니다.\n",
        "# 즉 MLP로 학습한 모델은 이미지 분류기로서는 robust classifier가 아니라는 것을 알 수 있습니다. MLP를 이용해서 이미지를 분류하는 데에는 뭔가 문제가 있는 것 같습니다.\n",
        "# 분명히 이전에 학습한 결과는 test loss가 매우 낮았으므로 분류 성능이 좋아야 하는데, 왜 이런 결과를 보이는 걸까요?"
      ],
      "metadata": {
        "id": "EB1AIvumqIht"
      },
      "execution_count": null,
      "outputs": []
    },
    {
      "cell_type": "code",
      "source": [],
      "metadata": {
        "id": "Z-Q8bx96qIjh"
      },
      "execution_count": null,
      "outputs": []
    },
    {
      "cell_type": "code",
      "source": [],
      "metadata": {
        "id": "STT1H1CuqIlu"
      },
      "execution_count": null,
      "outputs": []
    }
  ]
}