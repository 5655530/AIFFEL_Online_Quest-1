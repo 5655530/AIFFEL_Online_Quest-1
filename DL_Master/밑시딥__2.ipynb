{
  "nbformat": 4,
  "nbformat_minor": 0,
  "metadata": {
    "colab": {
      "provenance": [],
      "authorship_tag": "ABX9TyMtUtD9NxL4UdOuVLNGvWsY",
      "include_colab_link": true
    },
    "kernelspec": {
      "name": "python3",
      "display_name": "Python 3"
    },
    "language_info": {
      "name": "python"
    }
  },
  "cells": [
    {
      "cell_type": "markdown",
      "metadata": {
        "id": "view-in-github",
        "colab_type": "text"
      },
      "source": [
        "<a href=\"https://colab.research.google.com/github/comandi1969/AIFFEL_Online_Quest/blob/main/DL_Master/%EB%B0%91%EC%8B%9C%EB%94%A5__2.ipynb\" target=\"_parent\"><img src=\"https://colab.research.google.com/assets/colab-badge.svg\" alt=\"Open In Colab\"/></a>"
      ]
    },
    {
      "cell_type": "code",
      "execution_count": 15,
      "metadata": {
        "colab": {
          "base_uri": "https://localhost:8080/"
        },
        "id": "jwFAJq0baEr9",
        "outputId": "70bca690-88b2-4257-c0e7-97b0249ba82b"
      },
      "outputs": [
        {
          "output_type": "stream",
          "name": "stdout",
          "text": [
            "AND(0, 0) : 0\n",
            "AND(1, 0) : 0\n",
            "AND(0, 1) : 0\n",
            "AND(1, 1) : 1\n"
          ]
        }
      ],
      "source": [
        "# AND\n",
        "def AND(x1, x2):\n",
        "    w1, w2, theta = 0.5, 0.5, 0.7\n",
        "    tmp = w1*x1 + w2*x2\n",
        "    if tmp <= theta:\n",
        "        return 0\n",
        "    elif tmp > theta:\n",
        "        return 1\n",
        "\n",
        "for xs in [(0,0), (1, 0), (0, 1), (1, 1)]:\n",
        "    print(f'AND({xs[0]}, {xs[1]}) : {AND(xs[0], xs[1])}')\n"
      ]
    }
  ]
}