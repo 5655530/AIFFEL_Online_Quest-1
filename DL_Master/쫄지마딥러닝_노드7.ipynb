{
  "nbformat": 4,
  "nbformat_minor": 0,
  "metadata": {
    "colab": {
      "provenance": [],
      "authorship_tag": "ABX9TyPiP0N/uTTP+2JHCVdzS40P",
      "include_colab_link": true
    },
    "kernelspec": {
      "name": "python3",
      "display_name": "Python 3"
    },
    "language_info": {
      "name": "python"
    }
  },
  "cells": [
    {
      "cell_type": "markdown",
      "metadata": {
        "id": "view-in-github",
        "colab_type": "text"
      },
      "source": [
        "<a href=\"https://colab.research.google.com/github/comandi1969/AIFFEL_Online_Quest/blob/main/DL_Master/%EC%AB%84%EC%A7%80%EB%A7%88%EB%94%A5%EB%9F%AC%EB%8B%9D_%EB%85%B8%EB%93%9C7.ipynb\" target=\"_parent\"><img src=\"https://colab.research.google.com/assets/colab-badge.svg\" alt=\"Open In Colab\"/></a>"
      ]
    },
    {
      "cell_type": "code",
      "execution_count": 8,
      "metadata": {
        "colab": {
          "base_uri": "https://localhost:8080/"
        },
        "id": "gsaJqfY7bW9A",
        "outputId": "d34fbfae-59ad-4616-abd1-4b8816fca6e2"
      },
      "outputs": [
        {
          "output_type": "stream",
          "name": "stdout",
          "text": [
            "입력 이미지 데이터: (1, 1920, 1080, 3)\n",
            "이미지 데이터 값 개수:  (1, 6220800)\n",
            "\n",
            "\n",
            "단일 필터 Convolution 레이어: (10, 10, 3, 1)\n",
            "단일 필터 Convolution 레이어의 파라미터 수: 300\n",
            "단일 필터 Convolution 결과 이미지: (1, 1911, 1071, 1)\n",
            "단일 필터 Convolution 결과 이미지 데이터 수:  (1, 2046681)\n",
            "\n",
            "\n",
            "16개 필터 Convolution 레이어: (5, 5, 3, 16)\n",
            "16개 필터 Convolution 레이어의 파라미터 수: 1200\n",
            "16개 필터 Convolution 결과 이미지: (1, 1916, 1076, 16)\n",
            "16개 필터 Convolution 결과 이미지 데이터 수: (1, 32985856)\n"
          ]
        }
      ],
      "source": [
        "import tensorflow as tf\n",
        "\n",
        "# 1장 x 가로 1920 픽셀 x 세로 1080 픽셀 x 3채널(빨, 초, 파)\n",
        "pic = tf.zeros((1, 1920, 1080, 3))\n",
        "print(\"입력 이미지 데이터:\", pic.shape)\n",
        "pic_flatten_out = tf.keras.layers.Flatten()(pic)\n",
        "print(\"이미지 데이터 값 개수: \", pic_flatten_out.shape)\n",
        "print(\"\\n\")\n",
        "\n",
        "single_conv_layer = tf.keras.layers.Conv2D(filters=1, # 1개 필터\n",
        "                                    kernel_size=(10, 10),    # 5 x 5 크기\n",
        "                                    use_bias=False)    # bias에 대해서는 여기서는 설명하지 않습니다.\n",
        "single_conv_out = single_conv_layer(pic)\n",
        "print(\"단일 필터 Convolution 레이어:\", single_conv_layer.weights[0].shape)\n",
        "print(\"단일 필터 Convolution 레이어의 파라미터 수:\", single_conv_layer.count_params())\n",
        "print(\"단일 필터 Convolution 결과 이미지:\", single_conv_out.shape)\n",
        "single_flatten_out = tf.keras.layers.Flatten()(single_conv_out)\n",
        "print(\"단일 필터 Convolution 결과 이미지 데이터 수: \", single_flatten_out.shape)\n",
        "print(\"\\n\")\n",
        "\n",
        "multiple_conv_layer = tf.keras.layers.Conv2D(filters=16, # 16개 필터\n",
        "                                    kernel_size=(5, 5),    # 5 x 5 크기\n",
        "                                    use_bias=False)    # bias에 대해서는 여기서는 설명하지 않습니다.\n",
        "multiple_conv_out = multiple_conv_layer(pic)\n",
        "print(\"16개 필터 Convolution 레이어:\", multiple_conv_layer.weights[0].shape)\n",
        "print(\"16개 필터 Convolution 레이어의 파라미터 수:\", multiple_conv_layer.count_params())\n",
        "print(\"16개 필터 Convolution 결과 이미지:\", multiple_conv_out.shape)\n",
        "multiple_flatten_out = tf.keras.layers.Flatten()(multiple_conv_out)\n",
        "print(\"16개 필터 Convolution 결과 이미지 데이터 수:\", multiple_flatten_out.shape)\n",
        "\n",
        "\n",
        "# 이미지 수 => 1\n",
        "# 이미지 채널 수 => 3\n",
        "# Convolution 필터 크기 => 5x5\n",
        "# 필터 수 => 1\n",
        "# 입력 이미지 데이터: (1, 1920, 1080, 3)\n",
        "# 이미지 데이터 값 개수:  (1, 6220800) => 1920*1080*3 = 6220800\n",
        "# 단일 필터 Convolution 레이어: (5, 5, 3, 1) (커널사이즈, 채널수, 이미지수 )\n",
        "# 단일 필터 Convolution 레이어의 파라미터 수: 75 = 5x5x3\n",
        "# 단일 필터 Convolution 결과 이미지: (1, 1916, 1076, 1) 1920-5+1, 1080-5+1 => 합성곱 결과 이미지 사이즈\n",
        "# 단일 필터 Convolution 결과 이미지 데이터 수:  (1, 2061616)\n",
        "\n",
        "# 이미지 수 => 1\n",
        "# 이미지 채널 수 => 13\n",
        "# @@@Convolution 필터 크기 => 10x10\n",
        "# 필터 수 => 1\n",
        "# 입력 이미지 데이터: (1, 1920, 1080, 3)\n",
        "# 이미지 데이터 값 개수:  (1, 6220800)\n",
        "# 단일 필터 Convolution 레이어: (10, 10, 3, 1)\n",
        "# 단일 필터 Convolution 레이어의 파라미터 수: 300\n",
        "# 단일 필터 Convolution 결과 이미지: (1, 1911, 1071, 1)\n",
        "# 단일 필터 Convolution 결과 이미지 데이터 수:  (1, 2046681)\n",
        "\n",
        "\n",
        "# 이미지 수 => 1\n",
        "# @@@이미지 채널 수 => 1\n",
        "# Convolution 필터 크기 => 5x5\n",
        "# 필터 수 => 1\n",
        "# 입력 이미지 데이터: (1, 1920, 1080, 1)\n",
        "# 이미지 데이터 값 개수:  (1, 2073600)\n",
        "# 단일 필터 Convolution 레이어: (5, 5, 1, 1)\n",
        "# 단일 필터 Convolution 레이어의 파라미터 수: 25\n",
        "# 단일 필터 Convolution 결과 이미지: (1, 1916, 1076, 1)\n",
        "# 단일 필터 Convolution 결과 이미지 데이터 수:  (1, 2061616)\n",
        "\n",
        "# @@@이미지 수 => 3\n",
        "# 이미지 채널 수 => 3\n",
        "# Convolution 필터 크기 => 5x5\n",
        "# 필터 수 => 1\n",
        "# 입력 이미지 데이터: (3, 1920, 1080, 3)\n",
        "# 이미지 데이터 값 개수:  (3, 6220800)\n",
        "# 단일 필터 Convolution 레이어: (5, 5, 3, 1)\n",
        "# 단일 필터 Convolution 레이어의 파라미터 수: 75\n",
        "# 단일 필터 Convolution 결과 이미지: (3, 1916, 1076, 1)\n",
        "# 단일 필터 Convolution 결과 이미지 데이터 수:  (3, 2061616)\n",
        "\n",
        "# @@@이미지 수 => 3\n",
        "# 이미지 채널 수 => 3\n",
        "# Convolution 필터 크기 => 5x5\n",
        "# 필터 수 => 16\n",
        "# 입력 이미지 데이터: (1, 1920, 1080, 3)\n",
        "# 이미지 데이터 값 개수:  (1, 6220800)\n",
        "# 16개 필터 Convolution 레이어: (5, 5, 3, 16)\n",
        "# 16개 필터 Convolution 레이어의 파라미터 수: 1200\n",
        "# 16개 필터 Convolution 결과 이미지: (1, 1916, 1076, 16)\n",
        "# 16개 필터 Convolution 결과 이미지 데이터 수: (1, 32985856)"
      ]
    }
  ]
}