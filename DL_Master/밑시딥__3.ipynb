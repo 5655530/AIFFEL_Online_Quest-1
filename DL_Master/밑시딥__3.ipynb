{
  "nbformat": 4,
  "nbformat_minor": 0,
  "metadata": {
    "colab": {
      "provenance": [],
      "gpuType": "T4",
      "authorship_tag": "ABX9TyNHLXPBQJ9juie2F+e6qt15",
      "include_colab_link": true
    },
    "kernelspec": {
      "name": "python3",
      "display_name": "Python 3"
    },
    "language_info": {
      "name": "python"
    }
  },
  "cells": [
    {
      "cell_type": "markdown",
      "metadata": {
        "id": "view-in-github",
        "colab_type": "text"
      },
      "source": [
        "<a href=\"https://colab.research.google.com/github/comandi1969/AIFFEL_Online_Quest/blob/main/DL_Master/%EB%B0%91%EC%8B%9C%EB%94%A5__3.ipynb\" target=\"_parent\"><img src=\"https://colab.research.google.com/assets/colab-badge.svg\" alt=\"Open In Colab\"/></a>"
      ]
    },
    {
      "cell_type": "code",
      "source": [
        "import numpy as np\n",
        "\n",
        "X = np.array([1,2]) # 입력값\n",
        "W = np.array([[1,3,5],[2,4,6]]) # 가중치\n",
        "Y = np.dot(X,W) # 행렬의 곱\n",
        "print(Y)\n",
        "Y.shape"
      ],
      "metadata": {
        "colab": {
          "base_uri": "https://localhost:8080/"
        },
        "id": "UncBDTBMKkx0",
        "outputId": "3db40993-540e-4a8e-ec96-8524033ba2a0"
      },
      "execution_count": null,
      "outputs": [
        {
          "output_type": "stream",
          "name": "stdout",
          "text": [
            "[ 5 11 17]\n"
          ]
        },
        {
          "output_type": "execute_result",
          "data": {
            "text/plain": [
              "(3,)"
            ]
          },
          "metadata": {},
          "execution_count": 6
        }
      ]
    },
    {
      "cell_type": "code",
      "source": [
        "import numpy as np\n",
        "\n",
        "X = np.array([1.0,0.5])\n",
        "W1 = np.array([[0.1,0.3,0.5],[0.2,0.4,0.6]])\n",
        "B1 = np.array([0.1,0.2,0.3])\n",
        "\n",
        "A1 = np.dot(X, W1) + B1\n",
        "print(A1)\n"
      ],
      "metadata": {
        "colab": {
          "base_uri": "https://localhost:8080/"
        },
        "id": "p_vK5SHBNNio",
        "outputId": "819a3dd6-604c-4d8d-c099-6308c00dc597"
      },
      "execution_count": null,
      "outputs": [
        {
          "output_type": "stream",
          "name": "stdout",
          "text": [
            "[0.3 0.7 1.1]\n"
          ]
        }
      ]
    },
    {
      "cell_type": "code",
      "source": [
        "import numpy as np\n",
        "\n",
        "def sigmoid(x):\n",
        "    return 1 / (1 + np.exp(-x))\n",
        "\n",
        "X = np.array([1.0,0.5])\n",
        "W1 = np.array([[0.1,0.3,0.5],[0.2,0.4,0.6]])\n",
        "B1 = np.array([0.1,0.2,0.3])\n",
        "\n",
        "A1 = np.dot(X,W1) + B1\n",
        "Z1 = sigmoid(A1)\n",
        "print(Z1)"
      ],
      "metadata": {
        "colab": {
          "base_uri": "https://localhost:8080/"
        },
        "id": "IETa_DB-2a18",
        "outputId": "855191c9-7f44-454a-d6c5-f89910117c95"
      },
      "execution_count": null,
      "outputs": [
        {
          "output_type": "stream",
          "name": "stdout",
          "text": [
            "[0.57444252 0.66818777 0.75026011]\n"
          ]
        }
      ]
    },
    {
      "cell_type": "code",
      "source": [
        "import numpy as np\n",
        "\n",
        "def sigmoid(x):\n",
        "    return 1 / (1 + np.exp(-x))\n",
        "\n",
        "X = np.array([1.0,0.5])\n",
        "W1 = np.array([[0.1,0.3,0.5],[0.2,0.4,0.6]])\n",
        "W1.shape\n",
        "W2 = np.array([[0.1,0.4],[0.2,0.5],[0.3,0.6]])\n",
        "W2.shape\n",
        "B1 = np.array([0.1,0.2,0.3])\n",
        "B2 = np.array([0.1,0.2])\n",
        "\n",
        "A1 = np.dot(X,W1) + B1\n",
        "Z1 = sigmoid(A1)\n",
        "A2 = np.dot(Z1,W2) +B2\n",
        "Z2 = sigmoid(A2)\n",
        "print(Z2)"
      ],
      "metadata": {
        "colab": {
          "base_uri": "https://localhost:8080/"
        },
        "id": "hBg4Ed_O8e_p",
        "outputId": "026292b8-b994-4152-f8a7-ab55aeb165ef"
      },
      "execution_count": null,
      "outputs": [
        {
          "output_type": "execute_result",
          "data": {
            "text/plain": [
              "(3, 2)"
            ]
          },
          "metadata": {},
          "execution_count": 7
        }
      ]
    },
    {
      "cell_type": "code",
      "source": [
        "import numpy as np\n",
        "\n",
        "a = np.array([0.3,2.9,4.0])\n",
        "\n",
        "exp_a = np.exp(a)\n",
        "print(exp_a)\n",
        "\n",
        "sum_exp_a = np.sum(exp_a)\n",
        "print(sum_exp_a)\n",
        "\n",
        "y = exp_a / sum_exp_a\n",
        "print(y) # [0.01821127 0.24519181 0.73659691]\n",
        "\n",
        "np.sum(y)"
      ],
      "metadata": {
        "colab": {
          "base_uri": "https://localhost:8080/"
        },
        "id": "LNTdG1orDmwl",
        "outputId": "ad12ff12-9081-4d06-ea49-f7b970505ee4"
      },
      "execution_count": null,
      "outputs": [
        {
          "output_type": "stream",
          "name": "stdout",
          "text": [
            "[0.01821127 0.24519181 0.73659691]\n"
          ]
        }
      ]
    },
    {
      "cell_type": "code",
      "source": [
        "import numpy as np\n",
        "\n",
        "def softmax(a):\n",
        "    c = np.max(a)\n",
        "    exp_a = np.exp(a-c)\n",
        "    print(f'exp_a => {exp_a}')\n",
        "    sum_exp_a = np.sum(exp_a)\n",
        "    print(f'sum_exp_a => {sum_exp_a}')\n",
        "    y = exp_a / sum_exp_a # 개선된 소프트맥스 수식\n",
        "    return y\n",
        "\n",
        "a = np.array([0.3,2.9,4.0])\n",
        "y = softmax(a)\n",
        "print(y)\n",
        "sum = np.sum(y)\n",
        "print(sum)"
      ],
      "metadata": {
        "colab": {
          "base_uri": "https://localhost:8080/"
        },
        "id": "AmAOijrXaDQ3",
        "outputId": "425adfc5-3a4a-4eb8-9464-820cfd359ec4"
      },
      "execution_count": null,
      "outputs": [
        {
          "output_type": "stream",
          "name": "stdout",
          "text": [
            "exp_a => [0.02472353 0.33287108 1.        ]\n",
            "sum_exp_a => 1.3575946101684189\n",
            "[0.01821127 0.24519181 0.73659691]\n",
            "1.0\n"
          ]
        }
      ]
    },
    {
      "cell_type": "code",
      "source": [
        "def step_function(x):\n",
        "    if x > 0:\n",
        "        return 1\n",
        "    else:\n",
        "        return 0\n",
        "\n",
        "step_function(0)\n",
        "step_function(1)\n",
        "step_function(-1)"
      ],
      "metadata": {
        "colab": {
          "base_uri": "https://localhost:8080/"
        },
        "id": "aoMT8pXykJ9j",
        "outputId": "be2506b9-5388-4655-f02b-6f8ab48467a1"
      },
      "execution_count": null,
      "outputs": [
        {
          "output_type": "execute_result",
          "data": {
            "text/plain": [
              "0"
            ]
          },
          "metadata": {},
          "execution_count": 49
        }
      ]
    },
    {
      "cell_type": "code",
      "source": [
        "import numpy as np\n",
        "def step_function(x):\n",
        "    y = x > 0\n",
        "#   return y\n",
        "    return y.astype(np.int32)\n",
        "\n",
        "# def step_function(x):\n",
        "#     return np.array(x > 0, dtype=np.int32)\n",
        "\n",
        "x = np.array([-1.0, 1.0, 2.0])\n",
        "\n",
        "step_function(x)\n"
      ],
      "metadata": {
        "colab": {
          "base_uri": "https://localhost:8080/"
        },
        "id": "lH-CEuvYktYo",
        "outputId": "00805172-7f8e-4a80-c28f-124912c453eb"
      },
      "execution_count": null,
      "outputs": [
        {
          "output_type": "execute_result",
          "data": {
            "text/plain": [
              "array([0, 1, 1], dtype=int32)"
            ]
          },
          "metadata": {},
          "execution_count": 46
        }
      ]
    },
    {
      "cell_type": "code",
      "source": [
        "import numpy as np\n",
        "def sigmoid(x):\n",
        "    return 1 / (1 + np.exp(-x))\n",
        "\n",
        "x = np.array([-1.0, 1.0, 2.0])\n",
        "sigmoid(x)\n",
        "# sigmoid(x).min()\n",
        "# sigmoid(x).max()\n",
        "# sigmoid(x).sum()"
      ],
      "metadata": {
        "colab": {
          "base_uri": "https://localhost:8080/"
        },
        "id": "Mpl7NKvrnexh",
        "outputId": "6cbb73d1-f3aa-4b80-8884-b02308ee0cb0"
      },
      "execution_count": null,
      "outputs": [
        {
          "output_type": "execute_result",
          "data": {
            "text/plain": [
              "array([0.26894142, 0.73105858, 0.88079708])"
            ]
          },
          "metadata": {},
          "execution_count": 56
        }
      ]
    },
    {
      "cell_type": "code",
      "execution_count": null,
      "metadata": {
        "colab": {
          "base_uri": "https://localhost:8080/",
          "height": 430
        },
        "id": "qIsmzToWJhT6",
        "outputId": "061a198d-a019-4178-e48c-ee214025365f"
      },
      "outputs": [
        {
          "output_type": "display_data",
          "data": {
            "text/plain": [
              "<Figure size 640x480 with 1 Axes>"
            ],
            "image/png": "[encoded data removed]"
          },
          "metadata": {}
        }
      ],
      "source": [
        "import numpy as np\n",
        "import matplotlib.pylab as plt\n",
        "\n",
        "def step_fuction(x):\n",
        "    return np.array(x>0, dtype=int)\n",
        "\n",
        "x = np.arange(-5.0, 5.0, 0.1)\n",
        "y = step_fuction(x)\n",
        "plt.plot(x, y)\n",
        "plt.ylim(-0.1, 1.1) # y축 범위 지정\n",
        "plt.show()"
      ]
    },
    {
      "cell_type": "code",
      "source": [
        "import numpy as np\n",
        "import matplotlib.pylab as plt\n",
        "\n",
        "def sigmoid(x):\n",
        "    return 1 / (1 + np.exp(-x))\n",
        "\n",
        "x = np.arange(-5.0, 5.0,  0.1)\n",
        "y = sigmoid(x)\n",
        "plt.plot(x, y)\n",
        "plt.ylim(-0.1, 1.1)\n",
        "plt.show()"
      ],
      "metadata": {
        "colab": {
          "base_uri": "https://localhost:8080/",
          "height": 430
        },
        "id": "ogmCExuDo-jB",
        "outputId": "82feb527-aee4-4338-be0e-af59d0d3700d"
      },
      "execution_count": null,
      "outputs": [
        {
          "output_type": "display_data",
          "data": {
            "text/plain": [
              "<Figure size 640x480 with 1 Axes>"
            ],
            "image/png": "[encoded data removed]"
          },
          "metadata": {}
        }
      ]
    },
    {
      "cell_type": "code",
      "source": [
        "import numpy as np\n",
        "import matplotlib.pylab as plt\n",
        "\n",
        "x = np.array([1, -1, -1, 1, 1])\n",
        "y = np.array([1, 1, -1, -1, 1])\n",
        "plt.plot(x, y, 'bo--')\n",
        "plt.xlim(-2, 2)\n",
        "plt.ylim(-2, 2)\n",
        "plt.show()\n"
      ],
      "metadata": {
        "colab": {
          "base_uri": "https://localhost:8080/",
          "height": 435
        },
        "id": "4oz7m8fKYjTn",
        "outputId": "22c62fe8-3ace-42b7-eb17-da280733d774"
      },
      "execution_count": null,
      "outputs": [
        {
          "output_type": "display_data",
          "data": {
            "text/plain": [
              "<Figure size 640x480 with 1 Axes>"
            ],
            "image/png": "[encoded data removed]"
          },
          "metadata": {}
        }
      ]
    },
    {
      "cell_type": "code",
      "source": [
        "import numpy as np\n",
        "import matplotlib.pylab as plt\n",
        "\n",
        "def relu(x):\n",
        "    return np.maximum(0, x)\n",
        "\n",
        "x = np.arange(-5.0, 6 .0,  0.1)\n",
        "y = relu(x)\n",
        "plt.plot(x, y)\n",
        "plt.show()"
      ],
      "metadata": {
        "colab": {
          "base_uri": "https://localhost:8080/",
          "height": 430
        },
        "id": "hZK35GCoboqd",
        "outputId": "c84d9f79-ce70-47a9-c038-b169dd7ebc2f"
      },
      "execution_count": null,
      "outputs": [
        {
          "output_type": "display_data",
          "data": {
            "text/plain": [
              "<Figure size 640x480 with 1 Axes>"
            ],
            "image/png": "[encoded data removed]"
          },
          "metadata": {}
        }
      ]
    },
    {
      "cell_type": "code",
      "source": [
        "import numpy as np\n",
        "A = np.array([1, 2, 3, 4])\n",
        "print(A)\n",
        "print(type(A))\n",
        "print(np.ndim(A))\n",
        "print(A.shape)\n",
        "print(A.shape[0])\n",
        "print(A[0])"
      ],
      "metadata": {
        "colab": {
          "base_uri": "https://localhost:8080/"
        },
        "id": "ZQSMNe50gNlf",
        "outputId": "225a27eb-57a3-4cc4-9a00-20efda742413"
      },
      "execution_count": null,
      "outputs": [
        {
          "output_type": "stream",
          "name": "stdout",
          "text": [
            "[1 2 3 4]\n",
            "<class 'numpy.ndarray'>\n",
            "1\n",
            "(4,)\n",
            "4\n",
            "1\n"
          ]
        }
      ]
    },
    {
      "cell_type": "code",
      "source": [
        "import numpy as np\n",
        "B = np.array([[1, 2], [3, 4], [5, 6]])\n",
        "print(B)\n",
        "print(type(B))\n",
        "print(np.ndim(B))\n",
        "print(B.shape)\n",
        "print(B.shape[0])\n",
        "print(B[0])\n",
        "print(B[0, ])\n",
        "print(B[0, :])\n",
        "print(B[0, 0])\n",
        "print(B[0, 1])\n"
      ],
      "metadata": {
        "colab": {
          "base_uri": "https://localhost:8080/"
        },
        "id": "-dVkKT-4gfWB",
        "outputId": "622f5538-ac02-4b19-fb85-cf63baf5344e"
      },
      "execution_count": null,
      "outputs": [
        {
          "output_type": "stream",
          "name": "stdout",
          "text": [
            "[[1 2]\n",
            " [3 4]\n",
            " [5 6]]\n",
            "<class 'numpy.ndarray'>\n",
            "2\n",
            "(3, 2)\n",
            "3\n",
            "[1 2]\n",
            "[1 2]\n",
            "[1 2]\n",
            "1\n",
            "2\n"
          ]
        }
      ]
    },
    {
      "cell_type": "code",
      "source": [
        "import numpy as np\n",
        "A = np.array([[1, 2], [3, 4]])\n",
        "print(A.shape)\n",
        "B = np.array([[5, 6], [7, 8]])\n",
        "print(B.shape)\n",
        "C = np.dot(A, B)\n",
        "print(C)"
      ],
      "metadata": {
        "colab": {
          "base_uri": "https://localhost:8080/"
        },
        "id": "tH1pVtI0iorg",
        "outputId": "0d3ff0fd-83b4-4fb3-ebdd-ab58efc1416f"
      },
      "execution_count": null,
      "outputs": [
        {
          "output_type": "stream",
          "name": "stdout",
          "text": [
            "(2, 2)\n",
            "(2, 2)\n",
            "[[19 22]\n",
            " [43 50]]\n"
          ]
        }
      ]
    },
    {
      "cell_type": "code",
      "source": [
        "import numpy as np\n",
        "A = np.array([[1, 2, 3], [4, 5, 6]])\n",
        "print(A.shape)\n",
        "B = np.array([[1, 2], [3, 4], [5, 6]])\n",
        "print(B.shape)\n",
        "C = np.dot(A, B)\n",
        "print(C)"
      ],
      "metadata": {
        "colab": {
          "base_uri": "https://localhost:8080/"
        },
        "id": "VA_3jHdzjLC7",
        "outputId": "032e9d88-e3c9-4134-f542-530709f68f84"
      },
      "execution_count": null,
      "outputs": [
        {
          "output_type": "stream",
          "name": "stdout",
          "text": [
            "(2, 3)\n",
            "(3, 2)\n",
            "[[22 28]\n",
            " [49 64]]\n"
          ]
        }
      ]
    },
    {
      "cell_type": "code",
      "source": [
        "import numpy as np\n",
        "A = np.array([[1, 2], [3, 4], [5, 6]])\n",
        "print(A.shape)\n",
        "B = np.array([7, 8]) # 벡터\n",
        "print(B.shape)\n",
        "C = np.dot(A, B) # 벡터\n",
        "print(C)"
      ],
      "metadata": {
        "colab": {
          "base_uri": "https://localhost:8080/"
        },
        "id": "Uop7Mb6gjqTa",
        "outputId": "574bd49d-20d9-4afd-af97-562acfde6bc2"
      },
      "execution_count": null,
      "outputs": [
        {
          "output_type": "stream",
          "name": "stdout",
          "text": [
            "(3, 2)\n",
            "(2,)\n",
            "[23 53 83]\n"
          ]
        }
      ]
    },
    {
      "cell_type": "code",
      "source": [
        "import numpy as np\n",
        "X = np.array([1, 2]) # 벡터\n",
        "print(X.shape)\n",
        "W = np.array([[1, 3, 5], [2, 4, 6]])\n",
        "print(W)\n",
        "print(W.shape)\n",
        "Y = np.dot(X, W) # 벡터\n",
        "print(Y)"
      ],
      "metadata": {
        "colab": {
          "base_uri": "https://localhost:8080/"
        },
        "id": "a9qJ_08Kk1jT",
        "outputId": "fa4bab04-a620-45a1-d7bf-42a7974f568f"
      },
      "execution_count": null,
      "outputs": [
        {
          "output_type": "stream",
          "name": "stdout",
          "text": [
            "(2,)\n",
            "[[1 3 5]\n",
            " [2 4 6]]\n",
            "(2, 3)\n",
            "[ 5 11 17]\n"
          ]
        }
      ]
    },
    {
      "cell_type": "code",
      "source": [
        "import numpy as np\n",
        "X = np.array([[1, 2], [3, 4]])\n",
        "Y = np.array([[5, 6], [7, 8]])\n",
        "\n",
        "print(X + Y)\n",
        "print(X - Y)\n",
        "print(X / Y)\n",
        "print(2 * X)\n",
        "print(X * Y) # 곱셈\n",
        "print(np.dot(X, Y)) # 내적\n",
        "print(np.dot(Y, X)) # 교환법칙 불성립\n",
        "X.T # 전치행렬"
      ],
      "metadata": {
        "colab": {
          "base_uri": "https://localhost:8080/"
        },
        "id": "ThVAI6MPjWz1",
        "outputId": "5a2fd4f7-028c-425f-e35d-afb534616b2a"
      },
      "execution_count": null,
      "outputs": [
        {
          "output_type": "execute_result",
          "data": {
            "text/plain": [
              "array([[1, 3],\n",
              "       [2, 4]])"
            ]
          },
          "metadata": {},
          "execution_count": 53
        }
      ]
    },
    {
      "cell_type": "code",
      "source": [
        "\n",
        "import numpy as np\n",
        "def sigmoid(x):\n",
        "    return 1 / (1 + np.exp(-x))\n",
        "\n",
        "X = np.array([1.0, 0.5]) # 입력값\n",
        "W1 = np.array([[0.1, 0.3, 0.5], [0.2, 0.4, 0.6]]) # 가중치\n",
        "B1 = np.array([0.1, 0.2, 0.3])\n",
        "\n",
        "print(W1.shape) # (2, 3)\n",
        "print(B.shape)  # (2, 3)\n",
        "print(X.shape)  # (2,)\n",
        "\n",
        "A1 = np.dot(X, W1) + B1\n",
        "print(A1)\n",
        "\n",
        "Z1 = sigmoid(A1)\n",
        "print(Z1)"
      ],
      "metadata": {
        "colab": {
          "base_uri": "https://localhost:8080/"
        },
        "id": "opW0BEFbvidz",
        "outputId": "0f184f92-b1d2-4b40-f22c-8eed2ede31b1"
      },
      "execution_count": null,
      "outputs": [
        {
          "output_type": "stream",
          "name": "stdout",
          "text": [
            "(2, 3)\n",
            "(2,)\n",
            "(2,)\n",
            "[0.3 0.7 1.1]\n",
            "[0.57444252 0.66818777 0.75026011]\n"
          ]
        }
      ]
    },
    {
      "cell_type": "code",
      "source": [
        "import numpy as np\n",
        "def sigmoid(x):\n",
        "    return 1 / (1 + np.exp(-x))\n",
        "\n",
        "W2 = np.array([[0.1, 0.4], [0.2, 0.5], [0.3, 0.6]])\n",
        "B2 = np.array([0.1, 0.2])\n",
        "\n",
        "print(Z1.shape) # (3,)\n",
        "print(W2.shape) # (3, 2)\n",
        "print(B2.shape) # (2,)\n",
        "\n",
        "A2 = np.dot(Z1, W2) + B2\n",
        "print(A2)\n",
        "\n",
        "Z2 = sigmoid(A2)\n",
        "print(Z2)"
      ],
      "metadata": {
        "colab": {
          "base_uri": "https://localhost:8080/"
        },
        "id": "D4-bJR9ixNkw",
        "outputId": "5570294f-2c68-4f1e-8113-fd63232126bc"
      },
      "execution_count": null,
      "outputs": [
        {
          "output_type": "stream",
          "name": "stdout",
          "text": [
            "(3,)\n",
            "(3, 2)\n",
            "(2,)\n",
            "[0.51615984 1.21402696]\n",
            "[0.62624937 0.7710107 ]\n"
          ]
        }
      ]
    },
    {
      "cell_type": "code",
      "source": [
        "import numpy as np\n",
        "def identity_function(x): # 항등 함수\n",
        "    return x\n",
        "\n",
        "W3 = np.array([[0.1, 0.3], [0.2, 0.4]])\n",
        "B3 = np.array([0.1, 0.2])\n",
        "\n",
        "A3 = np.dot(Z2, W3) + B3\n",
        "print(A3)\n",
        "\n",
        "Y = identity_function(A3) # 혹은 Y = A3\n",
        "print(Y)"
      ],
      "metadata": {
        "colab": {
          "base_uri": "https://localhost:8080/"
        },
        "id": "GDuHis-_yBzZ",
        "outputId": "2dd2e9f7-0876-4e32-c61b-dd518b211b7a"
      },
      "execution_count": null,
      "outputs": [
        {
          "output_type": "stream",
          "name": "stdout",
          "text": [
            "[0.31682708 0.69627909]\n",
            "[0.31682708 0.69627909]\n"
          ]
        }
      ]
    },
    {
      "cell_type": "code",
      "source": [
        "import numpy as np\n",
        "def identity_function(x): # 항등 함수\n",
        "    return x\n",
        "\n",
        "def init_network():\n",
        "    network = {} # Neural Network\n",
        "    network['W1'] = np.array([[0.1, 0.3, 0.5], [0.2, 0.4, 0.6]])\n",
        "    network['b1'] = np.array([0.1, 0.2, 0.3])\n",
        "    network['W2'] = np.array([[0.1, 0.4], [0.2, 0.5], [0.3, 0.6]])\n",
        "    network['b2'] = np.array([0.1, 0.2])\n",
        "    network['W3'] = np.array([[0.1, 0.3], [0.2, 0.4]])\n",
        "    network['b3'] = np.array([0.1, 0.2])\n",
        "\n",
        "    return network\n",
        "\n",
        "def forward(network, x):\n",
        "    W1, W2, W3 = network['W1'], network['W2'], network['W3']\n",
        "    b1, b2, b3 = network['b1'], network['b2'], network['b3']\n",
        "\n",
        "    a1 = np.dot(x, W1) + b1\n",
        "    print(a1)\n",
        "    z1 = sigmoid(a1)\n",
        "    print(z1)\n",
        "    a2 = np.dot(z1, W2) + b2\n",
        "    print(a2)\n",
        "    z2 = sigmoid(a2)\n",
        "    print(z2)\n",
        "    a3 = np.dot(z2, W3) + b3\n",
        "    print(a3)\n",
        "    y = identity_function(a3)\n",
        "    print(y)\n",
        "\n",
        "    return y\n",
        "\n",
        "network = init_network()\n",
        "x = np.array([1.0, 0.5]) # 입력값\n",
        "y = forward(network, x) # 출력값 [0.31682708 0.69627909]\n"
      ],
      "metadata": {
        "colab": {
          "base_uri": "https://localhost:8080/"
        },
        "id": "KuH_DwzIzXxR",
        "outputId": "85c0067c-831a-47c0-b52e-de407154c1cb"
      },
      "execution_count": null,
      "outputs": [
        {
          "output_type": "stream",
          "name": "stdout",
          "text": [
            "[0.3 0.7 1.1]\n",
            "[0.57444252 0.66818777 0.75026011]\n",
            "[0.51615984 1.21402696]\n",
            "[0.62624937 0.7710107 ]\n",
            "[0.31682708 0.69627909]\n",
            "[0.31682708 0.69627909]\n"
          ]
        }
      ]
    },
    {
      "cell_type": "code",
      "source": [
        "import numpy as np\n",
        "X = np.array(1)\n",
        "Y = np.array([1, 2])\n",
        "Y2 = np.array([[1, 2]])\n",
        "Z = np.array([[1, 2], [3, 4]])\n",
        "\n",
        "print(X.shape)\n",
        "print(X.ndim) # Scalar\n",
        "print(X)\n",
        "print('*' * 30)\n",
        "print(Y.shape)\n",
        "print(Y.ndim) # Vector\n",
        "print(Y)\n",
        "print('*' * 30)\n",
        "print(Y2.shape)\n",
        "print(Y2.ndim) #\n",
        "print(Y2)\n",
        "print('*' * 30)\n",
        "print(Z.shape)\n",
        "print(Z.ndim) # matrix\n",
        "print(Z)"
      ],
      "metadata": {
        "colab": {
          "base_uri": "https://localhost:8080/"
        },
        "id": "rt0CYicM7lXC",
        "outputId": "d56ddc14-a17c-4c6a-ca0d-9a82a6c294c0"
      },
      "execution_count": null,
      "outputs": [
        {
          "output_type": "stream",
          "name": "stdout",
          "text": [
            "()\n",
            "0\n",
            "1\n",
            "******************************\n",
            "(2,)\n",
            "1\n",
            "[1 2]\n",
            "******************************\n",
            "(1, 2)\n",
            "2\n",
            "[[1 2]]\n",
            "******************************\n",
            "(2, 2)\n",
            "2\n",
            "[[1 2]\n",
            " [3 4]]\n"
          ]
        }
      ]
    },
    {
      "cell_type": "code",
      "source": [
        "import numpy as np\n",
        "def softmax(x):\n",
        "    if x.ndim == 2:\n",
        "        x = x.T\n",
        "        x = x - np.max(x, axis=0)\n",
        "        y = np.exp(x) / np.sum(np.exp(x), axis=0)\n",
        "        return y.T\n",
        "\n",
        "    x = x - np.max(x) # 오버플로 대책\n",
        "    return np.exp(x) / np.sum(np.exp(x))\n"
      ],
      "metadata": {
        "id": "12XWlAIv4aT4"
      },
      "execution_count": null,
      "outputs": []
    },
    {
      "cell_type": "code",
      "source": [
        "import sys, os\n",
        "sys.path.append('./dataset')\n",
        "from dataset.mnist import load_mnist # dataset폴더에 있는 mnist라는 파일에서 load_mnist라는 함수를 import 해라\n",
        "\n",
        "(x_train, t_train), (x_test, t_test) = \\\n",
        "    load_mnist(flatten=True, normalize=False)\n",
        "\n",
        "print(x_train.shape) # input_train\n",
        "print(t_train.shape) # input_target\n",
        "print(x_test.shape) # test_train\n",
        "print(t_test.shape) # test_target"
      ],
      "metadata": {
        "colab": {
          "base_uri": "https://localhost:8080/"
        },
        "id": "KhdHIRzfEFA4",
        "outputId": "cfba56b1-0a0e-4495-872b-33117a388453"
      },
      "execution_count": null,
      "outputs": [
        {
          "output_type": "stream",
          "name": "stdout",
          "text": [
            "Converting train-images-idx3-ubyte.gz to NumPy Array ...\n",
            "Done\n",
            "Converting train-labels-idx1-ubyte.gz to NumPy Array ...\n",
            "Done\n",
            "Converting t10k-images-idx3-ubyte.gz to NumPy Array ...\n",
            "Done\n",
            "Converting t10k-labels-idx1-ubyte.gz to NumPy Array ...\n",
            "Done\n",
            "Creating pickle file ...\n",
            "Done!\n",
            "(60000, 784)\n",
            "(60000,)\n",
            "(10000, 784)\n",
            "(10000,)\n"
          ]
        }
      ]
    },
    {
      "cell_type": "code",
      "source": [
        "# coding: utf-8\n",
        "import sys, os\n",
        "sys.path.append('./dataset')\n",
        "import numpy as np\n",
        "from dataset.mnist import load_mnist\n",
        "from PIL import Image\n",
        "import matplotlib.pyplot as plt\n",
        "\n",
        "\n",
        "# def img_show(img):\n",
        "#     pil_img = Image.fromarray(np.uint8(img))\n",
        "#     print('보여줘!')\n",
        "#     pil_img.show()\n",
        "\n",
        "def img_show(img):\n",
        "    plt.imshow(img, cmap='gray')\n",
        "    plt.show()\n",
        "\n",
        "(x_train, t_train), (x_test, t_test) = load_mnist(flatten=True, normalize=False)\n",
        "\n",
        "# print(x_train.shape) # input_train\n",
        "# print(t_train.shape) # input_target\n",
        "# print(x_test.shape) # test_train\n",
        "# print(t_test.shape) # test_target\n",
        "\n",
        "img = x_train[1]\n",
        "label = t_train[1]\n",
        "print(label)  # 5\n",
        "\n",
        "print(img.shape)  # (784,)\n",
        "img = img.reshape(28, 28)  # 형상을 원래 이미지의 크기로 변형 784-> 28*28 Unflatten\n",
        "print(img.shape)  # (28, 28)\n",
        "\n",
        "img_show(img)\n",
        "img_show(255 - img)"
      ],
      "metadata": {
        "colab": {
          "base_uri": "https://localhost:8080/",
          "height": 898
        },
        "id": "ZBJH-hnyGXg9",
        "outputId": "d961cabf-046b-4dff-dcbe-d794e1d53706"
      },
      "execution_count": 3,
      "outputs": [
        {
          "output_type": "stream",
          "name": "stdout",
          "text": [
            "0\n",
            "(784,)\n",
            "(28, 28)\n"
          ]
        },
        {
          "output_type": "display_data",
          "data": {
            "text/plain": [
              "<Figure size 640x480 with 1 Axes>"
            ],
            "image/png": "[encoded data removed]"
          },
          "metadata": {}
        },
        {
          "output_type": "display_data",
          "data": {
            "text/plain": [
              "<Figure size 640x480 with 1 Axes>"
            ],
            "image/png": "[encoded data removed]"
          },
          "metadata": {}
        }
      ]
    },
    {
      "cell_type": "code",
      "source": [
        "import sys, os\n",
        "sys.path.append('./dataset')\n",
        "import numpy as np\n",
        "from dataset.mnist import load_mnist\n",
        "\n",
        "np.set_printoptions(linewidth=200, threshold=1000)\n",
        "(x_train, t_train), (x_test, t_test) = load_mnist(flatten=False, normalize=False) # flatten=True, normalize=True\n",
        "print(x_train[0])\n",
        "print(x_train.ndim) # 4차원 텐서\n",
        "print(x_train[0].ndim) # 3차원 텐서\n",
        "x_train.shape # (60000, 1, 28, 28) 60000장, 1채널, 가로 픽셀, 세로 픽셀\n"
      ],
      "metadata": {
        "colab": {
          "base_uri": "https://localhost:8080/"
        },
        "id": "UI1TF9aeHuBH",
        "outputId": "adc8d39d-c05d-4092-af38-405cac1dc7b2"
      },
      "execution_count": 9,
      "outputs": [
        {
          "output_type": "stream",
          "name": "stdout",
          "text": [
            "[[[  0   0   0   0   0   0   0   0   0   0   0   0   0   0   0   0   0   0   0   0   0   0   0   0   0   0   0   0]\n",
            "  [  0   0   0   0   0   0   0   0   0   0   0   0   0   0   0   0   0   0   0   0   0   0   0   0   0   0   0   0]\n",
            "  [  0   0   0   0   0   0   0   0   0   0   0   0   0   0   0   0   0   0   0   0   0   0   0   0   0   0   0   0]\n",
            "  [  0   0   0   0   0   0   0   0   0   0   0   0   0   0   0   0   0   0   0   0   0   0   0   0   0   0   0   0]\n",
            "  [  0   0   0   0   0   0   0   0   0   0   0   0   0   0   0   0   0   0   0   0   0   0   0   0   0   0   0   0]\n",
            "  [  0   0   0   0   0   0   0   0   0   0   0   0   3  18  18  18 126 136 175  26 166 255 247 127   0   0   0   0]\n",
            "  [  0   0   0   0   0   0   0   0  30  36  94 154 170 253 253 253 253 253 225 172 253 242 195  64   0   0   0   0]\n",
            "  [  0   0   0   0   0   0   0  49 238 253 253 253 253 253 253 253 253 251  93  82  82  56  39   0   0   0   0   0]\n",
            "  [  0   0   0   0   0   0   0  18 219 253 253 253 253 253 198 182 247 241   0   0   0   0   0   0   0   0   0   0]\n",
            "  [  0   0   0   0   0   0   0   0  80 156 107 253 253 205  11   0  43 154   0   0   0   0   0   0   0   0   0   0]\n",
            "  [  0   0   0   0   0   0   0   0   0  14   1 154 253  90   0   0   0   0   0   0   0   0   0   0   0   0   0   0]\n",
            "  [  0   0   0   0   0   0   0   0   0   0   0 139 253 190   2   0   0   0   0   0   0   0   0   0   0   0   0   0]\n",
            "  [  0   0   0   0   0   0   0   0   0   0   0  11 190 253  70   0   0   0   0   0   0   0   0   0   0   0   0   0]\n",
            "  [  0   0   0   0   0   0   0   0   0   0   0   0  35 241 225 160 108   1   0   0   0   0   0   0   0   0   0   0]\n",
            "  [  0   0   0   0   0   0   0   0   0   0   0   0   0  81 240 253 253 119  25   0   0   0   0   0   0   0   0   0]\n",
            "  [  0   0   0   0   0   0   0   0   0   0   0   0   0   0  45 186 253 253 150  27   0   0   0   0   0   0   0   0]\n",
            "  [  0   0   0   0   0   0   0   0   0   0   0   0   0   0   0  16  93 252 253 187   0   0   0   0   0   0   0   0]\n",
            "  [  0   0   0   0   0   0   0   0   0   0   0   0   0   0   0   0   0 249 253 249  64   0   0   0   0   0   0   0]\n",
            "  [  0   0   0   0   0   0   0   0   0   0   0   0   0   0  46 130 183 253 253 207   2   0   0   0   0   0   0   0]\n",
            "  [  0   0   0   0   0   0   0   0   0   0   0   0  39 148 229 253 253 253 250 182   0   0   0   0   0   0   0   0]\n",
            "  [  0   0   0   0   0   0   0   0   0   0  24 114 221 253 253 253 253 201  78   0   0   0   0   0   0   0   0   0]\n",
            "  [  0   0   0   0   0   0   0   0  23  66 213 253 253 253 253 198  81   2   0   0   0   0   0   0   0   0   0   0]\n",
            "  [  0   0   0   0   0   0  18 171 219 253 253 253 253 195  80   9   0   0   0   0   0   0   0   0   0   0   0   0]\n",
            "  [  0   0   0   0  55 172 226 253 253 253 253 244 133  11   0   0   0   0   0   0   0   0   0   0   0   0   0   0]\n",
            "  [  0   0   0   0 136 253 253 253 212 135 132  16   0   0   0   0   0   0   0   0   0   0   0   0   0   0   0   0]\n",
            "  [  0   0   0   0   0   0   0   0   0   0   0   0   0   0   0   0   0   0   0   0   0   0   0   0   0   0   0   0]\n",
            "  [  0   0   0   0   0   0   0   0   0   0   0   0   0   0   0   0   0   0   0   0   0   0   0   0   0   0   0   0]\n",
            "  [  0   0   0   0   0   0   0   0   0   0   0   0   0   0   0   0   0   0   0   0   0   0   0   0   0   0   0   0]]]\n",
            "4\n",
            "3\n"
          ]
        },
        {
          "output_type": "execute_result",
          "data": {
            "text/plain": [
              "(60000, 1, 28, 28)"
            ]
          },
          "metadata": {},
          "execution_count": 9
        }
      ]
    },
    {
      "cell_type": "code",
      "source": [
        "import sys, os\n",
        "sys.path\n",
        "os.getcwd()"
      ],
      "metadata": {
        "colab": {
          "base_uri": "https://localhost:8080/",
          "height": 35
        },
        "id": "XCDx6-sUPUoo",
        "outputId": "082762bc-c6d2-47c8-e37c-4f18663d4b5c"
      },
      "execution_count": null,
      "outputs": [
        {
          "output_type": "execute_result",
          "data": {
            "text/plain": [
              "'/content'"
            ],
            "application/vnd.google.colaboratory.intrinsic+json": {
              "type": "string"
            }
          },
          "metadata": {},
          "execution_count": 18
        }
      ]
    },
    {
      "cell_type": "code",
      "source": [
        "# ./dataset/mnist.py\n",
        "# coding: utf-8\n",
        "try:\n",
        "    import urllib.request\n",
        "except ImportError:\n",
        "    raise ImportError('You should use Python 3.x')\n",
        "import os.path\n",
        "import gzip\n",
        "import pickle\n",
        "import os\n",
        "import numpy as np\n",
        "\n",
        "\n",
        "url_base = 'http://yann.lecun.com/exdb/mnist/'\n",
        "key_file = {\n",
        "    'train_img':'train-images-idx3-ubyte.gz',\n",
        "    'train_label':'train-labels-idx1-ubyte.gz',\n",
        "    'test_img':'t10k-images-idx3-ubyte.gz',\n",
        "    'test_label':'t10k-labels-idx1-ubyte.gz'\n",
        "}\n",
        "\n",
        "dataset_dir = os.path.dirname(os.path.abspath(__file__))\n",
        "save_file = dataset_dir + \"/mnist.pkl\"\n",
        "\n",
        "train_num = 60000\n",
        "test_num = 10000\n",
        "img_dim = (1, 28, 28)\n",
        "img_size = 784\n",
        "\n",
        "\n",
        "def _download(file_name):\n",
        "    file_path = dataset_dir + \"/\" + file_name\n",
        "\n",
        "    if os.path.exists(file_path):\n",
        "        return\n",
        "\n",
        "    print(\"Downloading \" + file_name + \" ... \")\n",
        "    urllib.request.urlretrieve(url_base + file_name, file_path)\n",
        "    print(\"Done\")\n",
        "\n",
        "def download_mnist():\n",
        "    for v in key_file.values():\n",
        "       _download(v)\n",
        "\n",
        "def _load_label(file_name):\n",
        "    file_path = dataset_dir + \"/\" + file_name\n",
        "\n",
        "    print(\"Converting \" + file_name + \" to NumPy Array ...\")\n",
        "    with gzip.open(file_path, 'rb') as f:\n",
        "            labels = np.frombuffer(f.read(), np.uint8, offset=8)\n",
        "    print(\"Done\")\n",
        "\n",
        "    return labels\n",
        "\n",
        "def _load_img(file_name):\n",
        "    file_path = dataset_dir + \"/\" + file_name\n",
        "\n",
        "    print(\"Converting \" + file_name + \" to NumPy Array ...\")\n",
        "    with gzip.open(file_path, 'rb') as f:\n",
        "            data = np.frombuffer(f.read(), np.uint8, offset=16)\n",
        "    data = data.reshape(-1, img_size)\n",
        "    print(\"Done\")\n",
        "\n",
        "    return data\n",
        "\n",
        "def _convert_numpy():\n",
        "    dataset = {}\n",
        "    dataset['train_img'] =  _load_img(key_file['train_img'])\n",
        "    dataset['train_label'] = _load_label(key_file['train_label'])\n",
        "    dataset['test_img'] = _load_img(key_file['test_img'])\n",
        "    dataset['test_label'] = _load_label(key_file['test_label'])\n",
        "\n",
        "    return dataset\n",
        "\n",
        "def init_mnist():\n",
        "    download_mnist()\n",
        "    dataset = _convert_numpy()\n",
        "    print(\"Creating pickle file ...\")\n",
        "    with open(save_file, 'wb') as f:\n",
        "        pickle.dump(dataset, f, -1)\n",
        "    print(\"Done!\")\n",
        "\n",
        "def _change_one_hot_label(X):\n",
        "    T = np.zeros((X.size, 10))\n",
        "    for idx, row in enumerate(T):\n",
        "        row[X[idx]] = 1\n",
        "\n",
        "    return T\n",
        "\n",
        "\n",
        "def load_mnist(normalize=True, flatten=True, one_hot_label=False):\n",
        "    \"\"\"MNIST 데이터셋 읽기\n",
        "\n",
        "    Parameters\n",
        "    ----------\n",
        "    normalize : 이미지의 픽셀 값을 0.0~1.0 사이의 값으로 정규화할지 정한다.\n",
        "    one_hot_label :\n",
        "        one_hot_label이 True면、레이블을 원-핫(one-hot) 배열로 돌려준다.\n",
        "        one-hot 배열은 예를 들어 [0,0,1,0,0,0,0,0,0,0]처럼 한 원소만 1인 배열이다.\n",
        "    flatten : 입력 이미지를 1차원 배열로 만들지를 정한다.\n",
        "\n",
        "    Returns\n",
        "    -------\n",
        "    (훈련 이미지, 훈련 레이블), (시험 이미지, 시험 레이블)\n",
        "    \"\"\"\n",
        "    if not os.path.exists(save_file):\n",
        "        init_mnist()\n",
        "\n",
        "    with open(save_file, 'rb') as f:\n",
        "        dataset = pickle.load(f)\n",
        "\n",
        "    if normalize:\n",
        "        for key in ('train_img', 'test_img'):\n",
        "            dataset[key] = dataset[key].astype(np.float32)\n",
        "            dataset[key] /= 255.0\n",
        "\n",
        "    if one_hot_label:\n",
        "        dataset['train_label'] = _change_one_hot_label(dataset['train_label'])\n",
        "        dataset['test_label'] = _change_one_hot_label(dataset['test_label'])\n",
        "\n",
        "    if not flatten:\n",
        "         for key in ('train_img', 'test_img'):\n",
        "            dataset[key] = dataset[key].reshape(-1, 1, 28, 28)\n",
        "\n",
        "    return (dataset['train_img'], dataset['train_label']), (dataset['test_img'], dataset['test_label'])\n",
        "\n",
        "\n",
        "if __name__ == '__main__':\n",
        "    init_mnist()\n"
      ],
      "metadata": {
        "id": "DL1n04bbQf0-"
      },
      "execution_count": null,
      "outputs": []
    },
    {
      "cell_type": "code",
      "source": [
        "import sys, os\n",
        "sys.path.append('./dataset')  # 부모 디렉터리의 파일을 가져올 수 있도록 설정\n",
        "import numpy as np\n",
        "import pickle # 객체를 저장하고 불러오는 데 유용한 모듈, 객체를 파일로 저장하거나 네트워크를 통해 전송\n",
        "from dataset.mnist import load_mnist\n",
        "from common.functions import sigmoid, softmax\n",
        "import time\n",
        "start = time.time()\n",
        "\n",
        "def get_data(): # 전체 데이터 세트에서 테스트 세트 추출\n",
        "    (x_train, t_train), (x_test, t_test) = load_mnist(normalize=True, flatten=True, one_hot_label=False)\n",
        "    return x_test, t_test\n",
        "\n",
        "\n",
        "def init_network(): # 학습을 끝낸 결과 => 각 노드의 매개변수 결정\n",
        "    with open(\"sample_weight.pkl\", 'rb') as f:\n",
        "        network = pickle.load(f)\n",
        "    return network\n",
        "\n",
        "\n",
        "def predict(network, x):\n",
        "    W1, W2, W3 = network['W1'], network['W2'], network['W3']\n",
        "    b1, b2, b3 = network['b1'], network['b2'], network['b3']\n",
        "\n",
        "    a1 = np.dot(x, W1) + b1\n",
        "    z1 = sigmoid(a1)\n",
        "    a2 = np.dot(z1, W2) + b2\n",
        "    z2 = sigmoid(a2)\n",
        "    a3 = np.dot(z2, W3) + b3\n",
        "    y = softmax(a3)\n",
        "\n",
        "    return y\n",
        "\n",
        "\n",
        "x, t = get_data()\n",
        "network = init_network()\n",
        "accuracy_cnt = 0\n",
        "for i in range(len(x)): # 테스트 세트 개수, 10000개\n",
        "#for i in range(10):\n",
        "    y = predict(network, x[i])\n",
        "    # print(y)\n",
        "    p= np.argmax(y) # 확률이 가장 높은 원소의 인덱스를 얻는다. => 예상 숫자\n",
        "    # print(p)\n",
        "    if p == t[i]: # 예상 숫자와 실제 숫자가 같은지 비교\n",
        "        accuracy_cnt += 1\n",
        "\n",
        "print(\"Accuracy:\" + str(float(accuracy_cnt) / len(x)))\n",
        "print(time.time() - start)\n",
        "#print(\"Accuracy:\" + str(float(accuracy_cnt) / 10))\n",
        "\n",
        "# Accuracy:0.9352"
      ],
      "metadata": {
        "id": "DJimRJZ0cBE2",
        "colab": {
          "base_uri": "https://localhost:8080/"
        },
        "outputId": "ae096344-97d7-4f9a-d98e-9086490d2322"
      },
      "execution_count": 40,
      "outputs": [
        {
          "output_type": "stream",
          "name": "stdout",
          "text": [
            "Accuracy:0.9352\n",
            "0.9959750175476074\n"
          ]
        }
      ]
    },
    {
      "cell_type": "code",
      "source": [
        "# 피클 파일 확인\n",
        "import sys, os\n",
        "sys.path.append('./dataset')  # 부모 디렉터리의 파일을 가져올 수 있도록 설정\n",
        "import numpy as np\n",
        "import pickle # 객체를 저장하고 불러오는 데 유용한 모듈, 객체를 파일로 저장하거나 네트워크를 통해 전송\n",
        "from dataset.mnist import load_mnist\n",
        "\n",
        "np.set_printoptions(linewidth=1000, threshold=100000)\n",
        "\n",
        "with open(\"sample_weight.pkl\", 'rb') as f:\n",
        "    network = pickle.load(f)\n",
        "\n",
        "W1, W2, W3 = network['W1'], network['W2'], network['W3']\n",
        "b1, b2, b3 = network['b1'], network['b2'], network['b3']\n",
        "\n",
        "# print(W1) # W1 가중치 행렬 출력 748*50\n",
        "print(type(network))\n",
        "print(network.keys())\n",
        "print(f'W1 shape : {W1.shape}')\n",
        "print(f'W2 shape : {W2.shape}')\n",
        "print(f'W2 shape : {W3.shape}')\n",
        "print(f'b1 shape : {b1.shape}')\n",
        "print(f'b2 shape : {b2.shape}')\n",
        "print(f'b3 shape : {b3.shape}')\n",
        "\n",
        "# <class 'dict'>\n",
        "# dict_keys(['b2', 'W1', 'b1', 'W2', 'W3', 'b3'])\n",
        "# W1 shape : (784, 50)\n",
        "# W2 shape : (50, 100)\n",
        "# W2 shape : (100, 10)\n",
        "# b1 shape : (50,)\n",
        "# b2 shape : (100,)\n",
        "# b3 shape : (10,)"
      ],
      "metadata": {
        "colab": {
          "base_uri": "https://localhost:8080/"
        },
        "id": "RLFNK3QMoNQf",
        "outputId": "b065813b-139f-4e27-dfe0-4781eb9c89b9"
      },
      "execution_count": 21,
      "outputs": [
        {
          "output_type": "stream",
          "name": "stdout",
          "text": [
            "<class 'dict'>\n",
            "dict_keys(['b2', 'W1', 'b1', 'W2', 'W3', 'b3'])\n",
            "W1 shape : (784, 50)\n",
            "W2 shape : (50, 100)\n",
            "W2 shape : (100, 10)\n",
            "b1 shape : (50,)\n",
            "b2 shape : (100,)\n",
            "b3 shape : (10,)\n"
          ]
        }
      ]
    },
    {
      "cell_type": "code",
      "source": [
        "# coding: utf-8\n",
        "import sys, os\n",
        "sys.path.append('./dataset')\n",
        "import numpy as np\n",
        "import pickle\n",
        "from dataset.mnist import load_mnist\n",
        "from common.functions import sigmoid, softmax\n",
        "import time\n",
        "start = time.time()\n",
        "\n",
        "def get_data():\n",
        "    (x_train, t_train), (x_test, t_test) = load_mnist(normalize=True, flatten=True, one_hot_label=False)\n",
        "    return x_test, t_test\n",
        "\n",
        "\n",
        "def init_network():\n",
        "    with open(\"sample_weight.pkl\", 'rb') as f:\n",
        "        network = pickle.load(f)\n",
        "    return network\n",
        "\n",
        "\n",
        "def predict(network, x):\n",
        "    w1, w2, w3 = network['W1'], network['W2'], network['W3']\n",
        "    b1, b2, b3 = network['b1'], network['b2'], network['b3']\n",
        "\n",
        "    a1 = np.dot(x, w1) + b1\n",
        "    z1 = sigmoid(a1)\n",
        "    a2 = np.dot(z1, w2) + b2\n",
        "    z2 = sigmoid(a2)\n",
        "    a3 = np.dot(z2, w3) + b3\n",
        "    y = softmax(a3)\n",
        "\n",
        "    return y\n",
        "\n",
        "\n",
        "x, t = get_data()\n",
        "network = init_network()\n",
        "\n",
        "batch_size = 100 # 배치 크기, 입력값의 묶음, 1*784 벡터를 100*784 Matrix로 입력, 처리 속도 향상.\n",
        "accuracy_cnt = 0\n",
        "\n",
        "for i in range(0, len(x), batch_size):\n",
        "    x_batch = x[i:i+batch_size] # 100*784\n",
        "    y_batch = predict(network, x_batch) # 100*10 행렬\n",
        "    p = np.argmax(y_batch, axis=1) # 가로 방향으로 최대값의 인덱스 번호를 추출한 100 차원 벡터\n",
        "    #print(p)\n",
        "    #print(p.shape)\n",
        "    #print(type(p))\n",
        "    accuracy_cnt += np.sum(p == t[i:i+batch_size]) # 결과 배열의 True 값을 합산\n",
        "\n",
        "print(\"Accuracy:\" + str(float(accuracy_cnt) / len(x)))\n",
        "print(time.time() - start)"
      ],
      "metadata": {
        "colab": {
          "base_uri": "https://localhost:8080/"
        },
        "id": "YOHQ_6MZ88tJ",
        "outputId": "521357c3-770f-47cd-c654-b89760aab6a5"
      },
      "execution_count": 39,
      "outputs": [
        {
          "output_type": "stream",
          "name": "stdout",
          "text": [
            "Accuracy:0.9352\n",
            "0.25902843475341797\n"
          ]
        }
      ]
    },
    {
      "cell_type": "code",
      "source": [],
      "metadata": {
        "id": "1bVSlKMqECxc"
      },
      "execution_count": null,
      "outputs": []
    },
    {
      "cell_type": "code",
      "source": [
        "#  p = np.argmax(y_batch, axis=1) # 가로 방향으로 최대값의 인덱스 번호를 추출 [추가 설명]\n",
        "import numpy as np\n",
        "\n",
        "X = np.array([[1, 2, 3], [4, 6, 9]])\n",
        "\n",
        "axis1_max_idx = np.argmax(X, axis=1) # 가로 방향\n",
        "print(axis1_max_idx) # [2 2]\n",
        "\n",
        "axis0_max_idx = np.argmax(X, axis=0) # 세로 방향\n",
        "print(axis0_max_idx) # [1 1 1]"
      ],
      "metadata": {
        "colab": {
          "base_uri": "https://localhost:8080/"
        },
        "id": "oPK3xJDcAKRM",
        "outputId": "c51bee9b-9e3a-455c-a381-114d85605939"
      },
      "execution_count": 26,
      "outputs": [
        {
          "output_type": "stream",
          "name": "stdout",
          "text": [
            "[2 2]\n",
            "[1 1 1]\n"
          ]
        }
      ]
    },
    {
      "cell_type": "code",
      "source": [
        "import numpy as np\n",
        "X = np.array([1, 2, 3])\n",
        "Y = np.array([1, 6, 9])\n",
        "\n",
        "np.sum(X == Y)"
      ],
      "metadata": {
        "colab": {
          "base_uri": "https://localhost:8080/"
        },
        "id": "3hErg577ELFB",
        "outputId": "9fed16bd-9314-4624-d326-2cdb6ae739c6"
      },
      "execution_count": 33,
      "outputs": [
        {
          "output_type": "execute_result",
          "data": {
            "text/plain": [
              "1"
            ]
          },
          "metadata": {},
          "execution_count": 33
        }
      ]
    },
    {
      "cell_type": "code",
      "source": [
        "# 틀린 이미지를 찾는 코드\n",
        "import sys, os\n",
        "sys.path.append('./dataset')  # 부모 디렉터리의 파일을 가져올 수 있도록 설정\n",
        "import numpy as np\n",
        "import pickle # 객체를 저장하고 불러오는 데 유용한 모듈, 객체를 파일로 저장하거나 네트워크를 통해 전송\n",
        "from dataset.mnist import load_mnist\n",
        "from common.functions import sigmoid, softmax\n",
        "import time\n",
        "start = time.time()\n",
        "\n",
        "def get_data(): # 전체 데이터 세트에서 테스트 세트 추출\n",
        "    (x_train, t_train), (x_test, t_test) = load_mnist(normalize=True, flatten=True, one_hot_label=False)\n",
        "    return x_test, t_test\n",
        "\n",
        "\n",
        "def init_network(): # 학습을 끝낸 결과 => 각 노드의 매개변수 결정\n",
        "    with open(\"sample_weight.pkl\", 'rb') as f:\n",
        "        network = pickle.load(f)\n",
        "    return network\n",
        "\n",
        "\n",
        "def predict(network, x):\n",
        "    W1, W2, W3 = network['W1'], network['W2'], network['W3']\n",
        "    b1, b2, b3 = network['b1'], network['b2'], network['b3']\n",
        "\n",
        "    a1 = np.dot(x, W1) + b1\n",
        "    z1 = sigmoid(a1)\n",
        "    a2 = np.dot(z1, W2) + b2\n",
        "    z2 = sigmoid(a2)\n",
        "    a3 = np.dot(z2, W3) + b3\n",
        "    y = softmax(a3)\n",
        "\n",
        "    return y\n",
        "\n",
        "\n",
        "x, t = get_data()\n",
        "network = init_network()\n",
        "error = []\n",
        "pred = []\n",
        "for i in range(len(x)):\n",
        "    y = predict(network, x[i])\n",
        "    p = np.argmax(y)\n",
        "    if p != t[i]:\n",
        "        error.append(i)\n",
        "        pred.append(p)\n",
        "\n",
        "print(error)\n",
        "plt.figure(figsize=(10,40))\n",
        "for i in range(100):\n",
        "    plt.subplot(20,5,i+1)\n",
        "    plt.xticks([])\n",
        "    plt.yticks([])\n",
        "    plt.imshow(x[error[i]].reshape(28,28), cmap=plt.cm.binary)\n",
        "    plt.xlabel(str(t[error[i]])+\"=>\"+str(pred[i])) # 정답 출력 => 예상 출력\n",
        "\n",
        "plt.show()"
      ],
      "metadata": {
        "colab": {
          "base_uri": "https://localhost:8080/",
          "height": 1000
        },
        "id": "3fB9N1LOKNUj",
        "outputId": "51d78468-c3d8-49e5-e931-c46e822aee04"
      },
      "execution_count": 52,
      "outputs": [
        {
          "output_type": "stream",
          "name": "stdout",
          "text": [
            "[8, 33, 66, 92, 124, 149, 217, 233, 241, 245, 247, 259, 290, 300, 313, 320, 321, 340, 341, 352, 358, 362, 381, 445, 448, 449, 478, 479, 495, 502, 507, 511, 531, 543, 551, 565, 569, 578, 582, 591, 610, 619, 627, 629, 659, 684, 691, 707, 717, 720, 740, 791, 810, 839, 844, 857, 881, 882, 898, 924, 938, 939, 947, 950, 956, 965, 982, 999, 1014, 1032, 1039, 1044, 1050, 1062, 1068, 1082, 1107, 1112, 1114, 1119, 1124, 1181, 1191, 1192, 1194, 1198, 1204, 1206, 1224, 1226, 1232, 1242, 1247, 1251, 1256, 1260, 1283, 1289, 1299, 1319, 1325, 1326, 1328, 1337, 1364, 1378, 1393, 1410, 1413, 1429, 1433, 1440, 1444, 1465, 1466, 1467, 1494, 1500, 1522, 1525, 1527, 1530, 1549, 1553, 1559, 1569, 1581, 1601, 1609, 1621, 1634, 1640, 1671, 1678, 1681, 1696, 1709, 1717, 1722, 1732, 1737, 1751, 1754, 1759, 1765, 1772, 1773, 1782, 1790, 1800, 1813, 1828, 1850, 1857, 1865, 1878, 1880, 1901, 1913, 1917, 1930, 1938, 1952, 1955, 1956, 1970, 1973, 1981, 1984, 2016, 2024, 2035, 2040, 2043, 2044, 2053, 2068, 2070, 2098, 2109, 2115, 2118, 2129, 2130, 2135, 2138, 2148, 2182, 2185, 2186, 2189, 2266, 2272, 2293, 2299, 2325, 2369, 2371, 2378, 2380, 2387, 2393, 2395, 2404, 2406, 2422, 2425, 2433, 2462, 2473, 2488, 2514, 2526, 2542, 2545, 2556, 2559, 2560, 2573, 2574, 2598, 2607, 2610, 2648, 2654, 2670, 2695, 2713, 2751, 2760, 2770, 2771, 2780, 2832, 2836, 2850, 2863, 2896, 2906, 2907, 2921, 2925, 2927, 2945, 2953, 2970, 2995, 3005, 3060, 3073, 3102, 3110, 3114, 3117, 3130, 3136, 3145, 3160, 3167, 3189, 3193, 3206, 3240, 3254, 3269, 3288, 3316, 3329, 3330, 3405, 3422, 3437, 3447, 3450, 3460, 3475, 3490, 3503, 3520, 3549, 3550, 3558, 3559, 3567, 3573, 3597, 3604, 3629, 3662, 3674, 3681, 3687, 3716, 3718, 3726, 3727, 3732, 3751, 3757, 3767, 3776, 3778, 3780, 3796, 3801, 3806, 3808, 3811, 3817, 3818, 3821, 3833, 3834, 3836, 3838, 3846, 3848, 3850, 3853, 3855, 3862, 3869, 3893, 3902, 3906, 3926, 3941, 3943, 3946, 3951, 3962, 3976, 3985, 4000, 4017, 4063, 4065, 4072, 4075, 4078, 4093, 4131, 4140, 4152, 4154, 4163, 4176, 4177, 4199, 4201, 4211, 4212, 4224, 4238, 4248, 4256, 4271, 4289, 4297, 4300, 4306, 4313, 4315, 4317, 4330, 4344, 4355, 4356, 4369, 4374, 4400, 4405, 4423, 4433, 4435, 4449, 4451, 4477, 4497, 4498, 4521, 4523, 4540, 4571, 4575, 4578, 4601, 4615, 4639, 4731, 4735, 4740, 4751, 4761, 4785, 4807, 4808, 4814, 4823, 4837, 4860, 4874, 4876, 4879, 4880, 4886, 4890, 4910, 4915, 4950, 4956, 4966, 4990, 5046, 5054, 5065, 5067, 5068, 5078, 5086, 5140, 5165, 5183, 5210, 5246, 5331, 5457, 5495, 5600, 5601, 5611, 5617, 5620, 5623, 5634, 5642, 5714, 5734, 5749, 5821, 5835, 5842, 5862, 5887, 5888, 5891, 5913, 5922, 5926, 5936, 5937, 5955, 5972, 5973, 5985, 5992, 6035, 6042, 6043, 6059, 6065, 6071, 6081, 6091, 6112, 6157, 6166, 6168, 6172, 6173, 6324, 6347, 6390, 6391, 6421, 6425, 6426, 6505, 6555, 6558, 6560, 6568, 6571, 6574, 6597, 6598, 6603, 6625, 6632, 6641, 6642, 6645, 6651, 6706, 6721, 6740, 6744, 6746, 6755, 6765, 6769, 6775, 6783, 6785, 6796, 6817, 6847, 6906, 6926, 7121, 7130, 7198, 7216, 7220, 7233, 7338, 7426, 7432, 7434, 7451, 7459, 7492, 7498, 7511, 7539, 7545, 7797, 7800, 7812, 7821, 7839, 7842, 7847, 7849, 7850, 7851, 7856, 7858, 7859, 7870, 7886, 7888, 7899, 7905, 7917, 7918, 7921, 7928, 7945, 7990, 8020, 8062, 8072, 8081, 8091, 8094, 8095, 8183, 8196, 8272, 8277, 8279, 8294, 8316, 8332, 8339, 8406, 8408, 8410, 8493, 8520, 8522, 8553, 8863, 9007, 9009, 9010, 9013, 9015, 9019, 9024, 9036, 9045, 9071, 9182, 9209, 9280, 9316, 9422, 9427, 9433, 9446, 9456, 9465, 9482, 9538, 9544, 9587, 9595, 9614, 9624, 9634, 9642, 9643, 9662, 9664, 9679, 9692, 9698, 9700, 9712, 9716, 9719, 9726, 9729, 9732, 9738, 9741, 9744, 9745, 9749, 9751, 9752, 9768, 9770, 9777, 9779, 9792, 9808, 9811, 9839, 9856, 9858, 9867, 9879, 9888, 9890, 9892, 9893, 9905, 9925, 9940, 9941, 9943, 9944, 9970, 9982, 9986]\n"
          ]
        },
        {
          "output_type": "display_data",
          "data": {
            "text/plain": [
              "<Figure size 1000x4000 with 100 Axes>"
            ],
            "image/png": "[encoded data removed]"
          },
          "metadata": {}
        }
      ]
    },
    {
      "cell_type": "code",
      "source": [
        "# 예상 정답에 대해 80이상의 확률로 정확도를 측정한다.\n",
        "import sys, os\n",
        "sys.path.append('./dataset')  # 부모 디렉터리의 파일을 가져올 수 있도록 설정\n",
        "import numpy as np\n",
        "import pickle # 객체를 저장하고 불러오는 데 유용한 모듈, 객체를 파일로 저장하거나 네트워크를 통해 전송\n",
        "from dataset.mnist import load_mnist\n",
        "from common.functions import sigmoid, softmax\n",
        "import time\n",
        "start = time.time()\n",
        "\n",
        "def get_data(): # 전체 데이터 세트에서 테스트 세트 추출\n",
        "    (x_train, t_train), (x_test, t_test) = load_mnist(normalize=True, flatten=True, one_hot_label=False)\n",
        "    return x_test, t_test\n",
        "\n",
        "\n",
        "def init_network(): # 학습을 끝낸 결과 => 각 노드의 매개변수 결정\n",
        "    with open(\"sample_weight.pkl\", 'rb') as f:\n",
        "        network = pickle.load(f)\n",
        "    return network\n",
        "\n",
        "\n",
        "def predict(network, x):\n",
        "    W1, W2, W3 = network['W1'], network['W2'], network['W3']\n",
        "    b1, b2, b3 = network['b1'], network['b2'], network['b3']\n",
        "\n",
        "    a1 = np.dot(x, W1) + b1\n",
        "    z1 = sigmoid(a1)\n",
        "    a2 = np.dot(z1, W2) + b2\n",
        "    z2 = sigmoid(a2)\n",
        "    a3 = np.dot(z2, W3) + b3\n",
        "    y = softmax(a3)\n",
        "\n",
        "    return y\n",
        "\n",
        "\n",
        "x, t = get_data()\n",
        "network = init_network()\n",
        "accuracy_cnt = 0\n",
        "for i in range(len(x)): # 테스트 세트 개수, 10000개\n",
        "#for i in range(10):\n",
        "    y = predict(network, x[i]) # 10 차원 벡터\n",
        "    # print(y)\n",
        "    p= np.argmax(y) # 확률이 가장 높은 원소의 인덱스를 얻는다. => 예상 숫자\n",
        "    # print(p)\n",
        "    if (p == t[i]) & (y[p] >= 0.99): # 예상 숫자와 실제 숫자가 같은지 비교\n",
        "        accuracy_cnt += 1\n",
        "\n",
        "print(\"Accuracy:\" + str(float(accuracy_cnt) / len(x)))\n",
        "#print(time.time() - start)\n",
        "#print(\"Accuracy:\" + str(float(accuracy_cnt) / 10))\n",
        "\n",
        "# Accuracy:0.9352: 단순 최고 확률 기준 정확도\n",
        "# Accuracy:0.8363: 80% 이상의 확률 기준 정확도\n",
        "# Accuracy:0.7519: 90% 이상의 확률 기준 정확도\n",
        "# Accuracy:0.6432: 95% 이상의 확률 기준 정확도\n",
        "# Accuracy:0.285: 99% 이상의 확률 기준 정확도"
      ],
      "metadata": {
        "colab": {
          "base_uri": "https://localhost:8080/"
        },
        "id": "LSjeod8YRZvm",
        "outputId": "db2ffcb7-2211-41b2-c175-449850e69741"
      },
      "execution_count": 61,
      "outputs": [
        {
          "output_type": "stream",
          "name": "stdout",
          "text": [
            "Accuracy:0.285\n"
          ]
        }
      ]
    }
  ]
}