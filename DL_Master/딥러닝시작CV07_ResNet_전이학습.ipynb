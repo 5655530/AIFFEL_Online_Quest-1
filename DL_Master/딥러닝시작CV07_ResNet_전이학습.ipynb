{
  "nbformat": 4,
  "nbformat_minor": 0,
  "metadata": {
    "colab": {
      "provenance": [],
      "authorship_tag": "ABX9TyMfMNCx8pGFmXcrlj7soKBw",
      "include_colab_link": true
    },
    "kernelspec": {
      "name": "python3",
      "display_name": "Python 3"
    },
    "language_info": {
      "name": "python"
    }
  },
  "cells": [
    {
      "cell_type": "markdown",
      "metadata": {
        "id": "view-in-github",
        "colab_type": "text"
      },
      "source": [
        "<a href=\"https://colab.research.google.com/github/comandi1969/AIFFEL_Online_Quest/blob/main/DL_Master/%EB%94%A5%EB%9F%AC%EB%8B%9D%EC%8B%9C%EC%9E%91CV07_ResNet_%EC%A0%84%EC%9D%B4%ED%95%99%EC%8A%B5.ipynb\" target=\"_parent\"><img src=\"https://colab.research.google.com/assets/colab-badge.svg\" alt=\"Open In Colab\"/></a>"
      ]
    },
    {
      "cell_type": "code",
      "source": [
        "# ResNet50 transfer learning 코드로 살펴보기\n",
        "# 준비된 CIFAR-10 small 데이터셋을 실습 폴더에 연결합니다.\n",
        "# 새로운 환경 설정 필요 => 방버은 아직 모르겠음.\n",
        "!mkdir -p aiffel/cifar_10_small\n",
        "\n",
        "!ln -s ~/data/cifar_10_small/train/ aiffel/cifar_10_small/train\n",
        "!ln -s ~/data/cifar_10_small/test/ aiffel/cifar_10_small/test"
      ],
      "metadata": {
        "id": "wVvQ2lUYgxIg"
      },
      "execution_count": null,
      "outputs": []
    },
    {
      "cell_type": "code",
      "source": [
        "import os\n",
        "import tensorflow as tf\n",
        "import matplotlib.pyplot as plt"
      ],
      "metadata": {
        "id": "cjor_mgDgxLQ"
      },
      "execution_count": null,
      "outputs": []
    },
    {
      "cell_type": "code",
      "source": [
        "train_dir='aiffel/cifar_10_small/train'\n",
        "test_dir='aiffel/cifar_10_small/test'\n",
        "\n",
        "train_aeroplane_dir= os.path.join(train_dir,'aeroplane')\n",
        "print(train_aeroplane_dir)\n",
        "train_bird_dir=os.path.join(train_dir,'bird')\n",
        "train_car_dir= os.path.join(train_dir,'car')\n",
        "train_cat_dir=os.path.join(train_dir,'cat')\n",
        "\n",
        "test_aeroplane_dir= os.path.join(test_dir,'aeroplane')\n",
        "test_bird_dir=os.path.join(test_dir,'bird')\n",
        "test_car_dir= os.path.join(test_dir,'car')\n",
        "test_cat_dir=os.path.join(test_dir,'cat')"
      ],
      "metadata": {
        "id": "Fo8ianPdhnFT"
      },
      "execution_count": null,
      "outputs": []
    },
    {
      "cell_type": "code",
      "source": [
        "# 훈련용 데이터셋의 이미지 개수 출력\n",
        "print('훈련용 aeroplane 이미지 전체 개수:', len(os.listdir(train_aeroplane_dir)))\n",
        "print('훈련용 bird 이미지 전체 개수:', len(os.listdir(train_bird_dir)))\n",
        "print('훈련용 car 이미지 전체 개수:', len(os.listdir(train_car_dir)))\n",
        "print('훈련용 cat 이미지 전체 개수:', len(os.listdir(train_cat_dir)))"
      ],
      "metadata": {
        "id": "xseAQqMjhnPd"
      },
      "execution_count": null,
      "outputs": []
    },
    {
      "cell_type": "code",
      "source": [
        "# Q. 테스트용 데이터셋의 이미지 개수를 각 디렉토리별로 출력해 보세요.\n",
        "print('테스트용 aeroplane 이미지 전체 개수:', len(os.listdir(test_aeroplane_dir)))\n",
        "print('테스트용 bird 이미지 전체 개수:', len(os.listdir(test_bird_dir)))\n",
        "print('테스트용 car 이미지 전체 개수:', len(os.listdir(test_car_dir)))\n",
        "print('테스트용 cat 이미지 전체 개수:', len(os.listdir(test_cat_dir)))"
      ],
      "metadata": {
        "id": "JSDr4D7FhnWQ"
      },
      "execution_count": null,
      "outputs": []
    },
    {
      "cell_type": "code",
      "source": [
        "### data 파이프 라인 생성\n",
        "\n",
        "# 데이터를 디렉토리로부터 불러올 때, 한번에 가져올 데이터의 수\n",
        "batch_size=20\n",
        "\n",
        "# Training 데이터의 augmentation 파이프 라인 만들기\n",
        "augmentation_train_datagen = tf.keras.preprocessing.image.ImageDataGenerator( rescale=1./255,  # 모든 데이터의 값을 1/255로 스케일 조정\n",
        "                                    rotation_range=40,  # 0~40도 사이로 이미지 회전\n",
        "                                    width_shift_range=0.2,  # 전체 가로 길이를 기준으로 0.2 비율까지 가로로 이동\n",
        "                                    height_shift_range=0.2,   # 전체 세로 길이를 기준으로 0.2 비율까지 가로로 이동\n",
        "                                    shear_range=0.2,  # 0.2 라디안 정도까지 이미지를 기울이기\n",
        "                                    zoom_range=0.2, # 확대와 축소의 범위 [1-0.2 ~ 1+0.2 ]\n",
        "                                    horizontal_flip=True,)  # 수평 기준 플립을 할 지, 하지 않을 지를 결정\n",
        "\n",
        "# Test 데이터의 augmentation 파이프 라인 만들기\n",
        "test_datagen = tf.keras.preprocessing.image.ImageDataGenerator(rescale=1./255)"
      ],
      "metadata": {
        "id": "_79lRkkEhnb3"
      },
      "execution_count": null,
      "outputs": []
    },
    {
      "cell_type": "code",
      "source": [
        "# Augmentation 파이프라인을 기준으로 디렉토리로부터 데이터를 불러 오는 모듈 만들기\n",
        "train_generator = augmentation_train_datagen.flow_from_directory(\n",
        "        directory=train_dir, #  어느 디렉터리에서 이미지 데이터를 가져올 것인가?\n",
        "        target_size=(150, 150), # 모든 이미지를 150 × 150 크기로 바꿉니다\n",
        "        batch_size=batch_size, # 디렉토리에서 batch size만큼의 이미지를 가져옵니다.\n",
        "        interpolation='bilinear',  # resize를 할 때, interpolatrion 기법을 결정합니다.\n",
        "        color_mode ='rgb',\n",
        "        shuffle='True', # 이미지를 셔플링할 지 하지 않을 지를 결정.\n",
        "        class_mode='categorical'\n",
        "        ) # multiclass의 경우이므로 class mode는 categorical\n",
        "\n",
        "print(train_generator.class_indices)\n"
      ],
      "metadata": {
        "id": "yjmwm5oshnh9"
      },
      "execution_count": null,
      "outputs": []
    },
    {
      "cell_type": "code",
      "source": [
        "# Q. Test 데이터 디렉토리로부터 이미지를 불러오는 파이프라인을 완성해 보세요.\n",
        "# (위의 train_generator와 조건은 동일)\n",
        "test_generator = test_datagen.flow_from_directory(\n",
        "        directory=test_dir, #  어느 디렉터리에서 이미지 데이터를 가져올 것인가?\n",
        "        target_size=(150, 150), # 모든 이미지를 150 × 150 크기로 바꿉니다\n",
        "        batch_size=batch_size, # 디렉토리에서 batch size만큼의 이미지를 가져옵니다.\n",
        "        interpolation='bilinear',  # resize를 할 때, interpolatrion 기법을 결정합니다.\n",
        "        color_mode ='rgb',\n",
        "        shuffle='True', # 이미지를 셔플링할 지 하지 않을 지를 결정.\n",
        "        class_mode='categorical'\n",
        "    )\n",
        "print(train_generator.class_indices)"
      ],
      "metadata": {
        "id": "X9YB7R9rgxR-"
      },
      "execution_count": null,
      "outputs": []
    },
    {
      "cell_type": "code",
      "source": [
        "for data_batch, labels_batch in train_generator:\n",
        "    print('배치 데이터 크기:', data_batch.shape)\n",
        "    print('배치 레이블 크기:', labels_batch.shape)\n",
        "    break"
      ],
      "metadata": {
        "id": "8JIn65BBgxXu"
      },
      "execution_count": null,
      "outputs": []
    },
    {
      "cell_type": "code",
      "source": [
        "## back bone\n",
        "conv_base=tf.keras.applications.ResNet50(weights='imagenet',include_top=False)\n",
        "conv_base.summary()"
      ],
      "metadata": {
        "id": "ZKni9LEogxa7"
      },
      "execution_count": null,
      "outputs": []
    },
    {
      "cell_type": "code",
      "source": [
        "# conv_base는 freeze 시킴으로써 이미 학습된 파라미터 값을 그대로 사용합니다.\n",
        "conv_base.trainable = False"
      ],
      "metadata": {
        "id": "HiAdnAEjgxdy"
      },
      "execution_count": null,
      "outputs": []
    },
    {
      "cell_type": "code",
      "source": [
        "model = tf.keras.Model(inputs=[input_layer], outputs=[out_layer])\n",
        "model.summary()"
      ],
      "metadata": {
        "id": "jeJPoVJ5gxgW"
      },
      "execution_count": null,
      "outputs": []
    },
    {
      "cell_type": "code",
      "source": [
        "# [Playground] conv_base.trainable의 값을 True와 False로 바꿔가면서\n",
        "# Trainable params의 값이 어떻게 바뀌나 확인하고 분석해 보세요.\n",
        "\n",
        "conv_base.trainable = True\n",
        "model = tf.keras.Model(inputs=[input_layer], outputs=[out_layer])\n",
        "model.summary()"
      ],
      "metadata": {
        "id": "oqzPcNv_gxis"
      },
      "execution_count": null,
      "outputs": []
    },
    {
      "cell_type": "code",
      "source": [
        "loss_function=tf.keras.losses.categorical_crossentropy\n",
        "optimize=tf.keras.optimizers.Adam(learning_rate=0.0001)\n",
        "metric=tf.keras.metrics.categorical_accuracy\n",
        "model.compile(loss=loss_function,\n",
        "              optimizer=optimize,\n",
        "              metrics=[metric])"
      ],
      "metadata": {
        "id": "A6AURzlYgxlM"
      },
      "execution_count": null,
      "outputs": []
    },
    {
      "cell_type": "code",
      "source": [
        "loss_function=tf.keras.losses.categorical_crossentropy\n",
        "optimize=tf.keras.optimizers.Adam(learning_rate=0.0001)\n",
        "metric=tf.keras.metrics.categorical_accuracy\n",
        "model.compile(loss=loss_function,\n",
        "              optimizer=optimize,\n",
        "              metrics=[metric])"
      ],
      "metadata": {
        "id": "rxvISWCLgxno"
      },
      "execution_count": null,
      "outputs": []
    },
    {
      "cell_type": "code",
      "source": [
        "# 모델 학습 시간이 30분 정도 걸립니다.\n",
        "history = model.fit(\n",
        "      train_generator,\n",
        "     steps_per_epoch=(len(os.listdir(train_aeroplane_dir)) + len(os.listdir(train_bird_dir)) + len(\n",
        "       os.listdir(train_car_dir)) + len(os.listdir(train_cat_dir))) // batch_size,\n",
        "      epochs=20,\n",
        "      validation_data=test_generator,\n",
        "      validation_freq=1)\n",
        "\n",
        "print(steps_per_epoch)"
      ],
      "metadata": {
        "id": "IxNYdet_iIsE"
      },
      "execution_count": null,
      "outputs": []
    },
    {
      "cell_type": "code",
      "source": [
        "# 모델에서 학습한 결과를 hdf5 파일 형식으로 저장하고, 평가 metric들도 따로 저장합니다.\n",
        "model.save('/aiffel/aiffel/cifar_10_small/multi_classification_augumentation_model.hdf5')\n",
        "\n",
        "acc = history.history['categorical_accuracy']\n",
        "val_acc = history.history['val_categorical_accuracy']\n",
        "loss = history.history['loss']\n",
        "val_loss = history.history['val_loss']"
      ],
      "metadata": {
        "id": "EalbMsMkiI3W"
      },
      "execution_count": null,
      "outputs": []
    },
    {
      "cell_type": "code",
      "source": [
        "# # 학습한 결과 시각화\n",
        "epochs = range(len(acc))\n",
        "\n",
        "plt.plot(epochs, acc, 'bo', label='Training acc')\n",
        "plt.plot(epochs, val_acc, 'b', label='Validation acc')\n",
        "plt.title('Training and validation accuracy')\n",
        "plt.legend()\n",
        "\n",
        "plt.figure()\n",
        "\n",
        "plt.plot(epochs, loss, 'bo', label='Training loss')\n",
        "plt.plot(epochs, val_loss, 'b', label='Validation loss')\n",
        "plt.title('Training and validation loss')\n",
        "plt.legend()\n",
        "\n",
        "plt.show()"
      ],
      "metadata": {
        "id": "0bm3Rs6xiZLH"
      },
      "execution_count": null,
      "outputs": []
    }
  ]
}