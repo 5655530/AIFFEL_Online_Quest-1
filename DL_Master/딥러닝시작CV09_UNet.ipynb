{
  "nbformat": 4,
  "nbformat_minor": 0,
  "metadata": {
    "colab": {
      "provenance": [],
      "authorship_tag": "ABX9TyPmbXU7MEjS9sD2qkwmjXzx",
      "include_colab_link": true
    },
    "kernelspec": {
      "name": "python3",
      "display_name": "Python 3"
    },
    "language_info": {
      "name": "python"
    }
  },
  "cells": [
    {
      "cell_type": "markdown",
      "metadata": {
        "id": "view-in-github",
        "colab_type": "text"
      },
      "source": [
        "<a href=\"https://colab.research.google.com/github/comandi1969/AIFFEL_Online_Quest/blob/main/DL_Master/%EB%94%A5%EB%9F%AC%EB%8B%9D%EC%8B%9C%EC%9E%91CV09_UNet.ipynb\" target=\"_parent\"><img src=\"https://colab.research.google.com/assets/colab-badge.svg\" alt=\"Open In Colab\"/></a>"
      ]
    },
    {
      "cell_type": "code",
      "execution_count": 1,
      "metadata": {
        "colab": {
          "base_uri": "https://localhost:8080/"
        },
        "id": "-GkO3vzsSfXJ",
        "outputId": "2577cedc-eea1-4314-cccd-cf61eeaf684c"
      },
      "outputs": [
        {
          "output_type": "stream",
          "name": "stdout",
          "text": [
            "Requirement already satisfied: graphviz in /usr/local/lib/python3.10/dist-packages (0.20.1)\n",
            "Requirement already satisfied: pydot in /usr/local/lib/python3.10/dist-packages (1.4.2)\n",
            "Requirement already satisfied: pyparsing>=2.1.4 in /usr/local/lib/python3.10/dist-packages (from pydot) (3.1.1)\n"
          ]
        }
      ],
      "source": [
        "!pip install graphviz\n",
        "!pip install pydot"
      ]
    },
    {
      "cell_type": "code",
      "source": [
        "import tensorflow.keras.layers as layers\n",
        "import tensorflow as tf"
      ],
      "metadata": {
        "id": "ZApvPnPhjKtg"
      },
      "execution_count": 2,
      "outputs": []
    },
    {
      "cell_type": "code",
      "source": [
        "import tensorflow.keras.layers as layers\n",
        "import tensorflow as tf"
      ],
      "metadata": {
        "id": "JV7ZxOajjK05"
      },
      "execution_count": 3,
      "outputs": []
    },
    {
      "cell_type": "code",
      "source": [
        "inputs = layers.Input(shape=(572, 572, 1))\n",
        "\n",
        "# Contracting path 시작\n",
        "# [1]\n",
        "conv0 = layers.Conv2D(64, activation='relu', kernel_size = 3)(inputs)\n",
        "conv1 = layers.Conv2D(64, activation='relu', kernel_size=3)(conv0)# Skip connection으로 Expanding path로 이어질 예정\n",
        "conv2 = layers.MaxPool2D(pool_size=(2, 2), strides=(2, 2))(conv1)\n",
        "\n",
        "\n",
        "# Q.위 이미지를 보고 [2]번 블럭을 구현해 봅시다. (filter 수를 주의하세요!)\n",
        "conv3 = layers.Conv2D(128, activation='relu', kernel_size = 3)(conv2)\n",
        "conv4 = layers.Conv2D(128, activation='relu', kernel_size = 3)(conv3)# Skip connection으로 Expanding path로 이어질 예정\n",
        "conv5 = layers.MaxPool2D(pool_size=(2, 2), strides=(2, 2))(conv4)\n",
        "\n",
        "\n",
        "# Q.위 이미지를 보고 [3]번 블럭을 구현해 봅시다. (filter 수를 주의하세요!)\n",
        "conv6 = layers.Conv2D(256, activation='relu', kernel_size = 3)(conv5)\n",
        "conv7 = layers.Conv2D(256, activation='relu', kernel_size = 3)(conv6)# Skip connection으로 Expanding path로 이어질 예정\n",
        "conv8 = layers.MaxPool2D(pool_size=(2, 2), strides=(2, 2))(conv7)\n",
        "\n",
        "\n",
        "# Q.위 이미지를 보고 [4]번 블럭을 구현해 봅시다. (filter 수를 주의하세요!)\n",
        "conv9 = layers.Conv2D(512, activation='relu', kernel_size = 3)(conv8)\n",
        "conv10 = layers.Conv2D(512, activation='relu', kernel_size = 3)(conv9)# Skip connection으로 Expanding path로 이어질 예정\n",
        "conv11 = layers.MaxPool2D(pool_size=(2, 2), strides=(2, 2))(conv10)\n",
        "\n",
        "\n",
        "# [5]\n",
        "conv12 = layers.Conv2D(1024, activation='relu', kernel_size=3)(conv11)\n",
        "conv13 = layers.Conv2D(1024, activation='relu', kernel_size=3)(conv12)\n",
        "# Contracting path 끝\n",
        "\n",
        "# Expanding path 시작\n",
        "# [6]\n",
        "trans01 = layers.Conv2DTranspose(512, kernel_size=2, strides=(2, 2), activation='relu')(conv13)\n",
        "crop01 = layers.Cropping2D(cropping=(4, 4))(conv10)\n",
        "concat01 = layers.concatenate([trans01, crop01], axis=-1)\n",
        "\n",
        "# [7]\n",
        "conv14 = layers.Conv2D(512, activation='relu', kernel_size=3)(concat01)\n",
        "conv15 = layers.Conv2D(512, activation='relu', kernel_size=3)(conv14)\n",
        "trans02 = layers.Conv2DTranspose(256, kernel_size=2, strides=(2, 2), activation='relu')(conv15)\n",
        "\n",
        "# [8]\n",
        "crop02 = layers.Cropping2D(cropping=(16, 16))(conv7)\n",
        "concat02 = layers.concatenate([trans02, crop02], axis=-1)\n",
        "\n",
        "\n",
        "# Q.위 이미지를 보고 [9]번 블럭을 구현해 봅시다. (filter 수를 주의하세요!)\n",
        "conv16 = layers.Conv2D(256, activation='relu', kernel_size=3)(concat02)\n",
        "conv17 = layers.Conv2D(256, activation='relu', kernel_size=3)(conv16)\n",
        "trans03 = layers.Conv2DTranspose(128, kernel_size=2, strides=(2, 2), activation='relu')(conv17)\n",
        "\n",
        "\n",
        "# Q.위 이미지를 보고 [10]번 블럭을 구현해 봅시다. (cropping=(40, 40))\n",
        "crop03 = layers.Cropping2D(cropping=(40, 40))(conv4)\n",
        "concat03 = layers.concatenate([trans03, crop03], axis=-1)\n",
        "\n",
        "\n",
        "# Q.위 이미지를 보고 [11]번 블럭을 구현해 봅시다. (filter 수를 주의하세요!)\n",
        "conv18 = layers.Conv2D(128, activation='relu', kernel_size=3)(concat03)\n",
        "conv19 = layers.Conv2D(256, activation='relu', kernel_size=3)(conv18)\n",
        "trans04 = layers.Conv2DTranspose(64, kernel_size=2, strides=(2, 2), activation='relu')(conv19)\n",
        "\n",
        "\n",
        "# Q.위 이미지를 보고 [12]번 블럭을 구현해 봅시다. (cropping=(88, 88))\n",
        "crop04 = layers.Cropping2D(cropping=(88, 88))(conv1)\n",
        "concat04 = layers.concatenate([trans04, crop04], axis=-1)\n",
        "\n",
        "\n",
        "# [13]\n",
        "conv20 = layers.Conv2D(64, activation='relu', kernel_size=3)(concat04)\n",
        "conv21 = layers.Conv2D(64, activation='relu', kernel_size=3)(conv20)\n",
        "# Expanding path 끝\n",
        "\n",
        "outputs = layers.Conv2D(2, kernel_size=1)(conv21)\n",
        "\n",
        "model = tf.keras.Model(inputs=inputs, outputs=outputs, name=\"u-netmodel\")"
      ],
      "metadata": {
        "id": "vqzYwhW3jK-W"
      },
      "execution_count": 4,
      "outputs": []
    },
    {
      "cell_type": "code",
      "source": [
        "model.summary()"
      ],
      "metadata": {
        "colab": {
          "base_uri": "https://localhost:8080/"
        },
        "id": "rvzrQZq5jLJC",
        "outputId": "1c2c7ff1-623e-46ea-b298-8a6e7677a775"
      },
      "execution_count": 5,
      "outputs": [
        {
          "output_type": "stream",
          "name": "stdout",
          "text": [
            "Model: \"u-netmodel\"\n",
            "__________________________________________________________________________________________________\n",
            " Layer (type)                   Output Shape         Param #     Connected to                     \n",
            "==================================================================================================\n",
            " input_1 (InputLayer)           [(None, 572, 572, 1  0           []                               \n",
            "                                )]                                                                \n",
            "                                                                                                  \n",
            " conv2d (Conv2D)                (None, 570, 570, 64  640         ['input_1[0][0]']                \n",
            "                                )                                                                 \n",
            "                                                                                                  \n",
            " conv2d_1 (Conv2D)              (None, 568, 568, 64  36928       ['conv2d[0][0]']                 \n",
            "                                )                                                                 \n",
            "                                                                                                  \n",
            " max_pooling2d (MaxPooling2D)   (None, 284, 284, 64  0           ['conv2d_1[0][0]']               \n",
            "                                )                                                                 \n",
            "                                                                                                  \n",
            " conv2d_2 (Conv2D)              (None, 282, 282, 12  73856       ['max_pooling2d[0][0]']          \n",
            "                                8)                                                                \n",
            "                                                                                                  \n",
            " conv2d_3 (Conv2D)              (None, 280, 280, 12  147584      ['conv2d_2[0][0]']               \n",
            "                                8)                                                                \n",
            "                                                                                                  \n",
            " max_pooling2d_1 (MaxPooling2D)  (None, 140, 140, 12  0          ['conv2d_3[0][0]']               \n",
            "                                8)                                                                \n",
            "                                                                                                  \n",
            " conv2d_4 (Conv2D)              (None, 138, 138, 25  295168      ['max_pooling2d_1[0][0]']        \n",
            "                                6)                                                                \n",
            "                                                                                                  \n",
            " conv2d_5 (Conv2D)              (None, 136, 136, 25  590080      ['conv2d_4[0][0]']               \n",
            "                                6)                                                                \n",
            "                                                                                                  \n",
            " max_pooling2d_2 (MaxPooling2D)  (None, 68, 68, 256)  0          ['conv2d_5[0][0]']               \n",
            "                                                                                                  \n",
            " conv2d_6 (Conv2D)              (None, 66, 66, 512)  1180160     ['max_pooling2d_2[0][0]']        \n",
            "                                                                                                  \n",
            " conv2d_7 (Conv2D)              (None, 64, 64, 512)  2359808     ['conv2d_6[0][0]']               \n",
            "                                                                                                  \n",
            " max_pooling2d_3 (MaxPooling2D)  (None, 32, 32, 512)  0          ['conv2d_7[0][0]']               \n",
            "                                                                                                  \n",
            " conv2d_8 (Conv2D)              (None, 30, 30, 1024  4719616     ['max_pooling2d_3[0][0]']        \n",
            "                                )                                                                 \n",
            "                                                                                                  \n",
            " conv2d_9 (Conv2D)              (None, 28, 28, 1024  9438208     ['conv2d_8[0][0]']               \n",
            "                                )                                                                 \n",
            "                                                                                                  \n",
            " conv2d_transpose (Conv2DTransp  (None, 56, 56, 512)  2097664    ['conv2d_9[0][0]']               \n",
            " ose)                                                                                             \n",
            "                                                                                                  \n",
            " cropping2d (Cropping2D)        (None, 56, 56, 512)  0           ['conv2d_7[0][0]']               \n",
            "                                                                                                  \n",
            " concatenate (Concatenate)      (None, 56, 56, 1024  0           ['conv2d_transpose[0][0]',       \n",
            "                                )                                 'cropping2d[0][0]']             \n",
            "                                                                                                  \n",
            " conv2d_10 (Conv2D)             (None, 54, 54, 512)  4719104     ['concatenate[0][0]']            \n",
            "                                                                                                  \n",
            " conv2d_11 (Conv2D)             (None, 52, 52, 512)  2359808     ['conv2d_10[0][0]']              \n",
            "                                                                                                  \n",
            " conv2d_transpose_1 (Conv2DTran  (None, 104, 104, 25  524544     ['conv2d_11[0][0]']              \n",
            " spose)                         6)                                                                \n",
            "                                                                                                  \n",
            " cropping2d_1 (Cropping2D)      (None, 104, 104, 25  0           ['conv2d_5[0][0]']               \n",
            "                                6)                                                                \n",
            "                                                                                                  \n",
            " concatenate_1 (Concatenate)    (None, 104, 104, 51  0           ['conv2d_transpose_1[0][0]',     \n",
            "                                2)                                'cropping2d_1[0][0]']           \n",
            "                                                                                                  \n",
            " conv2d_12 (Conv2D)             (None, 102, 102, 25  1179904     ['concatenate_1[0][0]']          \n",
            "                                6)                                                                \n",
            "                                                                                                  \n",
            " conv2d_13 (Conv2D)             (None, 100, 100, 25  590080      ['conv2d_12[0][0]']              \n",
            "                                6)                                                                \n",
            "                                                                                                  \n",
            " conv2d_transpose_2 (Conv2DTran  (None, 200, 200, 12  131200     ['conv2d_13[0][0]']              \n",
            " spose)                         8)                                                                \n",
            "                                                                                                  \n",
            " cropping2d_2 (Cropping2D)      (None, 200, 200, 12  0           ['conv2d_3[0][0]']               \n",
            "                                8)                                                                \n",
            "                                                                                                  \n",
            " concatenate_2 (Concatenate)    (None, 200, 200, 25  0           ['conv2d_transpose_2[0][0]',     \n",
            "                                6)                                'cropping2d_2[0][0]']           \n",
            "                                                                                                  \n",
            " conv2d_14 (Conv2D)             (None, 198, 198, 12  295040      ['concatenate_2[0][0]']          \n",
            "                                8)                                                                \n",
            "                                                                                                  \n",
            " conv2d_15 (Conv2D)             (None, 196, 196, 25  295168      ['conv2d_14[0][0]']              \n",
            "                                6)                                                                \n",
            "                                                                                                  \n",
            " conv2d_transpose_3 (Conv2DTran  (None, 392, 392, 64  65600      ['conv2d_15[0][0]']              \n",
            " spose)                         )                                                                 \n",
            "                                                                                                  \n",
            " cropping2d_3 (Cropping2D)      (None, 392, 392, 64  0           ['conv2d_1[0][0]']               \n",
            "                                )                                                                 \n",
            "                                                                                                  \n",
            " concatenate_3 (Concatenate)    (None, 392, 392, 12  0           ['conv2d_transpose_3[0][0]',     \n",
            "                                8)                                'cropping2d_3[0][0]']           \n",
            "                                                                                                  \n",
            " conv2d_16 (Conv2D)             (None, 390, 390, 64  73792       ['concatenate_3[0][0]']          \n",
            "                                )                                                                 \n",
            "                                                                                                  \n",
            " conv2d_17 (Conv2D)             (None, 388, 388, 64  36928       ['conv2d_16[0][0]']              \n",
            "                                )                                                                 \n",
            "                                                                                                  \n",
            " conv2d_18 (Conv2D)             (None, 388, 388, 2)  130         ['conv2d_17[0][0]']              \n",
            "                                                                                                  \n",
            "==================================================================================================\n",
            "Total params: 31,211,010\n",
            "Trainable params: 31,211,010\n",
            "Non-trainable params: 0\n",
            "__________________________________________________________________________________________________\n"
          ]
        }
      ]
    },
    {
      "cell_type": "code",
      "source": [
        "from IPython.display import SVG\n",
        "from keras.utils.vis_utils import model_to_dot\n",
        "\n",
        "%matplotlib inline\n",
        "\n",
        "SVG(model_to_dot(model, show_shapes= True, show_layer_names=True, dpi=80).create(prog='dot', format='svg'))  #dpi를 작게 하면 그래프가 커집니다."
      ],
      "metadata": {
        "colab": {
          "base_uri": "https://localhost:8080/",
          "height": 1000
        },
        "id": "LRo2yz4RjLUc",
        "outputId": "5d404c7c-9f24-44dd-eb84-86bc12e27d6b"
      },
      "execution_count": 6,
      "outputs": [
        {
          "output_type": "execute_result",
          "data": {
            "text/plain": [
              "<IPython.core.display.SVG object>"
            ],
            "image/svg+xml": "<svg xmlns=\"http://www.w3.org/2000/svg\" xmlns:xlink=\"http://www.w3.org/1999/xlink\" width=\"1262pt\" height=\"2920pt\" viewBox=\"0.00 0.00 1136.00 2628.00\">\n<g id=\"graph0\" class=\"graph\" transform=\"scale(0.9 0.9) rotate(0) translate(4 2624)\">\n<title>G</title>\n<polygon fill=\"white\" stroke=\"transparent\" points=\"-4,4 -4,-2624 1132,-2624 1132,4 -4,4\"/>\n<!-- 136615302702720 -->\n<g id=\"node1\" class=\"node\">\n<title>136615302702720</title>\n<polygon fill=\"none\" stroke=\"black\" points=\"711,-2573.5 711,-2619.5 977,-2619.5 977,-2573.5 711,-2573.5\"/>\n<text text-anchor=\"middle\" x=\"749.5\" y=\"-2604.3\" font-family=\"Times,serif\" font-size=\"14.00\">input_1</text>\n<polyline fill=\"none\" stroke=\"black\" points=\"711,-2596.5 788,-2596.5 \"/>\n<text text-anchor=\"middle\" x=\"749.5\" y=\"-2581.3\" font-family=\"Times,serif\" font-size=\"14.00\">InputLayer</text>\n<polyline fill=\"none\" stroke=\"black\" points=\"788,-2573.5 788,-2619.5 \"/>\n<text text-anchor=\"middle\" x=\"815.5\" y=\"-2604.3\" font-family=\"Times,serif\" font-size=\"14.00\">input:</text>\n<polyline fill=\"none\" stroke=\"black\" points=\"788,-2596.5 843,-2596.5 \"/>\n<text text-anchor=\"middle\" x=\"815.5\" y=\"-2581.3\" font-family=\"Times,serif\" font-size=\"14.00\">output:</text>\n<polyline fill=\"none\" stroke=\"black\" points=\"843,-2573.5 843,-2619.5 \"/>\n<text text-anchor=\"middle\" x=\"910\" y=\"-2604.3\" font-family=\"Times,serif\" font-size=\"14.00\">[(None, 572, 572, 1)]</text>\n<polyline fill=\"none\" stroke=\"black\" points=\"843,-2596.5 977,-2596.5 \"/>\n<text text-anchor=\"middle\" x=\"910\" y=\"-2581.3\" font-family=\"Times,serif\" font-size=\"14.00\">[(None, 572, 572, 1)]</text>\n</g>\n<!-- 136615302703056 -->\n<g id=\"node2\" class=\"node\">\n<title>136615302703056</title>\n<polygon fill=\"none\" stroke=\"black\" points=\"720,-2490.5 720,-2536.5 968,-2536.5 968,-2490.5 720,-2490.5\"/>\n<text text-anchor=\"middle\" x=\"751\" y=\"-2521.3\" font-family=\"Times,serif\" font-size=\"14.00\">conv2d</text>\n<polyline fill=\"none\" stroke=\"black\" points=\"720,-2513.5 782,-2513.5 \"/>\n<text text-anchor=\"middle\" x=\"751\" y=\"-2498.3\" font-family=\"Times,serif\" font-size=\"14.00\">Conv2D</text>\n<polyline fill=\"none\" stroke=\"black\" points=\"782,-2490.5 782,-2536.5 \"/>\n<text text-anchor=\"middle\" x=\"809.5\" y=\"-2521.3\" font-family=\"Times,serif\" font-size=\"14.00\">input:</text>\n<polyline fill=\"none\" stroke=\"black\" points=\"782,-2513.5 837,-2513.5 \"/>\n<text text-anchor=\"middle\" x=\"809.5\" y=\"-2498.3\" font-family=\"Times,serif\" font-size=\"14.00\">output:</text>\n<polyline fill=\"none\" stroke=\"black\" points=\"837,-2490.5 837,-2536.5 \"/>\n<text text-anchor=\"middle\" x=\"902.5\" y=\"-2521.3\" font-family=\"Times,serif\" font-size=\"14.00\">(None, 572, 572, 1)</text>\n<polyline fill=\"none\" stroke=\"black\" points=\"837,-2513.5 968,-2513.5 \"/>\n<text text-anchor=\"middle\" x=\"902.5\" y=\"-2498.3\" font-family=\"Times,serif\" font-size=\"14.00\">(None, 570, 570, 64)</text>\n</g>\n<!-- 136615302702720&#45;&gt;136615302703056 -->\n<g id=\"edge1\" class=\"edge\">\n<title>136615302702720-&gt;136615302703056</title>\n<path fill=\"none\" stroke=\"black\" d=\"M844,-2573.37C844,-2565.15 844,-2555.66 844,-2546.73\"/>\n<polygon fill=\"black\" stroke=\"black\" points=\"847.5,-2546.61 844,-2536.61 840.5,-2546.61 847.5,-2546.61\"/>\n</g>\n<!-- 136615167739840 -->\n<g id=\"node3\" class=\"node\">\n<title>136615167739840</title>\n<polygon fill=\"none\" stroke=\"black\" points=\"716,-2407.5 716,-2453.5 972,-2453.5 972,-2407.5 716,-2407.5\"/>\n<text text-anchor=\"middle\" x=\"751\" y=\"-2438.3\" font-family=\"Times,serif\" font-size=\"14.00\">conv2d_1</text>\n<polyline fill=\"none\" stroke=\"black\" points=\"716,-2430.5 786,-2430.5 \"/>\n<text text-anchor=\"middle\" x=\"751\" y=\"-2415.3\" font-family=\"Times,serif\" font-size=\"14.00\">Conv2D</text>\n<polyline fill=\"none\" stroke=\"black\" points=\"786,-2407.5 786,-2453.5 \"/>\n<text text-anchor=\"middle\" x=\"813.5\" y=\"-2438.3\" font-family=\"Times,serif\" font-size=\"14.00\">input:</text>\n<polyline fill=\"none\" stroke=\"black\" points=\"786,-2430.5 841,-2430.5 \"/>\n<text text-anchor=\"middle\" x=\"813.5\" y=\"-2415.3\" font-family=\"Times,serif\" font-size=\"14.00\">output:</text>\n<polyline fill=\"none\" stroke=\"black\" points=\"841,-2407.5 841,-2453.5 \"/>\n<text text-anchor=\"middle\" x=\"906.5\" y=\"-2438.3\" font-family=\"Times,serif\" font-size=\"14.00\">(None, 570, 570, 64)</text>\n<polyline fill=\"none\" stroke=\"black\" points=\"841,-2430.5 972,-2430.5 \"/>\n<text text-anchor=\"middle\" x=\"906.5\" y=\"-2415.3\" font-family=\"Times,serif\" font-size=\"14.00\">(None, 568, 568, 64)</text>\n</g>\n<!-- 136615302703056&#45;&gt;136615167739840 -->\n<g id=\"edge2\" class=\"edge\">\n<title>136615302703056-&gt;136615167739840</title>\n<path fill=\"none\" stroke=\"black\" d=\"M844,-2490.37C844,-2482.15 844,-2472.66 844,-2463.73\"/>\n<polygon fill=\"black\" stroke=\"black\" points=\"847.5,-2463.61 844,-2453.61 840.5,-2463.61 847.5,-2463.61\"/>\n</g>\n<!-- 136615167752704 -->\n<g id=\"node4\" class=\"node\">\n<title>136615167752704</title>\n<polygon fill=\"none\" stroke=\"black\" points=\"614,-2324.5 614,-2370.5 902,-2370.5 902,-2324.5 614,-2324.5\"/>\n<text text-anchor=\"middle\" x=\"665\" y=\"-2355.3\" font-family=\"Times,serif\" font-size=\"14.00\">max_pooling2d</text>\n<polyline fill=\"none\" stroke=\"black\" points=\"614,-2347.5 716,-2347.5 \"/>\n<text text-anchor=\"middle\" x=\"665\" y=\"-2332.3\" font-family=\"Times,serif\" font-size=\"14.00\">MaxPooling2D</text>\n<polyline fill=\"none\" stroke=\"black\" points=\"716,-2324.5 716,-2370.5 \"/>\n<text text-anchor=\"middle\" x=\"743.5\" y=\"-2355.3\" font-family=\"Times,serif\" font-size=\"14.00\">input:</text>\n<polyline fill=\"none\" stroke=\"black\" points=\"716,-2347.5 771,-2347.5 \"/>\n<text text-anchor=\"middle\" x=\"743.5\" y=\"-2332.3\" font-family=\"Times,serif\" font-size=\"14.00\">output:</text>\n<polyline fill=\"none\" stroke=\"black\" points=\"771,-2324.5 771,-2370.5 \"/>\n<text text-anchor=\"middle\" x=\"836.5\" y=\"-2355.3\" font-family=\"Times,serif\" font-size=\"14.00\">(None, 568, 568, 64)</text>\n<polyline fill=\"none\" stroke=\"black\" points=\"771,-2347.5 902,-2347.5 \"/>\n<text text-anchor=\"middle\" x=\"836.5\" y=\"-2332.3\" font-family=\"Times,serif\" font-size=\"14.00\">(None, 284, 284, 64)</text>\n</g>\n<!-- 136615167739840&#45;&gt;136615167752704 -->\n<g id=\"edge3\" class=\"edge\">\n<title>136615167739840-&gt;136615167752704</title>\n<path fill=\"none\" stroke=\"black\" d=\"M820.5,-2407.37C810.74,-2398.17 799.27,-2387.37 788.84,-2377.55\"/>\n<polygon fill=\"black\" stroke=\"black\" points=\"791.15,-2374.92 781.47,-2370.61 786.35,-2380.01 791.15,-2374.92\"/>\n</g>\n<!-- 136615130741776 -->\n<g id=\"node32\" class=\"node\">\n<title>136615130741776</title>\n<polygon fill=\"none\" stroke=\"black\" points=\"850,-2241.5 850,-2287.5 1128,-2287.5 1128,-2241.5 850,-2241.5\"/>\n<text text-anchor=\"middle\" x=\"896\" y=\"-2272.3\" font-family=\"Times,serif\" font-size=\"14.00\">cropping2d_3</text>\n<polyline fill=\"none\" stroke=\"black\" points=\"850,-2264.5 942,-2264.5 \"/>\n<text text-anchor=\"middle\" x=\"896\" y=\"-2249.3\" font-family=\"Times,serif\" font-size=\"14.00\">Cropping2D</text>\n<polyline fill=\"none\" stroke=\"black\" points=\"942,-2241.5 942,-2287.5 \"/>\n<text text-anchor=\"middle\" x=\"969.5\" y=\"-2272.3\" font-family=\"Times,serif\" font-size=\"14.00\">input:</text>\n<polyline fill=\"none\" stroke=\"black\" points=\"942,-2264.5 997,-2264.5 \"/>\n<text text-anchor=\"middle\" x=\"969.5\" y=\"-2249.3\" font-family=\"Times,serif\" font-size=\"14.00\">output:</text>\n<polyline fill=\"none\" stroke=\"black\" points=\"997,-2241.5 997,-2287.5 \"/>\n<text text-anchor=\"middle\" x=\"1062.5\" y=\"-2272.3\" font-family=\"Times,serif\" font-size=\"14.00\">(None, 568, 568, 64)</text>\n<polyline fill=\"none\" stroke=\"black\" points=\"997,-2264.5 1128,-2264.5 \"/>\n<text text-anchor=\"middle\" x=\"1062.5\" y=\"-2249.3\" font-family=\"Times,serif\" font-size=\"14.00\">(None, 392, 392, 64)</text>\n</g>\n<!-- 136615167739840&#45;&gt;136615130741776 -->\n<g id=\"edge34\" class=\"edge\">\n<title>136615167739840-&gt;136615130741776</title>\n<path fill=\"none\" stroke=\"black\" d=\"M871.96,-2407.42C884.48,-2396.96 899.07,-2383.94 911,-2371 932.71,-2347.45 954.11,-2317.94 968.98,-2296.12\"/>\n<polygon fill=\"black\" stroke=\"black\" points=\"972.05,-2297.82 974.74,-2287.58 966.25,-2293.91 972.05,-2297.82\"/>\n</g>\n<!-- 136615167595648 -->\n<g id=\"node5\" class=\"node\">\n<title>136615167595648</title>\n<polygon fill=\"none\" stroke=\"black\" points=\"568.5,-2241.5 568.5,-2287.5 831.5,-2287.5 831.5,-2241.5 568.5,-2241.5\"/>\n<text text-anchor=\"middle\" x=\"603.5\" y=\"-2272.3\" font-family=\"Times,serif\" font-size=\"14.00\">conv2d_2</text>\n<polyline fill=\"none\" stroke=\"black\" points=\"568.5,-2264.5 638.5,-2264.5 \"/>\n<text text-anchor=\"middle\" x=\"603.5\" y=\"-2249.3\" font-family=\"Times,serif\" font-size=\"14.00\">Conv2D</text>\n<polyline fill=\"none\" stroke=\"black\" points=\"638.5,-2241.5 638.5,-2287.5 \"/>\n<text text-anchor=\"middle\" x=\"666\" y=\"-2272.3\" font-family=\"Times,serif\" font-size=\"14.00\">input:</text>\n<polyline fill=\"none\" stroke=\"black\" points=\"638.5,-2264.5 693.5,-2264.5 \"/>\n<text text-anchor=\"middle\" x=\"666\" y=\"-2249.3\" font-family=\"Times,serif\" font-size=\"14.00\">output:</text>\n<polyline fill=\"none\" stroke=\"black\" points=\"693.5,-2241.5 693.5,-2287.5 \"/>\n<text text-anchor=\"middle\" x=\"762.5\" y=\"-2272.3\" font-family=\"Times,serif\" font-size=\"14.00\">(None, 284, 284, 64)</text>\n<polyline fill=\"none\" stroke=\"black\" points=\"693.5,-2264.5 831.5,-2264.5 \"/>\n<text text-anchor=\"middle\" x=\"762.5\" y=\"-2249.3\" font-family=\"Times,serif\" font-size=\"14.00\">(None, 282, 282, 128)</text>\n</g>\n<!-- 136615167752704&#45;&gt;136615167595648 -->\n<g id=\"edge4\" class=\"edge\">\n<title>136615167752704-&gt;136615167595648</title>\n<path fill=\"none\" stroke=\"black\" d=\"M742.15,-2324.37C735.89,-2315.62 728.58,-2305.41 721.83,-2295.99\"/>\n<polygon fill=\"black\" stroke=\"black\" points=\"724.5,-2293.7 715.83,-2287.61 718.81,-2297.78 724.5,-2293.7\"/>\n</g>\n<!-- 136615167603808 -->\n<g id=\"node6\" class=\"node\">\n<title>136615167603808</title>\n<polygon fill=\"none\" stroke=\"black\" points=\"568.5,-2158.5 568.5,-2204.5 831.5,-2204.5 831.5,-2158.5 568.5,-2158.5\"/>\n<text text-anchor=\"middle\" x=\"603.5\" y=\"-2189.3\" font-family=\"Times,serif\" font-size=\"14.00\">conv2d_3</text>\n<polyline fill=\"none\" stroke=\"black\" points=\"568.5,-2181.5 638.5,-2181.5 \"/>\n<text text-anchor=\"middle\" x=\"603.5\" y=\"-2166.3\" font-family=\"Times,serif\" font-size=\"14.00\">Conv2D</text>\n<polyline fill=\"none\" stroke=\"black\" points=\"638.5,-2158.5 638.5,-2204.5 \"/>\n<text text-anchor=\"middle\" x=\"666\" y=\"-2189.3\" font-family=\"Times,serif\" font-size=\"14.00\">input:</text>\n<polyline fill=\"none\" stroke=\"black\" points=\"638.5,-2181.5 693.5,-2181.5 \"/>\n<text text-anchor=\"middle\" x=\"666\" y=\"-2166.3\" font-family=\"Times,serif\" font-size=\"14.00\">output:</text>\n<polyline fill=\"none\" stroke=\"black\" points=\"693.5,-2158.5 693.5,-2204.5 \"/>\n<text text-anchor=\"middle\" x=\"762.5\" y=\"-2189.3\" font-family=\"Times,serif\" font-size=\"14.00\">(None, 282, 282, 128)</text>\n<polyline fill=\"none\" stroke=\"black\" points=\"693.5,-2181.5 831.5,-2181.5 \"/>\n<text text-anchor=\"middle\" x=\"762.5\" y=\"-2166.3\" font-family=\"Times,serif\" font-size=\"14.00\">(None, 280, 280, 128)</text>\n</g>\n<!-- 136615167595648&#45;&gt;136615167603808 -->\n<g id=\"edge5\" class=\"edge\">\n<title>136615167595648-&gt;136615167603808</title>\n<path fill=\"none\" stroke=\"black\" d=\"M700,-2241.37C700,-2233.15 700,-2223.66 700,-2214.73\"/>\n<polygon fill=\"black\" stroke=\"black\" points=\"703.5,-2214.61 700,-2204.61 696.5,-2214.61 703.5,-2214.61\"/>\n</g>\n<!-- 136615167738784 -->\n<g id=\"node7\" class=\"node\">\n<title>136615167738784</title>\n<polygon fill=\"none\" stroke=\"black\" points=\"368.5,-2075.5 368.5,-2121.5 677.5,-2121.5 677.5,-2075.5 368.5,-2075.5\"/>\n<text text-anchor=\"middle\" x=\"426.5\" y=\"-2106.3\" font-family=\"Times,serif\" font-size=\"14.00\">max_pooling2d_1</text>\n<polyline fill=\"none\" stroke=\"black\" points=\"368.5,-2098.5 484.5,-2098.5 \"/>\n<text text-anchor=\"middle\" x=\"426.5\" y=\"-2083.3\" font-family=\"Times,serif\" font-size=\"14.00\">MaxPooling2D</text>\n<polyline fill=\"none\" stroke=\"black\" points=\"484.5,-2075.5 484.5,-2121.5 \"/>\n<text text-anchor=\"middle\" x=\"512\" y=\"-2106.3\" font-family=\"Times,serif\" font-size=\"14.00\">input:</text>\n<polyline fill=\"none\" stroke=\"black\" points=\"484.5,-2098.5 539.5,-2098.5 \"/>\n<text text-anchor=\"middle\" x=\"512\" y=\"-2083.3\" font-family=\"Times,serif\" font-size=\"14.00\">output:</text>\n<polyline fill=\"none\" stroke=\"black\" points=\"539.5,-2075.5 539.5,-2121.5 \"/>\n<text text-anchor=\"middle\" x=\"608.5\" y=\"-2106.3\" font-family=\"Times,serif\" font-size=\"14.00\">(None, 280, 280, 128)</text>\n<polyline fill=\"none\" stroke=\"black\" points=\"539.5,-2098.5 677.5,-2098.5 \"/>\n<text text-anchor=\"middle\" x=\"608.5\" y=\"-2083.3\" font-family=\"Times,serif\" font-size=\"14.00\">(None, 140, 140, 128)</text>\n</g>\n<!-- 136615167603808&#45;&gt;136615167738784 -->\n<g id=\"edge6\" class=\"edge\">\n<title>136615167603808-&gt;136615167738784</title>\n<path fill=\"none\" stroke=\"black\" d=\"M651.63,-2158.37C629.68,-2148.32 603.55,-2136.36 580.6,-2125.86\"/>\n<polygon fill=\"black\" stroke=\"black\" points=\"581.86,-2122.59 571.31,-2121.61 578.94,-2128.95 581.86,-2122.59\"/>\n</g>\n<!-- 136615130463632 -->\n<g id=\"node27\" class=\"node\">\n<title>136615130463632</title>\n<polygon fill=\"none\" stroke=\"black\" points=\"644.5,-1992.5 644.5,-2038.5 929.5,-2038.5 929.5,-1992.5 644.5,-1992.5\"/>\n<text text-anchor=\"middle\" x=\"690.5\" y=\"-2023.3\" font-family=\"Times,serif\" font-size=\"14.00\">cropping2d_2</text>\n<polyline fill=\"none\" stroke=\"black\" points=\"644.5,-2015.5 736.5,-2015.5 \"/>\n<text text-anchor=\"middle\" x=\"690.5\" y=\"-2000.3\" font-family=\"Times,serif\" font-size=\"14.00\">Cropping2D</text>\n<polyline fill=\"none\" stroke=\"black\" points=\"736.5,-1992.5 736.5,-2038.5 \"/>\n<text text-anchor=\"middle\" x=\"764\" y=\"-2023.3\" font-family=\"Times,serif\" font-size=\"14.00\">input:</text>\n<polyline fill=\"none\" stroke=\"black\" points=\"736.5,-2015.5 791.5,-2015.5 \"/>\n<text text-anchor=\"middle\" x=\"764\" y=\"-2000.3\" font-family=\"Times,serif\" font-size=\"14.00\">output:</text>\n<polyline fill=\"none\" stroke=\"black\" points=\"791.5,-1992.5 791.5,-2038.5 \"/>\n<text text-anchor=\"middle\" x=\"860.5\" y=\"-2023.3\" font-family=\"Times,serif\" font-size=\"14.00\">(None, 280, 280, 128)</text>\n<polyline fill=\"none\" stroke=\"black\" points=\"791.5,-2015.5 929.5,-2015.5 \"/>\n<text text-anchor=\"middle\" x=\"860.5\" y=\"-2000.3\" font-family=\"Times,serif\" font-size=\"14.00\">(None, 200, 200, 128)</text>\n</g>\n<!-- 136615167603808&#45;&gt;136615130463632 -->\n<g id=\"edge28\" class=\"edge\">\n<title>136615167603808-&gt;136615130463632</title>\n<path fill=\"none\" stroke=\"black\" d=\"M711.73,-2158.38C726.89,-2129.81 753.35,-2079.92 770.52,-2047.56\"/>\n<polygon fill=\"black\" stroke=\"black\" points=\"773.72,-2049 775.31,-2038.53 767.54,-2045.72 773.72,-2049\"/>\n</g>\n<!-- 136615167595024 -->\n<g id=\"node8\" class=\"node\">\n<title>136615167595024</title>\n<polygon fill=\"none\" stroke=\"black\" points=\"363.5,-1992.5 363.5,-2038.5 626.5,-2038.5 626.5,-1992.5 363.5,-1992.5\"/>\n<text text-anchor=\"middle\" x=\"398.5\" y=\"-2023.3\" font-family=\"Times,serif\" font-size=\"14.00\">conv2d_4</text>\n<polyline fill=\"none\" stroke=\"black\" points=\"363.5,-2015.5 433.5,-2015.5 \"/>\n<text text-anchor=\"middle\" x=\"398.5\" y=\"-2000.3\" font-family=\"Times,serif\" font-size=\"14.00\">Conv2D</text>\n<polyline fill=\"none\" stroke=\"black\" points=\"433.5,-1992.5 433.5,-2038.5 \"/>\n<text text-anchor=\"middle\" x=\"461\" y=\"-2023.3\" font-family=\"Times,serif\" font-size=\"14.00\">input:</text>\n<polyline fill=\"none\" stroke=\"black\" points=\"433.5,-2015.5 488.5,-2015.5 \"/>\n<text text-anchor=\"middle\" x=\"461\" y=\"-2000.3\" font-family=\"Times,serif\" font-size=\"14.00\">output:</text>\n<polyline fill=\"none\" stroke=\"black\" points=\"488.5,-1992.5 488.5,-2038.5 \"/>\n<text text-anchor=\"middle\" x=\"557.5\" y=\"-2023.3\" font-family=\"Times,serif\" font-size=\"14.00\">(None, 140, 140, 128)</text>\n<polyline fill=\"none\" stroke=\"black\" points=\"488.5,-2015.5 626.5,-2015.5 \"/>\n<text text-anchor=\"middle\" x=\"557.5\" y=\"-2000.3\" font-family=\"Times,serif\" font-size=\"14.00\">(None, 138, 138, 256)</text>\n</g>\n<!-- 136615167738784&#45;&gt;136615167595024 -->\n<g id=\"edge7\" class=\"edge\">\n<title>136615167738784-&gt;136615167595024</title>\n<path fill=\"none\" stroke=\"black\" d=\"M515.35,-2075.37C512.45,-2066.97 509.08,-2057.24 505.94,-2048.14\"/>\n<polygon fill=\"black\" stroke=\"black\" points=\"509.22,-2046.91 502.64,-2038.61 502.6,-2049.2 509.22,-2046.91\"/>\n</g>\n<!-- 136615167600928 -->\n<g id=\"node9\" class=\"node\">\n<title>136615167600928</title>\n<polygon fill=\"none\" stroke=\"black\" points=\"363.5,-1909.5 363.5,-1955.5 626.5,-1955.5 626.5,-1909.5 363.5,-1909.5\"/>\n<text text-anchor=\"middle\" x=\"398.5\" y=\"-1940.3\" font-family=\"Times,serif\" font-size=\"14.00\">conv2d_5</text>\n<polyline fill=\"none\" stroke=\"black\" points=\"363.5,-1932.5 433.5,-1932.5 \"/>\n<text text-anchor=\"middle\" x=\"398.5\" y=\"-1917.3\" font-family=\"Times,serif\" font-size=\"14.00\">Conv2D</text>\n<polyline fill=\"none\" stroke=\"black\" points=\"433.5,-1909.5 433.5,-1955.5 \"/>\n<text text-anchor=\"middle\" x=\"461\" y=\"-1940.3\" font-family=\"Times,serif\" font-size=\"14.00\">input:</text>\n<polyline fill=\"none\" stroke=\"black\" points=\"433.5,-1932.5 488.5,-1932.5 \"/>\n<text text-anchor=\"middle\" x=\"461\" y=\"-1917.3\" font-family=\"Times,serif\" font-size=\"14.00\">output:</text>\n<polyline fill=\"none\" stroke=\"black\" points=\"488.5,-1909.5 488.5,-1955.5 \"/>\n<text text-anchor=\"middle\" x=\"557.5\" y=\"-1940.3\" font-family=\"Times,serif\" font-size=\"14.00\">(None, 138, 138, 256)</text>\n<polyline fill=\"none\" stroke=\"black\" points=\"488.5,-1932.5 626.5,-1932.5 \"/>\n<text text-anchor=\"middle\" x=\"557.5\" y=\"-1917.3\" font-family=\"Times,serif\" font-size=\"14.00\">(None, 136, 136, 256)</text>\n</g>\n<!-- 136615167595024&#45;&gt;136615167600928 -->\n<g id=\"edge8\" class=\"edge\">\n<title>136615167595024-&gt;136615167600928</title>\n<path fill=\"none\" stroke=\"black\" d=\"M495,-1992.37C495,-1984.15 495,-1974.66 495,-1965.73\"/>\n<polygon fill=\"black\" stroke=\"black\" points=\"498.5,-1965.61 495,-1955.61 491.5,-1965.61 498.5,-1965.61\"/>\n</g>\n<!-- 136615167741040 -->\n<g id=\"node10\" class=\"node\">\n<title>136615167741040</title>\n<polygon fill=\"none\" stroke=\"black\" points=\"166.5,-1826.5 166.5,-1872.5 475.5,-1872.5 475.5,-1826.5 166.5,-1826.5\"/>\n<text text-anchor=\"middle\" x=\"224.5\" y=\"-1857.3\" font-family=\"Times,serif\" font-size=\"14.00\">max_pooling2d_2</text>\n<polyline fill=\"none\" stroke=\"black\" points=\"166.5,-1849.5 282.5,-1849.5 \"/>\n<text text-anchor=\"middle\" x=\"224.5\" y=\"-1834.3\" font-family=\"Times,serif\" font-size=\"14.00\">MaxPooling2D</text>\n<polyline fill=\"none\" stroke=\"black\" points=\"282.5,-1826.5 282.5,-1872.5 \"/>\n<text text-anchor=\"middle\" x=\"310\" y=\"-1857.3\" font-family=\"Times,serif\" font-size=\"14.00\">input:</text>\n<polyline fill=\"none\" stroke=\"black\" points=\"282.5,-1849.5 337.5,-1849.5 \"/>\n<text text-anchor=\"middle\" x=\"310\" y=\"-1834.3\" font-family=\"Times,serif\" font-size=\"14.00\">output:</text>\n<polyline fill=\"none\" stroke=\"black\" points=\"337.5,-1826.5 337.5,-1872.5 \"/>\n<text text-anchor=\"middle\" x=\"406.5\" y=\"-1857.3\" font-family=\"Times,serif\" font-size=\"14.00\">(None, 136, 136, 256)</text>\n<polyline fill=\"none\" stroke=\"black\" points=\"337.5,-1849.5 475.5,-1849.5 \"/>\n<text text-anchor=\"middle\" x=\"406.5\" y=\"-1834.3\" font-family=\"Times,serif\" font-size=\"14.00\">(None, 68, 68, 256)</text>\n</g>\n<!-- 136615167600928&#45;&gt;136615167741040 -->\n<g id=\"edge9\" class=\"edge\">\n<title>136615167600928-&gt;136615167741040</title>\n<path fill=\"none\" stroke=\"black\" d=\"M447.45,-1909.37C425.88,-1899.32 400.19,-1887.36 377.62,-1876.86\"/>\n<polygon fill=\"black\" stroke=\"black\" points=\"379.03,-1873.65 368.49,-1872.61 376.08,-1880 379.03,-1873.65\"/>\n</g>\n<!-- 136615130455472 -->\n<g id=\"node22\" class=\"node\">\n<title>136615130455472</title>\n<polygon fill=\"none\" stroke=\"black\" points=\"438.5,-1743.5 438.5,-1789.5 723.5,-1789.5 723.5,-1743.5 438.5,-1743.5\"/>\n<text text-anchor=\"middle\" x=\"484.5\" y=\"-1774.3\" font-family=\"Times,serif\" font-size=\"14.00\">cropping2d_1</text>\n<polyline fill=\"none\" stroke=\"black\" points=\"438.5,-1766.5 530.5,-1766.5 \"/>\n<text text-anchor=\"middle\" x=\"484.5\" y=\"-1751.3\" font-family=\"Times,serif\" font-size=\"14.00\">Cropping2D</text>\n<polyline fill=\"none\" stroke=\"black\" points=\"530.5,-1743.5 530.5,-1789.5 \"/>\n<text text-anchor=\"middle\" x=\"558\" y=\"-1774.3\" font-family=\"Times,serif\" font-size=\"14.00\">input:</text>\n<polyline fill=\"none\" stroke=\"black\" points=\"530.5,-1766.5 585.5,-1766.5 \"/>\n<text text-anchor=\"middle\" x=\"558\" y=\"-1751.3\" font-family=\"Times,serif\" font-size=\"14.00\">output:</text>\n<polyline fill=\"none\" stroke=\"black\" points=\"585.5,-1743.5 585.5,-1789.5 \"/>\n<text text-anchor=\"middle\" x=\"654.5\" y=\"-1774.3\" font-family=\"Times,serif\" font-size=\"14.00\">(None, 136, 136, 256)</text>\n<polyline fill=\"none\" stroke=\"black\" points=\"585.5,-1766.5 723.5,-1766.5 \"/>\n<text text-anchor=\"middle\" x=\"654.5\" y=\"-1751.3\" font-family=\"Times,serif\" font-size=\"14.00\">(None, 104, 104, 256)</text>\n</g>\n<!-- 136615167600928&#45;&gt;136615130455472 -->\n<g id=\"edge22\" class=\"edge\">\n<title>136615167600928-&gt;136615130455472</title>\n<path fill=\"none\" stroke=\"black\" d=\"M506.6,-1909.38C521.58,-1880.81 547.74,-1830.92 564.71,-1798.56\"/>\n<polygon fill=\"black\" stroke=\"black\" points=\"567.9,-1800.01 569.45,-1789.53 561.7,-1796.76 567.9,-1800.01\"/>\n</g>\n<!-- 136615130366352 -->\n<g id=\"node11\" class=\"node\">\n<title>136615130366352</title>\n<polygon fill=\"none\" stroke=\"black\" points=\"170,-1743.5 170,-1789.5 420,-1789.5 420,-1743.5 170,-1743.5\"/>\n<text text-anchor=\"middle\" x=\"205\" y=\"-1774.3\" font-family=\"Times,serif\" font-size=\"14.00\">conv2d_6</text>\n<polyline fill=\"none\" stroke=\"black\" points=\"170,-1766.5 240,-1766.5 \"/>\n<text text-anchor=\"middle\" x=\"205\" y=\"-1751.3\" font-family=\"Times,serif\" font-size=\"14.00\">Conv2D</text>\n<polyline fill=\"none\" stroke=\"black\" points=\"240,-1743.5 240,-1789.5 \"/>\n<text text-anchor=\"middle\" x=\"267.5\" y=\"-1774.3\" font-family=\"Times,serif\" font-size=\"14.00\">input:</text>\n<polyline fill=\"none\" stroke=\"black\" points=\"240,-1766.5 295,-1766.5 \"/>\n<text text-anchor=\"middle\" x=\"267.5\" y=\"-1751.3\" font-family=\"Times,serif\" font-size=\"14.00\">output:</text>\n<polyline fill=\"none\" stroke=\"black\" points=\"295,-1743.5 295,-1789.5 \"/>\n<text text-anchor=\"middle\" x=\"357.5\" y=\"-1774.3\" font-family=\"Times,serif\" font-size=\"14.00\">(None, 68, 68, 256)</text>\n<polyline fill=\"none\" stroke=\"black\" points=\"295,-1766.5 420,-1766.5 \"/>\n<text text-anchor=\"middle\" x=\"357.5\" y=\"-1751.3\" font-family=\"Times,serif\" font-size=\"14.00\">(None, 66, 66, 512)</text>\n</g>\n<!-- 136615167741040&#45;&gt;136615130366352 -->\n<g id=\"edge10\" class=\"edge\">\n<title>136615167741040-&gt;136615130366352</title>\n<path fill=\"none\" stroke=\"black\" d=\"M313.9,-1826.37C311.2,-1817.97 308.08,-1808.24 305.16,-1799.14\"/>\n<polygon fill=\"black\" stroke=\"black\" points=\"308.48,-1798.06 302.1,-1789.61 301.82,-1800.2 308.48,-1798.06\"/>\n</g>\n<!-- 136615130372880 -->\n<g id=\"node12\" class=\"node\">\n<title>136615130372880</title>\n<polygon fill=\"none\" stroke=\"black\" points=\"170,-1660.5 170,-1706.5 420,-1706.5 420,-1660.5 170,-1660.5\"/>\n<text text-anchor=\"middle\" x=\"205\" y=\"-1691.3\" font-family=\"Times,serif\" font-size=\"14.00\">conv2d_7</text>\n<polyline fill=\"none\" stroke=\"black\" points=\"170,-1683.5 240,-1683.5 \"/>\n<text text-anchor=\"middle\" x=\"205\" y=\"-1668.3\" font-family=\"Times,serif\" font-size=\"14.00\">Conv2D</text>\n<polyline fill=\"none\" stroke=\"black\" points=\"240,-1660.5 240,-1706.5 \"/>\n<text text-anchor=\"middle\" x=\"267.5\" y=\"-1691.3\" font-family=\"Times,serif\" font-size=\"14.00\">input:</text>\n<polyline fill=\"none\" stroke=\"black\" points=\"240,-1683.5 295,-1683.5 \"/>\n<text text-anchor=\"middle\" x=\"267.5\" y=\"-1668.3\" font-family=\"Times,serif\" font-size=\"14.00\">output:</text>\n<polyline fill=\"none\" stroke=\"black\" points=\"295,-1660.5 295,-1706.5 \"/>\n<text text-anchor=\"middle\" x=\"357.5\" y=\"-1691.3\" font-family=\"Times,serif\" font-size=\"14.00\">(None, 66, 66, 512)</text>\n<polyline fill=\"none\" stroke=\"black\" points=\"295,-1683.5 420,-1683.5 \"/>\n<text text-anchor=\"middle\" x=\"357.5\" y=\"-1668.3\" font-family=\"Times,serif\" font-size=\"14.00\">(None, 64, 64, 512)</text>\n</g>\n<!-- 136615130366352&#45;&gt;136615130372880 -->\n<g id=\"edge11\" class=\"edge\">\n<title>136615130366352-&gt;136615130372880</title>\n<path fill=\"none\" stroke=\"black\" d=\"M295,-1743.37C295,-1735.15 295,-1725.66 295,-1716.73\"/>\n<polygon fill=\"black\" stroke=\"black\" points=\"298.5,-1716.61 295,-1706.61 291.5,-1716.61 298.5,-1716.61\"/>\n</g>\n<!-- 136617517495440 -->\n<g id=\"node13\" class=\"node\">\n<title>136617517495440</title>\n<polygon fill=\"none\" stroke=\"black\" points=\"6,-1577.5 6,-1623.5 302,-1623.5 302,-1577.5 6,-1577.5\"/>\n<text text-anchor=\"middle\" x=\"64\" y=\"-1608.3\" font-family=\"Times,serif\" font-size=\"14.00\">max_pooling2d_3</text>\n<polyline fill=\"none\" stroke=\"black\" points=\"6,-1600.5 122,-1600.5 \"/>\n<text text-anchor=\"middle\" x=\"64\" y=\"-1585.3\" font-family=\"Times,serif\" font-size=\"14.00\">MaxPooling2D</text>\n<polyline fill=\"none\" stroke=\"black\" points=\"122,-1577.5 122,-1623.5 \"/>\n<text text-anchor=\"middle\" x=\"149.5\" y=\"-1608.3\" font-family=\"Times,serif\" font-size=\"14.00\">input:</text>\n<polyline fill=\"none\" stroke=\"black\" points=\"122,-1600.5 177,-1600.5 \"/>\n<text text-anchor=\"middle\" x=\"149.5\" y=\"-1585.3\" font-family=\"Times,serif\" font-size=\"14.00\">output:</text>\n<polyline fill=\"none\" stroke=\"black\" points=\"177,-1577.5 177,-1623.5 \"/>\n<text text-anchor=\"middle\" x=\"239.5\" y=\"-1608.3\" font-family=\"Times,serif\" font-size=\"14.00\">(None, 64, 64, 512)</text>\n<polyline fill=\"none\" stroke=\"black\" points=\"177,-1600.5 302,-1600.5 \"/>\n<text text-anchor=\"middle\" x=\"239.5\" y=\"-1585.3\" font-family=\"Times,serif\" font-size=\"14.00\">(None, 32, 32, 512)</text>\n</g>\n<!-- 136615130372880&#45;&gt;136617517495440 -->\n<g id=\"edge12\" class=\"edge\">\n<title>136615130372880-&gt;136617517495440</title>\n<path fill=\"none\" stroke=\"black\" d=\"M256.47,-1660.37C239.53,-1650.63 219.46,-1639.11 201.6,-1628.84\"/>\n<polygon fill=\"black\" stroke=\"black\" points=\"202.9,-1625.55 192.48,-1623.61 199.41,-1631.62 202.9,-1625.55\"/>\n</g>\n<!-- 136615130380704 -->\n<g id=\"node17\" class=\"node\">\n<title>136615130380704</title>\n<polygon fill=\"none\" stroke=\"black\" points=\"274,-1494.5 274,-1540.5 538,-1540.5 538,-1494.5 274,-1494.5\"/>\n<text text-anchor=\"middle\" x=\"316\" y=\"-1525.3\" font-family=\"Times,serif\" font-size=\"14.00\">cropping2d</text>\n<polyline fill=\"none\" stroke=\"black\" points=\"274,-1517.5 358,-1517.5 \"/>\n<text text-anchor=\"middle\" x=\"316\" y=\"-1502.3\" font-family=\"Times,serif\" font-size=\"14.00\">Cropping2D</text>\n<polyline fill=\"none\" stroke=\"black\" points=\"358,-1494.5 358,-1540.5 \"/>\n<text text-anchor=\"middle\" x=\"385.5\" y=\"-1525.3\" font-family=\"Times,serif\" font-size=\"14.00\">input:</text>\n<polyline fill=\"none\" stroke=\"black\" points=\"358,-1517.5 413,-1517.5 \"/>\n<text text-anchor=\"middle\" x=\"385.5\" y=\"-1502.3\" font-family=\"Times,serif\" font-size=\"14.00\">output:</text>\n<polyline fill=\"none\" stroke=\"black\" points=\"413,-1494.5 413,-1540.5 \"/>\n<text text-anchor=\"middle\" x=\"475.5\" y=\"-1525.3\" font-family=\"Times,serif\" font-size=\"14.00\">(None, 64, 64, 512)</text>\n<polyline fill=\"none\" stroke=\"black\" points=\"413,-1517.5 538,-1517.5 \"/>\n<text text-anchor=\"middle\" x=\"475.5\" y=\"-1502.3\" font-family=\"Times,serif\" font-size=\"14.00\">(None, 56, 56, 512)</text>\n</g>\n<!-- 136615130372880&#45;&gt;136615130380704 -->\n<g id=\"edge16\" class=\"edge\">\n<title>136615130372880-&gt;136615130380704</title>\n<path fill=\"none\" stroke=\"black\" d=\"M309.97,-1660.38C329.39,-1631.69 363.36,-1581.5 385.26,-1549.15\"/>\n<polygon fill=\"black\" stroke=\"black\" points=\"388.38,-1550.77 391.09,-1540.53 382.59,-1546.85 388.38,-1550.77\"/>\n</g>\n<!-- 136615130376192 -->\n<g id=\"node14\" class=\"node\">\n<title>136615130376192</title>\n<polygon fill=\"none\" stroke=\"black\" points=\"0,-1494.5 0,-1540.5 256,-1540.5 256,-1494.5 0,-1494.5\"/>\n<text text-anchor=\"middle\" x=\"35\" y=\"-1525.3\" font-family=\"Times,serif\" font-size=\"14.00\">conv2d_8</text>\n<polyline fill=\"none\" stroke=\"black\" points=\"0,-1517.5 70,-1517.5 \"/>\n<text text-anchor=\"middle\" x=\"35\" y=\"-1502.3\" font-family=\"Times,serif\" font-size=\"14.00\">Conv2D</text>\n<polyline fill=\"none\" stroke=\"black\" points=\"70,-1494.5 70,-1540.5 \"/>\n<text text-anchor=\"middle\" x=\"97.5\" y=\"-1525.3\" font-family=\"Times,serif\" font-size=\"14.00\">input:</text>\n<polyline fill=\"none\" stroke=\"black\" points=\"70,-1517.5 125,-1517.5 \"/>\n<text text-anchor=\"middle\" x=\"97.5\" y=\"-1502.3\" font-family=\"Times,serif\" font-size=\"14.00\">output:</text>\n<polyline fill=\"none\" stroke=\"black\" points=\"125,-1494.5 125,-1540.5 \"/>\n<text text-anchor=\"middle\" x=\"190.5\" y=\"-1525.3\" font-family=\"Times,serif\" font-size=\"14.00\">(None, 32, 32, 512)</text>\n<polyline fill=\"none\" stroke=\"black\" points=\"125,-1517.5 256,-1517.5 \"/>\n<text text-anchor=\"middle\" x=\"190.5\" y=\"-1502.3\" font-family=\"Times,serif\" font-size=\"14.00\">(None, 30, 30, 1024)</text>\n</g>\n<!-- 136617517495440&#45;&gt;136615130376192 -->\n<g id=\"edge13\" class=\"edge\">\n<title>136617517495440-&gt;136615130376192</title>\n<path fill=\"none\" stroke=\"black\" d=\"M146.9,-1577.37C144.2,-1568.97 141.08,-1559.24 138.16,-1550.14\"/>\n<polygon fill=\"black\" stroke=\"black\" points=\"141.48,-1549.06 135.1,-1540.61 134.82,-1551.2 141.48,-1549.06\"/>\n</g>\n<!-- 136615130381088 -->\n<g id=\"node15\" class=\"node\">\n<title>136615130381088</title>\n<polygon fill=\"none\" stroke=\"black\" points=\"33,-1411.5 33,-1457.5 289,-1457.5 289,-1411.5 33,-1411.5\"/>\n<text text-anchor=\"middle\" x=\"68\" y=\"-1442.3\" font-family=\"Times,serif\" font-size=\"14.00\">conv2d_9</text>\n<polyline fill=\"none\" stroke=\"black\" points=\"33,-1434.5 103,-1434.5 \"/>\n<text text-anchor=\"middle\" x=\"68\" y=\"-1419.3\" font-family=\"Times,serif\" font-size=\"14.00\">Conv2D</text>\n<polyline fill=\"none\" stroke=\"black\" points=\"103,-1411.5 103,-1457.5 \"/>\n<text text-anchor=\"middle\" x=\"130.5\" y=\"-1442.3\" font-family=\"Times,serif\" font-size=\"14.00\">input:</text>\n<polyline fill=\"none\" stroke=\"black\" points=\"103,-1434.5 158,-1434.5 \"/>\n<text text-anchor=\"middle\" x=\"130.5\" y=\"-1419.3\" font-family=\"Times,serif\" font-size=\"14.00\">output:</text>\n<polyline fill=\"none\" stroke=\"black\" points=\"158,-1411.5 158,-1457.5 \"/>\n<text text-anchor=\"middle\" x=\"223.5\" y=\"-1442.3\" font-family=\"Times,serif\" font-size=\"14.00\">(None, 30, 30, 1024)</text>\n<polyline fill=\"none\" stroke=\"black\" points=\"158,-1434.5 289,-1434.5 \"/>\n<text text-anchor=\"middle\" x=\"223.5\" y=\"-1419.3\" font-family=\"Times,serif\" font-size=\"14.00\">(None, 28, 28, 1024)</text>\n</g>\n<!-- 136615130376192&#45;&gt;136615130381088 -->\n<g id=\"edge14\" class=\"edge\">\n<title>136615130376192-&gt;136615130381088</title>\n<path fill=\"none\" stroke=\"black\" d=\"M137.02,-1494.37C140.44,-1485.97 144.4,-1476.24 148.11,-1467.14\"/>\n<polygon fill=\"black\" stroke=\"black\" points=\"151.46,-1468.19 151.99,-1457.61 144.98,-1465.55 151.46,-1468.19\"/>\n</g>\n<!-- 136615130381280 -->\n<g id=\"node16\" class=\"node\">\n<title>136615130381280</title>\n<polygon fill=\"none\" stroke=\"black\" points=\"34,-1328.5 34,-1374.5 338,-1374.5 338,-1328.5 34,-1328.5\"/>\n<text text-anchor=\"middle\" x=\"93\" y=\"-1359.3\" font-family=\"Times,serif\" font-size=\"14.00\">conv2d_transpose</text>\n<polyline fill=\"none\" stroke=\"black\" points=\"34,-1351.5 152,-1351.5 \"/>\n<text text-anchor=\"middle\" x=\"93\" y=\"-1336.3\" font-family=\"Times,serif\" font-size=\"14.00\">Conv2DTranspose</text>\n<polyline fill=\"none\" stroke=\"black\" points=\"152,-1328.5 152,-1374.5 \"/>\n<text text-anchor=\"middle\" x=\"179.5\" y=\"-1359.3\" font-family=\"Times,serif\" font-size=\"14.00\">input:</text>\n<polyline fill=\"none\" stroke=\"black\" points=\"152,-1351.5 207,-1351.5 \"/>\n<text text-anchor=\"middle\" x=\"179.5\" y=\"-1336.3\" font-family=\"Times,serif\" font-size=\"14.00\">output:</text>\n<polyline fill=\"none\" stroke=\"black\" points=\"207,-1328.5 207,-1374.5 \"/>\n<text text-anchor=\"middle\" x=\"272.5\" y=\"-1359.3\" font-family=\"Times,serif\" font-size=\"14.00\">(None, 28, 28, 1024)</text>\n<polyline fill=\"none\" stroke=\"black\" points=\"207,-1351.5 338,-1351.5 \"/>\n<text text-anchor=\"middle\" x=\"272.5\" y=\"-1336.3\" font-family=\"Times,serif\" font-size=\"14.00\">(None, 56, 56, 512)</text>\n</g>\n<!-- 136615130381088&#45;&gt;136615130381280 -->\n<g id=\"edge15\" class=\"edge\">\n<title>136615130381088-&gt;136615130381280</title>\n<path fill=\"none\" stroke=\"black\" d=\"M167.83,-1411.37C170.39,-1403.06 173.36,-1393.45 176.14,-1384.43\"/>\n<polygon fill=\"black\" stroke=\"black\" points=\"179.57,-1385.19 179.18,-1374.61 172.88,-1383.13 179.57,-1385.19\"/>\n</g>\n<!-- 136615167599488 -->\n<g id=\"node18\" class=\"node\">\n<title>136615167599488</title>\n<polygon fill=\"none\" stroke=\"black\" points=\"165.5,-1245.5 165.5,-1291.5 552.5,-1291.5 552.5,-1245.5 165.5,-1245.5\"/>\n<text text-anchor=\"middle\" x=\"207\" y=\"-1276.3\" font-family=\"Times,serif\" font-size=\"14.00\">concatenate</text>\n<polyline fill=\"none\" stroke=\"black\" points=\"165.5,-1268.5 248.5,-1268.5 \"/>\n<text text-anchor=\"middle\" x=\"207\" y=\"-1253.3\" font-family=\"Times,serif\" font-size=\"14.00\">Concatenate</text>\n<polyline fill=\"none\" stroke=\"black\" points=\"248.5,-1245.5 248.5,-1291.5 \"/>\n<text text-anchor=\"middle\" x=\"276\" y=\"-1276.3\" font-family=\"Times,serif\" font-size=\"14.00\">input:</text>\n<polyline fill=\"none\" stroke=\"black\" points=\"248.5,-1268.5 303.5,-1268.5 \"/>\n<text text-anchor=\"middle\" x=\"276\" y=\"-1253.3\" font-family=\"Times,serif\" font-size=\"14.00\">output:</text>\n<polyline fill=\"none\" stroke=\"black\" points=\"303.5,-1245.5 303.5,-1291.5 \"/>\n<text text-anchor=\"middle\" x=\"428\" y=\"-1276.3\" font-family=\"Times,serif\" font-size=\"14.00\">[(None, 56, 56, 512), (None, 56, 56, 512)]</text>\n<polyline fill=\"none\" stroke=\"black\" points=\"303.5,-1268.5 552.5,-1268.5 \"/>\n<text text-anchor=\"middle\" x=\"428\" y=\"-1253.3\" font-family=\"Times,serif\" font-size=\"14.00\">(None, 56, 56, 1024)</text>\n</g>\n<!-- 136615130381280&#45;&gt;136615167599488 -->\n<g id=\"edge17\" class=\"edge\">\n<title>136615130381280-&gt;136615167599488</title>\n<path fill=\"none\" stroke=\"black\" d=\"M233.27,-1328.37C254.73,-1318.32 280.27,-1306.36 302.71,-1295.86\"/>\n<polygon fill=\"black\" stroke=\"black\" points=\"304.21,-1299.02 311.78,-1291.61 301.24,-1292.68 304.21,-1299.02\"/>\n</g>\n<!-- 136615130380704&#45;&gt;136615167599488 -->\n<g id=\"edge18\" class=\"edge\">\n<title>136615130380704-&gt;136615167599488</title>\n<path fill=\"none\" stroke=\"black\" d=\"M401.75,-1494.14C393.39,-1450.24 374.81,-1352.61 365.13,-1301.74\"/>\n<polygon fill=\"black\" stroke=\"black\" points=\"368.52,-1300.8 363.21,-1291.63 361.64,-1302.1 368.52,-1300.8\"/>\n</g>\n<!-- 136615130460272 -->\n<g id=\"node19\" class=\"node\">\n<title>136615130460272</title>\n<polygon fill=\"none\" stroke=\"black\" points=\"243.5,-1162.5 243.5,-1208.5 506.5,-1208.5 506.5,-1162.5 243.5,-1162.5\"/>\n<text text-anchor=\"middle\" x=\"282\" y=\"-1193.3\" font-family=\"Times,serif\" font-size=\"14.00\">conv2d_10</text>\n<polyline fill=\"none\" stroke=\"black\" points=\"243.5,-1185.5 320.5,-1185.5 \"/>\n<text text-anchor=\"middle\" x=\"282\" y=\"-1170.3\" font-family=\"Times,serif\" font-size=\"14.00\">Conv2D</text>\n<polyline fill=\"none\" stroke=\"black\" points=\"320.5,-1162.5 320.5,-1208.5 \"/>\n<text text-anchor=\"middle\" x=\"348\" y=\"-1193.3\" font-family=\"Times,serif\" font-size=\"14.00\">input:</text>\n<polyline fill=\"none\" stroke=\"black\" points=\"320.5,-1185.5 375.5,-1185.5 \"/>\n<text text-anchor=\"middle\" x=\"348\" y=\"-1170.3\" font-family=\"Times,serif\" font-size=\"14.00\">output:</text>\n<polyline fill=\"none\" stroke=\"black\" points=\"375.5,-1162.5 375.5,-1208.5 \"/>\n<text text-anchor=\"middle\" x=\"441\" y=\"-1193.3\" font-family=\"Times,serif\" font-size=\"14.00\">(None, 56, 56, 1024)</text>\n<polyline fill=\"none\" stroke=\"black\" points=\"375.5,-1185.5 506.5,-1185.5 \"/>\n<text text-anchor=\"middle\" x=\"441\" y=\"-1170.3\" font-family=\"Times,serif\" font-size=\"14.00\">(None, 54, 54, 512)</text>\n</g>\n<!-- 136615167599488&#45;&gt;136615130460272 -->\n<g id=\"edge19\" class=\"edge\">\n<title>136615167599488-&gt;136615130460272</title>\n<path fill=\"none\" stroke=\"black\" d=\"M363.37,-1245.37C365.01,-1237.06 366.91,-1227.45 368.69,-1218.43\"/>\n<polygon fill=\"black\" stroke=\"black\" points=\"372.13,-1219.1 370.63,-1208.61 365.26,-1217.74 372.13,-1219.1\"/>\n</g>\n<!-- 136615130463536 -->\n<g id=\"node20\" class=\"node\">\n<title>136615130463536</title>\n<polygon fill=\"none\" stroke=\"black\" points=\"254.5,-1079.5 254.5,-1125.5 511.5,-1125.5 511.5,-1079.5 254.5,-1079.5\"/>\n<text text-anchor=\"middle\" x=\"293\" y=\"-1110.3\" font-family=\"Times,serif\" font-size=\"14.00\">conv2d_11</text>\n<polyline fill=\"none\" stroke=\"black\" points=\"254.5,-1102.5 331.5,-1102.5 \"/>\n<text text-anchor=\"middle\" x=\"293\" y=\"-1087.3\" font-family=\"Times,serif\" font-size=\"14.00\">Conv2D</text>\n<polyline fill=\"none\" stroke=\"black\" points=\"331.5,-1079.5 331.5,-1125.5 \"/>\n<text text-anchor=\"middle\" x=\"359\" y=\"-1110.3\" font-family=\"Times,serif\" font-size=\"14.00\">input:</text>\n<polyline fill=\"none\" stroke=\"black\" points=\"331.5,-1102.5 386.5,-1102.5 \"/>\n<text text-anchor=\"middle\" x=\"359\" y=\"-1087.3\" font-family=\"Times,serif\" font-size=\"14.00\">output:</text>\n<polyline fill=\"none\" stroke=\"black\" points=\"386.5,-1079.5 386.5,-1125.5 \"/>\n<text text-anchor=\"middle\" x=\"449\" y=\"-1110.3\" font-family=\"Times,serif\" font-size=\"14.00\">(None, 54, 54, 512)</text>\n<polyline fill=\"none\" stroke=\"black\" points=\"386.5,-1102.5 511.5,-1102.5 \"/>\n<text text-anchor=\"middle\" x=\"449\" y=\"-1087.3\" font-family=\"Times,serif\" font-size=\"14.00\">(None, 52, 52, 512)</text>\n</g>\n<!-- 136615130460272&#45;&gt;136615130463536 -->\n<g id=\"edge20\" class=\"edge\">\n<title>136615130460272-&gt;136615130463536</title>\n<path fill=\"none\" stroke=\"black\" d=\"M377.19,-1162.37C378,-1154.15 378.94,-1144.66 379.82,-1135.73\"/>\n<polygon fill=\"black\" stroke=\"black\" points=\"383.32,-1135.9 380.82,-1125.61 376.35,-1135.21 383.32,-1135.9\"/>\n</g>\n<!-- 136615130463728 -->\n<g id=\"node21\" class=\"node\">\n<title>136615130463728</title>\n<polygon fill=\"none\" stroke=\"black\" points=\"227.5,-996.5 227.5,-1042.5 548.5,-1042.5 548.5,-996.5 227.5,-996.5\"/>\n<text text-anchor=\"middle\" x=\"291.5\" y=\"-1027.3\" font-family=\"Times,serif\" font-size=\"14.00\">conv2d_transpose_1</text>\n<polyline fill=\"none\" stroke=\"black\" points=\"227.5,-1019.5 355.5,-1019.5 \"/>\n<text text-anchor=\"middle\" x=\"291.5\" y=\"-1004.3\" font-family=\"Times,serif\" font-size=\"14.00\">Conv2DTranspose</text>\n<polyline fill=\"none\" stroke=\"black\" points=\"355.5,-996.5 355.5,-1042.5 \"/>\n<text text-anchor=\"middle\" x=\"383\" y=\"-1027.3\" font-family=\"Times,serif\" font-size=\"14.00\">input:</text>\n<polyline fill=\"none\" stroke=\"black\" points=\"355.5,-1019.5 410.5,-1019.5 \"/>\n<text text-anchor=\"middle\" x=\"383\" y=\"-1004.3\" font-family=\"Times,serif\" font-size=\"14.00\">output:</text>\n<polyline fill=\"none\" stroke=\"black\" points=\"410.5,-996.5 410.5,-1042.5 \"/>\n<text text-anchor=\"middle\" x=\"479.5\" y=\"-1027.3\" font-family=\"Times,serif\" font-size=\"14.00\">(None, 52, 52, 512)</text>\n<polyline fill=\"none\" stroke=\"black\" points=\"410.5,-1019.5 548.5,-1019.5 \"/>\n<text text-anchor=\"middle\" x=\"479.5\" y=\"-1004.3\" font-family=\"Times,serif\" font-size=\"14.00\">(None, 104, 104, 256)</text>\n</g>\n<!-- 136615130463536&#45;&gt;136615130463728 -->\n<g id=\"edge21\" class=\"edge\">\n<title>136615130463536-&gt;136615130463728</title>\n<path fill=\"none\" stroke=\"black\" d=\"M384.37,-1079.37C384.87,-1071.15 385.46,-1061.66 386.01,-1052.73\"/>\n<polygon fill=\"black\" stroke=\"black\" points=\"389.51,-1052.8 386.64,-1042.61 382.53,-1052.37 389.51,-1052.8\"/>\n</g>\n<!-- 136615130455232 -->\n<g id=\"node23\" class=\"node\">\n<title>136615130455232</title>\n<polygon fill=\"none\" stroke=\"black\" points=\"333.5,-913.5 333.5,-959.5 758.5,-959.5 758.5,-913.5 333.5,-913.5\"/>\n<text text-anchor=\"middle\" x=\"380.5\" y=\"-944.3\" font-family=\"Times,serif\" font-size=\"14.00\">concatenate_1</text>\n<polyline fill=\"none\" stroke=\"black\" points=\"333.5,-936.5 427.5,-936.5 \"/>\n<text text-anchor=\"middle\" x=\"380.5\" y=\"-921.3\" font-family=\"Times,serif\" font-size=\"14.00\">Concatenate</text>\n<polyline fill=\"none\" stroke=\"black\" points=\"427.5,-913.5 427.5,-959.5 \"/>\n<text text-anchor=\"middle\" x=\"455\" y=\"-944.3\" font-family=\"Times,serif\" font-size=\"14.00\">input:</text>\n<polyline fill=\"none\" stroke=\"black\" points=\"427.5,-936.5 482.5,-936.5 \"/>\n<text text-anchor=\"middle\" x=\"455\" y=\"-921.3\" font-family=\"Times,serif\" font-size=\"14.00\">output:</text>\n<polyline fill=\"none\" stroke=\"black\" points=\"482.5,-913.5 482.5,-959.5 \"/>\n<text text-anchor=\"middle\" x=\"620.5\" y=\"-944.3\" font-family=\"Times,serif\" font-size=\"14.00\">[(None, 104, 104, 256), (None, 104, 104, 256)]</text>\n<polyline fill=\"none\" stroke=\"black\" points=\"482.5,-936.5 758.5,-936.5 \"/>\n<text text-anchor=\"middle\" x=\"620.5\" y=\"-921.3\" font-family=\"Times,serif\" font-size=\"14.00\">(None, 104, 104, 512)</text>\n</g>\n<!-- 136615130463728&#45;&gt;136615130455232 -->\n<g id=\"edge23\" class=\"edge\">\n<title>136615130463728-&gt;136615130455232</title>\n<path fill=\"none\" stroke=\"black\" d=\"M431.17,-996.37C450.51,-986.46 473.47,-974.68 493.76,-964.28\"/>\n<polygon fill=\"black\" stroke=\"black\" points=\"495.58,-967.28 502.88,-959.61 492.38,-961.05 495.58,-967.28\"/>\n</g>\n<!-- 136615130455472&#45;&gt;136615130455232 -->\n<g id=\"edge24\" class=\"edge\">\n<title>136615130455472-&gt;136615130455232</title>\n<path fill=\"none\" stroke=\"black\" d=\"M581,-1743.48C581,-1712.01 581,-1652.32 581,-1601.5 581,-1601.5 581,-1601.5 581,-1101.5 581,-1054.87 567.3,-1002.39 557.04,-969.64\"/>\n<polygon fill=\"black\" stroke=\"black\" points=\"560.25,-968.18 553.85,-959.73 553.59,-970.32 560.25,-968.18\"/>\n</g>\n<!-- 136615130654624 -->\n<g id=\"node24\" class=\"node\">\n<title>136615130654624</title>\n<polygon fill=\"none\" stroke=\"black\" points=\"418,-830.5 418,-876.5 688,-876.5 688,-830.5 418,-830.5\"/>\n<text text-anchor=\"middle\" x=\"456.5\" y=\"-861.3\" font-family=\"Times,serif\" font-size=\"14.00\">conv2d_12</text>\n<polyline fill=\"none\" stroke=\"black\" points=\"418,-853.5 495,-853.5 \"/>\n<text text-anchor=\"middle\" x=\"456.5\" y=\"-838.3\" font-family=\"Times,serif\" font-size=\"14.00\">Conv2D</text>\n<polyline fill=\"none\" stroke=\"black\" points=\"495,-830.5 495,-876.5 \"/>\n<text text-anchor=\"middle\" x=\"522.5\" y=\"-861.3\" font-family=\"Times,serif\" font-size=\"14.00\">input:</text>\n<polyline fill=\"none\" stroke=\"black\" points=\"495,-853.5 550,-853.5 \"/>\n<text text-anchor=\"middle\" x=\"522.5\" y=\"-838.3\" font-family=\"Times,serif\" font-size=\"14.00\">output:</text>\n<polyline fill=\"none\" stroke=\"black\" points=\"550,-830.5 550,-876.5 \"/>\n<text text-anchor=\"middle\" x=\"619\" y=\"-861.3\" font-family=\"Times,serif\" font-size=\"14.00\">(None, 104, 104, 512)</text>\n<polyline fill=\"none\" stroke=\"black\" points=\"550,-853.5 688,-853.5 \"/>\n<text text-anchor=\"middle\" x=\"619\" y=\"-838.3\" font-family=\"Times,serif\" font-size=\"14.00\">(None, 102, 102, 256)</text>\n</g>\n<!-- 136615130455232&#45;&gt;136615130654624 -->\n<g id=\"edge25\" class=\"edge\">\n<title>136615130455232-&gt;136615130654624</title>\n<path fill=\"none\" stroke=\"black\" d=\"M547.91,-913.37C548.62,-905.15 549.44,-895.66 550.22,-886.73\"/>\n<polygon fill=\"black\" stroke=\"black\" points=\"553.72,-886.87 551.09,-876.61 546.74,-886.27 553.72,-886.87\"/>\n</g>\n<!-- 136615130650064 -->\n<g id=\"node25\" class=\"node\">\n<title>136615130650064</title>\n<polygon fill=\"none\" stroke=\"black\" points=\"431,-747.5 431,-793.5 701,-793.5 701,-747.5 431,-747.5\"/>\n<text text-anchor=\"middle\" x=\"469.5\" y=\"-778.3\" font-family=\"Times,serif\" font-size=\"14.00\">conv2d_13</text>\n<polyline fill=\"none\" stroke=\"black\" points=\"431,-770.5 508,-770.5 \"/>\n<text text-anchor=\"middle\" x=\"469.5\" y=\"-755.3\" font-family=\"Times,serif\" font-size=\"14.00\">Conv2D</text>\n<polyline fill=\"none\" stroke=\"black\" points=\"508,-747.5 508,-793.5 \"/>\n<text text-anchor=\"middle\" x=\"535.5\" y=\"-778.3\" font-family=\"Times,serif\" font-size=\"14.00\">input:</text>\n<polyline fill=\"none\" stroke=\"black\" points=\"508,-770.5 563,-770.5 \"/>\n<text text-anchor=\"middle\" x=\"535.5\" y=\"-755.3\" font-family=\"Times,serif\" font-size=\"14.00\">output:</text>\n<polyline fill=\"none\" stroke=\"black\" points=\"563,-747.5 563,-793.5 \"/>\n<text text-anchor=\"middle\" x=\"632\" y=\"-778.3\" font-family=\"Times,serif\" font-size=\"14.00\">(None, 102, 102, 256)</text>\n<polyline fill=\"none\" stroke=\"black\" points=\"563,-770.5 701,-770.5 \"/>\n<text text-anchor=\"middle\" x=\"632\" y=\"-755.3\" font-family=\"Times,serif\" font-size=\"14.00\">(None, 100, 100, 256)</text>\n</g>\n<!-- 136615130654624&#45;&gt;136615130650064 -->\n<g id=\"edge26\" class=\"edge\">\n<title>136615130654624-&gt;136615130650064</title>\n<path fill=\"none\" stroke=\"black\" d=\"M556.55,-830.37C557.87,-822.15 559.39,-812.66 560.83,-803.73\"/>\n<polygon fill=\"black\" stroke=\"black\" points=\"564.32,-804.04 562.45,-793.61 557.41,-802.93 564.32,-804.04\"/>\n</g>\n<!-- 136615130657744 -->\n<g id=\"node26\" class=\"node\">\n<title>136615130657744</title>\n<polygon fill=\"none\" stroke=\"black\" points=\"411.5,-664.5 411.5,-710.5 732.5,-710.5 732.5,-664.5 411.5,-664.5\"/>\n<text text-anchor=\"middle\" x=\"475.5\" y=\"-695.3\" font-family=\"Times,serif\" font-size=\"14.00\">conv2d_transpose_2</text>\n<polyline fill=\"none\" stroke=\"black\" points=\"411.5,-687.5 539.5,-687.5 \"/>\n<text text-anchor=\"middle\" x=\"475.5\" y=\"-672.3\" font-family=\"Times,serif\" font-size=\"14.00\">Conv2DTranspose</text>\n<polyline fill=\"none\" stroke=\"black\" points=\"539.5,-664.5 539.5,-710.5 \"/>\n<text text-anchor=\"middle\" x=\"567\" y=\"-695.3\" font-family=\"Times,serif\" font-size=\"14.00\">input:</text>\n<polyline fill=\"none\" stroke=\"black\" points=\"539.5,-687.5 594.5,-687.5 \"/>\n<text text-anchor=\"middle\" x=\"567\" y=\"-672.3\" font-family=\"Times,serif\" font-size=\"14.00\">output:</text>\n<polyline fill=\"none\" stroke=\"black\" points=\"594.5,-664.5 594.5,-710.5 \"/>\n<text text-anchor=\"middle\" x=\"663.5\" y=\"-695.3\" font-family=\"Times,serif\" font-size=\"14.00\">(None, 100, 100, 256)</text>\n<polyline fill=\"none\" stroke=\"black\" points=\"594.5,-687.5 732.5,-687.5 \"/>\n<text text-anchor=\"middle\" x=\"663.5\" y=\"-672.3\" font-family=\"Times,serif\" font-size=\"14.00\">(None, 200, 200, 128)</text>\n</g>\n<!-- 136615130650064&#45;&gt;136615130657744 -->\n<g id=\"edge27\" class=\"edge\">\n<title>136615130650064-&gt;136615130657744</title>\n<path fill=\"none\" stroke=\"black\" d=\"M567.64,-747.37C568.25,-739.15 568.95,-729.66 569.61,-720.73\"/>\n<polygon fill=\"black\" stroke=\"black\" points=\"573.11,-720.84 570.36,-710.61 566.13,-720.32 573.11,-720.84\"/>\n</g>\n<!-- 136615130648672 -->\n<g id=\"node28\" class=\"node\">\n<title>136615130648672</title>\n<polygon fill=\"none\" stroke=\"black\" points=\"535.5,-581.5 535.5,-627.5 960.5,-627.5 960.5,-581.5 535.5,-581.5\"/>\n<text text-anchor=\"middle\" x=\"582.5\" y=\"-612.3\" font-family=\"Times,serif\" font-size=\"14.00\">concatenate_2</text>\n<polyline fill=\"none\" stroke=\"black\" points=\"535.5,-604.5 629.5,-604.5 \"/>\n<text text-anchor=\"middle\" x=\"582.5\" y=\"-589.3\" font-family=\"Times,serif\" font-size=\"14.00\">Concatenate</text>\n<polyline fill=\"none\" stroke=\"black\" points=\"629.5,-581.5 629.5,-627.5 \"/>\n<text text-anchor=\"middle\" x=\"657\" y=\"-612.3\" font-family=\"Times,serif\" font-size=\"14.00\">input:</text>\n<polyline fill=\"none\" stroke=\"black\" points=\"629.5,-604.5 684.5,-604.5 \"/>\n<text text-anchor=\"middle\" x=\"657\" y=\"-589.3\" font-family=\"Times,serif\" font-size=\"14.00\">output:</text>\n<polyline fill=\"none\" stroke=\"black\" points=\"684.5,-581.5 684.5,-627.5 \"/>\n<text text-anchor=\"middle\" x=\"822.5\" y=\"-612.3\" font-family=\"Times,serif\" font-size=\"14.00\">[(None, 200, 200, 128), (None, 200, 200, 128)]</text>\n<polyline fill=\"none\" stroke=\"black\" points=\"684.5,-604.5 960.5,-604.5 \"/>\n<text text-anchor=\"middle\" x=\"822.5\" y=\"-589.3\" font-family=\"Times,serif\" font-size=\"14.00\">(None, 200, 200, 256)</text>\n</g>\n<!-- 136615130657744&#45;&gt;136615130648672 -->\n<g id=\"edge29\" class=\"edge\">\n<title>136615130657744-&gt;136615130648672</title>\n<path fill=\"none\" stroke=\"black\" d=\"M620.09,-664.37C641.92,-654.32 667.9,-642.36 690.73,-631.86\"/>\n<polygon fill=\"black\" stroke=\"black\" points=\"692.34,-634.97 699.97,-627.61 689.42,-628.61 692.34,-634.97\"/>\n</g>\n<!-- 136615130463632&#45;&gt;136615130648672 -->\n<g id=\"edge30\" class=\"edge\">\n<title>136615130463632-&gt;136615130648672</title>\n<path fill=\"none\" stroke=\"black\" d=\"M787,-1992.48C787,-1961.01 787,-1901.32 787,-1850.5 787,-1850.5 787,-1850.5 787,-769.5 787,-722.42 771.6,-669.76 760.16,-637.11\"/>\n<polygon fill=\"black\" stroke=\"black\" points=\"763.43,-635.88 756.75,-627.65 756.84,-638.25 763.43,-635.88\"/>\n</g>\n<!-- 136615130733472 -->\n<g id=\"node29\" class=\"node\">\n<title>136615130733472</title>\n<polygon fill=\"none\" stroke=\"black\" points=\"620,-498.5 620,-544.5 890,-544.5 890,-498.5 620,-498.5\"/>\n<text text-anchor=\"middle\" x=\"658.5\" y=\"-529.3\" font-family=\"Times,serif\" font-size=\"14.00\">conv2d_14</text>\n<polyline fill=\"none\" stroke=\"black\" points=\"620,-521.5 697,-521.5 \"/>\n<text text-anchor=\"middle\" x=\"658.5\" y=\"-506.3\" font-family=\"Times,serif\" font-size=\"14.00\">Conv2D</text>\n<polyline fill=\"none\" stroke=\"black\" points=\"697,-498.5 697,-544.5 \"/>\n<text text-anchor=\"middle\" x=\"724.5\" y=\"-529.3\" font-family=\"Times,serif\" font-size=\"14.00\">input:</text>\n<polyline fill=\"none\" stroke=\"black\" points=\"697,-521.5 752,-521.5 \"/>\n<text text-anchor=\"middle\" x=\"724.5\" y=\"-506.3\" font-family=\"Times,serif\" font-size=\"14.00\">output:</text>\n<polyline fill=\"none\" stroke=\"black\" points=\"752,-498.5 752,-544.5 \"/>\n<text text-anchor=\"middle\" x=\"821\" y=\"-529.3\" font-family=\"Times,serif\" font-size=\"14.00\">(None, 200, 200, 256)</text>\n<polyline fill=\"none\" stroke=\"black\" points=\"752,-521.5 890,-521.5 \"/>\n<text text-anchor=\"middle\" x=\"821\" y=\"-506.3\" font-family=\"Times,serif\" font-size=\"14.00\">(None, 198, 198, 128)</text>\n</g>\n<!-- 136615130648672&#45;&gt;136615130733472 -->\n<g id=\"edge31\" class=\"edge\">\n<title>136615130648672-&gt;136615130733472</title>\n<path fill=\"none\" stroke=\"black\" d=\"M749.91,-581.37C750.62,-573.15 751.44,-563.66 752.22,-554.73\"/>\n<polygon fill=\"black\" stroke=\"black\" points=\"755.72,-554.87 753.09,-544.61 748.74,-554.27 755.72,-554.87\"/>\n</g>\n<!-- 136615130736736 -->\n<g id=\"node30\" class=\"node\">\n<title>136615130736736</title>\n<polygon fill=\"none\" stroke=\"black\" points=\"646,-415.5 646,-461.5 916,-461.5 916,-415.5 646,-415.5\"/>\n<text text-anchor=\"middle\" x=\"684.5\" y=\"-446.3\" font-family=\"Times,serif\" font-size=\"14.00\">conv2d_15</text>\n<polyline fill=\"none\" stroke=\"black\" points=\"646,-438.5 723,-438.5 \"/>\n<text text-anchor=\"middle\" x=\"684.5\" y=\"-423.3\" font-family=\"Times,serif\" font-size=\"14.00\">Conv2D</text>\n<polyline fill=\"none\" stroke=\"black\" points=\"723,-415.5 723,-461.5 \"/>\n<text text-anchor=\"middle\" x=\"750.5\" y=\"-446.3\" font-family=\"Times,serif\" font-size=\"14.00\">input:</text>\n<polyline fill=\"none\" stroke=\"black\" points=\"723,-438.5 778,-438.5 \"/>\n<text text-anchor=\"middle\" x=\"750.5\" y=\"-423.3\" font-family=\"Times,serif\" font-size=\"14.00\">output:</text>\n<polyline fill=\"none\" stroke=\"black\" points=\"778,-415.5 778,-461.5 \"/>\n<text text-anchor=\"middle\" x=\"847\" y=\"-446.3\" font-family=\"Times,serif\" font-size=\"14.00\">(None, 198, 198, 128)</text>\n<polyline fill=\"none\" stroke=\"black\" points=\"778,-438.5 916,-438.5 \"/>\n<text text-anchor=\"middle\" x=\"847\" y=\"-423.3\" font-family=\"Times,serif\" font-size=\"14.00\">(None, 196, 196, 256)</text>\n</g>\n<!-- 136615130733472&#45;&gt;136615130736736 -->\n<g id=\"edge32\" class=\"edge\">\n<title>136615130733472-&gt;136615130736736</title>\n<path fill=\"none\" stroke=\"black\" d=\"M762.1,-498.37C764.8,-489.97 767.92,-480.24 770.84,-471.14\"/>\n<polygon fill=\"black\" stroke=\"black\" points=\"774.18,-472.2 773.9,-461.61 767.52,-470.06 774.18,-472.2\"/>\n</g>\n<!-- 136615130732704 -->\n<g id=\"node31\" class=\"node\">\n<title>136615130732704</title>\n<polygon fill=\"none\" stroke=\"black\" points=\"633.5,-332.5 633.5,-378.5 954.5,-378.5 954.5,-332.5 633.5,-332.5\"/>\n<text text-anchor=\"middle\" x=\"697.5\" y=\"-363.3\" font-family=\"Times,serif\" font-size=\"14.00\">conv2d_transpose_3</text>\n<polyline fill=\"none\" stroke=\"black\" points=\"633.5,-355.5 761.5,-355.5 \"/>\n<text text-anchor=\"middle\" x=\"697.5\" y=\"-340.3\" font-family=\"Times,serif\" font-size=\"14.00\">Conv2DTranspose</text>\n<polyline fill=\"none\" stroke=\"black\" points=\"761.5,-332.5 761.5,-378.5 \"/>\n<text text-anchor=\"middle\" x=\"789\" y=\"-363.3\" font-family=\"Times,serif\" font-size=\"14.00\">input:</text>\n<polyline fill=\"none\" stroke=\"black\" points=\"761.5,-355.5 816.5,-355.5 \"/>\n<text text-anchor=\"middle\" x=\"789\" y=\"-340.3\" font-family=\"Times,serif\" font-size=\"14.00\">output:</text>\n<polyline fill=\"none\" stroke=\"black\" points=\"816.5,-332.5 816.5,-378.5 \"/>\n<text text-anchor=\"middle\" x=\"885.5\" y=\"-363.3\" font-family=\"Times,serif\" font-size=\"14.00\">(None, 196, 196, 256)</text>\n<polyline fill=\"none\" stroke=\"black\" points=\"816.5,-355.5 954.5,-355.5 \"/>\n<text text-anchor=\"middle\" x=\"885.5\" y=\"-340.3\" font-family=\"Times,serif\" font-size=\"14.00\">(None, 392, 392, 64)</text>\n</g>\n<!-- 136615130736736&#45;&gt;136615130732704 -->\n<g id=\"edge33\" class=\"edge\">\n<title>136615130736736-&gt;136615130732704</title>\n<path fill=\"none\" stroke=\"black\" d=\"M784.55,-415.37C785.87,-407.15 787.39,-397.66 788.83,-388.73\"/>\n<polygon fill=\"black\" stroke=\"black\" points=\"792.32,-389.04 790.45,-378.61 785.41,-387.93 792.32,-389.04\"/>\n</g>\n<!-- 136615130732032 -->\n<g id=\"node33\" class=\"node\">\n<title>136615130732032</title>\n<polygon fill=\"none\" stroke=\"black\" points=\"682,-249.5 682,-295.5 1094,-295.5 1094,-249.5 682,-249.5\"/>\n<text text-anchor=\"middle\" x=\"729\" y=\"-280.3\" font-family=\"Times,serif\" font-size=\"14.00\">concatenate_3</text>\n<polyline fill=\"none\" stroke=\"black\" points=\"682,-272.5 776,-272.5 \"/>\n<text text-anchor=\"middle\" x=\"729\" y=\"-257.3\" font-family=\"Times,serif\" font-size=\"14.00\">Concatenate</text>\n<polyline fill=\"none\" stroke=\"black\" points=\"776,-249.5 776,-295.5 \"/>\n<text text-anchor=\"middle\" x=\"803.5\" y=\"-280.3\" font-family=\"Times,serif\" font-size=\"14.00\">input:</text>\n<polyline fill=\"none\" stroke=\"black\" points=\"776,-272.5 831,-272.5 \"/>\n<text text-anchor=\"middle\" x=\"803.5\" y=\"-257.3\" font-family=\"Times,serif\" font-size=\"14.00\">output:</text>\n<polyline fill=\"none\" stroke=\"black\" points=\"831,-249.5 831,-295.5 \"/>\n<text text-anchor=\"middle\" x=\"962.5\" y=\"-280.3\" font-family=\"Times,serif\" font-size=\"14.00\">[(None, 392, 392, 64), (None, 392, 392, 64)]</text>\n<polyline fill=\"none\" stroke=\"black\" points=\"831,-272.5 1094,-272.5 \"/>\n<text text-anchor=\"middle\" x=\"962.5\" y=\"-257.3\" font-family=\"Times,serif\" font-size=\"14.00\">(None, 392, 392, 128)</text>\n</g>\n<!-- 136615130732704&#45;&gt;136615130732032 -->\n<g id=\"edge35\" class=\"edge\">\n<title>136615130732704-&gt;136615130732032</title>\n<path fill=\"none\" stroke=\"black\" d=\"M819.69,-332.37C830.46,-323.08 843.14,-312.16 854.62,-302.26\"/>\n<polygon fill=\"black\" stroke=\"black\" points=\"857.05,-304.79 862.35,-295.61 852.48,-299.48 857.05,-304.79\"/>\n</g>\n<!-- 136615130741776&#45;&gt;136615130732032 -->\n<g id=\"edge36\" class=\"edge\">\n<title>136615130741776-&gt;136615130732032</title>\n<path fill=\"none\" stroke=\"black\" d=\"M989,-2241.48C989,-2210.01 989,-2150.32 989,-2099.5 989,-2099.5 989,-2099.5 989,-437.5 989,-389.31 990.15,-372.47 964,-332 956.58,-320.52 946.11,-310.39 935.3,-301.92\"/>\n<polygon fill=\"black\" stroke=\"black\" points=\"937.13,-298.92 927.02,-295.78 932.96,-304.54 937.13,-298.92\"/>\n</g>\n<!-- 136615130814480 -->\n<g id=\"node34\" class=\"node\">\n<title>136615130814480</title>\n<polygon fill=\"none\" stroke=\"black\" points=\"753,-166.5 753,-212.5 1023,-212.5 1023,-166.5 753,-166.5\"/>\n<text text-anchor=\"middle\" x=\"791.5\" y=\"-197.3\" font-family=\"Times,serif\" font-size=\"14.00\">conv2d_16</text>\n<polyline fill=\"none\" stroke=\"black\" points=\"753,-189.5 830,-189.5 \"/>\n<text text-anchor=\"middle\" x=\"791.5\" y=\"-174.3\" font-family=\"Times,serif\" font-size=\"14.00\">Conv2D</text>\n<polyline fill=\"none\" stroke=\"black\" points=\"830,-166.5 830,-212.5 \"/>\n<text text-anchor=\"middle\" x=\"857.5\" y=\"-197.3\" font-family=\"Times,serif\" font-size=\"14.00\">input:</text>\n<polyline fill=\"none\" stroke=\"black\" points=\"830,-189.5 885,-189.5 \"/>\n<text text-anchor=\"middle\" x=\"857.5\" y=\"-174.3\" font-family=\"Times,serif\" font-size=\"14.00\">output:</text>\n<polyline fill=\"none\" stroke=\"black\" points=\"885,-166.5 885,-212.5 \"/>\n<text text-anchor=\"middle\" x=\"954\" y=\"-197.3\" font-family=\"Times,serif\" font-size=\"14.00\">(None, 392, 392, 128)</text>\n<polyline fill=\"none\" stroke=\"black\" points=\"885,-189.5 1023,-189.5 \"/>\n<text text-anchor=\"middle\" x=\"954\" y=\"-174.3\" font-family=\"Times,serif\" font-size=\"14.00\">(None, 390, 390, 64)</text>\n</g>\n<!-- 136615130732032&#45;&gt;136615130814480 -->\n<g id=\"edge37\" class=\"edge\">\n<title>136615130732032-&gt;136615130814480</title>\n<path fill=\"none\" stroke=\"black\" d=\"M888,-249.37C888,-241.15 888,-231.66 888,-222.73\"/>\n<polygon fill=\"black\" stroke=\"black\" points=\"891.5,-222.61 888,-212.61 884.5,-222.61 891.5,-222.61\"/>\n</g>\n<!-- 136615130817744 -->\n<g id=\"node35\" class=\"node\">\n<title>136615130817744</title>\n<polygon fill=\"none\" stroke=\"black\" points=\"756.5,-83.5 756.5,-129.5 1019.5,-129.5 1019.5,-83.5 756.5,-83.5\"/>\n<text text-anchor=\"middle\" x=\"795\" y=\"-114.3\" font-family=\"Times,serif\" font-size=\"14.00\">conv2d_17</text>\n<polyline fill=\"none\" stroke=\"black\" points=\"756.5,-106.5 833.5,-106.5 \"/>\n<text text-anchor=\"middle\" x=\"795\" y=\"-91.3\" font-family=\"Times,serif\" font-size=\"14.00\">Conv2D</text>\n<polyline fill=\"none\" stroke=\"black\" points=\"833.5,-83.5 833.5,-129.5 \"/>\n<text text-anchor=\"middle\" x=\"861\" y=\"-114.3\" font-family=\"Times,serif\" font-size=\"14.00\">input:</text>\n<polyline fill=\"none\" stroke=\"black\" points=\"833.5,-106.5 888.5,-106.5 \"/>\n<text text-anchor=\"middle\" x=\"861\" y=\"-91.3\" font-family=\"Times,serif\" font-size=\"14.00\">output:</text>\n<polyline fill=\"none\" stroke=\"black\" points=\"888.5,-83.5 888.5,-129.5 \"/>\n<text text-anchor=\"middle\" x=\"954\" y=\"-114.3\" font-family=\"Times,serif\" font-size=\"14.00\">(None, 390, 390, 64)</text>\n<polyline fill=\"none\" stroke=\"black\" points=\"888.5,-106.5 1019.5,-106.5 \"/>\n<text text-anchor=\"middle\" x=\"954\" y=\"-91.3\" font-family=\"Times,serif\" font-size=\"14.00\">(None, 388, 388, 64)</text>\n</g>\n<!-- 136615130814480&#45;&gt;136615130817744 -->\n<g id=\"edge38\" class=\"edge\">\n<title>136615130814480-&gt;136615130817744</title>\n<path fill=\"none\" stroke=\"black\" d=\"M888,-166.37C888,-158.15 888,-148.66 888,-139.73\"/>\n<polygon fill=\"black\" stroke=\"black\" points=\"891.5,-139.61 888,-129.61 884.5,-139.61 891.5,-139.61\"/>\n</g>\n<!-- 136615130657984 -->\n<g id=\"node36\" class=\"node\">\n<title>136615130657984</title>\n<polygon fill=\"none\" stroke=\"black\" points=\"756.5,-0.5 756.5,-46.5 1019.5,-46.5 1019.5,-0.5 756.5,-0.5\"/>\n<text text-anchor=\"middle\" x=\"795\" y=\"-31.3\" font-family=\"Times,serif\" font-size=\"14.00\">conv2d_18</text>\n<polyline fill=\"none\" stroke=\"black\" points=\"756.5,-23.5 833.5,-23.5 \"/>\n<text text-anchor=\"middle\" x=\"795\" y=\"-8.3\" font-family=\"Times,serif\" font-size=\"14.00\">Conv2D</text>\n<polyline fill=\"none\" stroke=\"black\" points=\"833.5,-0.5 833.5,-46.5 \"/>\n<text text-anchor=\"middle\" x=\"861\" y=\"-31.3\" font-family=\"Times,serif\" font-size=\"14.00\">input:</text>\n<polyline fill=\"none\" stroke=\"black\" points=\"833.5,-23.5 888.5,-23.5 \"/>\n<text text-anchor=\"middle\" x=\"861\" y=\"-8.3\" font-family=\"Times,serif\" font-size=\"14.00\">output:</text>\n<polyline fill=\"none\" stroke=\"black\" points=\"888.5,-0.5 888.5,-46.5 \"/>\n<text text-anchor=\"middle\" x=\"954\" y=\"-31.3\" font-family=\"Times,serif\" font-size=\"14.00\">(None, 388, 388, 64)</text>\n<polyline fill=\"none\" stroke=\"black\" points=\"888.5,-23.5 1019.5,-23.5 \"/>\n<text text-anchor=\"middle\" x=\"954\" y=\"-8.3\" font-family=\"Times,serif\" font-size=\"14.00\">(None, 388, 388, 2)</text>\n</g>\n<!-- 136615130817744&#45;&gt;136615130657984 -->\n<g id=\"edge39\" class=\"edge\">\n<title>136615130817744-&gt;136615130657984</title>\n<path fill=\"none\" stroke=\"black\" d=\"M888,-83.37C888,-75.15 888,-65.66 888,-56.73\"/>\n<polygon fill=\"black\" stroke=\"black\" points=\"891.5,-56.61 888,-46.61 884.5,-56.61 891.5,-56.61\"/>\n</g>\n</g>\n</svg>"
          },
          "metadata": {},
          "execution_count": 6
        }
      ]
    },
    {
      "cell_type": "code",
      "source": [
        "# Transposed Convolution을 코드로 살펴보기\n",
        "# 필요한 모듈 불러오기\n",
        "import numpy as np\n",
        "import tensorflow as tf"
      ],
      "metadata": {
        "id": "PlUGDArdjLce"
      },
      "execution_count": 7,
      "outputs": []
    },
    {
      "cell_type": "code",
      "source": [
        "# input data\n",
        "X = np.asarray([[1, 2],\n",
        "\t\t\t  [3, 4]])"
      ],
      "metadata": {
        "id": "hs09Ofg3jLij"
      },
      "execution_count": 8,
      "outputs": []
    },
    {
      "cell_type": "code",
      "source": [
        "print(X)\n",
        "print(X.shape)"
      ],
      "metadata": {
        "colab": {
          "base_uri": "https://localhost:8080/"
        },
        "id": "_UJo5fSCjLng",
        "outputId": "e0421dd3-49e3-4467-a343-22800c880651"
      },
      "execution_count": 9,
      "outputs": [
        {
          "output_type": "stream",
          "name": "stdout",
          "text": [
            "[[1 2]\n",
            " [3 4]]\n",
            "(2, 2)\n"
          ]
        }
      ]
    },
    {
      "cell_type": "code",
      "source": [
        "# 모델에 맞게 reshaping\n",
        "X = X.reshape((1, 2, 2, 1))"
      ],
      "metadata": {
        "id": "FqePwE85jLrF"
      },
      "execution_count": 10,
      "outputs": []
    },
    {
      "cell_type": "code",
      "source": [
        "print(X)\n",
        "print(X.shape)"
      ],
      "metadata": {
        "colab": {
          "base_uri": "https://localhost:8080/"
        },
        "id": "PDnEXk9njLvw",
        "outputId": "df5c42a3-ff61-4169-d02e-f5e2b1450b05"
      },
      "execution_count": 11,
      "outputs": [
        {
          "output_type": "stream",
          "name": "stdout",
          "text": [
            "[[[[1]\n",
            "   [2]]\n",
            "\n",
            "  [[3]\n",
            "   [4]]]]\n",
            "(1, 2, 2, 1)\n"
          ]
        }
      ]
    },
    {
      "cell_type": "code",
      "source": [
        "# 모델 만들기\n",
        "model = tf.keras.models.Sequential()\n",
        "# Add input layer\n",
        "model.add(tf.keras.layers.InputLayer(input_shape=(2, 2, 1)))\n",
        "\n",
        "# Add Conv2DTranspose layer\n",
        "model.add(tf.keras.layers.Conv2DTranspose(1, (1, 1), strides=(2, 2)))"
      ],
      "metadata": {
        "id": "AhuK4PlZjMX9"
      },
      "execution_count": 12,
      "outputs": []
    },
    {
      "cell_type": "code",
      "source": [
        "weights = [np.asarray([[[[1]]]]), np.asarray([1])] # weight = 1, bias = 1"
      ],
      "metadata": {
        "id": "ZDJCf6TPjMcn"
      },
      "execution_count": 13,
      "outputs": []
    },
    {
      "cell_type": "code",
      "source": [
        "weights"
      ],
      "metadata": {
        "colab": {
          "base_uri": "https://localhost:8080/"
        },
        "id": "AFoUVL8bjMhm",
        "outputId": "4071d6ff-93a1-4993-af75-15cb0901b79b"
      },
      "execution_count": 14,
      "outputs": [
        {
          "output_type": "execute_result",
          "data": {
            "text/plain": [
              "[array([[[[1]]]]), array([1])]"
            ]
          },
          "metadata": {},
          "execution_count": 14
        }
      ]
    },
    {
      "cell_type": "code",
      "source": [
        "model.set_weights(weights)"
      ],
      "metadata": {
        "id": "FTTfK7QUjMq5"
      },
      "execution_count": 15,
      "outputs": []
    },
    {
      "cell_type": "code",
      "source": [
        "yhat = model.predict(X)\n",
        "yhat = yhat.reshape((4, 4)) # 결과를 확인하기 편하게 reshaping\n",
        "print(yhat)\n",
        "print(yhat.shape)"
      ],
      "metadata": {
        "colab": {
          "base_uri": "https://localhost:8080/"
        },
        "id": "ygeAnL4LjMtm",
        "outputId": "797bc702-159d-4877-97f6-ff010ae6a748"
      },
      "execution_count": 16,
      "outputs": [
        {
          "output_type": "stream",
          "name": "stdout",
          "text": [
            "1/1 [==============================] - 0s 251ms/step\n",
            "[[2. 1. 3. 1.]\n",
            " [1. 1. 1. 1.]\n",
            " [4. 1. 5. 1.]\n",
            " [1. 1. 1. 1.]]\n",
            "(4, 4)\n"
          ]
        }
      ]
    },
    {
      "cell_type": "code",
      "source": [
        "# [Playground] 여러분만의 Transposed convolution 모델을 만들어 보고 model.predict()을 확인해 보세요.\n",
        "# input data\n",
        "X = np.asarray([[1, 2],\n",
        "                [3, 4]])\n",
        "\n",
        "print(X)\n",
        "print(X.shape)\n",
        "\n",
        "# reshaping to fit the model\n",
        "X = X.reshape((1, 2, 2, 1))\n",
        "\n",
        "print(X)\n",
        "print(X.shape)\n",
        "\n",
        "# Create the model\n",
        "model = tf.keras.models.Sequential()\n",
        "\n",
        "# Add input layer\n",
        "model.add(tf.keras.layers.InputLayer(input_shape=(2, 2, 1)))\n",
        "\n",
        "# Add Conv2DTranspose layer\n",
        "model.add(tf.keras.layers.Conv2DTranspose(1, (1, 1), strides=(3, 3))) # 3배로 뻥튀기\n",
        "\n",
        "# Set the weights\n",
        "weights = [np.asarray([[[[1]]]]), np.asarray([1])] # weight = 1, bias = 1\n",
        "model.set_weights(weights)\n",
        "\n",
        "# Predict\n",
        "yhat = model.predict(X)\n",
        "yhat = yhat.reshape((6, 6)) # reshaping to make it easier to check the result, 2*3 =6\n",
        "print(yhat)\n"
      ],
      "metadata": {
        "colab": {
          "base_uri": "https://localhost:8080/"
        },
        "id": "YYYRyDm_jM1Z",
        "outputId": "1c37886a-771e-4a66-b7b0-b5b1aed139bc"
      },
      "execution_count": 17,
      "outputs": [
        {
          "output_type": "stream",
          "name": "stdout",
          "text": [
            "[[1 2]\n",
            " [3 4]]\n",
            "(2, 2)\n",
            "[[[[1]\n",
            "   [2]]\n",
            "\n",
            "  [[3]\n",
            "   [4]]]]\n",
            "(1, 2, 2, 1)\n",
            "1/1 [==============================] - 0s 59ms/step\n",
            "[[2. 1. 1. 3. 1. 1.]\n",
            " [1. 1. 1. 1. 1. 1.]\n",
            " [1. 1. 1. 1. 1. 1.]\n",
            " [4. 1. 1. 5. 1. 1.]\n",
            " [1. 1. 1. 1. 1. 1.]\n",
            " [1. 1. 1. 1. 1. 1.]]\n"
          ]
        }
      ]
    }
  ]
}