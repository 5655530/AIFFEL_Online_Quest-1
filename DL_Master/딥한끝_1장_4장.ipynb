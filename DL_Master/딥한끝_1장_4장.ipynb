{
  "nbformat": 4,
  "nbformat_minor": 0,
  "metadata": {
    "colab": {
      "provenance": [],
      "authorship_tag": "ABX9TyOMW6hXj9KULEiiVk+Fz14K",
      "include_colab_link": true
    },
    "kernelspec": {
      "name": "python3",
      "display_name": "Python 3"
    },
    "language_info": {
      "name": "python"
    }
  },
  "cells": [
    {
      "cell_type": "markdown",
      "metadata": {
        "id": "view-in-github",
        "colab_type": "text"
      },
      "source": [
        "<a href=\"https://colab.research.google.com/github/comandi1969/AIFFEL_Online_Quest/blob/main/DL_Master/%EB%94%A5%ED%95%9C%EB%81%9D_1%EC%9E%A5_4%EC%9E%A5.ipynb\" target=\"_parent\"><img src=\"https://colab.research.google.com/assets/colab-badge.svg\" alt=\"Open In Colab\"/></a>"
      ]
    },
    {
      "cell_type": "code",
      "execution_count": 25,
      "metadata": {
        "id": "oAOl2lS4baqJ"
      },
      "outputs": [],
      "source": [
        "import tensorflow as tf"
      ]
    },
    {
      "cell_type": "code",
      "source": [
        "for i in range(1, 6):\n",
        "    t0 = tf.constant(i)\n",
        "    print(t0)\n",
        "    print(t0.shape)\n",
        "    print(tf.rank(t0))\n",
        "    print('*'*12)"
      ],
      "metadata": {
        "colab": {
          "base_uri": "https://localhost:8080/"
        },
        "id": "-dZiYc_nbsRs",
        "outputId": "16c8925b-2ef0-4df0-f736-7fef82bacafa"
      },
      "execution_count": 14,
      "outputs": [
        {
          "output_type": "stream",
          "name": "stdout",
          "text": [
            "tf.Tensor(1, shape=(), dtype=int32)\n",
            "()\n",
            "tf.Tensor(0, shape=(), dtype=int32)\n",
            "************\n",
            "tf.Tensor(2, shape=(), dtype=int32)\n",
            "()\n",
            "tf.Tensor(0, shape=(), dtype=int32)\n",
            "************\n",
            "tf.Tensor(3, shape=(), dtype=int32)\n",
            "()\n",
            "tf.Tensor(0, shape=(), dtype=int32)\n",
            "************\n",
            "tf.Tensor(4, shape=(), dtype=int32)\n",
            "()\n",
            "tf.Tensor(0, shape=(), dtype=int32)\n",
            "************\n",
            "tf.Tensor(5, shape=(), dtype=int32)\n",
            "()\n",
            "tf.Tensor(0, shape=(), dtype=int32)\n",
            "************\n"
          ]
        }
      ]
    },
    {
      "cell_type": "code",
      "source": [
        "t1 = tf.constant([1, 2, 3])\n",
        "print(t1)\n",
        "print(t1.shape)\n",
        "print(tf.rank(t1))\n"
      ],
      "metadata": {
        "colab": {
          "base_uri": "https://localhost:8080/"
        },
        "id": "U2-CMj4Xcqkr",
        "outputId": "e174f1ef-6fac-4b55-957a-947e038c2d78"
      },
      "execution_count": 12,
      "outputs": [
        {
          "output_type": "stream",
          "name": "stdout",
          "text": [
            "tf.Tensor([1 2 3], shape=(3,), dtype=int32)\n",
            "(3,)\n",
            "tf.Tensor(1, shape=(), dtype=int32)\n"
          ]
        }
      ]
    },
    {
      "cell_type": "code",
      "source": [
        "t2 = tf.constant([[1, 2, 3],[4, 5, 6], [7, 8, 9]])\n",
        "print(t2)\n",
        "print(t2.shape)\n",
        "print(tf.rank(t2))\n"
      ],
      "metadata": {
        "colab": {
          "base_uri": "https://localhost:8080/"
        },
        "id": "D3AaypoEfoqI",
        "outputId": "d0c9ca37-cabe-4770-bb47-78bae827f026"
      },
      "execution_count": 16,
      "outputs": [
        {
          "output_type": "stream",
          "name": "stdout",
          "text": [
            "tf.Tensor(\n",
            "[[1 2 3]\n",
            " [4 5 6]\n",
            " [7 8 9]], shape=(3, 3), dtype=int32)\n",
            "(3, 3)\n",
            "tf.Tensor(2, shape=(), dtype=int32)\n"
          ]
        }
      ]
    },
    {
      "cell_type": "code",
      "source": [
        "t2 = tf.constant([[1], [2], [3], [4]])\n",
        "print(t2)\n",
        "print(t2.shape)\n",
        "print(tf.rank(t2))"
      ],
      "metadata": {
        "colab": {
          "base_uri": "https://localhost:8080/"
        },
        "id": "aqANf22QkZA8",
        "outputId": "3c617a30-cecb-4bd1-d039-e4fc64cf4ea4"
      },
      "execution_count": 27,
      "outputs": [
        {
          "output_type": "stream",
          "name": "stdout",
          "text": [
            "tf.Tensor(\n",
            "[[1]\n",
            " [2]\n",
            " [3]\n",
            " [4]], shape=(4, 1), dtype=int32)\n",
            "(4, 1)\n",
            "tf.Tensor(2, shape=(), dtype=int32)\n"
          ]
        }
      ]
    },
    {
      "cell_type": "code",
      "source": [
        "t3 = tf.constant([[[1, 2],[4, 5], [7, 8]],\n",
        "                  [[1, 2],[4, 5], [7, 8]],\n",
        "                  [[1, 2],[4, 5], [7, 8]]])\n",
        "print(f't3 => {t3}')\n",
        "print(f't3.shape => {t3.shape}')\n",
        "#print(f't3.size => {t3.size}')\n",
        "\n",
        "print(f'tf.rank(t3) => {tf.rank(t3)}')\n"
      ],
      "metadata": {
        "colab": {
          "base_uri": "https://localhost:8080/"
        },
        "id": "CwNo0tpOgON0",
        "outputId": "b85acea7-49b2-4f02-fe2a-48e079bfcbd1"
      },
      "execution_count": 36,
      "outputs": [
        {
          "output_type": "stream",
          "name": "stdout",
          "text": [
            "t3 => [[[1 2]\n",
            "  [4 5]\n",
            "  [7 8]]\n",
            "\n",
            " [[1 2]\n",
            "  [4 5]\n",
            "  [7 8]]\n",
            "\n",
            " [[1 2]\n",
            "  [4 5]\n",
            "  [7 8]]]\n",
            "t3.shape => (3, 3, 2)\n",
            "tf.rank(t3) => 3\n"
          ]
        }
      ]
    },
    {
      "cell_type": "code",
      "source": [
        "import tensorflow as tf\n",
        "\n",
        "t = tf.constant([[1, 2], [3, 4]])\n",
        "print(t)\n",
        "reshaped_t = tf.reshape(t, (4, 1))\n",
        "print(reshaped_t)  # Output: [[1], [2], [3], [4]]\n"
      ],
      "metadata": {
        "colab": {
          "base_uri": "https://localhost:8080/"
        },
        "id": "hxLCw_V6lMXy",
        "outputId": "6f287469-167d-4420-ff64-712d699c3252"
      },
      "execution_count": 45,
      "outputs": [
        {
          "output_type": "stream",
          "name": "stdout",
          "text": [
            "tf.Tensor(\n",
            "[[1 2]\n",
            " [3 4]], shape=(2, 2), dtype=int32)\n",
            "tf.Tensor(\n",
            "[[1]\n",
            " [2]\n",
            " [3]\n",
            " [4]], shape=(4, 1), dtype=int32)\n"
          ]
        }
      ]
    },
    {
      "cell_type": "code",
      "source": [
        "transposed_t = tf.transpose(t)\n",
        "print(transposed_t)  # Output: [[1, 3], [2, 4]]\n"
      ],
      "metadata": {
        "colab": {
          "base_uri": "https://localhost:8080/"
        },
        "id": "tJQiS_C1lQ1m",
        "outputId": "ebdb2994-8967-4b7b-f1a1-a43422b72057"
      },
      "execution_count": 37,
      "outputs": [
        {
          "output_type": "stream",
          "name": "stdout",
          "text": [
            "tf.Tensor(\n",
            "[[1 3]\n",
            " [2 4]], shape=(2, 2), dtype=int32)\n"
          ]
        }
      ]
    },
    {
      "cell_type": "code",
      "source": [
        "squeezed_t = tf.squeeze(tf.constant([[[1], [2], [3]]]))\n",
        "print(squeezed_t)  # Output: [1, 2, 3]\n"
      ],
      "metadata": {
        "colab": {
          "base_uri": "https://localhost:8080/"
        },
        "id": "YOsmaoM6oUcv",
        "outputId": "6541ffe2-f37e-4307-9ec2-f988819b9324"
      },
      "execution_count": 38,
      "outputs": [
        {
          "output_type": "stream",
          "name": "stdout",
          "text": [
            "tf.Tensor([1 2 3], shape=(3,), dtype=int32)\n"
          ]
        }
      ]
    },
    {
      "cell_type": "code",
      "source": [
        "expanded_t = tf.expand_dims(squeezed_t, axis=1)\n",
        "print(expanded_t)  # Output: [[1], [2], [3]]\n"
      ],
      "metadata": {
        "colab": {
          "base_uri": "https://localhost:8080/"
        },
        "id": "E2UienqqoJQC",
        "outputId": "963b8b81-ae35-46e4-c1f3-1650d36b8014"
      },
      "execution_count": 41,
      "outputs": [
        {
          "output_type": "stream",
          "name": "stdout",
          "text": [
            "tf.Tensor(\n",
            "[[1]\n",
            " [2]\n",
            " [3]], shape=(3, 1), dtype=int32)\n"
          ]
        }
      ]
    },
    {
      "cell_type": "code",
      "source": [
        "concatenated_t = tf.concat([t, t], axis=0)\n",
        "print(concatenated_t)  # Output: [[1, 2], [3, 4], [1, 2], [3, 4]]\n"
      ],
      "metadata": {
        "colab": {
          "base_uri": "https://localhost:8080/"
        },
        "id": "N-vS5vnBn-Ic",
        "outputId": "bae146ba-9610-4cd4-b7b4-466c1ce9b6e1"
      },
      "execution_count": 31,
      "outputs": [
        {
          "output_type": "stream",
          "name": "stdout",
          "text": [
            "tf.Tensor(\n",
            "[[1 2]\n",
            " [3 4]\n",
            " [1 2]\n",
            " [3 4]], shape=(4, 2), dtype=int32)\n"
          ]
        }
      ]
    },
    {
      "cell_type": "code",
      "source": [
        "split_t = tf.split(t, num_or_size_splits=2, axis=0)\n",
        "print(split_t)  # Output: [<tf.Tensor: shape=(1, 2), dtype=int32, numpy=array([[1, 2]], dtype=int32)>, <tf.Tensor: shape=(1, 2), dtype=int32, numpy=array([[3, 4]], dtype=int32)>]\n"
      ],
      "metadata": {
        "colab": {
          "base_uri": "https://localhost:8080/"
        },
        "id": "cMqSrHePp0Od",
        "outputId": "51abcc57-059c-43fb-e4f8-5e0bac2eb1e8"
      },
      "execution_count": 42,
      "outputs": [
        {
          "output_type": "stream",
          "name": "stdout",
          "text": [
            "[<tf.Tensor: shape=(1, 2), dtype=int32, numpy=array([[1, 2]], dtype=int32)>, <tf.Tensor: shape=(1, 2), dtype=int32, numpy=array([[3, 4]], dtype=int32)>]\n"
          ]
        }
      ]
    },
    {
      "cell_type": "code",
      "source": [
        "tiled_t = tf.tile(t, [2, 2])\n",
        "print(tiled_t)  # Output: [[1, 2, 1, 2], [3, 4, 3, 4], [1, 2, 1, 2], [3, 4, 3, 4]]\n"
      ],
      "metadata": {
        "colab": {
          "base_uri": "https://localhost:8080/"
        },
        "id": "iXlO6WJ_qJPj",
        "outputId": "4dabd81b-d4dd-4724-c595-fa6a32373672"
      },
      "execution_count": 43,
      "outputs": [
        {
          "output_type": "stream",
          "name": "stdout",
          "text": [
            "tf.Tensor(\n",
            "[[1 2 1 2]\n",
            " [3 4 3 4]\n",
            " [1 2 1 2]\n",
            " [3 4 3 4]], shape=(4, 4), dtype=int32)\n"
          ]
        }
      ]
    },
    {
      "cell_type": "code",
      "source": [
        "padded_t = tf.pad(t, paddings=[[1, 1], [1, 1]])\n",
        "print(padded_t)  # Output: [[0, 0, 0, 0], [0, 1, 2, 0], [0, 3, 4, 0], [0, 0, 0, 0]]\n"
      ],
      "metadata": {
        "colab": {
          "base_uri": "https://localhost:8080/"
        },
        "id": "wdjuRXB4qilG",
        "outputId": "1fc027a3-6008-42cd-88ea-6feba469f683"
      },
      "execution_count": 44,
      "outputs": [
        {
          "output_type": "stream",
          "name": "stdout",
          "text": [
            "tf.Tensor(\n",
            "[[0 0 0 0]\n",
            " [0 1 2 0]\n",
            " [0 3 4 0]\n",
            " [0 0 0 0]], shape=(4, 4), dtype=int32)\n"
          ]
        }
      ]
    },
    {
      "cell_type": "code",
      "source": [
        "sliced_t = tf.slice(t, begin=[0, 1], size=[2, 1])\n",
        "print(sliced_t)  # Output: [[2], [4]]\n"
      ],
      "metadata": {
        "colab": {
          "base_uri": "https://localhost:8080/"
        },
        "id": "USs5fnTarAQd",
        "outputId": "d737108a-627c-4550-ee8c-e54e908190c3"
      },
      "execution_count": 46,
      "outputs": [
        {
          "output_type": "stream",
          "name": "stdout",
          "text": [
            "tf.Tensor(\n",
            "[[2]\n",
            " [4]], shape=(2, 1), dtype=int32)\n"
          ]
        }
      ]
    },
    {
      "cell_type": "code",
      "source": [
        "reversed_t = tf.reverse(t, axis=[0])\n",
        "print(reversed_t)  # Output: [[3, 4], [1, 2]]\n"
      ],
      "metadata": {
        "colab": {
          "base_uri": "https://localhost:8080/"
        },
        "id": "PY-zMUG_rPYr",
        "outputId": "22094ec3-45c5-4648-962c-1a95ec719769"
      },
      "execution_count": 49,
      "outputs": [
        {
          "output_type": "stream",
          "name": "stdout",
          "text": [
            "tf.Tensor(\n",
            "[[3 4]\n",
            " [1 2]], shape=(2, 2), dtype=int32)\n"
          ]
        }
      ]
    },
    {
      "cell_type": "code",
      "source": [
        "reversed_t = tf.reverse(t, axis=[1])\n",
        "print(reversed_t)  # Output: [[2, 1], [4, 3]]\n"
      ],
      "metadata": {
        "colab": {
          "base_uri": "https://localhost:8080/"
        },
        "id": "iKgoOc5YrWrC",
        "outputId": "b56d26f7-b647-4206-932a-2e745aea4e6f"
      },
      "execution_count": 50,
      "outputs": [
        {
          "output_type": "stream",
          "name": "stdout",
          "text": [
            "tf.Tensor(\n",
            "[[2 1]\n",
            " [4 3]], shape=(2, 2), dtype=int32)\n"
          ]
        }
      ]
    },
    {
      "cell_type": "code",
      "source": [
        "print(tf.constant([[[1], [2], [3]]]))\n",
        "print(tf.constant([[[1, 2, 3]]]))\n",
        "print(tf.constant([[1, 2, 1, 2], [3, 4, 3, 4]]))"
      ],
      "metadata": {
        "colab": {
          "base_uri": "https://localhost:8080/"
        },
        "id": "nuYYYbfR0xAq",
        "outputId": "c43fa36a-932e-483f-fe99-2d02f6852a9f"
      },
      "execution_count": 57,
      "outputs": [
        {
          "output_type": "stream",
          "name": "stdout",
          "text": [
            "tf.Tensor(\n",
            "[[[1]\n",
            "  [2]\n",
            "  [3]]], shape=(1, 3, 1), dtype=int32)\n",
            "tf.Tensor([[[1 2 3]]], shape=(1, 1, 3), dtype=int32)\n",
            "tf.Tensor(\n",
            "[[1 2 1 2]\n",
            " [3 4 3 4]], shape=(2, 4), dtype=int32)\n"
          ]
        }
      ]
    },
    {
      "cell_type": "code",
      "source": [
        "#print(tf.constant(2) + tf.constant(2.2))\n",
        "print(tf.cast(tf.constant(2), tf.float32) + tf.constant(2.2))"
      ],
      "metadata": {
        "colab": {
          "base_uri": "https://localhost:8080/"
        },
        "id": "wpUK-Y9m4DWD",
        "outputId": "50dc7791-9945-43fd-c84f-06ae1eedb26b"
      },
      "execution_count": 59,
      "outputs": [
        {
          "output_type": "stream",
          "name": "stdout",
          "text": [
            "tf.Tensor(4.2, shape=(), dtype=float32)\n"
          ]
        }
      ]
    },
    {
      "cell_type": "code",
      "source": [
        "c = tf.constant([[4.0, 5.0, 6.0],\n",
        "                 [10.0, 9.0, 8.0]])\n",
        "\n",
        "print(tf.reduce_max(c))\n",
        "print(tf.argmax(c))\n",
        "print(tf.nn.softmax(c))"
      ],
      "metadata": {
        "colab": {
          "base_uri": "https://localhost:8080/"
        },
        "id": "FclKuh_S6cC-",
        "outputId": "e11a5f9e-ca64-4079-ca4b-c60f6239a5ff"
      },
      "execution_count": 63,
      "outputs": [
        {
          "output_type": "stream",
          "name": "stdout",
          "text": [
            "tf.Tensor(10.0, shape=(), dtype=float32)\n",
            "tf.Tensor([1 1 1], shape=(3,), dtype=int64)\n",
            "tf.Tensor(\n",
            "[[0.09003057 0.24472848 0.66524094]\n",
            " [0.66524094 0.24472848 0.09003057]], shape=(2, 3), dtype=float32)\n"
          ]
        }
      ]
    },
    {
      "cell_type": "code",
      "source": [
        "import tensorflow as tf\n",
        "\n",
        "tensor = tf.constant([[1, 2, 3], [4, 5, 6]])\n",
        "print(tensor)\n",
        "\n",
        "reshaped_tensor = tf.reshape(tensor, (3, 2))\n",
        "\n",
        "print(reshaped_tensor)"
      ],
      "metadata": {
        "colab": {
          "base_uri": "https://localhost:8080/"
        },
        "id": "n8sQTUZbAry-",
        "outputId": "61b2513b-536f-4793-d126-dfe39b991cb9"
      },
      "execution_count": 66,
      "outputs": [
        {
          "output_type": "stream",
          "name": "stdout",
          "text": [
            "tf.Tensor(\n",
            "[[1 2 3]\n",
            " [4 5 6]], shape=(2, 3), dtype=int32)\n",
            "tf.Tensor(\n",
            "[[1 2]\n",
            " [3 4]\n",
            " [5 6]], shape=(3, 2), dtype=int32)\n"
          ]
        }
      ]
    },
    {
      "cell_type": "code",
      "source": [
        "\n",
        "a = tf.constant([1, 2, 3, 4, 5, 6, 7, 8])\n",
        "b = tf.constant([[1., 2., 3., 4., 5., 6., 7., 8.]])\n",
        "\n",
        "# Q. 위에 있는 2개의 텐서를 행렬곱연산이 가능하도록 3차원 텐서로 변환해주세요.\n",
        "# a = tf.reshape(tf.cast(a, tf.float32), (2, 2, 2))\n",
        "# b = tf.reshape(b, (2, 2, 2))\n",
        "\n",
        "a = tf.reshape(a, (2, 2, 2))\n",
        "b = tf.reshape(tf.cast(b, tf.int32), (2, 2, 2))\n",
        "\n",
        "print(a@b)"
      ],
      "metadata": {
        "colab": {
          "base_uri": "https://localhost:8080/"
        },
        "id": "Q29jHTFQBORc",
        "outputId": "ad2c1c03-f91d-40b1-d2a5-771a6b0080c6"
      },
      "execution_count": 70,
      "outputs": [
        {
          "output_type": "stream",
          "name": "stdout",
          "text": [
            "tf.Tensor(\n",
            "[[[  7  10]\n",
            "  [ 15  22]]\n",
            "\n",
            " [[ 67  78]\n",
            "  [ 91 106]]], shape=(2, 2, 2), dtype=int32)\n"
          ]
        }
      ]
    },
    {
      "cell_type": "code",
      "source": [
        "import tensorflow as tf\n",
        "from tensorflow import keras\n",
        "from tensorflow.keras import layers\n",
        "layers.Dense(10)\n",
        "layers.Dense(10, name='layer1')\n",
        "layers.Dense(10, activation='softmax')\n"
      ],
      "metadata": {
        "colab": {
          "base_uri": "https://localhost:8080/"
        },
        "id": "tOeZT3gzOvlh",
        "outputId": "41bb56a7-a043-444a-cbfd-c15c788e0f1c"
      },
      "execution_count": 75,
      "outputs": [
        {
          "output_type": "execute_result",
          "data": {
            "text/plain": [
              "<keras.layers.core.dense.Dense at 0x7c4855bf4f10>"
            ]
          },
          "metadata": {},
          "execution_count": 75
        }
      ]
    },
    {
      "cell_type": "code",
      "source": [
        "layers.Dense(10, activation='relu', name='Dense Layer')"
      ],
      "metadata": {
        "id": "dmcXSOb1O6P0"
      },
      "execution_count": null,
      "outputs": []
    },
    {
      "cell_type": "code",
      "source": [
        "import tensorflow as tf\n",
        "from tensorflow import keras\n",
        "from tensorflow.keras import layers\n",
        "inputs = tf.random.uniform(shape=(5, 2)) # 입력값 초기화\n",
        "print(inputs)\n",
        "layer = layers.Dense(10, activation='relu')\n",
        "print(layer)\n",
        "outputs = layer(inputs)\n",
        "print(layer.weights)\n",
        "print(layer.bias)\n",
        "print(outputs)"
      ],
      "metadata": {
        "colab": {
          "base_uri": "https://localhost:8080/"
        },
        "id": "7-fdChIyMcba",
        "outputId": "dd9c0683-74dd-488f-d903-6f41c089c286"
      },
      "execution_count": 80,
      "outputs": [
        {
          "output_type": "stream",
          "name": "stdout",
          "text": [
            "tf.Tensor(\n",
            "[[0.09048152 0.07903945]\n",
            " [0.6017406  0.07874167]\n",
            " [0.0585959  0.45701313]\n",
            " [0.39367032 0.5379392 ]\n",
            " [0.30183017 0.29956126]], shape=(5, 2), dtype=float32)\n",
            "<keras.layers.core.dense.Dense object at 0x7c4855babfa0>\n",
            "[<tf.Variable 'dense_4/kernel:0' shape=(2, 10) dtype=float32, numpy=\n",
            "array([[ 0.5816509 , -0.6656353 ,  0.64032644, -0.14902282,  0.06660432,\n",
            "        -0.26134604,  0.3681212 , -0.24792966, -0.00363612, -0.14794725],\n",
            "       [-0.3377952 ,  0.13700557,  0.07233864, -0.47233802, -0.52815783,\n",
            "        -0.03359628,  0.44041246, -0.04117697,  0.28991568,  0.3747396 ]],\n",
            "      dtype=float32)>, <tf.Variable 'dense_4/bias:0' shape=(10,) dtype=float32, numpy=array([0., 0., 0., 0., 0., 0., 0., 0., 0., 0.], dtype=float32)>]\n",
            "<tf.Variable 'dense_4/bias:0' shape=(10,) dtype=float32, numpy=array([0., 0., 0., 0., 0., 0., 0., 0., 0., 0.], dtype=float32)>\n",
            "tf.Tensor(\n",
            "[[0.02592951 0.         0.06365532 0.         0.         0.\n",
            "  0.06811813 0.         0.02258578 0.01623272]\n",
            " [0.3234044  0.         0.39100647 0.         0.         0.\n",
            "  0.2561923  0.         0.02064044 0.        ]\n",
            " [0.         0.02360985 0.07058021 0.         0.         0.\n",
            "  0.22284468 0.         0.13228221 0.16259181]\n",
            " [0.04726543 0.         0.2909913  0.         0.         0.\n",
            "  0.38183352 0.         0.15452558 0.14334467]\n",
            " [0.07436943 0.         0.21493968 0.         0.         0.\n",
            "  0.24304059 0.         0.08575001 0.06760252]], shape=(5, 10), dtype=float32)\n"
          ]
        }
      ]
    },
    {
      "cell_type": "code",
      "source": [
        "inputs = keras.Input(shape=(28, 28, 1))\n",
        "layer = layers.Flatten(input_shape=(28, 28, 1))(inputs)\n",
        "print(layer.shape)"
      ],
      "metadata": {
        "colab": {
          "base_uri": "https://localhost:8080/"
        },
        "id": "UiNf23vxV3km",
        "outputId": "75912776-3e56-44e5-dc3e-d0eda558ed44"
      },
      "execution_count": 81,
      "outputs": [
        {
          "output_type": "stream",
          "name": "stdout",
          "text": [
            "(None, 784)\n"
          ]
        }
      ]
    },
    {
      "cell_type": "code",
      "source": [
        "inputs = keras.Input(shape=(224, 224, 1))\n",
        "layer = layers.Flatten(input_shape=(224, 224, 1))(inputs)\n",
        "print(layer.shape)\n",
        "print(layer)"
      ],
      "metadata": {
        "colab": {
          "base_uri": "https://localhost:8080/"
        },
        "id": "VYM6c4jIV7XC",
        "outputId": "c0e4315a-fa60-40cc-c133-0fc2dd3e11b8"
      },
      "execution_count": 84,
      "outputs": [
        {
          "output_type": "stream",
          "name": "stdout",
          "text": [
            "(None, 50176)\n",
            "KerasTensor(type_spec=TensorSpec(shape=(None, 50176), dtype=tf.float32, name=None), name='flatten_3/Reshape:0', description=\"created by layer 'flatten_3'\")\n"
          ]
        }
      ]
    },
    {
      "cell_type": "code",
      "source": [
        "from tensorflow.keras import models, layers, utils\n",
        "import numpy as np\n",
        "\n",
        "# Sequential 모델 생성\n",
        "model = models.Sequential()\n",
        "\n",
        "# 레이어 추가\n",
        "model.add(layers.Dense(64, activation='relu', input_shape=(784,)))\n",
        "model.add(layers.Dense(10, activation='softmax'))\n",
        "\n",
        "# 정수 레이블을 원-핫 인코딩으로 변환\n",
        "labels = np.array([0, 2, 1, 3])\n",
        "one_hot_labels = utils.to_categorical(labels, num_classes=4)\n",
        "\n",
        "print(one_hot_labels)\n"
      ],
      "metadata": {
        "colab": {
          "base_uri": "https://localhost:8080/"
        },
        "id": "ZtkwBPet90uJ",
        "outputId": "1d33b251-c575-4f12-a7f2-497faff9e59f"
      },
      "execution_count": 1,
      "outputs": [
        {
          "output_type": "stream",
          "name": "stdout",
          "text": [
            "[[1. 0. 0. 0.]\n",
            " [0. 0. 1. 0.]\n",
            " [0. 1. 0. 0.]\n",
            " [0. 0. 0. 1.]]\n"
          ]
        }
      ]
    },
    {
      "cell_type": "code",
      "source": [
        "model = models.Sequential()\n",
        "model.add(layers.Input(shape=(28, 28), name='Input'))\n",
        "model.add(layers.Dense(300, activation='relu', name='Dense1'))\n",
        "model.add(layers.Dense(100, activation='relu', name='Dense2'))\n",
        "model.add(layers.Dense(10, activation='softmax', name='Output'))\n",
        "model.summary()"
      ],
      "metadata": {
        "colab": {
          "base_uri": "https://localhost:8080/"
        },
        "id": "12cuFJvCEMee",
        "outputId": "bcb06d70-2060-4228-f6e2-1a7fafb63a30"
      },
      "execution_count": 6,
      "outputs": [
        {
          "output_type": "stream",
          "name": "stdout",
          "text": [
            "Model: \"sequential_3\"\n",
            "_________________________________________________________________\n",
            " Layer (type)                Output Shape              Param #   \n",
            "=================================================================\n",
            " Dense1 (Dense)              (None, 28, 300)           8700      \n",
            "                                                                 \n",
            " Dense2 (Dense)              (None, 28, 100)           30100     \n",
            "                                                                 \n",
            " Output (Dense)              (None, 28, 10)            1010      \n",
            "                                                                 \n",
            "=================================================================\n",
            "Total params: 39,810\n",
            "Trainable params: 39,810\n",
            "Non-trainable params: 0\n",
            "_________________________________________________________________\n"
          ]
        }
      ]
    },
    {
      "cell_type": "code",
      "source": [
        "utils.plot_model(model)"
      ],
      "metadata": {
        "colab": {
          "base_uri": "https://localhost:8080/",
          "height": 369
        },
        "id": "Z2JckzGiET96",
        "outputId": "6fde83cb-f336-4f09-f0e5-2026db8bd2a3"
      },
      "execution_count": 7,
      "outputs": [
        {
          "output_type": "execute_result",
          "data": {
            "image/png": "[encoded data removed]",
            "text/plain": [
              "<IPython.core.display.Image object>"
            ]
          },
          "metadata": {},
          "execution_count": 7
        }
      ]
    },
    {
      "cell_type": "code",
      "source": [
        "model = models.Sequential([layers.Input(shape=(28, 28), name='Input'),\n",
        "                           layers.Dense(300, activation='relu', name='Dense1'),\n",
        "                           layers.Dense(100, activation='relu', name='Dense2'),\n",
        "                           layers.Dense(10, activation='softmax', name='Output')])\n",
        "model.summary()"
      ],
      "metadata": {
        "colab": {
          "base_uri": "https://localhost:8080/"
        },
        "id": "EEPj4z5eEbGN",
        "outputId": "c5924f23-a155-497c-ec17-88747136005e"
      },
      "execution_count": 4,
      "outputs": [
        {
          "output_type": "stream",
          "name": "stdout",
          "text": [
            "Model: \"sequential_2\"\n",
            "_________________________________________________________________\n",
            " Layer (type)                Output Shape              Param #   \n",
            "=================================================================\n",
            " Dense1 (Dense)              (None, 28, 300)           8700      \n",
            "                                                                 \n",
            " Dense2 (Dense)              (None, 28, 100)           30100     \n",
            "                                                                 \n",
            " Output (Dense)              (None, 28, 10)            1010      \n",
            "                                                                 \n",
            "=================================================================\n",
            "Total params: 39,810\n",
            "Trainable params: 39,810\n",
            "Non-trainable params: 0\n",
            "_________________________________________________________________\n"
          ]
        }
      ]
    },
    {
      "cell_type": "code",
      "source": [
        "utils.plot_model(model)"
      ],
      "metadata": {
        "colab": {
          "base_uri": "https://localhost:8080/",
          "height": 369
        },
        "id": "eVgV5ObZEeDg",
        "outputId": "9622791c-faaa-40c6-9c80-ac578e1c5719"
      },
      "execution_count": 5,
      "outputs": [
        {
          "output_type": "execute_result",
          "data": {
            "image/png": "[encoded data removed]",
            "text/plain": [
              "<IPython.core.display.Image object>"
            ]
          },
          "metadata": {},
          "execution_count": 5
        }
      ]
    }
  ]
}