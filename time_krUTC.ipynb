{
  "nbformat": 4,
  "nbformat_minor": 0,
  "metadata": {
    "colab": {
      "provenance": [],
      "authorship_tag": "ABX9TyPe/WXsHedDHcPCYg5pP4/w",
      "include_colab_link": true
    },
    "kernelspec": {
      "name": "python3",
      "display_name": "Python 3"
    },
    "language_info": {
      "name": "python"
    }
  },
  "cells": [
    {
      "cell_type": "markdown",
      "metadata": {
        "id": "view-in-github",
        "colab_type": "text"
      },
      "source": [
        "<a href=\"https://colab.research.google.com/github/comandi1969/AIFFEL_Online_Quest/blob/main/time_krUTC.ipynb\" target=\"_parent\"><img src=\"https://colab.research.google.com/assets/colab-badge.svg\" alt=\"Open In Colab\"/></a>"
      ]
    },
    {
      "cell_type": "code",
      "execution_count": null,
      "metadata": {
        "colab": {
          "base_uri": "https://localhost:8080/"
        },
        "id": "RiD13m6ofoOo",
        "outputId": "e55e924e-2ebc-4960-f78b-b1f50a4b6b23"
      },
      "outputs": [
        {
          "output_type": "stream",
          "name": "stdout",
          "text": [
            "2023-07-06 18:19:00\n"
          ]
        }
      ],
      "source": [
        "import datetime\n",
        "import pytz\n",
        "\n",
        "# 현재 시간을 가져옵니다.\n",
        "now = datetime.datetime.now()\n",
        "\n",
        "# 한국 시간대를 설정합니다.\n",
        "korea_timezone = pytz.timezone('Asia/Seoul')\n",
        "korea_time = now.astimezone(korea_timezone)\n",
        "\n",
        "# 결과 출력\n",
        "print(korea_time.strftime(\"%Y-%m-%d %H:%M:%S\"))\n"
      ]
    }
  ]
}