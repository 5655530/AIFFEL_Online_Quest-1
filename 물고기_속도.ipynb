{
  "nbformat": 4,
  "nbformat_minor": 0,
  "metadata": {
    "colab": {
      "provenance": [],
      "authorship_tag": "ABX9TyNZUhUTYSWANzKAjPbWgB5g",
      "include_colab_link": true
    },
    "kernelspec": {
      "name": "python3",
      "display_name": "Python 3"
    },
    "language_info": {
      "name": "python"
    }
  },
  "cells": [
    {
      "cell_type": "markdown",
      "metadata": {
        "id": "view-in-github",
        "colab_type": "text"
      },
      "source": [
        "<a href=\"https://colab.research.google.com/github/comandi1969/AIFFEL_Online_Quest/blob/main/%EB%AC%BC%EA%B3%A0%EA%B8%B0_%EC%86%8D%EB%8F%84.ipynb\" target=\"_parent\"><img src=\"https://colab.research.google.com/assets/colab-badge.svg\" alt=\"Open In Colab\"/></a>"
      ]
    },
    {
      "cell_type": "code",
      "execution_count": 4,
      "metadata": {
        "colab": {
          "base_uri": "https://localhost:8080/"
        },
        "id": "00Cd5gCLqp-l",
        "outputId": "c4a4482f-7619-49ef-d514-060c94c54280"
      },
      "outputs": [
        {
          "output_type": "stream",
          "name": "stdout",
          "text": [
            "물고기 이름을 입력하세요 (종료하려면 'q' 입력): Nemo\n",
            "물고기의 속도를 입력하세요: 3\n",
            "물고기 이름을 입력하세요 (종료하려면 'q' 입력): Dory\n",
            "물고기의 속도를 입력하세요: 5\n",
            "물고기 이름을 입력하세요 (종료하려면 'q' 입력): q\n",
            "Using Comprehension:\n",
            "Nemo is swimming at 3 m/s\n",
            "Dory is swimming at 5 m/s\n",
            "Using Generator:\n",
            "Nemo is swimming at 3 m/s\n",
            "Dory is swimming at 5 m/s\n"
          ]
        }
      ],
      "source": [
        "import time\n",
        "# 컴프리헨션 함수 정의\n",
        "def show_fish_movement_comprehension(fish_list):\n",
        "    movement = tuple(f\"{fish['이름']} is swimming at {fish['speed']} m/s\" for fish in fish_list)\n",
        "    for m in movement:\n",
        "        print(m)\n",
        "        time.sleep(2)\n",
        "\n",
        "# 제너레이터 함수 정의\n",
        "def show_fish_movement_generator(fish_list):\n",
        "    def movement_generator():\n",
        "        for fish in fish_list:\n",
        "            yield f\"{fish['이름']} is swimming at {fish['speed']} m/s\"\n",
        "\n",
        "    for m in movement_generator():\n",
        "        print(m)\n",
        "        time.sleep(2)\n",
        "'''\n",
        "# 물고기 리스트 생성\n",
        "fish_list = [\n",
        "    {\"이름\": \"Nemo\", \"speed\": 3},\n",
        "    {\"이름\": \"Dory\", \"speed\": 5},\n",
        "]\n",
        "'''\n",
        "# 사용자 입력으로 물고기 리스트 생성\n",
        "def get_fish_list_from_user():\n",
        "    fish_list = []\n",
        "    while True:\n",
        "        fish_name = input(\"물고기 이름을 입력하세요 (종료하려면 'q' 입력): \")\n",
        "        if fish_name == 'q':\n",
        "            break\n",
        "        fish_speed = int(input(\"물고기의 속도를 입력하세요: \"))\n",
        "        fish = {\"이름\": fish_name, \"speed\": fish_speed}\n",
        "        fish_list.append(fish)\n",
        "    return fish_list\n",
        "\n",
        "# 사용자로부터 물고기 리스트 입력 받기\n",
        "fish_list = get_fish_list_from_user()\n",
        "\n",
        "# 컴프리헨션 함수 출력\n",
        "print(\"Using Comprehension:\")\n",
        "show_fish_movement_comprehension(fish_list)\n",
        "\n",
        "# 제너레이터 함수 출력\n",
        "print(\"Using Generator:\")\n",
        "show_fish_movement_generator(fish_list)\n"
      ]
    }
  ]
}