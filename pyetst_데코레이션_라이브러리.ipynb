{
  "nbformat": 4,
  "nbformat_minor": 0,
  "metadata": {
    "colab": {
      "provenance": [],
      "authorship_tag": "ABX9TyOMRlJ1NFgN6rcJyRxDcxzH",
      "include_colab_link": true
    },
    "kernelspec": {
      "name": "python3",
      "display_name": "Python 3"
    },
    "language_info": {
      "name": "python"
    }
  },
  "cells": [
    {
      "cell_type": "markdown",
      "metadata": {
        "id": "view-in-github",
        "colab_type": "text"
      },
      "source": [
        "<a href=\"https://colab.research.google.com/github/comandi1969/AIFFEL_Online_Quest/blob/main/pyetst_%EB%8D%B0%EC%BD%94%EB%A0%88%EC%9D%B4%EC%85%98_%EB%9D%BC%EC%9D%B4%EB%B8%8C%EB%9F%AC%EB%A6%AC.ipynb\" target=\"_parent\"><img src=\"https://colab.research.google.com/assets/colab-badge.svg\" alt=\"Open In Colab\"/></a>"
      ]
    },
    {
      "cell_type": "code",
      "execution_count": 3,
      "metadata": {
        "id": "eFRkjcMmiPvn"
      },
      "outputs": [],
      "source": [
        "import pytest\n",
        "\n",
        "def add(x, y):\n",
        "    return x + y\n",
        "\n",
        "@pytest.mark.parametrize(\"x, y, expected\", [\n",
        "    (2, 3, 5),\n",
        "    (10, 10, 20),\n",
        "    (-5, 5, 0)\n",
        "])\n",
        "def test_addition(x, y, expected):\n",
        "    assert add(x, y) == expected\n"
      ]
    }
  ]
}