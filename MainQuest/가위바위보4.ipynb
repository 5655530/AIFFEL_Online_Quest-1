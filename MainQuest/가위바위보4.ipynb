{
  "nbformat": 4,
  "nbformat_minor": 0,
  "metadata": {
    "colab": {
      "provenance": [],
      "include_colab_link": true
    },
    "kernelspec": {
      "name": "python3",
      "display_name": "Python 3"
    },
    "language_info": {
      "name": "python"
    }
  },
  "cells": [
    {
      "cell_type": "markdown",
      "metadata": {
        "id": "view-in-github",
        "colab_type": "text"
      },
      "source": [
        "<a href=\"https://colab.research.google.com/github/comandi1969/AIFFEL_Online_Quest/blob/main/MainQuest/%EA%B0%80%EC%9C%84%EB%B0%94%EC%9C%84%EB%B3%B44.ipynb\" target=\"_parent\"><img src=\"https://colab.research.google.com/assets/colab-badge.svg\" alt=\"Open In Colab\"/></a>"
      ]
    },
    {
      "cell_type": "code",
      "execution_count": 66,
      "metadata": {
        "colab": {
          "base_uri": "https://localhost:8080/"
        },
        "id": "P7yrFUWXbnSK",
        "outputId": "ab99ec7e-6cf4-4164-d7d3-ebd1e6c87611"
      },
      "outputs": [
        {
          "output_type": "stream",
          "name": "stdout",
          "text": [
            "2.12.0\n",
            "1.22.4\n"
          ]
        }
      ],
      "source": [
        "import tensorflow as tf\n",
        "import numpy as np\n",
        "\n",
        "print(tf.__version__)\n",
        "print(np.__version__)"
      ]
    },
    {
      "cell_type": "code",
      "source": [
        "from google.colab import drive\n",
        "drive.mount(\"/content/drive\", force_remount=True)"
      ],
      "metadata": {
        "colab": {
          "base_uri": "https://localhost:8080/"
        },
        "id": "AOz3mIw0oFFe",
        "outputId": "a1a4b75e-08c1-4ed1-a750-bceb8deeebbb"
      },
      "execution_count": 67,
      "outputs": [
        {
          "output_type": "stream",
          "name": "stdout",
          "text": [
            "Mounted at /content/drive\n"
          ]
        }
      ]
    },
    {
      "cell_type": "code",
      "source": [
        "from PIL import Image\n",
        "import glob\n",
        "import os\n",
        "\n",
        "print(\"PIL 라이브러리 import 완료!\")"
      ],
      "metadata": {
        "colab": {
          "base_uri": "https://localhost:8080/"
        },
        "id": "HsX3K-eqiGWO",
        "outputId": "24a39e1d-25f1-4e23-a7fd-88c65b0c3042"
      },
      "execution_count": 68,
      "outputs": [
        {
          "output_type": "stream",
          "name": "stdout",
          "text": [
            "PIL 라이브러리 import 완료!\n"
          ]
        }
      ]
    },
    {
      "cell_type": "code",
      "source": [
        "# 이미지 리사이즈\n",
        "# 김소연님을 제외한 전체 구루 데이터 세트\n",
        "def resize_images(img_path):\n",
        "\timages=glob.glob(img_path + \"/*.jpg\")\n",
        "\n",
        "\tprint(len(images), \" images to be resized.\")\n",
        "\n",
        "    # 파일마다 모두 28x28 사이즈로 바꾸어 저장합니다.\n",
        "\t#target_size=(28,28)\n",
        "\ttarget_size=(56,56)\n",
        "\tfor img in images:\n",
        "\t\told_img=Image.open(img)\n",
        "\t\tnew_img=old_img.resize(target_size,Image.ANTIALIAS)\n",
        "\t\tnew_img.save(img, \"JPEG\")\n",
        "\n",
        "\tprint(len(images), \" images resized.\")\n",
        "\n",
        "# 가위 이미지가 저장된 디렉토리 아래의 모든 jpg 파일을 읽어들여서\n",
        "# image_dir_path = os.getenv(\"HOME\") + \"/aiffel/rock_scissor_paper/scissor\"\n",
        "image_dir_path_paper = \"/content/drive/MyDrive/rock_scissor_paper_all/paper\"\n",
        "resize_images(image_dir_path_paper)\n",
        "print(\"보 이미지 resize 완료!\")\n",
        "\n",
        "image_dir_path_rock = \"/content/drive/MyDrive/rock_scissor_paper_all/rock\"\n",
        "resize_images(image_dir_path_rock)\n",
        "print(\"바위 이미지 resize 완료!\")\n",
        "\n",
        "image_dir_path_scissor = \"/content/drive/MyDrive/rock_scissor_paper_all/scissor\"\n",
        "resize_images(image_dir_path_scissor)\n",
        "print(\"가위 이미지 resize 완료!\")\n",
        "\n",
        "\n"
      ],
      "metadata": {
        "colab": {
          "base_uri": "https://localhost:8080/"
        },
        "id": "ogRK6_GWjZgi",
        "outputId": "e2f05794-af4e-4780-a8b2-87f253f2758f"
      },
      "execution_count": 69,
      "outputs": [
        {
          "output_type": "stream",
          "name": "stdout",
          "text": [
            "1000  images to be resized.\n"
          ]
        },
        {
          "output_type": "stream",
          "name": "stderr",
          "text": [
            "<ipython-input-69-150e3cd22312>:13: DeprecationWarning: ANTIALIAS is deprecated and will be removed in Pillow 10 (2023-07-01). Use LANCZOS or Resampling.LANCZOS instead.\n",
            "  new_img=old_img.resize(target_size,Image.ANTIALIAS)\n"
          ]
        },
        {
          "output_type": "stream",
          "name": "stdout",
          "text": [
            "1000  images resized.\n",
            "보 이미지 resize 완료!\n",
            "1000  images to be resized.\n",
            "1000  images resized.\n",
            "바위 이미지 resize 완료!\n",
            "1000  images to be resized.\n",
            "1000  images resized.\n",
            "가위 이미지 resize 완료!\n"
          ]
        }
      ]
    },
    {
      "cell_type": "code",
      "source": [
        "# 학습 데이터\n",
        "# 김소연님을 제외한 전체 구루 데이터 세트\n",
        "import numpy as np\n",
        "import os\n",
        "import matplotlib.pyplot as plt\n",
        "\n",
        "def load_data(img_path, number_of_data=3000):  # 가위바위보 이미지 개수 총합에 주의하세요.\n",
        "    # 가위 : 0, 바위 : 1, 보 : 2\n",
        "    #img_size=28\n",
        "    img_size=56\n",
        "    color=3\n",
        "    #이미지 데이터와 라벨(가위 : 0, 바위 : 1, 보 : 2) 데이터를 담을 행렬(matrix) 영역을 생성합니다.\n",
        "    imgs=np.zeros(number_of_data*img_size*img_size*color,dtype=np.int32).reshape(number_of_data,img_size,img_size,color)\n",
        "    labels=np.zeros(number_of_data,dtype=np.int32)\n",
        "\n",
        "    idx=0\n",
        "    for file in glob.iglob(img_path+'/scissor/*.jpg'):\n",
        "        img = np.array(Image.open(file),dtype=np.int32)\n",
        "        imgs[idx,:,:,:]=img    # 데이터 영역에 이미지 행렬을 복사\n",
        "        labels[idx]=0   # 가위 : 0\n",
        "        idx=idx+1\n",
        "\n",
        "    for file in glob.iglob(img_path+'/rock/*.jpg'):\n",
        "        img = np.array(Image.open(file),dtype=np.int32)\n",
        "        imgs[idx,:,:,:]=img    # 데이터 영역에 이미지 행렬을 복사\n",
        "        labels[idx]=1   # 바위 : 1\n",
        "        idx=idx+1\n",
        "\n",
        "    for file in glob.iglob(img_path+'/paper/*.jpg'):\n",
        "        img = np.array(Image.open(file),dtype=np.int32)\n",
        "        imgs[idx,:,:,:]=img    # 데이터 영역에 이미지 행렬을 복사\n",
        "        labels[idx]=2   # 보 : 2\n",
        "        idx=idx+1\n",
        "\n",
        "    print(\"학습데이터(x_train)의 이미지 개수는\", idx,\"입니다.\")\n",
        "    return imgs, labels\n",
        "\n",
        "image_dir_path = \"/content/drive/MyDrive/rock_scissor_paper_all\"\n",
        "(x_train, y_train)=load_data(image_dir_path)\n",
        "x_train_norm = x_train/255.0   # 입력은 0~1 사이의 값으로 정규화\n",
        "\n",
        "print(\"x_train shape: {}\".format(x_train.shape))\n",
        "print(\"y_train shape: {}\".format(y_train.shape))\n",
        "print(\"x_train_norm shape: {}\".format(x_train_norm.shape))"
      ],
      "metadata": {
        "colab": {
          "base_uri": "https://localhost:8080/"
        },
        "id": "sKUPQXU4s208",
        "outputId": "16218833-cb39-4f5c-d4d3-9d1862029a05"
      },
      "execution_count": 70,
      "outputs": [
        {
          "output_type": "stream",
          "name": "stdout",
          "text": [
            "학습데이터(x_train)의 이미지 개수는 3000 입니다.\n",
            "x_train shape: (3000, 56, 56, 3)\n",
            "y_train shape: (3000,)\n",
            "x_train_norm shape: (3000, 56, 56, 3)\n"
          ]
        }
      ]
    },
    {
      "cell_type": "code",
      "source": [
        "import matplotlib.pyplot as plt\n",
        "plt.figure(figsize=(1, 1))\n",
        "plt.imshow(x_train[0])\n",
        "print('라벨: ', y_train[0])\n"
      ],
      "metadata": {
        "colab": {
          "base_uri": "https://localhost:8080/",
          "height": 160
        },
        "id": "Ieo252s5twzS",
        "outputId": "580e9999-909a-40df-9f04-6ea0a3bcab42"
      },
      "execution_count": 71,
      "outputs": [
        {
          "output_type": "stream",
          "name": "stdout",
          "text": [
            "라벨:  0\n"
          ]
        },
        {
          "output_type": "display_data",
          "data": {
            "text/plain": [
              "<Figure size 100x100 with 1 Axes>"
            ],
            "image/png": "[encoded data removed]"
          },
          "metadata": {}
        }
      ]
    },
    {
      "cell_type": "code",
      "source": [
        "import matplotlib.pyplot as plt\n",
        "plt.figure(figsize=(1, 1))\n",
        "plt.imshow(x_train[100])\n",
        "print('라벨: ', y_train[100])"
      ],
      "metadata": {
        "colab": {
          "base_uri": "https://localhost:8080/",
          "height": 160
        },
        "id": "JTyveuGtVa7f",
        "outputId": "98f1bd7c-48b0-437f-e136-ac83905f458a"
      },
      "execution_count": 72,
      "outputs": [
        {
          "output_type": "stream",
          "name": "stdout",
          "text": [
            "라벨:  0\n"
          ]
        },
        {
          "output_type": "display_data",
          "data": {
            "text/plain": [
              "<Figure size 100x100 with 1 Axes>"
            ],
            "image/png": "[encoded data removed]"
          },
          "metadata": {}
        }
      ]
    },
    {
      "cell_type": "code",
      "source": [
        "import matplotlib.pyplot as plt\n",
        "plt.figure(figsize=(1, 1))\n",
        "plt.imshow(x_train[200])\n",
        "print('라벨: ', y_train[200])"
      ],
      "metadata": {
        "colab": {
          "base_uri": "https://localhost:8080/",
          "height": 160
        },
        "id": "zeeqAPO4VbIm",
        "outputId": "10ad9135-6ed3-484b-d50f-edd60207f657"
      },
      "execution_count": 73,
      "outputs": [
        {
          "output_type": "stream",
          "name": "stdout",
          "text": [
            "라벨:  0\n"
          ]
        },
        {
          "output_type": "display_data",
          "data": {
            "text/plain": [
              "<Figure size 100x100 with 1 Axes>"
            ],
            "image/png": "[encoded data removed]"
          },
          "metadata": {}
        }
      ]
    },
    {
      "cell_type": "code",
      "source": [
        "print(f'x_train.shape => {x_train.shape}')\n",
        "print(f'y_train.shape => {y_train.shape}')\n"
      ],
      "metadata": {
        "colab": {
          "base_uri": "https://localhost:8080/"
        },
        "id": "GL8kfrUGzmrh",
        "outputId": "6df0bb12-809a-4c74-942b-e02c2f2f4afb"
      },
      "execution_count": 74,
      "outputs": [
        {
          "output_type": "stream",
          "name": "stdout",
          "text": [
            "x_train.shape => (3000, 56, 56, 3)\n",
            "y_train.shape => (3000,)\n"
          ]
        }
      ]
    },
    {
      "cell_type": "code",
      "source": [
        "print('최소값:',np.min(x_train), ' 최대값:',np.max(x_train))"
      ],
      "metadata": {
        "colab": {
          "base_uri": "https://localhost:8080/"
        },
        "id": "HtD3wbdEzwvw",
        "outputId": "8af06187-1426-41f0-e95d-64f41e79b328"
      },
      "execution_count": 75,
      "outputs": [
        {
          "output_type": "stream",
          "name": "stdout",
          "text": [
            "최소값: 0  최대값: 255\n"
          ]
        }
      ]
    },
    {
      "cell_type": "code",
      "source": [
        "import tensorflow as tf\n",
        "from tensorflow import keras\n",
        "import numpy as np\n",
        "import matplotlib.pyplot as plt\n",
        "\n",
        "n_channel_1=64\n",
        "n_channel_2=64\n",
        "n_dense=64\n",
        "n_train_epoch=10\n",
        "\n",
        "model=keras.models.Sequential()\n",
        "#model.add(keras.layers.Conv2D(n_channel_1, (3,3), activation='relu', input_shape=(28,28,3)))\n",
        "model.add(keras.layers.Conv2D(n_channel_1, (3,3), activation='relu', input_shape=(56,56,3)))\n",
        "model.add(keras.layers.MaxPool2D(2,2))\n",
        "model.add(keras.layers.Conv2D(n_channel_2, (3,3), activation='relu'))\n",
        "model.add(keras.layers.MaxPooling2D((2,2)))\n",
        "model.add(keras.layers.Flatten())\n",
        "model.add(keras.layers.Dense(n_dense, activation='relu'))\n",
        "model.add(keras.layers.Dense(3, activation='softmax'))\n",
        "\n",
        "model.summary()\n",
        "\n"
      ],
      "metadata": {
        "colab": {
          "base_uri": "https://localhost:8080/"
        },
        "id": "leJZpTzwvtYr",
        "outputId": "fa23d991-8c07-4bf0-866b-fd3e9cf63510"
      },
      "execution_count": 76,
      "outputs": [
        {
          "output_type": "stream",
          "name": "stdout",
          "text": [
            "Model: \"sequential_5\"\n",
            "_________________________________________________________________\n",
            " Layer (type)                Output Shape              Param #   \n",
            "=================================================================\n",
            " conv2d_10 (Conv2D)          (None, 54, 54, 64)        1792      \n",
            "                                                                 \n",
            " max_pooling2d_10 (MaxPoolin  (None, 27, 27, 64)       0         \n",
            " g2D)                                                            \n",
            "                                                                 \n",
            " conv2d_11 (Conv2D)          (None, 25, 25, 64)        36928     \n",
            "                                                                 \n",
            " max_pooling2d_11 (MaxPoolin  (None, 12, 12, 64)       0         \n",
            " g2D)                                                            \n",
            "                                                                 \n",
            " flatten_5 (Flatten)         (None, 9216)              0         \n",
            "                                                                 \n",
            " dense_10 (Dense)            (None, 64)                589888    \n",
            "                                                                 \n",
            " dense_11 (Dense)            (None, 3)                 195       \n",
            "                                                                 \n",
            "=================================================================\n",
            "Total params: 628,803\n",
            "Trainable params: 628,803\n",
            "Non-trainable params: 0\n",
            "_________________________________________________________________\n"
          ]
        }
      ]
    },
    {
      "cell_type": "code",
      "source": [
        "model.compile(optimizer='adam',\n",
        "             loss='sparse_categorical_crossentropy',\n",
        "             metrics=['accuracy'])\n",
        "\n",
        "model.fit(x_train_norm, y_train, epochs=n_train_epoch)"
      ],
      "metadata": {
        "colab": {
          "base_uri": "https://localhost:8080/"
        },
        "id": "jEw2mctk0ubb",
        "outputId": "369e8c16-5b8c-4c75-97fa-52c961eb7600"
      },
      "execution_count": 77,
      "outputs": [
        {
          "output_type": "stream",
          "name": "stdout",
          "text": [
            "Epoch 1/10\n",
            "94/94 [==============================] - 23s 239ms/step - loss: 0.9162 - accuracy: 0.5460\n",
            "Epoch 2/10\n",
            "94/94 [==============================] - 27s 283ms/step - loss: 0.5104 - accuracy: 0.7947\n",
            "Epoch 3/10\n",
            "94/94 [==============================] - 25s 272ms/step - loss: 0.3219 - accuracy: 0.8790\n",
            "Epoch 4/10\n",
            "94/94 [==============================] - 25s 269ms/step - loss: 0.1927 - accuracy: 0.9330\n",
            "Epoch 5/10\n",
            "94/94 [==============================] - 23s 245ms/step - loss: 0.1393 - accuracy: 0.9537\n",
            "Epoch 6/10\n",
            "94/94 [==============================] - 25s 269ms/step - loss: 0.1060 - accuracy: 0.9693\n",
            "Epoch 7/10\n",
            "94/94 [==============================] - 24s 257ms/step - loss: 0.0617 - accuracy: 0.9847\n",
            "Epoch 8/10\n",
            "94/94 [==============================] - 23s 248ms/step - loss: 0.0338 - accuracy: 0.9953\n",
            "Epoch 9/10\n",
            "94/94 [==============================] - 25s 267ms/step - loss: 0.0324 - accuracy: 0.9920\n",
            "Epoch 10/10\n",
            "94/94 [==============================] - 24s 254ms/step - loss: 0.0114 - accuracy: 0.9987\n"
          ]
        },
        {
          "output_type": "execute_result",
          "data": {
            "text/plain": [
              "<keras.callbacks.History at 0x7edfda6042b0>"
            ]
          },
          "metadata": {},
          "execution_count": 77
        }
      ]
    },
    {
      "cell_type": "code",
      "source": [
        "# 테스트 데이터 리사이즈\n",
        "# 김소연님 데이터 세트\n",
        "def resize_images(img_path):\n",
        "\timages=glob.glob(img_path + \"/*.jpg\")\n",
        "\n",
        "\tprint(len(images), \" images to be resized.\")\n",
        "\n",
        "    # 파일마다 모두 28x28 사이즈로 바꾸어 저장합니다.\n",
        "\t#target_size=(28,28)\n",
        "\ttarget_size=(56,56)\n",
        "\tfor img in images:\n",
        "\t\told_img=Image.open(img)\n",
        "\t\tnew_img=old_img.resize(target_size,Image.ANTIALIAS)\n",
        "\t\tnew_img.save(img, \"JPEG\")\n",
        "\n",
        "\tprint(len(images), \" images resized.\")\n",
        "\n",
        "# 가위 이미지가 저장된 디렉토리 아래의 모든 jpg 파일을 읽어들여서\n",
        "# image_dir_path = os.getenv(\"HOME\") + \"/aiffel/rock_scissor_paper/scissor\"\n",
        "image_dir_path_paper = \"/content/drive/MyDrive/rock_scissor_paper4/paper\"\n",
        "resize_images(image_dir_path_paper)\n",
        "print(\"보 이미지 resize 완료!\")\n",
        "\n",
        "image_dir_path_rock = \"/content/drive/MyDrive/rock_scissor_paper4/rock\"\n",
        "resize_images(image_dir_path_rock)\n",
        "print(\"바위 이미지 resize 완료!\")\n",
        "\n",
        "image_dir_path_scissor = \"/content/drive/MyDrive/rock_scissor_paper4/scissor\"\n",
        "resize_images(image_dir_path_scissor)\n",
        "print(\"가위 이미지 resize 완료!\")"
      ],
      "metadata": {
        "colab": {
          "base_uri": "https://localhost:8080/"
        },
        "id": "aIraQkQDCMG8",
        "outputId": "cfeaf40a-0d6d-4f5a-e075-3f57526cec73"
      },
      "execution_count": 83,
      "outputs": [
        {
          "output_type": "stream",
          "name": "stdout",
          "text": [
            "100  images to be resized.\n"
          ]
        },
        {
          "output_type": "stream",
          "name": "stderr",
          "text": [
            "<ipython-input-83-5e80517bd7c8>:13: DeprecationWarning: ANTIALIAS is deprecated and will be removed in Pillow 10 (2023-07-01). Use LANCZOS or Resampling.LANCZOS instead.\n",
            "  new_img=old_img.resize(target_size,Image.ANTIALIAS)\n"
          ]
        },
        {
          "output_type": "stream",
          "name": "stdout",
          "text": [
            "100  images resized.\n",
            "보 이미지 resize 완료!\n",
            "100  images to be resized.\n",
            "100  images resized.\n",
            "바위 이미지 resize 완료!\n",
            "100  images to be resized.\n",
            "100  images resized.\n",
            "가위 이미지 resize 완료!\n"
          ]
        }
      ]
    },
    {
      "cell_type": "code",
      "source": [
        "# 테스트 데이터 준비\n",
        "# 김소연님 데이터 세트\n",
        "import numpy as np\n",
        "import os\n",
        "import matplotlib.pyplot as plt\n",
        "\n",
        "def load_data(img_path, number_of_data=300):  # 가위바위보 이미지 개수 총합에 주의하세요.\n",
        "    # 가위 : 0, 바위 : 1, 보 : 2\n",
        "    #img_size=28\n",
        "    img_size=56\n",
        "    color=3\n",
        "    #이미지 데이터와 라벨(가위 : 0, 바위 : 1, 보 : 2) 데이터를 담을 행렬(matrix) 영역을 생성합니다.\n",
        "    imgs=np.zeros(number_of_data*img_size*img_size*color,dtype=np.int32).reshape(number_of_data,img_size,img_size,color)\n",
        "    labels=np.zeros(number_of_data,dtype=np.int32)\n",
        "\n",
        "    idx=0\n",
        "    for file in glob.iglob(img_path+'/scissor/*.jpg'):\n",
        "        img = np.array(Image.open(file),dtype=np.int32)\n",
        "        imgs[idx,:,:,:]=img    # 데이터 영역에 이미지 행렬을 복사\n",
        "        labels[idx]=0   # 가위 : 0\n",
        "        idx=idx+1\n",
        "\n",
        "    for file in glob.iglob(img_path+'/rock/*.jpg'):\n",
        "        img = np.array(Image.open(file),dtype=np.int32)\n",
        "        imgs[idx,:,:,:]=img    # 데이터 영역에 이미지 행렬을 복사\n",
        "        labels[idx]=1   # 바위 : 1\n",
        "        idx=idx+1\n",
        "\n",
        "    for file in glob.iglob(img_path+'/paper/*.jpg'):\n",
        "        img = np.array(Image.open(file),dtype=np.int32)\n",
        "        imgs[idx,:,:,:]=img    # 데이터 영역에 이미지 행렬을 복사\n",
        "        labels[idx]=2   # 보 : 2\n",
        "        idx=idx+1\n",
        "\n",
        "    print(\"테스트데이터(x_test)의 이미지 개수는\", idx,\"입니다.\")\n",
        "    return imgs, labels\n",
        "\n",
        "image_dir_path = \"/content/drive/MyDrive/rock_scissor_paper4\"\n",
        "(x_test, y_test)=load_data(image_dir_path)\n",
        "x_test_norm = x_test/255.0   # 입력은 0~1 사이의 값으로 정규화\n",
        "\n",
        "print(\"x_test shape: {}\".format(x_test.shape))\n",
        "print(\"y_test shape: {}\".format(y_test.shape))"
      ],
      "metadata": {
        "colab": {
          "base_uri": "https://localhost:8080/"
        },
        "id": "WcADw5525ojT",
        "outputId": "49fb8fd6-83b1-4464-b14e-8af5e3fe22a3"
      },
      "execution_count": 84,
      "outputs": [
        {
          "output_type": "stream",
          "name": "stdout",
          "text": [
            "테스트데이터(x_test)의 이미지 개수는 300 입니다.\n",
            "x_test shape: (300, 56, 56, 3)\n",
            "y_test shape: (300,)\n"
          ]
        }
      ]
    },
    {
      "cell_type": "code",
      "source": [
        "test_loss, test_accuracy = model.evaluate(x_test_norm, y_test, verbose=2)\n",
        "print(f\"test_loss: {test_loss}\")\n",
        "print(f\"test_accuracy: {test_accuracy}\")"
      ],
      "metadata": {
        "colab": {
          "base_uri": "https://localhost:8080/"
        },
        "id": "sAbn0hOn-jkK",
        "outputId": "0a9218df-404a-4086-d8a9-d4b7e3812962"
      },
      "execution_count": 86,
      "outputs": [
        {
          "output_type": "stream",
          "name": "stdout",
          "text": [
            "10/10 - 0s - loss: 1.6293 - accuracy: 0.7733 - 479ms/epoch - 48ms/step\n",
            "test_loss: 1.6293082237243652\n",
            "test_accuracy: 0.7733333110809326\n"
          ]
        }
      ]
    },
    {
      "cell_type": "code",
      "source": [
        "predicted_result = model.predict(x_test_norm)  # model이 추론한 확률값.\n",
        "predicted_labels = np.argmax(predicted_result, axis=1) # model이 추론한 숫자\n",
        "\n",
        "idx=250  #1번째 x_test를 살펴보자.\n",
        "print('model.predict() 결과 : ', predicted_result[idx])\n",
        "print('model이 추론한 가장 가능성이 높은 결과 : ', predicted_labels[idx])\n",
        "print('실제 데이터의 라벨 : ', y_test[idx])\n",
        "\n",
        "plt.figure(figsize=(1, 1))\n",
        "plt.imshow(x_test[idx],cmap=plt.cm.binary)\n",
        "plt.show()"
      ],
      "metadata": {
        "colab": {
          "base_uri": "https://localhost:8080/",
          "height": 215
        },
        "id": "MpzC0esELpyz",
        "outputId": "19b0a91f-82f9-4808-b7cb-4e8805b00ed7"
      },
      "execution_count": 81,
      "outputs": [
        {
          "output_type": "stream",
          "name": "stdout",
          "text": [
            "10/10 [==============================] - 1s 56ms/step\n",
            "model.predict() 결과 :  [4.0244391e-11 4.1086544e-11 9.9999994e-01]\n",
            "model이 추론한 가장 가능성이 높은 결과 :  2\n",
            "실제 데이터의 라벨 :  2\n"
          ]
        },
        {
          "output_type": "display_data",
          "data": {
            "text/plain": [
              "<Figure size 100x100 with 1 Axes>"
            ],
            "image/png": "[encoded data removed]"
          },
          "metadata": {}
        }
      ]
    },
    {
      "cell_type": "code",
      "source": [
        "import random\n",
        "wrong_predict_list=[]\n",
        "for i, _ in enumerate(predicted_labels):\n",
        "    # i번째 test_labels과 y_test이 다른 경우만 모아 봅시다.\n",
        "    if predicted_labels[i] != y_test[i]:\n",
        "        wrong_predict_list.append(i)\n",
        "\n",
        "# wrong_predict_list 에서 랜덤하게 5개만 뽑아봅시다.\n",
        "samples = random.choices(population=wrong_predict_list, k=5)\n",
        "\n",
        "for n in samples:\n",
        "    print(\"예측확률분포: \" + str(predicted_result[n]))\n",
        "    print(\"라벨: \" + str(y_test[n]) + \", 예측결과: \" + str(predicted_labels[n]))\n",
        "    plt.figure(figsize=(1, 1))\n",
        "    plt.imshow(x_test[n], cmap=plt.cm.binary)\n",
        "    plt.show()"
      ],
      "metadata": {
        "colab": {
          "base_uri": "https://localhost:8080/",
          "height": 826
        },
        "id": "J6FXgBldNCYM",
        "outputId": "78985b34-0dd7-4f62-b810-40e990404872"
      },
      "execution_count": 82,
      "outputs": [
        {
          "output_type": "stream",
          "name": "stdout",
          "text": [
            "예측확률분포: [0.00177981 0.00636283 0.9918573 ]\n",
            "라벨: 1, 예측결과: 2\n"
          ]
        },
        {
          "output_type": "display_data",
          "data": {
            "text/plain": [
              "<Figure size 100x100 with 1 Axes>"
            ],
            "image/png": "[encoded data removed]"
          },
          "metadata": {}
        },
        {
          "output_type": "stream",
          "name": "stdout",
          "text": [
            "예측확률분포: [0.00196304 0.21417414 0.78386277]\n",
            "라벨: 1, 예측결과: 2\n"
          ]
        },
        {
          "output_type": "display_data",
          "data": {
            "text/plain": [
              "<Figure size 100x100 with 1 Axes>"
            ],
            "image/png": "[encoded data removed]"
          },
          "metadata": {}
        },
        {
          "output_type": "stream",
          "name": "stdout",
          "text": [
            "예측확률분포: [6.8158808e-04 3.8782554e-03 9.9544013e-01]\n",
            "라벨: 1, 예측결과: 2\n"
          ]
        },
        {
          "output_type": "display_data",
          "data": {
            "text/plain": [
              "<Figure size 100x100 with 1 Axes>"
            ],
            "image/png": "[encoded data removed]"
          },
          "metadata": {}
        },
        {
          "output_type": "stream",
          "name": "stdout",
          "text": [
            "예측확률분포: [9.9997979e-01 1.9412380e-06 1.8215916e-05]\n",
            "라벨: 2, 예측결과: 0\n"
          ]
        },
        {
          "output_type": "display_data",
          "data": {
            "text/plain": [
              "<Figure size 100x100 with 1 Axes>"
            ],
            "image/png": "[encoded data removed]"
          },
          "metadata": {}
        },
        {
          "output_type": "stream",
          "name": "stdout",
          "text": [
            "예측확률분포: [9.9995428e-01 3.0280551e-06 4.2654905e-05]\n",
            "라벨: 2, 예측결과: 0\n"
          ]
        },
        {
          "output_type": "display_data",
          "data": {
            "text/plain": [
              "<Figure size 100x100 with 1 Axes>"
            ],
            "image/png": "[encoded data removed]"
          },
          "metadata": {}
        }
      ]
    }
  ]
}