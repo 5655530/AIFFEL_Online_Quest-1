{
  "nbformat": 4,
  "nbformat_minor": 0,
  "metadata": {
    "colab": {
      "provenance": [],
      "authorship_tag": "ABX9TyNFPlMoE0phUnjWvVwmyNNv",
      "include_colab_link": true
    },
    "kernelspec": {
      "name": "python3",
      "display_name": "Python 3"
    },
    "language_info": {
      "name": "python"
    }
  },
  "cells": [
    {
      "cell_type": "markdown",
      "metadata": {
        "id": "view-in-github",
        "colab_type": "text"
      },
      "source": [
        "<a href=\"https://colab.research.google.com/github/comandi1969/AIFFEL_Online_Quest/blob/main/re_sub_func.ipynb\" target=\"_parent\"><img src=\"https://colab.research.google.com/assets/colab-badge.svg\" alt=\"Open In Colab\"/></a>"
      ]
    },
    {
      "cell_type": "code",
      "execution_count": 2,
      "metadata": {
        "colab": {
          "base_uri": "https://localhost:8080/",
          "height": 35
        },
        "id": "WLPlVgYB4k8q",
        "outputId": "e50207ec-a99a-42ae-d6ad-ef1af5bc3002"
      },
      "outputs": [
        {
          "output_type": "execute_result",
          "data": {
            "text/plain": [
              "'10 20 Fizz 40 Buzz Fizz 70 80'"
            ],
            "application/vnd.google.colaboratory.intrinsic+json": {
              "type": "string"
            }
          },
          "metadata": {},
          "execution_count": 2
        }
      ],
      "source": [
        "import re\n",
        "def multiple10(m):        # 매개변수로 매치 객체를 받음\n",
        "    n = int(m.group())    # 매칭된 문자열을 가져와서 정수로 변환\n",
        "    return str(n * 10)    # 숫자에 10을 곱한 뒤 문자열로 변환해서 반환\n",
        "\n",
        "re.sub('[0-9]+', multiple10, '1 2 Fizz 4 Buzz Fizz 7 8')\n"
      ]
    }
  ]
}