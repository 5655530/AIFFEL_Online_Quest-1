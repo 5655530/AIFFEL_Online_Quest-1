{
  "nbformat": 4,
  "nbformat_minor": 0,
  "metadata": {
    "colab": {
      "provenance": [],
      "authorship_tag": "ABX9TyPo1X3QMWWjXMt0v5RVUfSN",
      "include_colab_link": true
    },
    "kernelspec": {
      "name": "python3",
      "display_name": "Python 3"
    },
    "language_info": {
      "name": "python"
    }
  },
  "cells": [
    {
      "cell_type": "markdown",
      "metadata": {
        "id": "view-in-github",
        "colab_type": "text"
      },
      "source": [
        "<a href=\"https://colab.research.google.com/github/comandi1969/AIFFEL_Online_Quest/blob/main/%EB%8D%B0%EC%BD%94%EB%A0%88%EC%9D%B4%ED%84%B0.ipynb\" target=\"_parent\"><img src=\"https://colab.research.google.com/assets/colab-badge.svg\" alt=\"Open In Colab\"/></a>"
      ]
    },
    {
      "cell_type": "code",
      "execution_count": 1,
      "metadata": {
        "colab": {
          "base_uri": "https://localhost:8080/"
        },
        "id": "gWQL_IVVbaga",
        "outputId": "43a327f6-959d-4f7e-dd8d-ff6c6321abbc"
      },
      "outputs": [
        {
          "output_type": "stream",
          "name": "stdout",
          "text": [
            "데코레이터가 호출되었습니다.\n",
            "원래 함수가 호출되었습니다.\n"
          ]
        }
      ],
      "source": [
        "def decorator_function(original_function):\n",
        "    def wrapper_function(*args, **kwargs):\n",
        "        # 원래 함수 호출 전에 실행할 코드\n",
        "        print(\"데코레이터가 호출되었습니다.\")\n",
        "        return original_function(*args, **kwargs)\n",
        "    return wrapper_function\n",
        "\n",
        "@decorator_function\n",
        "def decorated_function():\n",
        "    print(\"원래 함수가 호출되었습니다.\")\n",
        "\n",
        "decorated_function()\n"
      ]
    }
  ]
}