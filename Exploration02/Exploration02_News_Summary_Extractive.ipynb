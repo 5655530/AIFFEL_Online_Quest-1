{
 "cells": [
  {
   "cell_type": "code",
   "execution_count": 9,
   "id": "09f50d8f",
   "metadata": {},
   "outputs": [
    {
     "name": "stdout",
     "output_type": "stream",
     "text": [
      "3.6.5\n",
      "2.6.0\n",
      "1.3.3\n",
      "1.2.0\n"
     ]
    }
   ],
   "source": [
    "from importlib.metadata import version\n",
    "import nltk\n",
    "import tensorflow\n",
    "from summa.summarizer import summarize\n",
    "import pandas as pd\n",
    "\n",
    "print(nltk.__version__)\n",
    "print(tensorflow.__version__)\n",
    "print(pd.__version__)\n",
    "print(version('summa'))"
   ]
  },
  {
   "cell_type": "code",
   "execution_count": 2,
   "id": "8e17103b",
   "metadata": {},
   "outputs": [
    {
     "data": {
      "text/html": [
       "<div>\n",
       "<style scoped>\n",
       "    .dataframe tbody tr th:only-of-type {\n",
       "        vertical-align: middle;\n",
       "    }\n",
       "\n",
       "    .dataframe tbody tr th {\n",
       "        vertical-align: top;\n",
       "    }\n",
       "\n",
       "    .dataframe thead th {\n",
       "        text-align: right;\n",
       "    }\n",
       "</style>\n",
       "<table border=\"1\" class=\"dataframe\">\n",
       "  <thead>\n",
       "    <tr style=\"text-align: right;\">\n",
       "      <th></th>\n",
       "      <th>headlines</th>\n",
       "      <th>text</th>\n",
       "    </tr>\n",
       "  </thead>\n",
       "  <tbody>\n",
       "    <tr>\n",
       "      <th>77313</th>\n",
       "      <td>Titan's profit rises 96.8% to Ã¢ÂÂ¹238 crore ...</td>\n",
       "      <td>Jewellery and watch maker Titan Company saw it...</td>\n",
       "    </tr>\n",
       "    <tr>\n",
       "      <th>35268</th>\n",
       "      <td>3 wildly different Instagrammers capture 3 wil...</td>\n",
       "      <td>Each trip is an exploration of a different the...</td>\n",
       "    </tr>\n",
       "    <tr>\n",
       "      <th>60764</th>\n",
       "      <td>NGT orders Delhi govt to seize 10-year-old die...</td>\n",
       "      <td>The National Green Tribunal has directed the D...</td>\n",
       "    </tr>\n",
       "    <tr>\n",
       "      <th>92538</th>\n",
       "      <td>Lambeth Palace to get its first new building i...</td>\n",
       "      <td>Lambeth Palace in London will get its first ne...</td>\n",
       "    </tr>\n",
       "    <tr>\n",
       "      <th>44140</th>\n",
       "      <td>Shami was good person, had no doubts over him:...</td>\n",
       "      <td>Indian fast bowler Mohammad Shami's father-in-...</td>\n",
       "    </tr>\n",
       "    <tr>\n",
       "      <th>74475</th>\n",
       "      <td>Astronaut captures electrical storm from aboar...</td>\n",
       "      <td>Russian cosmonaut Sergey Ryazanskiy has captur...</td>\n",
       "    </tr>\n",
       "    <tr>\n",
       "      <th>71723</th>\n",
       "      <td>Punjab and Haryana HC orders FIR against Radhe...</td>\n",
       "      <td>The Punjab and Haryana High Court on Tuesday o...</td>\n",
       "    </tr>\n",
       "    <tr>\n",
       "      <th>44793</th>\n",
       "      <td>Devising separate law on honour killing, Centr...</td>\n",
       "      <td>The Centre on Wednesday told the Supreme Court...</td>\n",
       "    </tr>\n",
       "    <tr>\n",
       "      <th>77391</th>\n",
       "      <td>Maruti spare parts trigger bomb scare at Delhi...</td>\n",
       "      <td>Bomb squads and canine teams were rushed to ch...</td>\n",
       "    </tr>\n",
       "    <tr>\n",
       "      <th>37670</th>\n",
       "      <td>Passengers to get free meal on Sunday in case ...</td>\n",
       "      <td>Railway Minister Piyush Goyal has said that fr...</td>\n",
       "    </tr>\n",
       "  </tbody>\n",
       "</table>\n",
       "</div>"
      ],
      "text/plain": [
       "                                               headlines  \\\n",
       "77313  Titan's profit rises 96.8% to Ã¢ÂÂ¹238 crore ...   \n",
       "35268  3 wildly different Instagrammers capture 3 wil...   \n",
       "60764  NGT orders Delhi govt to seize 10-year-old die...   \n",
       "92538  Lambeth Palace to get its first new building i...   \n",
       "44140  Shami was good person, had no doubts over him:...   \n",
       "74475  Astronaut captures electrical storm from aboar...   \n",
       "71723  Punjab and Haryana HC orders FIR against Radhe...   \n",
       "44793  Devising separate law on honour killing, Centr...   \n",
       "77391  Maruti spare parts trigger bomb scare at Delhi...   \n",
       "37670  Passengers to get free meal on Sunday in case ...   \n",
       "\n",
       "                                                    text  \n",
       "77313  Jewellery and watch maker Titan Company saw it...  \n",
       "35268  Each trip is an exploration of a different the...  \n",
       "60764  The National Green Tribunal has directed the D...  \n",
       "92538  Lambeth Palace in London will get its first ne...  \n",
       "44140  Indian fast bowler Mohammad Shami's father-in-...  \n",
       "74475  Russian cosmonaut Sergey Ryazanskiy has captur...  \n",
       "71723  The Punjab and Haryana High Court on Tuesday o...  \n",
       "44793  The Centre on Wednesday told the Supreme Court...  \n",
       "77391  Bomb squads and canine teams were rushed to ch...  \n",
       "37670  Railway Minister Piyush Goyal has said that fr...  "
      ]
     },
     "execution_count": 2,
     "metadata": {},
     "output_type": "execute_result"
    }
   ],
   "source": [
    "import urllib.request\n",
    "urllib.request.urlretrieve(\"https://raw.githubusercontent.com/sunnysai12345/News_Summary/master/news_summary_more.csv\", filename=\"news_summary_more.csv\")\n",
    "data = pd.read_csv('news_summary_more.csv', encoding='iso-8859-1')\n",
    "data.sample(10)"
   ]
  },
  {
   "cell_type": "code",
   "execution_count": 3,
   "id": "60cf28d1",
   "metadata": {},
   "outputs": [
    {
     "name": "stdout",
     "output_type": "stream",
     "text": [
      "<class 'pandas.core.frame.DataFrame'>\n",
      "RangeIndex: 98401 entries, 0 to 98400\n",
      "Data columns (total 2 columns):\n",
      " #   Column     Non-Null Count  Dtype \n",
      "---  ------     --------------  ----- \n",
      " 0   headlines  98401 non-null  object\n",
      " 1   text       98401 non-null  object\n",
      "dtypes: object(2)\n",
      "memory usage: 1.5+ MB\n"
     ]
    }
   ],
   "source": [
    "data.info()"
   ]
  },
  {
   "cell_type": "code",
   "execution_count": 80,
   "id": "a1e3b006",
   "metadata": {},
   "outputs": [
    {
     "name": "stdout",
     "output_type": "stream",
     "text": [
      "[text]\n",
      "Saurav Kant, an alumnus of upGrad and IIIT-B's PG Program in Machine learning and Artificial Intelligence, was a Sr Systems Engineer at Infosys with almost 5 years of work experience. The program and upGrad's 360-degree career support helped him transition to a Data Scientist at Tech Mahindra with 90% salary hike. upGrad's Online Power Learning has powered 3 lakh+ careers.\n",
      "[headline]\n",
      "upGrad learner switches to career in ML & Al with 90% salary hike\n"
     ]
    }
   ],
   "source": [
    "text = data.iloc[0]['text']\n",
    "print(f'[text]\\n{text}')\n",
    "headline = data.iloc[0]['headlines']\n",
    "print(f'[headline]\\n{headline}')"
   ]
  },
  {
   "cell_type": "code",
   "execution_count": 88,
   "id": "8113056f",
   "metadata": {},
   "outputs": [
    {
     "name": "stdout",
     "output_type": "stream",
     "text": [
      "Summary:\n",
      "upGrad's Online Power Learning has powered 3 lakh+ careers.\n"
     ]
    }
   ],
   "source": [
    "print('Summary:')\n",
    "print(summarize(text, ratio=0.6))"
   ]
  },
  {
   "cell_type": "code",
   "execution_count": 85,
   "id": "42c45c7e",
   "metadata": {},
   "outputs": [],
   "source": [
    "def custom_summary(text):\n",
    "    summarized = summarize(text, ratio=0.6)\n",
    "    words = summarized.split()\n",
    "    if len(words) > 20:\n",
    "        return ' '.join(words[:20])\n",
    "    return summarized\n",
    "\n",
    "data['summary'] = data['text'].apply(custom_summary)"
   ]
  },
  {
   "cell_type": "code",
   "execution_count": 89,
   "id": "71d38f6b",
   "metadata": {},
   "outputs": [
    {
     "name": "stdout",
     "output_type": "stream",
     "text": [
      "Article: Saurav Kant, an alumnus of upGrad and IIIT-B's PG Program in Machine learning and Artificial Intelligence, was a Sr Systems Engineer at Infosys with almost 5 years of work experience. The program and upGrad's 360-degree career support helped him transition to a Data Scientist at Tech Mahindra with 90% salary hike. upGrad's Online Power Learning has powered 3 lakh+ careers.\n",
      "Headlines: upGrad learner switches to career in ML & Al with 90% salary hike\n",
      "Summary: upGrad's Online Power Learning has powered 3 lakh+ careers.\n",
      "--------------------------------------------------\n",
      "Article: Kunal Shah's credit card bill payment platform, CRED, gave users a chance to win free food from Swiggy for one year. Pranav Kaushik, a Delhi techie, bagged this reward after spending 2000 CRED coins. Users get one CRED coin per rupee of bill paid, which can be used to avail rewards from brands like Ixigo, BookMyShow, UberEats, Cult.Fit and more.\n",
      "Headlines: Delhi techie wins free food from Swiggy for one year on CRED\n",
      "Summary: Users get one CRED coin per rupee of bill paid, which can be used to avail rewards from brands like\n",
      "--------------------------------------------------\n",
      "Article: New Zealand defeated India by 8 wickets in the fourth ODI at Hamilton on Thursday to win their first match of the five-match ODI series. India lost an international match under Rohit Sharma's captaincy after 12 consecutive victories dating back to March 2018. The match witnessed India getting all out for 92, their seventh lowest total in ODI cricket history.\n",
      "Headlines: New Zealand end Rohit Sharma-led India's 12-match winning streak\n",
      "Summary: The match witnessed India getting all out for 92, their seventh lowest total in ODI cricket history.\n",
      "--------------------------------------------------\n"
     ]
    }
   ],
   "source": [
    "# sampled_data = data.sample(3)\n",
    "sampled_data = data.head(3)\n",
    "\n",
    "for idx, row in sampled_data.iterrows():\n",
    "    print(f\"Article: {row['text']}\")\n",
    "    print(f\"Headlines: {row['headlines']}\")\n",
    "    print(f\"Summary: {row['summary']}\")\n",
    "    print(\"-\" * 50)  # This will print a separator line"
   ]
  },
  {
   "cell_type": "code",
   "execution_count": null,
   "id": "ea2ef96c",
   "metadata": {},
   "outputs": [],
   "source": []
  }
 ],
 "metadata": {
  "kernelspec": {
   "display_name": "Python 3 (ipykernel)",
   "language": "python",
   "name": "python3"
  },
  "language_info": {
   "codemirror_mode": {
    "name": "ipython",
    "version": 3
   },
   "file_extension": ".py",
   "mimetype": "text/x-python",
   "name": "python",
   "nbconvert_exporter": "python",
   "pygments_lexer": "ipython3",
   "version": "3.9.7"
  }
 },
 "nbformat": 4,
 "nbformat_minor": 5
}
