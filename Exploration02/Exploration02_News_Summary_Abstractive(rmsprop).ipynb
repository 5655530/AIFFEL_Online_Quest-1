{
  "nbformat": 4,
  "nbformat_minor": 0,
  "metadata": {
    "colab": {
      "provenance": [],
      "gpuType": "T4",
      "authorship_tag": "ABX9TyNax//GPabdEUBgJG0KsO2j",
      "include_colab_link": true
    },
    "kernelspec": {
      "name": "python3",
      "display_name": "Python 3"
    },
    "language_info": {
      "name": "python"
    },
    "accelerator": "GPU"
  },
  "cells": [
    {
      "cell_type": "markdown",
      "metadata": {
        "id": "view-in-github",
        "colab_type": "text"
      },
      "source": [
        "<a href=\"https://colab.research.google.com/github/comandi1969/AIFFEL_Online_Quest/blob/main/Exploration02/Exploration02_News_Summary_Abstractive(rmsprop).ipynb\" target=\"_parent\"><img src=\"https://colab.research.google.com/assets/colab-badge.svg\" alt=\"Open In Colab\"/></a>"
      ]
    },
    {
      "cell_type": "code",
      "execution_count": 1,
      "metadata": {
        "colab": {
          "base_uri": "https://localhost:8080/"
        },
        "id": "hjPI68OTSKcM",
        "outputId": "3d655629-575c-47a0-e602-2f6e334331d4"
      },
      "outputs": [
        {
          "output_type": "stream",
          "name": "stderr",
          "text": [
            "[nltk_data] Downloading package stopwords to /root/nltk_data...\n",
            "[nltk_data]   Unzipping corpora/stopwords.zip.\n"
          ]
        }
      ],
      "source": [
        "import nltk\n",
        "nltk.download('stopwords')\n",
        "\n",
        "import numpy as np\n",
        "import pandas as pd\n",
        "import os\n",
        "import re\n",
        "import matplotlib.pyplot as plt\n",
        "from nltk.corpus import stopwords\n",
        "from bs4 import BeautifulSoup\n",
        "from tensorflow.keras.preprocessing.text import Tokenizer\n",
        "from tensorflow.keras.preprocessing.sequence import pad_sequences\n",
        "import urllib.request\n",
        "import warnings\n",
        "warnings.filterwarnings(\"ignore\", category=UserWarning, module='bs4')"
      ]
    },
    {
      "cell_type": "code",
      "source": [
        "import urllib.request\n",
        "urllib.request.urlretrieve(\"https://raw.githubusercontent.com/sunnysai12345/News_Summary/master/news_summary_more.csv\", filename=\"news_summary_more.csv\")\n",
        "data = pd.read_csv('news_summary_more.csv', encoding='iso-8859-1')\n",
        "data.sample(3)"
      ],
      "metadata": {
        "colab": {
          "base_uri": "https://localhost:8080/",
          "height": 143
        },
        "id": "k8zChm96m7r8",
        "outputId": "a54279ae-31f9-4011-a779-2025f35b8381"
      },
      "execution_count": 2,
      "outputs": [
        {
          "output_type": "execute_result",
          "data": {
            "text/plain": [
              "                                               headlines  \\\n",
              "92217  Airline staff accused of hitting woman with ba...   \n",
              "80609  Delhi government to auction VIP numbers for tw...   \n",
              "89017  Piyush Goyal presides over largest efficient l...   \n",
              "\n",
              "                                                    text  \n",
              "92217  An American Airlines employee has been accused...  \n",
              "80609  The Delhi government is planning to e-auction ...  \n",
              "89017  The world's largest efficient lighting program...  "
            ],
            "text/html": [
              "\n",
              "  <div id=\"df-5d570720-9e92-4b81-881d-76f77575ddda\" class=\"colab-df-container\">\n",
              "    <div>\n",
              "<style scoped>\n",
              "    .dataframe tbody tr th:only-of-type {\n",
              "        vertical-align: middle;\n",
              "    }\n",
              "\n",
              "    .dataframe tbody tr th {\n",
              "        vertical-align: top;\n",
              "    }\n",
              "\n",
              "    .dataframe thead th {\n",
              "        text-align: right;\n",
              "    }\n",
              "</style>\n",
              "<table border=\"1\" class=\"dataframe\">\n",
              "  <thead>\n",
              "    <tr style=\"text-align: right;\">\n",
              "      <th></th>\n",
              "      <th>headlines</th>\n",
              "      <th>text</th>\n",
              "    </tr>\n",
              "  </thead>\n",
              "  <tbody>\n",
              "    <tr>\n",
              "      <th>92217</th>\n",
              "      <td>Airline staff accused of hitting woman with ba...</td>\n",
              "      <td>An American Airlines employee has been accused...</td>\n",
              "    </tr>\n",
              "    <tr>\n",
              "      <th>80609</th>\n",
              "      <td>Delhi government to auction VIP numbers for tw...</td>\n",
              "      <td>The Delhi government is planning to e-auction ...</td>\n",
              "    </tr>\n",
              "    <tr>\n",
              "      <th>89017</th>\n",
              "      <td>Piyush Goyal presides over largest efficient l...</td>\n",
              "      <td>The world's largest efficient lighting program...</td>\n",
              "    </tr>\n",
              "  </tbody>\n",
              "</table>\n",
              "</div>\n",
              "    <div class=\"colab-df-buttons\">\n",
              "\n",
              "  <div class=\"colab-df-container\">\n",
              "    <button class=\"colab-df-convert\" onclick=\"convertToInteractive('df-5d570720-9e92-4b81-881d-76f77575ddda')\"\n",
              "            title=\"Convert this dataframe to an interactive table.\"\n",
              "            style=\"display:none;\">\n",
              "\n",
              "  <svg xmlns=\"http://www.w3.org/2000/svg\" height=\"24px\" viewBox=\"0 -960 960 960\">\n",
              "    <path d=\"M120-120v-720h720v720H120Zm60-500h600v-160H180v160Zm220 220h160v-160H400v160Zm0 220h160v-160H400v160ZM180-400h160v-160H180v160Zm440 0h160v-160H620v160ZM180-180h160v-160H180v160Zm440 0h160v-160H620v160Z\"/>\n",
              "  </svg>\n",
              "    </button>\n",
              "\n",
              "  <style>\n",
              "    .colab-df-container {\n",
              "      display:flex;\n",
              "      gap: 12px;\n",
              "    }\n",
              "\n",
              "    .colab-df-convert {\n",
              "      background-color: #E8F0FE;\n",
              "      border: none;\n",
              "      border-radius: 50%;\n",
              "      cursor: pointer;\n",
              "      display: none;\n",
              "      fill: #1967D2;\n",
              "      height: 32px;\n",
              "      padding: 0 0 0 0;\n",
              "      width: 32px;\n",
              "    }\n",
              "\n",
              "    .colab-df-convert:hover {\n",
              "      background-color: #E2EBFA;\n",
              "      box-shadow: 0px 1px 2px rgba(60, 64, 67, 0.3), 0px 1px 3px 1px rgba(60, 64, 67, 0.15);\n",
              "      fill: #174EA6;\n",
              "    }\n",
              "\n",
              "    .colab-df-buttons div {\n",
              "      margin-bottom: 4px;\n",
              "    }\n",
              "\n",
              "    [theme=dark] .colab-df-convert {\n",
              "      background-color: #3B4455;\n",
              "      fill: #D2E3FC;\n",
              "    }\n",
              "\n",
              "    [theme=dark] .colab-df-convert:hover {\n",
              "      background-color: #434B5C;\n",
              "      box-shadow: 0px 1px 3px 1px rgba(0, 0, 0, 0.15);\n",
              "      filter: drop-shadow(0px 1px 2px rgba(0, 0, 0, 0.3));\n",
              "      fill: #FFFFFF;\n",
              "    }\n",
              "  </style>\n",
              "\n",
              "    <script>\n",
              "      const buttonEl =\n",
              "        document.querySelector('#df-5d570720-9e92-4b81-881d-76f77575ddda button.colab-df-convert');\n",
              "      buttonEl.style.display =\n",
              "        google.colab.kernel.accessAllowed ? 'block' : 'none';\n",
              "\n",
              "      async function convertToInteractive(key) {\n",
              "        const element = document.querySelector('#df-5d570720-9e92-4b81-881d-76f77575ddda');\n",
              "        const dataTable =\n",
              "          await google.colab.kernel.invokeFunction('convertToInteractive',\n",
              "                                                    [key], {});\n",
              "        if (!dataTable) return;\n",
              "\n",
              "        const docLinkHtml = 'Like what you see? Visit the ' +\n",
              "          '<a target=\"_blank\" href=https://colab.research.google.com/notebooks/data_table.ipynb>data table notebook</a>'\n",
              "          + ' to learn more about interactive tables.';\n",
              "        element.innerHTML = '';\n",
              "        dataTable['output_type'] = 'display_data';\n",
              "        await google.colab.output.renderOutput(dataTable, element);\n",
              "        const docLink = document.createElement('div');\n",
              "        docLink.innerHTML = docLinkHtml;\n",
              "        element.appendChild(docLink);\n",
              "      }\n",
              "    </script>\n",
              "  </div>\n",
              "\n",
              "\n",
              "<div id=\"df-49776071-841f-4e03-bd8e-870b3a17bf21\">\n",
              "  <button class=\"colab-df-quickchart\" onclick=\"quickchart('df-49776071-841f-4e03-bd8e-870b3a17bf21')\"\n",
              "            title=\"Suggest charts.\"\n",
              "            style=\"display:none;\">\n",
              "\n",
              "<svg xmlns=\"http://www.w3.org/2000/svg\" height=\"24px\"viewBox=\"0 0 24 24\"\n",
              "     width=\"24px\">\n",
              "    <g>\n",
              "        <path d=\"M19 3H5c-1.1 0-2 .9-2 2v14c0 1.1.9 2 2 2h14c1.1 0 2-.9 2-2V5c0-1.1-.9-2-2-2zM9 17H7v-7h2v7zm4 0h-2V7h2v10zm4 0h-2v-4h2v4z\"/>\n",
              "    </g>\n",
              "</svg>\n",
              "  </button>\n",
              "\n",
              "<style>\n",
              "  .colab-df-quickchart {\n",
              "      --bg-color: #E8F0FE;\n",
              "      --fill-color: #1967D2;\n",
              "      --hover-bg-color: #E2EBFA;\n",
              "      --hover-fill-color: #174EA6;\n",
              "      --disabled-fill-color: #AAA;\n",
              "      --disabled-bg-color: #DDD;\n",
              "  }\n",
              "\n",
              "  [theme=dark] .colab-df-quickchart {\n",
              "      --bg-color: #3B4455;\n",
              "      --fill-color: #D2E3FC;\n",
              "      --hover-bg-color: #434B5C;\n",
              "      --hover-fill-color: #FFFFFF;\n",
              "      --disabled-bg-color: #3B4455;\n",
              "      --disabled-fill-color: #666;\n",
              "  }\n",
              "\n",
              "  .colab-df-quickchart {\n",
              "    background-color: var(--bg-color);\n",
              "    border: none;\n",
              "    border-radius: 50%;\n",
              "    cursor: pointer;\n",
              "    display: none;\n",
              "    fill: var(--fill-color);\n",
              "    height: 32px;\n",
              "    padding: 0;\n",
              "    width: 32px;\n",
              "  }\n",
              "\n",
              "  .colab-df-quickchart:hover {\n",
              "    background-color: var(--hover-bg-color);\n",
              "    box-shadow: 0 1px 2px rgba(60, 64, 67, 0.3), 0 1px 3px 1px rgba(60, 64, 67, 0.15);\n",
              "    fill: var(--button-hover-fill-color);\n",
              "  }\n",
              "\n",
              "  .colab-df-quickchart-complete:disabled,\n",
              "  .colab-df-quickchart-complete:disabled:hover {\n",
              "    background-color: var(--disabled-bg-color);\n",
              "    fill: var(--disabled-fill-color);\n",
              "    box-shadow: none;\n",
              "  }\n",
              "\n",
              "  .colab-df-spinner {\n",
              "    border: 2px solid var(--fill-color);\n",
              "    border-color: transparent;\n",
              "    border-bottom-color: var(--fill-color);\n",
              "    animation:\n",
              "      spin 1s steps(1) infinite;\n",
              "  }\n",
              "\n",
              "  @keyframes spin {\n",
              "    0% {\n",
              "      border-color: transparent;\n",
              "      border-bottom-color: var(--fill-color);\n",
              "      border-left-color: var(--fill-color);\n",
              "    }\n",
              "    20% {\n",
              "      border-color: transparent;\n",
              "      border-left-color: var(--fill-color);\n",
              "      border-top-color: var(--fill-color);\n",
              "    }\n",
              "    30% {\n",
              "      border-color: transparent;\n",
              "      border-left-color: var(--fill-color);\n",
              "      border-top-color: var(--fill-color);\n",
              "      border-right-color: var(--fill-color);\n",
              "    }\n",
              "    40% {\n",
              "      border-color: transparent;\n",
              "      border-right-color: var(--fill-color);\n",
              "      border-top-color: var(--fill-color);\n",
              "    }\n",
              "    60% {\n",
              "      border-color: transparent;\n",
              "      border-right-color: var(--fill-color);\n",
              "    }\n",
              "    80% {\n",
              "      border-color: transparent;\n",
              "      border-right-color: var(--fill-color);\n",
              "      border-bottom-color: var(--fill-color);\n",
              "    }\n",
              "    90% {\n",
              "      border-color: transparent;\n",
              "      border-bottom-color: var(--fill-color);\n",
              "    }\n",
              "  }\n",
              "</style>\n",
              "\n",
              "  <script>\n",
              "    async function quickchart(key) {\n",
              "      const quickchartButtonEl =\n",
              "        document.querySelector('#' + key + ' button');\n",
              "      quickchartButtonEl.disabled = true;  // To prevent multiple clicks.\n",
              "      quickchartButtonEl.classList.add('colab-df-spinner');\n",
              "      try {\n",
              "        const charts = await google.colab.kernel.invokeFunction(\n",
              "            'suggestCharts', [key], {});\n",
              "      } catch (error) {\n",
              "        console.error('Error during call to suggestCharts:', error);\n",
              "      }\n",
              "      quickchartButtonEl.classList.remove('colab-df-spinner');\n",
              "      quickchartButtonEl.classList.add('colab-df-quickchart-complete');\n",
              "    }\n",
              "    (() => {\n",
              "      let quickchartButtonEl =\n",
              "        document.querySelector('#df-49776071-841f-4e03-bd8e-870b3a17bf21 button');\n",
              "      quickchartButtonEl.style.display =\n",
              "        google.colab.kernel.accessAllowed ? 'block' : 'none';\n",
              "    })();\n",
              "  </script>\n",
              "</div>\n",
              "    </div>\n",
              "  </div>\n"
            ]
          },
          "metadata": {},
          "execution_count": 2
        }
      ]
    },
    {
      "cell_type": "code",
      "source": [
        "print('전체 샘플수 :', (len(data)))"
      ],
      "metadata": {
        "colab": {
          "base_uri": "https://localhost:8080/"
        },
        "id": "vwjBcbhyUMxO",
        "outputId": "3830a8e1-5030-413d-dcbe-380063e253f4"
      },
      "execution_count": 3,
      "outputs": [
        {
          "output_type": "stream",
          "name": "stdout",
          "text": [
            "전체 샘플수 : 98401\n"
          ]
        }
      ]
    },
    {
      "cell_type": "code",
      "source": [
        "print('headlines 열에서 중복을 배제한 유일한 샘플의 수 :', data['headlines'].nunique())\n",
        "print('text 열에서 중복을 배제한 유일한 샘플의 수 :', data['text'].nunique())"
      ],
      "metadata": {
        "colab": {
          "base_uri": "https://localhost:8080/"
        },
        "id": "jEhpcB3aUM9p",
        "outputId": "28e52c07-f346-483b-98a9-567823570c5c"
      },
      "execution_count": 4,
      "outputs": [
        {
          "output_type": "stream",
          "name": "stdout",
          "text": [
            "headlines 열에서 중복을 배제한 유일한 샘플의 수 : 98280\n",
            "text 열에서 중복을 배제한 유일한 샘플의 수 : 98360\n"
          ]
        }
      ]
    },
    {
      "cell_type": "code",
      "source": [
        "data.drop_duplicates(subset = ['text'], inplace=True)\n",
        "print('전체 샘플수 :', (len(data)))"
      ],
      "metadata": {
        "colab": {
          "base_uri": "https://localhost:8080/"
        },
        "id": "QrEJqbyKUNFH",
        "outputId": "e5222815-85d5-4673-ce23-bea290f5fc8f"
      },
      "execution_count": 5,
      "outputs": [
        {
          "output_type": "stream",
          "name": "stdout",
          "text": [
            "전체 샘플수 : 98360\n"
          ]
        }
      ]
    },
    {
      "cell_type": "code",
      "source": [
        "print(data.isnull().sum())"
      ],
      "metadata": {
        "colab": {
          "base_uri": "https://localhost:8080/"
        },
        "id": "Woqt0exhV3uR",
        "outputId": "142394fa-d819-4d89-959f-92940f97d8cf"
      },
      "execution_count": 6,
      "outputs": [
        {
          "output_type": "stream",
          "name": "stdout",
          "text": [
            "headlines    0\n",
            "text         0\n",
            "dtype: int64\n"
          ]
        }
      ]
    },
    {
      "cell_type": "code",
      "source": [
        "sampled_data = data.head(3)\n",
        "\n",
        "for idx, row in sampled_data.iterrows():\n",
        "    print(f\"Article: {row['text']}\")\n",
        "    print(f\"Headlines: {row['headlines']}\")\n",
        "    print(\"-\" * 50)  # This will print a separator line"
      ],
      "metadata": {
        "colab": {
          "base_uri": "https://localhost:8080/"
        },
        "id": "W2auSlPwXdoI",
        "outputId": "2e1c3241-d996-4d77-ca6e-abc3ef5b2f47"
      },
      "execution_count": 7,
      "outputs": [
        {
          "output_type": "stream",
          "name": "stdout",
          "text": [
            "Article: Saurav Kant, an alumnus of upGrad and IIIT-B's PG Program in Machine learning and Artificial Intelligence, was a Sr Systems Engineer at Infosys with almost 5 years of work experience. The program and upGrad's 360-degree career support helped him transition to a Data Scientist at Tech Mahindra with 90% salary hike. upGrad's Online Power Learning has powered 3 lakh+ careers.\n",
            "Headlines: upGrad learner switches to career in ML & Al with 90% salary hike\n",
            "--------------------------------------------------\n",
            "Article: Kunal Shah's credit card bill payment platform, CRED, gave users a chance to win free food from Swiggy for one year. Pranav Kaushik, a Delhi techie, bagged this reward after spending 2000 CRED coins. Users get one CRED coin per rupee of bill paid, which can be used to avail rewards from brands like Ixigo, BookMyShow, UberEats, Cult.Fit and more.\n",
            "Headlines: Delhi techie wins free food from Swiggy for one year on CRED\n",
            "--------------------------------------------------\n",
            "Article: New Zealand defeated India by 8 wickets in the fourth ODI at Hamilton on Thursday to win their first match of the five-match ODI series. India lost an international match under Rohit Sharma's captaincy after 12 consecutive victories dating back to March 2018. The match witnessed India getting all out for 92, their seventh lowest total in ODI cricket history.\n",
            "Headlines: New Zealand end Rohit Sharma-led India's 12-match winning streak\n",
            "--------------------------------------------------\n"
          ]
        }
      ]
    },
    {
      "cell_type": "code",
      "source": [
        "contractions = {\"ain't\": \"is not\", \"aren't\": \"are not\",\"can't\": \"cannot\", \"'cause\": \"because\", \"could've\": \"could have\", \"couldn't\": \"could not\",\n",
        "                          \"didn't\": \"did not\",  \"doesn't\": \"does not\", \"don't\": \"do not\", \"hadn't\": \"had not\", \"hasn't\": \"has not\", \"haven't\": \"have not\",\n",
        "                          \"he'd\": \"he would\",\"he'll\": \"he will\", \"he's\": \"he is\", \"how'd\": \"how did\", \"how'd'y\": \"how do you\", \"how'll\": \"how will\", \"how's\": \"how is\",\n",
        "                          \"I'd\": \"I would\", \"I'd've\": \"I would have\", \"I'll\": \"I will\", \"I'll've\": \"I will have\",\"I'm\": \"I am\", \"I've\": \"I have\", \"i'd\": \"i would\",\n",
        "                          \"i'd've\": \"i would have\", \"i'll\": \"i will\",  \"i'll've\": \"i will have\",\"i'm\": \"i am\", \"i've\": \"i have\", \"isn't\": \"is not\", \"it'd\": \"it would\",\n",
        "                          \"it'd've\": \"it would have\", \"it'll\": \"it will\", \"it'll've\": \"it will have\",\"it's\": \"it is\", \"let's\": \"let us\", \"ma'am\": \"madam\",\n",
        "                          \"mayn't\": \"may not\", \"might've\": \"might have\",\"mightn't\": \"might not\",\"mightn't've\": \"might not have\", \"must've\": \"must have\",\n",
        "                          \"mustn't\": \"must not\", \"mustn't've\": \"must not have\", \"needn't\": \"need not\", \"needn't've\": \"need not have\",\"o'clock\": \"of the clock\",\n",
        "                          \"oughtn't\": \"ought not\", \"oughtn't've\": \"ought not have\", \"shan't\": \"shall not\", \"sha'n't\": \"shall not\", \"shan't've\": \"shall not have\",\n",
        "                          \"she'd\": \"she would\", \"she'd've\": \"she would have\", \"she'll\": \"she will\", \"she'll've\": \"she will have\", \"she's\": \"she is\",\n",
        "                          \"should've\": \"should have\", \"shouldn't\": \"should not\", \"shouldn't've\": \"should not have\", \"so've\": \"so have\",\"so's\": \"so as\",\n",
        "                          \"this's\": \"this is\",\"that'd\": \"that would\", \"that'd've\": \"that would have\", \"that's\": \"that is\", \"there'd\": \"there would\",\n",
        "                          \"there'd've\": \"there would have\", \"there's\": \"there is\", \"here's\": \"here is\",\"they'd\": \"they would\", \"they'd've\": \"they would have\",\n",
        "                          \"they'll\": \"they will\", \"they'll've\": \"they will have\", \"they're\": \"they are\", \"they've\": \"they have\", \"to've\": \"to have\",\n",
        "                          \"wasn't\": \"was not\", \"we'd\": \"we would\", \"we'd've\": \"we would have\", \"we'll\": \"we will\", \"we'll've\": \"we will have\", \"we're\": \"we are\",\n",
        "                          \"we've\": \"we have\", \"weren't\": \"were not\", \"what'll\": \"what will\", \"what'll've\": \"what will have\", \"what're\": \"what are\",\n",
        "                          \"what's\": \"what is\", \"what've\": \"what have\", \"when's\": \"when is\", \"when've\": \"when have\", \"where'd\": \"where did\", \"where's\": \"where is\",\n",
        "                          \"where've\": \"where have\", \"who'll\": \"who will\", \"who'll've\": \"who will have\", \"who's\": \"who is\", \"who've\": \"who have\",\n",
        "                          \"why's\": \"why is\", \"why've\": \"why have\", \"will've\": \"will have\", \"won't\": \"will not\", \"won't've\": \"will not have\",\n",
        "                          \"would've\": \"would have\", \"wouldn't\": \"would not\", \"wouldn't've\": \"would not have\", \"y'all\": \"you all\",\n",
        "                          \"y'all'd\": \"you all would\",\"y'all'd've\": \"you all would have\",\"y'all're\": \"you all are\",\"y'all've\": \"you all have\",\n",
        "                          \"you'd\": \"you would\", \"you'd've\": \"you would have\", \"you'll\": \"you will\", \"you'll've\": \"you will have\",\n",
        "                          \"you're\": \"you are\", \"you've\": \"you have\"}\n",
        "\n",
        "print(\"정규화 사전의 수: \", len(contractions))"
      ],
      "metadata": {
        "colab": {
          "base_uri": "https://localhost:8080/"
        },
        "id": "2hJhnf07V7p0",
        "outputId": "298f6555-f216-4f46-dc30-27f49e7799db"
      },
      "execution_count": 8,
      "outputs": [
        {
          "output_type": "stream",
          "name": "stdout",
          "text": [
            "정규화 사전의 수:  120\n"
          ]
        }
      ]
    },
    {
      "cell_type": "code",
      "source": [
        "print('불용어 개수 :', len(stopwords.words('english') ))\n",
        "print(stopwords.words('english'))"
      ],
      "metadata": {
        "colab": {
          "base_uri": "https://localhost:8080/"
        },
        "id": "dzco6aMRWyMr",
        "outputId": "0e4bf672-e260-4b86-a05c-96a520f6dd0e"
      },
      "execution_count": 9,
      "outputs": [
        {
          "output_type": "stream",
          "name": "stdout",
          "text": [
            "불용어 개수 : 179\n",
            "['i', 'me', 'my', 'myself', 'we', 'our', 'ours', 'ourselves', 'you', \"you're\", \"you've\", \"you'll\", \"you'd\", 'your', 'yours', 'yourself', 'yourselves', 'he', 'him', 'his', 'himself', 'she', \"she's\", 'her', 'hers', 'herself', 'it', \"it's\", 'its', 'itself', 'they', 'them', 'their', 'theirs', 'themselves', 'what', 'which', 'who', 'whom', 'this', 'that', \"that'll\", 'these', 'those', 'am', 'is', 'are', 'was', 'were', 'be', 'been', 'being', 'have', 'has', 'had', 'having', 'do', 'does', 'did', 'doing', 'a', 'an', 'the', 'and', 'but', 'if', 'or', 'because', 'as', 'until', 'while', 'of', 'at', 'by', 'for', 'with', 'about', 'against', 'between', 'into', 'through', 'during', 'before', 'after', 'above', 'below', 'to', 'from', 'up', 'down', 'in', 'out', 'on', 'off', 'over', 'under', 'again', 'further', 'then', 'once', 'here', 'there', 'when', 'where', 'why', 'how', 'all', 'any', 'both', 'each', 'few', 'more', 'most', 'other', 'some', 'such', 'no', 'nor', 'not', 'only', 'own', 'same', 'so', 'than', 'too', 'very', 's', 't', 'can', 'will', 'just', 'don', \"don't\", 'should', \"should've\", 'now', 'd', 'll', 'm', 'o', 're', 've', 'y', 'ain', 'aren', \"aren't\", 'couldn', \"couldn't\", 'didn', \"didn't\", 'doesn', \"doesn't\", 'hadn', \"hadn't\", 'hasn', \"hasn't\", 'haven', \"haven't\", 'isn', \"isn't\", 'ma', 'mightn', \"mightn't\", 'mustn', \"mustn't\", 'needn', \"needn't\", 'shan', \"shan't\", 'shouldn', \"shouldn't\", 'wasn', \"wasn't\", 'weren', \"weren't\", 'won', \"won't\", 'wouldn', \"wouldn't\"]\n"
          ]
        }
      ]
    },
    {
      "cell_type": "code",
      "source": [
        "# 데이터 전처리 함수\n",
        "def preprocess_sentence(sentence, remove_stopwords=True):\n",
        "#    sentence = sentence.lower() # 텍스트 소문자화\n",
        "   sentence = BeautifulSoup(sentence, \"lxml\").text # <br />, <a href = ...> 등의 html 태그 제거\n",
        "   sentence = re.sub(r'\\([^)]*\\)', '', sentence) # 괄호로 닫힌 문자열 (...) 제거 Ex) my husband (and myself!) for => my husband for\n",
        "   sentence = re.sub('\"','', sentence) # 쌍따옴표 \" 제거\n",
        "   sentence = ' '.join([contractions[t] if t in contractions else t for t in sentence.split(\" \")]) # 약어 정규화\n",
        "   sentence = re.sub(r\"'s\\b\",\"\", sentence) # 소유격 제거. Ex) roland's -> roland\n",
        "   sentence = re.sub(\"[^a-zA-Z]\", \" \", sentence) # 영어 외 문자(숫자, 특수문자 등) 공백으로 변환\n",
        "   sentence = re.sub('[m]{2,}', 'mm', sentence) # m이 3개 이상이면 2개로 변경. Ex) ummmmmmm yeah -> umm yeah\n",
        "\n",
        "   # 불용어 제거 (Text)\n",
        "   if remove_stopwords:\n",
        "       tokens = ' '.join(word for word in sentence.split() if not word in stopwords.words('english') if len(word) > 1)\n",
        "   # 불용어 미제거 (Summary)\n",
        "   else:\n",
        "       tokens = ' '.join(word for word in sentence.split() if len(word) > 1)\n",
        "   return tokens"
      ],
      "metadata": {
        "id": "eUuwMesOXJw5"
      },
      "execution_count": 10,
      "outputs": []
    },
    {
      "cell_type": "code",
      "source": [
        "temp_text = \"Saurav Kant, an alumnus of upGrad and IIIT-B's PG Program in Machine learning and Artificial Intelligence, was a Sr Systems Engineer at Infosys with almost 5 years of work experience. The program and upGrad's 360-degree career support helped him transition to a Data Scientist at Tech Mahindra with 90% salary hike. upGrad's Online Power Learning has powered 3 lakh+ careers.\"\n",
        "temp_headline = \"upGrad learner switches to career in ML & Al with 90% salary hike\"\n",
        "\n",
        "print(\"text: \", preprocess_sentence(temp_text, False))\n",
        "print(\"headline:\", preprocess_sentence(temp_headline, False))"
      ],
      "metadata": {
        "colab": {
          "base_uri": "https://localhost:8080/"
        },
        "id": "vdWGTtXhX1Ub",
        "outputId": "0bffe0f8-c67c-410e-8f3d-431afb8e8265"
      },
      "execution_count": 11,
      "outputs": [
        {
          "output_type": "stream",
          "name": "stdout",
          "text": [
            "text:  Saurav Kant an alumnus of upGrad and IIIT PG Program in Machine learning and Artificial Intelligence was Sr Systems Engineer at Infosys with almost years of work experience The program and upGrad degree career support helped him transition to Data Scientist at Tech Mahindra with salary hike upGrad Online Power Learning has powered lakh careers\n",
            "headline: upGrad learner switches to career in ML Al with salary hike\n"
          ]
        }
      ]
    },
    {
      "cell_type": "code",
      "source": [
        "# 전체 text 데이터에 대한 전처리\n",
        "clean_text = []\n",
        "\n",
        "for text in data['text']:\n",
        "   clean_text.append(preprocess_sentence(text, False))\n",
        "\n",
        "# 전처리 후 출력\n",
        "print(\"text 전처리 후 결과: \", clean_text[:5])"
      ],
      "metadata": {
        "colab": {
          "base_uri": "https://localhost:8080/"
        },
        "id": "zlj5HDHsaWpD",
        "outputId": "7d88490e-1997-4353-8225-d25875197d76"
      },
      "execution_count": 12,
      "outputs": [
        {
          "output_type": "stream",
          "name": "stdout",
          "text": [
            "text 전처리 후 결과:  ['Saurav Kant an alumnus of upGrad and IIIT PG Program in Machine learning and Artificial Intelligence was Sr Systems Engineer at Infosys with almost years of work experience The program and upGrad degree career support helped him transition to Data Scientist at Tech Mahindra with salary hike upGrad Online Power Learning has powered lakh careers', 'Kunal Shah credit card bill payment platform CRED gave users chance to win free food from Swiggy for one year Pranav Kaushik Delhi techie bagged this reward after spending CRED coins Users get one CRED coin per rupee of bill paid which can be used to avail rewards from brands like Ixigo BookMyShow UberEats Cult Fit and more', 'New Zealand defeated India by wickets in the fourth ODI at Hamilton on Thursday to win their first match of the five match ODI series India lost an international match under Rohit Sharma captaincy after consecutive victories dating back to March The match witnessed India getting all out for their seventh lowest total in ODI cricket history', 'With Aegon Life iTerm Insurance plan customers can enjoy tax benefits on your premiums paid and save up to on taxes The plan provides life cover up to the age of years Also customers have options to insure against Critical Illnesses Disability and Accidental Death Benefit Rider with life cover up to the age of years', 'Speaking about the sexual harassment allegations against Rajkumar Hirani Sonam Kapoor said have known Hirani for many years What if it is not true the MeToo movement will get derailed In the MeToo movement always believe woman But in this case we need to reserve our judgment she added Hirani has been accused by an assistant who worked in Sanju']\n"
          ]
        }
      ]
    },
    {
      "cell_type": "code",
      "source": [
        "# 전체 headlines 데이터에 대한 전처리\n",
        "clean_headline = []\n",
        "\n",
        "for headline in data['headlines']:\n",
        "   clean_headline.append(preprocess_sentence(headline, False))\n",
        "\n",
        "print(\"headlines 전처리 후 결과: \", clean_headline[:5])"
      ],
      "metadata": {
        "colab": {
          "base_uri": "https://localhost:8080/"
        },
        "id": "7vxlf_aBaWxH",
        "outputId": "6ea68578-1e4e-4a5c-c6b4-8d34cd333e94"
      },
      "execution_count": 13,
      "outputs": [
        {
          "output_type": "stream",
          "name": "stderr",
          "text": [
            "<ipython-input-10-8058fe1cf3d5>:4: MarkupResemblesLocatorWarning: The input looks more like a filename than markup. You may want to open this file and pass the filehandle into Beautiful Soup.\n",
            "  sentence = BeautifulSoup(sentence, \"lxml\").text # <br />, <a href = ...> 등의 html 태그 제거\n"
          ]
        },
        {
          "output_type": "stream",
          "name": "stdout",
          "text": [
            "headlines 전처리 후 결과:  ['upGrad learner switches to career in ML Al with salary hike', 'Delhi techie wins free food from Swiggy for one year on CRED', 'New Zealand end Rohit Sharma led India match winning streak', 'Aegon life iTerm insurance plan helps customers save tax', 'Have known Hirani for yrs what if MeToo claims are not true Sonam']\n"
          ]
        }
      ]
    },
    {
      "cell_type": "code",
      "source": [
        "data['text'] = clean_text\n",
        "data['headlines'] = clean_headline\n",
        "\n",
        "# 빈 값을 Null 값으로 변환\n",
        "data.replace('', np.nan, inplace=True)\n",
        "data.isnull().sum()"
      ],
      "metadata": {
        "colab": {
          "base_uri": "https://localhost:8080/"
        },
        "id": "6S1qh84gaW30",
        "outputId": "a5301423-785a-44a8-a6f9-76216728c94b"
      },
      "execution_count": 14,
      "outputs": [
        {
          "output_type": "execute_result",
          "data": {
            "text/plain": [
              "headlines    0\n",
              "text         0\n",
              "dtype: int64"
            ]
          },
          "metadata": {},
          "execution_count": 14
        }
      ]
    },
    {
      "cell_type": "code",
      "source": [
        "# 길이 분포 시각화\n",
        "import matplotlib.pyplot as plt\n",
        "\n",
        "text_len = [len(s.split()) for s in data['text']] # len(s.split())은 단어 수를 계산\n",
        "headline_len = [len(s.split()) for s in data['headlines']] # len(s.split())은 단어 수를 계산\n",
        "\n",
        "print('텍스트의 최소 길이 : {}'.format(np.min(text_len)))\n",
        "print('텍스트의 최대 길이 : {}'.format(np.max(text_len)))\n",
        "print('텍스트의 평균 길이 : {}'.format(np.mean(text_len)))\n",
        "print('요약의 최소 길이 : {}'.format(np.min(headline_len)))\n",
        "print('요약의 최대 길이 : {}'.format(np.max(headline_len)))\n",
        "print('요약의 평균 길이 : {}'.format(np.mean(headline_len)))\n",
        "\n",
        "plt.subplot(1,2,1)\n",
        "plt.boxplot(text_len)\n",
        "plt.title('text')\n",
        "plt.subplot(1,2,2)\n",
        "plt.boxplot(headline_len)\n",
        "plt.title('headlines')\n",
        "plt.tight_layout()\n",
        "plt.show()\n",
        "\n",
        "plt.title('text')\n",
        "plt.hist(text_len, bins = 40)\n",
        "plt.xlabel('length of samples')\n",
        "plt.ylabel('number of samples')\n",
        "plt.show()\n",
        "\n",
        "plt.title('headlines')\n",
        "plt.hist(headline_len, bins = 40)\n",
        "plt.xlabel('length of samples')\n",
        "plt.ylabel('number of samples')\n",
        "plt.show()"
      ],
      "metadata": {
        "colab": {
          "base_uri": "https://localhost:8080/",
          "height": 1000
        },
        "id": "Jp3xJQc2aW-g",
        "outputId": "3bbf562c-74d7-47a6-9bec-7149fb34638d"
      },
      "execution_count": 15,
      "outputs": [
        {
          "output_type": "stream",
          "name": "stdout",
          "text": [
            "텍스트의 최소 길이 : 1\n",
            "텍스트의 최대 길이 : 69\n",
            "텍스트의 평균 길이 : 56.1561813745425\n",
            "요약의 최소 길이 : 1\n",
            "요약의 최대 길이 : 16\n",
            "요약의 평균 길이 : 9.289406262708418\n"
          ]
        },
        {
          "output_type": "display_data",
          "data": {
            "text/plain": [
              "<Figure size 640x480 with 2 Axes>"
            ],
            "image/png": "[encoded data removed]"
          },
          "metadata": {}
        },
        {
          "output_type": "display_data",
          "data": {
            "text/plain": [
              "<Figure size 640x480 with 1 Axes>"
            ],
            "image/png": "[encoded data removed]"
          },
          "metadata": {}
        },
        {
          "output_type": "display_data",
          "data": {
            "text/plain": [
              "<Figure size 640x480 with 1 Axes>"
            ],
            "image/png": "[encoded data removed]"
          },
          "metadata": {}
        }
      ]
    },
    {
      "cell_type": "code",
      "source": [
        "text_max_len = 60\n",
        "headline_max_len = 12"
      ],
      "metadata": {
        "id": "Ba8cLnCWaXFN"
      },
      "execution_count": 16,
      "outputs": []
    },
    {
      "cell_type": "code",
      "source": [
        "def below_threshold_len(max_len, nested_list):\n",
        " cnt = 0\n",
        " for s in nested_list:\n",
        "   if(len(s.split()) <= max_len):\n",
        "       cnt = cnt + 1\n",
        " print('전체 샘플 중 길이가 %s 이하인 샘플의 비율: %s'%(max_len, (cnt / len(nested_list))))"
      ],
      "metadata": {
        "id": "U6oeBXdhaXLh"
      },
      "execution_count": 17,
      "outputs": []
    },
    {
      "cell_type": "code",
      "source": [
        "below_threshold_len(text_max_len, data['text'])\n",
        "below_threshold_len(headline_max_len,  data['headlines'])"
      ],
      "metadata": {
        "colab": {
          "base_uri": "https://localhost:8080/"
        },
        "id": "KUxdjpKDaXR0",
        "outputId": "cea63b03-3897-474f-8fe7-d8528b1d880b"
      },
      "execution_count": 18,
      "outputs": [
        {
          "output_type": "stream",
          "name": "stdout",
          "text": [
            "전체 샘플 중 길이가 60 이하인 샘플의 비율: 0.9470414802765352\n",
            "전체 샘플 중 길이가 12 이하인 샘플의 비율: 0.9889589263928427\n"
          ]
        }
      ]
    },
    {
      "cell_type": "code",
      "source": [
        "data = data[data['text'].apply(lambda x: len(x.split()) <= text_max_len) & data['headlines'].apply(lambda x: len(x.split()) <= headline_max_len)]\n",
        "\n",
        "print('전체 샘플수 :', (len(data)))"
      ],
      "metadata": {
        "colab": {
          "base_uri": "https://localhost:8080/"
        },
        "id": "Q3pExgOvaXX7",
        "outputId": "b325bf69-b172-45a9-c513-5628b9755876"
      },
      "execution_count": 19,
      "outputs": [
        {
          "output_type": "stream",
          "name": "stdout",
          "text": [
            "전체 샘플수 : 92225\n"
          ]
        }
      ]
    },
    {
      "cell_type": "code",
      "source": [
        "# 요약 데이터에는 시작 토큰과 종료 토큰을 추가한다.\n",
        "data['decoder_input'] = data['headlines'].apply(lambda x : 'sostoken '+ x)\n",
        "data['decoder_target'] = data['headlines'].apply(lambda x : x + ' eostoken')\n",
        "data.head()"
      ],
      "metadata": {
        "colab": {
          "base_uri": "https://localhost:8080/",
          "height": 293
        },
        "id": "FO8kJ3PIaXeO",
        "outputId": "375360df-ff37-4c67-d1f3-0ca35cb8b28f"
      },
      "execution_count": 20,
      "outputs": [
        {
          "output_type": "execute_result",
          "data": {
            "text/plain": [
              "                                           headlines  \\\n",
              "0  upGrad learner switches to career in ML Al wit...   \n",
              "1  Delhi techie wins free food from Swiggy for on...   \n",
              "2  New Zealand end Rohit Sharma led India match w...   \n",
              "3  Aegon life iTerm insurance plan helps customer...   \n",
              "5  Rahat Fateh Ali Khan denies getting notice for...   \n",
              "\n",
              "                                                text  \\\n",
              "0  Saurav Kant an alumnus of upGrad and IIIT PG P...   \n",
              "1  Kunal Shah credit card bill payment platform C...   \n",
              "2  New Zealand defeated India by wickets in the f...   \n",
              "3  With Aegon Life iTerm Insurance plan customers...   \n",
              "5  Pakistani singer Rahat Fateh Ali Khan has deni...   \n",
              "\n",
              "                                       decoder_input  \\\n",
              "0  sostoken upGrad learner switches to career in ...   \n",
              "1  sostoken Delhi techie wins free food from Swig...   \n",
              "2  sostoken New Zealand end Rohit Sharma led Indi...   \n",
              "3  sostoken Aegon life iTerm insurance plan helps...   \n",
              "5  sostoken Rahat Fateh Ali Khan denies getting n...   \n",
              "\n",
              "                                      decoder_target  \n",
              "0  upGrad learner switches to career in ML Al wit...  \n",
              "1  Delhi techie wins free food from Swiggy for on...  \n",
              "2  New Zealand end Rohit Sharma led India match w...  \n",
              "3  Aegon life iTerm insurance plan helps customer...  \n",
              "5  Rahat Fateh Ali Khan denies getting notice for...  "
            ],
            "text/html": [
              "\n",
              "  <div id=\"df-115f599f-d163-4349-ab44-77ad0c736470\" class=\"colab-df-container\">\n",
              "    <div>\n",
              "<style scoped>\n",
              "    .dataframe tbody tr th:only-of-type {\n",
              "        vertical-align: middle;\n",
              "    }\n",
              "\n",
              "    .dataframe tbody tr th {\n",
              "        vertical-align: top;\n",
              "    }\n",
              "\n",
              "    .dataframe thead th {\n",
              "        text-align: right;\n",
              "    }\n",
              "</style>\n",
              "<table border=\"1\" class=\"dataframe\">\n",
              "  <thead>\n",
              "    <tr style=\"text-align: right;\">\n",
              "      <th></th>\n",
              "      <th>headlines</th>\n",
              "      <th>text</th>\n",
              "      <th>decoder_input</th>\n",
              "      <th>decoder_target</th>\n",
              "    </tr>\n",
              "  </thead>\n",
              "  <tbody>\n",
              "    <tr>\n",
              "      <th>0</th>\n",
              "      <td>upGrad learner switches to career in ML Al wit...</td>\n",
              "      <td>Saurav Kant an alumnus of upGrad and IIIT PG P...</td>\n",
              "      <td>sostoken upGrad learner switches to career in ...</td>\n",
              "      <td>upGrad learner switches to career in ML Al wit...</td>\n",
              "    </tr>\n",
              "    <tr>\n",
              "      <th>1</th>\n",
              "      <td>Delhi techie wins free food from Swiggy for on...</td>\n",
              "      <td>Kunal Shah credit card bill payment platform C...</td>\n",
              "      <td>sostoken Delhi techie wins free food from Swig...</td>\n",
              "      <td>Delhi techie wins free food from Swiggy for on...</td>\n",
              "    </tr>\n",
              "    <tr>\n",
              "      <th>2</th>\n",
              "      <td>New Zealand end Rohit Sharma led India match w...</td>\n",
              "      <td>New Zealand defeated India by wickets in the f...</td>\n",
              "      <td>sostoken New Zealand end Rohit Sharma led Indi...</td>\n",
              "      <td>New Zealand end Rohit Sharma led India match w...</td>\n",
              "    </tr>\n",
              "    <tr>\n",
              "      <th>3</th>\n",
              "      <td>Aegon life iTerm insurance plan helps customer...</td>\n",
              "      <td>With Aegon Life iTerm Insurance plan customers...</td>\n",
              "      <td>sostoken Aegon life iTerm insurance plan helps...</td>\n",
              "      <td>Aegon life iTerm insurance plan helps customer...</td>\n",
              "    </tr>\n",
              "    <tr>\n",
              "      <th>5</th>\n",
              "      <td>Rahat Fateh Ali Khan denies getting notice for...</td>\n",
              "      <td>Pakistani singer Rahat Fateh Ali Khan has deni...</td>\n",
              "      <td>sostoken Rahat Fateh Ali Khan denies getting n...</td>\n",
              "      <td>Rahat Fateh Ali Khan denies getting notice for...</td>\n",
              "    </tr>\n",
              "  </tbody>\n",
              "</table>\n",
              "</div>\n",
              "    <div class=\"colab-df-buttons\">\n",
              "\n",
              "  <div class=\"colab-df-container\">\n",
              "    <button class=\"colab-df-convert\" onclick=\"convertToInteractive('df-115f599f-d163-4349-ab44-77ad0c736470')\"\n",
              "            title=\"Convert this dataframe to an interactive table.\"\n",
              "            style=\"display:none;\">\n",
              "\n",
              "  <svg xmlns=\"http://www.w3.org/2000/svg\" height=\"24px\" viewBox=\"0 -960 960 960\">\n",
              "    <path d=\"M120-120v-720h720v720H120Zm60-500h600v-160H180v160Zm220 220h160v-160H400v160Zm0 220h160v-160H400v160ZM180-400h160v-160H180v160Zm440 0h160v-160H620v160ZM180-180h160v-160H180v160Zm440 0h160v-160H620v160Z\"/>\n",
              "  </svg>\n",
              "    </button>\n",
              "\n",
              "  <style>\n",
              "    .colab-df-container {\n",
              "      display:flex;\n",
              "      gap: 12px;\n",
              "    }\n",
              "\n",
              "    .colab-df-convert {\n",
              "      background-color: #E8F0FE;\n",
              "      border: none;\n",
              "      border-radius: 50%;\n",
              "      cursor: pointer;\n",
              "      display: none;\n",
              "      fill: #1967D2;\n",
              "      height: 32px;\n",
              "      padding: 0 0 0 0;\n",
              "      width: 32px;\n",
              "    }\n",
              "\n",
              "    .colab-df-convert:hover {\n",
              "      background-color: #E2EBFA;\n",
              "      box-shadow: 0px 1px 2px rgba(60, 64, 67, 0.3), 0px 1px 3px 1px rgba(60, 64, 67, 0.15);\n",
              "      fill: #174EA6;\n",
              "    }\n",
              "\n",
              "    .colab-df-buttons div {\n",
              "      margin-bottom: 4px;\n",
              "    }\n",
              "\n",
              "    [theme=dark] .colab-df-convert {\n",
              "      background-color: #3B4455;\n",
              "      fill: #D2E3FC;\n",
              "    }\n",
              "\n",
              "    [theme=dark] .colab-df-convert:hover {\n",
              "      background-color: #434B5C;\n",
              "      box-shadow: 0px 1px 3px 1px rgba(0, 0, 0, 0.15);\n",
              "      filter: drop-shadow(0px 1px 2px rgba(0, 0, 0, 0.3));\n",
              "      fill: #FFFFFF;\n",
              "    }\n",
              "  </style>\n",
              "\n",
              "    <script>\n",
              "      const buttonEl =\n",
              "        document.querySelector('#df-115f599f-d163-4349-ab44-77ad0c736470 button.colab-df-convert');\n",
              "      buttonEl.style.display =\n",
              "        google.colab.kernel.accessAllowed ? 'block' : 'none';\n",
              "\n",
              "      async function convertToInteractive(key) {\n",
              "        const element = document.querySelector('#df-115f599f-d163-4349-ab44-77ad0c736470');\n",
              "        const dataTable =\n",
              "          await google.colab.kernel.invokeFunction('convertToInteractive',\n",
              "                                                    [key], {});\n",
              "        if (!dataTable) return;\n",
              "\n",
              "        const docLinkHtml = 'Like what you see? Visit the ' +\n",
              "          '<a target=\"_blank\" href=https://colab.research.google.com/notebooks/data_table.ipynb>data table notebook</a>'\n",
              "          + ' to learn more about interactive tables.';\n",
              "        element.innerHTML = '';\n",
              "        dataTable['output_type'] = 'display_data';\n",
              "        await google.colab.output.renderOutput(dataTable, element);\n",
              "        const docLink = document.createElement('div');\n",
              "        docLink.innerHTML = docLinkHtml;\n",
              "        element.appendChild(docLink);\n",
              "      }\n",
              "    </script>\n",
              "  </div>\n",
              "\n",
              "\n",
              "<div id=\"df-b05c62a1-a0f4-48f6-9d07-7e354febf03f\">\n",
              "  <button class=\"colab-df-quickchart\" onclick=\"quickchart('df-b05c62a1-a0f4-48f6-9d07-7e354febf03f')\"\n",
              "            title=\"Suggest charts.\"\n",
              "            style=\"display:none;\">\n",
              "\n",
              "<svg xmlns=\"http://www.w3.org/2000/svg\" height=\"24px\"viewBox=\"0 0 24 24\"\n",
              "     width=\"24px\">\n",
              "    <g>\n",
              "        <path d=\"M19 3H5c-1.1 0-2 .9-2 2v14c0 1.1.9 2 2 2h14c1.1 0 2-.9 2-2V5c0-1.1-.9-2-2-2zM9 17H7v-7h2v7zm4 0h-2V7h2v10zm4 0h-2v-4h2v4z\"/>\n",
              "    </g>\n",
              "</svg>\n",
              "  </button>\n",
              "\n",
              "<style>\n",
              "  .colab-df-quickchart {\n",
              "      --bg-color: #E8F0FE;\n",
              "      --fill-color: #1967D2;\n",
              "      --hover-bg-color: #E2EBFA;\n",
              "      --hover-fill-color: #174EA6;\n",
              "      --disabled-fill-color: #AAA;\n",
              "      --disabled-bg-color: #DDD;\n",
              "  }\n",
              "\n",
              "  [theme=dark] .colab-df-quickchart {\n",
              "      --bg-color: #3B4455;\n",
              "      --fill-color: #D2E3FC;\n",
              "      --hover-bg-color: #434B5C;\n",
              "      --hover-fill-color: #FFFFFF;\n",
              "      --disabled-bg-color: #3B4455;\n",
              "      --disabled-fill-color: #666;\n",
              "  }\n",
              "\n",
              "  .colab-df-quickchart {\n",
              "    background-color: var(--bg-color);\n",
              "    border: none;\n",
              "    border-radius: 50%;\n",
              "    cursor: pointer;\n",
              "    display: none;\n",
              "    fill: var(--fill-color);\n",
              "    height: 32px;\n",
              "    padding: 0;\n",
              "    width: 32px;\n",
              "  }\n",
              "\n",
              "  .colab-df-quickchart:hover {\n",
              "    background-color: var(--hover-bg-color);\n",
              "    box-shadow: 0 1px 2px rgba(60, 64, 67, 0.3), 0 1px 3px 1px rgba(60, 64, 67, 0.15);\n",
              "    fill: var(--button-hover-fill-color);\n",
              "  }\n",
              "\n",
              "  .colab-df-quickchart-complete:disabled,\n",
              "  .colab-df-quickchart-complete:disabled:hover {\n",
              "    background-color: var(--disabled-bg-color);\n",
              "    fill: var(--disabled-fill-color);\n",
              "    box-shadow: none;\n",
              "  }\n",
              "\n",
              "  .colab-df-spinner {\n",
              "    border: 2px solid var(--fill-color);\n",
              "    border-color: transparent;\n",
              "    border-bottom-color: var(--fill-color);\n",
              "    animation:\n",
              "      spin 1s steps(1) infinite;\n",
              "  }\n",
              "\n",
              "  @keyframes spin {\n",
              "    0% {\n",
              "      border-color: transparent;\n",
              "      border-bottom-color: var(--fill-color);\n",
              "      border-left-color: var(--fill-color);\n",
              "    }\n",
              "    20% {\n",
              "      border-color: transparent;\n",
              "      border-left-color: var(--fill-color);\n",
              "      border-top-color: var(--fill-color);\n",
              "    }\n",
              "    30% {\n",
              "      border-color: transparent;\n",
              "      border-left-color: var(--fill-color);\n",
              "      border-top-color: var(--fill-color);\n",
              "      border-right-color: var(--fill-color);\n",
              "    }\n",
              "    40% {\n",
              "      border-color: transparent;\n",
              "      border-right-color: var(--fill-color);\n",
              "      border-top-color: var(--fill-color);\n",
              "    }\n",
              "    60% {\n",
              "      border-color: transparent;\n",
              "      border-right-color: var(--fill-color);\n",
              "    }\n",
              "    80% {\n",
              "      border-color: transparent;\n",
              "      border-right-color: var(--fill-color);\n",
              "      border-bottom-color: var(--fill-color);\n",
              "    }\n",
              "    90% {\n",
              "      border-color: transparent;\n",
              "      border-bottom-color: var(--fill-color);\n",
              "    }\n",
              "  }\n",
              "</style>\n",
              "\n",
              "  <script>\n",
              "    async function quickchart(key) {\n",
              "      const quickchartButtonEl =\n",
              "        document.querySelector('#' + key + ' button');\n",
              "      quickchartButtonEl.disabled = true;  // To prevent multiple clicks.\n",
              "      quickchartButtonEl.classList.add('colab-df-spinner');\n",
              "      try {\n",
              "        const charts = await google.colab.kernel.invokeFunction(\n",
              "            'suggestCharts', [key], {});\n",
              "      } catch (error) {\n",
              "        console.error('Error during call to suggestCharts:', error);\n",
              "      }\n",
              "      quickchartButtonEl.classList.remove('colab-df-spinner');\n",
              "      quickchartButtonEl.classList.add('colab-df-quickchart-complete');\n",
              "    }\n",
              "    (() => {\n",
              "      let quickchartButtonEl =\n",
              "        document.querySelector('#df-b05c62a1-a0f4-48f6-9d07-7e354febf03f button');\n",
              "      quickchartButtonEl.style.display =\n",
              "        google.colab.kernel.accessAllowed ? 'block' : 'none';\n",
              "    })();\n",
              "  </script>\n",
              "</div>\n",
              "    </div>\n",
              "  </div>\n"
            ]
          },
          "metadata": {},
          "execution_count": 20
        }
      ]
    },
    {
      "cell_type": "code",
      "source": [
        "encoder_input = np.array(data['text']) # 인코더의 입력\n",
        "decoder_input = np.array(data['decoder_input']) # 디코더의 입력\n",
        "decoder_target = np.array(data['decoder_target']) # 디코더의 레이블"
      ],
      "metadata": {
        "id": "NCEz6Gi9aXkI"
      },
      "execution_count": 21,
      "outputs": []
    },
    {
      "cell_type": "code",
      "source": [
        "indices = np.arange(encoder_input.shape[0])\n",
        "np.random.shuffle(indices)\n",
        "print(indices)"
      ],
      "metadata": {
        "colab": {
          "base_uri": "https://localhost:8080/"
        },
        "id": "CL-OQlwGaXqP",
        "outputId": "b53b6141-0385-4a95-b9b5-fd310aaa2a51"
      },
      "execution_count": 22,
      "outputs": [
        {
          "output_type": "stream",
          "name": "stdout",
          "text": [
            "[42859 69965 79191 ... 36115 69863 60752]\n"
          ]
        }
      ]
    },
    {
      "cell_type": "code",
      "source": [
        "encoder_input = encoder_input[indices]\n",
        "decoder_input = decoder_input[indices]\n",
        "decoder_target = decoder_target[indices]"
      ],
      "metadata": {
        "id": "z0SZymT7aXwJ"
      },
      "execution_count": 23,
      "outputs": []
    },
    {
      "cell_type": "code",
      "source": [
        "n_of_val = int(len(encoder_input)*0.2)\n",
        "print('테스트 데이터의 수 :', n_of_val)\n",
        "print('훈련 데이터의 수 :', int(len(encoder_input) - n_of_val))"
      ],
      "metadata": {
        "colab": {
          "base_uri": "https://localhost:8080/"
        },
        "id": "imfU-WF6aX13",
        "outputId": "9950fc74-d9d7-44b1-949b-733fb8da3f56"
      },
      "execution_count": 24,
      "outputs": [
        {
          "output_type": "stream",
          "name": "stdout",
          "text": [
            "테스트 데이터의 수 : 18445\n",
            "훈련 데이터의 수 : 73780\n"
          ]
        }
      ]
    },
    {
      "cell_type": "code",
      "source": [
        "encoder_input_train = encoder_input[:-n_of_val] # 훈련 데이터\n",
        "decoder_input_train = decoder_input[:-n_of_val] # 훈련 데이터 sostoken\n",
        "decoder_target_train = decoder_target[:-n_of_val] # 훈련 데이터 eostoken\n",
        "\n",
        "encoder_input_test = encoder_input[-n_of_val:] # 테스트 데이터\n",
        "decoder_input_test = decoder_input[-n_of_val:] # 테스트 데이터 sostoken​\n",
        "decoder_target_test = decoder_target[-n_of_val:] # 테스트 데이터 eostoken​\n",
        "\n",
        "print('훈련 데이터의 개수 :', len(encoder_input_train))\n",
        "print('훈련 레이블의 개수 :', len(decoder_input_train))\n",
        "print('테스트 데이터의 개수 :', len(encoder_input_test))\n",
        "print('테스트 레이블의 개수 :', len(decoder_input_test))\n",
        "\n",
        "print(encoder_input_train[:1])\n",
        "print(decoder_input_train[:1])\n",
        "print(decoder_target_train[:1])\n",
        "\n",
        "print(encoder_input_test[:1])\n",
        "print(decoder_input_test[:1])\n",
        "print(decoder_target_test[:1])"
      ],
      "metadata": {
        "colab": {
          "base_uri": "https://localhost:8080/"
        },
        "id": "yrnVGxZOaX7l",
        "outputId": "4006b7f3-765f-4747-9ca5-bf665e802f69"
      },
      "execution_count": 25,
      "outputs": [
        {
          "output_type": "stream",
          "name": "stdout",
          "text": [
            "훈련 데이터의 개수 : 73780\n",
            "훈련 레이블의 개수 : 73780\n",
            "테스트 데이터의 개수 : 18445\n",
            "테스트 레이블의 개수 : 18445\n",
            "['After being adjudged out Karachi Kings Colin Ingram called for review claiming the ball hit just his helmet before Quetta Gladiators Rahat Ali caught it during PSL match Interestingly the no ball replay showed Ingram standing at the non striker end with Jofra Archer bowling legitimate delivery Further the replays confirmed Ingram glove had touched the ball']\n",
            "['sostoken No ball replay shows batsman on strike standing at other end']\n",
            "['No ball replay shows batsman on strike standing at other end eostoken']\n",
            "['India largest lender State Bank of India has reduced its total employee strength by in the six month period after its merger with its five associate banks and Bharatiya Mahila Bank The bank expects the employee count to further decline by approximately people in this fiscal The staff strength reduced to in September compared to in March']\n",
            "['sostoken SBI reduces employee strength by post merger']\n",
            "['SBI reduces employee strength by post merger eostoken']\n"
          ]
        }
      ]
    },
    {
      "cell_type": "code",
      "source": [
        "src_tokenizer = Tokenizer() # 토크나이저 정의\n",
        "src_tokenizer.fit_on_texts(encoder_input_train) # 입력된 데이터로부터 단어 집합 생성"
      ],
      "metadata": {
        "id": "QvHx_QjqaYBU"
      },
      "execution_count": 26,
      "outputs": []
    },
    {
      "cell_type": "code",
      "source": [
        "threshold = 5\n",
        "total_cnt = len(src_tokenizer.word_index) # 단어의 수\n",
        "rare_cnt = 0 # 등장 빈도수가 threshold보다 작은 단어의 개수를 카운트\n",
        "total_freq = 0 # 훈련 데이터의 전체 단어 빈도수 총 합\n",
        "rare_freq = 0 # 등장 빈도수가 threshold보다 작은 단어의 등장 빈도수의 총 합\n",
        "\n",
        "# 단어와 빈도수의 쌍(pair)을 key와 value로 받는다.\n",
        "for key, value in src_tokenizer.word_counts.items():\n",
        "   total_freq = total_freq + value\n",
        "\n",
        "   # 단어의 등장 빈도수가 threshold보다 작으면\n",
        "   if(value < threshold):\n",
        "       rare_cnt = rare_cnt + 1\n",
        "       rare_freq = rare_freq + value\n",
        "\n",
        "print('단어 집합(vocabulary)의 크기 :', total_cnt)\n",
        "print('등장 빈도가 %s번 이하인 희귀 단어의 수: %s'%(threshold - 1, rare_cnt))\n",
        "print('단어 집합에서 희귀 단어를 제외시킬 경우의 단어 집합의 크기 %s'%(total_cnt - rare_cnt))\n",
        "print(\"단어 집합에서 희귀 단어의 비율:\", (rare_cnt / total_cnt)*100)\n",
        "print(\"전체 등장 빈도에서 희귀 단어 등장 빈도 비율:\", (rare_freq / total_freq)*100)"
      ],
      "metadata": {
        "colab": {
          "base_uri": "https://localhost:8080/"
        },
        "id": "IGcBI3FtaYHA",
        "outputId": "d59fc6e9-e544-42a2-8bac-f34be388b254"
      },
      "execution_count": 27,
      "outputs": [
        {
          "output_type": "stream",
          "name": "stdout",
          "text": [
            "단어 집합(vocabulary)의 크기 : 68120\n",
            "등장 빈도가 4번 이하인 희귀 단어의 수: 42336\n",
            "단어 집합에서 희귀 단어를 제외시킬 경우의 단어 집합의 크기 25784\n",
            "단어 집합에서 희귀 단어의 비율: 62.1491485613623\n",
            "전체 등장 빈도에서 희귀 단어 등장 빈도 비율: 1.7442632340930575\n"
          ]
        }
      ]
    },
    {
      "cell_type": "code",
      "source": [
        "src_vocab = 25000\n",
        "src_tokenizer = Tokenizer(num_words=src_vocab) # 단어 집합의 크기를 25000으로 제한\n",
        "src_tokenizer.fit_on_texts(encoder_input_train) # 단어 집합 재생성"
      ],
      "metadata": {
        "id": "0YooaGjUhns4"
      },
      "execution_count": 28,
      "outputs": []
    },
    {
      "cell_type": "code",
      "source": [
        "# 텍스트 시퀀스를 정수 시퀀스로 변환\n",
        "encoder_input_train = src_tokenizer.texts_to_sequences(encoder_input_train)\n",
        "encoder_input_test = src_tokenizer.texts_to_sequences(encoder_input_test)\n",
        "# 잘 진행되었는지 샘플 출력\n",
        "print(encoder_input_train[:3])"
      ],
      "metadata": {
        "colab": {
          "base_uri": "https://localhost:8080/"
        },
        "id": "zABmOGq2hn0j",
        "outputId": "2c6a7c80-a654-4e06-ba98-4d9a1a0da515"
      },
      "execution_count": 29,
      "outputs": [
        {
          "output_type": "stream",
          "name": "stdout",
          "text": [
            "[[18, 76, 11581, 73, 5406, 1849, 7806, 20258, 128, 8, 1790, 500, 1, 509, 314, 219, 16, 4049, 135, 11582, 18006, 13956, 670, 897, 17, 63, 13484, 163, 2714, 1, 102, 509, 732, 20258, 2042, 21, 1, 545, 4364, 445, 15, 20259, 12231, 1669, 6656, 1045, 66, 1, 13025, 747, 20258, 13026, 27, 3628, 1, 509], [1, 262, 62, 6, 114, 785, 1562, 5068, 51, 4, 36, 75, 2404, 2, 1790, 471, 478, 99, 385, 2, 964, 486, 3, 1, 571, 2007, 2843, 1, 1562, 7, 39, 32, 139, 2, 5737, 1, 4399, 4, 23, 1448, 486, 865, 2, 2843, 5, 2679, 220, 395, 82, 276], [2035, 2111, 1384, 447, 13, 4290, 6, 36, 949, 156, 10, 1, 5246, 7, 32, 4291, 217, 452, 5, 248, 3645, 23496, 8, 68, 3, 23, 2924, 2, 1476, 73, 19017, 3803, 1, 1384, 66, 156, 10, 1, 5246, 27, 13, 1944, 694, 10044, 8, 4259, 588, 1380, 19, 588, 5107, 137, 2664, 5]]\n"
          ]
        }
      ]
    },
    {
      "cell_type": "code",
      "source": [
        "tar_tokenizer = Tokenizer() # src_tokenizer 참고​\n",
        "tar_tokenizer.fit_on_texts(decoder_input_train) # decoder_input_train 디코더의 입력 시퀀스"
      ],
      "metadata": {
        "id": "kE5ZZTrahn8D"
      },
      "execution_count": 30,
      "outputs": []
    },
    {
      "cell_type": "code",
      "source": [
        "threshold = 5\n",
        "total_cnt = len(tar_tokenizer.word_index) # 단어의 수\n",
        "rare_cnt = 0 # 등장 빈도수가 threshold보다 작은 단어의 개수를 카운트\n",
        "total_freq = 0 # 훈련 데이터의 전체 단어 빈도수 총 합\n",
        "rare_freq = 0 # 등장 빈도수가 threshold보다 작은 단어의 등장 빈도수의 총 합\n",
        "\n",
        "# 단어와 빈도수의 쌍(pair)을 key와 value로 받는다.\n",
        "for key, value in tar_tokenizer.word_counts.items():\n",
        "   total_freq = total_freq + value\n",
        "\n",
        "   # 단어의 등장 빈도수가 threshold보다 작으면\n",
        "   if(value < threshold):\n",
        "       rare_cnt = rare_cnt + 1\n",
        "       rare_freq = rare_freq + value\n",
        "\n",
        "print('단어 집합(vocabulary)의 크기 :', total_cnt)\n",
        "print('등장 빈도가 %s번 이하인 희귀 단어의 수: %s'%(threshold - 1, rare_cnt))\n",
        "print('단어 집합에서 희귀 단어를 제외시킬 경우의 단어 집합의 크기 %s'%(total_cnt - rare_cnt))\n",
        "print(\"단어 집합에서 희귀 단어의 비율:\", (rare_cnt / total_cnt)*100)\n",
        "print(\"전체 등장 빈도에서 희귀 단어 등장 빈도 비율:\", (rare_freq / total_freq)*100)"
      ],
      "metadata": {
        "colab": {
          "base_uri": "https://localhost:8080/"
        },
        "id": "li7s76pjhoDW",
        "outputId": "9bb7a363-55b5-4795-a4d1-7d6ce9a7188c"
      },
      "execution_count": 31,
      "outputs": [
        {
          "output_type": "stream",
          "name": "stdout",
          "text": [
            "단어 집합(vocabulary)의 크기 : 29445\n",
            "등장 빈도가 4번 이하인 희귀 단어의 수: 18267\n",
            "단어 집합에서 희귀 단어를 제외시킬 경우의 단어 집합의 크기 11178\n",
            "단어 집합에서 희귀 단어의 비율: 62.03769740193581\n",
            "전체 등장 빈도에서 희귀 단어 등장 빈도 비율: 4.162760694628786\n"
          ]
        }
      ]
    },
    {
      "cell_type": "code",
      "source": [
        "tar_vocab = 11000\n",
        "tar_tokenizer = Tokenizer(num_words=tar_vocab)\n",
        "tar_tokenizer.fit_on_texts(decoder_input_train)  # 단어 집합 재생성\n",
        "tar_tokenizer.fit_on_texts(decoder_target_train)  # 단어 집합 재생성\n",
        "\n",
        "# 토큰화기에 여러 번 fit_on_texts를 호출하면 단어 인덱스가 재설정되지 않습니다. 대신 업데이트됩니다.\n",
        "# 따라서 이 문맥에서 토큰화기의 어휘는 decoder_input_train 및 decoder_target_train 모두를 기반으로 합니다.\n",
        "\n",
        "# 텍스트 시퀀스를 정수 시퀀스로 변환\n",
        "decoder_input_train = tar_tokenizer.texts_to_sequences(decoder_input_train)\n",
        "decoder_input_test = tar_tokenizer.texts_to_sequences(decoder_input_test)\n",
        "decoder_target_train = tar_tokenizer.texts_to_sequences(decoder_target_train)\n",
        "decoder_target_test = tar_tokenizer.texts_to_sequences(decoder_target_test)\n",
        "\n",
        "# 잘 변환되었는지 확인\n",
        "print('input')\n",
        "print('input ',decoder_input_train[:5])\n",
        "print('target')\n",
        "print('decoder ',decoder_target_train[:5])"
      ],
      "metadata": {
        "colab": {
          "base_uri": "https://localhost:8080/"
        },
        "id": "S5e-6hCOhoKz",
        "outputId": "d7bcf4e3-f6a3-4e5e-c047-08bea22676e1"
      },
      "execution_count": 32,
      "outputs": [
        {
          "output_type": "stream",
          "name": "stdout",
          "text": [
            "input\n",
            "input  [[1, 45, 429, 239, 1038, 7, 455, 4987, 11, 642, 349], [1, 67, 148, 3, 1555, 1304, 3, 1819, 321, 1259, 4213, 517], [1, 2282, 877, 2316, 5925, 5, 56, 3017], [1, 40, 399, 3, 96, 13, 4489, 4, 279], [1, 560, 7, 353, 329, 3, 205, 269, 128, 983, 30]]\n",
            "target\n",
            "decoder  [[45, 429, 239, 1038, 7, 455, 4987, 11, 642, 349, 2], [67, 148, 3, 1555, 1304, 3, 1819, 321, 1259, 4213, 517, 2], [2282, 877, 2316, 5925, 5, 56, 3017, 2], [40, 399, 3, 96, 13, 4489, 4, 279, 2], [560, 7, 353, 329, 3, 205, 269, 128, 983, 30, 2]]\n"
          ]
        }
      ]
    },
    {
      "cell_type": "code",
      "source": [
        "drop_train = [index for index, sentence in enumerate(decoder_input_train) if len(sentence) == 1]\n",
        "drop_test = [index for index, sentence in enumerate(decoder_input_test) if len(sentence) == 1]\n",
        "\n",
        "print('삭제할 훈련 데이터의 개수 :', len(drop_train)) # 0\n",
        "print('삭제할 테스트 데이터의 개수 :', len(drop_test)) # 0\n",
        "\n",
        "# encoder_input_train = [sentence for index, sentence in enumerate(encoder_input_train) if index not in drop_train]\n",
        "# decoder_input_train = [sentence for index, sentence in enumerate(decoder_input_train) if index not in drop_train]\n",
        "# decoder_target_train = [sentence for index, sentence in enumerate(decoder_target_train) if index not in drop_train]\n",
        "\n",
        "# encoder_input_test = [sentence for index, sentence in enumerate(encoder_input_test) if index not in drop_test]\n",
        "# decoder_input_test = [sentence for index, sentence in enumerate(decoder_input_test) if index not in drop_test]\n",
        "# decoder_target_test = [sentence for index, sentence in enumerate(decoder_target_test) if index not in drop_test]\n",
        "\n",
        "print('훈련 데이터의 개수 :', len(encoder_input_train))\n",
        "print('훈련 레이블의 개수 :', len(decoder_input_train))\n",
        "print('테스트 데이터의 개수 :', len(encoder_input_test))\n",
        "print('테스트 레이블의 개수 :', len(decoder_input_test))"
      ],
      "metadata": {
        "colab": {
          "base_uri": "https://localhost:8080/"
        },
        "id": "P6fqb_FThoRt",
        "outputId": "9457955a-e571-4a25-93dd-20d29fd6a141"
      },
      "execution_count": 33,
      "outputs": [
        {
          "output_type": "stream",
          "name": "stdout",
          "text": [
            "삭제할 훈련 데이터의 개수 : 0\n",
            "삭제할 테스트 데이터의 개수 : 0\n",
            "훈련 데이터의 개수 : 73780\n",
            "훈련 레이블의 개수 : 73780\n",
            "테스트 데이터의 개수 : 18445\n",
            "테스트 레이블의 개수 : 18445\n"
          ]
        }
      ]
    },
    {
      "cell_type": "code",
      "source": [
        "encoder_input_train = pad_sequences(encoder_input_train, maxlen=text_max_len, padding='post')\n",
        "encoder_input_test = pad_sequences(encoder_input_test, maxlen=text_max_len, padding='post')\n",
        "decoder_input_train = pad_sequences(decoder_input_train, maxlen=headline_max_len, padding='post')\n",
        "decoder_target_train = pad_sequences(decoder_target_train, maxlen=headline_max_len, padding='post')\n",
        "decoder_input_test = pad_sequences(decoder_input_test, maxlen=headline_max_len, padding='post')\n",
        "decoder_target_test = pad_sequences(decoder_target_test, maxlen=headline_max_len, padding='post')"
      ],
      "metadata": {
        "id": "ktZd4sy5hoYB"
      },
      "execution_count": 34,
      "outputs": []
    },
    {
      "cell_type": "code",
      "source": [
        "from tensorflow.keras.layers import Input, LSTM, Embedding, Dense, Concatenate, TimeDistributed\n",
        "from tensorflow.keras.models import Model\n",
        "from tensorflow.keras.callbacks import EarlyStopping, ModelCheckpoint\n",
        "\n",
        "# 인코더 설계 시작\n",
        "embedding_dim = 128\n",
        "hidden_size = 256\n",
        "\n",
        "# 인코더\n",
        "encoder_inputs = Input(shape=(text_max_len,))\n",
        "\n",
        "# 인코더의 임베딩 층\n",
        "enc_emb = Embedding(src_vocab, embedding_dim)(encoder_inputs)\n",
        "\n",
        "# 인코더의 LSTM 1\n",
        "# encoder_lstm1 = LSTM(hidden_size, return_sequences=True, return_state=True ,dropout = 0.4, recurrent_dropout = 0.4)\n",
        "encoder_lstm1 = LSTM(hidden_size, return_sequences=True, return_state=True ,dropout = 0.4)\n",
        "encoder_output1, state_h1, state_c1 = encoder_lstm1(enc_emb)\n",
        "\n",
        "# 인코더의 LSTM 2\n",
        "encoder_lstm2 = LSTM(hidden_size, return_sequences=True, return_state=True, dropout=0.4)\n",
        "encoder_output2, state_h2, state_c2 = encoder_lstm2(encoder_output1)\n",
        "\n",
        "# 인코더의 LSTM 3\n",
        "encoder_lstm3 = LSTM(hidden_size, return_sequences=True, return_state=True, dropout=0.4)\n",
        "encoder_output3, state_h3, state_c3 = encoder_lstm3(encoder_output2)\n",
        "\n",
        "# 최종 출력 값인 encoder_output3, state_h3, state_c3는 디코더 단계에서 중요할 것이며,\n",
        "# state_h3와 state_c3는 디코더의 LSTM 레이어의 초기 상태가 됩니다."
      ],
      "metadata": {
        "id": "-Z4kYDCnhoeI"
      },
      "execution_count": 35,
      "outputs": []
    },
    {
      "cell_type": "code",
      "source": [
        "# 디코더 설계\n",
        "decoder_inputs = Input(shape=(None,))\n",
        "\n",
        "# 디코더의 임베딩 층\n",
        "dec_emb_layer = Embedding(tar_vocab, embedding_dim)\n",
        "dec_emb = dec_emb_layer(decoder_inputs)\n",
        "\n",
        "# 디코더의 LSTM\n",
        "# decoder_lstm = LSTM(hidden_size, return_sequences=True, return_state=True, dropout=0.4, recurrent_dropout=0.2)\n",
        "decoder_lstm = LSTM(hidden_size, return_sequences=True, return_state=True, dropout=0.4)\n",
        "decoder_outputs, _, _ = decoder_lstm(dec_emb, initial_state=[state_h3, state_c3])"
      ],
      "metadata": {
        "id": "Nnxx2ae9hokP"
      },
      "execution_count": 36,
      "outputs": []
    },
    {
      "cell_type": "code",
      "source": [
        "# 디코더의 출력층\n",
        "decoder_softmax_layer = Dense(tar_vocab, activation='softmax')\n",
        "decoder_softmax_outputs = decoder_softmax_layer(decoder_outputs)\n",
        "\n",
        "# 모델 정의\n",
        "model = Model([encoder_inputs, decoder_inputs], decoder_softmax_outputs)\n",
        "model.summary()"
      ],
      "metadata": {
        "colab": {
          "base_uri": "https://localhost:8080/"
        },
        "id": "7P2atE-khoqI",
        "outputId": "bc484398-c4be-4104-e2d5-71266701bb38"
      },
      "execution_count": 37,
      "outputs": [
        {
          "output_type": "stream",
          "name": "stdout",
          "text": [
            "Model: \"model\"\n",
            "__________________________________________________________________________________________________\n",
            " Layer (type)                Output Shape                 Param #   Connected to                  \n",
            "==================================================================================================\n",
            " input_1 (InputLayer)        [(None, 60)]                 0         []                            \n",
            "                                                                                                  \n",
            " embedding (Embedding)       (None, 60, 128)              3200000   ['input_1[0][0]']             \n",
            "                                                                                                  \n",
            " lstm (LSTM)                 [(None, 60, 256),            394240    ['embedding[0][0]']           \n",
            "                              (None, 256),                                                        \n",
            "                              (None, 256)]                                                        \n",
            "                                                                                                  \n",
            " input_2 (InputLayer)        [(None, None)]               0         []                            \n",
            "                                                                                                  \n",
            " lstm_1 (LSTM)               [(None, 60, 256),            525312    ['lstm[0][0]']                \n",
            "                              (None, 256),                                                        \n",
            "                              (None, 256)]                                                        \n",
            "                                                                                                  \n",
            " embedding_1 (Embedding)     (None, None, 128)            1408000   ['input_2[0][0]']             \n",
            "                                                                                                  \n",
            " lstm_2 (LSTM)               [(None, 60, 256),            525312    ['lstm_1[0][0]']              \n",
            "                              (None, 256),                                                        \n",
            "                              (None, 256)]                                                        \n",
            "                                                                                                  \n",
            " lstm_3 (LSTM)               [(None, None, 256),          394240    ['embedding_1[0][0]',         \n",
            "                              (None, 256),                           'lstm_2[0][1]',              \n",
            "                              (None, 256)]                           'lstm_2[0][2]']              \n",
            "                                                                                                  \n",
            " dense (Dense)               (None, None, 11000)          2827000   ['lstm_3[0][0]']              \n",
            "                                                                                                  \n",
            "==================================================================================================\n",
            "Total params: 9274104 (35.38 MB)\n",
            "Trainable params: 9274104 (35.38 MB)\n",
            "Non-trainable params: 0 (0.00 Byte)\n",
            "__________________________________________________________________________________________________\n"
          ]
        }
      ]
    },
    {
      "cell_type": "code",
      "source": [
        "# 어텐션 층을 만들고, 위에서 설계한 디코더의 출력층을 수정\n",
        "from tensorflow.keras.layers import AdditiveAttention\n",
        "\n",
        "# 어텐션 층(어텐션 함수)\n",
        "attn_layer = AdditiveAttention(name='attention_layer')\n",
        "\n",
        "# 인코더와 디코더의 모든 time step의 hidden state를 어텐션 층에 전달하고 결과를 리턴\n",
        "attn_out = attn_layer([decoder_outputs, encoder_output3]) # 마지막 인코더 LSTM 레이어의 출력을 참조\n",
        "\n",
        "# 어텐션의 결과와 디코더의 hidden state들을 연결\n",
        "decoder_concat_input = Concatenate(axis=-1, name='concat_layer')([decoder_outputs, attn_out])\n",
        "\n",
        "# 디코더의 출력층\n",
        "decoder_softmax_layer = Dense(tar_vocab, activation='softmax')\n",
        "decoder_softmax_outputs = decoder_softmax_layer(decoder_concat_input)\n",
        "\n",
        "# 모델 정의\n",
        "model = Model([encoder_inputs, decoder_inputs], decoder_softmax_outputs)\n",
        "model.summary()"
      ],
      "metadata": {
        "colab": {
          "base_uri": "https://localhost:8080/"
        },
        "id": "ShIgI11GhowC",
        "outputId": "7f04637a-87be-4bae-a04c-b49a29e38d9b"
      },
      "execution_count": 38,
      "outputs": [
        {
          "output_type": "stream",
          "name": "stdout",
          "text": [
            "Model: \"model_1\"\n",
            "__________________________________________________________________________________________________\n",
            " Layer (type)                Output Shape                 Param #   Connected to                  \n",
            "==================================================================================================\n",
            " input_1 (InputLayer)        [(None, 60)]                 0         []                            \n",
            "                                                                                                  \n",
            " embedding (Embedding)       (None, 60, 128)              3200000   ['input_1[0][0]']             \n",
            "                                                                                                  \n",
            " lstm (LSTM)                 [(None, 60, 256),            394240    ['embedding[0][0]']           \n",
            "                              (None, 256),                                                        \n",
            "                              (None, 256)]                                                        \n",
            "                                                                                                  \n",
            " input_2 (InputLayer)        [(None, None)]               0         []                            \n",
            "                                                                                                  \n",
            " lstm_1 (LSTM)               [(None, 60, 256),            525312    ['lstm[0][0]']                \n",
            "                              (None, 256),                                                        \n",
            "                              (None, 256)]                                                        \n",
            "                                                                                                  \n",
            " embedding_1 (Embedding)     (None, None, 128)            1408000   ['input_2[0][0]']             \n",
            "                                                                                                  \n",
            " lstm_2 (LSTM)               [(None, 60, 256),            525312    ['lstm_1[0][0]']              \n",
            "                              (None, 256),                                                        \n",
            "                              (None, 256)]                                                        \n",
            "                                                                                                  \n",
            " lstm_3 (LSTM)               [(None, None, 256),          394240    ['embedding_1[0][0]',         \n",
            "                              (None, 256),                           'lstm_2[0][1]',              \n",
            "                              (None, 256)]                           'lstm_2[0][2]']              \n",
            "                                                                                                  \n",
            " attention_layer (AdditiveA  (None, None, 256)            256       ['lstm_3[0][0]',              \n",
            " ttention)                                                           'lstm_2[0][0]']              \n",
            "                                                                                                  \n",
            " concat_layer (Concatenate)  (None, None, 512)            0         ['lstm_3[0][0]',              \n",
            "                                                                     'attention_layer[0][0]']     \n",
            "                                                                                                  \n",
            " dense_1 (Dense)             (None, None, 11000)          5643000   ['concat_layer[0][0]']        \n",
            "                                                                                                  \n",
            "==================================================================================================\n",
            "Total params: 12090360 (46.12 MB)\n",
            "Trainable params: 12090360 (46.12 MB)\n",
            "Non-trainable params: 0 (0.00 Byte)\n",
            "__________________________________________________________________________________________________\n"
          ]
        }
      ]
    },
    {
      "cell_type": "code",
      "source": [
        "# 모델 훈련하기\n",
        "model.compile(optimizer='rmsprop', loss='sparse_categorical_crossentropy')\n",
        "es = EarlyStopping(monitor='val_loss', patience=5, verbose=1)\n",
        "history = model.fit(x=[encoder_input_train, decoder_input_train], y=decoder_target_train, \\\n",
        "         validation_data=([encoder_input_test, decoder_input_test], decoder_target_test), \\\n",
        "         batch_size=256, callbacks=[es], epochs=50)"
      ],
      "metadata": {
        "colab": {
          "base_uri": "https://localhost:8080/"
        },
        "id": "J4Rpfx3Aho1w",
        "outputId": "2347581c-8ac4-4982-89f5-142d7473c1ef"
      },
      "execution_count": 39,
      "outputs": [
        {
          "output_type": "stream",
          "name": "stdout",
          "text": [
            "Epoch 1/50\n",
            "289/289 [==============================] - 68s 194ms/step - loss: 5.9805 - val_loss: 5.6286\n",
            "Epoch 2/50\n",
            "289/289 [==============================] - 37s 129ms/step - loss: 5.6489 - val_loss: 5.5520\n",
            "Epoch 3/50\n",
            "289/289 [==============================] - 36s 123ms/step - loss: 5.5553 - val_loss: 5.4752\n",
            "Epoch 4/50\n",
            "289/289 [==============================] - 35s 120ms/step - loss: 5.4723 - val_loss: 5.3910\n",
            "Epoch 5/50\n",
            "289/289 [==============================] - 34s 117ms/step - loss: 5.3640 - val_loss: 5.2673\n",
            "Epoch 6/50\n",
            "289/289 [==============================] - 34s 117ms/step - loss: 5.2178 - val_loss: 5.1625\n",
            "Epoch 7/50\n",
            "289/289 [==============================] - 34s 119ms/step - loss: 5.0802 - val_loss: 5.0215\n",
            "Epoch 8/50\n",
            "289/289 [==============================] - 34s 117ms/step - loss: 4.9713 - val_loss: 4.9462\n",
            "Epoch 9/50\n",
            "289/289 [==============================] - 36s 123ms/step - loss: 4.8702 - val_loss: 4.8612\n",
            "Epoch 10/50\n",
            "289/289 [==============================] - 34s 117ms/step - loss: 4.7738 - val_loss: 4.7837\n",
            "Epoch 11/50\n",
            "289/289 [==============================] - 33s 115ms/step - loss: 4.6737 - val_loss: 4.7158\n",
            "Epoch 12/50\n",
            "289/289 [==============================] - 33s 115ms/step - loss: 4.5804 - val_loss: 4.6092\n",
            "Epoch 13/50\n",
            "289/289 [==============================] - 35s 122ms/step - loss: 4.4919 - val_loss: 4.5567\n",
            "Epoch 14/50\n",
            "289/289 [==============================] - 34s 116ms/step - loss: 4.4093 - val_loss: 4.4995\n",
            "Epoch 15/50\n",
            "289/289 [==============================] - 33s 116ms/step - loss: 4.3319 - val_loss: 4.4390\n",
            "Epoch 16/50\n",
            "289/289 [==============================] - 35s 121ms/step - loss: 4.2571 - val_loss: 4.3851\n",
            "Epoch 17/50\n",
            "289/289 [==============================] - 33s 114ms/step - loss: 4.1852 - val_loss: 4.3302\n",
            "Epoch 18/50\n",
            "289/289 [==============================] - 33s 115ms/step - loss: 4.1158 - val_loss: 4.3161\n",
            "Epoch 19/50\n",
            "289/289 [==============================] - 33s 115ms/step - loss: 4.0496 - val_loss: 4.2986\n",
            "Epoch 20/50\n",
            "289/289 [==============================] - 34s 116ms/step - loss: 3.9869 - val_loss: 4.2060\n",
            "Epoch 21/50\n",
            "289/289 [==============================] - 33s 116ms/step - loss: 3.9259 - val_loss: 4.1621\n",
            "Epoch 22/50\n",
            "289/289 [==============================] - 33s 115ms/step - loss: 3.8679 - val_loss: 4.1445\n",
            "Epoch 23/50\n",
            "289/289 [==============================] - 33s 115ms/step - loss: 3.8125 - val_loss: 4.1133\n",
            "Epoch 24/50\n",
            "289/289 [==============================] - 33s 115ms/step - loss: 3.7599 - val_loss: 4.0885\n",
            "Epoch 25/50\n",
            "289/289 [==============================] - 33s 114ms/step - loss: 3.7075 - val_loss: 4.0574\n",
            "Epoch 26/50\n",
            "289/289 [==============================] - 33s 115ms/step - loss: 3.6588 - val_loss: 4.0347\n",
            "Epoch 27/50\n",
            "289/289 [==============================] - 33s 114ms/step - loss: 3.6107 - val_loss: 4.0105\n",
            "Epoch 28/50\n",
            "289/289 [==============================] - 33s 114ms/step - loss: 3.5658 - val_loss: 3.9874\n",
            "Epoch 29/50\n",
            "289/289 [==============================] - 33s 114ms/step - loss: 3.5215 - val_loss: 3.9717\n",
            "Epoch 30/50\n",
            "289/289 [==============================] - 33s 115ms/step - loss: 3.4784 - val_loss: 3.9507\n",
            "Epoch 31/50\n",
            "289/289 [==============================] - 35s 122ms/step - loss: 3.4361 - val_loss: 3.9492\n",
            "Epoch 32/50\n",
            "289/289 [==============================] - 33s 114ms/step - loss: 3.3960 - val_loss: 3.9206\n",
            "Epoch 33/50\n",
            "289/289 [==============================] - 33s 114ms/step - loss: 3.3557 - val_loss: 3.9082\n",
            "Epoch 34/50\n",
            "289/289 [==============================] - 35s 123ms/step - loss: 3.3179 - val_loss: 3.8882\n",
            "Epoch 35/50\n",
            "289/289 [==============================] - 34s 116ms/step - loss: 3.2811 - val_loss: 3.8748\n",
            "Epoch 36/50\n",
            "289/289 [==============================] - 33s 114ms/step - loss: 3.2442 - val_loss: 3.8661\n",
            "Epoch 37/50\n",
            "289/289 [==============================] - 33s 114ms/step - loss: 3.2082 - val_loss: 3.8611\n",
            "Epoch 38/50\n",
            "289/289 [==============================] - 33s 115ms/step - loss: 3.1747 - val_loss: 3.8555\n",
            "Epoch 39/50\n",
            "289/289 [==============================] - 35s 121ms/step - loss: 3.1417 - val_loss: 3.8427\n",
            "Epoch 40/50\n",
            "289/289 [==============================] - 33s 113ms/step - loss: 3.1084 - val_loss: 3.8303\n",
            "Epoch 41/50\n",
            "289/289 [==============================] - 33s 115ms/step - loss: 3.0763 - val_loss: 3.8351\n",
            "Epoch 42/50\n",
            "289/289 [==============================] - 33s 114ms/step - loss: 3.0458 - val_loss: 3.8124\n",
            "Epoch 43/50\n",
            "289/289 [==============================] - 35s 120ms/step - loss: 3.0153 - val_loss: 3.8077\n",
            "Epoch 44/50\n",
            "289/289 [==============================] - 33s 114ms/step - loss: 2.9857 - val_loss: 3.7994\n",
            "Epoch 45/50\n",
            "289/289 [==============================] - 33s 114ms/step - loss: 2.9561 - val_loss: 3.7957\n",
            "Epoch 46/50\n",
            "289/289 [==============================] - 33s 115ms/step - loss: 2.9273 - val_loss: 3.7941\n",
            "Epoch 47/50\n",
            "289/289 [==============================] - 33s 114ms/step - loss: 2.9004 - val_loss: 3.8055\n",
            "Epoch 48/50\n",
            "289/289 [==============================] - 33s 113ms/step - loss: 2.8738 - val_loss: 3.7751\n",
            "Epoch 49/50\n",
            "289/289 [==============================] - 33s 115ms/step - loss: 2.8470 - val_loss: 3.7798\n",
            "Epoch 50/50\n",
            "289/289 [==============================] - 33s 116ms/step - loss: 2.8203 - val_loss: 3.7726\n"
          ]
        }
      ]
    },
    {
      "cell_type": "code",
      "source": [
        "# 훈련 데이터의 손실과 검증 데이터의 손실이 줄어드는 과정을 시각화\n",
        "plt.plot(history.history['loss'], label='train')\n",
        "plt.plot(history.history['val_loss'], label='test')\n",
        "plt.legend()\n",
        "plt.show()"
      ],
      "metadata": {
        "colab": {
          "base_uri": "https://localhost:8080/",
          "height": 430
        },
        "id": "x_4zM2yFho7e",
        "outputId": "3c4f431c-7ebb-45b4-ac34-d30626fcaf85"
      },
      "execution_count": 40,
      "outputs": [
        {
          "output_type": "display_data",
          "data": {
            "text/plain": [
              "<Figure size 640x480 with 1 Axes>"
            ],
            "image/png": "[encoded data removed]"
          },
          "metadata": {}
        }
      ]
    },
    {
      "cell_type": "code",
      "source": [
        "# 인퍼런스(추론) 모델 구현\n",
        "src_index_to_word = src_tokenizer.index_word # 원문 단어 집합에서 정수 -> 단어를 얻음\n",
        "tar_word_to_index = tar_tokenizer.word_index # 요약 단어 집합에서 단어 -> 정수를 얻음\n",
        "tar_index_to_word = tar_tokenizer.index_word # 요약 단어 집합에서 정수 -> 단어를 얻음"
      ],
      "metadata": {
        "id": "Au4_uDNghpBM"
      },
      "execution_count": 41,
      "outputs": []
    },
    {
      "cell_type": "code",
      "source": [
        "# 인코더 설계\n",
        "encoder_model = Model(inputs=encoder_inputs, outputs=[encoder_output3, state_h3, state_c3])\n",
        "\n",
        "# 이전 시점의 상태들을 저장하는 텐서\n",
        "decoder_state_input_h = Input(shape=(hidden_size,))\n",
        "decoder_state_input_c = Input(shape=(hidden_size,))\n",
        "\n",
        "dec_emb2 = dec_emb_layer(decoder_inputs)\n",
        "\n",
        "# 문장의 다음 단어를 예측하기 위해서 초기 상태(initial_state)를 이전 시점의 상태로 사용. 이는 뒤의 함수 decode_sequence()에 구현\n",
        "# 훈련 과정에서와 달리 LSTM의 리턴하는 은닉 상태와 셀 상태인 state_h와 state_c를 버리지 않음.\n",
        "decoder_outputs2, state_h2, state_c2 = decoder_lstm(dec_emb2, initial_state=[decoder_state_input_h, decoder_state_input_c])"
      ],
      "metadata": {
        "id": "gUVN6O0laYMt"
      },
      "execution_count": 42,
      "outputs": []
    },
    {
      "cell_type": "code",
      "source": [
        "# 어텐션 함수\n",
        "decoder_hidden_state_input = Input(shape=(text_max_len, hidden_size))\n",
        "attn_out_inf = attn_layer([decoder_outputs2, decoder_hidden_state_input])\n",
        "decoder_inf_concat = Concatenate(axis=-1, name='concat')([decoder_outputs2, attn_out_inf])\n",
        "\n",
        "# 디코더의 출력층\n",
        "decoder_outputs2 = decoder_softmax_layer(decoder_inf_concat)\n",
        "\n",
        "# 최종 디코더 모델\n",
        "decoder_model = Model(\n",
        "   [decoder_inputs] + [decoder_hidden_state_input,decoder_state_input_h, decoder_state_input_c],\n",
        "   [decoder_outputs2] + [state_h2, state_c2])"
      ],
      "metadata": {
        "id": "2yO7TMF2ny-d"
      },
      "execution_count": 43,
      "outputs": []
    },
    {
      "cell_type": "code",
      "source": [
        "def decode_sequence(input_seq):\n",
        "   # 입력으로부터 인코더의 상태를 얻음\n",
        "   e_out, e_h, e_c = encoder_model.predict(input_seq)\n",
        "\n",
        "    # <SOS>에 해당하는 토큰 생성\n",
        "    # 디코딩을 시작하기 위해 디코더에 입력될 첫 번째 토큰, 즉 \"시작 토큰\"을 설정하는 역할​\n",
        "   target_seq = np.zeros((1,1)) # target_seq는 2차원 배열로, 행이 1개이고 열이 1개, [[0]]\n",
        "   target_seq[0, 0] = tar_word_to_index['sostoken']\n",
        "\n",
        "   stop_condition = False\n",
        "   decoded_sentence = ''\n",
        "   while not stop_condition: # stop_condition이 True가 될 때까지 루프 반복\n",
        "\n",
        "       output_tokens, h, c = decoder_model.predict([target_seq] + [e_out, e_h, e_c]) # 이 코드는 현재의 입력 토큰 및 인코더의 출력 및 상태값을 사용하여 디코더로 다음 토큰을 예측\n",
        "       sampled_token_index = np.argmax(output_tokens[0, -1, :]) # 배치의 첫 번째 시퀀스(0), 시퀀스의 마지막 토큰(-1) 및 모든 어휘 확률 중 가장 가능성이 높은 다음 단어의 인덱스 선택\n",
        "       sampled_token = tar_index_to_word[sampled_token_index]\n",
        "\n",
        "       if (sampled_token!='eostoken'):\n",
        "           decoded_sentence += ' '+sampled_token\n",
        "\n",
        "       #  <eos>에 도달하거나 최대 길이를 넘으면 중단.\n",
        "       if (sampled_token == 'eostoken'  or len(decoded_sentence.split()) >= (headline_max_len-1)):\n",
        "           stop_condition = True\n",
        "\n",
        "       # 길이가 1인 타겟 시퀀스를 업데이트\n",
        "       target_seq = np.zeros((1,1))\n",
        "       target_seq[0, 0] = sampled_token_index\n",
        "\n",
        "       # 상태를 업데이트 합니다.\n",
        "       e_h, e_c = h, c\n",
        "\n",
        "   return decoded_sentence"
      ],
      "metadata": {
        "id": "T1AigCdTnzFk"
      },
      "execution_count": 44,
      "outputs": []
    },
    {
      "cell_type": "code",
      "source": [
        "# 원문의 정수 시퀀스를 텍스트 시퀀스로 변환\n",
        "def seq2text(input_seq):\n",
        "   temp=''\n",
        "   for i in input_seq:\n",
        "       if (i!=0):\n",
        "           temp = temp + src_index_to_word[i]+' '\n",
        "   return temp\n",
        "\n",
        "# 요약문의 정수 시퀀스를 텍스트 시퀀스로 변환\n",
        "def seq2summary(input_seq):\n",
        "   # [[YOUR CODE]]\n",
        "   temp=''\n",
        "   start_tok = tar_word_to_index['sostoken']\n",
        "   end_tok = tar_word_to_index['eostoken']\n",
        "\n",
        "   for i in input_seq:\n",
        "       if (i!=0 and i!=start_tok and i!=end_tok):\n",
        "           temp = temp + tar_index_to_word[i]+' '\n",
        "   return temp"
      ],
      "metadata": {
        "id": "s_ajRSC5nzMD"
      },
      "execution_count": 45,
      "outputs": []
    },
    {
      "cell_type": "code",
      "source": [
        "# 테스트 데이터 약 50개의 샘플에 대해서 실제 요약과 예측된 요약을 비교\n",
        "\n",
        "for i in range(50, 100):\n",
        "   print(\"원문 :\", seq2text(encoder_input_test[i]))\n",
        "   print(\"실제 요약 :\", seq2summary(decoder_input_test[i]))\n",
        "   print(\"예측 요약 :\", decode_sequence(encoder_input_test[i].reshape(1, text_max_len)))\n",
        "   print(\"\\n\")"
      ],
      "metadata": {
        "colab": {
          "base_uri": "https://localhost:8080/"
        },
        "id": "JjC_0dcknzSL",
        "outputId": "f236af7f-fdd8-4561-d99a-63fdbeeda713"
      },
      "execution_count": 46,
      "outputs": [
        {
          "output_type": "stream",
          "name": "stdout",
          "text": [
            "원문 : billionaire elon musk on friday shared the screenshot of satirical website article titled elon musk buys fortnite and it and tweeted had to be done ur welcome had to save these kids from eternal virginity the article quoted musk as saying fortnite is an online video game first released in and developed by epic games \n",
            "실제 요약 : you re welcome musk on article on him deleting fortnite \n",
            "1/1 [==============================] - 1s 1s/step\n",
            "1/1 [==============================] - 0s 375ms/step\n",
            "1/1 [==============================] - 0s 20ms/step\n",
            "1/1 [==============================] - 0s 20ms/step\n",
            "1/1 [==============================] - 0s 23ms/step\n",
            "1/1 [==============================] - 0s 21ms/step\n",
            "1/1 [==============================] - 0s 22ms/step\n",
            "1/1 [==============================] - 0s 20ms/step\n",
            "1/1 [==============================] - 0s 20ms/step\n",
            "1/1 [==============================] - 0s 21ms/step\n",
            "예측 요약 :  musk shares new pic with musk elon musk\n",
            "\n",
            "\n",
            "원문 : external affairs minister sushma swaraj on monday revealed that pm narendra modi told uk pm theresa may that liquor baron vijay mallya would be lodged where the uk jailed mahatma gandhi and jawaharlal nehru mallya facing an extradition trial in uk over money laundering charges by indian authorities had argued that the condition of indian jails is too poor \n",
            "실제 요약 : mallya will be jailed where british kept gandhi pm to uk \n",
            "1/1 [==============================] - 0s 20ms/step\n",
            "1/1 [==============================] - 0s 21ms/step\n",
            "1/1 [==============================] - 0s 22ms/step\n",
            "1/1 [==============================] - 0s 20ms/step\n",
            "1/1 [==============================] - 0s 21ms/step\n",
            "1/1 [==============================] - 0s 22ms/step\n",
            "1/1 [==============================] - 0s 20ms/step\n",
            "1/1 [==============================] - 0s 22ms/step\n",
            "1/1 [==============================] - 0s 24ms/step\n",
            "1/1 [==============================] - 0s 20ms/step\n",
            "예측 요약 :  swaraj asks pm modi to discuss mallya extradition\n",
            "\n",
            "\n",
            "원문 : stanford university researchers have created material that controls the amount of heat lost depending on how one wears it its carbon coated layer when worn on the outside gives cooling effect while the copper coated layer if kept outside helps keep the heat in providing thermal comfort range of it could be developed for temperature regulating clothing said researchers \n",
            "실제 요약 : material can cool on one side heat on the other \n",
            "1/1 [==============================] - 0s 18ms/step\n",
            "1/1 [==============================] - 0s 19ms/step\n",
            "1/1 [==============================] - 0s 21ms/step\n",
            "1/1 [==============================] - 0s 25ms/step\n",
            "1/1 [==============================] - 0s 25ms/step\n",
            "1/1 [==============================] - 0s 22ms/step\n",
            "1/1 [==============================] - 0s 21ms/step\n",
            "1/1 [==============================] - 0s 21ms/step\n",
            "1/1 [==============================] - 0s 19ms/step\n",
            "예측 요약 :  scientists discover new that can predict their\n",
            "\n",
            "\n",
            "원문 : facebook on monday announced that it will block advertisements from pages that repeatedly share fake news facebook claimed that this move will help reduce the distribution of false news and will keep the pages that spread it from making money however facebook added that the pages may be eligible to start running ads again if they stop sharing false news \n",
            "실제 요약 : facebook to block ads from pages that share fake news \n",
            "1/1 [==============================] - 0s 18ms/step\n",
            "1/1 [==============================] - 0s 20ms/step\n",
            "1/1 [==============================] - 0s 20ms/step\n",
            "1/1 [==============================] - 0s 20ms/step\n",
            "1/1 [==============================] - 0s 22ms/step\n",
            "1/1 [==============================] - 0s 20ms/step\n",
            "1/1 [==============================] - 0s 19ms/step\n",
            "1/1 [==============================] - 0s 21ms/step\n",
            "1/1 [==============================] - 0s 21ms/step\n",
            "1/1 [==============================] - 0s 19ms/step\n",
            "1/1 [==============================] - 0s 25ms/step\n",
            "1/1 [==============================] - 0s 21ms/step\n",
            "예측 요약 :  facebook to allow news of fake news of fake news\n",
            "\n",
            "\n",
            "원문 : an army major was shot dead by jawan after being reprimanded for using cell phone during duty hours the jawan was caught using cell phone during surprise check by major shikhar thapa who then confiscated the phone this led to an argument between the two with the jawan firing five shots from his ak at thapa \n",
            "실제 요약 : jawan shoots army major dead after argument on using phone \n",
            "1/1 [==============================] - 0s 19ms/step\n",
            "1/1 [==============================] - 0s 19ms/step\n",
            "1/1 [==============================] - 0s 21ms/step\n",
            "1/1 [==============================] - 0s 25ms/step\n",
            "1/1 [==============================] - 0s 21ms/step\n",
            "1/1 [==============================] - 0s 21ms/step\n",
            "1/1 [==============================] - 0s 22ms/step\n",
            "1/1 [==============================] - 0s 23ms/step\n",
            "1/1 [==============================] - 0s 21ms/step\n",
            "1/1 [==============================] - 0s 22ms/step\n",
            "1/1 [==============================] - 0s 21ms/step\n",
            "1/1 [==============================] - 0s 19ms/step\n",
            "예측 요약 :  pak soldier shoots self after being caught with porn in\n",
            "\n",
            "\n",
            "원문 : officials have seized unaccounted cash worth around crore and other items worth over crore from karnataka ahead of the assembly election scheduled for next month the state has deployed flying squads and surveillance teams to monitor the electoral process further officials have registered over firs in connection with violations of the model code of conduct \n",
            "실제 요약 : crore cash recovered from poll bound taka \n",
            "1/1 [==============================] - 0s 18ms/step\n",
            "1/1 [==============================] - 0s 20ms/step\n",
            "1/1 [==============================] - 0s 20ms/step\n",
            "1/1 [==============================] - 0s 20ms/step\n",
            "1/1 [==============================] - 0s 20ms/step\n",
            "1/1 [==============================] - 0s 20ms/step\n",
            "1/1 [==============================] - 0s 22ms/step\n",
            "1/1 [==============================] - 0s 19ms/step\n",
            "예측 요약 :  crore seizes crore seized in odisha\n",
            "\n",
            "\n",
            "원문 : samajwadi party leader azam khan on saturday asserted that lord ram statue which is likely to be built in ayodhya should be constructed taller than sardar vallabhbhai patel statue why would anybody oppose he added according to reports the saints in ayodhya have been pressing for construction of statue of lord ram \n",
            "실제 요약 : ram statue should be taller than statue of unity azam khan \n",
            "1/1 [==============================] - 0s 18ms/step\n",
            "1/1 [==============================] - 0s 20ms/step\n",
            "1/1 [==============================] - 0s 19ms/step\n",
            "1/1 [==============================] - 0s 22ms/step\n",
            "1/1 [==============================] - 0s 23ms/step\n",
            "1/1 [==============================] - 0s 32ms/step\n",
            "1/1 [==============================] - 0s 33ms/step\n",
            "1/1 [==============================] - 0s 32ms/step\n",
            "1/1 [==============================] - 0s 32ms/step\n",
            "1/1 [==============================] - 0s 33ms/step\n",
            "1/1 [==============================] - 0s 31ms/step\n",
            "1/1 [==============================] - 0s 30ms/step\n",
            "예측 요약 :  ambedkar built in gujarat will be built in gujarat azam khan\n",
            "\n",
            "\n",
            "원문 : bank of maharashtra shares slumped as much as to hit fresh record low on thursday following the arrest of ceo ravindra marathe in cheating case the pune police also arrested an executive director and former cmd of the bank the case relates to alleged crore fraud by pune based developer kulkarni alias dsk and his companies \n",
            "실제 요약 : bank of maharashtra shares hit record low after ceo arrest \n",
            "1/1 [==============================] - 0s 27ms/step\n",
            "1/1 [==============================] - 0s 31ms/step\n",
            "1/1 [==============================] - 0s 36ms/step\n",
            "1/1 [==============================] - 0s 30ms/step\n",
            "1/1 [==============================] - 0s 29ms/step\n",
            "1/1 [==============================] - 0s 30ms/step\n",
            "1/1 [==============================] - 0s 33ms/step\n",
            "1/1 [==============================] - 0s 30ms/step\n",
            "1/1 [==============================] - 0s 30ms/step\n",
            "1/1 [==============================] - 0s 32ms/step\n",
            "1/1 [==============================] - 0s 44ms/step\n",
            "예측 요약 :  hdfc bank loses crore in days after fraud case\n",
            "\n",
            "\n",
            "원문 : day after finance minister arun jaitley claimed that india has remained world fastest growing large economy for the past three years congress vice president rahul gandhi tweeted dear mr jaitley may the farce be with you gandhi tweet inspired from the line from star wars movie series was shared along with press information bureau tweet stating gdp growth average \n",
            "실제 요약 : may the be with you rahul on jaitley gdp remark \n",
            "1/1 [==============================] - 0s 33ms/step\n",
            "1/1 [==============================] - 0s 34ms/step\n",
            "1/1 [==============================] - 0s 32ms/step\n",
            "1/1 [==============================] - 0s 33ms/step\n",
            "1/1 [==============================] - 0s 32ms/step\n",
            "1/1 [==============================] - 0s 21ms/step\n",
            "1/1 [==============================] - 0s 20ms/step\n",
            "1/1 [==============================] - 0s 21ms/step\n",
            "1/1 [==============================] - 0s 21ms/step\n",
            "1/1 [==============================] - 0s 22ms/step\n",
            "1/1 [==============================] - 0s 25ms/step\n",
            "1/1 [==============================] - 0s 22ms/step\n",
            "예측 요약 :  fm jaitley to pm modi as he is the rahul\n",
            "\n",
            "\n",
            "원문 : calendar app called calendar in the apple mac app store has been mining cryptocurrency monero in the background the app developer added extra code to mine monero in exchange for additional features to the users however the app reportedly has bug that keeps the miner running even if users try to opt out \n",
            "실제 요약 : calendar app in mac app store cryptocurrency \n",
            "1/1 [==============================] - 0s 19ms/step\n",
            "1/1 [==============================] - 0s 19ms/step\n",
            "1/1 [==============================] - 0s 19ms/step\n",
            "1/1 [==============================] - 0s 22ms/step\n",
            "1/1 [==============================] - 0s 22ms/step\n",
            "1/1 [==============================] - 0s 22ms/step\n",
            "1/1 [==============================] - 0s 19ms/step\n",
            "1/1 [==============================] - 0s 20ms/step\n",
            "1/1 [==============================] - 0s 20ms/step\n",
            "예측 요약 :  oneplus store store store in store store\n",
            "\n",
            "\n",
            "원문 : the principal of the school where then year old girl raped by asaram bapu studied has revealed he was threatened to change her birthdate in the school documents to make her age years asaram was charged under protection of children from sexual offences act which carries stringent punishment for raping minors he was sentenced to life term in the case \n",
            "실제 요약 : was threatened to change asaram rape victim age principal \n",
            "1/1 [==============================] - 0s 20ms/step\n",
            "1/1 [==============================] - 0s 20ms/step\n",
            "1/1 [==============================] - 0s 19ms/step\n",
            "1/1 [==============================] - 0s 31ms/step\n",
            "1/1 [==============================] - 0s 23ms/step\n",
            "1/1 [==============================] - 0s 20ms/step\n",
            "1/1 [==============================] - 0s 20ms/step\n",
            "1/1 [==============================] - 0s 21ms/step\n",
            "1/1 [==============================] - 0s 24ms/step\n",
            "1/1 [==============================] - 0s 20ms/step\n",
            "1/1 [==============================] - 0s 21ms/step\n",
            "예측 요약 :  rape victim asked to me in gurugram rape case\n",
            "\n",
            "\n",
            "원문 : manipur first bjp chief minister biren singh won the floor test in the member state assembly on monday notably congress had emerged as the single largest party with seats however bjp with seats formed the government with the help of four npp four one ljp one tmc and congress mla who later joined the bjp \n",
            "실제 요약 : manipur st bjp cm singh wins floor test \n",
            "1/1 [==============================] - 0s 32ms/step\n",
            "1/1 [==============================] - 0s 21ms/step\n",
            "1/1 [==============================] - 0s 26ms/step\n",
            "1/1 [==============================] - 0s 22ms/step\n",
            "1/1 [==============================] - 0s 19ms/step\n",
            "1/1 [==============================] - 0s 21ms/step\n",
            "1/1 [==============================] - 0s 21ms/step\n",
            "1/1 [==============================] - 0s 20ms/step\n",
            "1/1 [==============================] - 0s 22ms/step\n",
            "1/1 [==============================] - 0s 20ms/step\n",
            "예측 요약 :  cm takes oath as congress leader of karnataka\n",
            "\n",
            "\n",
            "원문 : oneplus upcoming flagship of the oneplus is confirmed to have display notch company co founder carl revealed in an exclusive interview with the verge explained the benefits of including the notch for the users the notch on oneplus will be smaller than the iphone and will have the largest screen to body ratio of percent \n",
            "실제 요약 : oneplus will have display notch company explains why \n",
            "1/1 [==============================] - 0s 25ms/step\n",
            "1/1 [==============================] - 0s 20ms/step\n",
            "1/1 [==============================] - 0s 24ms/step\n",
            "1/1 [==============================] - 0s 20ms/step\n",
            "1/1 [==============================] - 0s 21ms/step\n",
            "1/1 [==============================] - 0s 20ms/step\n",
            "1/1 [==============================] - 0s 21ms/step\n",
            "1/1 [==============================] - 0s 29ms/step\n",
            "1/1 [==============================] - 0s 23ms/step\n",
            "1/1 [==============================] - 0s 21ms/step\n",
            "예측 요약 :  oneplus to launch web web series with oneplus\n",
            "\n",
            "\n",
            "원문 : motor accident claims tribunal has awarded crore to the two minor sons of crpf jawan who was killed after driven truck collided with his motorbike in the tribunal has directed the insurer of the truck to pay the compensation the constable wife and their nine year old daughter were also killed in the accident \n",
            "실제 요약 : kin get cr compensation after jawan dies in accident \n",
            "1/1 [==============================] - 0s 21ms/step\n",
            "1/1 [==============================] - 0s 21ms/step\n",
            "1/1 [==============================] - 0s 23ms/step\n",
            "1/1 [==============================] - 0s 29ms/step\n",
            "1/1 [==============================] - 0s 23ms/step\n",
            "1/1 [==============================] - 0s 22ms/step\n",
            "1/1 [==============================] - 0s 24ms/step\n",
            "1/1 [==============================] - 0s 21ms/step\n",
            "1/1 [==============================] - 0s 20ms/step\n",
            "1/1 [==============================] - 0s 23ms/step\n",
            "1/1 [==============================] - 0s 22ms/step\n",
            "예측 요약 :  parents paid compensation for dead after accident in delhi\n",
            "\n",
            "\n",
            "원문 : at least people died and were injured after gunman set casino resort in philippines capital manila on fire overnight police believe this was robbery and not terror attack although an isis militant said one of its lone wolf soldiers was responsible the police said the gunman later apparently doused himself in gasoline committing suicide \n",
            "실제 요약 : dead after gunman sets philippines casino on fire \n",
            "1/1 [==============================] - 0s 21ms/step\n",
            "1/1 [==============================] - 0s 19ms/step\n",
            "1/1 [==============================] - 0s 19ms/step\n",
            "1/1 [==============================] - 0s 23ms/step\n",
            "1/1 [==============================] - 0s 21ms/step\n",
            "1/1 [==============================] - 0s 20ms/step\n",
            "1/1 [==============================] - 0s 24ms/step\n",
            "1/1 [==============================] - 0s 28ms/step\n",
            "1/1 [==============================] - 0s 21ms/step\n",
            "예측 요약 :  killed injured in terror attack in kabul\n",
            "\n",
            "\n",
            "원문 : philippine president rodrigo duterte told group of business leaders in delhi that he would offer them if they were interested in investing in his country mocking isis he said if you die martyr you go to heaven with could just make it come on also for those who like to come to my country \n",
            "실제 요약 : philippine prez offers to indian investors \n",
            "1/1 [==============================] - 0s 21ms/step\n",
            "1/1 [==============================] - 0s 20ms/step\n",
            "1/1 [==============================] - 0s 21ms/step\n",
            "1/1 [==============================] - 0s 19ms/step\n",
            "1/1 [==============================] - 0s 28ms/step\n",
            "1/1 [==============================] - 0s 22ms/step\n",
            "1/1 [==============================] - 0s 20ms/step\n",
            "1/1 [==============================] - 0s 19ms/step\n",
            "1/1 [==============================] - 0s 20ms/step\n",
            "1/1 [==============================] - 0s 25ms/step\n",
            "1/1 [==============================] - 0s 19ms/step\n",
            "예측 요약 :  will not get if they get philippine prez duterte\n",
            "\n",
            "\n",
            "원문 : union minister rajen gohain on monday stopped retired teacher who was speaking about the poor condition of roads in assam at swachh bharat event after the teacher said he hoped the new government will improve the condition of roads gohain stopped him from speaking any further and said why do not you talk to the concerned officer utter nonsense \n",
            "실제 요약 : minister stops ex teacher from talking about bad roads \n",
            "1/1 [==============================] - 0s 18ms/step\n",
            "1/1 [==============================] - 0s 21ms/step\n",
            "1/1 [==============================] - 0s 20ms/step\n",
            "1/1 [==============================] - 0s 25ms/step\n",
            "1/1 [==============================] - 0s 21ms/step\n",
            "1/1 [==============================] - 0s 20ms/step\n",
            "1/1 [==============================] - 0s 22ms/step\n",
            "1/1 [==============================] - 0s 21ms/step\n",
            "1/1 [==============================] - 0s 22ms/step\n",
            "1/1 [==============================] - 0s 21ms/step\n",
            "1/1 [==============================] - 0s 23ms/step\n",
            "1/1 [==============================] - 0s 23ms/step\n",
            "예측 요약 :  don be given to be who saved woman to govt\n",
            "\n",
            "\n",
            "원문 : the chinese city of has installed new system that will spray water in bid to stop pedestrians from crossing red lights yellow posts have been installed at busy in the city to spray water the posts which detect through lasers are equipped with both facial recognition and speakers that issue warnings \n",
            "실제 요약 : china installs water to alert \n",
            "1/1 [==============================] - 0s 19ms/step\n",
            "1/1 [==============================] - 0s 20ms/step\n",
            "1/1 [==============================] - 0s 23ms/step\n",
            "1/1 [==============================] - 0s 19ms/step\n",
            "1/1 [==============================] - 0s 23ms/step\n",
            "1/1 [==============================] - 0s 21ms/step\n",
            "1/1 [==============================] - 0s 24ms/step\n",
            "1/1 [==============================] - 0s 21ms/step\n",
            "1/1 [==============================] - 0s 21ms/step\n",
            "예측 요약 :  china installs use of water in us\n",
            "\n",
            "\n",
            "원문 : an year old karnataka woman who begged near mysuru temple for nearly decade has donated lakh to the temple the woman was also felicitated by an mla for her generosity at function in the temple the chairman of the temple trust said she never demanded money or anything from devotees and accepted whatever they gave her \n",
            "실제 요약 : karnataka woman donates lakh to temple where she \n",
            "1/1 [==============================] - 0s 23ms/step\n",
            "1/1 [==============================] - 0s 24ms/step\n",
            "1/1 [==============================] - 0s 22ms/step\n",
            "1/1 [==============================] - 0s 20ms/step\n",
            "1/1 [==============================] - 0s 19ms/step\n",
            "1/1 [==============================] - 0s 21ms/step\n",
            "1/1 [==============================] - 0s 20ms/step\n",
            "1/1 [==============================] - 0s 19ms/step\n",
            "1/1 [==============================] - 0s 19ms/step\n",
            "1/1 [==============================] - 0s 25ms/step\n",
            "1/1 [==============================] - 0s 20ms/step\n",
            "예측 요약 :  woman who went to protest for kerala assembly officer\n",
            "\n",
            "\n",
            "원문 : former indian batsman virender sehwag smashed his first test ton on his test debut batting at number six against south africa at on november sehwag who slammed added runs for the fifth wicket with sachin tendulkar in the first innings sehwag ended his career with total of test tons including two triple hundreds \n",
            "실제 요약 : sehwag hit ton batting at number in his st test innings \n",
            "1/1 [==============================] - 0s 20ms/step\n",
            "1/1 [==============================] - 0s 20ms/step\n",
            "1/1 [==============================] - 0s 19ms/step\n",
            "1/1 [==============================] - 0s 21ms/step\n",
            "1/1 [==============================] - 0s 20ms/step\n",
            "1/1 [==============================] - 0s 19ms/step\n",
            "1/1 [==============================] - 0s 20ms/step\n",
            "1/1 [==============================] - 0s 21ms/step\n",
            "1/1 [==============================] - 0s 26ms/step\n",
            "1/1 [==============================] - 0s 23ms/step\n",
            "1/1 [==============================] - 0s 24ms/step\n",
            "예측 요약 :  sehwag takes innings to hit century after his test\n",
            "\n",
            "\n",
            "원문 : filmmaker aanand rai while speaking about working with shah rukh khan and salman khan in the upcoming film zero said shah rukh and salman together were house on fire more than directing them it was just fun watching the two of them he added rai further said they are such people that everyone must see them together \n",
            "실제 요약 : salman srk were like house on fire in zero aanand rai \n",
            "1/1 [==============================] - 0s 22ms/step\n",
            "1/1 [==============================] - 0s 21ms/step\n",
            "1/1 [==============================] - 0s 21ms/step\n",
            "1/1 [==============================] - 0s 21ms/step\n",
            "1/1 [==============================] - 0s 22ms/step\n",
            "1/1 [==============================] - 0s 19ms/step\n",
            "1/1 [==============================] - 0s 25ms/step\n",
            "1/1 [==============================] - 0s 20ms/step\n",
            "1/1 [==============================] - 0s 20ms/step\n",
            "예측 요약 :  srk is salman rukh khan in bharat\n",
            "\n",
            "\n",
            "원문 : former indian cricketer ramesh powar has been named as the interim coach of the indian women cricket team this comes after former first class cricketer tushar resigned from the post with less than four months left for the women world tournament bcci has sent out an invitation for applications for the position of the head coach \n",
            "실제 요약 : ramesh appointed interim coach of indian women team \n",
            "1/1 [==============================] - 0s 19ms/step\n",
            "1/1 [==============================] - 0s 19ms/step\n",
            "1/1 [==============================] - 0s 20ms/step\n",
            "1/1 [==============================] - 0s 20ms/step\n",
            "1/1 [==============================] - 0s 20ms/step\n",
            "1/1 [==============================] - 0s 21ms/step\n",
            "1/1 [==============================] - 0s 20ms/step\n",
            "1/1 [==============================] - 0s 20ms/step\n",
            "1/1 [==============================] - 0s 22ms/step\n",
            "예측 요약 :  ex india appointed coach of icc coach\n",
            "\n",
            "\n",
            "원문 : addressing the lok sabha during the debate on the no confidence motion against the government congress president rahul gandhi thanked pm narendra modi bjp and rss for teaching him the meaning of hinduism and lord shiva rahul added hindustani is someone who has love in his heart even after the other person abuses him lies about him or assaults him \n",
            "실제 요약 : thank bjp pm modi for teaching me about hinduism rahul \n",
            "1/1 [==============================] - 0s 20ms/step\n",
            "1/1 [==============================] - 0s 23ms/step\n",
            "1/1 [==============================] - 0s 25ms/step\n",
            "1/1 [==============================] - 0s 23ms/step\n",
            "1/1 [==============================] - 0s 20ms/step\n",
            "1/1 [==============================] - 0s 20ms/step\n",
            "1/1 [==============================] - 0s 19ms/step\n",
            "1/1 [==============================] - 0s 20ms/step\n",
            "1/1 [==============================] - 0s 20ms/step\n",
            "1/1 [==============================] - 0s 23ms/step\n",
            "예측 요약 :  rahul gandhi is not speak to bjp leader\n",
            "\n",
            "\n",
            "원문 : filmmaker ram gopal varma on twitter took dig at filmmaker anurag kashyap and his company phantom films queen is created by various number of people but company is created by just one single king read one of varma tweets this comes after vikas bahl co founder of the company was accused of sexual harassment recently \n",
            "실제 요약 : rgv takes dig at anurag kashyap films on twitter \n",
            "1/1 [==============================] - 0s 19ms/step\n",
            "1/1 [==============================] - 0s 20ms/step\n",
            "1/1 [==============================] - 0s 36ms/step\n",
            "1/1 [==============================] - 0s 31ms/step\n",
            "1/1 [==============================] - 0s 31ms/step\n",
            "1/1 [==============================] - 0s 41ms/step\n",
            "1/1 [==============================] - 0s 41ms/step\n",
            "1/1 [==============================] - 0s 31ms/step\n",
            "1/1 [==============================] - 0s 31ms/step\n",
            "예측 요약 :  rgv slams anurag anurag over his anurag\n",
            "\n",
            "\n",
            "원문 : finance minister arun jaitley on friday said that india cannot afford to have fragile for stable policy decisions and to continue on the path of reform need of the hour is continuation of sound policies as against transient he added he further said that india will retain the tag of the world fastest growing major economy \n",
            "실제 요약 : reforms not possible by arun jaitley \n",
            "1/1 [==============================] - 0s 29ms/step\n",
            "1/1 [==============================] - 0s 33ms/step\n",
            "1/1 [==============================] - 0s 32ms/step\n",
            "1/1 [==============================] - 0s 31ms/step\n",
            "1/1 [==============================] - 0s 33ms/step\n",
            "1/1 [==============================] - 0s 34ms/step\n",
            "1/1 [==============================] - 0s 30ms/step\n",
            "1/1 [==============================] - 0s 36ms/step\n",
            "1/1 [==============================] - 0s 38ms/step\n",
            "1/1 [==============================] - 0s 30ms/step\n",
            "예측 요약 :  no need to bring out of jaitley jaitley\n",
            "\n",
            "\n",
            "원문 : twinkle khanna took to social media to share picture with her mother dimple kapadia on the occasion of her st birthday today twinkle wrote birthday lunch with the most beautiful woman in the world she needs no filters and luckily does not have one either dimple who made her debut with bobby is known for films like and rudaali \n",
            "실제 요약 : most beautiful woman needs no filters twinkle on mom day \n",
            "1/1 [==============================] - 0s 29ms/step\n",
            "1/1 [==============================] - 0s 37ms/step\n",
            "1/1 [==============================] - 0s 32ms/step\n",
            "1/1 [==============================] - 0s 31ms/step\n",
            "1/1 [==============================] - 0s 35ms/step\n",
            "1/1 [==============================] - 0s 35ms/step\n",
            "1/1 [==============================] - 0s 23ms/step\n",
            "1/1 [==============================] - 0s 22ms/step\n",
            "1/1 [==============================] - 0s 21ms/step\n",
            "1/1 [==============================] - 0s 21ms/step\n",
            "1/1 [==============================] - 0s 22ms/step\n",
            "예측 요약 :  twinkle shares pic with husband mother on day day\n",
            "\n",
            "\n",
            "원문 : the cbi has filed disproportionate assets case against retired pnb deputy manager gokulnath shetty and his wife the agency said they amassed disproportionate assets worth crore between april and may which were more than their known sources of income shetty allegedly issued the fraudulent letters of undertaking to nirav modi and mehul choksi firms \n",
            "실제 요약 : ex banker who helped nirav held cr assets cbi \n",
            "1/1 [==============================] - 0s 26ms/step\n",
            "1/1 [==============================] - 0s 21ms/step\n",
            "1/1 [==============================] - 0s 22ms/step\n",
            "1/1 [==============================] - 0s 20ms/step\n",
            "1/1 [==============================] - 0s 20ms/step\n",
            "1/1 [==============================] - 0s 20ms/step\n",
            "1/1 [==============================] - 0s 20ms/step\n",
            "1/1 [==============================] - 0s 21ms/step\n",
            "1/1 [==============================] - 0s 22ms/step\n",
            "1/1 [==============================] - 0s 23ms/step\n",
            "예측 요약 :  cbi arrests crore for crore in bribery case\n",
            "\n",
            "\n",
            "원문 : rising pune supergiant player ms dhoni has set the record for most ipl finals reached by player with the final against mumbai indians being his seventh in ten seasons this is also his first as non captain after having led chennai super kings in six finals dhoni has won the title twice with csk in and \n",
            "실제 요약 : ms dhoni sets record for most ipl finals by single player \n",
            "1/1 [==============================] - 0s 22ms/step\n",
            "1/1 [==============================] - 0s 20ms/step\n",
            "1/1 [==============================] - 0s 21ms/step\n",
            "1/1 [==============================] - 0s 23ms/step\n",
            "1/1 [==============================] - 0s 25ms/step\n",
            "1/1 [==============================] - 0s 21ms/step\n",
            "1/1 [==============================] - 0s 21ms/step\n",
            "1/1 [==============================] - 0s 20ms/step\n",
            "1/1 [==============================] - 0s 19ms/step\n",
            "1/1 [==============================] - 0s 24ms/step\n",
            "1/1 [==============================] - 0s 21ms/step\n",
            "예측 요약 :  ms dhoni sets record for most time in ipl\n",
            "\n",
            "\n",
            "원문 : the supreme court on thursday said it will transfer the trial of the kathua gangrape and murder case if it finds even the slightest possibility of lack of fair trial adding that the trial should be fair for both the accused and the victim the top court stated security should be ensured to the victim family and lawyer \n",
            "실제 요약 : will transfer kathua rape case in case of unfair trial sc \n",
            "1/1 [==============================] - 0s 20ms/step\n",
            "1/1 [==============================] - 0s 19ms/step\n",
            "1/1 [==============================] - 0s 19ms/step\n",
            "1/1 [==============================] - 0s 22ms/step\n",
            "1/1 [==============================] - 0s 20ms/step\n",
            "1/1 [==============================] - 0s 21ms/step\n",
            "1/1 [==============================] - 0s 21ms/step\n",
            "1/1 [==============================] - 0s 21ms/step\n",
            "예측 요약 :  sc refuses to kathua rape case\n",
            "\n",
            "\n",
            "원문 : video streaming company netflix said it is testing way to bypass apple in app subscriptions for which it has to pay cut by sending users to its own website earlier epic games the maker of video game fortnite opted out of google play store over store fee making users visit the website for downloading the free app \n",
            "실제 요약 : netflix planning to avoid paying app store tax to apple \n",
            "1/1 [==============================] - 0s 31ms/step\n",
            "1/1 [==============================] - 0s 22ms/step\n",
            "1/1 [==============================] - 0s 20ms/step\n",
            "1/1 [==============================] - 0s 22ms/step\n",
            "1/1 [==============================] - 0s 22ms/step\n",
            "1/1 [==============================] - 0s 21ms/step\n",
            "1/1 [==============================] - 0s 21ms/step\n",
            "1/1 [==============================] - 0s 20ms/step\n",
            "1/1 [==============================] - 0s 21ms/step\n",
            "1/1 [==============================] - 0s 19ms/step\n",
            "1/1 [==============================] - 0s 22ms/step\n",
            "예측 요약 :  youtube to let users pay to pay for gmail\n",
            "\n",
            "\n",
            "원문 : online classifieds platform olx acquired mumbai based recruitment portal for an undisclosed amount olx will strengthen its online job search vertical in blue and grey collar space through this acquisition founded in by iit bombay alumni is an end to end recruitment platform which connects employers consultants and job seekers \n",
            "실제 요약 : acquires mumbai based recruitment portal \n",
            "1/1 [==============================] - 0s 21ms/step\n",
            "1/1 [==============================] - 0s 22ms/step\n",
            "1/1 [==============================] - 0s 22ms/step\n",
            "1/1 [==============================] - 0s 19ms/step\n",
            "1/1 [==============================] - 0s 28ms/step\n",
            "1/1 [==============================] - 0s 22ms/step\n",
            "1/1 [==============================] - 0s 22ms/step\n",
            "예측 요약 :  india launches its first platform\n",
            "\n",
            "\n",
            "원문 : an undertrial was killed and two others were injured after five armed criminals shot at them inside bihar court on friday two police officials and constables responsible for security at the court have been suspended investigation is on to find how such an incident took place when adequate security was present in the court premises police officials said \n",
            "실제 요약 : inmates shot at inside bihar court officials suspended \n",
            "1/1 [==============================] - 0s 24ms/step\n",
            "1/1 [==============================] - 0s 25ms/step\n",
            "1/1 [==============================] - 0s 22ms/step\n",
            "1/1 [==============================] - 0s 21ms/step\n",
            "1/1 [==============================] - 0s 22ms/step\n",
            "1/1 [==============================] - 0s 21ms/step\n",
            "1/1 [==============================] - 0s 21ms/step\n",
            "1/1 [==============================] - 0s 22ms/step\n",
            "1/1 [==============================] - 0s 21ms/step\n",
            "1/1 [==============================] - 0s 25ms/step\n",
            "예측 요약 :  two killed in bihar blast case in haryana\n",
            "\n",
            "\n",
            "원문 : technology major samsung accidentally leaked its upcoming galaxy watch on its own retail website in the us the link which has now been pulled from the website showed mm rose gold model with bluetooth version but did not mention any price samsung is expected to launch the galaxy watch alongside the galaxy note in august this year \n",
            "실제 요약 : samsung accidentally leaks new galaxy watch on its own site \n",
            "1/1 [==============================] - 0s 26ms/step\n",
            "1/1 [==============================] - 0s 21ms/step\n",
            "1/1 [==============================] - 0s 21ms/step\n",
            "1/1 [==============================] - 0s 20ms/step\n",
            "1/1 [==============================] - 0s 21ms/step\n",
            "1/1 [==============================] - 0s 22ms/step\n",
            "1/1 [==============================] - 0s 21ms/step\n",
            "1/1 [==============================] - 0s 21ms/step\n",
            "예측 요약 :  samsung galaxy smartphone with users in\n",
            "\n",
            "\n",
            "원문 : india year old batsman prithvi shaw said that he was thinking about his father while celebrating his first test ton in his debut match as his father sacrificed lot for him first hundred is all for him whenever score it is all for him shaw said at the end of the first day of the first test against the windies \n",
            "실제 요약 : was thinking of my dad on reaching maiden ton prithvi shaw \n",
            "1/1 [==============================] - 0s 21ms/step\n",
            "1/1 [==============================] - 0s 20ms/step\n",
            "1/1 [==============================] - 0s 19ms/step\n",
            "1/1 [==============================] - 0s 22ms/step\n",
            "1/1 [==============================] - 0s 21ms/step\n",
            "1/1 [==============================] - 0s 22ms/step\n",
            "1/1 [==============================] - 0s 22ms/step\n",
            "1/1 [==============================] - 0s 20ms/step\n",
            "1/1 [==============================] - 0s 19ms/step\n",
            "1/1 [==============================] - 0s 19ms/step\n",
            "1/1 [==============================] - 0s 19ms/step\n",
            "1/1 [==============================] - 0s 20ms/step\n",
            "예측 요약 :  my father is like my century on his th debut\n",
            "\n",
            "\n",
            "원문 : after us president donald trump appeared to forget the national anthem during college football championship match twitter user wrote our national embarrassment does not know our national anthem while other users tweeted stable genius donald trump forgot the lyrics to the national anthem and he always been fake patriot \n",
            "실제 요약 : twitter slams trump after he national anthem \n",
            "1/1 [==============================] - 0s 19ms/step\n",
            "1/1 [==============================] - 0s 20ms/step\n",
            "1/1 [==============================] - 0s 19ms/step\n",
            "1/1 [==============================] - 0s 19ms/step\n",
            "1/1 [==============================] - 0s 20ms/step\n",
            "1/1 [==============================] - 0s 22ms/step\n",
            "1/1 [==============================] - 0s 20ms/step\n",
            "1/1 [==============================] - 0s 21ms/step\n",
            "1/1 [==============================] - 0s 20ms/step\n",
            "1/1 [==============================] - 0s 21ms/step\n",
            "예측 요약 :  trump mocks troll who troll user for remark\n",
            "\n",
            "\n",
            "원문 : the income tax return filing reportedly rose to crore in the current fiscal till december the number of itrs is expected to hit the crore mark by march reports added refunds were issued to crore taxpayers as of december rise from the year ago period reports further observed \n",
            "실제 요약 : filing hits record cr till december reports \n",
            "1/1 [==============================] - 0s 19ms/step\n",
            "1/1 [==============================] - 0s 20ms/step\n",
            "1/1 [==============================] - 0s 26ms/step\n",
            "1/1 [==============================] - 0s 20ms/step\n",
            "1/1 [==============================] - 0s 22ms/step\n",
            "1/1 [==============================] - 0s 22ms/step\n",
            "1/1 [==============================] - 0s 21ms/step\n",
            "1/1 [==============================] - 0s 19ms/step\n",
            "1/1 [==============================] - 0s 19ms/step\n",
            "1/1 [==============================] - 0s 21ms/step\n",
            "예측 요약 :  direct tax collection of lakh crore by apr\n",
            "\n",
            "\n",
            "원문 : ahead of the inauguration of the lucknow metro by uttar pradesh cm yogi adityanath samajwadi party chief akhilesh yadav posted series of tweets claiming credit for the service he tweeted photos with metro staff using the caption engine toh pehle hi chal dia tha to hi \n",
            "실제 요약 : engine toh hi chal dia tha akhilesh on lucknow metro \n",
            "1/1 [==============================] - 0s 18ms/step\n",
            "1/1 [==============================] - 0s 20ms/step\n",
            "1/1 [==============================] - 0s 21ms/step\n",
            "1/1 [==============================] - 0s 19ms/step\n",
            "1/1 [==============================] - 0s 22ms/step\n",
            "1/1 [==============================] - 0s 21ms/step\n",
            "1/1 [==============================] - 0s 19ms/step\n",
            "1/1 [==============================] - 0s 26ms/step\n",
            "예측 요약 :  twitter yogi adityanath tweets on twitter\n",
            "\n",
            "\n",
            "원문 : the toronto district school board has unanimously adopted motion recognising november as hindu heritage month in the city the board which is the third largest in north america covers schools the move was proposed by board trustee whose father is of sri lankan origin and mother is from india \n",
            "실제 요약 : schools in canadian city to observe hindu heritage month \n",
            "1/1 [==============================] - 0s 21ms/step\n",
            "1/1 [==============================] - 0s 21ms/step\n",
            "1/1 [==============================] - 0s 21ms/step\n",
            "1/1 [==============================] - 0s 24ms/step\n",
            "1/1 [==============================] - 0s 29ms/step\n",
            "1/1 [==============================] - 0s 21ms/step\n",
            "1/1 [==============================] - 0s 19ms/step\n",
            "1/1 [==============================] - 0s 20ms/step\n",
            "예측 요약 :  school school school women launched in\n",
            "\n",
            "\n",
            "원문 : responding to supreme court order directing it to release cauvery water to tamil nadu karnataka on monday filed an affidavit saying it had released more than the required share of water tamil nadu then filed an affidavit claiming that of the water available in its dams only was and sought more \n",
            "실제 요약 : released more water than required to tn karnataka to sc \n",
            "1/1 [==============================] - 0s 19ms/step\n",
            "1/1 [==============================] - 0s 25ms/step\n",
            "1/1 [==============================] - 0s 22ms/step\n",
            "1/1 [==============================] - 0s 21ms/step\n",
            "1/1 [==============================] - 0s 20ms/step\n",
            "1/1 [==============================] - 0s 20ms/step\n",
            "1/1 [==============================] - 0s 26ms/step\n",
            "1/1 [==============================] - 0s 21ms/step\n",
            "1/1 [==============================] - 0s 20ms/step\n",
            "1/1 [==============================] - 0s 21ms/step\n",
            "1/1 [==============================] - 0s 19ms/step\n",
            "예측 요약 :  sc slams tn govt over cauvery water on cauvery\n",
            "\n",
            "\n",
            "원문 : filmmaker and cbfc member ashoke pandit has revealed that when pahlaj nihalani was the chairman he used to abuse filmmakers and treat them like everybody was very uncomfortable with his behaviour and his one man show filmmakers were asked to get out of his office he added ashoke further said prasoon joshi is great choice as the new chairman \n",
            "실제 요약 : pahlaj treated filmmakers like cbfc member \n",
            "1/1 [==============================] - 0s 22ms/step\n",
            "1/1 [==============================] - 0s 19ms/step\n",
            "1/1 [==============================] - 0s 20ms/step\n",
            "1/1 [==============================] - 0s 19ms/step\n",
            "1/1 [==============================] - 0s 20ms/step\n",
            "1/1 [==============================] - 0s 23ms/step\n",
            "1/1 [==============================] - 0s 20ms/step\n",
            "예측 요약 :  cbfc chief calls for metoo\n",
            "\n",
            "\n",
            "원문 : the us navy on tuesday said that it has conducted strikes against islamic state targets from an aircraft carrier in the eastern mediterranean sea the carrier had previously conducted the strikes in support of operation inherent resolve in early march notably operation inherent resolve is the us led military operation against isis in iraq and syria that began in august \n",
            "실제 요약 : us warship strikes islamic state from eastern mediterranean \n",
            "1/1 [==============================] - 0s 21ms/step\n",
            "1/1 [==============================] - 0s 22ms/step\n",
            "1/1 [==============================] - 0s 20ms/step\n",
            "1/1 [==============================] - 0s 23ms/step\n",
            "1/1 [==============================] - 0s 23ms/step\n",
            "1/1 [==============================] - 0s 22ms/step\n",
            "1/1 [==============================] - 0s 19ms/step\n",
            "1/1 [==============================] - 0s 22ms/step\n",
            "1/1 [==============================] - 0s 20ms/step\n",
            "1/1 [==============================] - 0s 19ms/step\n",
            "예측 요약 :  us state attack on chemical attack in syria\n",
            "\n",
            "\n",
            "원문 : former team india captain sunil gavaskar has criticised india preparations for england test series saying kohli and the team management have to understand that others need practice kohli can take days off and then score hundred the next day he added he further said india did not learn from the south africa experience and should have played more practice matches \n",
            "실제 요약 : kohli has to understand that others need practice gavaskar \n",
            "1/1 [==============================] - 0s 20ms/step\n",
            "1/1 [==============================] - 0s 34ms/step\n",
            "1/1 [==============================] - 0s 31ms/step\n",
            "1/1 [==============================] - 0s 39ms/step\n",
            "1/1 [==============================] - 0s 31ms/step\n",
            "1/1 [==============================] - 0s 30ms/step\n",
            "1/1 [==============================] - 0s 41ms/step\n",
            "1/1 [==============================] - 0s 30ms/step\n",
            "1/1 [==============================] - 0s 28ms/step\n",
            "1/1 [==============================] - 0s 30ms/step\n",
            "1/1 [==============================] - 0s 29ms/step\n",
            "예측 요약 :  india should be able to play india gavaskar gavaskar\n",
            "\n",
            "\n",
            "원문 : bengaluru based healthcare startup has raised million in funding round led by mumbai based ventures funding will be used for product development efforts and hiring people in its technology team the startup said founded in is technology enabled preventive healthcare platform that uses machine learning to help users make choices about their health \n",
            "실제 요약 : healthcare startup raises million \n",
            "1/1 [==============================] - 0s 27ms/step\n",
            "1/1 [==============================] - 0s 30ms/step\n",
            "1/1 [==============================] - 0s 33ms/step\n",
            "1/1 [==============================] - 0s 38ms/step\n",
            "1/1 [==============================] - 0s 30ms/step\n",
            "1/1 [==============================] - 0s 36ms/step\n",
            "예측 요약 :  healthcare startup raises million\n",
            "\n",
            "\n",
            "원문 : the cbi has booked airasia group ceo tony fernandes and several others for alleged violation of norms in getting international flying licences the agency is carrying out searches in six locations in bengaluru mumbai and delhi fernandes is accused of lobbying government officials for clearances removal of an aviation rule and change in regulatory policies the cbi alleged \n",
            "실제 요약 : cbi books airasia group ceo for violating aviation norms \n",
            "1/1 [==============================] - 0s 29ms/step\n",
            "1/1 [==============================] - 0s 29ms/step\n",
            "1/1 [==============================] - 0s 30ms/step\n",
            "1/1 [==============================] - 0s 29ms/step\n",
            "1/1 [==============================] - 0s 32ms/step\n",
            "1/1 [==============================] - 0s 32ms/step\n",
            "1/1 [==============================] - 0s 33ms/step\n",
            "1/1 [==============================] - 0s 32ms/step\n",
            "1/1 [==============================] - 0s 20ms/step\n",
            "1/1 [==============================] - 0s 21ms/step\n",
            "예측 요약 :  cbi arrests cbi for removal of uk workers\n",
            "\n",
            "\n",
            "원문 : mumbai indians retweeted hardik pandya picture with his brother krunal and kieron pollard writing find better trio we ll wait srh replied by sharing picture of rashid khan shakib al hasan and mohammad nabi saying the wait over mi then mocked srh with picture of their three ipl trophies before csk posted picture showing ms dhoni thrice \n",
            "실제 요약 : ipl teams troll each other after hardik pic with pollard krunal \n",
            "1/1 [==============================] - 0s 25ms/step\n",
            "1/1 [==============================] - 0s 34ms/step\n",
            "1/1 [==============================] - 0s 22ms/step\n",
            "1/1 [==============================] - 0s 21ms/step\n",
            "1/1 [==============================] - 0s 20ms/step\n",
            "1/1 [==============================] - 0s 22ms/step\n",
            "1/1 [==============================] - 0s 22ms/step\n",
            "1/1 [==============================] - 0s 22ms/step\n",
            "1/1 [==============================] - 0s 25ms/step\n",
            "1/1 [==============================] - 0s 27ms/step\n",
            "1/1 [==============================] - 0s 25ms/step\n",
            "1/1 [==============================] - 0s 20ms/step\n",
            "예측 요약 :  hardik pandya takes his own catch on his th day\n",
            "\n",
            "\n",
            "원문 : former isro chairman satish dhawan took responsibility when an mission satellite headed by late president dr apj abdul kalam fell into the bay of bengal in however when the mission succeeded the next year dhawan sent kalam to conduct the press conference and claim the credit notably padma vibhushan awardee dhawan passed away on january \n",
            "실제 요약 : ex isro head once took blame for kalam led mission failure \n",
            "1/1 [==============================] - 0s 21ms/step\n",
            "1/1 [==============================] - 0s 20ms/step\n",
            "1/1 [==============================] - 0s 21ms/step\n",
            "1/1 [==============================] - 0s 21ms/step\n",
            "1/1 [==============================] - 0s 21ms/step\n",
            "1/1 [==============================] - 0s 20ms/step\n",
            "1/1 [==============================] - 0s 26ms/step\n",
            "1/1 [==============================] - 0s 19ms/step\n",
            "1/1 [==============================] - 0s 21ms/step\n",
            "1/1 [==============================] - 0s 22ms/step\n",
            "1/1 [==============================] - 0s 24ms/step\n",
            "예측 요약 :  astronaut to be part of the year dies in\n",
            "\n",
            "\n",
            "원문 : in the first merger of commodity exchanges in the country national multi commodity exchange and indian commodity exchange have announced their merger the deal which will create the country third largest commodities exchange has been approved by the boards of both exchanges and is expected to be completed by december \n",
            "실제 요약 : to merge in first exchange merger \n",
            "1/1 [==============================] - 0s 21ms/step\n",
            "1/1 [==============================] - 0s 20ms/step\n",
            "1/1 [==============================] - 0s 20ms/step\n",
            "1/1 [==============================] - 0s 27ms/step\n",
            "1/1 [==============================] - 0s 27ms/step\n",
            "1/1 [==============================] - 0s 20ms/step\n",
            "1/1 [==============================] - 0s 20ms/step\n",
            "1/1 [==============================] - 0s 27ms/step\n",
            "1/1 [==============================] - 0s 19ms/step\n",
            "1/1 [==============================] - 0s 20ms/step\n",
            "예측 요약 :  wipro to acquire us as india to enter\n",
            "\n",
            "\n",
            "원문 : venezuelan president nicol maduro has the bolivar by and raised the minimum wage ahead of the rollout of the sovereign bolivar on august the new currency will be pegged to the country petro cryptocurrency now valued around or sovereign bolivars the minimum wage will be set at sovereign bolivars maduro announced \n",
            "실제 요약 : venezuela currency by hikes minimum wage \n",
            "1/1 [==============================] - 0s 24ms/step\n",
            "1/1 [==============================] - 0s 27ms/step\n",
            "1/1 [==============================] - 0s 25ms/step\n",
            "1/1 [==============================] - 0s 21ms/step\n",
            "1/1 [==============================] - 0s 20ms/step\n",
            "1/1 [==============================] - 0s 23ms/step\n",
            "1/1 [==============================] - 0s 21ms/step\n",
            "1/1 [==============================] - 0s 21ms/step\n",
            "예측 요약 :  venezuela prez orders new currency currency\n",
            "\n",
            "\n",
            "원문 : all rounder hardik pandya became the first ever indian to take four wickets and score plus runs in achieving the feat against england on sunday the year old registered figures of to help india restrict england from after overs to in overs he then scored to help india successfully chase down the run target \n",
            "실제 요약 : hardik st indian to take wickets slam runs in \n",
            "1/1 [==============================] - 0s 20ms/step\n",
            "1/1 [==============================] - 0s 20ms/step\n",
            "1/1 [==============================] - 0s 23ms/step\n",
            "1/1 [==============================] - 0s 19ms/step\n",
            "1/1 [==============================] - 0s 22ms/step\n",
            "1/1 [==============================] - 0s 20ms/step\n",
            "1/1 [==============================] - 0s 21ms/step\n",
            "1/1 [==============================] - 0s 19ms/step\n",
            "1/1 [==============================] - 0s 21ms/step\n",
            "1/1 [==============================] - 0s 23ms/step\n",
            "예측 요약 :  pandya pandya hit by runs in first innings\n",
            "\n",
            "\n",
            "원문 : us based researchers have developed device that can switch cell function with single touch of chip on the affected part it genetic code into cells to them and help treat diseases the technology is efficient and was used to grow brain cells on mice skin which were then injected into its injured brain researchers said \n",
            "실제 요약 : tech cell function organs with single touch \n",
            "1/1 [==============================] - 0s 24ms/step\n",
            "1/1 [==============================] - 0s 22ms/step\n",
            "1/1 [==============================] - 0s 19ms/step\n",
            "1/1 [==============================] - 0s 31ms/step\n",
            "1/1 [==============================] - 0s 22ms/step\n",
            "1/1 [==============================] - 0s 19ms/step\n",
            "1/1 [==============================] - 0s 23ms/step\n",
            "1/1 [==============================] - 0s 20ms/step\n",
            "1/1 [==============================] - 0s 27ms/step\n",
            "1/1 [==============================] - 0s 19ms/step\n",
            "1/1 [==============================] - 0s 21ms/step\n",
            "예측 요약 :  new device can be used to control cancer made\n",
            "\n",
            "\n"
          ]
        }
      ]
    },
    {
      "cell_type": "code",
      "source": [],
      "metadata": {
        "id": "lJFq42DcnzYR"
      },
      "execution_count": 46,
      "outputs": []
    },
    {
      "cell_type": "code",
      "source": [],
      "metadata": {
        "id": "vFYI9c2GnzeY"
      },
      "execution_count": 46,
      "outputs": []
    },
    {
      "cell_type": "code",
      "source": [],
      "metadata": {
        "id": "0m48-Y7MaYSo"
      },
      "execution_count": 46,
      "outputs": []
    }
  ]
}