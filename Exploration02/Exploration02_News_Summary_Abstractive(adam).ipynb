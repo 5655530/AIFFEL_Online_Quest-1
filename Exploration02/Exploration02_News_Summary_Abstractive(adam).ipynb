{
  "cells": [
    {
      "cell_type": "markdown",
      "metadata": {
        "id": "view-in-github",
        "colab_type": "text"
      },
      "source": [
        "<a href=\"https://colab.research.google.com/github/comandi1969/AIFFEL_Online_Quest/blob/main/Exploration02/Exploration02_News_Summary_Abstractive(adam).ipynb\" target=\"_parent\"><img src=\"https://colab.research.google.com/assets/colab-badge.svg\" alt=\"Open In Colab\"/></a>"
      ]
    },
    {
      "cell_type": "code",
      "execution_count": null,
      "metadata": {
        "colab": {
          "base_uri": "https://localhost:8080/"
        },
        "id": "hjPI68OTSKcM",
        "outputId": "3d655629-575c-47a0-e602-2f6e334331d4"
      },
      "outputs": [
        {
          "name": "stderr",
          "output_type": "stream",
          "text": [
            "[nltk_data] Downloading package stopwords to /aiffel/nltk_data...\n",
            "[nltk_data]   Package stopwords is already up-to-date!\n"
          ]
        }
      ],
      "source": [
        "import nltk\n",
        "nltk.download('stopwords')\n",
        "\n",
        "import numpy as np\n",
        "import pandas as pd\n",
        "import os\n",
        "import re\n",
        "import matplotlib.pyplot as plt\n",
        "from nltk.corpus import stopwords\n",
        "from bs4 import BeautifulSoup\n",
        "from tensorflow.keras.preprocessing.text import Tokenizer\n",
        "from tensorflow.keras.preprocessing.sequence import pad_sequences\n",
        "import urllib.request\n",
        "import warnings\n",
        "warnings.filterwarnings(\"ignore\", category=UserWarning, module='bs4')"
      ]
    },
    {
      "cell_type": "code",
      "execution_count": null,
      "metadata": {
        "colab": {
          "base_uri": "https://localhost:8080/",
          "height": 143
        },
        "id": "k8zChm96m7r8",
        "outputId": "a54279ae-31f9-4011-a779-2025f35b8381"
      },
      "outputs": [
        {
          "data": {
            "text/html": [
              "<div>\n",
              "<style scoped>\n",
              "    .dataframe tbody tr th:only-of-type {\n",
              "        vertical-align: middle;\n",
              "    }\n",
              "\n",
              "    .dataframe tbody tr th {\n",
              "        vertical-align: top;\n",
              "    }\n",
              "\n",
              "    .dataframe thead th {\n",
              "        text-align: right;\n",
              "    }\n",
              "</style>\n",
              "<table border=\"1\" class=\"dataframe\">\n",
              "  <thead>\n",
              "    <tr style=\"text-align: right;\">\n",
              "      <th></th>\n",
              "      <th>headlines</th>\n",
              "      <th>text</th>\n",
              "    </tr>\n",
              "  </thead>\n",
              "  <tbody>\n",
              "    <tr>\n",
              "      <th>50319</th>\n",
              "      <td>YouTube ads hijacked to mine cryptocurrency Mo...</td>\n",
              "      <td>YouTube's ads were hijacked using Google's ad ...</td>\n",
              "    </tr>\n",
              "    <tr>\n",
              "      <th>45961</th>\n",
              "      <td>Yuvraj Singh-backed startup backs B'luru AI st...</td>\n",
              "      <td>Cricketer Yuvraj Singh-backed advisory firm St...</td>\n",
              "    </tr>\n",
              "    <tr>\n",
              "      <th>49272</th>\n",
              "      <td>App lets users locate free condom distribution...</td>\n",
              "      <td>Campaigners and activists in the Philippines h...</td>\n",
              "    </tr>\n",
              "  </tbody>\n",
              "</table>\n",
              "</div>"
            ],
            "text/plain": [
              "                                               headlines  \\\n",
              "50319  YouTube ads hijacked to mine cryptocurrency Mo...   \n",
              "45961  Yuvraj Singh-backed startup backs B'luru AI st...   \n",
              "49272  App lets users locate free condom distribution...   \n",
              "\n",
              "                                                    text  \n",
              "50319  YouTube's ads were hijacked using Google's ad ...  \n",
              "45961  Cricketer Yuvraj Singh-backed advisory firm St...  \n",
              "49272  Campaigners and activists in the Philippines h...  "
            ]
          },
          "execution_count": 2,
          "metadata": {},
          "output_type": "execute_result"
        }
      ],
      "source": [
        "import urllib.request\n",
        "urllib.request.urlretrieve(\"https://raw.githubusercontent.com/sunnysai12345/News_Summary/master/news_summary_more.csv\", filename=\"news_summary_more.csv\")\n",
        "data = pd.read_csv('news_summary_more.csv', encoding='iso-8859-1')\n",
        "data.sample(3)"
      ]
    },
    {
      "cell_type": "code",
      "execution_count": null,
      "metadata": {
        "colab": {
          "base_uri": "https://localhost:8080/"
        },
        "id": "vwjBcbhyUMxO",
        "outputId": "3830a8e1-5030-413d-dcbe-380063e253f4"
      },
      "outputs": [
        {
          "name": "stdout",
          "output_type": "stream",
          "text": [
            "전체 샘플수 : 98401\n"
          ]
        }
      ],
      "source": [
        "print('전체 샘플수 :', (len(data)))"
      ]
    },
    {
      "cell_type": "code",
      "execution_count": null,
      "metadata": {
        "colab": {
          "base_uri": "https://localhost:8080/"
        },
        "id": "jEhpcB3aUM9p",
        "outputId": "28e52c07-f346-483b-98a9-567823570c5c"
      },
      "outputs": [
        {
          "name": "stdout",
          "output_type": "stream",
          "text": [
            "headlines 열에서 중복을 배제한 유일한 샘플의 수 : 98280\n",
            "text 열에서 중복을 배제한 유일한 샘플의 수 : 98360\n"
          ]
        }
      ],
      "source": [
        "print('headlines 열에서 중복을 배제한 유일한 샘플의 수 :', data['headlines'].nunique())\n",
        "print('text 열에서 중복을 배제한 유일한 샘플의 수 :', data['text'].nunique())"
      ]
    },
    {
      "cell_type": "code",
      "execution_count": null,
      "metadata": {
        "colab": {
          "base_uri": "https://localhost:8080/"
        },
        "id": "QrEJqbyKUNFH",
        "outputId": "e5222815-85d5-4673-ce23-bea290f5fc8f"
      },
      "outputs": [
        {
          "name": "stdout",
          "output_type": "stream",
          "text": [
            "전체 샘플수 : 98360\n"
          ]
        }
      ],
      "source": [
        "data.drop_duplicates(subset = ['text'], inplace=True)\n",
        "print('전체 샘플수 :', (len(data)))"
      ]
    },
    {
      "cell_type": "code",
      "execution_count": null,
      "metadata": {
        "colab": {
          "base_uri": "https://localhost:8080/"
        },
        "id": "Woqt0exhV3uR",
        "outputId": "142394fa-d819-4d89-959f-92940f97d8cf"
      },
      "outputs": [
        {
          "name": "stdout",
          "output_type": "stream",
          "text": [
            "headlines    0\n",
            "text         0\n",
            "dtype: int64\n"
          ]
        }
      ],
      "source": [
        "print(data.isnull().sum())"
      ]
    },
    {
      "cell_type": "code",
      "execution_count": null,
      "metadata": {
        "colab": {
          "base_uri": "https://localhost:8080/"
        },
        "id": "W2auSlPwXdoI",
        "outputId": "2e1c3241-d996-4d77-ca6e-abc3ef5b2f47"
      },
      "outputs": [
        {
          "name": "stdout",
          "output_type": "stream",
          "text": [
            "Article: Saurav Kant, an alumnus of upGrad and IIIT-B's PG Program in Machine learning and Artificial Intelligence, was a Sr Systems Engineer at Infosys with almost 5 years of work experience. The program and upGrad's 360-degree career support helped him transition to a Data Scientist at Tech Mahindra with 90% salary hike. upGrad's Online Power Learning has powered 3 lakh+ careers.\n",
            "Headlines: upGrad learner switches to career in ML & Al with 90% salary hike\n",
            "--------------------------------------------------\n",
            "Article: Kunal Shah's credit card bill payment platform, CRED, gave users a chance to win free food from Swiggy for one year. Pranav Kaushik, a Delhi techie, bagged this reward after spending 2000 CRED coins. Users get one CRED coin per rupee of bill paid, which can be used to avail rewards from brands like Ixigo, BookMyShow, UberEats, Cult.Fit and more.\n",
            "Headlines: Delhi techie wins free food from Swiggy for one year on CRED\n",
            "--------------------------------------------------\n",
            "Article: New Zealand defeated India by 8 wickets in the fourth ODI at Hamilton on Thursday to win their first match of the five-match ODI series. India lost an international match under Rohit Sharma's captaincy after 12 consecutive victories dating back to March 2018. The match witnessed India getting all out for 92, their seventh lowest total in ODI cricket history.\n",
            "Headlines: New Zealand end Rohit Sharma-led India's 12-match winning streak\n",
            "--------------------------------------------------\n"
          ]
        }
      ],
      "source": [
        "sampled_data = data.head(3)\n",
        "\n",
        "for idx, row in sampled_data.iterrows():\n",
        "    print(f\"Article: {row['text']}\")\n",
        "    print(f\"Headlines: {row['headlines']}\")\n",
        "    print(\"-\" * 50)  # This will print a separator line"
      ]
    },
    {
      "cell_type": "code",
      "execution_count": null,
      "metadata": {
        "colab": {
          "base_uri": "https://localhost:8080/"
        },
        "id": "2hJhnf07V7p0",
        "outputId": "298f6555-f216-4f46-dc30-27f49e7799db"
      },
      "outputs": [
        {
          "name": "stdout",
          "output_type": "stream",
          "text": [
            "정규화 사전의 수:  120\n"
          ]
        }
      ],
      "source": [
        "contractions = {\"ain't\": \"is not\", \"aren't\": \"are not\",\"can't\": \"cannot\", \"'cause\": \"because\", \"could've\": \"could have\", \"couldn't\": \"could not\",\n",
        "                          \"didn't\": \"did not\",  \"doesn't\": \"does not\", \"don't\": \"do not\", \"hadn't\": \"had not\", \"hasn't\": \"has not\", \"haven't\": \"have not\",\n",
        "                          \"he'd\": \"he would\",\"he'll\": \"he will\", \"he's\": \"he is\", \"how'd\": \"how did\", \"how'd'y\": \"how do you\", \"how'll\": \"how will\", \"how's\": \"how is\",\n",
        "                          \"I'd\": \"I would\", \"I'd've\": \"I would have\", \"I'll\": \"I will\", \"I'll've\": \"I will have\",\"I'm\": \"I am\", \"I've\": \"I have\", \"i'd\": \"i would\",\n",
        "                          \"i'd've\": \"i would have\", \"i'll\": \"i will\",  \"i'll've\": \"i will have\",\"i'm\": \"i am\", \"i've\": \"i have\", \"isn't\": \"is not\", \"it'd\": \"it would\",\n",
        "                          \"it'd've\": \"it would have\", \"it'll\": \"it will\", \"it'll've\": \"it will have\",\"it's\": \"it is\", \"let's\": \"let us\", \"ma'am\": \"madam\",\n",
        "                          \"mayn't\": \"may not\", \"might've\": \"might have\",\"mightn't\": \"might not\",\"mightn't've\": \"might not have\", \"must've\": \"must have\",\n",
        "                          \"mustn't\": \"must not\", \"mustn't've\": \"must not have\", \"needn't\": \"need not\", \"needn't've\": \"need not have\",\"o'clock\": \"of the clock\",\n",
        "                          \"oughtn't\": \"ought not\", \"oughtn't've\": \"ought not have\", \"shan't\": \"shall not\", \"sha'n't\": \"shall not\", \"shan't've\": \"shall not have\",\n",
        "                          \"she'd\": \"she would\", \"she'd've\": \"she would have\", \"she'll\": \"she will\", \"she'll've\": \"she will have\", \"she's\": \"she is\",\n",
        "                          \"should've\": \"should have\", \"shouldn't\": \"should not\", \"shouldn't've\": \"should not have\", \"so've\": \"so have\",\"so's\": \"so as\",\n",
        "                          \"this's\": \"this is\",\"that'd\": \"that would\", \"that'd've\": \"that would have\", \"that's\": \"that is\", \"there'd\": \"there would\",\n",
        "                          \"there'd've\": \"there would have\", \"there's\": \"there is\", \"here's\": \"here is\",\"they'd\": \"they would\", \"they'd've\": \"they would have\",\n",
        "                          \"they'll\": \"they will\", \"they'll've\": \"they will have\", \"they're\": \"they are\", \"they've\": \"they have\", \"to've\": \"to have\",\n",
        "                          \"wasn't\": \"was not\", \"we'd\": \"we would\", \"we'd've\": \"we would have\", \"we'll\": \"we will\", \"we'll've\": \"we will have\", \"we're\": \"we are\",\n",
        "                          \"we've\": \"we have\", \"weren't\": \"were not\", \"what'll\": \"what will\", \"what'll've\": \"what will have\", \"what're\": \"what are\",\n",
        "                          \"what's\": \"what is\", \"what've\": \"what have\", \"when's\": \"when is\", \"when've\": \"when have\", \"where'd\": \"where did\", \"where's\": \"where is\",\n",
        "                          \"where've\": \"where have\", \"who'll\": \"who will\", \"who'll've\": \"who will have\", \"who's\": \"who is\", \"who've\": \"who have\",\n",
        "                          \"why's\": \"why is\", \"why've\": \"why have\", \"will've\": \"will have\", \"won't\": \"will not\", \"won't've\": \"will not have\",\n",
        "                          \"would've\": \"would have\", \"wouldn't\": \"would not\", \"wouldn't've\": \"would not have\", \"y'all\": \"you all\",\n",
        "                          \"y'all'd\": \"you all would\",\"y'all'd've\": \"you all would have\",\"y'all're\": \"you all are\",\"y'all've\": \"you all have\",\n",
        "                          \"you'd\": \"you would\", \"you'd've\": \"you would have\", \"you'll\": \"you will\", \"you'll've\": \"you will have\",\n",
        "                          \"you're\": \"you are\", \"you've\": \"you have\"}\n",
        "\n",
        "print(\"정규화 사전의 수: \", len(contractions))"
      ]
    },
    {
      "cell_type": "code",
      "execution_count": null,
      "metadata": {
        "colab": {
          "base_uri": "https://localhost:8080/"
        },
        "id": "dzco6aMRWyMr",
        "outputId": "0e4bf672-e260-4b86-a05c-96a520f6dd0e"
      },
      "outputs": [
        {
          "name": "stdout",
          "output_type": "stream",
          "text": [
            "불용어 개수 : 179\n",
            "['i', 'me', 'my', 'myself', 'we', 'our', 'ours', 'ourselves', 'you', \"you're\", \"you've\", \"you'll\", \"you'd\", 'your', 'yours', 'yourself', 'yourselves', 'he', 'him', 'his', 'himself', 'she', \"she's\", 'her', 'hers', 'herself', 'it', \"it's\", 'its', 'itself', 'they', 'them', 'their', 'theirs', 'themselves', 'what', 'which', 'who', 'whom', 'this', 'that', \"that'll\", 'these', 'those', 'am', 'is', 'are', 'was', 'were', 'be', 'been', 'being', 'have', 'has', 'had', 'having', 'do', 'does', 'did', 'doing', 'a', 'an', 'the', 'and', 'but', 'if', 'or', 'because', 'as', 'until', 'while', 'of', 'at', 'by', 'for', 'with', 'about', 'against', 'between', 'into', 'through', 'during', 'before', 'after', 'above', 'below', 'to', 'from', 'up', 'down', 'in', 'out', 'on', 'off', 'over', 'under', 'again', 'further', 'then', 'once', 'here', 'there', 'when', 'where', 'why', 'how', 'all', 'any', 'both', 'each', 'few', 'more', 'most', 'other', 'some', 'such', 'no', 'nor', 'not', 'only', 'own', 'same', 'so', 'than', 'too', 'very', 's', 't', 'can', 'will', 'just', 'don', \"don't\", 'should', \"should've\", 'now', 'd', 'll', 'm', 'o', 're', 've', 'y', 'ain', 'aren', \"aren't\", 'couldn', \"couldn't\", 'didn', \"didn't\", 'doesn', \"doesn't\", 'hadn', \"hadn't\", 'hasn', \"hasn't\", 'haven', \"haven't\", 'isn', \"isn't\", 'ma', 'mightn', \"mightn't\", 'mustn', \"mustn't\", 'needn', \"needn't\", 'shan', \"shan't\", 'shouldn', \"shouldn't\", 'wasn', \"wasn't\", 'weren', \"weren't\", 'won', \"won't\", 'wouldn', \"wouldn't\"]\n"
          ]
        }
      ],
      "source": [
        "print('불용어 개수 :', len(stopwords.words('english') ))\n",
        "print(stopwords.words('english'))"
      ]
    },
    {
      "cell_type": "code",
      "execution_count": null,
      "metadata": {
        "id": "eUuwMesOXJw5"
      },
      "outputs": [],
      "source": [
        "# 데이터 전처리 함수\n",
        "def preprocess_sentence(sentence, remove_stopwords=True):\n",
        "#    sentence = sentence.lower() # 텍스트 소문자화\n",
        "   sentence = BeautifulSoup(sentence, \"lxml\").text # <br />, <a href = ...> 등의 html 태그 제거\n",
        "   sentence = re.sub(r'\\([^)]*\\)', '', sentence) # 괄호로 닫힌 문자열 (...) 제거 Ex) my husband (and myself!) for => my husband for\n",
        "   sentence = re.sub('\"','', sentence) # 쌍따옴표 \" 제거\n",
        "   sentence = ' '.join([contractions[t] if t in contractions else t for t in sentence.split(\" \")]) # 약어 정규화\n",
        "   sentence = re.sub(r\"'s\\b\",\"\", sentence) # 소유격 제거. Ex) roland's -> roland\n",
        "   sentence = re.sub(\"[^a-zA-Z]\", \" \", sentence) # 영어 외 문자(숫자, 특수문자 등) 공백으로 변환\n",
        "   sentence = re.sub('[m]{2,}', 'mm', sentence) # m이 3개 이상이면 2개로 변경. Ex) ummmmmmm yeah -> umm yeah\n",
        "\n",
        "   # 불용어 제거 (Text)\n",
        "   if remove_stopwords:\n",
        "       tokens = ' '.join(word for word in sentence.split() if not word in stopwords.words('english') if len(word) > 1)\n",
        "   # 불용어 미제거 (Summary)\n",
        "   else:\n",
        "       tokens = ' '.join(word for word in sentence.split() if len(word) > 1)\n",
        "   return tokens"
      ]
    },
    {
      "cell_type": "code",
      "execution_count": null,
      "metadata": {
        "colab": {
          "base_uri": "https://localhost:8080/"
        },
        "id": "vdWGTtXhX1Ub",
        "outputId": "0bffe0f8-c67c-410e-8f3d-431afb8e8265"
      },
      "outputs": [
        {
          "name": "stdout",
          "output_type": "stream",
          "text": [
            "text:  Saurav Kant an alumnus of upGrad and IIIT PG Program in Machine learning and Artificial Intelligence was Sr Systems Engineer at Infosys with almost years of work experience The program and upGrad degree career support helped him transition to Data Scientist at Tech Mahindra with salary hike upGrad Online Power Learning has powered lakh careers\n",
            "headline: upGrad learner switches to career in ML Al with salary hike\n"
          ]
        }
      ],
      "source": [
        "temp_text = \"Saurav Kant, an alumnus of upGrad and IIIT-B's PG Program in Machine learning and Artificial Intelligence, was a Sr Systems Engineer at Infosys with almost 5 years of work experience. The program and upGrad's 360-degree career support helped him transition to a Data Scientist at Tech Mahindra with 90% salary hike. upGrad's Online Power Learning has powered 3 lakh+ careers.\"\n",
        "temp_headline = \"upGrad learner switches to career in ML & Al with 90% salary hike\"\n",
        "\n",
        "print(\"text: \", preprocess_sentence(temp_text, False))\n",
        "print(\"headline:\", preprocess_sentence(temp_headline, False))"
      ]
    },
    {
      "cell_type": "code",
      "execution_count": null,
      "metadata": {
        "colab": {
          "base_uri": "https://localhost:8080/"
        },
        "id": "zlj5HDHsaWpD",
        "outputId": "7d88490e-1997-4353-8225-d25875197d76"
      },
      "outputs": [
        {
          "name": "stdout",
          "output_type": "stream",
          "text": [
            "text 전처리 후 결과:  ['Saurav Kant an alumnus of upGrad and IIIT PG Program in Machine learning and Artificial Intelligence was Sr Systems Engineer at Infosys with almost years of work experience The program and upGrad degree career support helped him transition to Data Scientist at Tech Mahindra with salary hike upGrad Online Power Learning has powered lakh careers', 'Kunal Shah credit card bill payment platform CRED gave users chance to win free food from Swiggy for one year Pranav Kaushik Delhi techie bagged this reward after spending CRED coins Users get one CRED coin per rupee of bill paid which can be used to avail rewards from brands like Ixigo BookMyShow UberEats Cult Fit and more', 'New Zealand defeated India by wickets in the fourth ODI at Hamilton on Thursday to win their first match of the five match ODI series India lost an international match under Rohit Sharma captaincy after consecutive victories dating back to March The match witnessed India getting all out for their seventh lowest total in ODI cricket history', 'With Aegon Life iTerm Insurance plan customers can enjoy tax benefits on your premiums paid and save up to on taxes The plan provides life cover up to the age of years Also customers have options to insure against Critical Illnesses Disability and Accidental Death Benefit Rider with life cover up to the age of years', 'Speaking about the sexual harassment allegations against Rajkumar Hirani Sonam Kapoor said have known Hirani for many years What if it is not true the MeToo movement will get derailed In the MeToo movement always believe woman But in this case we need to reserve our judgment she added Hirani has been accused by an assistant who worked in Sanju']\n"
          ]
        }
      ],
      "source": [
        "# 전체 text 데이터에 대한 전처리\n",
        "clean_text = []\n",
        "\n",
        "for text in data['text']:\n",
        "   clean_text.append(preprocess_sentence(text, False))\n",
        "\n",
        "# 전처리 후 출력\n",
        "print(\"text 전처리 후 결과: \", clean_text[:5])"
      ]
    },
    {
      "cell_type": "code",
      "execution_count": null,
      "metadata": {
        "colab": {
          "base_uri": "https://localhost:8080/"
        },
        "id": "7vxlf_aBaWxH",
        "outputId": "6ea68578-1e4e-4a5c-c6b4-8d34cd333e94"
      },
      "outputs": [
        {
          "name": "stdout",
          "output_type": "stream",
          "text": [
            "headlines 전처리 후 결과:  ['upGrad learner switches to career in ML Al with salary hike', 'Delhi techie wins free food from Swiggy for one year on CRED', 'New Zealand end Rohit Sharma led India match winning streak', 'Aegon life iTerm insurance plan helps customers save tax', 'Have known Hirani for yrs what if MeToo claims are not true Sonam']\n"
          ]
        }
      ],
      "source": [
        "# 전체 headlines 데이터에 대한 전처리\n",
        "clean_headline = []\n",
        "\n",
        "for headline in data['headlines']:\n",
        "   clean_headline.append(preprocess_sentence(headline, False))\n",
        "\n",
        "print(\"headlines 전처리 후 결과: \", clean_headline[:5])"
      ]
    },
    {
      "cell_type": "code",
      "execution_count": null,
      "metadata": {
        "colab": {
          "base_uri": "https://localhost:8080/"
        },
        "id": "6S1qh84gaW30",
        "outputId": "a5301423-785a-44a8-a6f9-76216728c94b"
      },
      "outputs": [
        {
          "data": {
            "text/plain": [
              "headlines    0\n",
              "text         0\n",
              "dtype: int64"
            ]
          },
          "execution_count": 14,
          "metadata": {},
          "output_type": "execute_result"
        }
      ],
      "source": [
        "data['text'] = clean_text\n",
        "data['headlines'] = clean_headline\n",
        "\n",
        "# 빈 값을 Null 값으로 변환\n",
        "data.replace('', np.nan, inplace=True)\n",
        "data.isnull().sum()"
      ]
    },
    {
      "cell_type": "code",
      "execution_count": null,
      "metadata": {
        "colab": {
          "base_uri": "https://localhost:8080/",
          "height": 1000
        },
        "id": "Jp3xJQc2aW-g",
        "outputId": "3bbf562c-74d7-47a6-9bec-7149fb34638d"
      },
      "outputs": [
        {
          "name": "stdout",
          "output_type": "stream",
          "text": [
            "텍스트의 최소 길이 : 1\n",
            "텍스트의 최대 길이 : 69\n",
            "텍스트의 평균 길이 : 56.1561813745425\n",
            "요약의 최소 길이 : 1\n",
            "요약의 최대 길이 : 16\n",
            "요약의 평균 길이 : 9.289406262708418\n"
          ]
        },
        {
          "data": {
            "image/png": "[encoded data removed]",
            "text/plain": [
              "<Figure size 432x288 with 2 Axes>"
            ]
          },
          "metadata": {
            "needs_background": "light"
          },
          "output_type": "display_data"
        },
        {
          "data": {
            "image/png": "[encoded data removed]",
            "text/plain": [
              "<Figure size 432x288 with 1 Axes>"
            ]
          },
          "metadata": {
            "needs_background": "light"
          },
          "output_type": "display_data"
        },
        {
          "data": {
            "image/png": "[encoded data removed]",
            "text/plain": [
              "<Figure size 432x288 with 1 Axes>"
            ]
          },
          "metadata": {
            "needs_background": "light"
          },
          "output_type": "display_data"
        }
      ],
      "source": [
        "# 길이 분포 시각화\n",
        "import matplotlib.pyplot as plt\n",
        "\n",
        "text_len = [len(s.split()) for s in data['text']] # len(s.split())은 단어 수를 계산\n",
        "headline_len = [len(s.split()) for s in data['headlines']] # len(s.split())은 단어 수를 계산\n",
        "\n",
        "print('텍스트의 최소 길이 : {}'.format(np.min(text_len)))\n",
        "print('텍스트의 최대 길이 : {}'.format(np.max(text_len)))\n",
        "print('텍스트의 평균 길이 : {}'.format(np.mean(text_len)))\n",
        "print('요약의 최소 길이 : {}'.format(np.min(headline_len)))\n",
        "print('요약의 최대 길이 : {}'.format(np.max(headline_len)))\n",
        "print('요약의 평균 길이 : {}'.format(np.mean(headline_len)))\n",
        "\n",
        "plt.subplot(1,2,1)\n",
        "plt.boxplot(text_len)\n",
        "plt.title('text')\n",
        "plt.subplot(1,2,2)\n",
        "plt.boxplot(headline_len)\n",
        "plt.title('headlines')\n",
        "plt.tight_layout()\n",
        "plt.show()\n",
        "\n",
        "plt.title('text')\n",
        "plt.hist(text_len, bins = 40)\n",
        "plt.xlabel('length of samples')\n",
        "plt.ylabel('number of samples')\n",
        "plt.show()\n",
        "\n",
        "plt.title('headlines')\n",
        "plt.hist(headline_len, bins = 40)\n",
        "plt.xlabel('length of samples')\n",
        "plt.ylabel('number of samples')\n",
        "plt.show()"
      ]
    },
    {
      "cell_type": "code",
      "execution_count": null,
      "metadata": {
        "id": "Ba8cLnCWaXFN"
      },
      "outputs": [],
      "source": [
        "text_max_len = 60\n",
        "headline_max_len = 12"
      ]
    },
    {
      "cell_type": "code",
      "execution_count": null,
      "metadata": {
        "id": "U6oeBXdhaXLh"
      },
      "outputs": [],
      "source": [
        "def below_threshold_len(max_len, nested_list):\n",
        " cnt = 0\n",
        " for s in nested_list:\n",
        "   if(len(s.split()) <= max_len):\n",
        "       cnt = cnt + 1\n",
        " print('전체 샘플 중 길이가 %s 이하인 샘플의 비율: %s'%(max_len, (cnt / len(nested_list))))"
      ]
    },
    {
      "cell_type": "code",
      "execution_count": null,
      "metadata": {
        "colab": {
          "base_uri": "https://localhost:8080/"
        },
        "id": "KUxdjpKDaXR0",
        "outputId": "cea63b03-3897-474f-8fe7-d8528b1d880b"
      },
      "outputs": [
        {
          "name": "stdout",
          "output_type": "stream",
          "text": [
            "전체 샘플 중 길이가 60 이하인 샘플의 비율: 0.9470414802765352\n",
            "전체 샘플 중 길이가 12 이하인 샘플의 비율: 0.9889589263928427\n"
          ]
        }
      ],
      "source": [
        "below_threshold_len(text_max_len, data['text'])\n",
        "below_threshold_len(headline_max_len,  data['headlines'])"
      ]
    },
    {
      "cell_type": "code",
      "execution_count": null,
      "metadata": {
        "colab": {
          "base_uri": "https://localhost:8080/"
        },
        "id": "Q3pExgOvaXX7",
        "outputId": "b325bf69-b172-45a9-c513-5628b9755876"
      },
      "outputs": [
        {
          "name": "stdout",
          "output_type": "stream",
          "text": [
            "전체 샘플수 : 92225\n"
          ]
        }
      ],
      "source": [
        "data = data[data['text'].apply(lambda x: len(x.split()) <= text_max_len) & data['headlines'].apply(lambda x: len(x.split()) <= headline_max_len)]\n",
        "\n",
        "print('전체 샘플수 :', (len(data)))"
      ]
    },
    {
      "cell_type": "code",
      "execution_count": null,
      "metadata": {
        "colab": {
          "base_uri": "https://localhost:8080/",
          "height": 293
        },
        "id": "FO8kJ3PIaXeO",
        "outputId": "375360df-ff37-4c67-d1f3-0ca35cb8b28f"
      },
      "outputs": [
        {
          "data": {
            "text/html": [
              "<div>\n",
              "<style scoped>\n",
              "    .dataframe tbody tr th:only-of-type {\n",
              "        vertical-align: middle;\n",
              "    }\n",
              "\n",
              "    .dataframe tbody tr th {\n",
              "        vertical-align: top;\n",
              "    }\n",
              "\n",
              "    .dataframe thead th {\n",
              "        text-align: right;\n",
              "    }\n",
              "</style>\n",
              "<table border=\"1\" class=\"dataframe\">\n",
              "  <thead>\n",
              "    <tr style=\"text-align: right;\">\n",
              "      <th></th>\n",
              "      <th>headlines</th>\n",
              "      <th>text</th>\n",
              "      <th>decoder_input</th>\n",
              "      <th>decoder_target</th>\n",
              "    </tr>\n",
              "  </thead>\n",
              "  <tbody>\n",
              "    <tr>\n",
              "      <th>0</th>\n",
              "      <td>upGrad learner switches to career in ML Al wit...</td>\n",
              "      <td>Saurav Kant an alumnus of upGrad and IIIT PG P...</td>\n",
              "      <td>sostoken upGrad learner switches to career in ...</td>\n",
              "      <td>upGrad learner switches to career in ML Al wit...</td>\n",
              "    </tr>\n",
              "    <tr>\n",
              "      <th>1</th>\n",
              "      <td>Delhi techie wins free food from Swiggy for on...</td>\n",
              "      <td>Kunal Shah credit card bill payment platform C...</td>\n",
              "      <td>sostoken Delhi techie wins free food from Swig...</td>\n",
              "      <td>Delhi techie wins free food from Swiggy for on...</td>\n",
              "    </tr>\n",
              "    <tr>\n",
              "      <th>2</th>\n",
              "      <td>New Zealand end Rohit Sharma led India match w...</td>\n",
              "      <td>New Zealand defeated India by wickets in the f...</td>\n",
              "      <td>sostoken New Zealand end Rohit Sharma led Indi...</td>\n",
              "      <td>New Zealand end Rohit Sharma led India match w...</td>\n",
              "    </tr>\n",
              "    <tr>\n",
              "      <th>3</th>\n",
              "      <td>Aegon life iTerm insurance plan helps customer...</td>\n",
              "      <td>With Aegon Life iTerm Insurance plan customers...</td>\n",
              "      <td>sostoken Aegon life iTerm insurance plan helps...</td>\n",
              "      <td>Aegon life iTerm insurance plan helps customer...</td>\n",
              "    </tr>\n",
              "    <tr>\n",
              "      <th>5</th>\n",
              "      <td>Rahat Fateh Ali Khan denies getting notice for...</td>\n",
              "      <td>Pakistani singer Rahat Fateh Ali Khan has deni...</td>\n",
              "      <td>sostoken Rahat Fateh Ali Khan denies getting n...</td>\n",
              "      <td>Rahat Fateh Ali Khan denies getting notice for...</td>\n",
              "    </tr>\n",
              "  </tbody>\n",
              "</table>\n",
              "</div>"
            ],
            "text/plain": [
              "                                           headlines  \\\n",
              "0  upGrad learner switches to career in ML Al wit...   \n",
              "1  Delhi techie wins free food from Swiggy for on...   \n",
              "2  New Zealand end Rohit Sharma led India match w...   \n",
              "3  Aegon life iTerm insurance plan helps customer...   \n",
              "5  Rahat Fateh Ali Khan denies getting notice for...   \n",
              "\n",
              "                                                text  \\\n",
              "0  Saurav Kant an alumnus of upGrad and IIIT PG P...   \n",
              "1  Kunal Shah credit card bill payment platform C...   \n",
              "2  New Zealand defeated India by wickets in the f...   \n",
              "3  With Aegon Life iTerm Insurance plan customers...   \n",
              "5  Pakistani singer Rahat Fateh Ali Khan has deni...   \n",
              "\n",
              "                                       decoder_input  \\\n",
              "0  sostoken upGrad learner switches to career in ...   \n",
              "1  sostoken Delhi techie wins free food from Swig...   \n",
              "2  sostoken New Zealand end Rohit Sharma led Indi...   \n",
              "3  sostoken Aegon life iTerm insurance plan helps...   \n",
              "5  sostoken Rahat Fateh Ali Khan denies getting n...   \n",
              "\n",
              "                                      decoder_target  \n",
              "0  upGrad learner switches to career in ML Al wit...  \n",
              "1  Delhi techie wins free food from Swiggy for on...  \n",
              "2  New Zealand end Rohit Sharma led India match w...  \n",
              "3  Aegon life iTerm insurance plan helps customer...  \n",
              "5  Rahat Fateh Ali Khan denies getting notice for...  "
            ]
          },
          "execution_count": 20,
          "metadata": {},
          "output_type": "execute_result"
        }
      ],
      "source": [
        "# 요약 데이터에는 시작 토큰과 종료 토큰을 추가한다.\n",
        "data['decoder_input'] = data['headlines'].apply(lambda x : 'sostoken '+ x)\n",
        "data['decoder_target'] = data['headlines'].apply(lambda x : x + ' eostoken')\n",
        "data.head()"
      ]
    },
    {
      "cell_type": "code",
      "execution_count": null,
      "metadata": {
        "id": "NCEz6Gi9aXkI"
      },
      "outputs": [],
      "source": [
        "encoder_input = np.array(data['text']) # 인코더의 입력\n",
        "decoder_input = np.array(data['decoder_input']) # 디코더의 입력\n",
        "decoder_target = np.array(data['decoder_target']) # 디코더의 레이블"
      ]
    },
    {
      "cell_type": "code",
      "execution_count": null,
      "metadata": {
        "colab": {
          "base_uri": "https://localhost:8080/"
        },
        "id": "CL-OQlwGaXqP",
        "outputId": "b53b6141-0385-4a95-b9b5-fd310aaa2a51"
      },
      "outputs": [
        {
          "name": "stdout",
          "output_type": "stream",
          "text": [
            "[ 9367 71660 41693 ... 45098 73636 35037]\n"
          ]
        }
      ],
      "source": [
        "indices = np.arange(encoder_input.shape[0])\n",
        "np.random.shuffle(indices)\n",
        "print(indices)"
      ]
    },
    {
      "cell_type": "code",
      "execution_count": null,
      "metadata": {
        "id": "z0SZymT7aXwJ"
      },
      "outputs": [],
      "source": [
        "encoder_input = encoder_input[indices]\n",
        "decoder_input = decoder_input[indices]\n",
        "decoder_target = decoder_target[indices]"
      ]
    },
    {
      "cell_type": "code",
      "execution_count": null,
      "metadata": {
        "colab": {
          "base_uri": "https://localhost:8080/"
        },
        "id": "imfU-WF6aX13",
        "outputId": "9950fc74-d9d7-44b1-949b-733fb8da3f56"
      },
      "outputs": [
        {
          "name": "stdout",
          "output_type": "stream",
          "text": [
            "테스트 데이터의 수 : 18445\n",
            "훈련 데이터의 수 : 73780\n"
          ]
        }
      ],
      "source": [
        "n_of_val = int(len(encoder_input)*0.2)\n",
        "print('테스트 데이터의 수 :', n_of_val)\n",
        "print('훈련 데이터의 수 :', int(len(encoder_input) - n_of_val))"
      ]
    },
    {
      "cell_type": "code",
      "execution_count": null,
      "metadata": {
        "colab": {
          "base_uri": "https://localhost:8080/"
        },
        "id": "yrnVGxZOaX7l",
        "outputId": "4006b7f3-765f-4747-9ca5-bf665e802f69"
      },
      "outputs": [
        {
          "name": "stdout",
          "output_type": "stream",
          "text": [
            "훈련 데이터의 개수 : 73780\n",
            "훈련 레이블의 개수 : 73780\n",
            "테스트 데이터의 개수 : 18445\n",
            "테스트 레이블의 개수 : 18445\n",
            "['Union Minister Shripad Naik on Friday said change in leadership in Goa either today or tomorrow is requirement considering the health of CM Manohar Parrikar Parrikar has been undergoing treatment for pancreatic ailment for several months and arrived in the state on October post hospitalisation at AIIMS BJP meanwhile has consistently ruled out change in leadership']\n",
            "['sostoken Goa needs new leader CM Parrikar is unwell Union Minister']\n",
            "['Goa needs new leader CM Parrikar is unwell Union Minister eostoken']\n",
            "['Amid US sanctions that prevent Venezuela from accessing foreign currency the price of kilogram of cheese hit million bolivar This comes as the country plans economic reforms including new banknotes that cut five zeros off its fast depreciating currency Recently the International Monetary Fund has estimated that hyperinflation in Venezuela could cross this year']\n",
            "['sostoken Value of kg cheese hits million bolivars in Venezuela']\n",
            "['Value of kg cheese hits million bolivars in Venezuela eostoken']\n"
          ]
        }
      ],
      "source": [
        "encoder_input_train = encoder_input[:-n_of_val] # 훈련 데이터\n",
        "decoder_input_train = decoder_input[:-n_of_val] # 훈련 데이터 sostoken\n",
        "decoder_target_train = decoder_target[:-n_of_val] # 훈련 데이터 eostoken\n",
        "\n",
        "encoder_input_test = encoder_input[-n_of_val:] # 테스트 데이터\n",
        "decoder_input_test = decoder_input[-n_of_val:] # 테스트 데이터 sostoken​\n",
        "decoder_target_test = decoder_target[-n_of_val:] # 테스트 데이터 eostoken​\n",
        "\n",
        "print('훈련 데이터의 개수 :', len(encoder_input_train))\n",
        "print('훈련 레이블의 개수 :', len(decoder_input_train))\n",
        "print('테스트 데이터의 개수 :', len(encoder_input_test))\n",
        "print('테스트 레이블의 개수 :', len(decoder_input_test))\n",
        "\n",
        "print(encoder_input_train[:1])\n",
        "print(decoder_input_train[:1])\n",
        "print(decoder_target_train[:1])\n",
        "\n",
        "print(encoder_input_test[:1])\n",
        "print(decoder_input_test[:1])\n",
        "print(decoder_target_test[:1])"
      ]
    },
    {
      "cell_type": "code",
      "execution_count": null,
      "metadata": {
        "id": "QvHx_QjqaYBU"
      },
      "outputs": [],
      "source": [
        "src_tokenizer = Tokenizer() # 토크나이저 정의\n",
        "src_tokenizer.fit_on_texts(encoder_input_train) # 입력된 데이터로부터 단어 집합 생성"
      ]
    },
    {
      "cell_type": "code",
      "execution_count": null,
      "metadata": {
        "colab": {
          "base_uri": "https://localhost:8080/"
        },
        "id": "IGcBI3FtaYHA",
        "outputId": "d59fc6e9-e544-42a2-8bac-f34be388b254"
      },
      "outputs": [
        {
          "name": "stdout",
          "output_type": "stream",
          "text": [
            "단어 집합(vocabulary)의 크기 : 67992\n",
            "등장 빈도가 4번 이하인 희귀 단어의 수: 42250\n",
            "단어 집합에서 희귀 단어를 제외시킬 경우의 단어 집합의 크기 25742\n",
            "단어 집합에서 희귀 단어의 비율: 62.139663489822325\n",
            "전체 등장 빈도에서 희귀 단어 등장 빈도 비율: 1.7434298523158098\n"
          ]
        }
      ],
      "source": [
        "threshold = 5\n",
        "total_cnt = len(src_tokenizer.word_index) # 단어의 수\n",
        "rare_cnt = 0 # 등장 빈도수가 threshold보다 작은 단어의 개수를 카운트\n",
        "total_freq = 0 # 훈련 데이터의 전체 단어 빈도수 총 합\n",
        "rare_freq = 0 # 등장 빈도수가 threshold보다 작은 단어의 등장 빈도수의 총 합\n",
        "\n",
        "# 단어와 빈도수의 쌍(pair)을 key와 value로 받는다.\n",
        "for key, value in src_tokenizer.word_counts.items():\n",
        "   total_freq = total_freq + value\n",
        "\n",
        "   # 단어의 등장 빈도수가 threshold보다 작으면\n",
        "   if(value < threshold):\n",
        "       rare_cnt = rare_cnt + 1\n",
        "       rare_freq = rare_freq + value\n",
        "\n",
        "print('단어 집합(vocabulary)의 크기 :', total_cnt)\n",
        "print('등장 빈도가 %s번 이하인 희귀 단어의 수: %s'%(threshold - 1, rare_cnt))\n",
        "print('단어 집합에서 희귀 단어를 제외시킬 경우의 단어 집합의 크기 %s'%(total_cnt - rare_cnt))\n",
        "print(\"단어 집합에서 희귀 단어의 비율:\", (rare_cnt / total_cnt)*100)\n",
        "print(\"전체 등장 빈도에서 희귀 단어 등장 빈도 비율:\", (rare_freq / total_freq)*100)"
      ]
    },
    {
      "cell_type": "code",
      "execution_count": null,
      "metadata": {
        "id": "0YooaGjUhns4"
      },
      "outputs": [],
      "source": [
        "src_vocab = 25000\n",
        "src_tokenizer = Tokenizer(num_words=src_vocab) # 단어 집합의 크기를 25000으로 제한\n",
        "src_tokenizer.fit_on_texts(encoder_input_train) # 단어 집합 재생성"
      ]
    },
    {
      "cell_type": "code",
      "execution_count": null,
      "metadata": {
        "colab": {
          "base_uri": "https://localhost:8080/"
        },
        "id": "zABmOGq2hn0j",
        "outputId": "2c6a7c80-a654-4e06-ba98-4d9a1a0da515"
      },
      "outputs": [
        {
          "name": "stdout",
          "output_type": "stream",
          "text": [
            "[[257, 55, 4826, 6, 121, 9, 643, 3, 2032, 3, 1196, 1937, 399, 85, 4675, 12, 7159, 2295, 1, 506, 4, 148, 2333, 2412, 2412, 7, 32, 3013, 838, 8, 8594, 8432, 8, 242, 270, 5, 2105, 3, 1, 65, 6, 579, 260, 14428, 21, 3931, 95, 420, 7, 8433, 1277, 73, 643, 3, 2032], [1611, 19, 499, 1563, 22, 1049, 826, 8, 14429, 685, 1303, 3, 545, 1749, 5206, 313, 93, 407, 42, 1767, 3, 1, 300, 248, 826, 22, 25, 2, 350, 196, 8, 300, 248, 545, 1749, 5206, 5, 196, 21, 15010, 5206, 5, 1, 2233, 1049, 22, 24, 196, 3841, 1, 729, 42, 5170, 4, 648], [30, 54, 87, 3102, 16, 3345, 2, 267, 18, 13, 363, 23, 1071, 612, 2, 58, 3, 143, 6, 153, 1, 87, 67, 286, 3502, 5, 103, 1, 3345, 4, 13, 1012, 1521, 1, 612, 1, 103, 2200, 18, 8735, 1, 630, 83, 48, 6229, 5, 154, 58, 393, 51, 344, 4, 1, 1062]]\n"
          ]
        }
      ],
      "source": [
        "# 텍스트 시퀀스를 정수 시퀀스로 변환\n",
        "encoder_input_train = src_tokenizer.texts_to_sequences(encoder_input_train)\n",
        "encoder_input_test = src_tokenizer.texts_to_sequences(encoder_input_test)\n",
        "# 잘 진행되었는지 샘플 출력\n",
        "print(encoder_input_train[:3])"
      ]
    },
    {
      "cell_type": "code",
      "execution_count": null,
      "metadata": {
        "id": "kE5ZZTrahn8D"
      },
      "outputs": [],
      "source": [
        "tar_tokenizer = Tokenizer() # src_tokenizer 참고​\n",
        "tar_tokenizer.fit_on_texts(decoder_input_train) # decoder_input_train 디코더의 입력 시퀀스"
      ]
    },
    {
      "cell_type": "code",
      "execution_count": null,
      "metadata": {
        "colab": {
          "base_uri": "https://localhost:8080/"
        },
        "id": "li7s76pjhoDW",
        "outputId": "9bb7a363-55b5-4795-a4d1-7d6ce9a7188c"
      },
      "outputs": [
        {
          "name": "stdout",
          "output_type": "stream",
          "text": [
            "단어 집합(vocabulary)의 크기 : 29405\n",
            "등장 빈도가 4번 이하인 희귀 단어의 수: 18164\n",
            "단어 집합에서 희귀 단어를 제외시킬 경우의 단어 집합의 크기 11241\n",
            "단어 집합에서 희귀 단어의 비율: 61.77180751572862\n",
            "전체 등장 빈도에서 희귀 단어 등장 빈도 비율: 4.125917518774662\n"
          ]
        }
      ],
      "source": [
        "threshold = 5\n",
        "total_cnt = len(tar_tokenizer.word_index) # 단어의 수\n",
        "rare_cnt = 0 # 등장 빈도수가 threshold보다 작은 단어의 개수를 카운트\n",
        "total_freq = 0 # 훈련 데이터의 전체 단어 빈도수 총 합\n",
        "rare_freq = 0 # 등장 빈도수가 threshold보다 작은 단어의 등장 빈도수의 총 합\n",
        "\n",
        "# 단어와 빈도수의 쌍(pair)을 key와 value로 받는다.\n",
        "for key, value in tar_tokenizer.word_counts.items():\n",
        "   total_freq = total_freq + value\n",
        "\n",
        "   # 단어의 등장 빈도수가 threshold보다 작으면\n",
        "   if(value < threshold):\n",
        "       rare_cnt = rare_cnt + 1\n",
        "       rare_freq = rare_freq + value\n",
        "\n",
        "print('단어 집합(vocabulary)의 크기 :', total_cnt)\n",
        "print('등장 빈도가 %s번 이하인 희귀 단어의 수: %s'%(threshold - 1, rare_cnt))\n",
        "print('단어 집합에서 희귀 단어를 제외시킬 경우의 단어 집합의 크기 %s'%(total_cnt - rare_cnt))\n",
        "print(\"단어 집합에서 희귀 단어의 비율:\", (rare_cnt / total_cnt)*100)\n",
        "print(\"전체 등장 빈도에서 희귀 단어 등장 빈도 비율:\", (rare_freq / total_freq)*100)"
      ]
    },
    {
      "cell_type": "code",
      "execution_count": null,
      "metadata": {
        "colab": {
          "base_uri": "https://localhost:8080/"
        },
        "id": "S5e-6hCOhoKz",
        "outputId": "d7bcf4e3-f6a3-4e5e-c047-08bea22676e1"
      },
      "outputs": [
        {
          "name": "stdout",
          "output_type": "stream",
          "text": [
            "input\n",
            "input  [[1, 467, 1418, 35, 113, 36, 1955, 20, 10067, 496, 76], [1, 671, 3, 928, 5, 3088, 13, 4, 692, 2148, 6245], [1, 54, 19, 273, 3617, 10, 1454, 825, 358], [1, 138, 20, 3089, 4, 6599, 7, 30, 2879, 836, 980], [1, 2760, 3408, 1553, 171, 724, 4822, 2185]]\n",
            "target\n",
            "decoder  [[467, 1418, 35, 113, 36, 1955, 20, 10067, 496, 76, 2], [671, 3, 928, 5, 3088, 13, 4, 692, 2148, 6245, 2], [54, 19, 273, 3617, 10, 1454, 825, 358, 2], [138, 20, 3089, 4, 6599, 7, 30, 2879, 836, 980, 2], [2760, 3408, 1553, 171, 724, 4822, 2185, 2]]\n"
          ]
        }
      ],
      "source": [
        "tar_vocab = 11000\n",
        "tar_tokenizer = Tokenizer(num_words=tar_vocab)\n",
        "tar_tokenizer.fit_on_texts(decoder_input_train)  # 단어 집합 재생성\n",
        "tar_tokenizer.fit_on_texts(decoder_target_train)  # 단어 집합 재생성\n",
        "\n",
        "# 토큰화기에 여러 번 fit_on_texts를 호출하면 단어 인덱스가 재설정되지 않습니다. 대신 업데이트됩니다.\n",
        "# 따라서 이 문맥에서 토큰화기의 어휘는 decoder_input_train 및 decoder_target_train 모두를 기반으로 합니다.\n",
        "\n",
        "# 텍스트 시퀀스를 정수 시퀀스로 변환\n",
        "decoder_input_train = tar_tokenizer.texts_to_sequences(decoder_input_train)\n",
        "decoder_input_test = tar_tokenizer.texts_to_sequences(decoder_input_test)\n",
        "decoder_target_train = tar_tokenizer.texts_to_sequences(decoder_target_train)\n",
        "decoder_target_test = tar_tokenizer.texts_to_sequences(decoder_target_test)\n",
        "\n",
        "# 잘 변환되었는지 확인\n",
        "print('input')\n",
        "print('input ',decoder_input_train[:5])\n",
        "print('target')\n",
        "print('decoder ',decoder_target_train[:5])"
      ]
    },
    {
      "cell_type": "code",
      "execution_count": null,
      "metadata": {
        "colab": {
          "base_uri": "https://localhost:8080/"
        },
        "id": "P6fqb_FThoRt",
        "outputId": "9457955a-e571-4a25-93dd-20d29fd6a141"
      },
      "outputs": [
        {
          "name": "stdout",
          "output_type": "stream",
          "text": [
            "삭제할 훈련 데이터의 개수 : 0\n",
            "삭제할 테스트 데이터의 개수 : 0\n",
            "훈련 데이터의 개수 : 73780\n",
            "훈련 레이블의 개수 : 73780\n",
            "테스트 데이터의 개수 : 18445\n",
            "테스트 레이블의 개수 : 18445\n"
          ]
        }
      ],
      "source": [
        "drop_train = [index for index, sentence in enumerate(decoder_input_train) if len(sentence) == 1]\n",
        "drop_test = [index for index, sentence in enumerate(decoder_input_test) if len(sentence) == 1]\n",
        "\n",
        "print('삭제할 훈련 데이터의 개수 :', len(drop_train)) # 0\n",
        "print('삭제할 테스트 데이터의 개수 :', len(drop_test)) # 0\n",
        "\n",
        "# encoder_input_train = [sentence for index, sentence in enumerate(encoder_input_train) if index not in drop_train]\n",
        "# decoder_input_train = [sentence for index, sentence in enumerate(decoder_input_train) if index not in drop_train]\n",
        "# decoder_target_train = [sentence for index, sentence in enumerate(decoder_target_train) if index not in drop_train]\n",
        "\n",
        "# encoder_input_test = [sentence for index, sentence in enumerate(encoder_input_test) if index not in drop_test]\n",
        "# decoder_input_test = [sentence for index, sentence in enumerate(decoder_input_test) if index not in drop_test]\n",
        "# decoder_target_test = [sentence for index, sentence in enumerate(decoder_target_test) if index not in drop_test]\n",
        "\n",
        "print('훈련 데이터의 개수 :', len(encoder_input_train))\n",
        "print('훈련 레이블의 개수 :', len(decoder_input_train))\n",
        "print('테스트 데이터의 개수 :', len(encoder_input_test))\n",
        "print('테스트 레이블의 개수 :', len(decoder_input_test))"
      ]
    },
    {
      "cell_type": "code",
      "execution_count": null,
      "metadata": {
        "id": "ktZd4sy5hoYB"
      },
      "outputs": [],
      "source": [
        "encoder_input_train = pad_sequences(encoder_input_train, maxlen=text_max_len, padding='post')\n",
        "encoder_input_test = pad_sequences(encoder_input_test, maxlen=text_max_len, padding='post')\n",
        "decoder_input_train = pad_sequences(decoder_input_train, maxlen=headline_max_len, padding='post')\n",
        "decoder_target_train = pad_sequences(decoder_target_train, maxlen=headline_max_len, padding='post')\n",
        "decoder_input_test = pad_sequences(decoder_input_test, maxlen=headline_max_len, padding='post')\n",
        "decoder_target_test = pad_sequences(decoder_target_test, maxlen=headline_max_len, padding='post')"
      ]
    },
    {
      "cell_type": "code",
      "execution_count": null,
      "metadata": {
        "id": "-Z4kYDCnhoeI"
      },
      "outputs": [],
      "source": [
        "from tensorflow.keras.layers import Input, LSTM, Embedding, Dense, Concatenate, TimeDistributed\n",
        "from tensorflow.keras.models import Model\n",
        "from tensorflow.keras.callbacks import EarlyStopping, ModelCheckpoint\n",
        "\n",
        "# 인코더 설계 시작\n",
        "embedding_dim = 128\n",
        "hidden_size = 256\n",
        "\n",
        "# 인코더\n",
        "encoder_inputs = Input(shape=(text_max_len,))\n",
        "\n",
        "# 인코더의 임베딩 층\n",
        "enc_emb = Embedding(src_vocab, embedding_dim)(encoder_inputs)\n",
        "\n",
        "# 인코더의 LSTM 1\n",
        "# encoder_lstm1 = LSTM(hidden_size, return_sequences=True, return_state=True ,dropout = 0.4, recurrent_dropout = 0.4)\n",
        "encoder_lstm1 = LSTM(hidden_size, return_sequences=True, return_state=True ,dropout = 0.4)\n",
        "encoder_output1, state_h1, state_c1 = encoder_lstm1(enc_emb)\n",
        "\n",
        "# 인코더의 LSTM 2\n",
        "encoder_lstm2 = LSTM(hidden_size, return_sequences=True, return_state=True, dropout=0.4)\n",
        "encoder_output2, state_h2, state_c2 = encoder_lstm2(encoder_output1)\n",
        "\n",
        "# 인코더의 LSTM 3\n",
        "encoder_lstm3 = LSTM(hidden_size, return_sequences=True, return_state=True, dropout=0.4)\n",
        "encoder_output3, state_h3, state_c3 = encoder_lstm3(encoder_output2)\n",
        "\n",
        "# 최종 출력 값인 encoder_output3, state_h3, state_c3는 디코더 단계에서 중요할 것이며,\n",
        "# state_h3와 state_c3는 디코더의 LSTM 레이어의 초기 상태가 됩니다."
      ]
    },
    {
      "cell_type": "code",
      "execution_count": null,
      "metadata": {
        "id": "Nnxx2ae9hokP"
      },
      "outputs": [],
      "source": [
        "# 디코더 설계\n",
        "decoder_inputs = Input(shape=(None,))\n",
        "\n",
        "# 디코더의 임베딩 층\n",
        "dec_emb_layer = Embedding(tar_vocab, embedding_dim)\n",
        "dec_emb = dec_emb_layer(decoder_inputs)\n",
        "\n",
        "# 디코더의 LSTM\n",
        "# decoder_lstm = LSTM(hidden_size, return_sequences=True, return_state=True, dropout=0.4, recurrent_dropout=0.2)\n",
        "decoder_lstm = LSTM(hidden_size, return_sequences=True, return_state=True, dropout=0.4)\n",
        "decoder_outputs, _, _ = decoder_lstm(dec_emb, initial_state=[state_h3, state_c3])"
      ]
    },
    {
      "cell_type": "code",
      "execution_count": null,
      "metadata": {
        "colab": {
          "base_uri": "https://localhost:8080/"
        },
        "id": "7P2atE-khoqI",
        "outputId": "bc484398-c4be-4104-e2d5-71266701bb38"
      },
      "outputs": [
        {
          "name": "stdout",
          "output_type": "stream",
          "text": [
            "Model: \"model\"\n",
            "__________________________________________________________________________________________________\n",
            "Layer (type)                    Output Shape         Param #     Connected to                     \n",
            "==================================================================================================\n",
            "input_1 (InputLayer)            [(None, 60)]         0                                            \n",
            "__________________________________________________________________________________________________\n",
            "embedding (Embedding)           (None, 60, 128)      3200000     input_1[0][0]                    \n",
            "__________________________________________________________________________________________________\n",
            "lstm (LSTM)                     [(None, 60, 256), (N 394240      embedding[0][0]                  \n",
            "__________________________________________________________________________________________________\n",
            "input_2 (InputLayer)            [(None, None)]       0                                            \n",
            "__________________________________________________________________________________________________\n",
            "lstm_1 (LSTM)                   [(None, 60, 256), (N 525312      lstm[0][0]                       \n",
            "__________________________________________________________________________________________________\n",
            "embedding_1 (Embedding)         (None, None, 128)    1408000     input_2[0][0]                    \n",
            "__________________________________________________________________________________________________\n",
            "lstm_2 (LSTM)                   [(None, 60, 256), (N 525312      lstm_1[0][0]                     \n",
            "__________________________________________________________________________________________________\n",
            "lstm_3 (LSTM)                   [(None, None, 256),  394240      embedding_1[0][0]                \n",
            "                                                                 lstm_2[0][1]                     \n",
            "                                                                 lstm_2[0][2]                     \n",
            "__________________________________________________________________________________________________\n",
            "dense (Dense)                   (None, None, 11000)  2827000     lstm_3[0][0]                     \n",
            "==================================================================================================\n",
            "Total params: 9,274,104\n",
            "Trainable params: 9,274,104\n",
            "Non-trainable params: 0\n",
            "__________________________________________________________________________________________________\n"
          ]
        }
      ],
      "source": [
        "# 디코더의 출력층\n",
        "decoder_softmax_layer = Dense(tar_vocab, activation='softmax')\n",
        "decoder_softmax_outputs = decoder_softmax_layer(decoder_outputs)\n",
        "\n",
        "# 모델 정의\n",
        "model = Model([encoder_inputs, decoder_inputs], decoder_softmax_outputs)\n",
        "model.summary()"
      ]
    },
    {
      "cell_type": "code",
      "execution_count": null,
      "metadata": {
        "colab": {
          "base_uri": "https://localhost:8080/"
        },
        "id": "ShIgI11GhowC",
        "outputId": "7f04637a-87be-4bae-a04c-b49a29e38d9b"
      },
      "outputs": [
        {
          "name": "stdout",
          "output_type": "stream",
          "text": [
            "Model: \"model_4\"\n",
            "__________________________________________________________________________________________________\n",
            "Layer (type)                    Output Shape         Param #     Connected to                     \n",
            "==================================================================================================\n",
            "input_1 (InputLayer)            [(None, 60)]         0                                            \n",
            "__________________________________________________________________________________________________\n",
            "embedding (Embedding)           (None, 60, 128)      3200000     input_1[0][0]                    \n",
            "__________________________________________________________________________________________________\n",
            "lstm (LSTM)                     [(None, 60, 256), (N 394240      embedding[0][0]                  \n",
            "__________________________________________________________________________________________________\n",
            "input_2 (InputLayer)            [(None, None)]       0                                            \n",
            "__________________________________________________________________________________________________\n",
            "lstm_1 (LSTM)                   [(None, 60, 256), (N 525312      lstm[0][0]                       \n",
            "__________________________________________________________________________________________________\n",
            "embedding_1 (Embedding)         (None, None, 128)    1408000     input_2[0][0]                    \n",
            "__________________________________________________________________________________________________\n",
            "lstm_2 (LSTM)                   [(None, 60, 256), (N 525312      lstm_1[0][0]                     \n",
            "__________________________________________________________________________________________________\n",
            "lstm_3 (LSTM)                   [(None, None, 256),  394240      embedding_1[0][0]                \n",
            "                                                                 lstm_2[0][1]                     \n",
            "                                                                 lstm_2[0][2]                     \n",
            "__________________________________________________________________________________________________\n",
            "attention_layer (AdditiveAttent (None, None, 256)    256         lstm_3[0][0]                     \n",
            "                                                                 lstm_2[0][0]                     \n",
            "__________________________________________________________________________________________________\n",
            "concat_layer (Concatenate)      (None, None, 512)    0           lstm_3[0][0]                     \n",
            "                                                                 attention_layer[0][0]            \n",
            "__________________________________________________________________________________________________\n",
            "dense_2 (Dense)                 (None, None, 11000)  5643000     concat_layer[0][0]               \n",
            "==================================================================================================\n",
            "Total params: 12,090,360\n",
            "Trainable params: 12,090,360\n",
            "Non-trainable params: 0\n",
            "__________________________________________________________________________________________________\n"
          ]
        }
      ],
      "source": [
        "# 어텐션 층을 만들고, 위에서 설계한 디코더의 출력층을 수정\n",
        "from tensorflow.keras.layers import AdditiveAttention\n",
        "\n",
        "# 어텐션 층(어텐션 함수)\n",
        "attn_layer = AdditiveAttention(name='attention_layer')\n",
        "\n",
        "# 인코더와 디코더의 모든 time step의 hidden state를 어텐션 층에 전달하고 결과를 리턴\n",
        "attn_out = attn_layer([decoder_outputs, encoder_output3]) # 마지막 인코더 LSTM 레이어의 출력을 참조\n",
        "\n",
        "# 어텐션의 결과와 디코더의 hidden state들을 연결\n",
        "decoder_concat_input = Concatenate(axis=-1, name='concat_layer')([decoder_outputs, attn_out])\n",
        "\n",
        "# 디코더의 출력층\n",
        "decoder_softmax_layer = Dense(tar_vocab, activation='softmax')\n",
        "decoder_softmax_outputs = decoder_softmax_layer(decoder_concat_input)\n",
        "\n",
        "# 모델 정의\n",
        "model = Model([encoder_inputs, decoder_inputs], decoder_softmax_outputs)\n",
        "model.summary()"
      ]
    },
    {
      "cell_type": "code",
      "execution_count": null,
      "metadata": {
        "colab": {
          "base_uri": "https://localhost:8080/"
        },
        "id": "J4Rpfx3Aho1w",
        "outputId": "2347581c-8ac4-4982-89f5-142d7473c1ef"
      },
      "outputs": [
        {
          "name": "stdout",
          "output_type": "stream",
          "text": [
            "Epoch 1/200\n",
            "289/289 [==============================] - 40s 123ms/step - loss: 6.6679 - val_loss: 5.4559\n",
            "Epoch 2/200\n",
            "289/289 [==============================] - 35s 122ms/step - loss: 5.3048 - val_loss: 5.0689\n",
            "Epoch 3/200\n",
            "289/289 [==============================] - 35s 120ms/step - loss: 4.9392 - val_loss: 4.7819\n",
            "Epoch 4/200\n",
            "289/289 [==============================] - 35s 120ms/step - loss: 4.6607 - val_loss: 4.5693\n",
            "Epoch 5/200\n",
            "289/289 [==============================] - 35s 121ms/step - loss: 4.4413 - val_loss: 4.4041\n",
            "Epoch 6/200\n",
            "289/289 [==============================] - 35s 120ms/step - loss: 4.2620 - val_loss: 4.2718\n",
            "Epoch 7/200\n",
            "289/289 [==============================] - 35s 120ms/step - loss: 4.1108 - val_loss: 4.1639\n",
            "Epoch 8/200\n",
            "289/289 [==============================] - 35s 120ms/step - loss: 3.9821 - val_loss: 4.0746\n",
            "Epoch 9/200\n",
            "289/289 [==============================] - 35s 120ms/step - loss: 3.8711 - val_loss: 3.9997\n",
            "Epoch 10/200\n",
            "289/289 [==============================] - 35s 121ms/step - loss: 3.7726 - val_loss: 3.9355\n",
            "Epoch 11/200\n",
            "289/289 [==============================] - 35s 120ms/step - loss: 3.6852 - val_loss: 3.8809\n",
            "Epoch 12/200\n",
            "289/289 [==============================] - 35s 121ms/step - loss: 3.6058 - val_loss: 3.8329\n",
            "Epoch 13/200\n",
            "289/289 [==============================] - 35s 121ms/step - loss: 3.5347 - val_loss: 3.7911\n",
            "Epoch 14/200\n",
            "289/289 [==============================] - 35s 121ms/step - loss: 3.4696 - val_loss: 3.7550\n",
            "Epoch 15/200\n",
            "289/289 [==============================] - 35s 121ms/step - loss: 3.4094 - val_loss: 3.7219\n",
            "Epoch 16/200\n",
            "289/289 [==============================] - 35s 121ms/step - loss: 3.3550 - val_loss: 3.6934\n",
            "Epoch 17/200\n",
            "289/289 [==============================] - 35s 121ms/step - loss: 3.3019 - val_loss: 3.6675\n",
            "Epoch 18/200\n",
            "289/289 [==============================] - 35s 121ms/step - loss: 3.2546 - val_loss: 3.6428\n",
            "Epoch 19/200\n",
            "289/289 [==============================] - 35s 121ms/step - loss: 3.2091 - val_loss: 3.6217\n",
            "Epoch 20/200\n",
            "289/289 [==============================] - 35s 121ms/step - loss: 3.1664 - val_loss: 3.6025\n",
            "Epoch 21/200\n",
            "289/289 [==============================] - 35s 121ms/step - loss: 3.1257 - val_loss: 3.5841\n",
            "Epoch 22/200\n",
            "289/289 [==============================] - 35s 121ms/step - loss: 3.0880 - val_loss: 3.5683\n",
            "Epoch 23/200\n",
            "289/289 [==============================] - 35s 121ms/step - loss: 3.0520 - val_loss: 3.5539\n",
            "Epoch 24/200\n",
            "289/289 [==============================] - 35s 121ms/step - loss: 3.0165 - val_loss: 3.5400\n",
            "Epoch 25/200\n",
            "289/289 [==============================] - 35s 121ms/step - loss: 2.9838 - val_loss: 3.5279\n",
            "Epoch 26/200\n",
            "289/289 [==============================] - 35s 121ms/step - loss: 2.9513 - val_loss: 3.5170\n",
            "Epoch 27/200\n",
            "289/289 [==============================] - 35s 121ms/step - loss: 2.9217 - val_loss: 3.5062\n",
            "Epoch 28/200\n",
            "289/289 [==============================] - 35s 121ms/step - loss: 2.8923 - val_loss: 3.4968\n",
            "Epoch 29/200\n",
            "289/289 [==============================] - 35s 120ms/step - loss: 2.8636 - val_loss: 3.4880\n",
            "Epoch 30/200\n",
            "289/289 [==============================] - 35s 121ms/step - loss: 2.8370 - val_loss: 3.4802\n",
            "Epoch 31/200\n",
            "289/289 [==============================] - 35s 120ms/step - loss: 2.8097 - val_loss: 3.4731\n",
            "Epoch 32/200\n",
            "289/289 [==============================] - 35s 121ms/step - loss: 2.7852 - val_loss: 3.4657\n",
            "Epoch 33/200\n",
            "289/289 [==============================] - 35s 121ms/step - loss: 2.7613 - val_loss: 3.4592\n",
            "Epoch 34/200\n",
            "289/289 [==============================] - 35s 121ms/step - loss: 2.7369 - val_loss: 3.4534\n",
            "Epoch 35/200\n",
            "289/289 [==============================] - 35s 121ms/step - loss: 2.7137 - val_loss: 3.4479\n",
            "Epoch 36/200\n",
            "289/289 [==============================] - 35s 121ms/step - loss: 2.6914 - val_loss: 3.4426\n",
            "Epoch 37/200\n",
            "289/289 [==============================] - 35s 121ms/step - loss: 2.6696 - val_loss: 3.4381\n",
            "Epoch 38/200\n",
            "289/289 [==============================] - 35s 121ms/step - loss: 2.6488 - val_loss: 3.4341\n",
            "Epoch 39/200\n",
            "289/289 [==============================] - 35s 121ms/step - loss: 2.6274 - val_loss: 3.4287\n",
            "Epoch 40/200\n",
            "289/289 [==============================] - 35s 121ms/step - loss: 2.6076 - val_loss: 3.4253\n",
            "Epoch 41/200\n",
            "289/289 [==============================] - 35s 121ms/step - loss: 2.5883 - val_loss: 3.4224\n",
            "Epoch 42/200\n",
            "289/289 [==============================] - 35s 121ms/step - loss: 2.5684 - val_loss: 3.4186\n",
            "Epoch 43/200\n",
            "289/289 [==============================] - 35s 121ms/step - loss: 2.5499 - val_loss: 3.4155\n",
            "Epoch 44/200\n",
            "289/289 [==============================] - 35s 121ms/step - loss: 2.5314 - val_loss: 3.4138\n",
            "Epoch 45/200\n",
            "289/289 [==============================] - 35s 121ms/step - loss: 2.5131 - val_loss: 3.4109\n",
            "Epoch 46/200\n",
            "289/289 [==============================] - 35s 121ms/step - loss: 2.4956 - val_loss: 3.4082\n",
            "Epoch 47/200\n",
            "289/289 [==============================] - 35s 121ms/step - loss: 2.4779 - val_loss: 3.4061\n",
            "Epoch 48/200\n",
            "289/289 [==============================] - 35s 121ms/step - loss: 2.4627 - val_loss: 3.4048\n",
            "Epoch 49/200\n",
            "289/289 [==============================] - 35s 121ms/step - loss: 2.4455 - val_loss: 3.4027\n",
            "Epoch 50/200\n",
            "289/289 [==============================] - 35s 121ms/step - loss: 2.4284 - val_loss: 3.4011\n",
            "Epoch 51/200\n",
            "289/289 [==============================] - 35s 121ms/step - loss: 2.4145 - val_loss: 3.4002\n",
            "Epoch 52/200\n",
            "289/289 [==============================] - 35s 121ms/step - loss: 2.3970 - val_loss: 3.3988\n",
            "Epoch 53/200\n",
            "289/289 [==============================] - 35s 121ms/step - loss: 2.3830 - val_loss: 3.3973\n",
            "Epoch 54/200\n",
            "289/289 [==============================] - 35s 121ms/step - loss: 2.3677 - val_loss: 3.3962\n",
            "Epoch 55/200\n",
            "289/289 [==============================] - 35s 121ms/step - loss: 2.3530 - val_loss: 3.3962\n",
            "Epoch 56/200\n",
            "289/289 [==============================] - 35s 121ms/step - loss: 2.3383 - val_loss: 3.3954\n",
            "Epoch 57/200\n",
            "289/289 [==============================] - 35s 121ms/step - loss: 2.3235 - val_loss: 3.3954\n",
            "Epoch 58/200\n",
            "289/289 [==============================] - 35s 121ms/step - loss: 2.3095 - val_loss: 3.3959\n",
            "Epoch 59/200\n",
            "289/289 [==============================] - 35s 121ms/step - loss: 2.2962 - val_loss: 3.3945\n",
            "Epoch 60/200\n",
            "289/289 [==============================] - 35s 121ms/step - loss: 2.2824 - val_loss: 3.3951\n",
            "Epoch 61/200\n",
            "289/289 [==============================] - 35s 121ms/step - loss: 2.2684 - val_loss: 3.3937\n",
            "Epoch 62/200\n",
            "289/289 [==============================] - 35s 121ms/step - loss: 2.2565 - val_loss: 3.3945\n",
            "Epoch 63/200\n",
            "289/289 [==============================] - 35s 121ms/step - loss: 2.2429 - val_loss: 3.3955\n",
            "Epoch 64/200\n",
            "289/289 [==============================] - 35s 121ms/step - loss: 2.2296 - val_loss: 3.3951\n",
            "Epoch 65/200\n",
            "289/289 [==============================] - 35s 121ms/step - loss: 2.2176 - val_loss: 3.3947\n",
            "Epoch 66/200\n",
            "289/289 [==============================] - 35s 121ms/step - loss: 2.2039 - val_loss: 3.3961\n",
            "Epoch 00066: early stopping\n"
          ]
        }
      ],
      "source": [
        "# 모델 훈련하기\n",
        "from tensorflow.keras.optimizers import Adam\n",
        "# RMSprop은 주로 잡음이 많은 데이터셋에 특히 유용\n",
        "# model.compile(optimizer='rmsprop', loss='sparse_categorical_crossentropy')\n",
        "model.compile(optimizer=Adam(learning_rate=0.0001, beta_1=0.9, beta_2=0.999), loss='sparse_categorical_crossentropy')\n",
        "es = EarlyStopping(monitor='val_loss', patience=5, verbose=1)\n",
        "history = model.fit(x=[encoder_input_train, decoder_input_train], y=decoder_target_train, \\\n",
        "         validation_data=([encoder_input_test, decoder_input_test], decoder_target_test), \\\n",
        "         batch_size=256, callbacks=[es], epochs=200)"
      ]
    },
    {
      "cell_type": "code",
      "execution_count": null,
      "metadata": {
        "colab": {
          "base_uri": "https://localhost:8080/",
          "height": 430
        },
        "id": "x_4zM2yFho7e",
        "outputId": "3c4f431c-7ebb-45b4-ac34-d30626fcaf85"
      },
      "outputs": [
        {
          "data": {
            "image/png": "[encoded data removed]",
            "text/plain": [
              "<Figure size 432x288 with 1 Axes>"
            ]
          },
          "metadata": {
            "needs_background": "light"
          },
          "output_type": "display_data"
        }
      ],
      "source": [
        "# 훈련 데이터의 손실과 검증 데이터의 손실이 줄어드는 과정을 시각화\n",
        "plt.plot(history.history['loss'], label='train')\n",
        "plt.plot(history.history['val_loss'], label='test')\n",
        "plt.legend()\n",
        "plt.show()"
      ]
    },
    {
      "cell_type": "code",
      "execution_count": null,
      "metadata": {
        "id": "Au4_uDNghpBM"
      },
      "outputs": [],
      "source": [
        "# 인퍼런스(추론) 모델 구현\n",
        "src_index_to_word = src_tokenizer.index_word # 원문 단어 집합에서 정수 -> 단어를 얻음\n",
        "tar_word_to_index = tar_tokenizer.word_index # 요약 단어 집합에서 단어 -> 정수를 얻음\n",
        "tar_index_to_word = tar_tokenizer.index_word # 요약 단어 집합에서 정수 -> 단어를 얻음"
      ]
    },
    {
      "cell_type": "code",
      "execution_count": null,
      "metadata": {
        "id": "gUVN6O0laYMt"
      },
      "outputs": [],
      "source": [
        "# 인코더 설계\n",
        "encoder_model = Model(inputs=encoder_inputs, outputs=[encoder_output3, state_h3, state_c3])\n",
        "\n",
        "# 이전 시점의 상태들을 저장하는 텐서\n",
        "decoder_state_input_h = Input(shape=(hidden_size,))\n",
        "decoder_state_input_c = Input(shape=(hidden_size,))\n",
        "\n",
        "dec_emb2 = dec_emb_layer(decoder_inputs)\n",
        "\n",
        "# 문장의 다음 단어를 예측하기 위해서 초기 상태(initial_state)를 이전 시점의 상태로 사용. 이는 뒤의 함수 decode_sequence()에 구현\n",
        "# 훈련 과정에서와 달리 LSTM의 리턴하는 은닉 상태와 셀 상태인 state_h와 state_c를 버리지 않음.\n",
        "decoder_outputs2, state_h2, state_c2 = decoder_lstm(dec_emb2, initial_state=[decoder_state_input_h, decoder_state_input_c])"
      ]
    },
    {
      "cell_type": "code",
      "execution_count": null,
      "metadata": {
        "id": "2yO7TMF2ny-d"
      },
      "outputs": [],
      "source": [
        "# 어텐션 함수\n",
        "decoder_hidden_state_input = Input(shape=(text_max_len, hidden_size))\n",
        "attn_out_inf = attn_layer([decoder_outputs2, decoder_hidden_state_input])\n",
        "decoder_inf_concat = Concatenate(axis=-1, name='concat')([decoder_outputs2, attn_out_inf])\n",
        "\n",
        "# 디코더의 출력층\n",
        "decoder_outputs2 = decoder_softmax_layer(decoder_inf_concat)\n",
        "\n",
        "# 최종 디코더 모델\n",
        "decoder_model = Model(\n",
        "   [decoder_inputs] + [decoder_hidden_state_input,decoder_state_input_h, decoder_state_input_c],\n",
        "   [decoder_outputs2] + [state_h2, state_c2])"
      ]
    },
    {
      "cell_type": "code",
      "execution_count": null,
      "metadata": {
        "id": "T1AigCdTnzFk"
      },
      "outputs": [],
      "source": [
        "def decode_sequence(input_seq):\n",
        "   # 입력으로부터 인코더의 상태를 얻음\n",
        "   e_out, e_h, e_c = encoder_model.predict(input_seq)\n",
        "\n",
        "    # <SOS>에 해당하는 토큰 생성\n",
        "    # 디코딩을 시작하기 위해 디코더에 입력될 첫 번째 토큰, 즉 \"시작 토큰\"을 설정하는 역할​\n",
        "   target_seq = np.zeros((1,1)) # target_seq는 2차원 배열로, 행이 1개이고 열이 1개, [[0]]\n",
        "   target_seq[0, 0] = tar_word_to_index['sostoken']\n",
        "\n",
        "   stop_condition = False\n",
        "   decoded_sentence = ''\n",
        "   while not stop_condition: # stop_condition이 True가 될 때까지 루프 반복\n",
        "\n",
        "       output_tokens, h, c = decoder_model.predict([target_seq] + [e_out, e_h, e_c]) # 이 코드는 현재의 입력 토큰 및 인코더의 출력 및 상태값을 사용하여 디코더로 다음 토큰을 예측\n",
        "       sampled_token_index = np.argmax(output_tokens[0, -1, :]) # 배치의 첫 번째 시퀀스(0), 시퀀스의 마지막 토큰(-1) 및 모든 어휘 확률 중 가장 가능성이 높은 다음 단어의 인덱스 선택\n",
        "       sampled_token = tar_index_to_word[sampled_token_index]\n",
        "\n",
        "       if (sampled_token!='eostoken'):\n",
        "           decoded_sentence += ' '+sampled_token\n",
        "\n",
        "       #  <eos>에 도달하거나 최대 길이를 넘으면 중단.\n",
        "       if (sampled_token == 'eostoken'  or len(decoded_sentence.split()) >= (headline_max_len-1)):\n",
        "           stop_condition = True\n",
        "\n",
        "       # 길이가 1인 타겟 시퀀스를 업데이트\n",
        "       target_seq = np.zeros((1,1))\n",
        "       target_seq[0, 0] = sampled_token_index\n",
        "\n",
        "       # 상태를 업데이트 합니다.\n",
        "       e_h, e_c = h, c\n",
        "\n",
        "   return decoded_sentence"
      ]
    },
    {
      "cell_type": "code",
      "execution_count": null,
      "metadata": {
        "id": "s_ajRSC5nzMD"
      },
      "outputs": [],
      "source": [
        "# 원문의 정수 시퀀스를 텍스트 시퀀스로 변환\n",
        "def seq2text(input_seq):\n",
        "   temp=''\n",
        "   for i in input_seq:\n",
        "       if (i!=0):\n",
        "           temp = temp + src_index_to_word[i]+' '\n",
        "   return temp\n",
        "\n",
        "# 요약문의 정수 시퀀스를 텍스트 시퀀스로 변환\n",
        "def seq2summary(input_seq):\n",
        "   # [[YOUR CODE]]\n",
        "   temp=''\n",
        "   start_tok = tar_word_to_index['sostoken']\n",
        "   end_tok = tar_word_to_index['eostoken']\n",
        "\n",
        "   for i in input_seq:\n",
        "       if (i!=0 and i!=start_tok and i!=end_tok):\n",
        "           temp = temp + tar_index_to_word[i]+' '\n",
        "   return temp"
      ]
    },
    {
      "cell_type": "code",
      "execution_count": null,
      "metadata": {
        "colab": {
          "base_uri": "https://localhost:8080/"
        },
        "id": "JjC_0dcknzSL",
        "outputId": "f236af7f-fdd8-4561-d99a-63fdbeeda713"
      },
      "outputs": [
        {
          "name": "stdout",
          "output_type": "stream",
          "text": [
            "원문 : late actor vinod khanna was conferred with the dadasaheb phalke award at the th national awards announced on friday the award considered to be india highest award in cinema recognises outstanding contribution to the growth and development of indian cinema vinod khanna passed away in april last year after prolonged illness \n",
            "실제 요약 : vinod khanna gets dadasaheb phalke award posthumously \n",
            "예측 요약 :  anupam honoured with best actor at oscars\n",
            "\n",
            "\n",
            "원문 : deepika padukone who will be seen portraying acid attack victim laxmi in has said the upcoming film is about the human spirit it an important story to be told period it about bravery and triumph hopefully we will be able to bring about social change she added deepika further said there is lot to learn from laxmi journey \n",
            "실제 요약 : is about human spirit deepika on film on acid attack victim \n",
            "예측 요약 :  deepika confirms it was the the of padmavati deepika\n",
            "\n",
            "\n",
            "원문 : an amritsar bound passenger was arrested at the delhi airport today for allegedly concealing gold worth lakh in his belt the accused singh revealed to the authorities that he was supposed to hand over the gold to passenger named singh at the boarding gate area following this the latter was also arrested \n",
            "실제 요약 : passenger gold in belt arrested at delhi airport \n",
            "예측 요약 :  man held for smuggling gold worth lakh gold at delhi airport\n",
            "\n",
            "\n",
            "원문 : chennai doctors have successfully treated year old patient who was suffering from leak of fluid from his right ear who met with road accident in complained of intense headaches and pain in his ear in he was given ear drops to dissolve the mass from his ear until it was diagnosed as brain tissue \n",
            "실제 요약 : tn man undergoes surgery after brain tissue found from ear \n",
            "예측 요약 :  doctors patient dies after being denied cancer\n",
            "\n",
            "\n",
            "원문 : south korean appeals court has freed samsung heir jay lee and suspended his sentence for bribing the country former president park geun hye lee prison term has been reduced by half to years though he is free to go on probation for four years the court said lee was only guilty of bribing the of park geun hye \n",
            "실제 요약 : samsung heir freed from jail court suspends year sentence \n",
            "예측 요약 :  samsung gets its month jail for anti corruption case\n",
            "\n",
            "\n",
            "원문 : china is set to hold genetic screenings for athletes hoping to make the cut for the winter olympics complete genome will be applied on outstanding athletes competing in the winter games for speed endurance and explosive force with at least athletes in each group an official document read genome determines person complete unique dna profile \n",
            "실제 요약 : china to hold genetic screening of athletes for olympics \n",
            "예측 요약 :  china to host its first ever summit in south pole\n",
            "\n",
            "\n",
            "원문 : indian shooter singh won the women double trap gold in shoot off after scoring points to take india gold medal tally at commonwealth games to on wednesday this was her second cwg medal after having claimed silver at the glasgow games another indian shooter varsha finished fourth in the event scoring points \n",
            "실제 요약 : shooter wins india th gold medal at cwg \n",
            "예측 요약 :  india win gold silver at cwg\n",
            "\n",
            "\n",
            "원문 : indian batsman ajinkya rahane said that the indian team is lucky to have player like ms dhoni as his suggestions on the field are of great help to the players definitely ms dhoni has cricket left in him he is taking care of his fitness he is looking after his body he is looking after his diet rahane said \n",
            "실제 요약 : team india lucky to have dhoni ajinkya rahane \n",
            "예측 요약 :  dhoni is like the best bowler in india shane warne\n",
            "\n",
            "\n",
            "원문 : southwest airlines flight was forced to make an emergency landing in us new mexico on sunday night following which passengers jumped from an aircraft wing onto the tarmac smoke was reported in the cabin following which the dallas bound flight was diverted and crew members told passengers to get away from the aircraft two people were taken to hospital \n",
            "실제 요약 : passengers leap from aircraft wing after emergency landing \n",
            "예측 요약 :  engine flight makes emergency landing in cabin\n",
            "\n",
            "\n",
            "원문 : following reports of shiv sena workers in uttar pradesh threatening to disrupt valentine day celebrations shiv sena on monday clarified that it will not oppose such celebrations absolutely not party line will check who has done this and why party leader aaditya thackeray said whatever those individuals announced as the party stand is not the sena stand another leader said \n",
            "실제 요약 : not opposed to valentine day celebrations shiv sena \n",
            "예측 요약 :  sena will not be sena on diwali sena\n",
            "\n",
            "\n",
            "원문 : chennai based man who lost his baggage while travelling to usa on british airways flight in will get consumer disputes forum ruled subramanian said the airline offered him but no efforts were made to trace the baggage the forum said though the airline claimed it happened due to technical snag no proof was submitted \n",
            "실제 요약 : airline to pay man for luggage he lost years ago \n",
            "예측 요약 :  man who asked to pay off over lakh in plane\n",
            "\n",
            "\n",
            "원문 : around protesters took to the streets of london on saturday calling for reversal of the uk decision to leave the european union we ve to stop brexit which this incompetent dysfunctional government are trying to force upon us europe matters to this country and we have got to keep it liberal democrat mp participating in the demonstration said \n",
            "실제 요약 : protesters march in london demanding exit from brexit \n",
            "예측 요약 :  uk mayor calls for uk flag as brexit\n",
            "\n",
            "\n",
            "원문 : the official trailer of fifty shades freed the final instalment of the fifty shades trilogy has been released jamie will reprise his role as christian grey while dakota johnson will return as anastasia in the film which is based on el james novel directed by james the film is scheduled to release on valentine day next year \n",
            "실제 요약 : trailer of fifty freed released \n",
            "예측 요약 :  trailer of the moon of the year old out\n",
            "\n",
            "\n",
            "원문 : actress and unicef global goodwill ambassador priyanka chopra has said that she asks people to donate their compassion if they do not have enough money to donate to social cause she added have voice have platform which you people have given me some change will be done am sure priyanka further said she is just an instrument of change \n",
            "실제 요약 : if you cannot donate money then donate priyanka \n",
            "예측 요약 :  if you are money to get money on demand priyanka\n",
            "\n",
            "\n",
            "원문 : congress raebareli mla aditi singh has refuted rumours of marriage with party president rahul gandhi stating that he is her rakhi brother the year old claimed that the rumours were propaganda to distract congress workers from karnataka assembly elections the rumours first circulated on whatsapp groups in raebareli claimed the wedding will take place in may this year \n",
            "실제 요약 : mla aditi singh denies rumours of marriage with rahul gandhi \n",
            "예측 요약 :  rahul gandhi is congress mla says she is pregnant congress\n",
            "\n",
            "\n",
            "원문 : australian captain steve smith and opener cameron bancroft have admitted to ball tampering during the third test against south africa on saturday bancroft has been charged with altering the condition of the ball after he was caught on camera rubbing the ball with yellow tape the leadership group knew about it am not proud of it said smith \n",
            "실제 요약 : australia admit to ball tampering in rd test vs south africa \n",
            "예측 요약 :  steve smith once hit by ball tampering in australia\n",
            "\n",
            "\n",
            "원문 : german chancellor angela merkel has topped forbes most powerful women list for the th consecutive year and for the th time in total uk pm theresa may was ranked second on the list with bill melinda gates foundation co chair melinda gates at the third position nearly half the women on the list are american \n",
            "실제 요약 : merkel named world most powerful woman for th time \n",
            "예측 요약 :  uk tops list of the most female female billionaires\n",
            "\n",
            "\n",
            "원문 : indian origin actor kal penn has shared scripts he received during his early days as an actor in hollywood where he was offered roles to play snake and fire eaters or even gandhi lookalike for character called careem kal was asked if he could make his accent more authentic twitter users slammed the roles as racist stereotypes of indians \n",
            "실제 요약 : offered snake role in early wood career kal \n",
            "예측 요약 :  yr old actress sings for girlfriend during audition\n",
            "\n",
            "\n",
            "원문 : kuwaiti developer omar khalil has created an augmented reality app called which allows users to paint in mid air using gps in real time the app then saves the images and its precise location to service which can be viewed through the ar lens by other users the app also has report button for offensive images \n",
            "실제 요약 : app lets users make images in air save for others to see \n",
            "예측 요약 :  app lets users track their air on their app\n",
            "\n",
            "\n",
            "원문 : leopards at uttarakhand rescue centre located on the outskirts of haridwar are being fed chickens due to the shortage of beef after the crackdown on illegal slaughterhouses in up as per forest department officials the leopards need kg of protein and fat rich meat being hindu pilgrimage centre there are no slaughterhouses or meat shops in haridwar \n",
            "실제 요약 : uttarakhand leopards fed due to shortage of beef \n",
            "예측 요약 :  uttarakhand villagers shut down due to heavy rains\n",
            "\n",
            "\n",
            "원문 : saudi prince alwaleed bin talal the middle east richest person was released from detention on saturday his family sources said the billionaire was being held at five star hotel in riyadh since november last year he was arrested along with more than other suspects as part of saudi arabia crackdown on corruption \n",
            "실제 요약 : saudi releases middle east richest person from \n",
            "예측 요약 :  saudi crown prince wealth after years\n",
            "\n",
            "\n",
            "원문 : two boys have been arrested in jammu for allegedly taking part in the kiki challenge which requires them to get out of slow moving car and dance to drake in my feelings the boys were arrested after they shared video of the challenge on facebook the police said their actions endangered their lives and the lives of others \n",
            "실제 요약 : two boys arrested for viral kiki challenge \n",
            "예측 요약 :  arrested for trying to drive through selfie with them\n",
            "\n",
            "\n",
            "원문 : the election commission has barred madhya pradesh minister mishra from contesting elections for three years over paid news allegations during assembly polls the complaint was filed by former congress mla rajendra bharti in april while mishra had earlier approached the mp high court seeking to quash the inquiry by the ec his plea was rejected \n",
            "실제 요약 : ec imposes year poll ban on mp minister over paid news \n",
            "예측 요약 :  telangana cm wins election in telangana assembly elections\n",
            "\n",
            "\n",
            "원문 : us based startup has created bluetooth connected hat that lets users listen to music or make phone calls without earphones it comes with four built in bone speakers that transfer sound to users inner ear by transmitting sound waves through the bones in the skull the water resistant hat can last up to hours on single charge \n",
            "실제 요약 : hat lets users listen to music without \n",
            "예측 요약 :  smart lets users make their own own app\n",
            "\n",
            "\n",
            "원문 : singer and bigg boss contestant anup jalota revealed during the show that he spent lakh to get hair strands transplanted after he lost all of his front hair though spent per hair strand have heard some people charge per strand he added hair from my beard was also taken for the transplant said jalota \n",
            "실제 요약 : got hair transplant spent lakh on hair jalota \n",
            "예측 요약 :  hina khan donates lakh to hospital\n",
            "\n",
            "\n",
            "원문 : reacting to us president donald trump announcing the fake news awards twitter user wrote trump put more effort into the than he has into being president while other users tweeted if only the president of the united states worried more about his people and so basically the is awarded to anyone who disagrees with trump \n",
            "실제 요약 : twitter users react to trump fake news awards \n",
            "예측 요약 :  twitter mocks trump for word word of word\n",
            "\n",
            "\n",
            "원문 : eight time olympic gold medalist and former sprinter usain bolt has revealed that he wants to begin his professional football career in bolt said that lot of clubs have reached out to him and he would start training next year after recovering fully from his hamstring injury which he suffered during his career last ever race in august this year \n",
            "실제 요약 : time olympic champ bolt may begin football career in \n",
            "예측 요약 :  usain bolt will not be part of the world usain bolt\n",
            "\n",
            "\n",
            "원문 : pluto surface once had frozen glaciers of nitrogen that were formed and disappeared in the early stages of pluto history according to study the researchers at institute used imagery from nasa spacecraft new horizons rapidly changing weather on pluto turned the ice into gas leading to formation of landscapes termed as and terrains \n",
            "실제 요약 : pluto surface once had frozen of study \n",
            "예측 요약 :  new moon is the second ever of planet study\n",
            "\n",
            "\n",
            "원문 : turtle with two heads and six legs has been found in china the baby red which was unknowingly purchased by pet store owner can reportedly move and eat like its counterparts further all its eyes blink and legs move meanwhile researchers said the anomaly was caused by genetic mutation just like human \n",
            "실제 요약 : turtle with heads legs found in china \n",
            "예측 요약 :  woman undergoes surgery to avoid juventus\n",
            "\n",
            "\n",
            "원문 : japan based study has revealed that only of earth surface enough toxic hydrocarbons to cause mass extinction following an asteroid impact km wide asteroid struck at mexico peninsula million years ago sending millions of tons of into the atmosphere which cooled the planet enough to trigger mass extinction of species including dinosaurs \n",
            "실제 요약 : dinosaur killing asteroid had chance of doing so study \n",
            "예측 요약 :  earth could lose earth on earth study\n",
            "\n",
            "\n",
            "원문 : two bike borne men on saturday snatched the phone of gambhir the diplomat who had called pakistan in un in delhi gambhir currently on vacation in the capital was out on walk with her mother when the men stopped her on the pretext of asking directions reports said the phone an iphone plus contained crucial official documents \n",
            "실제 요약 : phone of envoy who called pak stolen in delhi \n",
            "예측 요약 :  police website hacked to death for not hyd\n",
            "\n",
            "\n",
            "원문 : lizard survived flight from spain to scotland after getting trapped within bag of broccoli the broccoli finally reached supermarket in scottish county where an employee discovered it the scottish society for the prevention of cruelty to animals said the lizard was dehydrated but otherwise unharmed from his adventures and is being cared for by experts \n",
            "실제 요약 : lizard found in pack survives international flight \n",
            "예측 요약 :  flight makes kg that can be part of the flight\n",
            "\n",
            "\n",
            "원문 : amid suspicions of saudi crown prince mohammed bin salman possible involvement in the killing of journalist jamal khashoggi french president emmanuel macron was heard telling him you never listen to me no listen it ok can deal with it the saudi crown prince replied to macron macron conveyed very firm message to the prince french presidential palace said \n",
            "실제 요약 : you never listen to me french prez macron tells saudi crown prince \n",
            "예측 요약 :  saudi journo journo may be replaced by journalist saudi crown prince\n",
            "\n",
            "\n",
            "원문 : the maratha kranti morcha has said that it is carrying out peaceful protest in maharashtra for reservations for the community and are not blocking any roads it added that workers have been told not to inconvenience the police or the government this comes amid reports of stone pelting and of vehicles by protestors in some areas \n",
            "실제 요약 : holding peaceful protest for quota maratha morcha \n",
            "예측 요약 :  no need to ensure no cauvery on tn cm yogi\n",
            "\n",
            "\n",
            "원문 : patidar leader hardik patel who has been on an indefinite fast since august to press for reservation for his community was admitted to hospital on friday after his health deteriorated the hospital gave him glucose and stated that his vital parameters were normal meanwhile loktantrik janata dal leader sharad yadav and dmk leader raja visited him there \n",
            "실제 요약 : hardik patel admitted to hospital amid indefinite fast \n",
            "예측 요약 :  hardik patel hospitalised after fast fast for days\n",
            "\n",
            "\n",
            "원문 : madhya pradesh assembly was adjourned for the day on wednesday following uproar over college geography textbook describing tribal group as cow and beef eaters the issue was raised by congress leader of opposition ajay singh stating it was highly objectionable and amounted to an insult to the tribals singh also demanded statement from cm shivraj singh chouhan \n",
            "실제 요약 : madhya pradesh assembly adjourned over book row \n",
            "예측 요약 :  mp govt gives up language to protest against cow slaughter\n",
            "\n",
            "\n",
            "원문 : samajwadi party leader shivpal yadav has said his nephew akhilesh would have been re elected as uttar pradesh cm after the assembly elections if he had listened to his elders adding that akhilesh played as kid in his lap shivpal said he took care of him and got him married but the new generation does not listen to anyone \n",
            "실제 요약 : akhilesh would be cm if he to uncle shivpal \n",
            "예측 요약 :  akhilesh yadav is the first bsp chief\n",
            "\n",
            "\n",
            "원문 : us based study has found washing hands in cold water removed the same amount of harmful bacteria as hot researchers asked volunteers to wash their hands times each at and water temperatures using varying amounts of soap we are wasting energy to heat water to level that is not necessary researchers said \n",
            "실제 요약 : cool water as effective as hot for removing study \n",
            "예측 요약 :  bacteria could help study study\n",
            "\n",
            "\n",
            "원문 : the first look poster of fukrey returns sequel to the film fukrey has been revealed by the film makers the film will star actors richa chadha pulkit samrat ali fazal and manjot singh in pivotal roles co produced by farhan akhtar and ritesh the comedy drama is scheduled to release on december \n",
            "실제 요약 : first look poster of fukrey sequel revealed \n",
            "예측 요약 :  teaser of kalki returns from upcoming film out\n",
            "\n",
            "\n",
            "원문 : an army jawan carrying two grenades was arrested by the police on monday at srinagar airport the jawan was about to board flight to delhi when grenades were found in his luggage as per reports the jawan has revealed that major in the army had given him the grenades to hand them over to someone in delhi \n",
            "실제 요약 : army jawan arrested with grenades at srinagar airport \n",
            "예측 요약 :  army jawan arrested for throwing at delhi airport\n",
            "\n",
            "\n",
            "원문 : karnataka pradesh congress committee has announced lakh compensation to the kin of the people who died after eating prasad from temple in the state at least people died and over were hospitalised due to food poisoning after eating the rice prasad on friday meanwhile karnataka government announced lakh compensation to families of the deceased \n",
            "실제 요약 : congress announces lakh to kin of taka temple victims \n",
            "예측 요약 :  taka cm kin of lakh tragedy due to hospital\n",
            "\n",
            "\n",
            "원문 : shiv sena chief uddhav thackeray has criticised the bjp led centre for not taking action against karnataka government offensive demand for separate flag he said it was part of bjp plan to win the upcoming karnataka assembly elections the state government should also be slapped with sedition charges over the demand he added \n",
            "실제 요약 : sena slams centre over inaction against taka flag demand \n",
            "예측 요약 :  bjp should not contest politics shiv sena\n",
            "\n",
            "\n",
            "원문 : an year old man in rajasthan married year old woman so that he could get son to look after the property owned by him according to reports the man is still married to his first wife with whom he has two daughters he had lost his only son years ago due to disease \n",
            "실제 요약 : year old man marries year old woman to have son \n",
            "예측 요약 :  man spends month old son with mother for days\n",
            "\n",
            "\n",
            "원문 : champions league holders real madrid opened their title defence with win over cyprus based on wednesday with cristiano ronaldo hitting the back of the net twice with this all time record goalscorer ronaldo has increased his tally to goals elsewhere manchester city also grabbed win in their opening match of the campaign by beating \n",
            "실제 요약 : ronaldo scores twice as defending champs real madrid win \n",
            "예측 요약 :  real madrid beat ronaldo to register th straight cl title\n",
            "\n",
            "\n",
            "원문 : congress leader chidambaram on sunday said that the implementation design structure infrastructure backbone and rates of gst were so flawed that it has become bad word among traders and common citizens government did bad things in big way demonetisation or big things in bad way gst he added \n",
            "실제 요약 : gst became bad word due to flawed execution chidambaram \n",
            "예측 요약 :  gst is the of gst chidambaram\n",
            "\n",
            "\n",
            "원문 : year old man from ranchi has been charged of trying to sacrifice his mother allegedly under the influence of drugs to appease hindu goddess the accused umesh singh attacked his year old mother in her sleep with dagger on wednesday reports said the elderly lady was recovering from her wounds while her son was absconding \n",
            "실제 요약 : man attacks mother to sacrifice her before hindu goddess \n",
            "예측 요약 :  man gets death penalty for refusing to bring into law\n",
            "\n",
            "\n",
            "원문 : the government on tuesday clarified that aadhaar has not been made mandatory for getting pension for government employees the government said that aadhaar is an additional facility to enable the use of technology for submission of life certificate without visiting banks there are about lakh central government employees and lakh pensioners \n",
            "실제 요약 : aadhaar not mandatory for getting pension govt \n",
            "예측 요약 :  aadhaar mandatory for not linking aadhaar number\n",
            "\n",
            "\n",
            "원문 : black woman was left topless after she was forced to the ground by police officers during an arrest at restaurant in alabama us video of the incident showed the woman top slipping after officers tried to forcibly turn her while she was on the floor she was being arrested following dispute over paying for plastic utensils \n",
            "실제 요약 : black woman left topless during arrest in us \n",
            "예측 요약 :  woman who tried to enter police station gets stuck in us\n",
            "\n",
            "\n",
            "원문 : year old us blogger named is being criticised after she lost her iphone in jaipur and called india poorest most overcrowded country on instagram that phone is worth more money than some people in this country will have their whole lifetime she added stranger found her phone and returned it to her which she called miracle \n",
            "실제 요약 : us blogger loses iphone in jaipur calls india poorest country \n",
            "예측 요약 :  man who lost iphone times the most times in india\n",
            "\n",
            "\n",
            "원문 : alia bhatt while praising ranbir kapoor starrer sanju said that the film is now included in her top best films list and she found ranbir outstanding in it it fantastic fabulous and outstanding film it full package really liked it she added sanju biopic on sanjay dutt has become highest opening day grosser \n",
            "실제 요약 : sanju in my top films list ranbir is outstanding alia \n",
            "예측 요약 :  ranbir is the most ever ranbir alia\n",
            "\n",
            "\n"
          ]
        }
      ],
      "source": [
        "# 테스트 데이터 약 50개의 샘플에 대해서 실제 요약과 예측된 요약을 비교\n",
        "\n",
        "for i in range(50, 100):\n",
        "   print(\"원문 :\", seq2text(encoder_input_test[i]))\n",
        "   print(\"실제 요약 :\", seq2summary(decoder_input_test[i]))\n",
        "   print(\"예측 요약 :\", decode_sequence(encoder_input_test[i].reshape(1, text_max_len)))\n",
        "   print(\"\\n\")"
      ]
    },
    {
      "cell_type": "code",
      "execution_count": null,
      "metadata": {
        "id": "lJFq42DcnzYR"
      },
      "outputs": [],
      "source": []
    },
    {
      "cell_type": "code",
      "execution_count": null,
      "metadata": {
        "id": "vFYI9c2GnzeY"
      },
      "outputs": [],
      "source": []
    },
    {
      "cell_type": "code",
      "execution_count": null,
      "metadata": {
        "id": "0m48-Y7MaYSo"
      },
      "outputs": [],
      "source": []
    }
  ],
  "metadata": {
    "accelerator": "GPU",
    "colab": {
      "gpuType": "T4",
      "provenance": [],
      "include_colab_link": true
    },
    "kernelspec": {
      "display_name": "Python 3 (ipykernel)",
      "language": "python",
      "name": "python3"
    },
    "language_info": {
      "codemirror_mode": {
        "name": "ipython",
        "version": 3
      },
      "file_extension": ".py",
      "mimetype": "text/x-python",
      "name": "python",
      "nbconvert_exporter": "python",
      "pygments_lexer": "ipython3",
      "version": "3.9.7"
    }
  },
  "nbformat": 4,
  "nbformat_minor": 0
}