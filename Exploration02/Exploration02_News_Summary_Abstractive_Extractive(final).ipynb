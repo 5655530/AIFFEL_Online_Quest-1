{
  "cells": [
    {
      "cell_type": "markdown",
      "metadata": {
        "id": "view-in-github",
        "colab_type": "text"
      },
      "source": [
        "<a href=\"https://colab.research.google.com/github/comandi1969/AIFFEL_Online_Quest/blob/main/Exploration02/Exploration02_News_Summary_Abstractive_Extractive(final).ipynb\" target=\"_parent\"><img src=\"https://colab.research.google.com/assets/colab-badge.svg\" alt=\"Open In Colab\"/></a>"
      ]
    },
    {
      "cell_type": "code",
      "execution_count": null,
      "metadata": {
        "colab": {
          "base_uri": "https://localhost:8080/"
        },
        "id": "hjPI68OTSKcM",
        "outputId": "3d655629-575c-47a0-e602-2f6e334331d4"
      },
      "outputs": [
        {
          "name": "stderr",
          "output_type": "stream",
          "text": [
            "[nltk_data] Downloading package stopwords to /aiffel/nltk_data...\n",
            "[nltk_data]   Package stopwords is already up-to-date!\n"
          ]
        }
      ],
      "source": [
        "# 데이터 전처리를 위한 나머지 패키지 임포트\n",
        "import nltk\n",
        "nltk.download('stopwords')\n",
        "\n",
        "import numpy as np\n",
        "import pandas as pd\n",
        "import os\n",
        "import re\n",
        "import matplotlib.pyplot as plt\n",
        "from nltk.corpus import stopwords\n",
        "from bs4 import BeautifulSoup\n",
        "from tensorflow.keras.preprocessing.text import Tokenizer\n",
        "from tensorflow.keras.preprocessing.sequence import pad_sequences\n",
        "import urllib.request\n",
        "import warnings\n",
        "warnings.filterwarnings(\"ignore\", category=UserWarning, module='bs4')"
      ]
    },
    {
      "cell_type": "code",
      "execution_count": null,
      "metadata": {
        "colab": {
          "base_uri": "https://localhost:8080/",
          "height": 143
        },
        "id": "k8zChm96m7r8",
        "outputId": "a54279ae-31f9-4011-a779-2025f35b8381"
      },
      "outputs": [
        {
          "data": {
            "text/html": [
              "<div>\n",
              "<style scoped>\n",
              "    .dataframe tbody tr th:only-of-type {\n",
              "        vertical-align: middle;\n",
              "    }\n",
              "\n",
              "    .dataframe tbody tr th {\n",
              "        vertical-align: top;\n",
              "    }\n",
              "\n",
              "    .dataframe thead th {\n",
              "        text-align: right;\n",
              "    }\n",
              "</style>\n",
              "<table border=\"1\" class=\"dataframe\">\n",
              "  <thead>\n",
              "    <tr style=\"text-align: right;\">\n",
              "      <th></th>\n",
              "      <th>headlines</th>\n",
              "      <th>text</th>\n",
              "    </tr>\n",
              "  </thead>\n",
              "  <tbody>\n",
              "    <tr>\n",
              "      <th>42548</th>\n",
              "      <td>Fraud-hit PNB issued over 41,000 LoUs since 20...</td>\n",
              "      <td>The government has informed that fraud-hit PNB...</td>\n",
              "    </tr>\n",
              "    <tr>\n",
              "      <th>74313</th>\n",
              "      <td>I give Sunil Grover a call whenever I feel lik...</td>\n",
              "      <td>Comedian-TV host Kapil Sharma, while respondin...</td>\n",
              "    </tr>\n",
              "    <tr>\n",
              "      <th>22667</th>\n",
              "      <td>Try dumping garbage in front of L-G house: SC ...</td>\n",
              "      <td>Slamming civic authorities for poor waste mana...</td>\n",
              "    </tr>\n",
              "  </tbody>\n",
              "</table>\n",
              "</div>"
            ],
            "text/plain": [
              "                                               headlines  \\\n",
              "42548  Fraud-hit PNB issued over 41,000 LoUs since 20...   \n",
              "74313  I give Sunil Grover a call whenever I feel lik...   \n",
              "22667  Try dumping garbage in front of L-G house: SC ...   \n",
              "\n",
              "                                                    text  \n",
              "42548  The government has informed that fraud-hit PNB...  \n",
              "74313  Comedian-TV host Kapil Sharma, while respondin...  \n",
              "22667  Slamming civic authorities for poor waste mana...  "
            ]
          },
          "execution_count": 2,
          "metadata": {},
          "output_type": "execute_result"
        }
      ],
      "source": [
        "# 데이터 준비\n",
        "import urllib.request\n",
        "urllib.request.urlretrieve(\"https://raw.githubusercontent.com/sunnysai12345/News_Summary/master/news_summary_more.csv\", filename=\"news_summary_more.csv\")\n",
        "data = pd.read_csv('news_summary_more.csv', encoding='iso-8859-1')\n",
        "data.sample(3)"
      ]
    },
    {
      "cell_type": "code",
      "execution_count": null,
      "metadata": {
        "colab": {
          "base_uri": "https://localhost:8080/"
        },
        "id": "vwjBcbhyUMxO",
        "outputId": "3830a8e1-5030-413d-dcbe-380063e253f4"
      },
      "outputs": [
        {
          "name": "stdout",
          "output_type": "stream",
          "text": [
            "전체 샘플수 : 98401\n"
          ]
        }
      ],
      "source": [
        "print('전체 샘플수 :', (len(data)))"
      ]
    },
    {
      "cell_type": "code",
      "execution_count": null,
      "metadata": {
        "colab": {
          "base_uri": "https://localhost:8080/"
        },
        "id": "jEhpcB3aUM9p",
        "outputId": "28e52c07-f346-483b-98a9-567823570c5c"
      },
      "outputs": [
        {
          "name": "stdout",
          "output_type": "stream",
          "text": [
            "headlines 열에서 중복을 배제한 유일한 샘플의 수 : 98280\n",
            "text 열에서 중복을 배제한 유일한 샘플의 수 : 98360\n"
          ]
        }
      ],
      "source": [
        "print('headlines 열에서 중복을 배제한 유일한 샘플의 수 :', data['headlines'].nunique())\n",
        "print('text 열에서 중복을 배제한 유일한 샘플의 수 :', data['text'].nunique())"
      ]
    },
    {
      "cell_type": "code",
      "execution_count": null,
      "metadata": {
        "colab": {
          "base_uri": "https://localhost:8080/"
        },
        "id": "QrEJqbyKUNFH",
        "outputId": "e5222815-85d5-4673-ce23-bea290f5fc8f"
      },
      "outputs": [
        {
          "name": "stdout",
          "output_type": "stream",
          "text": [
            "전체 샘플수 : 98360\n"
          ]
        }
      ],
      "source": [
        "data.drop_duplicates(subset = ['text'], inplace=True)\n",
        "print('전체 샘플수 :', (len(data)))"
      ]
    },
    {
      "cell_type": "code",
      "execution_count": null,
      "metadata": {
        "colab": {
          "base_uri": "https://localhost:8080/"
        },
        "id": "Woqt0exhV3uR",
        "outputId": "142394fa-d819-4d89-959f-92940f97d8cf"
      },
      "outputs": [
        {
          "name": "stdout",
          "output_type": "stream",
          "text": [
            "headlines    0\n",
            "text         0\n",
            "dtype: int64\n"
          ]
        }
      ],
      "source": [
        "print(data.isnull().sum())"
      ]
    },
    {
      "cell_type": "code",
      "execution_count": null,
      "metadata": {
        "colab": {
          "base_uri": "https://localhost:8080/"
        },
        "id": "W2auSlPwXdoI",
        "outputId": "2e1c3241-d996-4d77-ca6e-abc3ef5b2f47"
      },
      "outputs": [
        {
          "name": "stdout",
          "output_type": "stream",
          "text": [
            "Article: Saurav Kant, an alumnus of upGrad and IIIT-B's PG Program in Machine learning and Artificial Intelligence, was a Sr Systems Engineer at Infosys with almost 5 years of work experience. The program and upGrad's 360-degree career support helped him transition to a Data Scientist at Tech Mahindra with 90% salary hike. upGrad's Online Power Learning has powered 3 lakh+ careers.\n",
            "Headlines: upGrad learner switches to career in ML & Al with 90% salary hike\n",
            "--------------------------------------------------\n",
            "Article: Kunal Shah's credit card bill payment platform, CRED, gave users a chance to win free food from Swiggy for one year. Pranav Kaushik, a Delhi techie, bagged this reward after spending 2000 CRED coins. Users get one CRED coin per rupee of bill paid, which can be used to avail rewards from brands like Ixigo, BookMyShow, UberEats, Cult.Fit and more.\n",
            "Headlines: Delhi techie wins free food from Swiggy for one year on CRED\n",
            "--------------------------------------------------\n",
            "Article: New Zealand defeated India by 8 wickets in the fourth ODI at Hamilton on Thursday to win their first match of the five-match ODI series. India lost an international match under Rohit Sharma's captaincy after 12 consecutive victories dating back to March 2018. The match witnessed India getting all out for 92, their seventh lowest total in ODI cricket history.\n",
            "Headlines: New Zealand end Rohit Sharma-led India's 12-match winning streak\n",
            "--------------------------------------------------\n"
          ]
        }
      ],
      "source": [
        "# 3개 데이터 확인\n",
        "sampled_data = data.head(3)\n",
        "\n",
        "for idx, row in sampled_data.iterrows():\n",
        "    print(f\"Article: {row['text']}\")\n",
        "    print(f\"Headlines: {row['headlines']}\")\n",
        "    print(\"-\" * 50)  # This will print a separator line"
      ]
    },
    {
      "cell_type": "code",
      "execution_count": null,
      "metadata": {
        "colab": {
          "base_uri": "https://localhost:8080/"
        },
        "id": "2hJhnf07V7p0",
        "outputId": "298f6555-f216-4f46-dc30-27f49e7799db"
      },
      "outputs": [
        {
          "name": "stdout",
          "output_type": "stream",
          "text": [
            "정규화 사전의 수:  120\n"
          ]
        }
      ],
      "source": [
        "# 텍스트 정규화를 위한 사전(dictionary)을 아래와 같이 구성\n",
        "contractions = {\"ain't\": \"is not\", \"aren't\": \"are not\",\"can't\": \"cannot\", \"'cause\": \"because\", \"could've\": \"could have\", \"couldn't\": \"could not\",\n",
        "                          \"didn't\": \"did not\",  \"doesn't\": \"does not\", \"don't\": \"do not\", \"hadn't\": \"had not\", \"hasn't\": \"has not\", \"haven't\": \"have not\",\n",
        "                          \"he'd\": \"he would\",\"he'll\": \"he will\", \"he's\": \"he is\", \"how'd\": \"how did\", \"how'd'y\": \"how do you\", \"how'll\": \"how will\", \"how's\": \"how is\",\n",
        "                          \"I'd\": \"I would\", \"I'd've\": \"I would have\", \"I'll\": \"I will\", \"I'll've\": \"I will have\",\"I'm\": \"I am\", \"I've\": \"I have\", \"i'd\": \"i would\",\n",
        "                          \"i'd've\": \"i would have\", \"i'll\": \"i will\",  \"i'll've\": \"i will have\",\"i'm\": \"i am\", \"i've\": \"i have\", \"isn't\": \"is not\", \"it'd\": \"it would\",\n",
        "                          \"it'd've\": \"it would have\", \"it'll\": \"it will\", \"it'll've\": \"it will have\",\"it's\": \"it is\", \"let's\": \"let us\", \"ma'am\": \"madam\",\n",
        "                          \"mayn't\": \"may not\", \"might've\": \"might have\",\"mightn't\": \"might not\",\"mightn't've\": \"might not have\", \"must've\": \"must have\",\n",
        "                          \"mustn't\": \"must not\", \"mustn't've\": \"must not have\", \"needn't\": \"need not\", \"needn't've\": \"need not have\",\"o'clock\": \"of the clock\",\n",
        "                          \"oughtn't\": \"ought not\", \"oughtn't've\": \"ought not have\", \"shan't\": \"shall not\", \"sha'n't\": \"shall not\", \"shan't've\": \"shall not have\",\n",
        "                          \"she'd\": \"she would\", \"she'd've\": \"she would have\", \"she'll\": \"she will\", \"she'll've\": \"she will have\", \"she's\": \"she is\",\n",
        "                          \"should've\": \"should have\", \"shouldn't\": \"should not\", \"shouldn't've\": \"should not have\", \"so've\": \"so have\",\"so's\": \"so as\",\n",
        "                          \"this's\": \"this is\",\"that'd\": \"that would\", \"that'd've\": \"that would have\", \"that's\": \"that is\", \"there'd\": \"there would\",\n",
        "                          \"there'd've\": \"there would have\", \"there's\": \"there is\", \"here's\": \"here is\",\"they'd\": \"they would\", \"they'd've\": \"they would have\",\n",
        "                          \"they'll\": \"they will\", \"they'll've\": \"they will have\", \"they're\": \"they are\", \"they've\": \"they have\", \"to've\": \"to have\",\n",
        "                          \"wasn't\": \"was not\", \"we'd\": \"we would\", \"we'd've\": \"we would have\", \"we'll\": \"we will\", \"we'll've\": \"we will have\", \"we're\": \"we are\",\n",
        "                          \"we've\": \"we have\", \"weren't\": \"were not\", \"what'll\": \"what will\", \"what'll've\": \"what will have\", \"what're\": \"what are\",\n",
        "                          \"what's\": \"what is\", \"what've\": \"what have\", \"when's\": \"when is\", \"when've\": \"when have\", \"where'd\": \"where did\", \"where's\": \"where is\",\n",
        "                          \"where've\": \"where have\", \"who'll\": \"who will\", \"who'll've\": \"who will have\", \"who's\": \"who is\", \"who've\": \"who have\",\n",
        "                          \"why's\": \"why is\", \"why've\": \"why have\", \"will've\": \"will have\", \"won't\": \"will not\", \"won't've\": \"will not have\",\n",
        "                          \"would've\": \"would have\", \"wouldn't\": \"would not\", \"wouldn't've\": \"would not have\", \"y'all\": \"you all\",\n",
        "                          \"y'all'd\": \"you all would\",\"y'all'd've\": \"you all would have\",\"y'all're\": \"you all are\",\"y'all've\": \"you all have\",\n",
        "                          \"you'd\": \"you would\", \"you'd've\": \"you would have\", \"you'll\": \"you will\", \"you'll've\": \"you will have\",\n",
        "                          \"you're\": \"you are\", \"you've\": \"you have\"}\n",
        "\n",
        "print(\"정규화 사전의 수: \", len(contractions))"
      ]
    },
    {
      "cell_type": "code",
      "execution_count": null,
      "metadata": {
        "colab": {
          "base_uri": "https://localhost:8080/"
        },
        "id": "dzco6aMRWyMr",
        "outputId": "0e4bf672-e260-4b86-a05c-96a520f6dd0e"
      },
      "outputs": [
        {
          "name": "stdout",
          "output_type": "stream",
          "text": [
            "불용어 개수 : 179\n",
            "['i', 'me', 'my', 'myself', 'we', 'our', 'ours', 'ourselves', 'you', \"you're\", \"you've\", \"you'll\", \"you'd\", 'your', 'yours', 'yourself', 'yourselves', 'he', 'him', 'his', 'himself', 'she', \"she's\", 'her', 'hers', 'herself', 'it', \"it's\", 'its', 'itself', 'they', 'them', 'their', 'theirs', 'themselves', 'what', 'which', 'who', 'whom', 'this', 'that', \"that'll\", 'these', 'those', 'am', 'is', 'are', 'was', 'were', 'be', 'been', 'being', 'have', 'has', 'had', 'having', 'do', 'does', 'did', 'doing', 'a', 'an', 'the', 'and', 'but', 'if', 'or', 'because', 'as', 'until', 'while', 'of', 'at', 'by', 'for', 'with', 'about', 'against', 'between', 'into', 'through', 'during', 'before', 'after', 'above', 'below', 'to', 'from', 'up', 'down', 'in', 'out', 'on', 'off', 'over', 'under', 'again', 'further', 'then', 'once', 'here', 'there', 'when', 'where', 'why', 'how', 'all', 'any', 'both', 'each', 'few', 'more', 'most', 'other', 'some', 'such', 'no', 'nor', 'not', 'only', 'own', 'same', 'so', 'than', 'too', 'very', 's', 't', 'can', 'will', 'just', 'don', \"don't\", 'should', \"should've\", 'now', 'd', 'll', 'm', 'o', 're', 've', 'y', 'ain', 'aren', \"aren't\", 'couldn', \"couldn't\", 'didn', \"didn't\", 'doesn', \"doesn't\", 'hadn', \"hadn't\", 'hasn', \"hasn't\", 'haven', \"haven't\", 'isn', \"isn't\", 'ma', 'mightn', \"mightn't\", 'mustn', \"mustn't\", 'needn', \"needn't\", 'shan', \"shan't\", 'shouldn', \"shouldn't\", 'wasn', \"wasn't\", 'weren', \"weren't\", 'won', \"won't\", 'wouldn', \"wouldn't\"]\n"
          ]
        }
      ],
      "source": [
        "print('불용어 개수 :', len(stopwords.words('english') ))\n",
        "print(stopwords.words('english'))"
      ]
    },
    {
      "cell_type": "code",
      "execution_count": null,
      "metadata": {
        "id": "eUuwMesOXJw5"
      },
      "outputs": [],
      "source": [
        "# 데이터 전처리 함수\n",
        "def preprocess_sentence(sentence, remove_stopwords=True):\n",
        "#    sentence = sentence.lower() # 텍스트 소문자화\n",
        "   sentence = BeautifulSoup(sentence, \"lxml\").text # <br />, <a href = ...> 등의 html 태그 제거\n",
        "   sentence = re.sub(r'\\([^)]*\\)', '', sentence) # 괄호로 닫힌 문자열 (...) 제거 Ex) my husband (and myself!) for => my husband for\n",
        "   sentence = re.sub('\"','', sentence) # 쌍따옴표 \" 제거\n",
        "   sentence = ' '.join([contractions[t] if t in contractions else t for t in sentence.split(\" \")]) # 약어 정규화\n",
        "   sentence = re.sub(r\"'s\\b\",\"\", sentence) # 소유격 제거. Ex) roland's -> roland\n",
        "   sentence = re.sub(\"[^a-zA-Z]\", \" \", sentence) # 영어 외 문자(숫자, 특수문자 등) 공백으로 변환\n",
        "   sentence = re.sub('[m]{2,}', 'mm', sentence) # m이 3개 이상이면 2개로 변경. Ex) ummmmmmm yeah -> umm yeah\n",
        "\n",
        "   # 불용어 제거 (Text)\n",
        "   if remove_stopwords:\n",
        "       tokens = ' '.join(word for word in sentence.split() if not word in stopwords.words('english') if len(word) > 1)\n",
        "   # 불용어 미제거 (Summary)\n",
        "   else:\n",
        "       tokens = ' '.join(word for word in sentence.split() if len(word) > 1)\n",
        "   return tokens"
      ]
    },
    {
      "cell_type": "code",
      "execution_count": null,
      "metadata": {
        "colab": {
          "base_uri": "https://localhost:8080/"
        },
        "id": "vdWGTtXhX1Ub",
        "outputId": "0bffe0f8-c67c-410e-8f3d-431afb8e8265"
      },
      "outputs": [
        {
          "name": "stdout",
          "output_type": "stream",
          "text": [
            "text:  Saurav Kant an alumnus of upGrad and IIIT PG Program in Machine learning and Artificial Intelligence was Sr Systems Engineer at Infosys with almost years of work experience The program and upGrad degree career support helped him transition to Data Scientist at Tech Mahindra with salary hike upGrad Online Power Learning has powered lakh careers\n",
            "headline: upGrad learner switches to career in ML Al with salary hike\n"
          ]
        }
      ],
      "source": [
        "temp_text = \"Saurav Kant, an alumnus of upGrad and IIIT-B's PG Program in Machine learning and Artificial Intelligence, was a Sr Systems Engineer at Infosys with almost 5 years of work experience. The program and upGrad's 360-degree career support helped him transition to a Data Scientist at Tech Mahindra with 90% salary hike. upGrad's Online Power Learning has powered 3 lakh+ careers.\"\n",
        "temp_headline = \"upGrad learner switches to career in ML & Al with 90% salary hike\"\n",
        "\n",
        "print(\"text: \", preprocess_sentence(temp_text, False)) # 기사가 짧아 불용어 처리는 제외\n",
        "print(\"headline:\", preprocess_sentence(temp_headline, False))"
      ]
    },
    {
      "cell_type": "code",
      "execution_count": null,
      "metadata": {
        "colab": {
          "base_uri": "https://localhost:8080/"
        },
        "id": "zlj5HDHsaWpD",
        "outputId": "7d88490e-1997-4353-8225-d25875197d76"
      },
      "outputs": [
        {
          "name": "stdout",
          "output_type": "stream",
          "text": [
            "text 전처리 후 결과:  ['Saurav Kant an alumnus of upGrad and IIIT PG Program in Machine learning and Artificial Intelligence was Sr Systems Engineer at Infosys with almost years of work experience The program and upGrad degree career support helped him transition to Data Scientist at Tech Mahindra with salary hike upGrad Online Power Learning has powered lakh careers', 'Kunal Shah credit card bill payment platform CRED gave users chance to win free food from Swiggy for one year Pranav Kaushik Delhi techie bagged this reward after spending CRED coins Users get one CRED coin per rupee of bill paid which can be used to avail rewards from brands like Ixigo BookMyShow UberEats Cult Fit and more', 'New Zealand defeated India by wickets in the fourth ODI at Hamilton on Thursday to win their first match of the five match ODI series India lost an international match under Rohit Sharma captaincy after consecutive victories dating back to March The match witnessed India getting all out for their seventh lowest total in ODI cricket history', 'With Aegon Life iTerm Insurance plan customers can enjoy tax benefits on your premiums paid and save up to on taxes The plan provides life cover up to the age of years Also customers have options to insure against Critical Illnesses Disability and Accidental Death Benefit Rider with life cover up to the age of years', 'Speaking about the sexual harassment allegations against Rajkumar Hirani Sonam Kapoor said have known Hirani for many years What if it is not true the MeToo movement will get derailed In the MeToo movement always believe woman But in this case we need to reserve our judgment she added Hirani has been accused by an assistant who worked in Sanju']\n"
          ]
        }
      ],
      "source": [
        "# 전체 text 데이터에 대한 전처리\n",
        "clean_text = []\n",
        "\n",
        "for text in data['text']:\n",
        "   clean_text.append(preprocess_sentence(text, False))\n",
        "\n",
        "# 전처리 후 출력\n",
        "print(\"text 전처리 후 결과: \", clean_text[:5])"
      ]
    },
    {
      "cell_type": "code",
      "execution_count": null,
      "metadata": {
        "colab": {
          "base_uri": "https://localhost:8080/"
        },
        "id": "7vxlf_aBaWxH",
        "outputId": "6ea68578-1e4e-4a5c-c6b4-8d34cd333e94"
      },
      "outputs": [
        {
          "name": "stdout",
          "output_type": "stream",
          "text": [
            "headlines 전처리 후 결과:  ['upGrad learner switches to career in ML Al with salary hike', 'Delhi techie wins free food from Swiggy for one year on CRED', 'New Zealand end Rohit Sharma led India match winning streak', 'Aegon life iTerm insurance plan helps customers save tax', 'Have known Hirani for yrs what if MeToo claims are not true Sonam']\n"
          ]
        }
      ],
      "source": [
        "# 전체 headlines 데이터에 대한 전처리\n",
        "clean_headline = []\n",
        "\n",
        "for headline in data['headlines']:\n",
        "   clean_headline.append(preprocess_sentence(headline, False))\n",
        "\n",
        "print(\"headlines 전처리 후 결과: \", clean_headline[:5])"
      ]
    },
    {
      "cell_type": "code",
      "execution_count": null,
      "metadata": {
        "colab": {
          "base_uri": "https://localhost:8080/"
        },
        "id": "6S1qh84gaW30",
        "outputId": "a5301423-785a-44a8-a6f9-76216728c94b"
      },
      "outputs": [
        {
          "data": {
            "text/plain": [
              "headlines    0\n",
              "text         0\n",
              "dtype: int64"
            ]
          },
          "execution_count": 14,
          "metadata": {},
          "output_type": "execute_result"
        }
      ],
      "source": [
        "data['text'] = clean_text\n",
        "data['headlines'] = clean_headline\n",
        "\n",
        "# 빈 값을 Null 값으로 변환\n",
        "data.replace('', np.nan, inplace=True)\n",
        "data.isnull().sum()"
      ]
    },
    {
      "cell_type": "code",
      "execution_count": null,
      "metadata": {
        "colab": {
          "base_uri": "https://localhost:8080/",
          "height": 1000
        },
        "id": "Jp3xJQc2aW-g",
        "outputId": "3bbf562c-74d7-47a6-9bec-7149fb34638d"
      },
      "outputs": [
        {
          "name": "stdout",
          "output_type": "stream",
          "text": [
            "텍스트의 최소 길이 : 1\n",
            "텍스트의 최대 길이 : 69\n",
            "텍스트의 평균 길이 : 56.1561813745425\n",
            "요약의 최소 길이 : 1\n",
            "요약의 최대 길이 : 16\n",
            "요약의 평균 길이 : 9.289406262708418\n"
          ]
        },
        {
          "data": {
            "image/png": "[encoded data removed]",
            "text/plain": [
              "<Figure size 432x288 with 2 Axes>"
            ]
          },
          "metadata": {
            "needs_background": "light"
          },
          "output_type": "display_data"
        },
        {
          "data": {
            "image/png": "[encoded data removed]",
            "text/plain": [
              "<Figure size 432x288 with 1 Axes>"
            ]
          },
          "metadata": {
            "needs_background": "light"
          },
          "output_type": "display_data"
        },
        {
          "data": {
            "image/png": "[encoded data removed]",
            "text/plain": [
              "<Figure size 432x288 with 1 Axes>"
            ]
          },
          "metadata": {
            "needs_background": "light"
          },
          "output_type": "display_data"
        }
      ],
      "source": [
        "# 길이 분포 시각화\n",
        "import matplotlib.pyplot as plt\n",
        "\n",
        "text_len = [len(s.split()) for s in data['text']] # len(s.split())은 단어 수를 계산\n",
        "headline_len = [len(s.split()) for s in data['headlines']] # len(s.split())은 단어 수를 계산\n",
        "\n",
        "print('텍스트의 최소 길이 : {}'.format(np.min(text_len)))\n",
        "print('텍스트의 최대 길이 : {}'.format(np.max(text_len)))\n",
        "print('텍스트의 평균 길이 : {}'.format(np.mean(text_len)))\n",
        "print('요약의 최소 길이 : {}'.format(np.min(headline_len)))\n",
        "print('요약의 최대 길이 : {}'.format(np.max(headline_len)))\n",
        "print('요약의 평균 길이 : {}'.format(np.mean(headline_len)))\n",
        "\n",
        "plt.subplot(1,2,1)\n",
        "plt.boxplot(text_len)\n",
        "plt.title('text')\n",
        "plt.subplot(1,2,2)\n",
        "plt.boxplot(headline_len)\n",
        "plt.title('headlines')\n",
        "plt.tight_layout()\n",
        "plt.show()\n",
        "\n",
        "plt.title('text')\n",
        "plt.hist(text_len, bins = 40)\n",
        "plt.xlabel('length of samples')\n",
        "plt.ylabel('number of samples')\n",
        "plt.show()\n",
        "\n",
        "plt.title('headlines')\n",
        "plt.hist(headline_len, bins = 40)\n",
        "plt.xlabel('length of samples')\n",
        "plt.ylabel('number of samples')\n",
        "plt.show()"
      ]
    },
    {
      "cell_type": "code",
      "execution_count": null,
      "metadata": {
        "id": "Ba8cLnCWaXFN"
      },
      "outputs": [],
      "source": [
        "text_max_len = 60 # Text의 최대 길이\n",
        "headline_max_len = 12 # Headline의 최대 길이"
      ]
    },
    {
      "cell_type": "code",
      "execution_count": null,
      "metadata": {
        "id": "U6oeBXdhaXLh"
      },
      "outputs": [],
      "source": [
        "def below_threshold_len(max_len, nested_list):\n",
        " cnt = 0\n",
        " for s in nested_list:\n",
        "   if(len(s.split()) <= max_len):\n",
        "       cnt = cnt + 1\n",
        " print('전체 샘플 중 길이가 %s 이하인 샘플의 비율: %s'%(max_len, (cnt / len(nested_list))))"
      ]
    },
    {
      "cell_type": "code",
      "execution_count": null,
      "metadata": {
        "colab": {
          "base_uri": "https://localhost:8080/"
        },
        "id": "KUxdjpKDaXR0",
        "outputId": "cea63b03-3897-474f-8fe7-d8528b1d880b"
      },
      "outputs": [
        {
          "name": "stdout",
          "output_type": "stream",
          "text": [
            "전체 샘플 중 길이가 60 이하인 샘플의 비율: 0.9470414802765352\n",
            "전체 샘플 중 길이가 12 이하인 샘플의 비율: 0.9889589263928427\n"
          ]
        }
      ],
      "source": [
        "below_threshold_len(text_max_len, data['text'])\n",
        "below_threshold_len(headline_max_len,  data['headlines'])"
      ]
    },
    {
      "cell_type": "code",
      "execution_count": null,
      "metadata": {
        "colab": {
          "base_uri": "https://localhost:8080/"
        },
        "id": "Q3pExgOvaXX7",
        "outputId": "b325bf69-b172-45a9-c513-5628b9755876"
      },
      "outputs": [
        {
          "name": "stdout",
          "output_type": "stream",
          "text": [
            "전체 샘플수 : 92225\n"
          ]
        }
      ],
      "source": [
        "data = data[data['text'].apply(lambda x: len(x.split()) <= text_max_len) & data['headlines'].apply(lambda x: len(x.split()) <= headline_max_len)]\n",
        "\n",
        "print('전체 샘플수 :', (len(data)))"
      ]
    },
    {
      "cell_type": "code",
      "execution_count": null,
      "metadata": {
        "colab": {
          "base_uri": "https://localhost:8080/",
          "height": 293
        },
        "id": "FO8kJ3PIaXeO",
        "outputId": "375360df-ff37-4c67-d1f3-0ca35cb8b28f"
      },
      "outputs": [
        {
          "data": {
            "text/html": [
              "<div>\n",
              "<style scoped>\n",
              "    .dataframe tbody tr th:only-of-type {\n",
              "        vertical-align: middle;\n",
              "    }\n",
              "\n",
              "    .dataframe tbody tr th {\n",
              "        vertical-align: top;\n",
              "    }\n",
              "\n",
              "    .dataframe thead th {\n",
              "        text-align: right;\n",
              "    }\n",
              "</style>\n",
              "<table border=\"1\" class=\"dataframe\">\n",
              "  <thead>\n",
              "    <tr style=\"text-align: right;\">\n",
              "      <th></th>\n",
              "      <th>headlines</th>\n",
              "      <th>text</th>\n",
              "      <th>decoder_input</th>\n",
              "      <th>decoder_target</th>\n",
              "    </tr>\n",
              "  </thead>\n",
              "  <tbody>\n",
              "    <tr>\n",
              "      <th>0</th>\n",
              "      <td>upGrad learner switches to career in ML Al wit...</td>\n",
              "      <td>Saurav Kant an alumnus of upGrad and IIIT PG P...</td>\n",
              "      <td>sostoken upGrad learner switches to career in ...</td>\n",
              "      <td>upGrad learner switches to career in ML Al wit...</td>\n",
              "    </tr>\n",
              "    <tr>\n",
              "      <th>1</th>\n",
              "      <td>Delhi techie wins free food from Swiggy for on...</td>\n",
              "      <td>Kunal Shah credit card bill payment platform C...</td>\n",
              "      <td>sostoken Delhi techie wins free food from Swig...</td>\n",
              "      <td>Delhi techie wins free food from Swiggy for on...</td>\n",
              "    </tr>\n",
              "    <tr>\n",
              "      <th>2</th>\n",
              "      <td>New Zealand end Rohit Sharma led India match w...</td>\n",
              "      <td>New Zealand defeated India by wickets in the f...</td>\n",
              "      <td>sostoken New Zealand end Rohit Sharma led Indi...</td>\n",
              "      <td>New Zealand end Rohit Sharma led India match w...</td>\n",
              "    </tr>\n",
              "    <tr>\n",
              "      <th>3</th>\n",
              "      <td>Aegon life iTerm insurance plan helps customer...</td>\n",
              "      <td>With Aegon Life iTerm Insurance plan customers...</td>\n",
              "      <td>sostoken Aegon life iTerm insurance plan helps...</td>\n",
              "      <td>Aegon life iTerm insurance plan helps customer...</td>\n",
              "    </tr>\n",
              "    <tr>\n",
              "      <th>5</th>\n",
              "      <td>Rahat Fateh Ali Khan denies getting notice for...</td>\n",
              "      <td>Pakistani singer Rahat Fateh Ali Khan has deni...</td>\n",
              "      <td>sostoken Rahat Fateh Ali Khan denies getting n...</td>\n",
              "      <td>Rahat Fateh Ali Khan denies getting notice for...</td>\n",
              "    </tr>\n",
              "  </tbody>\n",
              "</table>\n",
              "</div>"
            ],
            "text/plain": [
              "                                           headlines  \\\n",
              "0  upGrad learner switches to career in ML Al wit...   \n",
              "1  Delhi techie wins free food from Swiggy for on...   \n",
              "2  New Zealand end Rohit Sharma led India match w...   \n",
              "3  Aegon life iTerm insurance plan helps customer...   \n",
              "5  Rahat Fateh Ali Khan denies getting notice for...   \n",
              "\n",
              "                                                text  \\\n",
              "0  Saurav Kant an alumnus of upGrad and IIIT PG P...   \n",
              "1  Kunal Shah credit card bill payment platform C...   \n",
              "2  New Zealand defeated India by wickets in the f...   \n",
              "3  With Aegon Life iTerm Insurance plan customers...   \n",
              "5  Pakistani singer Rahat Fateh Ali Khan has deni...   \n",
              "\n",
              "                                       decoder_input  \\\n",
              "0  sostoken upGrad learner switches to career in ...   \n",
              "1  sostoken Delhi techie wins free food from Swig...   \n",
              "2  sostoken New Zealand end Rohit Sharma led Indi...   \n",
              "3  sostoken Aegon life iTerm insurance plan helps...   \n",
              "5  sostoken Rahat Fateh Ali Khan denies getting n...   \n",
              "\n",
              "                                      decoder_target  \n",
              "0  upGrad learner switches to career in ML Al wit...  \n",
              "1  Delhi techie wins free food from Swiggy for on...  \n",
              "2  New Zealand end Rohit Sharma led India match w...  \n",
              "3  Aegon life iTerm insurance plan helps customer...  \n",
              "5  Rahat Fateh Ali Khan denies getting notice for...  "
            ]
          },
          "execution_count": 20,
          "metadata": {},
          "output_type": "execute_result"
        }
      ],
      "source": [
        "# 요약 데이터에는 시작 토큰과 종료 토큰을 추가한다.\n",
        "data['decoder_input'] = data['headlines'].apply(lambda x : 'sostoken '+ x)\n",
        "data['decoder_target'] = data['headlines'].apply(lambda x : x + ' eostoken')\n",
        "data.head()"
      ]
    },
    {
      "cell_type": "code",
      "execution_count": null,
      "metadata": {
        "id": "NCEz6Gi9aXkI"
      },
      "outputs": [],
      "source": [
        "# 인코더의 입력, 디코더의 입력과 레이블을 각각 다시 Numpy 타입으로 저장\n",
        "encoder_input = np.array(data['text']) # 인코더의 입력\n",
        "decoder_input = np.array(data['decoder_input']) # 디코더의 입력\n",
        "decoder_target = np.array(data['decoder_target']) # 디코더의 레이블"
      ]
    },
    {
      "cell_type": "code",
      "execution_count": null,
      "metadata": {
        "colab": {
          "base_uri": "https://localhost:8080/"
        },
        "id": "CL-OQlwGaXqP",
        "outputId": "b53b6141-0385-4a95-b9b5-fd310aaa2a51"
      },
      "outputs": [
        {
          "name": "stdout",
          "output_type": "stream",
          "text": [
            "[84311 28003 24653 ... 65768 32575 33046]\n"
          ]
        }
      ],
      "source": [
        "indices = np.arange(encoder_input.shape[0])\n",
        "np.random.shuffle(indices)\n",
        "print(indices)"
      ]
    },
    {
      "cell_type": "code",
      "execution_count": null,
      "metadata": {
        "id": "z0SZymT7aXwJ"
      },
      "outputs": [],
      "source": [
        "encoder_input = encoder_input[indices]\n",
        "decoder_input = decoder_input[indices]\n",
        "decoder_target = decoder_target[indices]"
      ]
    },
    {
      "cell_type": "code",
      "execution_count": null,
      "metadata": {
        "colab": {
          "base_uri": "https://localhost:8080/"
        },
        "id": "imfU-WF6aX13",
        "outputId": "9950fc74-d9d7-44b1-949b-733fb8da3f56"
      },
      "outputs": [
        {
          "name": "stdout",
          "output_type": "stream",
          "text": [
            "테스트 데이터의 수 : 18445\n",
            "훈련 데이터의 수 : 73780\n"
          ]
        }
      ],
      "source": [
        "# 섞인 데이터를 8:2의 비율로 훈련 데이터와 테스트 데이터로 분리\n",
        "n_of_val = int(len(encoder_input)*0.2)\n",
        "print('테스트 데이터의 수 :', n_of_val)\n",
        "print('훈련 데이터의 수 :', int(len(encoder_input) - n_of_val))"
      ]
    },
    {
      "cell_type": "code",
      "execution_count": null,
      "metadata": {
        "colab": {
          "base_uri": "https://localhost:8080/"
        },
        "id": "yrnVGxZOaX7l",
        "outputId": "4006b7f3-765f-4747-9ca5-bf665e802f69"
      },
      "outputs": [
        {
          "name": "stdout",
          "output_type": "stream",
          "text": [
            "훈련 데이터의 개수 : 73780\n",
            "훈련 레이블의 개수 : 73780\n",
            "테스트 데이터의 개수 : 18445\n",
            "테스트 레이블의 개수 : 18445\n",
            "['brewery in Denmark has made beer using litres of recycled urine collected from music festival in Europe The beer named Pisner does not contain human waste but is produced from fields of malting barley fertilised with urine The Danish Agriculture and Food Council has named the concept beercycling']\n",
            "['sostoken Danish brewery creates beer using recycled urine']\n",
            "['Danish brewery creates beer using recycled urine eostoken']\n",
            "['Russia is allowing thousands of North Korean workers to enter the country and giving them new work permits in potential violation of UN sanctions according to reports Over new North Korean workers have registered in Russia and new work permits have been issued since the UN imposed the ban last year reports quoting Russian government records showed']\n",
            "['sostoken Russia gives work permit to Koreans despite UN ban Report']\n",
            "['Russia gives work permit to Koreans despite UN ban Report eostoken']\n"
          ]
        }
      ],
      "source": [
        "encoder_input_train = encoder_input[:-n_of_val] # 훈련 데이터\n",
        "decoder_input_train = decoder_input[:-n_of_val] # 훈련 데이터 sostoken\n",
        "decoder_target_train = decoder_target[:-n_of_val] # 훈련 데이터 eostoken\n",
        "\n",
        "encoder_input_test = encoder_input[-n_of_val:] # 테스트 데이터\n",
        "decoder_input_test = decoder_input[-n_of_val:] # 테스트 데이터 sostoken​\n",
        "decoder_target_test = decoder_target[-n_of_val:] # 테스트 데이터 eostoken​\n",
        "\n",
        "print('훈련 데이터의 개수 :', len(encoder_input_train))\n",
        "print('훈련 레이블의 개수 :', len(decoder_input_train))\n",
        "print('테스트 데이터의 개수 :', len(encoder_input_test))\n",
        "print('테스트 레이블의 개수 :', len(decoder_input_test))\n",
        "\n",
        "print(encoder_input_train[:1])\n",
        "print(decoder_input_train[:1])\n",
        "print(decoder_target_train[:1])\n",
        "\n",
        "print(encoder_input_test[:1])\n",
        "print(decoder_input_test[:1])\n",
        "print(decoder_target_test[:1])"
      ]
    },
    {
      "cell_type": "code",
      "execution_count": null,
      "metadata": {
        "id": "QvHx_QjqaYBU"
      },
      "outputs": [],
      "source": [
        "# 단어 집합(vocabulary) 만들기\n",
        "src_tokenizer = Tokenizer() # 토크나이저 정의\n",
        "src_tokenizer.fit_on_texts(encoder_input_train) # 입력된 데이터로부터 단어 집합 생성"
      ]
    },
    {
      "cell_type": "code",
      "execution_count": null,
      "metadata": {
        "colab": {
          "base_uri": "https://localhost:8080/"
        },
        "id": "IGcBI3FtaYHA",
        "outputId": "d59fc6e9-e544-42a2-8bac-f34be388b254"
      },
      "outputs": [
        {
          "name": "stdout",
          "output_type": "stream",
          "text": [
            "단어 집합(vocabulary)의 크기 : 68022\n",
            "등장 빈도가 4번 이하인 희귀 단어의 수: 42210\n",
            "단어 집합에서 희귀 단어를 제외시킬 경우의 단어 집합의 크기 25812\n",
            "단어 집합에서 희귀 단어의 비율: 62.05345329452236\n",
            "전체 등장 빈도에서 희귀 단어 등장 빈도 비율: 1.7335693113373092\n"
          ]
        }
      ],
      "source": [
        "threshold = 5\n",
        "total_cnt = len(src_tokenizer.word_index) # 단어의 수\n",
        "rare_cnt = 0 # 등장 빈도수가 threshold보다 작은 단어의 개수를 카운트\n",
        "total_freq = 0 # 훈련 데이터의 전체 단어 빈도수 총 합\n",
        "rare_freq = 0 # 등장 빈도수가 threshold보다 작은 단어의 등장 빈도수의 총 합\n",
        "\n",
        "# 단어와 빈도수의 쌍(pair)을 key와 value로 받는다.\n",
        "for key, value in src_tokenizer.word_counts.items():\n",
        "   total_freq = total_freq + value\n",
        "\n",
        "   # 단어의 등장 빈도수가 threshold보다 작으면\n",
        "   if(value < threshold):\n",
        "       rare_cnt = rare_cnt + 1\n",
        "       rare_freq = rare_freq + value\n",
        "\n",
        "print('단어 집합(vocabulary)의 크기 :', total_cnt)\n",
        "print('등장 빈도가 %s번 이하인 희귀 단어의 수: %s'%(threshold - 1, rare_cnt))\n",
        "print('단어 집합에서 희귀 단어를 제외시킬 경우의 단어 집합의 크기 %s'%(total_cnt - rare_cnt))\n",
        "print(\"단어 집합에서 희귀 단어의 비율:\", (rare_cnt / total_cnt)*100)\n",
        "print(\"전체 등장 빈도에서 희귀 단어 등장 빈도 비율:\", (rare_freq / total_freq)*100)"
      ]
    },
    {
      "cell_type": "code",
      "execution_count": null,
      "metadata": {
        "id": "0YooaGjUhns4"
      },
      "outputs": [],
      "source": [
        "src_vocab = 25000\n",
        "src_tokenizer = Tokenizer(num_words=src_vocab) # 단어 집합의 크기를 25000으로 제한\n",
        "src_tokenizer.fit_on_texts(encoder_input_train) # 단어 집합 재생성"
      ]
    },
    {
      "cell_type": "code",
      "execution_count": null,
      "metadata": {
        "colab": {
          "base_uri": "https://localhost:8080/"
        },
        "id": "zABmOGq2hn0j",
        "outputId": "2c6a7c80-a654-4e06-ba98-4d9a1a0da515"
      },
      "outputs": [
        {
          "name": "stdout",
          "output_type": "stream",
          "text": [
            "[[13456, 3, 4549, 7, 118, 2881, 238, 4582, 4, 8889, 5963, 2106, 19, 940, 972, 3, 1670, 1, 2881, 305, 312, 26, 4133, 394, 2083, 83, 12, 1356, 19, 3868, 4, 15, 5963, 1, 6096, 3630, 5, 416, 838, 7, 305, 1, 2979], [466, 1, 734, 45, 1, 8736, 3, 4, 3747, 3838, 20, 102, 55, 4, 352, 90, 586, 7068, 2270, 399, 9, 71, 1288, 41, 1421, 4004, 1596, 107, 13, 12, 3, 1, 21653, 4, 194, 105, 1, 493, 126, 18, 241, 90, 5, 1731, 544, 100, 1, 94, 4, 5212, 5842, 1993, 2, 1132, 1, 122, 2, 418, 3, 352], [1, 40, 12, 1893, 2594, 1121, 6, 5964, 286, 3, 1719, 2, 13036, 96, 15, 43, 1192, 1, 1121, 35, 76, 2020, 2, 12637, 13036, 1, 1192, 20, 286, 157, 24, 13930, 85, 8890, 14, 387, 485, 2, 24, 688, 153, 9, 40, 62, 7, 324, 1, 48, 2, 13036, 71, 1, 1192, 14, 546]]\n"
          ]
        }
      ],
      "source": [
        "# 텍스트 시퀀스를 정수 시퀀스로 변환\n",
        "encoder_input_train = src_tokenizer.texts_to_sequences(encoder_input_train)\n",
        "encoder_input_test = src_tokenizer.texts_to_sequences(encoder_input_test)\n",
        "# 잘 진행되었는지 샘플 출력\n",
        "print(encoder_input_train[:3])"
      ]
    },
    {
      "cell_type": "code",
      "execution_count": null,
      "metadata": {
        "id": "kE5ZZTrahn8D"
      },
      "outputs": [],
      "source": [
        "tar_tokenizer = Tokenizer() # src_tokenizer 참고\n",
        "tar_tokenizer.fit_on_texts(decoder_input_train) # decoder_input_train 디코더의 입력 시퀀스"
      ]
    },
    {
      "cell_type": "code",
      "execution_count": null,
      "metadata": {
        "colab": {
          "base_uri": "https://localhost:8080/"
        },
        "id": "li7s76pjhoDW",
        "outputId": "9bb7a363-55b5-4795-a4d1-7d6ce9a7188c"
      },
      "outputs": [
        {
          "name": "stdout",
          "output_type": "stream",
          "text": [
            "단어 집합(vocabulary)의 크기 : 29375\n",
            "등장 빈도가 4번 이하인 희귀 단어의 수: 18170\n",
            "단어 집합에서 희귀 단어를 제외시킬 경우의 단어 집합의 크기 11205\n",
            "단어 집합에서 희귀 단어의 비율: 61.855319148936175\n",
            "전체 등장 빈도에서 희귀 단어 등장 빈도 비율: 4.136846390602851\n"
          ]
        }
      ],
      "source": [
        "threshold = 5\n",
        "total_cnt = len(tar_tokenizer.word_index) # 단어의 수\n",
        "rare_cnt = 0 # 등장 빈도수가 threshold보다 작은 단어의 개수를 카운트\n",
        "total_freq = 0 # 훈련 데이터의 전체 단어 빈도수 총 합\n",
        "rare_freq = 0 # 등장 빈도수가 threshold보다 작은 단어의 등장 빈도수의 총 합\n",
        "\n",
        "# 단어와 빈도수의 쌍(pair)을 key와 value로 받는다.\n",
        "for key, value in tar_tokenizer.word_counts.items():\n",
        "   total_freq = total_freq + value\n",
        "\n",
        "   # 단어의 등장 빈도수가 threshold보다 작으면\n",
        "   if(value < threshold):\n",
        "       rare_cnt = rare_cnt + 1\n",
        "       rare_freq = rare_freq + value\n",
        "\n",
        "print('단어 집합(vocabulary)의 크기 :', total_cnt)\n",
        "print('등장 빈도가 %s번 이하인 희귀 단어의 수: %s'%(threshold - 1, rare_cnt))\n",
        "print('단어 집합에서 희귀 단어를 제외시킬 경우의 단어 집합의 크기 %s'%(total_cnt - rare_cnt))\n",
        "print(\"단어 집합에서 희귀 단어의 비율:\", (rare_cnt / total_cnt)*100)\n",
        "print(\"전체 등장 빈도에서 희귀 단어 등장 빈도 비율:\", (rare_freq / total_freq)*100)"
      ]
    },
    {
      "cell_type": "code",
      "execution_count": null,
      "metadata": {
        "colab": {
          "base_uri": "https://localhost:8080/"
        },
        "id": "S5e-6hCOhoKz",
        "outputId": "d7bcf4e3-f6a3-4e5e-c047-08bea22676e1"
      },
      "outputs": [
        {
          "name": "stdout",
          "output_type": "stream",
          "text": [
            "input\n",
            "input  [[1, 5206, 7888, 1563, 1454, 231, 7889, 3610], [1, 315, 282, 20, 4, 18, 6, 21, 40, 90, 108, 103], [1, 14, 693, 1786, 551, 3, 5436, 3514, 572, 9, 1869], [1, 44, 216, 7389, 3515, 262, 16], [1, 146, 1091, 3, 141, 110, 8464, 10059, 2318]]\n",
            "target\n",
            "decoder  [[5206, 7888, 1563, 1454, 231, 7889, 3610, 2], [315, 282, 20, 4, 18, 6, 21, 40, 90, 108, 103, 2], [14, 693, 1786, 551, 3, 5436, 3514, 572, 9, 1869, 2], [44, 216, 7389, 3515, 262, 16, 2], [146, 1091, 3, 141, 110, 8464, 10059, 2318, 2]]\n"
          ]
        }
      ],
      "source": [
        "tar_vocab = 11000\n",
        "tar_tokenizer = Tokenizer(num_words=tar_vocab)\n",
        "tar_tokenizer.fit_on_texts(decoder_input_train)  # 단어 집합 재생성\n",
        "tar_tokenizer.fit_on_texts(decoder_target_train)  # 단어 집합 재생성\n",
        "\n",
        "# 토큰화기에 여러 번 fit_on_texts를 호출하면 단어 인덱스가 재설정되지 않습니다. 대신 업데이트됩니다.\n",
        "# 따라서 이 문맥에서 토큰화기의 어휘는 decoder_input_train 및 decoder_target_train 모두를 기반으로 합니다.\n",
        "\n",
        "# 텍스트 시퀀스를 정수 시퀀스로 변환\n",
        "decoder_input_train = tar_tokenizer.texts_to_sequences(decoder_input_train)\n",
        "decoder_input_test = tar_tokenizer.texts_to_sequences(decoder_input_test)\n",
        "decoder_target_train = tar_tokenizer.texts_to_sequences(decoder_target_train)\n",
        "decoder_target_test = tar_tokenizer.texts_to_sequences(decoder_target_test)\n",
        "\n",
        "# 잘 변환되었는지 확인\n",
        "print('input')\n",
        "print('input ',decoder_input_train[:5])\n",
        "print('target')\n",
        "print('decoder ',decoder_target_train[:5])"
      ]
    },
    {
      "cell_type": "code",
      "execution_count": null,
      "metadata": {
        "colab": {
          "base_uri": "https://localhost:8080/"
        },
        "id": "P6fqb_FThoRt",
        "outputId": "9457955a-e571-4a25-93dd-20d29fd6a141"
      },
      "outputs": [
        {
          "name": "stdout",
          "output_type": "stream",
          "text": [
            "삭제할 훈련 데이터의 개수 : 0\n",
            "삭제할 테스트 데이터의 개수 : 0\n",
            "훈련 데이터의 개수 : 73780\n",
            "훈련 레이블의 개수 : 73780\n",
            "테스트 데이터의 개수 : 18445\n",
            "테스트 레이블의 개수 : 18445\n"
          ]
        }
      ],
      "source": [
        "drop_train = [index for index, sentence in enumerate(decoder_input_train) if len(sentence) == 1]\n",
        "drop_test = [index for index, sentence in enumerate(decoder_input_test) if len(sentence) == 1]\n",
        "\n",
        "print('삭제할 훈련 데이터의 개수 :', len(drop_train)) # 0\n",
        "print('삭제할 테스트 데이터의 개수 :', len(drop_test)) # 0\n",
        "\n",
        "# 삭제할 훈련 데이터, 테스트 데이터 없음\n",
        "# encoder_input_train = [sentence for index, sentence in enumerate(encoder_input_train) if index not in drop_train]\n",
        "# decoder_input_train = [sentence for index, sentence in enumerate(decoder_input_train) if index not in drop_train]\n",
        "# decoder_target_train = [sentence for index, sentence in enumerate(decoder_target_train) if index not in drop_train]\n",
        "\n",
        "# encoder_input_test = [sentence for index, sentence in enumerate(encoder_input_test) if index not in drop_test]\n",
        "# decoder_input_test = [sentence for index, sentence in enumerate(decoder_input_test) if index not in drop_test]\n",
        "# decoder_target_test = [sentence for index, sentence in enumerate(decoder_target_test) if index not in drop_test]\n",
        "\n",
        "print('훈련 데이터의 개수 :', len(encoder_input_train))\n",
        "print('훈련 레이블의 개수 :', len(decoder_input_train))\n",
        "print('테스트 데이터의 개수 :', len(encoder_input_test))\n",
        "print('테스트 레이블의 개수 :', len(decoder_input_test))"
      ]
    },
    {
      "cell_type": "code",
      "execution_count": null,
      "metadata": {
        "id": "ktZd4sy5hoYB"
      },
      "outputs": [],
      "source": [
        "# 패딩 추가하기,  최대 길이보다 짧은 데이터들은 뒤의 공간에 숫자 0을 넣어 최대 길이로 길이를 맞춤\n",
        "encoder_input_train = pad_sequences(encoder_input_train, maxlen=text_max_len, padding='post')\n",
        "encoder_input_test = pad_sequences(encoder_input_test, maxlen=text_max_len, padding='post')\n",
        "decoder_input_train = pad_sequences(decoder_input_train, maxlen=headline_max_len, padding='post')\n",
        "decoder_target_train = pad_sequences(decoder_target_train, maxlen=headline_max_len, padding='post')\n",
        "decoder_input_test = pad_sequences(decoder_input_test, maxlen=headline_max_len, padding='post')\n",
        "decoder_target_test = pad_sequences(decoder_target_test, maxlen=headline_max_len, padding='post')"
      ]
    },
    {
      "cell_type": "code",
      "execution_count": null,
      "metadata": {
        "id": "-Z4kYDCnhoeI"
      },
      "outputs": [],
      "source": [
        "# 모델 설계하기\n",
        "from tensorflow.keras.layers import Input, LSTM, Embedding, Dense, Concatenate, TimeDistributed\n",
        "from tensorflow.keras.models import Model\n",
        "from tensorflow.keras.callbacks import EarlyStopping, ModelCheckpoint\n",
        "\n",
        "# 인코더 설계 시작\n",
        "embedding_dim = 128\n",
        "hidden_size = 256\n",
        "\n",
        "# 인코더\n",
        "encoder_inputs = Input(shape=(text_max_len,))\n",
        "\n",
        "# 인코더의 임베딩 층\n",
        "enc_emb = Embedding(src_vocab, embedding_dim)(encoder_inputs)\n",
        "\n",
        "# 인코더의 LSTM 1\n",
        "# encoder_lstm1 = LSTM(hidden_size, return_sequences=True, return_state=True ,dropout = 0.4, recurrent_dropout = 0.4)\n",
        "encoder_lstm1 = LSTM(hidden_size, return_sequences=True, return_state=True ,dropout = 0.4)\n",
        "encoder_output1, state_h1, state_c1 = encoder_lstm1(enc_emb)\n",
        "\n",
        "# 인코더의 LSTM 2\n",
        "encoder_lstm2 = LSTM(hidden_size, return_sequences=True, return_state=True, dropout=0.4)\n",
        "encoder_output2, state_h2, state_c2 = encoder_lstm2(encoder_output1)\n",
        "\n",
        "# 인코더의 LSTM 3\n",
        "encoder_lstm3 = LSTM(hidden_size, return_sequences=True, return_state=True, dropout=0.4)\n",
        "encoder_output3, state_h3, state_c3 = encoder_lstm3(encoder_output2)\n",
        "\n",
        "# 최종 출력 값인 encoder_output3, state_h3, state_c3는 디코더 단계에서 중요할 것이며,\n",
        "# state_h3와 state_c3는 디코더의 LSTM 레이어의 초기 상태가 됩니다."
      ]
    },
    {
      "cell_type": "code",
      "execution_count": null,
      "metadata": {
        "id": "Nnxx2ae9hokP"
      },
      "outputs": [],
      "source": [
        "# 디코더 설계\n",
        "decoder_inputs = Input(shape=(None,))\n",
        "\n",
        "# 디코더의 임베딩 층\n",
        "dec_emb_layer = Embedding(tar_vocab, embedding_dim)\n",
        "dec_emb = dec_emb_layer(decoder_inputs)\n",
        "\n",
        "# 디코더의 LSTM\n",
        "# decoder_lstm = LSTM(hidden_size, return_sequences=True, return_state=True, dropout=0.4, recurrent_dropout=0.2)\n",
        "decoder_lstm = LSTM(hidden_size, return_sequences=True, return_state=True, dropout=0.4)\n",
        "decoder_outputs, _, _ = decoder_lstm(dec_emb, initial_state=[state_h3, state_c3])"
      ]
    },
    {
      "cell_type": "code",
      "execution_count": null,
      "metadata": {
        "colab": {
          "base_uri": "https://localhost:8080/"
        },
        "id": "7P2atE-khoqI",
        "outputId": "bc484398-c4be-4104-e2d5-71266701bb38"
      },
      "outputs": [
        {
          "name": "stdout",
          "output_type": "stream",
          "text": [
            "Model: \"model\"\n",
            "__________________________________________________________________________________________________\n",
            "Layer (type)                    Output Shape         Param #     Connected to                     \n",
            "==================================================================================================\n",
            "input_1 (InputLayer)            [(None, 60)]         0                                            \n",
            "__________________________________________________________________________________________________\n",
            "embedding (Embedding)           (None, 60, 128)      3200000     input_1[0][0]                    \n",
            "__________________________________________________________________________________________________\n",
            "lstm (LSTM)                     [(None, 60, 256), (N 394240      embedding[0][0]                  \n",
            "__________________________________________________________________________________________________\n",
            "input_2 (InputLayer)            [(None, None)]       0                                            \n",
            "__________________________________________________________________________________________________\n",
            "lstm_1 (LSTM)                   [(None, 60, 256), (N 525312      lstm[0][0]                       \n",
            "__________________________________________________________________________________________________\n",
            "embedding_1 (Embedding)         (None, None, 128)    1408000     input_2[0][0]                    \n",
            "__________________________________________________________________________________________________\n",
            "lstm_2 (LSTM)                   [(None, 60, 256), (N 525312      lstm_1[0][0]                     \n",
            "__________________________________________________________________________________________________\n",
            "lstm_3 (LSTM)                   [(None, None, 256),  394240      embedding_1[0][0]                \n",
            "                                                                 lstm_2[0][1]                     \n",
            "                                                                 lstm_2[0][2]                     \n",
            "__________________________________________________________________________________________________\n",
            "dense (Dense)                   (None, None, 11000)  2827000     lstm_3[0][0]                     \n",
            "==================================================================================================\n",
            "Total params: 9,274,104\n",
            "Trainable params: 9,274,104\n",
            "Non-trainable params: 0\n",
            "__________________________________________________________________________________________________\n"
          ]
        }
      ],
      "source": [
        "# 디코더의 출력층\n",
        "decoder_softmax_layer = Dense(tar_vocab, activation='softmax')\n",
        "decoder_softmax_outputs = decoder_softmax_layer(decoder_outputs)\n",
        "\n",
        "# 모델 정의\n",
        "model = Model([encoder_inputs, decoder_inputs], decoder_softmax_outputs)\n",
        "model.summary()"
      ]
    },
    {
      "cell_type": "code",
      "execution_count": null,
      "metadata": {
        "colab": {
          "base_uri": "https://localhost:8080/"
        },
        "id": "ShIgI11GhowC",
        "outputId": "7f04637a-87be-4bae-a04c-b49a29e38d9b"
      },
      "outputs": [
        {
          "name": "stdout",
          "output_type": "stream",
          "text": [
            "Model: \"model_1\"\n",
            "__________________________________________________________________________________________________\n",
            "Layer (type)                    Output Shape         Param #     Connected to                     \n",
            "==================================================================================================\n",
            "input_1 (InputLayer)            [(None, 60)]         0                                            \n",
            "__________________________________________________________________________________________________\n",
            "embedding (Embedding)           (None, 60, 128)      3200000     input_1[0][0]                    \n",
            "__________________________________________________________________________________________________\n",
            "lstm (LSTM)                     [(None, 60, 256), (N 394240      embedding[0][0]                  \n",
            "__________________________________________________________________________________________________\n",
            "input_2 (InputLayer)            [(None, None)]       0                                            \n",
            "__________________________________________________________________________________________________\n",
            "lstm_1 (LSTM)                   [(None, 60, 256), (N 525312      lstm[0][0]                       \n",
            "__________________________________________________________________________________________________\n",
            "embedding_1 (Embedding)         (None, None, 128)    1408000     input_2[0][0]                    \n",
            "__________________________________________________________________________________________________\n",
            "lstm_2 (LSTM)                   [(None, 60, 256), (N 525312      lstm_1[0][0]                     \n",
            "__________________________________________________________________________________________________\n",
            "lstm_3 (LSTM)                   [(None, None, 256),  394240      embedding_1[0][0]                \n",
            "                                                                 lstm_2[0][1]                     \n",
            "                                                                 lstm_2[0][2]                     \n",
            "__________________________________________________________________________________________________\n",
            "attention_layer (AdditiveAttent (None, None, 256)    256         lstm_3[0][0]                     \n",
            "                                                                 lstm_2[0][0]                     \n",
            "__________________________________________________________________________________________________\n",
            "concat_layer (Concatenate)      (None, None, 512)    0           lstm_3[0][0]                     \n",
            "                                                                 attention_layer[0][0]            \n",
            "__________________________________________________________________________________________________\n",
            "dense_1 (Dense)                 (None, None, 11000)  5643000     concat_layer[0][0]               \n",
            "==================================================================================================\n",
            "Total params: 12,090,360\n",
            "Trainable params: 12,090,360\n",
            "Non-trainable params: 0\n",
            "__________________________________________________________________________________________________\n"
          ]
        }
      ],
      "source": [
        "# 어텐션 층을 만들고, 위에서 설계한 디코더의 출력층을 수정\n",
        "from tensorflow.keras.layers import AdditiveAttention\n",
        "\n",
        "# 어텐션 층(어텐션 함수)\n",
        "attn_layer = AdditiveAttention(name='attention_layer')\n",
        "\n",
        "# 인코더와 디코더의 모든 time step의 hidden state를 어텐션 층에 전달하고 결과를 리턴\n",
        "attn_out = attn_layer([decoder_outputs, encoder_output3]) # 마지막 인코더 LSTM 레이어의 출력을 참조\n",
        "\n",
        "# 어텐션의 결과와 디코더의 hidden state들을 연결\n",
        "decoder_concat_input = Concatenate(axis=-1, name='concat_layer')([decoder_outputs, attn_out])\n",
        "\n",
        "# 디코더의 출력층\n",
        "decoder_softmax_layer = Dense(tar_vocab, activation='softmax')\n",
        "decoder_softmax_outputs = decoder_softmax_layer(decoder_concat_input)\n",
        "\n",
        "# 모델 정의\n",
        "model = Model([encoder_inputs, decoder_inputs], decoder_softmax_outputs)\n",
        "model.summary()"
      ]
    },
    {
      "cell_type": "code",
      "execution_count": null,
      "metadata": {
        "colab": {
          "base_uri": "https://localhost:8080/"
        },
        "id": "J4Rpfx3Aho1w",
        "outputId": "2347581c-8ac4-4982-89f5-142d7473c1ef"
      },
      "outputs": [
        {
          "name": "stdout",
          "output_type": "stream",
          "text": [
            "Epoch 1/200\n",
            "577/577 [==============================] - 45s 67ms/step - loss: 6.2348 - val_loss: 5.6763\n",
            "Epoch 2/200\n",
            "577/577 [==============================] - 39s 67ms/step - loss: 5.6728 - val_loss: 5.5523\n",
            "Epoch 3/200\n",
            "577/577 [==============================] - 39s 67ms/step - loss: 5.5754 - val_loss: 5.4793\n",
            "Epoch 4/200\n",
            "577/577 [==============================] - 39s 67ms/step - loss: 5.5033 - val_loss: 5.4277\n",
            "Epoch 5/200\n",
            "577/577 [==============================] - 38s 67ms/step - loss: 5.4276 - val_loss: 5.3239\n",
            "Epoch 6/200\n",
            "577/577 [==============================] - 39s 67ms/step - loss: 5.3078 - val_loss: 5.2136\n",
            "Epoch 7/200\n",
            "577/577 [==============================] - 39s 67ms/step - loss: 5.2052 - val_loss: 5.1334\n",
            "Epoch 8/200\n",
            "577/577 [==============================] - 39s 67ms/step - loss: 5.1171 - val_loss: 5.0549\n",
            "Epoch 9/200\n",
            "577/577 [==============================] - 39s 67ms/step - loss: 5.0333 - val_loss: 4.9862\n",
            "Epoch 10/200\n",
            "577/577 [==============================] - 39s 67ms/step - loss: 4.9555 - val_loss: 4.9102\n",
            "Epoch 11/200\n",
            "577/577 [==============================] - 39s 67ms/step - loss: 4.8691 - val_loss: 4.8360\n",
            "Epoch 12/200\n",
            "577/577 [==============================] - 38s 67ms/step - loss: 4.7885 - val_loss: 4.7756\n",
            "Epoch 13/200\n",
            "577/577 [==============================] - 39s 67ms/step - loss: 4.7168 - val_loss: 4.7210\n",
            "Epoch 14/200\n",
            "577/577 [==============================] - 39s 67ms/step - loss: 4.6538 - val_loss: 4.6836\n",
            "Epoch 15/200\n",
            "577/577 [==============================] - 39s 67ms/step - loss: 4.5962 - val_loss: 4.6353\n",
            "Epoch 16/200\n",
            "577/577 [==============================] - 38s 67ms/step - loss: 4.5416 - val_loss: 4.5984\n",
            "Epoch 17/200\n",
            "577/577 [==============================] - 39s 67ms/step - loss: 4.4891 - val_loss: 4.5580\n",
            "Epoch 18/200\n",
            "577/577 [==============================] - 39s 67ms/step - loss: 4.4366 - val_loss: 4.5203\n",
            "Epoch 19/200\n",
            "577/577 [==============================] - 38s 67ms/step - loss: 4.3848 - val_loss: 4.4837\n",
            "Epoch 20/200\n",
            "577/577 [==============================] - 39s 67ms/step - loss: 4.3346 - val_loss: 4.4456\n",
            "Epoch 21/200\n",
            "577/577 [==============================] - 38s 67ms/step - loss: 4.2864 - val_loss: 4.4151\n",
            "Epoch 22/200\n",
            "577/577 [==============================] - 38s 67ms/step - loss: 4.2402 - val_loss: 4.3826\n",
            "Epoch 23/200\n",
            "577/577 [==============================] - 38s 67ms/step - loss: 4.1952 - val_loss: 4.3546\n",
            "Epoch 24/200\n",
            "577/577 [==============================] - 39s 67ms/step - loss: 4.1519 - val_loss: 4.3272\n",
            "Epoch 25/200\n",
            "577/577 [==============================] - 39s 67ms/step - loss: 4.1105 - val_loss: 4.2999\n",
            "Epoch 26/200\n",
            "577/577 [==============================] - 39s 67ms/step - loss: 4.0695 - val_loss: 4.2813\n",
            "Epoch 27/200\n",
            "577/577 [==============================] - 39s 67ms/step - loss: 4.0304 - val_loss: 4.2507\n",
            "Epoch 28/200\n",
            "577/577 [==============================] - 38s 67ms/step - loss: 3.9930 - val_loss: 4.2298\n",
            "Epoch 29/200\n",
            "577/577 [==============================] - 39s 67ms/step - loss: 3.9554 - val_loss: 4.2066\n",
            "Epoch 30/200\n",
            "577/577 [==============================] - 39s 67ms/step - loss: 3.9195 - val_loss: 4.1870\n",
            "Epoch 31/200\n",
            "577/577 [==============================] - 39s 67ms/step - loss: 3.8849 - val_loss: 4.1702\n",
            "Epoch 32/200\n",
            "577/577 [==============================] - 38s 67ms/step - loss: 3.8506 - val_loss: 4.1505\n",
            "Epoch 33/200\n",
            "577/577 [==============================] - 39s 67ms/step - loss: 3.8176 - val_loss: 4.1320\n",
            "Epoch 34/200\n",
            "577/577 [==============================] - 39s 67ms/step - loss: 3.7857 - val_loss: 4.1164\n",
            "Epoch 35/200\n",
            "577/577 [==============================] - 38s 67ms/step - loss: 3.7549 - val_loss: 4.1008\n",
            "Epoch 36/200\n",
            "577/577 [==============================] - 39s 67ms/step - loss: 3.7241 - val_loss: 4.0867\n",
            "Epoch 37/200\n",
            "577/577 [==============================] - 39s 67ms/step - loss: 3.6938 - val_loss: 4.0690\n",
            "Epoch 38/200\n",
            "577/577 [==============================] - 39s 67ms/step - loss: 3.6652 - val_loss: 4.0560\n",
            "Epoch 39/200\n",
            "577/577 [==============================] - 38s 67ms/step - loss: 3.6367 - val_loss: 4.0487\n",
            "Epoch 40/200\n",
            "577/577 [==============================] - 39s 67ms/step - loss: 3.6090 - val_loss: 4.0328\n",
            "Epoch 41/200\n",
            "577/577 [==============================] - 39s 67ms/step - loss: 3.5824 - val_loss: 4.0196\n",
            "Epoch 42/200\n",
            "577/577 [==============================] - 38s 67ms/step - loss: 3.5550 - val_loss: 4.0093\n",
            "Epoch 43/200\n",
            "577/577 [==============================] - 39s 67ms/step - loss: 3.5290 - val_loss: 3.9999\n",
            "Epoch 44/200\n",
            "577/577 [==============================] - 38s 67ms/step - loss: 3.5037 - val_loss: 3.9907\n",
            "Epoch 45/200\n",
            "577/577 [==============================] - 38s 67ms/step - loss: 3.4790 - val_loss: 3.9825\n",
            "Epoch 46/200\n",
            "577/577 [==============================] - 39s 67ms/step - loss: 3.4543 - val_loss: 3.9733\n",
            "Epoch 47/200\n",
            "577/577 [==============================] - 39s 67ms/step - loss: 3.4301 - val_loss: 3.9615\n",
            "Epoch 48/200\n",
            "577/577 [==============================] - 39s 67ms/step - loss: 3.4072 - val_loss: 3.9562\n",
            "Epoch 49/200\n",
            "577/577 [==============================] - 38s 67ms/step - loss: 3.3832 - val_loss: 3.9476\n",
            "Epoch 50/200\n",
            "577/577 [==============================] - 39s 67ms/step - loss: 3.3601 - val_loss: 3.9414\n",
            "Epoch 51/200\n",
            "577/577 [==============================] - 38s 67ms/step - loss: 3.3381 - val_loss: 3.9318\n",
            "Epoch 52/200\n",
            "577/577 [==============================] - 39s 67ms/step - loss: 3.3165 - val_loss: 3.9262\n",
            "Epoch 53/200\n",
            "577/577 [==============================] - 38s 67ms/step - loss: 3.2948 - val_loss: 3.9226\n",
            "Epoch 54/200\n",
            "577/577 [==============================] - 39s 67ms/step - loss: 3.2741 - val_loss: 3.9167\n",
            "Epoch 55/200\n",
            "577/577 [==============================] - 39s 67ms/step - loss: 3.2531 - val_loss: 3.9102\n",
            "Epoch 56/200\n",
            "577/577 [==============================] - 38s 67ms/step - loss: 3.2324 - val_loss: 3.9071\n",
            "Epoch 57/200\n",
            "577/577 [==============================] - 39s 67ms/step - loss: 3.2122 - val_loss: 3.9006\n",
            "Epoch 58/200\n",
            "577/577 [==============================] - 38s 67ms/step - loss: 3.1928 - val_loss: 3.8959\n",
            "Epoch 59/200\n",
            "577/577 [==============================] - 38s 67ms/step - loss: 3.1738 - val_loss: 3.8931\n",
            "Epoch 60/200\n",
            "577/577 [==============================] - 39s 67ms/step - loss: 3.1537 - val_loss: 3.8901\n",
            "Epoch 61/200\n",
            "577/577 [==============================] - 38s 67ms/step - loss: 3.1352 - val_loss: 3.8835\n",
            "Epoch 62/200\n",
            "577/577 [==============================] - 39s 67ms/step - loss: 3.1155 - val_loss: 3.8785\n",
            "Epoch 63/200\n",
            "577/577 [==============================] - 39s 67ms/step - loss: 3.0982 - val_loss: 3.8743\n",
            "Epoch 64/200\n",
            "577/577 [==============================] - 39s 67ms/step - loss: 3.0802 - val_loss: 3.8702\n",
            "Epoch 65/200\n",
            "577/577 [==============================] - 39s 67ms/step - loss: 3.0620 - val_loss: 3.8687\n",
            "Epoch 66/200\n",
            "577/577 [==============================] - 39s 67ms/step - loss: 3.0456 - val_loss: 3.8667\n",
            "Epoch 67/200\n",
            "577/577 [==============================] - 39s 67ms/step - loss: 3.0277 - val_loss: 3.8656\n",
            "Epoch 68/200\n",
            "577/577 [==============================] - 39s 67ms/step - loss: 3.0095 - val_loss: 3.8622\n",
            "Epoch 69/200\n",
            "577/577 [==============================] - 39s 67ms/step - loss: 2.9930 - val_loss: 3.8611\n",
            "Epoch 70/200\n",
            "577/577 [==============================] - 39s 67ms/step - loss: 2.9768 - val_loss: 3.8558\n",
            "Epoch 71/200\n",
            "577/577 [==============================] - 39s 67ms/step - loss: 2.9603 - val_loss: 3.8542\n",
            "Epoch 72/200\n",
            "577/577 [==============================] - 39s 67ms/step - loss: 2.9441 - val_loss: 3.8528\n",
            "Epoch 73/200\n",
            "577/577 [==============================] - 39s 67ms/step - loss: 2.9280 - val_loss: 3.8536\n",
            "Epoch 74/200\n",
            "577/577 [==============================] - 39s 67ms/step - loss: 2.9130 - val_loss: 3.8478\n",
            "Epoch 75/200\n",
            "577/577 [==============================] - 39s 67ms/step - loss: 2.8967 - val_loss: 3.8514\n",
            "Epoch 76/200\n",
            "577/577 [==============================] - 38s 67ms/step - loss: 2.8823 - val_loss: 3.8463\n",
            "Epoch 77/200\n",
            "577/577 [==============================] - 38s 67ms/step - loss: 2.8668 - val_loss: 3.8458\n",
            "Epoch 78/200\n",
            "577/577 [==============================] - 39s 67ms/step - loss: 2.8508 - val_loss: 3.8496\n",
            "Epoch 79/200\n",
            "577/577 [==============================] - 39s 67ms/step - loss: 2.8371 - val_loss: 3.8450\n",
            "Epoch 80/200\n",
            "577/577 [==============================] - 39s 67ms/step - loss: 2.8219 - val_loss: 3.8473\n",
            "Epoch 81/200\n",
            "577/577 [==============================] - 38s 67ms/step - loss: 2.8078 - val_loss: 3.8443\n",
            "Epoch 82/200\n",
            "577/577 [==============================] - 39s 67ms/step - loss: 2.7938 - val_loss: 3.8477\n",
            "Epoch 83/200\n",
            "577/577 [==============================] - 39s 67ms/step - loss: 2.7800 - val_loss: 3.8433\n",
            "Epoch 84/200\n",
            "577/577 [==============================] - 39s 67ms/step - loss: 2.7660 - val_loss: 3.8414\n",
            "Epoch 85/200\n",
            "577/577 [==============================] - 39s 67ms/step - loss: 2.7527 - val_loss: 3.8429\n",
            "Epoch 86/200\n",
            "577/577 [==============================] - 39s 67ms/step - loss: 2.7381 - val_loss: 3.8434\n",
            "Epoch 87/200\n",
            "577/577 [==============================] - 39s 67ms/step - loss: 2.7255 - val_loss: 3.8451\n",
            "Epoch 88/200\n",
            "577/577 [==============================] - 38s 67ms/step - loss: 2.7117 - val_loss: 3.8443\n",
            "Epoch 89/200\n",
            "577/577 [==============================] - 39s 67ms/step - loss: 2.6983 - val_loss: 3.8447\n",
            "Epoch 00089: early stopping\n"
          ]
        }
      ],
      "source": [
        "# 모델 훈련하기\n",
        "from tensorflow.keras.optimizers import Adam\n",
        "# RMSprop은 주로 잡음이 많은 데이터셋에 특히 유용\n",
        "# model.compile(optimizer='rmsprop', loss='sparse_categorical_crossentropy')\n",
        "model.compile(optimizer=Adam(learning_rate=0.0001, beta_1=0.9, beta_2=0.999), loss='sparse_categorical_crossentropy')\n",
        "es = EarlyStopping(monitor='val_loss', patience=5, verbose=1)\n",
        "history = model.fit(x=[encoder_input_train, decoder_input_train], y=decoder_target_train, \\\n",
        "         validation_data=([encoder_input_test, decoder_input_test], decoder_target_test), \\\n",
        "         batch_size=128, callbacks=[es], epochs=200)"
      ]
    },
    {
      "cell_type": "code",
      "execution_count": null,
      "metadata": {
        "colab": {
          "base_uri": "https://localhost:8080/",
          "height": 430
        },
        "id": "x_4zM2yFho7e",
        "outputId": "3c4f431c-7ebb-45b4-ac34-d30626fcaf85"
      },
      "outputs": [
        {
          "data": {
            "image/png": "[encoded data removed]",
            "text/plain": [
              "<Figure size 432x288 with 1 Axes>"
            ]
          },
          "metadata": {
            "needs_background": "light"
          },
          "output_type": "display_data"
        }
      ],
      "source": [
        "# 훈련 데이터의 손실과 검증 데이터의 손실이 줄어드는 과정을 시각화\n",
        "plt.plot(history.history['loss'], label='train')\n",
        "plt.plot(history.history['val_loss'], label='test')\n",
        "plt.legend()\n",
        "plt.show()"
      ]
    },
    {
      "cell_type": "code",
      "execution_count": null,
      "metadata": {
        "id": "Au4_uDNghpBM"
      },
      "outputs": [],
      "source": [
        "# 인퍼런스(추론) 모델 구현\n",
        "src_index_to_word = src_tokenizer.index_word # 원문 단어 집합에서 정수 -> 단어를 얻음\n",
        "tar_word_to_index = tar_tokenizer.word_index # 요약 단어 집합에서 단어 -> 정수를 얻음\n",
        "tar_index_to_word = tar_tokenizer.index_word # 요약 단어 집합에서 정수 -> 단어를 얻음"
      ]
    },
    {
      "cell_type": "code",
      "execution_count": null,
      "metadata": {
        "id": "gUVN6O0laYMt"
      },
      "outputs": [],
      "source": [
        "# 인코더 설계\n",
        "encoder_model = Model(inputs=encoder_inputs, outputs=[encoder_output3, state_h3, state_c3])\n",
        "\n",
        "# 이전 시점의 상태들을 저장하는 텐서\n",
        "decoder_state_input_h = Input(shape=(hidden_size,))\n",
        "decoder_state_input_c = Input(shape=(hidden_size,))\n",
        "\n",
        "dec_emb2 = dec_emb_layer(decoder_inputs)\n",
        "\n",
        "# 문장의 다음 단어를 예측하기 위해서 초기 상태(initial_state)를 이전 시점의 상태로 사용. 이는 뒤의 함수 decode_sequence()에 구현\n",
        "# 훈련 과정에서와 달리 LSTM의 리턴하는 은닉 상태와 셀 상태인 state_h와 state_c를 버리지 않음.\n",
        "decoder_outputs2, state_h2, state_c2 = decoder_lstm(dec_emb2, initial_state=[decoder_state_input_h, decoder_state_input_c])"
      ]
    },
    {
      "cell_type": "code",
      "execution_count": null,
      "metadata": {
        "id": "2yO7TMF2ny-d"
      },
      "outputs": [],
      "source": [
        "# 어텐션 함수\n",
        "decoder_hidden_state_input = Input(shape=(text_max_len, hidden_size))\n",
        "attn_out_inf = attn_layer([decoder_outputs2, decoder_hidden_state_input])\n",
        "decoder_inf_concat = Concatenate(axis=-1, name='concat')([decoder_outputs2, attn_out_inf])\n",
        "\n",
        "# 디코더의 출력층\n",
        "decoder_outputs2 = decoder_softmax_layer(decoder_inf_concat)\n",
        "\n",
        "# 최종 디코더 모델\n",
        "decoder_model = Model(\n",
        "   [decoder_inputs] + [decoder_hidden_state_input,decoder_state_input_h, decoder_state_input_c],\n",
        "   [decoder_outputs2] + [state_h2, state_c2])"
      ]
    },
    {
      "cell_type": "code",
      "execution_count": null,
      "metadata": {
        "id": "T1AigCdTnzFk"
      },
      "outputs": [],
      "source": [
        "def decode_sequence(input_seq):\n",
        "   # 입력으로부터 인코더의 상태를 얻음\n",
        "   e_out, e_h, e_c = encoder_model.predict(input_seq)\n",
        "\n",
        "    # <SOS>에 해당하는 토큰 생성\n",
        "    # 디코딩을 시작하기 위해 디코더에 입력될 첫 번째 토큰, 즉 \"시작 토큰\"을 설정하는 역할​\n",
        "   target_seq = np.zeros((1,1)) # target_seq는 2차원 배열로, 행이 1개이고 열이 1개, [[0]]\n",
        "   target_seq[0, 0] = tar_word_to_index['sostoken']\n",
        "\n",
        "   stop_condition = False\n",
        "   decoded_sentence = ''\n",
        "   while not stop_condition: # stop_condition이 True가 될 때까지 루프 반복\n",
        "\n",
        "       output_tokens, h, c = decoder_model.predict([target_seq] + [e_out, e_h, e_c]) # 이 코드는 현재의 입력 토큰 및 인코더의 출력 및 상태값을 사용하여 디코더로 다음 토큰을 예측\n",
        "       sampled_token_index = np.argmax(output_tokens[0, -1, :]) # 배치의 첫 번째 시퀀스(0), 시퀀스의 마지막 토큰(-1) 및 모든 어휘 확률 중 가장 가능성이 높은 다음 단어의 인덱스 선택\n",
        "       sampled_token = tar_index_to_word[sampled_token_index]\n",
        "\n",
        "       if (sampled_token!='eostoken'):\n",
        "           decoded_sentence += ' '+sampled_token\n",
        "\n",
        "       #  <eos>에 도달하거나 최대 길이를 넘으면 중단.\n",
        "       if (sampled_token == 'eostoken'  or len(decoded_sentence.split()) >= (headline_max_len-1)):\n",
        "           stop_condition = True\n",
        "\n",
        "       # 길이가 1인 타겟 시퀀스를 업데이트\n",
        "       target_seq = np.zeros((1,1))\n",
        "       target_seq[0, 0] = sampled_token_index\n",
        "\n",
        "       # 상태를 업데이트 합니다.\n",
        "       e_h, e_c = h, c\n",
        "\n",
        "   return decoded_sentence"
      ]
    },
    {
      "cell_type": "code",
      "execution_count": null,
      "metadata": {
        "id": "s_ajRSC5nzMD"
      },
      "outputs": [],
      "source": [
        "# 원문의 정수 시퀀스를 텍스트 시퀀스로 변환\n",
        "def seq2text(input_seq):\n",
        "   temp=''\n",
        "   for i in input_seq:\n",
        "       if (i!=0):\n",
        "           temp = temp + src_index_to_word[i]+' '\n",
        "   return temp\n",
        "\n",
        "# 요약문의 정수 시퀀스를 텍스트 시퀀스로 변환\n",
        "def seq2summary(input_seq):\n",
        "   # [[YOUR CODE]]\n",
        "   temp=''\n",
        "   start_tok = tar_word_to_index['sostoken']\n",
        "   end_tok = tar_word_to_index['eostoken']\n",
        "\n",
        "   for i in input_seq:\n",
        "       if (i!=0 and i!=start_tok and i!=end_tok):\n",
        "           temp = temp + tar_index_to_word[i]+' '\n",
        "   return temp"
      ]
    },
    {
      "cell_type": "code",
      "execution_count": null,
      "metadata": {
        "colab": {
          "base_uri": "https://localhost:8080/"
        },
        "id": "JjC_0dcknzSL",
        "outputId": "f236af7f-fdd8-4561-d99a-63fdbeeda713",
        "scrolled": true
      },
      "outputs": [
        {
          "name": "stdout",
          "output_type": "stream",
          "text": [
            "원문 : russia is allowing thousands of north korean workers to enter the country and giving them new work permits in potential violation of un sanctions according to reports over new north korean workers have registered in russia and new work permits have been issued since the un imposed the ban last year reports quoting russian government records showed \n",
            "실제 요약 : russia gives work permit to despite un ban report \n",
            "예측 요약 :  korea to buy us military embargo for korea\n",
            "\n",
            "\n",
            "원문 : author chetan bhagat has said that the hindi film adaptation of his novel half girlfriend was too in parts and could have certainly turned out better chetan added that with arjun kapoor as the leading man the expectations were high the film which released on may was rated by hindustan times and by india today \n",
            "실제 요약 : film version of my novel half girlfriend too chetan \n",
            "예측 요약 :  my actors have been made in my film irrfan\n",
            "\n",
            "\n",
            "원문 : opener mayank agarwal scored runs off balls in his first ever test innings as india ended the first day of the third test against australia at the year old batsman who is the th cricketer to represent india in test cricket hit eight fours and six during his knock fast bowler pat cummins took both the indian wickets \n",
            "실제 요약 : mayank agarwal scores on debut as india end day at \n",
            "예측 요약 :  cook st test test score in test test test for yrs\n",
            "\n",
            "\n",
            "원문 : dewan housing finance shares on thursday fell after reports said the government has launched probe into the company alleged fund diversion media report accused controlling shareholders the of diverting funds worth crore including loans from state run banks to shell firms the company however said it has not received any communication from government \n",
            "실제 요약 : shares plunge following reports of govt probe \n",
            "예측 요약 :  how did not hit cr in banking fraud case\n",
            "\n",
            "\n",
            "원문 : as per reports comedian kapil sharma will resume shooting for his show the kapil sharma show in month as his health has improved earlier the show had gone on short break owing to kapil ill health kapil later revealed that he checked into an ayurveda clinic in bengaluru for complete \n",
            "실제 요약 : kapil sharma to resume shoot for his show in month report \n",
            "예측 요약 :  kapil sharma show kapil sharma show reports\n",
            "\n",
            "\n"
          ]
        }
      ],
      "source": [
        "# 테스트 데이터 약 50개의 샘플에 대해서 실제 요약과 예측된 요약을 비교\n",
        "\n",
        "for i in range(0, 5):\n",
        "   print(\"원문 :\", seq2text(encoder_input_test[i]))\n",
        "   print(\"실제 요약 :\", seq2summary(decoder_input_test[i]))\n",
        "   print(\"예측 요약 :\", decode_sequence(encoder_input_test[i].reshape(1, text_max_len)))\n",
        "   print(\"\\n\")"
      ]
    },
    {
      "cell_type": "code",
      "execution_count": null,
      "metadata": {
        "id": "lJFq42DcnzYR",
        "outputId": "e599ec5e-98d8-4646-ed4e-77997f9fb18a"
      },
      "outputs": [
        {
          "name": "stdout",
          "output_type": "stream",
          "text": [
            "3.6.5\n",
            "2.6.0\n",
            "1.3.3\n",
            "1.2.0\n"
          ]
        }
      ],
      "source": [
        "# SMMMA 추출적 요약 구현\n",
        "# 라이브러리 임포트\n",
        "from importlib.metadata import version\n",
        "import nltk\n",
        "import tensorflow\n",
        "from summa.summarizer import summarize\n",
        "import pandas as pd\n",
        "\n",
        "print(nltk.__version__)\n",
        "print(tensorflow.__version__)\n",
        "print(pd.__version__)\n",
        "print(version('summa'))"
      ]
    },
    {
      "cell_type": "code",
      "execution_count": null,
      "metadata": {
        "id": "vFYI9c2GnzeY",
        "outputId": "e4d5a9b5-e06d-49db-bb48-bdc096ce45ba"
      },
      "outputs": [
        {
          "data": {
            "text/html": [
              "<div>\n",
              "<style scoped>\n",
              "    .dataframe tbody tr th:only-of-type {\n",
              "        vertical-align: middle;\n",
              "    }\n",
              "\n",
              "    .dataframe tbody tr th {\n",
              "        vertical-align: top;\n",
              "    }\n",
              "\n",
              "    .dataframe thead th {\n",
              "        text-align: right;\n",
              "    }\n",
              "</style>\n",
              "<table border=\"1\" class=\"dataframe\">\n",
              "  <thead>\n",
              "    <tr style=\"text-align: right;\">\n",
              "      <th></th>\n",
              "      <th>headlines</th>\n",
              "      <th>text</th>\n",
              "    </tr>\n",
              "  </thead>\n",
              "  <tbody>\n",
              "    <tr>\n",
              "      <th>90853</th>\n",
              "      <td>Fyre Festival organisers face $100 mn suit for...</td>\n",
              "      <td>Celebrity lawyer Mark Geragos has filed a $100...</td>\n",
              "    </tr>\n",
              "    <tr>\n",
              "      <th>87036</th>\n",
              "      <td>Anand Mahindra wants to buy car in Rajinikanth...</td>\n",
              "      <td>Mahindra Group's Anand Mahindra on Monday twee...</td>\n",
              "    </tr>\n",
              "    <tr>\n",
              "      <th>27881</th>\n",
              "      <td>We are feeling great pain due to sanctions: Ki...</td>\n",
              "      <td>Following his summit with US President Donald ...</td>\n",
              "    </tr>\n",
              "    <tr>\n",
              "      <th>86619</th>\n",
              "      <td>Pak man tweets to Swaraj about ailing child, g...</td>\n",
              "      <td>India has issued a medical visa to a two-and-a...</td>\n",
              "    </tr>\n",
              "    <tr>\n",
              "      <th>70979</th>\n",
              "      <td>How do hurricanes, the most violent storms on ...</td>\n",
              "      <td>Storms that form over the Atlantic and eastern...</td>\n",
              "    </tr>\n",
              "    <tr>\n",
              "      <th>4284</th>\n",
              "      <td>Cook first England cricketer to be knighted si...</td>\n",
              "      <td>Former England captain Alastair Cook, who reti...</td>\n",
              "    </tr>\n",
              "    <tr>\n",
              "      <th>8914</th>\n",
              "      <td>UK MP 'mocks suicide' during Parliament debate</td>\n",
              "      <td>Clive Lewis, Member of the Parliament from the...</td>\n",
              "    </tr>\n",
              "    <tr>\n",
              "      <th>32170</th>\n",
              "      <td>5 SC judges to hear plea on rejection of motio...</td>\n",
              "      <td>A five-judge Supreme Court bench will hear the...</td>\n",
              "    </tr>\n",
              "    <tr>\n",
              "      <th>41401</th>\n",
              "      <td>Man accused of raping minor lynched in Ghaziabad</td>\n",
              "      <td>A 24-year-old man accused of raping an eight-y...</td>\n",
              "    </tr>\n",
              "    <tr>\n",
              "      <th>41421</th>\n",
              "      <td>16 dead, 1400 injured in Gaza-Israel border pr...</td>\n",
              "      <td>Israel's military has killed at least 16 Pales...</td>\n",
              "    </tr>\n",
              "  </tbody>\n",
              "</table>\n",
              "</div>"
            ],
            "text/plain": [
              "                                               headlines  \\\n",
              "90853  Fyre Festival organisers face $100 mn suit for...   \n",
              "87036  Anand Mahindra wants to buy car in Rajinikanth...   \n",
              "27881  We are feeling great pain due to sanctions: Ki...   \n",
              "86619  Pak man tweets to Swaraj about ailing child, g...   \n",
              "70979  How do hurricanes, the most violent storms on ...   \n",
              "4284   Cook first England cricketer to be knighted si...   \n",
              "8914      UK MP 'mocks suicide' during Parliament debate   \n",
              "32170  5 SC judges to hear plea on rejection of motio...   \n",
              "41401   Man accused of raping minor lynched in Ghaziabad   \n",
              "41421  16 dead, 1400 injured in Gaza-Israel border pr...   \n",
              "\n",
              "                                                    text  \n",
              "90853  Celebrity lawyer Mark Geragos has filed a $100...  \n",
              "87036  Mahindra Group's Anand Mahindra on Monday twee...  \n",
              "27881  Following his summit with US President Donald ...  \n",
              "86619  India has issued a medical visa to a two-and-a...  \n",
              "70979  Storms that form over the Atlantic and eastern...  \n",
              "4284   Former England captain Alastair Cook, who reti...  \n",
              "8914   Clive Lewis, Member of the Parliament from the...  \n",
              "32170  A five-judge Supreme Court bench will hear the...  \n",
              "41401  A 24-year-old man accused of raping an eight-y...  \n",
              "41421  Israel's military has killed at least 16 Pales...  "
            ]
          },
          "execution_count": 48,
          "metadata": {},
          "output_type": "execute_result"
        }
      ],
      "source": [
        "# 데이터 로드\n",
        "import urllib.request\n",
        "urllib.request.urlretrieve(\"https://raw.githubusercontent.com/sunnysai12345/News_Summary/master/news_summary_more.csv\", filename=\"news_summary_more.csv\")\n",
        "data = pd.read_csv('news_summary_more.csv', encoding='iso-8859-1')\n",
        "data.sample(10)"
      ]
    },
    {
      "cell_type": "code",
      "execution_count": null,
      "metadata": {
        "id": "0m48-Y7MaYSo",
        "outputId": "91aedc58-d19b-48a2-85fa-51a70bb14a0f"
      },
      "outputs": [
        {
          "name": "stdout",
          "output_type": "stream",
          "text": [
            "<class 'pandas.core.frame.DataFrame'>\n",
            "RangeIndex: 98401 entries, 0 to 98400\n",
            "Data columns (total 2 columns):\n",
            " #   Column     Non-Null Count  Dtype \n",
            "---  ------     --------------  ----- \n",
            " 0   headlines  98401 non-null  object\n",
            " 1   text       98401 non-null  object\n",
            "dtypes: object(2)\n",
            "memory usage: 1.5+ MB\n"
          ]
        }
      ],
      "source": [
        "# 데이터 확인\n",
        "data.info()"
      ]
    },
    {
      "cell_type": "code",
      "execution_count": null,
      "metadata": {
        "id": "8I9b_hQ-n6c0",
        "outputId": "22e3a8f1-a536-47d9-83b4-1c186b6723ed"
      },
      "outputs": [
        {
          "name": "stdout",
          "output_type": "stream",
          "text": [
            "[원문]\n",
            "Saurav Kant, an alumnus of upGrad and IIIT-B's PG Program in Machine learning and Artificial Intelligence, was a Sr Systems Engineer at Infosys with almost 5 years of work experience. The program and upGrad's 360-degree career support helped him transition to a Data Scientist at Tech Mahindra with 90% salary hike. upGrad's Online Power Learning has powered 3 lakh+ careers.\n",
            "[실제 요약]\n",
            "upGrad learner switches to career in ML & Al with 90% salary hike\n",
            "[예측 요약]\n",
            "upGrad's Online Power Learning has powered 3 lakh+ careers.\n",
            "================================================================================\n",
            "[원문]\n",
            "Kunal Shah's credit card bill payment platform, CRED, gave users a chance to win free food from Swiggy for one year. Pranav Kaushik, a Delhi techie, bagged this reward after spending 2000 CRED coins. Users get one CRED coin per rupee of bill paid, which can be used to avail rewards from brands like Ixigo, BookMyShow, UberEats, Cult.Fit and more.\n",
            "[실제 요약]\n",
            "Delhi techie wins free food from Swiggy for one year on CRED\n",
            "[예측 요약]\n",
            "Users get one CRED coin per rupee of bill paid, which can be used to avail rewards from brands like Ixigo, BookMyShow, UberEats, Cult.Fit and more.\n",
            "================================================================================\n",
            "[원문]\n",
            "New Zealand defeated India by 8 wickets in the fourth ODI at Hamilton on Thursday to win their first match of the five-match ODI series. India lost an international match under Rohit Sharma's captaincy after 12 consecutive victories dating back to March 2018. The match witnessed India getting all out for 92, their seventh lowest total in ODI cricket history.\n",
            "[실제 요약]\n",
            "New Zealand end Rohit Sharma-led India's 12-match winning streak\n",
            "[예측 요약]\n",
            "The match witnessed India getting all out for 92, their seventh lowest total in ODI cricket history.\n",
            "================================================================================\n",
            "[원문]\n",
            "With Aegon Life iTerm Insurance plan, customers can enjoy tax benefits on your premiums paid and save up to Ã¢ÂÂ¹46,800^ on taxes. The plan provides life cover up to the age of 100 years. Also, customers have options to insure against Critical Illnesses, Disability and Accidental Death Benefit Rider with a life cover up to the age of 80 years.\n",
            "[실제 요약]\n",
            "Aegon life iTerm insurance plan helps customers save tax\n",
            "[예측 요약]\n",
            "Also, customers have options to insure against Critical Illnesses, Disability and Accidental Death Benefit Rider with a life cover up to the age of 80 years.\n",
            "================================================================================\n",
            "[원문]\n",
            "Speaking about the sexual harassment allegations against Rajkumar Hirani, Sonam Kapoor said, \"I've known Hirani for many years...What if it's not true, the [#MeToo] movement will get derailed.\" \"In the #MeToo movement, I always believe a woman. But in this case, we need to reserve our judgment,\" she added. Hirani has been accused by an assistant who worked in 'Sanju'.\n",
            "[실제 요약]\n",
            "Have known Hirani for yrs, what if MeToo claims are not true: Sonam\n",
            "[예측 요약]\n",
            "Speaking about the sexual harassment allegations against Rajkumar Hirani, Sonam Kapoor said, \"I've known Hirani for many years...What if it's not true, the [#MeToo] movement will get derailed.\" \"In the #MeToo movement, I always believe a woman.\n",
            "================================================================================\n"
          ]
        }
      ],
      "source": [
        "# ratio를 정하기 위해 다양한 값으로 테스트 => 0.6으로 결정\n",
        "for i in range(0, 5):\n",
        "    text = data.iloc[i]['text']\n",
        "    print(f'[원문]\\n{text}')\n",
        "    headline = data.iloc[i]['headlines']\n",
        "    print(f'[실제 요약]\\n{headline}')\n",
        "    summary = summarize(text, ratio=0.6)\n",
        "    print(f'[예측 요약]\\n{summary}')\n",
        "    print('='*80)"
      ]
    },
    {
      "cell_type": "code",
      "execution_count": null,
      "metadata": {
        "id": "k3upAn2Vn6c0"
      },
      "outputs": [],
      "source": [
        "# Summa summarize()로 요약 추출\n",
        "def custom_summary(text):\n",
        "    summarized = summarize(text, ratio=0.6) # ratio =0.6\n",
        "    words = summarized.split()\n",
        "    if len(words) > 12: # 기사 타이틀이 15 단어가 넘으면 절삭\n",
        "        return ' '.join(words[:12])\n",
        "    return summarized\n",
        "\n",
        "data['summary'] = data['text'].apply(custom_summary)"
      ]
    },
    {
      "cell_type": "code",
      "execution_count": null,
      "metadata": {
        "id": "G6aO69F4n6c0",
        "outputId": "670b4f47-86b4-4499-9acc-d3e0d552b2dc"
      },
      "outputs": [
        {
          "name": "stdout",
          "output_type": "stream",
          "text": [
            "[Article]: Saurav Kant, an alumnus of upGrad and IIIT-B's PG Program in Machine learning and Artificial Intelligence, was a Sr Systems Engineer at Infosys with almost 5 years of work experience. The program and upGrad's 360-degree career support helped him transition to a Data Scientist at Tech Mahindra with 90% salary hike. upGrad's Online Power Learning has powered 3 lakh+ careers.\n",
            "[Headlines]: upGrad learner switches to career in ML & Al with 90% salary hike\n",
            "[Summary]: upGrad's Online Power Learning has powered 3 lakh+ careers.\n",
            "--------------------------------------------------------------------------------\n",
            "[Article]: Kunal Shah's credit card bill payment platform, CRED, gave users a chance to win free food from Swiggy for one year. Pranav Kaushik, a Delhi techie, bagged this reward after spending 2000 CRED coins. Users get one CRED coin per rupee of bill paid, which can be used to avail rewards from brands like Ixigo, BookMyShow, UberEats, Cult.Fit and more.\n",
            "[Headlines]: Delhi techie wins free food from Swiggy for one year on CRED\n",
            "[Summary]: Users get one CRED coin per rupee of bill paid, which can\n",
            "--------------------------------------------------------------------------------\n",
            "[Article]: New Zealand defeated India by 8 wickets in the fourth ODI at Hamilton on Thursday to win their first match of the five-match ODI series. India lost an international match under Rohit Sharma's captaincy after 12 consecutive victories dating back to March 2018. The match witnessed India getting all out for 92, their seventh lowest total in ODI cricket history.\n",
            "[Headlines]: New Zealand end Rohit Sharma-led India's 12-match winning streak\n",
            "[Summary]: The match witnessed India getting all out for 92, their seventh lowest\n",
            "--------------------------------------------------------------------------------\n",
            "[Article]: With Aegon Life iTerm Insurance plan, customers can enjoy tax benefits on your premiums paid and save up to Ã¢ÂÂ¹46,800^ on taxes. The plan provides life cover up to the age of 100 years. Also, customers have options to insure against Critical Illnesses, Disability and Accidental Death Benefit Rider with a life cover up to the age of 80 years.\n",
            "[Headlines]: Aegon life iTerm insurance plan helps customers save tax\n",
            "[Summary]: Also, customers have options to insure against Critical Illnesses, Disability and Accidental\n",
            "--------------------------------------------------------------------------------\n",
            "[Article]: Speaking about the sexual harassment allegations against Rajkumar Hirani, Sonam Kapoor said, \"I've known Hirani for many years...What if it's not true, the [#MeToo] movement will get derailed.\" \"In the #MeToo movement, I always believe a woman. But in this case, we need to reserve our judgment,\" she added. Hirani has been accused by an assistant who worked in 'Sanju'.\n",
            "[Headlines]: Have known Hirani for yrs, what if MeToo claims are not true: Sonam\n",
            "[Summary]: Speaking about the sexual harassment allegations against Rajkumar Hirani, Sonam Kapoor said,\n",
            "--------------------------------------------------------------------------------\n"
          ]
        }
      ],
      "source": [
        "# sampled_data = data.sample(3)\n",
        "sampled_data = data.head(5)\n",
        "\n",
        "for idx, row in sampled_data.iterrows():\n",
        "    print(f\"[Article]: {row['text']}\")\n",
        "    print(f\"[Headlines]: {row['headlines']}\")\n",
        "    print(f\"[Summary]: {row['summary']}\")\n",
        "    print(\"-\" * 80)"
      ]
    },
    {
      "cell_type": "code",
      "execution_count": null,
      "metadata": {
        "id": "ZVrTsAw4n6c0"
      },
      "outputs": [],
      "source": [
        "# 회고\n",
        "# 처음해보는 NLP라 낯설고 전에 배운 판다스 명령어도 생각이 안 나고 많이 힘들고 여러운 노드였습니다.\n",
        "# LSM 코드랑 챗GPT를 활용해 어찌어찌 프로젝트는 완성했지만 많이 어설프고 부족하는 생각이 듭니다\n",
        "# 이미지 같은 경우 리사이징이나 증강을 할 수 있는데 텍스트는 유사한 접근 방식이 있는 것인지?\n",
        "# 텍스트 예측과에 대한 출력 외 다른 평가 및 시각화 방법은 어떤 것이 인는지 궁금합니다.\n",
        "#"
      ]
    }
  ],
  "metadata": {
    "accelerator": "GPU",
    "colab": {
      "gpuType": "T4",
      "provenance": [],
      "include_colab_link": true
    },
    "kernelspec": {
      "display_name": "Python 3 (ipykernel)",
      "language": "python",
      "name": "python3"
    },
    "language_info": {
      "codemirror_mode": {
        "name": "ipython",
        "version": 3
      },
      "file_extension": ".py",
      "mimetype": "text/x-python",
      "name": "python",
      "nbconvert_exporter": "python",
      "pygments_lexer": "ipython3",
      "version": "3.9.7"
    }
  },
  "nbformat": 4,
  "nbformat_minor": 0
}