{
 "cells": [
  {
   "cell_type": "code",
   "execution_count": 1,
   "metadata": {
    "colab": {
     "base_uri": "https://localhost:8080/"
    },
    "id": "hjPI68OTSKcM",
    "outputId": "3d655629-575c-47a0-e602-2f6e334331d4"
   },
   "outputs": [
    {
     "name": "stderr",
     "output_type": "stream",
     "text": [
      "[nltk_data] Downloading package stopwords to /aiffel/nltk_data...\n",
      "[nltk_data]   Package stopwords is already up-to-date!\n"
     ]
    }
   ],
   "source": [
    "# 데이터 전처리를 위한 나머지 패키지 임포트\n",
    "import nltk\n",
    "nltk.download('stopwords')\n",
    "\n",
    "import numpy as np\n",
    "import pandas as pd\n",
    "import os\n",
    "import re\n",
    "import matplotlib.pyplot as plt\n",
    "from nltk.corpus import stopwords\n",
    "from bs4 import BeautifulSoup\n",
    "from tensorflow.keras.preprocessing.text import Tokenizer\n",
    "from tensorflow.keras.preprocessing.sequence import pad_sequences\n",
    "import urllib.request\n",
    "import warnings\n",
    "warnings.filterwarnings(\"ignore\", category=UserWarning, module='bs4')"
   ]
  },
  {
   "cell_type": "code",
   "execution_count": 2,
   "metadata": {
    "colab": {
     "base_uri": "https://localhost:8080/",
     "height": 143
    },
    "id": "k8zChm96m7r8",
    "outputId": "a54279ae-31f9-4011-a779-2025f35b8381"
   },
   "outputs": [
    {
     "data": {
      "text/html": [
       "<div>\n",
       "<style scoped>\n",
       "    .dataframe tbody tr th:only-of-type {\n",
       "        vertical-align: middle;\n",
       "    }\n",
       "\n",
       "    .dataframe tbody tr th {\n",
       "        vertical-align: top;\n",
       "    }\n",
       "\n",
       "    .dataframe thead th {\n",
       "        text-align: right;\n",
       "    }\n",
       "</style>\n",
       "<table border=\"1\" class=\"dataframe\">\n",
       "  <thead>\n",
       "    <tr style=\"text-align: right;\">\n",
       "      <th></th>\n",
       "      <th>headlines</th>\n",
       "      <th>text</th>\n",
       "    </tr>\n",
       "  </thead>\n",
       "  <tbody>\n",
       "    <tr>\n",
       "      <th>50319</th>\n",
       "      <td>YouTube ads hijacked to mine cryptocurrency Mo...</td>\n",
       "      <td>YouTube's ads were hijacked using Google's ad ...</td>\n",
       "    </tr>\n",
       "    <tr>\n",
       "      <th>45961</th>\n",
       "      <td>Yuvraj Singh-backed startup backs B'luru AI st...</td>\n",
       "      <td>Cricketer Yuvraj Singh-backed advisory firm St...</td>\n",
       "    </tr>\n",
       "    <tr>\n",
       "      <th>49272</th>\n",
       "      <td>App lets users locate free condom distribution...</td>\n",
       "      <td>Campaigners and activists in the Philippines h...</td>\n",
       "    </tr>\n",
       "  </tbody>\n",
       "</table>\n",
       "</div>"
      ],
      "text/plain": [
       "                                               headlines  \\\n",
       "50319  YouTube ads hijacked to mine cryptocurrency Mo...   \n",
       "45961  Yuvraj Singh-backed startup backs B'luru AI st...   \n",
       "49272  App lets users locate free condom distribution...   \n",
       "\n",
       "                                                    text  \n",
       "50319  YouTube's ads were hijacked using Google's ad ...  \n",
       "45961  Cricketer Yuvraj Singh-backed advisory firm St...  \n",
       "49272  Campaigners and activists in the Philippines h...  "
      ]
     },
     "execution_count": 2,
     "metadata": {},
     "output_type": "execute_result"
    }
   ],
   "source": [
    "# 데이터 준비\n",
    "import urllib.request\n",
    "urllib.request.urlretrieve(\"https://raw.githubusercontent.com/sunnysai12345/News_Summary/master/news_summary_more.csv\", filename=\"news_summary_more.csv\")\n",
    "data = pd.read_csv('news_summary_more.csv', encoding='iso-8859-1')\n",
    "data.sample(3)"
   ]
  },
  {
   "cell_type": "code",
   "execution_count": 3,
   "metadata": {
    "colab": {
     "base_uri": "https://localhost:8080/"
    },
    "id": "vwjBcbhyUMxO",
    "outputId": "3830a8e1-5030-413d-dcbe-380063e253f4"
   },
   "outputs": [
    {
     "name": "stdout",
     "output_type": "stream",
     "text": [
      "전체 샘플수 : 98401\n"
     ]
    }
   ],
   "source": [
    "print('전체 샘플수 :', (len(data)))"
   ]
  },
  {
   "cell_type": "code",
   "execution_count": 4,
   "metadata": {
    "colab": {
     "base_uri": "https://localhost:8080/"
    },
    "id": "jEhpcB3aUM9p",
    "outputId": "28e52c07-f346-483b-98a9-567823570c5c"
   },
   "outputs": [
    {
     "name": "stdout",
     "output_type": "stream",
     "text": [
      "headlines 열에서 중복을 배제한 유일한 샘플의 수 : 98280\n",
      "text 열에서 중복을 배제한 유일한 샘플의 수 : 98360\n"
     ]
    }
   ],
   "source": [
    "print('headlines 열에서 중복을 배제한 유일한 샘플의 수 :', data['headlines'].nunique())\n",
    "print('text 열에서 중복을 배제한 유일한 샘플의 수 :', data['text'].nunique())"
   ]
  },
  {
   "cell_type": "code",
   "execution_count": 5,
   "metadata": {
    "colab": {
     "base_uri": "https://localhost:8080/"
    },
    "id": "QrEJqbyKUNFH",
    "outputId": "e5222815-85d5-4673-ce23-bea290f5fc8f"
   },
   "outputs": [
    {
     "name": "stdout",
     "output_type": "stream",
     "text": [
      "전체 샘플수 : 98360\n"
     ]
    }
   ],
   "source": [
    "data.drop_duplicates(subset = ['text'], inplace=True)\n",
    "print('전체 샘플수 :', (len(data)))"
   ]
  },
  {
   "cell_type": "code",
   "execution_count": 6,
   "metadata": {
    "colab": {
     "base_uri": "https://localhost:8080/"
    },
    "id": "Woqt0exhV3uR",
    "outputId": "142394fa-d819-4d89-959f-92940f97d8cf"
   },
   "outputs": [
    {
     "name": "stdout",
     "output_type": "stream",
     "text": [
      "headlines    0\n",
      "text         0\n",
      "dtype: int64\n"
     ]
    }
   ],
   "source": [
    "print(data.isnull().sum())"
   ]
  },
  {
   "cell_type": "code",
   "execution_count": 7,
   "metadata": {
    "colab": {
     "base_uri": "https://localhost:8080/"
    },
    "id": "W2auSlPwXdoI",
    "outputId": "2e1c3241-d996-4d77-ca6e-abc3ef5b2f47"
   },
   "outputs": [
    {
     "name": "stdout",
     "output_type": "stream",
     "text": [
      "Article: Saurav Kant, an alumnus of upGrad and IIIT-B's PG Program in Machine learning and Artificial Intelligence, was a Sr Systems Engineer at Infosys with almost 5 years of work experience. The program and upGrad's 360-degree career support helped him transition to a Data Scientist at Tech Mahindra with 90% salary hike. upGrad's Online Power Learning has powered 3 lakh+ careers.\n",
      "Headlines: upGrad learner switches to career in ML & Al with 90% salary hike\n",
      "--------------------------------------------------\n",
      "Article: Kunal Shah's credit card bill payment platform, CRED, gave users a chance to win free food from Swiggy for one year. Pranav Kaushik, a Delhi techie, bagged this reward after spending 2000 CRED coins. Users get one CRED coin per rupee of bill paid, which can be used to avail rewards from brands like Ixigo, BookMyShow, UberEats, Cult.Fit and more.\n",
      "Headlines: Delhi techie wins free food from Swiggy for one year on CRED\n",
      "--------------------------------------------------\n",
      "Article: New Zealand defeated India by 8 wickets in the fourth ODI at Hamilton on Thursday to win their first match of the five-match ODI series. India lost an international match under Rohit Sharma's captaincy after 12 consecutive victories dating back to March 2018. The match witnessed India getting all out for 92, their seventh lowest total in ODI cricket history.\n",
      "Headlines: New Zealand end Rohit Sharma-led India's 12-match winning streak\n",
      "--------------------------------------------------\n"
     ]
    }
   ],
   "source": [
    "# 3개 데이터 확인\n",
    "sampled_data = data.head(3)\n",
    "\n",
    "for idx, row in sampled_data.iterrows():\n",
    "    print(f\"Article: {row['text']}\")\n",
    "    print(f\"Headlines: {row['headlines']}\")\n",
    "    print(\"-\" * 50)  # This will print a separator line"
   ]
  },
  {
   "cell_type": "code",
   "execution_count": 8,
   "metadata": {
    "colab": {
     "base_uri": "https://localhost:8080/"
    },
    "id": "2hJhnf07V7p0",
    "outputId": "298f6555-f216-4f46-dc30-27f49e7799db"
   },
   "outputs": [
    {
     "name": "stdout",
     "output_type": "stream",
     "text": [
      "정규화 사전의 수:  120\n"
     ]
    }
   ],
   "source": [
    "# 텍스트 정규화를 위한 사전(dictionary)을 아래와 같이 구성\n",
    "contractions = {\"ain't\": \"is not\", \"aren't\": \"are not\",\"can't\": \"cannot\", \"'cause\": \"because\", \"could've\": \"could have\", \"couldn't\": \"could not\",\n",
    "                          \"didn't\": \"did not\",  \"doesn't\": \"does not\", \"don't\": \"do not\", \"hadn't\": \"had not\", \"hasn't\": \"has not\", \"haven't\": \"have not\",\n",
    "                          \"he'd\": \"he would\",\"he'll\": \"he will\", \"he's\": \"he is\", \"how'd\": \"how did\", \"how'd'y\": \"how do you\", \"how'll\": \"how will\", \"how's\": \"how is\",\n",
    "                          \"I'd\": \"I would\", \"I'd've\": \"I would have\", \"I'll\": \"I will\", \"I'll've\": \"I will have\",\"I'm\": \"I am\", \"I've\": \"I have\", \"i'd\": \"i would\",\n",
    "                          \"i'd've\": \"i would have\", \"i'll\": \"i will\",  \"i'll've\": \"i will have\",\"i'm\": \"i am\", \"i've\": \"i have\", \"isn't\": \"is not\", \"it'd\": \"it would\",\n",
    "                          \"it'd've\": \"it would have\", \"it'll\": \"it will\", \"it'll've\": \"it will have\",\"it's\": \"it is\", \"let's\": \"let us\", \"ma'am\": \"madam\",\n",
    "                          \"mayn't\": \"may not\", \"might've\": \"might have\",\"mightn't\": \"might not\",\"mightn't've\": \"might not have\", \"must've\": \"must have\",\n",
    "                          \"mustn't\": \"must not\", \"mustn't've\": \"must not have\", \"needn't\": \"need not\", \"needn't've\": \"need not have\",\"o'clock\": \"of the clock\",\n",
    "                          \"oughtn't\": \"ought not\", \"oughtn't've\": \"ought not have\", \"shan't\": \"shall not\", \"sha'n't\": \"shall not\", \"shan't've\": \"shall not have\",\n",
    "                          \"she'd\": \"she would\", \"she'd've\": \"she would have\", \"she'll\": \"she will\", \"she'll've\": \"she will have\", \"she's\": \"she is\",\n",
    "                          \"should've\": \"should have\", \"shouldn't\": \"should not\", \"shouldn't've\": \"should not have\", \"so've\": \"so have\",\"so's\": \"so as\",\n",
    "                          \"this's\": \"this is\",\"that'd\": \"that would\", \"that'd've\": \"that would have\", \"that's\": \"that is\", \"there'd\": \"there would\",\n",
    "                          \"there'd've\": \"there would have\", \"there's\": \"there is\", \"here's\": \"here is\",\"they'd\": \"they would\", \"they'd've\": \"they would have\",\n",
    "                          \"they'll\": \"they will\", \"they'll've\": \"they will have\", \"they're\": \"they are\", \"they've\": \"they have\", \"to've\": \"to have\",\n",
    "                          \"wasn't\": \"was not\", \"we'd\": \"we would\", \"we'd've\": \"we would have\", \"we'll\": \"we will\", \"we'll've\": \"we will have\", \"we're\": \"we are\",\n",
    "                          \"we've\": \"we have\", \"weren't\": \"were not\", \"what'll\": \"what will\", \"what'll've\": \"what will have\", \"what're\": \"what are\",\n",
    "                          \"what's\": \"what is\", \"what've\": \"what have\", \"when's\": \"when is\", \"when've\": \"when have\", \"where'd\": \"where did\", \"where's\": \"where is\",\n",
    "                          \"where've\": \"where have\", \"who'll\": \"who will\", \"who'll've\": \"who will have\", \"who's\": \"who is\", \"who've\": \"who have\",\n",
    "                          \"why's\": \"why is\", \"why've\": \"why have\", \"will've\": \"will have\", \"won't\": \"will not\", \"won't've\": \"will not have\",\n",
    "                          \"would've\": \"would have\", \"wouldn't\": \"would not\", \"wouldn't've\": \"would not have\", \"y'all\": \"you all\",\n",
    "                          \"y'all'd\": \"you all would\",\"y'all'd've\": \"you all would have\",\"y'all're\": \"you all are\",\"y'all've\": \"you all have\",\n",
    "                          \"you'd\": \"you would\", \"you'd've\": \"you would have\", \"you'll\": \"you will\", \"you'll've\": \"you will have\",\n",
    "                          \"you're\": \"you are\", \"you've\": \"you have\"}\n",
    "\n",
    "print(\"정규화 사전의 수: \", len(contractions))"
   ]
  },
  {
   "cell_type": "code",
   "execution_count": 9,
   "metadata": {
    "colab": {
     "base_uri": "https://localhost:8080/"
    },
    "id": "dzco6aMRWyMr",
    "outputId": "0e4bf672-e260-4b86-a05c-96a520f6dd0e"
   },
   "outputs": [
    {
     "name": "stdout",
     "output_type": "stream",
     "text": [
      "불용어 개수 : 179\n",
      "['i', 'me', 'my', 'myself', 'we', 'our', 'ours', 'ourselves', 'you', \"you're\", \"you've\", \"you'll\", \"you'd\", 'your', 'yours', 'yourself', 'yourselves', 'he', 'him', 'his', 'himself', 'she', \"she's\", 'her', 'hers', 'herself', 'it', \"it's\", 'its', 'itself', 'they', 'them', 'their', 'theirs', 'themselves', 'what', 'which', 'who', 'whom', 'this', 'that', \"that'll\", 'these', 'those', 'am', 'is', 'are', 'was', 'were', 'be', 'been', 'being', 'have', 'has', 'had', 'having', 'do', 'does', 'did', 'doing', 'a', 'an', 'the', 'and', 'but', 'if', 'or', 'because', 'as', 'until', 'while', 'of', 'at', 'by', 'for', 'with', 'about', 'against', 'between', 'into', 'through', 'during', 'before', 'after', 'above', 'below', 'to', 'from', 'up', 'down', 'in', 'out', 'on', 'off', 'over', 'under', 'again', 'further', 'then', 'once', 'here', 'there', 'when', 'where', 'why', 'how', 'all', 'any', 'both', 'each', 'few', 'more', 'most', 'other', 'some', 'such', 'no', 'nor', 'not', 'only', 'own', 'same', 'so', 'than', 'too', 'very', 's', 't', 'can', 'will', 'just', 'don', \"don't\", 'should', \"should've\", 'now', 'd', 'll', 'm', 'o', 're', 've', 'y', 'ain', 'aren', \"aren't\", 'couldn', \"couldn't\", 'didn', \"didn't\", 'doesn', \"doesn't\", 'hadn', \"hadn't\", 'hasn', \"hasn't\", 'haven', \"haven't\", 'isn', \"isn't\", 'ma', 'mightn', \"mightn't\", 'mustn', \"mustn't\", 'needn', \"needn't\", 'shan', \"shan't\", 'shouldn', \"shouldn't\", 'wasn', \"wasn't\", 'weren', \"weren't\", 'won', \"won't\", 'wouldn', \"wouldn't\"]\n"
     ]
    }
   ],
   "source": [
    "print('불용어 개수 :', len(stopwords.words('english') ))\n",
    "print(stopwords.words('english'))"
   ]
  },
  {
   "cell_type": "code",
   "execution_count": 10,
   "metadata": {
    "id": "eUuwMesOXJw5"
   },
   "outputs": [],
   "source": [
    "# 데이터 전처리 함수\n",
    "def preprocess_sentence(sentence, remove_stopwords=True):\n",
    "#    sentence = sentence.lower() # 텍스트 소문자화\n",
    "   sentence = BeautifulSoup(sentence, \"lxml\").text # <br />, <a href = ...> 등의 html 태그 제거\n",
    "   sentence = re.sub(r'\\([^)]*\\)', '', sentence) # 괄호로 닫힌 문자열 (...) 제거 Ex) my husband (and myself!) for => my husband for\n",
    "   sentence = re.sub('\"','', sentence) # 쌍따옴표 \" 제거\n",
    "   sentence = ' '.join([contractions[t] if t in contractions else t for t in sentence.split(\" \")]) # 약어 정규화\n",
    "   sentence = re.sub(r\"'s\\b\",\"\", sentence) # 소유격 제거. Ex) roland's -> roland\n",
    "   sentence = re.sub(\"[^a-zA-Z]\", \" \", sentence) # 영어 외 문자(숫자, 특수문자 등) 공백으로 변환\n",
    "   sentence = re.sub('[m]{2,}', 'mm', sentence) # m이 3개 이상이면 2개로 변경. Ex) ummmmmmm yeah -> umm yeah\n",
    "\n",
    "   # 불용어 제거 (Text)\n",
    "   if remove_stopwords:\n",
    "       tokens = ' '.join(word for word in sentence.split() if not word in stopwords.words('english') if len(word) > 1)\n",
    "   # 불용어 미제거 (Summary)\n",
    "   else:\n",
    "       tokens = ' '.join(word for word in sentence.split() if len(word) > 1)\n",
    "   return tokens"
   ]
  },
  {
   "cell_type": "code",
   "execution_count": 11,
   "metadata": {
    "colab": {
     "base_uri": "https://localhost:8080/"
    },
    "id": "vdWGTtXhX1Ub",
    "outputId": "0bffe0f8-c67c-410e-8f3d-431afb8e8265"
   },
   "outputs": [
    {
     "name": "stdout",
     "output_type": "stream",
     "text": [
      "text:  Saurav Kant an alumnus of upGrad and IIIT PG Program in Machine learning and Artificial Intelligence was Sr Systems Engineer at Infosys with almost years of work experience The program and upGrad degree career support helped him transition to Data Scientist at Tech Mahindra with salary hike upGrad Online Power Learning has powered lakh careers\n",
      "headline: upGrad learner switches to career in ML Al with salary hike\n"
     ]
    }
   ],
   "source": [
    "temp_text = \"Saurav Kant, an alumnus of upGrad and IIIT-B's PG Program in Machine learning and Artificial Intelligence, was a Sr Systems Engineer at Infosys with almost 5 years of work experience. The program and upGrad's 360-degree career support helped him transition to a Data Scientist at Tech Mahindra with 90% salary hike. upGrad's Online Power Learning has powered 3 lakh+ careers.\"\n",
    "temp_headline = \"upGrad learner switches to career in ML & Al with 90% salary hike\"\n",
    "\n",
    "print(\"text: \", preprocess_sentence(temp_text, False)) # 기사가 짧아 불용어 처리는 제외\n",
    "print(\"headline:\", preprocess_sentence(temp_headline, False))"
   ]
  },
  {
   "cell_type": "code",
   "execution_count": 12,
   "metadata": {
    "colab": {
     "base_uri": "https://localhost:8080/"
    },
    "id": "zlj5HDHsaWpD",
    "outputId": "7d88490e-1997-4353-8225-d25875197d76"
   },
   "outputs": [
    {
     "name": "stdout",
     "output_type": "stream",
     "text": [
      "text 전처리 후 결과:  ['Saurav Kant an alumnus of upGrad and IIIT PG Program in Machine learning and Artificial Intelligence was Sr Systems Engineer at Infosys with almost years of work experience The program and upGrad degree career support helped him transition to Data Scientist at Tech Mahindra with salary hike upGrad Online Power Learning has powered lakh careers', 'Kunal Shah credit card bill payment platform CRED gave users chance to win free food from Swiggy for one year Pranav Kaushik Delhi techie bagged this reward after spending CRED coins Users get one CRED coin per rupee of bill paid which can be used to avail rewards from brands like Ixigo BookMyShow UberEats Cult Fit and more', 'New Zealand defeated India by wickets in the fourth ODI at Hamilton on Thursday to win their first match of the five match ODI series India lost an international match under Rohit Sharma captaincy after consecutive victories dating back to March The match witnessed India getting all out for their seventh lowest total in ODI cricket history', 'With Aegon Life iTerm Insurance plan customers can enjoy tax benefits on your premiums paid and save up to on taxes The plan provides life cover up to the age of years Also customers have options to insure against Critical Illnesses Disability and Accidental Death Benefit Rider with life cover up to the age of years', 'Speaking about the sexual harassment allegations against Rajkumar Hirani Sonam Kapoor said have known Hirani for many years What if it is not true the MeToo movement will get derailed In the MeToo movement always believe woman But in this case we need to reserve our judgment she added Hirani has been accused by an assistant who worked in Sanju']\n"
     ]
    }
   ],
   "source": [
    "# 전체 text 데이터에 대한 전처리\n",
    "clean_text = []\n",
    "\n",
    "for text in data['text']:\n",
    "   clean_text.append(preprocess_sentence(text, False))\n",
    "\n",
    "# 전처리 후 출력\n",
    "print(\"text 전처리 후 결과: \", clean_text[:5])"
   ]
  },
  {
   "cell_type": "code",
   "execution_count": 13,
   "metadata": {
    "colab": {
     "base_uri": "https://localhost:8080/"
    },
    "id": "7vxlf_aBaWxH",
    "outputId": "6ea68578-1e4e-4a5c-c6b4-8d34cd333e94"
   },
   "outputs": [
    {
     "name": "stdout",
     "output_type": "stream",
     "text": [
      "headlines 전처리 후 결과:  ['upGrad learner switches to career in ML Al with salary hike', 'Delhi techie wins free food from Swiggy for one year on CRED', 'New Zealand end Rohit Sharma led India match winning streak', 'Aegon life iTerm insurance plan helps customers save tax', 'Have known Hirani for yrs what if MeToo claims are not true Sonam']\n"
     ]
    }
   ],
   "source": [
    "# 전체 headlines 데이터에 대한 전처리\n",
    "clean_headline = []\n",
    "\n",
    "for headline in data['headlines']:\n",
    "   clean_headline.append(preprocess_sentence(headline, False))\n",
    "\n",
    "print(\"headlines 전처리 후 결과: \", clean_headline[:5])"
   ]
  },
  {
   "cell_type": "code",
   "execution_count": 14,
   "metadata": {
    "colab": {
     "base_uri": "https://localhost:8080/"
    },
    "id": "6S1qh84gaW30",
    "outputId": "a5301423-785a-44a8-a6f9-76216728c94b"
   },
   "outputs": [
    {
     "data": {
      "text/plain": [
       "headlines    0\n",
       "text         0\n",
       "dtype: int64"
      ]
     },
     "execution_count": 14,
     "metadata": {},
     "output_type": "execute_result"
    }
   ],
   "source": [
    "data['text'] = clean_text\n",
    "data['headlines'] = clean_headline\n",
    "\n",
    "# 빈 값을 Null 값으로 변환\n",
    "data.replace('', np.nan, inplace=True)\n",
    "data.isnull().sum()"
   ]
  },
  {
   "cell_type": "code",
   "execution_count": 15,
   "metadata": {
    "colab": {
     "base_uri": "https://localhost:8080/",
     "height": 1000
    },
    "id": "Jp3xJQc2aW-g",
    "outputId": "3bbf562c-74d7-47a6-9bec-7149fb34638d"
   },
   "outputs": [
    {
     "name": "stdout",
     "output_type": "stream",
     "text": [
      "텍스트의 최소 길이 : 1\n",
      "텍스트의 최대 길이 : 69\n",
      "텍스트의 평균 길이 : 56.1561813745425\n",
      "요약의 최소 길이 : 1\n",
      "요약의 최대 길이 : 16\n",
      "요약의 평균 길이 : 9.289406262708418\n"
     ]
    },
    {
     "data": {
      "image/png": "[encoded data removed]",
      "text/plain": [
       "<Figure size 432x288 with 2 Axes>"
      ]
     },
     "metadata": {
      "needs_background": "light"
     },
     "output_type": "display_data"
    },
    {
     "data": {
      "image/png": "[encoded data removed]",
      "text/plain": [
       "<Figure size 432x288 with 1 Axes>"
      ]
     },
     "metadata": {
      "needs_background": "light"
     },
     "output_type": "display_data"
    },
    {
     "data": {
      "image/png": "[encoded data removed]",
      "text/plain": [
       "<Figure size 432x288 with 1 Axes>"
      ]
     },
     "metadata": {
      "needs_background": "light"
     },
     "output_type": "display_data"
    }
   ],
   "source": [
    "# 길이 분포 시각화\n",
    "import matplotlib.pyplot as plt\n",
    "\n",
    "text_len = [len(s.split()) for s in data['text']] # len(s.split())은 단어 수를 계산\n",
    "headline_len = [len(s.split()) for s in data['headlines']] # len(s.split())은 단어 수를 계산\n",
    "\n",
    "print('텍스트의 최소 길이 : {}'.format(np.min(text_len)))\n",
    "print('텍스트의 최대 길이 : {}'.format(np.max(text_len)))\n",
    "print('텍스트의 평균 길이 : {}'.format(np.mean(text_len)))\n",
    "print('요약의 최소 길이 : {}'.format(np.min(headline_len)))\n",
    "print('요약의 최대 길이 : {}'.format(np.max(headline_len)))\n",
    "print('요약의 평균 길이 : {}'.format(np.mean(headline_len)))\n",
    "\n",
    "plt.subplot(1,2,1)\n",
    "plt.boxplot(text_len)\n",
    "plt.title('text')\n",
    "plt.subplot(1,2,2)\n",
    "plt.boxplot(headline_len)\n",
    "plt.title('headlines')\n",
    "plt.tight_layout()\n",
    "plt.show()\n",
    "\n",
    "plt.title('text')\n",
    "plt.hist(text_len, bins = 40)\n",
    "plt.xlabel('length of samples')\n",
    "plt.ylabel('number of samples')\n",
    "plt.show()\n",
    "\n",
    "plt.title('headlines')\n",
    "plt.hist(headline_len, bins = 40)\n",
    "plt.xlabel('length of samples')\n",
    "plt.ylabel('number of samples')\n",
    "plt.show()"
   ]
  },
  {
   "cell_type": "code",
   "execution_count": 16,
   "metadata": {
    "id": "Ba8cLnCWaXFN"
   },
   "outputs": [],
   "source": [
    "text_max_len = 60 # Text의 최대 길이\n",
    "headline_max_len = 12 # Headline의 최대 길이"
   ]
  },
  {
   "cell_type": "code",
   "execution_count": 17,
   "metadata": {
    "id": "U6oeBXdhaXLh"
   },
   "outputs": [],
   "source": [
    "def below_threshold_len(max_len, nested_list):\n",
    " cnt = 0\n",
    " for s in nested_list:\n",
    "   if(len(s.split()) <= max_len):\n",
    "       cnt = cnt + 1\n",
    " print('전체 샘플 중 길이가 %s 이하인 샘플의 비율: %s'%(max_len, (cnt / len(nested_list))))"
   ]
  },
  {
   "cell_type": "code",
   "execution_count": 18,
   "metadata": {
    "colab": {
     "base_uri": "https://localhost:8080/"
    },
    "id": "KUxdjpKDaXR0",
    "outputId": "cea63b03-3897-474f-8fe7-d8528b1d880b"
   },
   "outputs": [
    {
     "name": "stdout",
     "output_type": "stream",
     "text": [
      "전체 샘플 중 길이가 60 이하인 샘플의 비율: 0.9470414802765352\n",
      "전체 샘플 중 길이가 12 이하인 샘플의 비율: 0.9889589263928427\n"
     ]
    }
   ],
   "source": [
    "below_threshold_len(text_max_len, data['text'])\n",
    "below_threshold_len(headline_max_len,  data['headlines'])"
   ]
  },
  {
   "cell_type": "code",
   "execution_count": 19,
   "metadata": {
    "colab": {
     "base_uri": "https://localhost:8080/"
    },
    "id": "Q3pExgOvaXX7",
    "outputId": "b325bf69-b172-45a9-c513-5628b9755876"
   },
   "outputs": [
    {
     "name": "stdout",
     "output_type": "stream",
     "text": [
      "전체 샘플수 : 92225\n"
     ]
    }
   ],
   "source": [
    "data = data[data['text'].apply(lambda x: len(x.split()) <= text_max_len) & data['headlines'].apply(lambda x: len(x.split()) <= headline_max_len)]\n",
    "\n",
    "print('전체 샘플수 :', (len(data)))"
   ]
  },
  {
   "cell_type": "code",
   "execution_count": 20,
   "metadata": {
    "colab": {
     "base_uri": "https://localhost:8080/",
     "height": 293
    },
    "id": "FO8kJ3PIaXeO",
    "outputId": "375360df-ff37-4c67-d1f3-0ca35cb8b28f"
   },
   "outputs": [
    {
     "data": {
      "text/html": [
       "<div>\n",
       "<style scoped>\n",
       "    .dataframe tbody tr th:only-of-type {\n",
       "        vertical-align: middle;\n",
       "    }\n",
       "\n",
       "    .dataframe tbody tr th {\n",
       "        vertical-align: top;\n",
       "    }\n",
       "\n",
       "    .dataframe thead th {\n",
       "        text-align: right;\n",
       "    }\n",
       "</style>\n",
       "<table border=\"1\" class=\"dataframe\">\n",
       "  <thead>\n",
       "    <tr style=\"text-align: right;\">\n",
       "      <th></th>\n",
       "      <th>headlines</th>\n",
       "      <th>text</th>\n",
       "      <th>decoder_input</th>\n",
       "      <th>decoder_target</th>\n",
       "    </tr>\n",
       "  </thead>\n",
       "  <tbody>\n",
       "    <tr>\n",
       "      <th>0</th>\n",
       "      <td>upGrad learner switches to career in ML Al wit...</td>\n",
       "      <td>Saurav Kant an alumnus of upGrad and IIIT PG P...</td>\n",
       "      <td>sostoken upGrad learner switches to career in ...</td>\n",
       "      <td>upGrad learner switches to career in ML Al wit...</td>\n",
       "    </tr>\n",
       "    <tr>\n",
       "      <th>1</th>\n",
       "      <td>Delhi techie wins free food from Swiggy for on...</td>\n",
       "      <td>Kunal Shah credit card bill payment platform C...</td>\n",
       "      <td>sostoken Delhi techie wins free food from Swig...</td>\n",
       "      <td>Delhi techie wins free food from Swiggy for on...</td>\n",
       "    </tr>\n",
       "    <tr>\n",
       "      <th>2</th>\n",
       "      <td>New Zealand end Rohit Sharma led India match w...</td>\n",
       "      <td>New Zealand defeated India by wickets in the f...</td>\n",
       "      <td>sostoken New Zealand end Rohit Sharma led Indi...</td>\n",
       "      <td>New Zealand end Rohit Sharma led India match w...</td>\n",
       "    </tr>\n",
       "    <tr>\n",
       "      <th>3</th>\n",
       "      <td>Aegon life iTerm insurance plan helps customer...</td>\n",
       "      <td>With Aegon Life iTerm Insurance plan customers...</td>\n",
       "      <td>sostoken Aegon life iTerm insurance plan helps...</td>\n",
       "      <td>Aegon life iTerm insurance plan helps customer...</td>\n",
       "    </tr>\n",
       "    <tr>\n",
       "      <th>5</th>\n",
       "      <td>Rahat Fateh Ali Khan denies getting notice for...</td>\n",
       "      <td>Pakistani singer Rahat Fateh Ali Khan has deni...</td>\n",
       "      <td>sostoken Rahat Fateh Ali Khan denies getting n...</td>\n",
       "      <td>Rahat Fateh Ali Khan denies getting notice for...</td>\n",
       "    </tr>\n",
       "  </tbody>\n",
       "</table>\n",
       "</div>"
      ],
      "text/plain": [
       "                                           headlines  \\\n",
       "0  upGrad learner switches to career in ML Al wit...   \n",
       "1  Delhi techie wins free food from Swiggy for on...   \n",
       "2  New Zealand end Rohit Sharma led India match w...   \n",
       "3  Aegon life iTerm insurance plan helps customer...   \n",
       "5  Rahat Fateh Ali Khan denies getting notice for...   \n",
       "\n",
       "                                                text  \\\n",
       "0  Saurav Kant an alumnus of upGrad and IIIT PG P...   \n",
       "1  Kunal Shah credit card bill payment platform C...   \n",
       "2  New Zealand defeated India by wickets in the f...   \n",
       "3  With Aegon Life iTerm Insurance plan customers...   \n",
       "5  Pakistani singer Rahat Fateh Ali Khan has deni...   \n",
       "\n",
       "                                       decoder_input  \\\n",
       "0  sostoken upGrad learner switches to career in ...   \n",
       "1  sostoken Delhi techie wins free food from Swig...   \n",
       "2  sostoken New Zealand end Rohit Sharma led Indi...   \n",
       "3  sostoken Aegon life iTerm insurance plan helps...   \n",
       "5  sostoken Rahat Fateh Ali Khan denies getting n...   \n",
       "\n",
       "                                      decoder_target  \n",
       "0  upGrad learner switches to career in ML Al wit...  \n",
       "1  Delhi techie wins free food from Swiggy for on...  \n",
       "2  New Zealand end Rohit Sharma led India match w...  \n",
       "3  Aegon life iTerm insurance plan helps customer...  \n",
       "5  Rahat Fateh Ali Khan denies getting notice for...  "
      ]
     },
     "execution_count": 20,
     "metadata": {},
     "output_type": "execute_result"
    }
   ],
   "source": [
    "# 요약 데이터에는 시작 토큰과 종료 토큰을 추가한다.\n",
    "data['decoder_input'] = data['headlines'].apply(lambda x : 'sostoken '+ x)\n",
    "data['decoder_target'] = data['headlines'].apply(lambda x : x + ' eostoken')\n",
    "data.head()"
   ]
  },
  {
   "cell_type": "code",
   "execution_count": 21,
   "metadata": {
    "id": "NCEz6Gi9aXkI"
   },
   "outputs": [],
   "source": [
    "# 인코더의 입력, 디코더의 입력과 레이블을 각각 다시 Numpy 타입으로 저장\n",
    "encoder_input = np.array(data['text']) # 인코더의 입력\n",
    "decoder_input = np.array(data['decoder_input']) # 디코더의 입력\n",
    "decoder_target = np.array(data['decoder_target']) # 디코더의 레이블"
   ]
  },
  {
   "cell_type": "code",
   "execution_count": 22,
   "metadata": {
    "colab": {
     "base_uri": "https://localhost:8080/"
    },
    "id": "CL-OQlwGaXqP",
    "outputId": "b53b6141-0385-4a95-b9b5-fd310aaa2a51"
   },
   "outputs": [
    {
     "name": "stdout",
     "output_type": "stream",
     "text": [
      "[ 9367 71660 41693 ... 45098 73636 35037]\n"
     ]
    }
   ],
   "source": [
    "indices = np.arange(encoder_input.shape[0])\n",
    "np.random.shuffle(indices)\n",
    "print(indices)"
   ]
  },
  {
   "cell_type": "code",
   "execution_count": 23,
   "metadata": {
    "id": "z0SZymT7aXwJ"
   },
   "outputs": [],
   "source": [
    "encoder_input = encoder_input[indices]\n",
    "decoder_input = decoder_input[indices]\n",
    "decoder_target = decoder_target[indices]"
   ]
  },
  {
   "cell_type": "code",
   "execution_count": 24,
   "metadata": {
    "colab": {
     "base_uri": "https://localhost:8080/"
    },
    "id": "imfU-WF6aX13",
    "outputId": "9950fc74-d9d7-44b1-949b-733fb8da3f56"
   },
   "outputs": [
    {
     "name": "stdout",
     "output_type": "stream",
     "text": [
      "테스트 데이터의 수 : 18445\n",
      "훈련 데이터의 수 : 73780\n"
     ]
    }
   ],
   "source": [
    "# 섞인 데이터를 8:2의 비율로 훈련 데이터와 테스트 데이터로 분리\n",
    "n_of_val = int(len(encoder_input)*0.2)\n",
    "print('테스트 데이터의 수 :', n_of_val)\n",
    "print('훈련 데이터의 수 :', int(len(encoder_input) - n_of_val))"
   ]
  },
  {
   "cell_type": "code",
   "execution_count": 25,
   "metadata": {
    "colab": {
     "base_uri": "https://localhost:8080/"
    },
    "id": "yrnVGxZOaX7l",
    "outputId": "4006b7f3-765f-4747-9ca5-bf665e802f69"
   },
   "outputs": [
    {
     "name": "stdout",
     "output_type": "stream",
     "text": [
      "훈련 데이터의 개수 : 73780\n",
      "훈련 레이블의 개수 : 73780\n",
      "테스트 데이터의 개수 : 18445\n",
      "테스트 레이블의 개수 : 18445\n",
      "['Union Minister Shripad Naik on Friday said change in leadership in Goa either today or tomorrow is requirement considering the health of CM Manohar Parrikar Parrikar has been undergoing treatment for pancreatic ailment for several months and arrived in the state on October post hospitalisation at AIIMS BJP meanwhile has consistently ruled out change in leadership']\n",
      "['sostoken Goa needs new leader CM Parrikar is unwell Union Minister']\n",
      "['Goa needs new leader CM Parrikar is unwell Union Minister eostoken']\n",
      "['Amid US sanctions that prevent Venezuela from accessing foreign currency the price of kilogram of cheese hit million bolivar This comes as the country plans economic reforms including new banknotes that cut five zeros off its fast depreciating currency Recently the International Monetary Fund has estimated that hyperinflation in Venezuela could cross this year']\n",
      "['sostoken Value of kg cheese hits million bolivars in Venezuela']\n",
      "['Value of kg cheese hits million bolivars in Venezuela eostoken']\n"
     ]
    }
   ],
   "source": [
    "encoder_input_train = encoder_input[:-n_of_val] # 훈련 데이터\n",
    "decoder_input_train = decoder_input[:-n_of_val] # 훈련 데이터 sostoken\n",
    "decoder_target_train = decoder_target[:-n_of_val] # 훈련 데이터 eostoken\n",
    "\n",
    "encoder_input_test = encoder_input[-n_of_val:] # 테스트 데이터\n",
    "decoder_input_test = decoder_input[-n_of_val:] # 테스트 데이터 sostoken​\n",
    "decoder_target_test = decoder_target[-n_of_val:] # 테스트 데이터 eostoken​\n",
    "\n",
    "print('훈련 데이터의 개수 :', len(encoder_input_train))\n",
    "print('훈련 레이블의 개수 :', len(decoder_input_train))\n",
    "print('테스트 데이터의 개수 :', len(encoder_input_test))\n",
    "print('테스트 레이블의 개수 :', len(decoder_input_test))\n",
    "\n",
    "print(encoder_input_train[:1])\n",
    "print(decoder_input_train[:1])\n",
    "print(decoder_target_train[:1])\n",
    "\n",
    "print(encoder_input_test[:1])\n",
    "print(decoder_input_test[:1])\n",
    "print(decoder_target_test[:1])"
   ]
  },
  {
   "cell_type": "code",
   "execution_count": 26,
   "metadata": {
    "id": "QvHx_QjqaYBU"
   },
   "outputs": [],
   "source": [
    "# 단어 집합(vocabulary) 만들기\n",
    "src_tokenizer = Tokenizer() # 토크나이저 정의\n",
    "src_tokenizer.fit_on_texts(encoder_input_train) # 입력된 데이터로부터 단어 집합 생성"
   ]
  },
  {
   "cell_type": "code",
   "execution_count": 27,
   "metadata": {
    "colab": {
     "base_uri": "https://localhost:8080/"
    },
    "id": "IGcBI3FtaYHA",
    "outputId": "d59fc6e9-e544-42a2-8bac-f34be388b254"
   },
   "outputs": [
    {
     "name": "stdout",
     "output_type": "stream",
     "text": [
      "단어 집합(vocabulary)의 크기 : 67992\n",
      "등장 빈도가 4번 이하인 희귀 단어의 수: 42250\n",
      "단어 집합에서 희귀 단어를 제외시킬 경우의 단어 집합의 크기 25742\n",
      "단어 집합에서 희귀 단어의 비율: 62.139663489822325\n",
      "전체 등장 빈도에서 희귀 단어 등장 빈도 비율: 1.7434298523158098\n"
     ]
    }
   ],
   "source": [
    "threshold = 5\n",
    "total_cnt = len(src_tokenizer.word_index) # 단어의 수\n",
    "rare_cnt = 0 # 등장 빈도수가 threshold보다 작은 단어의 개수를 카운트\n",
    "total_freq = 0 # 훈련 데이터의 전체 단어 빈도수 총 합\n",
    "rare_freq = 0 # 등장 빈도수가 threshold보다 작은 단어의 등장 빈도수의 총 합\n",
    "\n",
    "# 단어와 빈도수의 쌍(pair)을 key와 value로 받는다.\n",
    "for key, value in src_tokenizer.word_counts.items():\n",
    "   total_freq = total_freq + value\n",
    "\n",
    "   # 단어의 등장 빈도수가 threshold보다 작으면\n",
    "   if(value < threshold):\n",
    "       rare_cnt = rare_cnt + 1\n",
    "       rare_freq = rare_freq + value\n",
    "\n",
    "print('단어 집합(vocabulary)의 크기 :', total_cnt)\n",
    "print('등장 빈도가 %s번 이하인 희귀 단어의 수: %s'%(threshold - 1, rare_cnt))\n",
    "print('단어 집합에서 희귀 단어를 제외시킬 경우의 단어 집합의 크기 %s'%(total_cnt - rare_cnt))\n",
    "print(\"단어 집합에서 희귀 단어의 비율:\", (rare_cnt / total_cnt)*100)\n",
    "print(\"전체 등장 빈도에서 희귀 단어 등장 빈도 비율:\", (rare_freq / total_freq)*100)"
   ]
  },
  {
   "cell_type": "code",
   "execution_count": 28,
   "metadata": {
    "id": "0YooaGjUhns4"
   },
   "outputs": [],
   "source": [
    "src_vocab = 25000\n",
    "src_tokenizer = Tokenizer(num_words=src_vocab) # 단어 집합의 크기를 25000으로 제한\n",
    "src_tokenizer.fit_on_texts(encoder_input_train) # 단어 집합 재생성"
   ]
  },
  {
   "cell_type": "code",
   "execution_count": 29,
   "metadata": {
    "colab": {
     "base_uri": "https://localhost:8080/"
    },
    "id": "zABmOGq2hn0j",
    "outputId": "2c6a7c80-a654-4e06-ba98-4d9a1a0da515"
   },
   "outputs": [
    {
     "name": "stdout",
     "output_type": "stream",
     "text": [
      "[[257, 55, 4826, 6, 121, 9, 643, 3, 2032, 3, 1196, 1937, 399, 85, 4675, 12, 7159, 2295, 1, 506, 4, 148, 2333, 2412, 2412, 7, 32, 3013, 838, 8, 8594, 8432, 8, 242, 270, 5, 2105, 3, 1, 65, 6, 579, 260, 14428, 21, 3931, 95, 420, 7, 8433, 1277, 73, 643, 3, 2032], [1611, 19, 499, 1563, 22, 1049, 826, 8, 14429, 685, 1303, 3, 545, 1749, 5206, 313, 93, 407, 42, 1767, 3, 1, 300, 248, 826, 22, 25, 2, 350, 196, 8, 300, 248, 545, 1749, 5206, 5, 196, 21, 15010, 5206, 5, 1, 2233, 1049, 22, 24, 196, 3841, 1, 729, 42, 5170, 4, 648], [30, 54, 87, 3102, 16, 3345, 2, 267, 18, 13, 363, 23, 1071, 612, 2, 58, 3, 143, 6, 153, 1, 87, 67, 286, 3502, 5, 103, 1, 3345, 4, 13, 1012, 1521, 1, 612, 1, 103, 2200, 18, 8735, 1, 630, 83, 48, 6229, 5, 154, 58, 393, 51, 344, 4, 1, 1062]]\n"
     ]
    }
   ],
   "source": [
    "# 텍스트 시퀀스를 정수 시퀀스로 변환\n",
    "encoder_input_train = src_tokenizer.texts_to_sequences(encoder_input_train)\n",
    "encoder_input_test = src_tokenizer.texts_to_sequences(encoder_input_test)\n",
    "# 잘 진행되었는지 샘플 출력\n",
    "print(encoder_input_train[:3])"
   ]
  },
  {
   "cell_type": "code",
   "execution_count": 30,
   "metadata": {
    "id": "kE5ZZTrahn8D"
   },
   "outputs": [],
   "source": [
    "tar_tokenizer = Tokenizer() # src_tokenizer 참고\n",
    "tar_tokenizer.fit_on_texts(decoder_input_train) # decoder_input_train 디코더의 입력 시퀀스"
   ]
  },
  {
   "cell_type": "code",
   "execution_count": 31,
   "metadata": {
    "colab": {
     "base_uri": "https://localhost:8080/"
    },
    "id": "li7s76pjhoDW",
    "outputId": "9bb7a363-55b5-4795-a4d1-7d6ce9a7188c"
   },
   "outputs": [
    {
     "name": "stdout",
     "output_type": "stream",
     "text": [
      "단어 집합(vocabulary)의 크기 : 29405\n",
      "등장 빈도가 4번 이하인 희귀 단어의 수: 18164\n",
      "단어 집합에서 희귀 단어를 제외시킬 경우의 단어 집합의 크기 11241\n",
      "단어 집합에서 희귀 단어의 비율: 61.77180751572862\n",
      "전체 등장 빈도에서 희귀 단어 등장 빈도 비율: 4.125917518774662\n"
     ]
    }
   ],
   "source": [
    "threshold = 5\n",
    "total_cnt = len(tar_tokenizer.word_index) # 단어의 수\n",
    "rare_cnt = 0 # 등장 빈도수가 threshold보다 작은 단어의 개수를 카운트\n",
    "total_freq = 0 # 훈련 데이터의 전체 단어 빈도수 총 합\n",
    "rare_freq = 0 # 등장 빈도수가 threshold보다 작은 단어의 등장 빈도수의 총 합\n",
    "\n",
    "# 단어와 빈도수의 쌍(pair)을 key와 value로 받는다.\n",
    "for key, value in tar_tokenizer.word_counts.items():\n",
    "   total_freq = total_freq + value\n",
    "\n",
    "   # 단어의 등장 빈도수가 threshold보다 작으면\n",
    "   if(value < threshold):\n",
    "       rare_cnt = rare_cnt + 1\n",
    "       rare_freq = rare_freq + value\n",
    "\n",
    "print('단어 집합(vocabulary)의 크기 :', total_cnt)\n",
    "print('등장 빈도가 %s번 이하인 희귀 단어의 수: %s'%(threshold - 1, rare_cnt))\n",
    "print('단어 집합에서 희귀 단어를 제외시킬 경우의 단어 집합의 크기 %s'%(total_cnt - rare_cnt))\n",
    "print(\"단어 집합에서 희귀 단어의 비율:\", (rare_cnt / total_cnt)*100)\n",
    "print(\"전체 등장 빈도에서 희귀 단어 등장 빈도 비율:\", (rare_freq / total_freq)*100)"
   ]
  },
  {
   "cell_type": "code",
   "execution_count": 32,
   "metadata": {
    "colab": {
     "base_uri": "https://localhost:8080/"
    },
    "id": "S5e-6hCOhoKz",
    "outputId": "d7bcf4e3-f6a3-4e5e-c047-08bea22676e1"
   },
   "outputs": [
    {
     "name": "stdout",
     "output_type": "stream",
     "text": [
      "input\n",
      "input  [[1, 467, 1418, 35, 113, 36, 1955, 20, 10067, 496, 76], [1, 671, 3, 928, 5, 3088, 13, 4, 692, 2148, 6245], [1, 54, 19, 273, 3617, 10, 1454, 825, 358], [1, 138, 20, 3089, 4, 6599, 7, 30, 2879, 836, 980], [1, 2760, 3408, 1553, 171, 724, 4822, 2185]]\n",
      "target\n",
      "decoder  [[467, 1418, 35, 113, 36, 1955, 20, 10067, 496, 76, 2], [671, 3, 928, 5, 3088, 13, 4, 692, 2148, 6245, 2], [54, 19, 273, 3617, 10, 1454, 825, 358, 2], [138, 20, 3089, 4, 6599, 7, 30, 2879, 836, 980, 2], [2760, 3408, 1553, 171, 724, 4822, 2185, 2]]\n"
     ]
    }
   ],
   "source": [
    "tar_vocab = 11000\n",
    "tar_tokenizer = Tokenizer(num_words=tar_vocab)\n",
    "tar_tokenizer.fit_on_texts(decoder_input_train)  # 단어 집합 재생성\n",
    "tar_tokenizer.fit_on_texts(decoder_target_train)  # 단어 집합 재생성\n",
    "\n",
    "# 토큰화기에 여러 번 fit_on_texts를 호출하면 단어 인덱스가 재설정되지 않습니다. 대신 업데이트됩니다.\n",
    "# 따라서 이 문맥에서 토큰화기의 어휘는 decoder_input_train 및 decoder_target_train 모두를 기반으로 합니다.\n",
    "\n",
    "# 텍스트 시퀀스를 정수 시퀀스로 변환\n",
    "decoder_input_train = tar_tokenizer.texts_to_sequences(decoder_input_train)\n",
    "decoder_input_test = tar_tokenizer.texts_to_sequences(decoder_input_test)\n",
    "decoder_target_train = tar_tokenizer.texts_to_sequences(decoder_target_train)\n",
    "decoder_target_test = tar_tokenizer.texts_to_sequences(decoder_target_test)\n",
    "\n",
    "# 잘 변환되었는지 확인\n",
    "print('input')\n",
    "print('input ',decoder_input_train[:5])\n",
    "print('target')\n",
    "print('decoder ',decoder_target_train[:5])"
   ]
  },
  {
   "cell_type": "code",
   "execution_count": 33,
   "metadata": {
    "colab": {
     "base_uri": "https://localhost:8080/"
    },
    "id": "P6fqb_FThoRt",
    "outputId": "9457955a-e571-4a25-93dd-20d29fd6a141"
   },
   "outputs": [
    {
     "name": "stdout",
     "output_type": "stream",
     "text": [
      "삭제할 훈련 데이터의 개수 : 0\n",
      "삭제할 테스트 데이터의 개수 : 0\n",
      "훈련 데이터의 개수 : 73780\n",
      "훈련 레이블의 개수 : 73780\n",
      "테스트 데이터의 개수 : 18445\n",
      "테스트 레이블의 개수 : 18445\n"
     ]
    }
   ],
   "source": [
    "drop_train = [index for index, sentence in enumerate(decoder_input_train) if len(sentence) == 1]\n",
    "drop_test = [index for index, sentence in enumerate(decoder_input_test) if len(sentence) == 1]\n",
    "\n",
    "print('삭제할 훈련 데이터의 개수 :', len(drop_train)) # 0\n",
    "print('삭제할 테스트 데이터의 개수 :', len(drop_test)) # 0\n",
    "\n",
    "# 삭제할 훈련 데이터, 테스트 데이터 없음\n",
    "# encoder_input_train = [sentence for index, sentence in enumerate(encoder_input_train) if index not in drop_train]\n",
    "# decoder_input_train = [sentence for index, sentence in enumerate(decoder_input_train) if index not in drop_train]\n",
    "# decoder_target_train = [sentence for index, sentence in enumerate(decoder_target_train) if index not in drop_train]\n",
    "\n",
    "# encoder_input_test = [sentence for index, sentence in enumerate(encoder_input_test) if index not in drop_test]\n",
    "# decoder_input_test = [sentence for index, sentence in enumerate(decoder_input_test) if index not in drop_test]\n",
    "# decoder_target_test = [sentence for index, sentence in enumerate(decoder_target_test) if index not in drop_test]\n",
    "\n",
    "print('훈련 데이터의 개수 :', len(encoder_input_train))\n",
    "print('훈련 레이블의 개수 :', len(decoder_input_train))\n",
    "print('테스트 데이터의 개수 :', len(encoder_input_test))\n",
    "print('테스트 레이블의 개수 :', len(decoder_input_test))"
   ]
  },
  {
   "cell_type": "code",
   "execution_count": 34,
   "metadata": {
    "id": "ktZd4sy5hoYB"
   },
   "outputs": [],
   "source": [
    "# 패딩 추가하기,  최대 길이보다 짧은 데이터들은 뒤의 공간에 숫자 0을 넣어 최대 길이로 길이를 맞춤\n",
    "encoder_input_train = pad_sequences(encoder_input_train, maxlen=text_max_len, padding='post')\n",
    "encoder_input_test = pad_sequences(encoder_input_test, maxlen=text_max_len, padding='post')\n",
    "decoder_input_train = pad_sequences(decoder_input_train, maxlen=headline_max_len, padding='post')\n",
    "decoder_target_train = pad_sequences(decoder_target_train, maxlen=headline_max_len, padding='post')\n",
    "decoder_input_test = pad_sequences(decoder_input_test, maxlen=headline_max_len, padding='post')\n",
    "decoder_target_test = pad_sequences(decoder_target_test, maxlen=headline_max_len, padding='post')"
   ]
  },
  {
   "cell_type": "code",
   "execution_count": 35,
   "metadata": {
    "id": "-Z4kYDCnhoeI"
   },
   "outputs": [],
   "source": [
    "# 모델 설계하기\n",
    "from tensorflow.keras.layers import Input, LSTM, Embedding, Dense, Concatenate, TimeDistributed\n",
    "from tensorflow.keras.models import Model\n",
    "from tensorflow.keras.callbacks import EarlyStopping, ModelCheckpoint\n",
    "\n",
    "# 인코더 설계 시작\n",
    "embedding_dim = 128\n",
    "hidden_size = 256\n",
    "\n",
    "# 인코더\n",
    "encoder_inputs = Input(shape=(text_max_len,))\n",
    "\n",
    "# 인코더의 임베딩 층\n",
    "enc_emb = Embedding(src_vocab, embedding_dim)(encoder_inputs)\n",
    "\n",
    "# 인코더의 LSTM 1\n",
    "# encoder_lstm1 = LSTM(hidden_size, return_sequences=True, return_state=True ,dropout = 0.4, recurrent_dropout = 0.4)\n",
    "encoder_lstm1 = LSTM(hidden_size, return_sequences=True, return_state=True ,dropout = 0.4)\n",
    "encoder_output1, state_h1, state_c1 = encoder_lstm1(enc_emb)\n",
    "\n",
    "# 인코더의 LSTM 2\n",
    "encoder_lstm2 = LSTM(hidden_size, return_sequences=True, return_state=True, dropout=0.4)\n",
    "encoder_output2, state_h2, state_c2 = encoder_lstm2(encoder_output1)\n",
    "\n",
    "# 인코더의 LSTM 3\n",
    "encoder_lstm3 = LSTM(hidden_size, return_sequences=True, return_state=True, dropout=0.4)\n",
    "encoder_output3, state_h3, state_c3 = encoder_lstm3(encoder_output2)\n",
    "\n",
    "# 최종 출력 값인 encoder_output3, state_h3, state_c3는 디코더 단계에서 중요할 것이며,\n",
    "# state_h3와 state_c3는 디코더의 LSTM 레이어의 초기 상태가 됩니다."
   ]
  },
  {
   "cell_type": "code",
   "execution_count": 36,
   "metadata": {
    "id": "Nnxx2ae9hokP"
   },
   "outputs": [],
   "source": [
    "# 디코더 설계\n",
    "decoder_inputs = Input(shape=(None,))\n",
    "\n",
    "# 디코더의 임베딩 층\n",
    "dec_emb_layer = Embedding(tar_vocab, embedding_dim)\n",
    "dec_emb = dec_emb_layer(decoder_inputs)\n",
    "\n",
    "# 디코더의 LSTM\n",
    "# decoder_lstm = LSTM(hidden_size, return_sequences=True, return_state=True, dropout=0.4, recurrent_dropout=0.2)\n",
    "decoder_lstm = LSTM(hidden_size, return_sequences=True, return_state=True, dropout=0.4)\n",
    "decoder_outputs, _, _ = decoder_lstm(dec_emb, initial_state=[state_h3, state_c3])"
   ]
  },
  {
   "cell_type": "code",
   "execution_count": 37,
   "metadata": {
    "colab": {
     "base_uri": "https://localhost:8080/"
    },
    "id": "7P2atE-khoqI",
    "outputId": "bc484398-c4be-4104-e2d5-71266701bb38"
   },
   "outputs": [
    {
     "name": "stdout",
     "output_type": "stream",
     "text": [
      "Model: \"model\"\n",
      "__________________________________________________________________________________________________\n",
      "Layer (type)                    Output Shape         Param #     Connected to                     \n",
      "==================================================================================================\n",
      "input_1 (InputLayer)            [(None, 60)]         0                                            \n",
      "__________________________________________________________________________________________________\n",
      "embedding (Embedding)           (None, 60, 128)      3200000     input_1[0][0]                    \n",
      "__________________________________________________________________________________________________\n",
      "lstm (LSTM)                     [(None, 60, 256), (N 394240      embedding[0][0]                  \n",
      "__________________________________________________________________________________________________\n",
      "input_2 (InputLayer)            [(None, None)]       0                                            \n",
      "__________________________________________________________________________________________________\n",
      "lstm_1 (LSTM)                   [(None, 60, 256), (N 525312      lstm[0][0]                       \n",
      "__________________________________________________________________________________________________\n",
      "embedding_1 (Embedding)         (None, None, 128)    1408000     input_2[0][0]                    \n",
      "__________________________________________________________________________________________________\n",
      "lstm_2 (LSTM)                   [(None, 60, 256), (N 525312      lstm_1[0][0]                     \n",
      "__________________________________________________________________________________________________\n",
      "lstm_3 (LSTM)                   [(None, None, 256),  394240      embedding_1[0][0]                \n",
      "                                                                 lstm_2[0][1]                     \n",
      "                                                                 lstm_2[0][2]                     \n",
      "__________________________________________________________________________________________________\n",
      "dense (Dense)                   (None, None, 11000)  2827000     lstm_3[0][0]                     \n",
      "==================================================================================================\n",
      "Total params: 9,274,104\n",
      "Trainable params: 9,274,104\n",
      "Non-trainable params: 0\n",
      "__________________________________________________________________________________________________\n"
     ]
    }
   ],
   "source": [
    "# 디코더의 출력층\n",
    "decoder_softmax_layer = Dense(tar_vocab, activation='softmax')\n",
    "decoder_softmax_outputs = decoder_softmax_layer(decoder_outputs)\n",
    "\n",
    "# 모델 정의\n",
    "model = Model([encoder_inputs, decoder_inputs], decoder_softmax_outputs)\n",
    "model.summary()"
   ]
  },
  {
   "cell_type": "code",
   "execution_count": 51,
   "metadata": {
    "colab": {
     "base_uri": "https://localhost:8080/"
    },
    "id": "ShIgI11GhowC",
    "outputId": "7f04637a-87be-4bae-a04c-b49a29e38d9b"
   },
   "outputs": [
    {
     "name": "stdout",
     "output_type": "stream",
     "text": [
      "Model: \"model_4\"\n",
      "__________________________________________________________________________________________________\n",
      "Layer (type)                    Output Shape         Param #     Connected to                     \n",
      "==================================================================================================\n",
      "input_1 (InputLayer)            [(None, 60)]         0                                            \n",
      "__________________________________________________________________________________________________\n",
      "embedding (Embedding)           (None, 60, 128)      3200000     input_1[0][0]                    \n",
      "__________________________________________________________________________________________________\n",
      "lstm (LSTM)                     [(None, 60, 256), (N 394240      embedding[0][0]                  \n",
      "__________________________________________________________________________________________________\n",
      "input_2 (InputLayer)            [(None, None)]       0                                            \n",
      "__________________________________________________________________________________________________\n",
      "lstm_1 (LSTM)                   [(None, 60, 256), (N 525312      lstm[0][0]                       \n",
      "__________________________________________________________________________________________________\n",
      "embedding_1 (Embedding)         (None, None, 128)    1408000     input_2[0][0]                    \n",
      "__________________________________________________________________________________________________\n",
      "lstm_2 (LSTM)                   [(None, 60, 256), (N 525312      lstm_1[0][0]                     \n",
      "__________________________________________________________________________________________________\n",
      "lstm_3 (LSTM)                   [(None, None, 256),  394240      embedding_1[0][0]                \n",
      "                                                                 lstm_2[0][1]                     \n",
      "                                                                 lstm_2[0][2]                     \n",
      "__________________________________________________________________________________________________\n",
      "attention_layer (AdditiveAttent (None, None, 256)    256         lstm_3[0][0]                     \n",
      "                                                                 lstm_2[0][0]                     \n",
      "__________________________________________________________________________________________________\n",
      "concat_layer (Concatenate)      (None, None, 512)    0           lstm_3[0][0]                     \n",
      "                                                                 attention_layer[0][0]            \n",
      "__________________________________________________________________________________________________\n",
      "dense_2 (Dense)                 (None, None, 11000)  5643000     concat_layer[0][0]               \n",
      "==================================================================================================\n",
      "Total params: 12,090,360\n",
      "Trainable params: 12,090,360\n",
      "Non-trainable params: 0\n",
      "__________________________________________________________________________________________________\n"
     ]
    }
   ],
   "source": [
    "# 어텐션 층을 만들고, 위에서 설계한 디코더의 출력층을 수정\n",
    "from tensorflow.keras.layers import AdditiveAttention\n",
    "\n",
    "# 어텐션 층(어텐션 함수)\n",
    "attn_layer = AdditiveAttention(name='attention_layer')\n",
    "\n",
    "# 인코더와 디코더의 모든 time step의 hidden state를 어텐션 층에 전달하고 결과를 리턴\n",
    "attn_out = attn_layer([decoder_outputs, encoder_output3]) # 마지막 인코더 LSTM 레이어의 출력을 참조\n",
    "\n",
    "# 어텐션의 결과와 디코더의 hidden state들을 연결\n",
    "decoder_concat_input = Concatenate(axis=-1, name='concat_layer')([decoder_outputs, attn_out])\n",
    "\n",
    "# 디코더의 출력층\n",
    "decoder_softmax_layer = Dense(tar_vocab, activation='softmax')\n",
    "decoder_softmax_outputs = decoder_softmax_layer(decoder_concat_input)\n",
    "\n",
    "# 모델 정의\n",
    "model = Model([encoder_inputs, decoder_inputs], decoder_softmax_outputs)\n",
    "model.summary()"
   ]
  },
  {
   "cell_type": "code",
   "execution_count": 52,
   "metadata": {
    "colab": {
     "base_uri": "https://localhost:8080/"
    },
    "id": "J4Rpfx3Aho1w",
    "outputId": "2347581c-8ac4-4982-89f5-142d7473c1ef"
   },
   "outputs": [
    {
     "name": "stdout",
     "output_type": "stream",
     "text": [
      "Epoch 1/200\n",
      "289/289 [==============================] - 40s 123ms/step - loss: 6.6679 - val_loss: 5.4559\n",
      "Epoch 2/200\n",
      "289/289 [==============================] - 35s 122ms/step - loss: 5.3048 - val_loss: 5.0689\n",
      "Epoch 3/200\n",
      "289/289 [==============================] - 35s 120ms/step - loss: 4.9392 - val_loss: 4.7819\n",
      "Epoch 4/200\n",
      "289/289 [==============================] - 35s 120ms/step - loss: 4.6607 - val_loss: 4.5693\n",
      "Epoch 5/200\n",
      "289/289 [==============================] - 35s 121ms/step - loss: 4.4413 - val_loss: 4.4041\n",
      "Epoch 6/200\n",
      "289/289 [==============================] - 35s 120ms/step - loss: 4.2620 - val_loss: 4.2718\n",
      "Epoch 7/200\n",
      "289/289 [==============================] - 35s 120ms/step - loss: 4.1108 - val_loss: 4.1639\n",
      "Epoch 8/200\n",
      "289/289 [==============================] - 35s 120ms/step - loss: 3.9821 - val_loss: 4.0746\n",
      "Epoch 9/200\n",
      "289/289 [==============================] - 35s 120ms/step - loss: 3.8711 - val_loss: 3.9997\n",
      "Epoch 10/200\n",
      "289/289 [==============================] - 35s 121ms/step - loss: 3.7726 - val_loss: 3.9355\n",
      "Epoch 11/200\n",
      "289/289 [==============================] - 35s 120ms/step - loss: 3.6852 - val_loss: 3.8809\n",
      "Epoch 12/200\n",
      "289/289 [==============================] - 35s 121ms/step - loss: 3.6058 - val_loss: 3.8329\n",
      "Epoch 13/200\n",
      "289/289 [==============================] - 35s 121ms/step - loss: 3.5347 - val_loss: 3.7911\n",
      "Epoch 14/200\n",
      "289/289 [==============================] - 35s 121ms/step - loss: 3.4696 - val_loss: 3.7550\n",
      "Epoch 15/200\n",
      "289/289 [==============================] - 35s 121ms/step - loss: 3.4094 - val_loss: 3.7219\n",
      "Epoch 16/200\n",
      "289/289 [==============================] - 35s 121ms/step - loss: 3.3550 - val_loss: 3.6934\n",
      "Epoch 17/200\n",
      "289/289 [==============================] - 35s 121ms/step - loss: 3.3019 - val_loss: 3.6675\n",
      "Epoch 18/200\n",
      "289/289 [==============================] - 35s 121ms/step - loss: 3.2546 - val_loss: 3.6428\n",
      "Epoch 19/200\n",
      "289/289 [==============================] - 35s 121ms/step - loss: 3.2091 - val_loss: 3.6217\n",
      "Epoch 20/200\n",
      "289/289 [==============================] - 35s 121ms/step - loss: 3.1664 - val_loss: 3.6025\n",
      "Epoch 21/200\n",
      "289/289 [==============================] - 35s 121ms/step - loss: 3.1257 - val_loss: 3.5841\n",
      "Epoch 22/200\n",
      "289/289 [==============================] - 35s 121ms/step - loss: 3.0880 - val_loss: 3.5683\n",
      "Epoch 23/200\n",
      "289/289 [==============================] - 35s 121ms/step - loss: 3.0520 - val_loss: 3.5539\n",
      "Epoch 24/200\n",
      "289/289 [==============================] - 35s 121ms/step - loss: 3.0165 - val_loss: 3.5400\n",
      "Epoch 25/200\n",
      "289/289 [==============================] - 35s 121ms/step - loss: 2.9838 - val_loss: 3.5279\n",
      "Epoch 26/200\n",
      "289/289 [==============================] - 35s 121ms/step - loss: 2.9513 - val_loss: 3.5170\n",
      "Epoch 27/200\n",
      "289/289 [==============================] - 35s 121ms/step - loss: 2.9217 - val_loss: 3.5062\n",
      "Epoch 28/200\n",
      "289/289 [==============================] - 35s 121ms/step - loss: 2.8923 - val_loss: 3.4968\n",
      "Epoch 29/200\n",
      "289/289 [==============================] - 35s 120ms/step - loss: 2.8636 - val_loss: 3.4880\n",
      "Epoch 30/200\n",
      "289/289 [==============================] - 35s 121ms/step - loss: 2.8370 - val_loss: 3.4802\n",
      "Epoch 31/200\n",
      "289/289 [==============================] - 35s 120ms/step - loss: 2.8097 - val_loss: 3.4731\n",
      "Epoch 32/200\n",
      "289/289 [==============================] - 35s 121ms/step - loss: 2.7852 - val_loss: 3.4657\n",
      "Epoch 33/200\n",
      "289/289 [==============================] - 35s 121ms/step - loss: 2.7613 - val_loss: 3.4592\n",
      "Epoch 34/200\n",
      "289/289 [==============================] - 35s 121ms/step - loss: 2.7369 - val_loss: 3.4534\n",
      "Epoch 35/200\n",
      "289/289 [==============================] - 35s 121ms/step - loss: 2.7137 - val_loss: 3.4479\n",
      "Epoch 36/200\n",
      "289/289 [==============================] - 35s 121ms/step - loss: 2.6914 - val_loss: 3.4426\n",
      "Epoch 37/200\n",
      "289/289 [==============================] - 35s 121ms/step - loss: 2.6696 - val_loss: 3.4381\n",
      "Epoch 38/200\n",
      "289/289 [==============================] - 35s 121ms/step - loss: 2.6488 - val_loss: 3.4341\n",
      "Epoch 39/200\n",
      "289/289 [==============================] - 35s 121ms/step - loss: 2.6274 - val_loss: 3.4287\n",
      "Epoch 40/200\n",
      "289/289 [==============================] - 35s 121ms/step - loss: 2.6076 - val_loss: 3.4253\n",
      "Epoch 41/200\n",
      "289/289 [==============================] - 35s 121ms/step - loss: 2.5883 - val_loss: 3.4224\n",
      "Epoch 42/200\n",
      "289/289 [==============================] - 35s 121ms/step - loss: 2.5684 - val_loss: 3.4186\n",
      "Epoch 43/200\n",
      "289/289 [==============================] - 35s 121ms/step - loss: 2.5499 - val_loss: 3.4155\n",
      "Epoch 44/200\n",
      "289/289 [==============================] - 35s 121ms/step - loss: 2.5314 - val_loss: 3.4138\n",
      "Epoch 45/200\n",
      "289/289 [==============================] - 35s 121ms/step - loss: 2.5131 - val_loss: 3.4109\n",
      "Epoch 46/200\n",
      "289/289 [==============================] - 35s 121ms/step - loss: 2.4956 - val_loss: 3.4082\n",
      "Epoch 47/200\n",
      "289/289 [==============================] - 35s 121ms/step - loss: 2.4779 - val_loss: 3.4061\n",
      "Epoch 48/200\n",
      "289/289 [==============================] - 35s 121ms/step - loss: 2.4627 - val_loss: 3.4048\n",
      "Epoch 49/200\n",
      "289/289 [==============================] - 35s 121ms/step - loss: 2.4455 - val_loss: 3.4027\n",
      "Epoch 50/200\n",
      "289/289 [==============================] - 35s 121ms/step - loss: 2.4284 - val_loss: 3.4011\n",
      "Epoch 51/200\n",
      "289/289 [==============================] - 35s 121ms/step - loss: 2.4145 - val_loss: 3.4002\n",
      "Epoch 52/200\n",
      "289/289 [==============================] - 35s 121ms/step - loss: 2.3970 - val_loss: 3.3988\n",
      "Epoch 53/200\n",
      "289/289 [==============================] - 35s 121ms/step - loss: 2.3830 - val_loss: 3.3973\n",
      "Epoch 54/200\n",
      "289/289 [==============================] - 35s 121ms/step - loss: 2.3677 - val_loss: 3.3962\n",
      "Epoch 55/200\n",
      "289/289 [==============================] - 35s 121ms/step - loss: 2.3530 - val_loss: 3.3962\n",
      "Epoch 56/200\n",
      "289/289 [==============================] - 35s 121ms/step - loss: 2.3383 - val_loss: 3.3954\n",
      "Epoch 57/200\n",
      "289/289 [==============================] - 35s 121ms/step - loss: 2.3235 - val_loss: 3.3954\n",
      "Epoch 58/200\n",
      "289/289 [==============================] - 35s 121ms/step - loss: 2.3095 - val_loss: 3.3959\n",
      "Epoch 59/200\n",
      "289/289 [==============================] - 35s 121ms/step - loss: 2.2962 - val_loss: 3.3945\n",
      "Epoch 60/200\n",
      "289/289 [==============================] - 35s 121ms/step - loss: 2.2824 - val_loss: 3.3951\n",
      "Epoch 61/200\n",
      "289/289 [==============================] - 35s 121ms/step - loss: 2.2684 - val_loss: 3.3937\n",
      "Epoch 62/200\n",
      "289/289 [==============================] - 35s 121ms/step - loss: 2.2565 - val_loss: 3.3945\n",
      "Epoch 63/200\n",
      "289/289 [==============================] - 35s 121ms/step - loss: 2.2429 - val_loss: 3.3955\n",
      "Epoch 64/200\n",
      "289/289 [==============================] - 35s 121ms/step - loss: 2.2296 - val_loss: 3.3951\n",
      "Epoch 65/200\n",
      "289/289 [==============================] - 35s 121ms/step - loss: 2.2176 - val_loss: 3.3947\n",
      "Epoch 66/200\n",
      "289/289 [==============================] - 35s 121ms/step - loss: 2.2039 - val_loss: 3.3961\n",
      "Epoch 00066: early stopping\n"
     ]
    }
   ],
   "source": [
    "# 모델 훈련하기\n",
    "from tensorflow.keras.optimizers import Adam\n",
    "# RMSprop은 주로 잡음이 많은 데이터셋에 특히 유용\n",
    "# model.compile(optimizer='rmsprop', loss='sparse_categorical_crossentropy')\n",
    "model.compile(optimizer=Adam(learning_rate=0.0001, beta_1=0.9, beta_2=0.999), loss='sparse_categorical_crossentropy')\n",
    "es = EarlyStopping(monitor='val_loss', patience=5, verbose=1)\n",
    "history = model.fit(x=[encoder_input_train, decoder_input_train], y=decoder_target_train, \\\n",
    "         validation_data=([encoder_input_test, decoder_input_test], decoder_target_test), \\\n",
    "         batch_size=256, callbacks=[es], epochs=200)"
   ]
  },
  {
   "cell_type": "code",
   "execution_count": 40,
   "metadata": {
    "colab": {
     "base_uri": "https://localhost:8080/",
     "height": 430
    },
    "id": "x_4zM2yFho7e",
    "outputId": "3c4f431c-7ebb-45b4-ac34-d30626fcaf85"
   },
   "outputs": [
    {
     "data": {
      "image/png": "[encoded data removed]",
      "text/plain": [
       "<Figure size 432x288 with 1 Axes>"
      ]
     },
     "metadata": {
      "needs_background": "light"
     },
     "output_type": "display_data"
    }
   ],
   "source": [
    "# 훈련 데이터의 손실과 검증 데이터의 손실이 줄어드는 과정을 시각화\n",
    "plt.plot(history.history['loss'], label='train')\n",
    "plt.plot(history.history['val_loss'], label='test')\n",
    "plt.legend()\n",
    "plt.show()"
   ]
  },
  {
   "cell_type": "code",
   "execution_count": 41,
   "metadata": {
    "id": "Au4_uDNghpBM"
   },
   "outputs": [],
   "source": [
    "# 인퍼런스(추론) 모델 구현\n",
    "src_index_to_word = src_tokenizer.index_word # 원문 단어 집합에서 정수 -> 단어를 얻음\n",
    "tar_word_to_index = tar_tokenizer.word_index # 요약 단어 집합에서 단어 -> 정수를 얻음\n",
    "tar_index_to_word = tar_tokenizer.index_word # 요약 단어 집합에서 정수 -> 단어를 얻음"
   ]
  },
  {
   "cell_type": "code",
   "execution_count": 42,
   "metadata": {
    "id": "gUVN6O0laYMt"
   },
   "outputs": [],
   "source": [
    "# 인코더 설계\n",
    "encoder_model = Model(inputs=encoder_inputs, outputs=[encoder_output3, state_h3, state_c3])\n",
    "\n",
    "# 이전 시점의 상태들을 저장하는 텐서\n",
    "decoder_state_input_h = Input(shape=(hidden_size,))\n",
    "decoder_state_input_c = Input(shape=(hidden_size,))\n",
    "\n",
    "dec_emb2 = dec_emb_layer(decoder_inputs)\n",
    "\n",
    "# 문장의 다음 단어를 예측하기 위해서 초기 상태(initial_state)를 이전 시점의 상태로 사용. 이는 뒤의 함수 decode_sequence()에 구현\n",
    "# 훈련 과정에서와 달리 LSTM의 리턴하는 은닉 상태와 셀 상태인 state_h와 state_c를 버리지 않음.\n",
    "decoder_outputs2, state_h2, state_c2 = decoder_lstm(dec_emb2, initial_state=[decoder_state_input_h, decoder_state_input_c])"
   ]
  },
  {
   "cell_type": "code",
   "execution_count": 43,
   "metadata": {
    "id": "2yO7TMF2ny-d"
   },
   "outputs": [],
   "source": [
    "# 어텐션 함수\n",
    "decoder_hidden_state_input = Input(shape=(text_max_len, hidden_size))\n",
    "attn_out_inf = attn_layer([decoder_outputs2, decoder_hidden_state_input])\n",
    "decoder_inf_concat = Concatenate(axis=-1, name='concat')([decoder_outputs2, attn_out_inf])\n",
    "\n",
    "# 디코더의 출력층\n",
    "decoder_outputs2 = decoder_softmax_layer(decoder_inf_concat)\n",
    "\n",
    "# 최종 디코더 모델\n",
    "decoder_model = Model(\n",
    "   [decoder_inputs] + [decoder_hidden_state_input,decoder_state_input_h, decoder_state_input_c],\n",
    "   [decoder_outputs2] + [state_h2, state_c2])"
   ]
  },
  {
   "cell_type": "code",
   "execution_count": 44,
   "metadata": {
    "id": "T1AigCdTnzFk"
   },
   "outputs": [],
   "source": [
    "def decode_sequence(input_seq):\n",
    "   # 입력으로부터 인코더의 상태를 얻음\n",
    "   e_out, e_h, e_c = encoder_model.predict(input_seq)\n",
    "\n",
    "    # <SOS>에 해당하는 토큰 생성\n",
    "    # 디코딩을 시작하기 위해 디코더에 입력될 첫 번째 토큰, 즉 \"시작 토큰\"을 설정하는 역할​\n",
    "   target_seq = np.zeros((1,1)) # target_seq는 2차원 배열로, 행이 1개이고 열이 1개, [[0]]\n",
    "   target_seq[0, 0] = tar_word_to_index['sostoken']\n",
    "\n",
    "   stop_condition = False\n",
    "   decoded_sentence = ''\n",
    "   while not stop_condition: # stop_condition이 True가 될 때까지 루프 반복\n",
    "\n",
    "       output_tokens, h, c = decoder_model.predict([target_seq] + [e_out, e_h, e_c]) # 이 코드는 현재의 입력 토큰 및 인코더의 출력 및 상태값을 사용하여 디코더로 다음 토큰을 예측\n",
    "       sampled_token_index = np.argmax(output_tokens[0, -1, :]) # 배치의 첫 번째 시퀀스(0), 시퀀스의 마지막 토큰(-1) 및 모든 어휘 확률 중 가장 가능성이 높은 다음 단어의 인덱스 선택\n",
    "       sampled_token = tar_index_to_word[sampled_token_index]\n",
    "\n",
    "       if (sampled_token!='eostoken'):\n",
    "           decoded_sentence += ' '+sampled_token\n",
    "\n",
    "       #  <eos>에 도달하거나 최대 길이를 넘으면 중단.\n",
    "       if (sampled_token == 'eostoken'  or len(decoded_sentence.split()) >= (headline_max_len-1)):\n",
    "           stop_condition = True\n",
    "\n",
    "       # 길이가 1인 타겟 시퀀스를 업데이트\n",
    "       target_seq = np.zeros((1,1))\n",
    "       target_seq[0, 0] = sampled_token_index\n",
    "\n",
    "       # 상태를 업데이트 합니다.\n",
    "       e_h, e_c = h, c\n",
    "\n",
    "   return decoded_sentence"
   ]
  },
  {
   "cell_type": "code",
   "execution_count": 45,
   "metadata": {
    "id": "s_ajRSC5nzMD"
   },
   "outputs": [],
   "source": [
    "# 원문의 정수 시퀀스를 텍스트 시퀀스로 변환\n",
    "def seq2text(input_seq):\n",
    "   temp=''\n",
    "   for i in input_seq:\n",
    "       if (i!=0):\n",
    "           temp = temp + src_index_to_word[i]+' '\n",
    "   return temp\n",
    "\n",
    "# 요약문의 정수 시퀀스를 텍스트 시퀀스로 변환\n",
    "def seq2summary(input_seq):\n",
    "   # [[YOUR CODE]]\n",
    "   temp=''\n",
    "   start_tok = tar_word_to_index['sostoken']\n",
    "   end_tok = tar_word_to_index['eostoken']\n",
    "\n",
    "   for i in input_seq:\n",
    "       if (i!=0 and i!=start_tok and i!=end_tok):\n",
    "           temp = temp + tar_index_to_word[i]+' '\n",
    "   return temp"
   ]
  },
  {
   "cell_type": "code",
   "execution_count": 69,
   "metadata": {
    "colab": {
     "base_uri": "https://localhost:8080/"
    },
    "id": "JjC_0dcknzSL",
    "outputId": "f236af7f-fdd8-4561-d99a-63fdbeeda713",
    "scrolled": true
   },
   "outputs": [
    {
     "name": "stdout",
     "output_type": "stream",
     "text": [
      "원문 : amid us sanctions that prevent venezuela from accessing foreign currency the price of kilogram of cheese hit million bolivar this comes as the country plans economic reforms including new banknotes that cut five off its fast depreciating currency recently the international monetary fund has estimated that in venezuela could cross this year \n",
      "실제 요약 : value of kg cheese hits million in venezuela \n",
      "예측 요약 :  us currency prices in us on currency in\n",
      "\n",
      "\n",
      "원문 : prime minister narendra modi will hold bilateral talks with the president of switzerland alain and prime minister of sweden stefan during his davos visit to attend the world economic forum annual meeting pm modi tweeted am confident that these bilateral meetings would be fruitful and give boost to our relations with these countries \n",
      "실제 요약 : pm modi to meet swiss prez swedish pm during davos visit \n",
      "예측 요약 :  to pm modi to open new new new new year of\n",
      "\n",
      "\n",
      "원문 : vegetable seller in maharashtra has filed police complaint after he won crore in state lottery but later found out that his ticket was fake when he went to the state lottery department kadam was told that there were three for the same kadam said he feels embarrassed whenever people congratulate him for the lottery \n",
      "실제 요약 : vegetable seller wins cr lottery finds out ticket is fake \n",
      "예측 요약 :  ex woman in case of woman who was in yrs of\n",
      "\n",
      "\n",
      "원문 : south african batsman hashim amla who scored two tons for kings xi punjab in last year ipl went unsold during the ipl auction on saturday former rajasthan royals batsman shane watson was sold to csk for crore chris woakes was bought by rcb for crore while windies carlos brathwaite was sold to sunrisers hyderabad for crore \n",
      "실제 요약 : amla who scored tons in last ipl goes unsold \n",
      "예측 요약 :  who is the new man in the world\n",
      "\n",
      "\n",
      "원문 : french publication quoted former french president francois hollande saying that pm narendra modi led government proposed anil ambani reliance defence as partner for rafale deal dassault negotiated with ambani we did not have choice added hollande the defence ministry said that neither indian government nor the french government had any say in the commercial decision \n",
      "실제 요약 : indian govt proposed anil ambani reliance for rafale \n",
      "예측 요약 :  to launch on govt in govt on rafale deal\n",
      "\n",
      "\n"
     ]
    }
   ],
   "source": [
    "# 테스트 데이터 약 50개의 샘플에 대해서 실제 요약과 예측된 요약을 비교\n",
    "\n",
    "for i in range(0, 5):\n",
    "   print(\"원문 :\", seq2text(encoder_input_test[i]))\n",
    "   print(\"실제 요약 :\", seq2summary(decoder_input_test[i]))\n",
    "   print(\"예측 요약 :\", decode_sequence(encoder_input_test[i].reshape(1, text_max_len)))\n",
    "   print(\"\\n\")"
   ]
  },
  {
   "cell_type": "code",
   "execution_count": 53,
   "metadata": {
    "id": "lJFq42DcnzYR"
   },
   "outputs": [
    {
     "name": "stdout",
     "output_type": "stream",
     "text": [
      "3.6.5\n",
      "2.6.0\n",
      "1.3.3\n",
      "1.2.0\n"
     ]
    }
   ],
   "source": [
    "# SMMMA 추출적 요약 구현\n",
    "# 라이브러리 임포트\n",
    "from importlib.metadata import version\n",
    "import nltk\n",
    "import tensorflow\n",
    "from summa.summarizer import summarize\n",
    "import pandas as pd\n",
    "\n",
    "print(nltk.__version__)\n",
    "print(tensorflow.__version__)\n",
    "print(pd.__version__)\n",
    "print(version('summa'))"
   ]
  },
  {
   "cell_type": "code",
   "execution_count": 54,
   "metadata": {
    "id": "vFYI9c2GnzeY"
   },
   "outputs": [
    {
     "data": {
      "text/html": [
       "<div>\n",
       "<style scoped>\n",
       "    .dataframe tbody tr th:only-of-type {\n",
       "        vertical-align: middle;\n",
       "    }\n",
       "\n",
       "    .dataframe tbody tr th {\n",
       "        vertical-align: top;\n",
       "    }\n",
       "\n",
       "    .dataframe thead th {\n",
       "        text-align: right;\n",
       "    }\n",
       "</style>\n",
       "<table border=\"1\" class=\"dataframe\">\n",
       "  <thead>\n",
       "    <tr style=\"text-align: right;\">\n",
       "      <th></th>\n",
       "      <th>headlines</th>\n",
       "      <th>text</th>\n",
       "    </tr>\n",
       "  </thead>\n",
       "  <tbody>\n",
       "    <tr>\n",
       "      <th>78206</th>\n",
       "      <td>Woman runs record 838 km on treadmill, Guinnes...</td>\n",
       "      <td>Amy Hughes, a 29-year-old British woman, ran 8...</td>\n",
       "    </tr>\n",
       "    <tr>\n",
       "      <th>84611</th>\n",
       "      <td>Cong accepts challenge of ousting BJP in MP: K...</td>\n",
       "      <td>Accusing the state government of being respons...</td>\n",
       "    </tr>\n",
       "    <tr>\n",
       "      <th>13238</th>\n",
       "      <td>4-yr-old girl dies after being attacked by str...</td>\n",
       "      <td>A four-year-old girl died after being attacked...</td>\n",
       "    </tr>\n",
       "    <tr>\n",
       "      <th>82110</th>\n",
       "      <td>UP CM rejects proposal to buy new Mercedes for...</td>\n",
       "      <td>Uttar Pradesh Chief Minister Yogi Adityanath o...</td>\n",
       "    </tr>\n",
       "    <tr>\n",
       "      <th>73888</th>\n",
       "      <td>Samosa weighing over 150 kg breaks world recor...</td>\n",
       "      <td>A samosa weighing over 153 kilograms set the G...</td>\n",
       "    </tr>\n",
       "    <tr>\n",
       "      <th>70544</th>\n",
       "      <td>Ready to be Prime Ministerial candidate: Rahul...</td>\n",
       "      <td>When asked at the University of California whe...</td>\n",
       "    </tr>\n",
       "    <tr>\n",
       "      <th>24091</th>\n",
       "      <td>Would get intellectuals shot if I was Home Min...</td>\n",
       "      <td>Karnataka BJP MLA Basanagouda Patil Yatnal on ...</td>\n",
       "    </tr>\n",
       "    <tr>\n",
       "      <th>78277</th>\n",
       "      <td>Sikka will not think of leaving Infosys: Co-ch...</td>\n",
       "      <td>On being asked if CEO Vishal Sikka would turn ...</td>\n",
       "    </tr>\n",
       "    <tr>\n",
       "      <th>81546</th>\n",
       "      <td>Arm supplier accused in 1993 Mumbai blasts arr...</td>\n",
       "      <td>Qadeer Ahmed, who is accused of smuggling weap...</td>\n",
       "    </tr>\n",
       "    <tr>\n",
       "      <th>98224</th>\n",
       "      <td>Parrikar credits Rahul Gandhi for BJP's victor...</td>\n",
       "      <td>Goa Chief Minister Manohar Parrikar has mockin...</td>\n",
       "    </tr>\n",
       "  </tbody>\n",
       "</table>\n",
       "</div>"
      ],
      "text/plain": [
       "                                               headlines  \\\n",
       "78206  Woman runs record 838 km on treadmill, Guinnes...   \n",
       "84611  Cong accepts challenge of ousting BJP in MP: K...   \n",
       "13238  4-yr-old girl dies after being attacked by str...   \n",
       "82110  UP CM rejects proposal to buy new Mercedes for...   \n",
       "73888  Samosa weighing over 150 kg breaks world recor...   \n",
       "70544  Ready to be Prime Ministerial candidate: Rahul...   \n",
       "24091  Would get intellectuals shot if I was Home Min...   \n",
       "78277  Sikka will not think of leaving Infosys: Co-ch...   \n",
       "81546  Arm supplier accused in 1993 Mumbai blasts arr...   \n",
       "98224  Parrikar credits Rahul Gandhi for BJP's victor...   \n",
       "\n",
       "                                                    text  \n",
       "78206  Amy Hughes, a 29-year-old British woman, ran 8...  \n",
       "84611  Accusing the state government of being respons...  \n",
       "13238  A four-year-old girl died after being attacked...  \n",
       "82110  Uttar Pradesh Chief Minister Yogi Adityanath o...  \n",
       "73888  A samosa weighing over 153 kilograms set the G...  \n",
       "70544  When asked at the University of California whe...  \n",
       "24091  Karnataka BJP MLA Basanagouda Patil Yatnal on ...  \n",
       "78277  On being asked if CEO Vishal Sikka would turn ...  \n",
       "81546  Qadeer Ahmed, who is accused of smuggling weap...  \n",
       "98224  Goa Chief Minister Manohar Parrikar has mockin...  "
      ]
     },
     "execution_count": 54,
     "metadata": {},
     "output_type": "execute_result"
    }
   ],
   "source": [
    "# 데이터 로드\n",
    "import urllib.request\n",
    "urllib.request.urlretrieve(\"https://raw.githubusercontent.com/sunnysai12345/News_Summary/master/news_summary_more.csv\", filename=\"news_summary_more.csv\")\n",
    "data = pd.read_csv('news_summary_more.csv', encoding='iso-8859-1')\n",
    "data.sample(10)"
   ]
  },
  {
   "cell_type": "code",
   "execution_count": 55,
   "metadata": {
    "id": "0m48-Y7MaYSo"
   },
   "outputs": [
    {
     "name": "stdout",
     "output_type": "stream",
     "text": [
      "<class 'pandas.core.frame.DataFrame'>\n",
      "RangeIndex: 98401 entries, 0 to 98400\n",
      "Data columns (total 2 columns):\n",
      " #   Column     Non-Null Count  Dtype \n",
      "---  ------     --------------  ----- \n",
      " 0   headlines  98401 non-null  object\n",
      " 1   text       98401 non-null  object\n",
      "dtypes: object(2)\n",
      "memory usage: 1.5+ MB\n"
     ]
    }
   ],
   "source": [
    "# 데이터 확인\n",
    "data.info()"
   ]
  },
  {
   "cell_type": "code",
   "execution_count": 63,
   "metadata": {},
   "outputs": [
    {
     "name": "stdout",
     "output_type": "stream",
     "text": [
      "[원문]\n",
      "Saurav Kant, an alumnus of upGrad and IIIT-B's PG Program in Machine learning and Artificial Intelligence, was a Sr Systems Engineer at Infosys with almost 5 years of work experience. The program and upGrad's 360-degree career support helped him transition to a Data Scientist at Tech Mahindra with 90% salary hike. upGrad's Online Power Learning has powered 3 lakh+ careers.\n",
      "[실제 요약]\n",
      "upGrad learner switches to career in ML & Al with 90% salary hike\n",
      "[예측 요약]\n",
      "upGrad's Online Power Learning has powered 3 lakh+ careers.\n",
      "================================================================================\n",
      "[원문]\n",
      "Kunal Shah's credit card bill payment platform, CRED, gave users a chance to win free food from Swiggy for one year. Pranav Kaushik, a Delhi techie, bagged this reward after spending 2000 CRED coins. Users get one CRED coin per rupee of bill paid, which can be used to avail rewards from brands like Ixigo, BookMyShow, UberEats, Cult.Fit and more.\n",
      "[실제 요약]\n",
      "Delhi techie wins free food from Swiggy for one year on CRED\n",
      "[예측 요약]\n",
      "Users get one CRED coin per rupee of bill paid, which can be used to avail rewards from brands like Ixigo, BookMyShow, UberEats, Cult.Fit and more.\n",
      "================================================================================\n",
      "[원문]\n",
      "New Zealand defeated India by 8 wickets in the fourth ODI at Hamilton on Thursday to win their first match of the five-match ODI series. India lost an international match under Rohit Sharma's captaincy after 12 consecutive victories dating back to March 2018. The match witnessed India getting all out for 92, their seventh lowest total in ODI cricket history.\n",
      "[실제 요약]\n",
      "New Zealand end Rohit Sharma-led India's 12-match winning streak\n",
      "[예측 요약]\n",
      "The match witnessed India getting all out for 92, their seventh lowest total in ODI cricket history.\n",
      "================================================================================\n",
      "[원문]\n",
      "With Aegon Life iTerm Insurance plan, customers can enjoy tax benefits on your premiums paid and save up to Ã¢ÂÂ¹46,800^ on taxes. The plan provides life cover up to the age of 100 years. Also, customers have options to insure against Critical Illnesses, Disability and Accidental Death Benefit Rider with a life cover up to the age of 80 years.\n",
      "[실제 요약]\n",
      "Aegon life iTerm insurance plan helps customers save tax\n",
      "[예측 요약]\n",
      "Also, customers have options to insure against Critical Illnesses, Disability and Accidental Death Benefit Rider with a life cover up to the age of 80 years.\n",
      "================================================================================\n",
      "[원문]\n",
      "Speaking about the sexual harassment allegations against Rajkumar Hirani, Sonam Kapoor said, \"I've known Hirani for many years...What if it's not true, the [#MeToo] movement will get derailed.\" \"In the #MeToo movement, I always believe a woman. But in this case, we need to reserve our judgment,\" she added. Hirani has been accused by an assistant who worked in 'Sanju'.\n",
      "[실제 요약]\n",
      "Have known Hirani for yrs, what if MeToo claims are not true: Sonam\n",
      "[예측 요약]\n",
      "Speaking about the sexual harassment allegations against Rajkumar Hirani, Sonam Kapoor said, \"I've known Hirani for many years...What if it's not true, the [#MeToo] movement will get derailed.\" \"In the #MeToo movement, I always believe a woman.\n",
      "================================================================================\n"
     ]
    }
   ],
   "source": [
    "# ratio를 정하기 위해 다양한 값으로 테스트 => 0.6으로 결정\n",
    "for i in range(0, 5):\n",
    "    text = data.iloc[i]['text']\n",
    "    print(f'[원문]\\n{text}')\n",
    "    headline = data.iloc[i]['headlines']\n",
    "    print(f'[실제 요약]\\n{headline}')\n",
    "    summary = summarize(text, ratio=0.6)\n",
    "    print(f'[예측 요약]\\n{summary}')\n",
    "    print('='*80)"
   ]
  },
  {
   "cell_type": "code",
   "execution_count": 71,
   "metadata": {},
   "outputs": [],
   "source": [
    "# Summa summarize()로 요약 추출\n",
    "def custom_summary(text):\n",
    "    summarized = summarize(text, ratio=0.6) # ratio =0.6\n",
    "    words = summarized.split()\n",
    "    if len(words) > 12: # 기사 타이틀이 15 단어가 넘으면 절삭\n",
    "        return ' '.join(words[:12])\n",
    "    return summarized\n",
    "\n",
    "data['summary'] = data['text'].apply(custom_summary)"
   ]
  },
  {
   "cell_type": "code",
   "execution_count": 73,
   "metadata": {},
   "outputs": [
    {
     "name": "stdout",
     "output_type": "stream",
     "text": [
      "[Article]: Saurav Kant, an alumnus of upGrad and IIIT-B's PG Program in Machine learning and Artificial Intelligence, was a Sr Systems Engineer at Infosys with almost 5 years of work experience. The program and upGrad's 360-degree career support helped him transition to a Data Scientist at Tech Mahindra with 90% salary hike. upGrad's Online Power Learning has powered 3 lakh+ careers.\n",
      "[Headlines]: upGrad learner switches to career in ML & Al with 90% salary hike\n",
      "[Summary]: upGrad's Online Power Learning has powered 3 lakh+ careers.\n",
      "--------------------------------------------------------------------------------\n",
      "[Article]: Kunal Shah's credit card bill payment platform, CRED, gave users a chance to win free food from Swiggy for one year. Pranav Kaushik, a Delhi techie, bagged this reward after spending 2000 CRED coins. Users get one CRED coin per rupee of bill paid, which can be used to avail rewards from brands like Ixigo, BookMyShow, UberEats, Cult.Fit and more.\n",
      "[Headlines]: Delhi techie wins free food from Swiggy for one year on CRED\n",
      "[Summary]: Users get one CRED coin per rupee of bill paid, which can be used to\n",
      "--------------------------------------------------------------------------------\n",
      "[Article]: New Zealand defeated India by 8 wickets in the fourth ODI at Hamilton on Thursday to win their first match of the five-match ODI series. India lost an international match under Rohit Sharma's captaincy after 12 consecutive victories dating back to March 2018. The match witnessed India getting all out for 92, their seventh lowest total in ODI cricket history.\n",
      "[Headlines]: New Zealand end Rohit Sharma-led India's 12-match winning streak\n",
      "[Summary]: The match witnessed India getting all out for 92, their seventh lowest total in ODI\n",
      "--------------------------------------------------------------------------------\n",
      "[Article]: With Aegon Life iTerm Insurance plan, customers can enjoy tax benefits on your premiums paid and save up to Ã¢ÂÂ¹46,800^ on taxes. The plan provides life cover up to the age of 100 years. Also, customers have options to insure against Critical Illnesses, Disability and Accidental Death Benefit Rider with a life cover up to the age of 80 years.\n",
      "[Headlines]: Aegon life iTerm insurance plan helps customers save tax\n",
      "[Summary]: Also, customers have options to insure against Critical Illnesses, Disability and Accidental Death Benefit Rider\n",
      "--------------------------------------------------------------------------------\n",
      "[Article]: Speaking about the sexual harassment allegations against Rajkumar Hirani, Sonam Kapoor said, \"I've known Hirani for many years...What if it's not true, the [#MeToo] movement will get derailed.\" \"In the #MeToo movement, I always believe a woman. But in this case, we need to reserve our judgment,\" she added. Hirani has been accused by an assistant who worked in 'Sanju'.\n",
      "[Headlines]: Have known Hirani for yrs, what if MeToo claims are not true: Sonam\n",
      "[Summary]: Speaking about the sexual harassment allegations against Rajkumar Hirani, Sonam Kapoor said, \"I've known Hirani\n",
      "--------------------------------------------------------------------------------\n"
     ]
    }
   ],
   "source": [
    "# sampled_data = data.sample(3)\n",
    "sampled_data = data.head(5)\n",
    "\n",
    "for idx, row in sampled_data.iterrows():\n",
    "    print(f\"[Article]: {row['text']}\")\n",
    "    print(f\"[Headlines]: {row['headlines']}\")\n",
    "    print(f\"[Summary]: {row['summary']}\")\n",
    "    print(\"-\" * 80)"
   ]
  },
  {
   "cell_type": "code",
   "execution_count": null,
   "metadata": {},
   "outputs": [],
   "source": []
  }
 ],
 "metadata": {
  "accelerator": "GPU",
  "colab": {
   "gpuType": "T4",
   "provenance": []
  },
  "kernelspec": {
   "display_name": "Python 3 (ipykernel)",
   "language": "python",
   "name": "python3"
  },
  "language_info": {
   "codemirror_mode": {
    "name": "ipython",
    "version": 3
   },
   "file_extension": ".py",
   "mimetype": "text/x-python",
   "name": "python",
   "nbconvert_exporter": "python",
   "pygments_lexer": "ipython3",
   "version": "3.9.7"
  }
 },
 "nbformat": 4,
 "nbformat_minor": 1
}
