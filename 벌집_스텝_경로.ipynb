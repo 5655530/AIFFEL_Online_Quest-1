{
  "nbformat": 4,
  "nbformat_minor": 0,
  "metadata": {
    "colab": {
      "provenance": [],
      "authorship_tag": "ABX9TyPtRei/qYa195VoSJOsHXZQ",
      "include_colab_link": true
    },
    "kernelspec": {
      "name": "python3",
      "display_name": "Python 3"
    },
    "language_info": {
      "name": "python"
    }
  },
  "cells": [
    {
      "cell_type": "markdown",
      "metadata": {
        "id": "view-in-github",
        "colab_type": "text"
      },
      "source": [
        "<a href=\"https://colab.research.google.com/github/comandi1969/AIFFEL_Online_Quest/blob/main/%EB%B2%8C%EC%A7%91_%EC%8A%A4%ED%85%9D_%EA%B2%BD%EB%A1%9C.ipynb\" target=\"_parent\"><img src=\"https://colab.research.google.com/assets/colab-badge.svg\" alt=\"Open In Colab\"/></a>"
      ]
    },
    {
      "cell_type": "code",
      "execution_count": 1,
      "metadata": {
        "colab": {
          "base_uri": "https://localhost:8080/"
        },
        "id": "camPE07qelg5",
        "outputId": "ac83c890-6c80-4979-a200-ed57001f5b36"
      },
      "outputs": [
        {
          "output_type": "stream",
          "name": "stdout",
          "text": [
            "Enter room number: 56\n",
            "Minimum number of rooms to pass: 5\n"
          ]
        }
      ],
      "source": [
        "def calculate_steps_to_room(n):\n",
        "    if n == 1:\n",
        "        return 1  # Already at the center room\n",
        "\n",
        "    ring = 0\n",
        "    room = 1\n",
        "    step = 1\n",
        "\n",
        "    while room < n:\n",
        "        # Each ring has 6 * ring rooms\n",
        "        ring += 1\n",
        "        room += 6 * ring\n",
        "        step += 1\n",
        "\n",
        "    return step\n",
        "\n",
        "# Example usage\n",
        "room_number = int(input(\"Enter room number: \"))\n",
        "steps = calculate_steps_to_room(room_number)\n",
        "print(f\"Minimum number of rooms to pass: {steps}\")\n"
      ]
    }
  ]
}