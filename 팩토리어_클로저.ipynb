{
  "nbformat": 4,
  "nbformat_minor": 0,
  "metadata": {
    "colab": {
      "provenance": [],
      "authorship_tag": "ABX9TyOm/pTIzpIxzd/BzGfn6o/0",
      "include_colab_link": true
    },
    "kernelspec": {
      "name": "python3",
      "display_name": "Python 3"
    },
    "language_info": {
      "name": "python"
    }
  },
  "cells": [
    {
      "cell_type": "markdown",
      "metadata": {
        "id": "view-in-github",
        "colab_type": "text"
      },
      "source": [
        "<a href=\"https://colab.research.google.com/github/comandi1969/AIFFEL_Online_Quest/blob/main/%ED%8C%A9%ED%86%A0%EB%A6%AC%EC%96%B4_%ED%81%B4%EB%A1%9C%EC%A0%80.ipynb\" target=\"_parent\"><img src=\"https://colab.research.google.com/assets/colab-badge.svg\" alt=\"Open In Colab\"/></a>"
      ]
    },
    {
      "cell_type": "code",
      "execution_count": 1,
      "metadata": {
        "colab": {
          "base_uri": "https://localhost:8080/"
        },
        "id": "C6lyyEgv8q3b",
        "outputId": "1385715f-99bb-497a-c20b-523387b32c77"
      },
      "outputs": [
        {
          "output_type": "stream",
          "name": "stdout",
          "text": [
            "1000\n"
          ]
        }
      ],
      "source": [
        "def in_cache(func):\n",
        "    cache = {}\n",
        "    def wrapper(n):\n",
        "        print(cache) ## !!!!\n",
        "        if n in cache:\n",
        "            return cache[n]\n",
        "        else:\n",
        "            cache[n] = func(n)\n",
        "            return cache[n]\n",
        "    return wrapper\n",
        "\n",
        "\n",
        "def factorial(n):\n",
        "    ret = 1\n",
        "    for i in range(1, n+1):\n",
        "        ret *= i\n",
        "    return ret\n",
        "\n",
        "factorial = in_cache(factorial)\n",
        "\n",
        "factorial(5)"
      ]
    }
  ]
}