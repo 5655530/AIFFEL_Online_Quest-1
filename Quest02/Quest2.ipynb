{
  "nbformat": 4,
  "nbformat_minor": 0,
  "metadata": {
    "colab": {
      "provenance": [],
      "toc_visible": true,
      "include_colab_link": true
    },
    "kernelspec": {
      "name": "python3",
      "display_name": "Python 3"
    },
    "language_info": {
      "name": "python"
    }
  },
  "cells": [
    {
      "cell_type": "markdown",
      "metadata": {
        "id": "view-in-github",
        "colab_type": "text"
      },
      "source": [
        "<a href=\"https://colab.research.google.com/github/comandi1969/AIFFEL_Online_Quest/blob/main/Quest02/Quest2.ipynb\" target=\"_parent\"><img src=\"https://colab.research.google.com/assets/colab-badge.svg\" alt=\"Open In Colab\"/></a>"
      ]
    },
    {
      "cell_type": "code",
      "execution_count": 7,
      "metadata": {
        "colab": {
          "base_uri": "https://localhost:8080/"
        },
        "id": "NUqKATCExxTI",
        "outputId": "e538ceed-8bf9-4676-ff2f-5e994e1478d2"
      },
      "outputs": [
        {
          "output_type": "stream",
          "name": "stdout",
          "text": [
            "'########### 초기값 ###########'\n",
            "[   [0, 1, 0, 0, 0],\n",
            "    [0, 0, 0, 1, 0],\n",
            "    [0, 1, 1, 0, 0],\n",
            "    [0, 0, 1, 1, 0],\n",
            "    [0, 0, 0, 0, 0]]\n",
            "turtle_pos in maze 0\n",
            "다음행으로 이동\n",
            "1\n",
            "[[0, 1, 0, 0, 0],\n",
            " [0, 0, 0, 1, 0],\n",
            " [2, 1, 1, 0, 0],\n",
            " [0, 0, 1, 1, 0],\n",
            " [0, 0, 0, 0, 0]]\n",
            "다시반복\n",
            "########### 업데이트된 값 ###########\n",
            "[[0, 1, 0, 0, 0],\n",
            " [0, 0, 0, 1, 0],\n",
            " [2, 1, 1, 0, 0],\n",
            " [0, 0, 1, 1, 0],\n",
            " [0, 0, 0, 0, 0]]\n"
          ]
        }
      ],
      "source": [
        "# x로 이동했다면 인풋에서 값을 2로 변경한다\n",
        "# 1) 만약 maze 의 다음 행렬값이 터틀의 현재 X위치 +1이 0이면, 터틀의 위치를 업데이트\n",
        "# 2) 만약 maze의 같은 행, 다음 열값이 0이면, 터틀의 현재위치X에 1을 더하여 할당한다\n",
        "\n",
        "# 2) 만약 maze의 같은 열, 다음 행값이 0이면, 터틀의 현재위치Y에 1을 더하여 할당한다\n",
        "\n",
        "from pprint import pprint\n",
        "# import turtle\n",
        "\n",
        "# 초기값 예시\n",
        "maze = [[0, 1, 0, 0, 0],\n",
        "        [0, 0, 0, 1, 0],\n",
        "        [0, 1, 1, 0, 0],\n",
        "        [0, 0, 1, 1, 0],\n",
        "        [0, 0, 0, 0, 0]]\n",
        "# pprint(maze)\n",
        "\n",
        "pprint(\"########### 초기값 ###########\")\n",
        "pprint(maze, indent=4, width=20)\n",
        "\n",
        "\n",
        "row = 0\n",
        "col = 0\n",
        "\n",
        "\n",
        "# 첫번째 좌표도 업데이트 하자\n",
        "# turtle_pos = [row][col]\n",
        "print('turtle_pos in maze', maze[row][col])\n",
        "\n",
        "#\n",
        "if row < 4 and col < 4:\n",
        "    if maze[row + 1][col] == 0:\n",
        "        print('다음행으로 이동')\n",
        "\n",
        "      # 1) 이동가능하면현재 위치 업데이트\n",
        "        row += 1\n",
        "        print(row)\n",
        "      # 2) maze 해당 원소 값 2로 업데이트한다.\n",
        "        maze[row + 1][col] = 2  # 지나갔다\n",
        "        pprint(maze)\n",
        "\n",
        "    elif maze[row][col+1] == 0:\n",
        "        print('다음 열로 이동')\n",
        "\n",
        "      # 1) 이동가능하면현재 위치 업데이트\n",
        "        col += 1\n",
        "        print(col)\n",
        "      # 2) maze 해당 원소 값 2로 업데이트한다.\n",
        "        maze[row + 1][col] = 2  # 지나갔다\n",
        "        pprint(maze)\n",
        "\n",
        "  # x, y값이 4보다 작은가? 작다면 반복\n",
        "  # 같다면 종료\n",
        "    print('다시반복')\n",
        "\n",
        "    # else:\n",
        "    #     print('이동 불가')\n",
        "\n",
        "\n",
        "# 현재좌표가 [4,4인지] 확인한다. 맞으면 반복문 종료한다\n",
        "\n",
        "print(\"########### 업데이트된 값 ###########\")\n",
        "pprint(maze)\n",
        "\n",
        "row += 1\n",
        "turtle_pos = [row, col]\n",
        "# print(turtle_pos)\n",
        "# row += 1\n",
        "\n",
        "# maze[row][col] = 2\n",
        "# pprint(maze)\n",
        "\n",
        "\n",
        "# if cur[0]\n",
        "# maze[0][0] = 2\n",
        "# pprint(maze)\n"
      ]
    }
  ]
}