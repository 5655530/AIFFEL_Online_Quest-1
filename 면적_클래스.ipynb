{
  "nbformat": 4,
  "nbformat_minor": 0,
  "metadata": {
    "colab": {
      "provenance": [],
      "authorship_tag": "ABX9TyOtCZ63Md3TTMfGIAO9a648",
      "include_colab_link": true
    },
    "kernelspec": {
      "name": "python3",
      "display_name": "Python 3"
    },
    "language_info": {
      "name": "python"
    }
  },
  "cells": [
    {
      "cell_type": "markdown",
      "metadata": {
        "id": "view-in-github",
        "colab_type": "text"
      },
      "source": [
        "<a href=\"https://colab.research.google.com/github/comandi1969/AIFFEL_Online_Quest/blob/main/%EB%A9%B4%EC%A0%81_%ED%81%B4%EB%9E%98%EC%8A%A4.ipynb\" target=\"_parent\"><img src=\"https://colab.research.google.com/assets/colab-badge.svg\" alt=\"Open In Colab\"/></a>"
      ]
    },
    {
      "cell_type": "code",
      "execution_count": 15,
      "metadata": {
        "colab": {
          "base_uri": "https://localhost:8080/"
        },
        "id": "pb-HodpOT4ST",
        "outputId": "ca248825-9f03-4322-e50b-cf40c71bd48d"
      },
      "outputs": [
        {
          "output_type": "stream",
          "name": "stdout",
          "text": [
            "넓이를 구하고 싶은 사각형의 숫자를 써주세요.\n",
            " 1.직사각형 2.평행사변형 3.사다리꼴 \n",
            " >>>3\n",
            "사다리꼴 함수는 trapezoid()입니다.\n",
            "밑변, 윗변, 높이를 입력하세요. 예시 : 밑변,밑변,높이\n",
            " >>>3,2,1\n",
            "사다리꼴의 넓이는 : 2.5\n"
          ]
        }
      ],
      "source": [
        "class Square:\n",
        "    def __init__(self):  # 생성자__init__의 매개변수의 첫번째는 self여야 합니다.\n",
        "        self.square = int(input('넓이를 구하고 싶은 사각형의 숫자를 써주세요.\\n 1.직사각형 2.평행사변형 3.사다리꼴 \\n >>>'))  # 입력값을 int로 묶어야 합니다.\n",
        "\n",
        "        if self.square == 1:\n",
        "            print('직사각형 함수는 rectangle()입니다.')  # Square 클래스에 rectangle() 메서드를 추가합니다.\n",
        "            print(self.rectangle())\n",
        "\n",
        "        elif self.square == 2:\n",
        "            print('평행사변형 함수는 parallelogram()입니다.')  # Square 클래스에 parallelogram() 메서드를 추가합니다.\n",
        "            print(self.parallelogram())\n",
        "\n",
        "        elif self.square == 3:\n",
        "            print('사다리꼴 함수는 trapezoid()입니다.')  # Square 클래스에 trapezoid() 메서드를 추가합니다.\n",
        "            print(self.trapezoid())\n",
        "\n",
        "        else:\n",
        "            print('1, 2, 3 중에서 다시 입력해주세요')\n",
        "\n",
        "    def rectangle(self):  # 직사각형의 넓이를 구하는 메서드\n",
        "        width, height = map(int, input('가로, 세로를 입력하세요. 예시 : 가로,세로\\n >>>').strip('\\s').split(','))  #가로, 세로를 입력받는 코드\n",
        "        area = width * height  # 직사각형의 넓이를 구하는 공식\n",
        "        result = '직사각형의 넓이는 : ' + str(area)\n",
        "        return result\n",
        "\n",
        "    def parallelogram(self):  # 평행사변형의 넓이를 구하는 메서드\n",
        "        base, height = map(int, input('밑변, 높이를 입력하세요. 예시 : 밑변,높이\\n >>>').strip('\\s').split(','))  #밑변, 높이를 입력받는 코드\n",
        "        area = base * height  # 평행사변형의 넓이를 구하는 공식\n",
        "        result = '평행사변형의 넓이는 : ' + str(area)\n",
        "        return result\n",
        "\n",
        "    def trapezoid(self):  # 사다리꼴의 넓이를 구하는 메서드\n",
        "        base, upside, height = map(int, input('밑변, 윗변, 높이를 입력하세요. 예시 : 밑변,밑변,높이\\n >>>').strip('\\s').split(','))  #밑변, 높이를 입력받는 코드\n",
        "        area = ((base + upside) * height) / 2  # 사다리꼴의 넓이를 구하는 공식\n",
        "        result = '사다리꼴의 넓이는 : ' + str(area)\n",
        "        return result\n",
        "\n",
        "x = Square()\n",
        "\n"
      ]
    }
  ]
}