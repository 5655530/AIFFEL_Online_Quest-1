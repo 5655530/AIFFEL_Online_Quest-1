{
  "nbformat": 4,
  "nbformat_minor": 0,
  "metadata": {
    "colab": {
      "provenance": [],
      "authorship_tag": "ABX9TyPKp1dA+At/UmN7OQiYI+hz",
      "include_colab_link": true
    },
    "kernelspec": {
      "name": "python3",
      "display_name": "Python 3"
    },
    "language_info": {
      "name": "python"
    }
  },
  "cells": [
    {
      "cell_type": "markdown",
      "metadata": {
        "id": "view-in-github",
        "colab_type": "text"
      },
      "source": [
        "<a href=\"https://colab.research.google.com/github/comandi1969/AIFFEL_Online_Quest/blob/main/%EC%A0%9C%EB%84%88%EB%A0%88%EC%9D%B4%ED%84%B0.ipynb\" target=\"_parent\"><img src=\"https://colab.research.google.com/assets/colab-badge.svg\" alt=\"Open In Colab\"/></a>"
      ]
    },
    {
      "cell_type": "code",
      "execution_count": null,
      "metadata": {
        "id": "nCT445ZeODLH"
      },
      "outputs": [],
      "source": [
        "def my_generator(data):\n",
        "    for item in data:\n",
        "        yield item\n",
        "\n",
        "my_list = [1, 2, 3, 4, 5]\n",
        "my_generator_obj = my_generator(my_list)\n",
        "\n",
        "for item in my_generator_obj:\n",
        "    print(item)\n"
      ]
    }
  ]
}