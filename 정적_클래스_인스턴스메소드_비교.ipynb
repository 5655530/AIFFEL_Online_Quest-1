{
  "nbformat": 4,
  "nbformat_minor": 0,
  "metadata": {
    "colab": {
      "provenance": [],
      "authorship_tag": "ABX9TyMUM+TAdvTsxL280igF/ZKz",
      "include_colab_link": true
    },
    "kernelspec": {
      "name": "python3",
      "display_name": "Python 3"
    },
    "language_info": {
      "name": "python"
    }
  },
  "cells": [
    {
      "cell_type": "markdown",
      "metadata": {
        "id": "view-in-github",
        "colab_type": "text"
      },
      "source": [
        "<a href=\"https://colab.research.google.com/github/comandi1969/AIFFEL_Online_Quest/blob/main/%EC%A0%95%EC%A0%81_%ED%81%B4%EB%9E%98%EC%8A%A4_%EC%9D%B8%EC%8A%A4%ED%84%B4%EC%8A%A4%EB%A9%94%EC%86%8C%EB%93%9C_%EB%B9%84%EA%B5%90.ipynb\" target=\"_parent\"><img src=\"https://colab.research.google.com/assets/colab-badge.svg\" alt=\"Open In Colab\"/></a>"
      ]
    },
    {
      "cell_type": "code",
      "execution_count": 6,
      "metadata": {
        "colab": {
          "base_uri": "https://localhost:8080/"
        },
        "id": "BaYLw3jctYOH",
        "outputId": "075dabe9-f958-47c6-a370-8d5db779a856"
      },
      "outputs": [
        {
          "output_type": "stream",
          "name": "stdout",
          "text": [
            "50\n",
            "10\n",
            "16\n",
            "16\n"
          ]
        }
      ],
      "source": [
        "class MyClass:\n",
        "    class_variable = 10\n",
        "\n",
        "    def __init__(self, instance_variable):\n",
        "        self.instance_variable = instance_variable\n",
        "\n",
        "    @staticmethod\n",
        "    def static_method(x):\n",
        "        return x ** 2\n",
        "\n",
        "    @classmethod\n",
        "    def class_method(cls, x):\n",
        "        return cls.class_variable * x\n",
        "\n",
        "    def instance_method(self, x):\n",
        "        return self.instance_variable + x\n",
        "\n",
        "\n",
        "# 클래스 메소드와 인스턴스 메소드의 호출 방식\n",
        "print(MyClass.class_method(5))  # 50\n",
        "my_instance = MyClass(7)\n",
        "print(my_instance.instance_method(3))  # 10\n",
        "\n",
        "# 정적 메소드의 호출 방식\n",
        "print(MyClass.static_method(4))  # 16\n",
        "print(my_instance.static_method(4))  # 16\n"
      ]
    }
  ]
}