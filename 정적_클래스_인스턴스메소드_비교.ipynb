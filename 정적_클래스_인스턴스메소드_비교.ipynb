{
  "nbformat": 4,
  "nbformat_minor": 0,
  "metadata": {
    "colab": {
      "provenance": [],
      "authorship_tag": "ABX9TyOm85iSw2Z8E8gcFaU1WdRM",
      "include_colab_link": true
    },
    "kernelspec": {
      "name": "python3",
      "display_name": "Python 3"
    },
    "language_info": {
      "name": "python"
    }
  },
  "cells": [
    {
      "cell_type": "markdown",
      "metadata": {
        "id": "view-in-github",
        "colab_type": "text"
      },
      "source": [
        "<a href=\"https://colab.research.google.com/github/comandi1969/AIFFEL_Online_Quest/blob/main/%EC%A0%95%EC%A0%81_%ED%81%B4%EB%9E%98%EC%8A%A4_%EC%9D%B8%EC%8A%A4%ED%84%B4%EC%8A%A4%EB%A9%94%EC%86%8C%EB%93%9C_%EB%B9%84%EA%B5%90.ipynb\" target=\"_parent\"><img src=\"https://colab.research.google.com/assets/colab-badge.svg\" alt=\"Open In Colab\"/></a>"
      ]
    },
    {
      "cell_type": "code",
      "execution_count": 7,
      "metadata": {
        "colab": {
          "base_uri": "https://localhost:8080/"
        },
        "id": "BaYLw3jctYOH",
        "outputId": "d6b08f8f-301d-4134-ac3d-66f43fbe52c1"
      },
      "outputs": [
        {
          "output_type": "stream",
          "name": "stdout",
          "text": [
            "MyClass.class_method(5) : 50\n",
            "10\n",
            "16\n",
            "16\n"
          ]
        }
      ],
      "source": [
        "class MyClass:\n",
        "    class_variable = 10 # 클래스 속성\n",
        "\n",
        "    def __init__(self, instance_variable):\n",
        "        self.instance_variable = instance_variable # 인스턴스 속성\n",
        "\n",
        "    @staticmethod\n",
        "    def static_method(x):\n",
        "        return x ** 2\n",
        "\n",
        "    @classmethod\n",
        "    def class_method(cls, x):\n",
        "        return cls.class_variable * x # 클래스 속성인 class_variable에 접근\n",
        "\n",
        "    def instance_method(self, x):\n",
        "        return self.instance_variable + x\n",
        "\n",
        "\n",
        "# 클래스 메소드와 인스턴스 메소드의 호출 방식\n",
        "print(f'MyClass.class_method(5) : {MyClass.class_method(5)}')  # 50, 인스턴스 없어 바로 클래스 이름(MyClass)으로 클래스 메소(class_method)드 호출\n",
        "my_instance = MyClass(7) # 메소드 호출을 위해 인스턴스(my_instance) 생성 후 인스턴스 속성 self.instance_variable=7 할당\n",
        "print(my_instance.instance_method(3))  # 10, 인스턴스 속성(self.instance_variable) 값(7)에 메소드 매개변수(x) 값(3)을 더해 값(10)을 리턴\n",
        "\n",
        "# 정적 메소드의 호출 방식\n",
        "print(MyClass.static_method(4))  # 16, MyClass\n",
        "print(my_instance.static_method(4))  # 16\n"
      ]
    }
  ]
}